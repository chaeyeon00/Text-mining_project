{
 "cells": [
  {
   "cell_type": "code",
   "execution_count": 4,
   "metadata": {
    "id": "Z8qgriQVxPcy"
   },
   "outputs": [],
   "source": [
    "#Step 0. 필요한 모듈과 라이브러리를 로딩합니다.\n",
    "import sys\n",
    "import os\n",
    "import pandas as pd\n",
    "import numpy as np\n",
    "import openpyxl\n",
    "from datetime import datetime, timedelta\n",
    "\n",
    "\n",
    "from bs4 import BeautifulSoup\n",
    "from selenium import webdriver\n",
    "from selenium.webdriver.common.by import By\n",
    "import time\n",
    "import tqdm\n",
    "from tqdm.notebook import tqdm"
   ]
  },
  {
   "cell_type": "code",
   "execution_count": 2,
   "metadata": {
    "id": "XIuExYrExPc5"
   },
   "outputs": [],
   "source": []
  },
  {
   "cell_type": "code",
   "execution_count": 6,
   "metadata": {},
   "outputs": [],
   "source": [
    "query_txt='디즈니플러스 '"
   ]
  },
  {
   "cell_type": "markdown",
   "metadata": {},
   "source": [
    "## 대표프로그램 에 대한 사용자 컨텐츠 가져오기"
   ]
  },
  {
   "cell_type": "code",
   "execution_count": 3,
   "metadata": {},
   "outputs": [
    {
     "data": {
      "text/html": [
       "<div>\n",
       "<style scoped>\n",
       "    .dataframe tbody tr th:only-of-type {\n",
       "        vertical-align: middle;\n",
       "    }\n",
       "\n",
       "    .dataframe tbody tr th {\n",
       "        vertical-align: top;\n",
       "    }\n",
       "\n",
       "    .dataframe thead th {\n",
       "        text-align: right;\n",
       "    }\n",
       "</style>\n",
       "<table border=\"1\" class=\"dataframe\">\n",
       "  <thead>\n",
       "    <tr style=\"text-align: right;\">\n",
       "      <th></th>\n",
       "      <th>제목</th>\n",
       "      <th>장르</th>\n",
       "    </tr>\n",
       "  </thead>\n",
       "  <tbody>\n",
       "    <tr>\n",
       "      <th>0</th>\n",
       "      <td>만달로리안</td>\n",
       "      <td>스페이스 오페라</td>\n",
       "    </tr>\n",
       "    <tr>\n",
       "      <th>1</th>\n",
       "      <td>필사의 도전</td>\n",
       "      <td>역사 드라마</td>\n",
       "    </tr>\n",
       "    <tr>\n",
       "      <th>2</th>\n",
       "      <td>완다비전</td>\n",
       "      <td>슈퍼히어로, 시트콤</td>\n",
       "    </tr>\n",
       "    <tr>\n",
       "      <th>3</th>\n",
       "      <td>팔콘과 윈터 솔져</td>\n",
       "      <td>슈퍼히어로, 액션</td>\n",
       "    </tr>\n",
       "    <tr>\n",
       "      <th>4</th>\n",
       "      <td>로키</td>\n",
       "      <td>슈퍼히어로, 판타지</td>\n",
       "    </tr>\n",
       "    <tr>\n",
       "      <th>...</th>\n",
       "      <td>...</td>\n",
       "      <td>...</td>\n",
       "    </tr>\n",
       "    <tr>\n",
       "      <th>59</th>\n",
       "      <td>비하인드 어트랙션</td>\n",
       "      <td>다큐멘터리</td>\n",
       "    </tr>\n",
       "    <tr>\n",
       "      <th>60</th>\n",
       "      <td>자라나는 동물들</td>\n",
       "      <td>자연</td>\n",
       "    </tr>\n",
       "    <tr>\n",
       "      <th>61</th>\n",
       "      <td>스파크 스토리</td>\n",
       "      <td>다큐멘터리</td>\n",
       "    </tr>\n",
       "    <tr>\n",
       "      <th>62</th>\n",
       "      <td>우주 속으로</td>\n",
       "      <td>다큐멘터리</td>\n",
       "    </tr>\n",
       "    <tr>\n",
       "      <th>63</th>\n",
       "      <td>The Beatles: Get Back</td>\n",
       "      <td>다큐멘터리</td>\n",
       "    </tr>\n",
       "  </tbody>\n",
       "</table>\n",
       "<p>64 rows × 2 columns</p>\n",
       "</div>"
      ],
      "text/plain": [
       "                       제목          장르\n",
       "0                   만달로리안    스페이스 오페라\n",
       "1                  필사의 도전      역사 드라마\n",
       "2                    완다비전  슈퍼히어로, 시트콤\n",
       "3               팔콘과 윈터 솔져   슈퍼히어로, 액션\n",
       "4                      로키  슈퍼히어로, 판타지\n",
       "..                    ...         ...\n",
       "59              비하인드 어트랙션       다큐멘터리\n",
       "60               자라나는 동물들          자연\n",
       "61                스파크 스토리       다큐멘터리\n",
       "62                 우주 속으로       다큐멘터리\n",
       "63  The Beatles: Get Back       다큐멘터리\n",
       "\n",
       "[64 rows x 2 columns]"
      ]
     },
     "execution_count": 3,
     "metadata": {},
     "output_type": "execute_result"
    }
   ],
   "source": [
    "disneey_df=pd.read_excel(r\"D:\\Python\\TM\\TeamProject/디즈니플러스.xlsx\")\n",
    "disneey_df"
   ]
  },
  {
   "cell_type": "code",
   "execution_count": 7,
   "metadata": {},
   "outputs": [
    {
     "name": "stdout",
     "output_type": "stream",
     "text": [
      "['디즈니플러스  만달로리안', '디즈니플러스  \\xa0필사의 도전', '디즈니플러스  완다비전', '디즈니플러스  팔콘과 윈터 솔져', '디즈니플러스  로키', '디즈니플러스  베네딕트 비밀클럽', '디즈니플러스  천재소녀 두기', '디즈니플러스  호크아이', '디즈니플러스  하이 스쿨 뮤지컬: 뮤지컬: 시리즈', '디즈니플러스  나의 대통령 일기', '디즈니플러스  마이티 덕: 게임 체인저', '디즈니플러스  빅샷', '디즈니플러스  터너와 후치', '디즈니플러스  저스트 비욘드', '디즈니플러스  디즈니 얽히고 엮인 그녀들', '디즈니플러스  재미있는 디즈니 공작교실', '디즈니플러스  앙코르! 다시 무대로', '디즈니플러스  픽사', '디즈니플러스  리얼 라이프, 픽사', '디즈니플러스  샵 클래스: 어린 공학자', '디즈니플러스  도전! 디즈니 셰프', '디즈니플러스  빅 핍: 누구의 거짓말?', '디즈니플러스  머펫 나우', '디즈니플러스  지구에서 네드에게', '디즈니플러스  로빈 로버츠: 세상을 토론하다', '디즈니플러스  런닝맨: 뛰는 놈 위에 노는 놈', '디즈니플러스  포키는 궁금한 게 많아요', '디즈니플러스  스파크쇼츠', '디즈니플러스  디즈니 애니메이션 스튜디오 단편 모음', '디즈니플러스  제니메이션', '디즈니플러스  미키마우스의 즐거운 세상', '디즈니플러스  픽사 팝콘', '디즈니플러스  스타워즈: 배드 배치', '디즈니플러스  몬스터 근무일지', '디즈니플러스  칩 앤 데일: 파크 라이프', '디즈니플러스  What If...?', '디즈니플러스  구피가 집에서 잘 지내는 방법', '디즈니플러스  더그의 일상', '디즈니플러스  스타워즈: 비전스', '디즈니플러스  올라프가 전해요', '디즈니플러스  제프 골드블럼의 호기심 세계', '디즈니플러스  이매지니어링 스토리', '디즈니플러스  마블의 영웅 프로젝트', '디즈니플러스  디즈니의 평범한 하루 (단편)', '디즈니플러스  도전! 안내견', '디즈니플러스  디즈니 인사이더', '디즈니플러스  소품과 영화', '디즈니플러스  디즈니 갤러리 / 스타워즈: 만달로리안', '디즈니플러스  숨겨진 세상: 겨울왕국2 메이킹', '디즈니플러스  별난 여행', '디즈니플러스  디즈니 애니멀 킹덤의 행복한 동물 세상', '디즈니플러스  우리 침팬지를 소개합니다', '디즈니플러스  인사이드 픽사', '디즈니플러스  진정한 필사의 도전', '디즈니플러스  마블 616', '디즈니플러스  토슈즈', '디즈니플러스  마블 스튜디오 어셈블드', '디즈니플러스  지구를 느끼다', '디즈니플러스  고래의 비밀', '디즈니플러스  비하인드 어트랙션', '디즈니플러스  자라나는 동물들', '디즈니플러스  스파크 스토리', '디즈니플러스  우주 속으로', '디즈니플러스  The Beatles: Get Back']\n"
     ]
    }
   ],
   "source": [
    "query_list= disneey_df[\"제목\"].tolist()\n",
    "query_list = [query_txt + \" \" + i for i in query_list]\n",
    "print(query_list)"
   ]
  },
  {
   "cell_type": "markdown",
   "metadata": {},
   "source": [
    "### step 1. 대표프로그램 중 50개의 프로그램에 대해서 블로그 검색 URL  가져오기"
   ]
  },
  {
   "cell_type": "code",
   "execution_count": 8,
   "metadata": {},
   "outputs": [
    {
     "name": "stderr",
     "output_type": "stream",
     "text": [
      "<ipython-input-8-1f17cd855318>:7: DeprecationWarning: executable_path has been deprecated, please pass in a Service object\n",
      "  driver = webdriver.Chrome(r\"D:\\Python\\TM\\drivers\\chromedriver.exe\")\n",
      "<ipython-input-8-1f17cd855318>:15: DeprecationWarning: find_element_by_* commands are deprecated. Please use find_element() instead\n",
      "  element = driver.find_element_by_id(\"query\")\n",
      "<ipython-input-8-1f17cd855318>:21: DeprecationWarning: find_element_by_* commands are deprecated. Please use find_element() instead\n",
      "  driver.find_element_by_link_text(\"VIEW\").click( )\n",
      "<ipython-input-8-1f17cd855318>:24: DeprecationWarning: find_element_by_* commands are deprecated. Please use find_element() instead\n",
      "  driver.find_element_by_link_text(\"블로그\").click( )    # .click() 괄호 안을 눌러라는 뜻\n",
      "<ipython-input-8-1f17cd855318>:29: DeprecationWarning: find_element_by_* commands are deprecated. Please use find_element() instead\n",
      "  driver.find_element_by_xpath('//*[@id=\"snb\"]/div[1]/div/div[2]/a').click( )\n",
      "<ipython-input-8-1f17cd855318>:33: DeprecationWarning: find_element_by_* commands are deprecated. Please use find_element() instead\n",
      "  driver.find_element_by_xpath('//*[@id=\"snb\"]/div[2]/ul/li[2]/div/div/a[1]').click( )  # 정렬 버튼의 xpath 클릭\n",
      "<ipython-input-8-1f17cd855318>:38: DeprecationWarning: find_element_by_* commands are deprecated. Please use find_element() instead\n",
      "  driver.find_element_by_xpath('//*[@id=\"snb\"]/div[1]/div/div[2]/a').click( )\n"
     ]
    }
   ],
   "source": [
    "data_param={}\n",
    "\n",
    "for title in query_list[:50] :\n",
    "    #Step 1. 크롬 웹브라우저 실행\n",
    "    path = \"D:\\Python\\TM\\drivers\\chromedriver.exe\"\n",
    "\n",
    "    driver = webdriver.Chrome(r\"D:\\Python\\TM\\drivers\\chromedriver.exe\")\n",
    "    # 사이트 주소는 네이버\n",
    "    driver.get('http://www.naver.com')\n",
    "    time.sleep(2)\n",
    "    \n",
    "    try : \n",
    "    \n",
    "        #Step 2. 네이버 검색창에 \"검색어\" 검색\n",
    "        element = driver.find_element_by_id(\"query\")\n",
    "        element.send_keys(title)  \n",
    "        element.submit()\n",
    "\n",
    "        time.sleep(2)\n",
    "        #Step 3. \"VIEW\" 카테고리 선택\n",
    "        driver.find_element_by_link_text(\"VIEW\").click( )\n",
    "        time.sleep(2)\n",
    "        #Step 3-1. \"블로그\" 카테고리 선택\n",
    "        driver.find_element_by_link_text(\"블로그\").click( )    # .click() 괄호 안을 눌러라는 뜻\n",
    "\n",
    "        time.sleep(2)\n",
    "\n",
    "        #Step 4. 오른쪽의 검색 옵션 버튼 클릭\n",
    "        driver.find_element_by_xpath('//*[@id=\"snb\"]/div[1]/div/div[2]/a').click( )\n",
    "\n",
    "        #Step 5. 정렬 : \"관련도순\" \n",
    "        time.sleep(2)\n",
    "        driver.find_element_by_xpath('//*[@id=\"snb\"]/div[2]/ul/li[2]/div/div/a[1]').click( )  # 정렬 버튼의 xpath 클릭\n",
    "\n",
    "        time.sleep(2)\n",
    "\n",
    "        #Step 6. 날짜 입력을 위해서 옵션 재클릭 후 \" 기간 6개월 선택\"\n",
    "        driver.find_element_by_xpath('//*[@id=\"snb\"]/div[1]/div/div[2]/a').click( )\n",
    "        time.sleep(2)\n",
    "        #driver.find_element_by_xpath('//*[@id=\"snb\"]/div[2]/ul/li[3]/div/div[1]/a[7]').click()\n",
    "        driver.find_element(By.XPATH,'//*[contains(text(),\"6개월\") and @class=\"txt\"]').click()\n",
    "        data_param[title]=driver.find_element(By.XPATH,'//*[contains(text(),\"6개월\") and @class=\"txt\"]').get_attribute('data-param')\n",
    "        \n",
    "    except :\n",
    "        driver.close()\n",
    "        time.sleep(1)\n",
    "        continue\n",
    "        \n",
    "    driver.close()\n",
    "    "
   ]
  },
  {
   "cell_type": "markdown",
   "metadata": {},
   "source": [
    "### step 2 대표프로그램 중 50개의 프로그램에 대해서 블로그 검색 및 URL 정보에 들어가서 각 블로그 정보 크롤링"
   ]
  },
  {
   "cell_type": "code",
   "execution_count": 9,
   "metadata": {},
   "outputs": [],
   "source": [
    "def find_blogPage(movies_titles) :\n",
    "    url_list = []\n",
    "    title_list = []\n",
    "    date_list = []\n",
    "    driver = webdriver.Chrome(r\"D:\\Python\\TM\\drivers\\chromedriver.exe\")\n",
    "    \n",
    "    for k, v in movies_titles.items():\n",
    "        # ★몇개의 페이지를 크롤링할지 선택\n",
    "        total_page = 2 \n",
    "        for i in tqdm(range(1, total_page)):  # 페이지 번호\n",
    "            #i = i*10 + 1\n",
    "            print(i)\n",
    "            url = \"https://search.naver.com/search.naver?&query={0}&sm=tab_opt&{1}&where=post&start={2}\".format(\"+\".join(k.split()),v,i)\n",
    "            print(url)\n",
    "            driver.get(url)\n",
    "            time.sleep(2)\n",
    "\n",
    "            # URL 크롤링 시작\n",
    "            article_raw = driver.find_elements(By.XPATH, \"//a[@class= 'api_txt_lines total_tit']\")\n",
    "\n",
    "            # url 크롤링 시작    \n",
    "            for article in article_raw:\n",
    "                url = article.get_attribute('href')   \n",
    "                url_list.append(url)\n",
    "\n",
    "            # 제목 크롤링 시작    \n",
    "            for article in article_raw:\n",
    "                title = article.text\n",
    "                title_list.append(title)\n",
    "\n",
    "\n",
    "            # 업로드 날짜 크롤링 시작\n",
    "            article_date = driver.find_elements(By.XPATH,'//span[@class= \"sub_time sub_txt\"]')\n",
    "\n",
    "            for artice in article_date :\n",
    "                if \"전\" in artice.text  or artice.text in \"어제\" :\n",
    "                    if \"일\" in artice.text   :\n",
    "                        date = (datetime.today() - timedelta(int(artice.text[0]))).strftime(\"%Y.%m.%d.\")\n",
    "                    elif \"어제\" in artice.text :\n",
    "                        date=(( datetime.today() - timedelta(1)).strftime(\"%Y.%m.%d.\")) \n",
    "                    else :\n",
    "                        date=datetime.now().strftime(\"%Y.%m.%d\")\n",
    "\n",
    "                else :\n",
    "                    date  = artice.text\n",
    "                date_list.append(date)\n",
    "                \n",
    "                \n",
    "    print('url갯수: ', len(url_list))\n",
    "    print('url갯수: ', len(title_list))\n",
    "    print('url갯수: ', len(date_list))\n",
    "\n",
    "    df = pd.DataFrame({'url':url_list, 'title':title_list, 'date' : date_list })\n",
    "    \n",
    "    #driver.close()\n",
    "    return df"
   ]
  },
  {
   "cell_type": "code",
   "execution_count": 10,
   "metadata": {},
   "outputs": [
    {
     "name": "stderr",
     "output_type": "stream",
     "text": [
      "<ipython-input-9-443d4b312203>:5: DeprecationWarning: executable_path has been deprecated, please pass in a Service object\n",
      "  driver = webdriver.Chrome(r\"D:\\Python\\TM\\drivers\\chromedriver.exe\")\n"
     ]
    },
    {
     "data": {
      "application/vnd.jupyter.widget-view+json": {
       "model_id": "bdb7287f156a4a5087a77d6c4899ca8d",
       "version_major": 2,
       "version_minor": 0
      },
      "text/plain": [
       "  0%|          | 0/1 [00:00<?, ?it/s]"
      ]
     },
     "metadata": {},
     "output_type": "display_data"
    },
    {
     "name": "stdout",
     "output_type": "stream",
     "text": [
      "1\n",
      "https://search.naver.com/search.naver?&query=디즈니플러스+만달로리안&sm=tab_opt&nso=so%3Ar%2Cp%3A6m&where=post&start=1\n"
     ]
    },
    {
     "data": {
      "application/vnd.jupyter.widget-view+json": {
       "model_id": "b9c0594d048f4170ae54a2eba40d540b",
       "version_major": 2,
       "version_minor": 0
      },
      "text/plain": [
       "  0%|          | 0/1 [00:00<?, ?it/s]"
      ]
     },
     "metadata": {},
     "output_type": "display_data"
    },
    {
     "name": "stdout",
     "output_type": "stream",
     "text": [
      "1\n",
      "https://search.naver.com/search.naver?&query=디즈니플러스+필사의+도전&sm=tab_opt&nso=so%3Ar%2Cp%3A6m&where=post&start=1\n"
     ]
    },
    {
     "data": {
      "application/vnd.jupyter.widget-view+json": {
       "model_id": "59d2040ecc0e40adbd1b7910857d85e8",
       "version_major": 2,
       "version_minor": 0
      },
      "text/plain": [
       "  0%|          | 0/1 [00:00<?, ?it/s]"
      ]
     },
     "metadata": {},
     "output_type": "display_data"
    },
    {
     "name": "stdout",
     "output_type": "stream",
     "text": [
      "1\n",
      "https://search.naver.com/search.naver?&query=디즈니플러스+완다비전&sm=tab_opt&nso=so%3Ar%2Cp%3A6m&where=post&start=1\n"
     ]
    },
    {
     "data": {
      "application/vnd.jupyter.widget-view+json": {
       "model_id": "7008e667f7a94cc28c0f3c59e2e35886",
       "version_major": 2,
       "version_minor": 0
      },
      "text/plain": [
       "  0%|          | 0/1 [00:00<?, ?it/s]"
      ]
     },
     "metadata": {},
     "output_type": "display_data"
    },
    {
     "name": "stdout",
     "output_type": "stream",
     "text": [
      "1\n",
      "https://search.naver.com/search.naver?&query=디즈니플러스+팔콘과+윈터+솔져&sm=tab_opt&nso=so%3Ar%2Cp%3A6m&where=post&start=1\n"
     ]
    },
    {
     "data": {
      "application/vnd.jupyter.widget-view+json": {
       "model_id": "81eafe05b14945ababc3fc990ea74194",
       "version_major": 2,
       "version_minor": 0
      },
      "text/plain": [
       "  0%|          | 0/1 [00:00<?, ?it/s]"
      ]
     },
     "metadata": {},
     "output_type": "display_data"
    },
    {
     "name": "stdout",
     "output_type": "stream",
     "text": [
      "1\n",
      "https://search.naver.com/search.naver?&query=디즈니플러스+로키&sm=tab_opt&nso=so%3Ar%2Cp%3A6m&where=post&start=1\n"
     ]
    },
    {
     "data": {
      "application/vnd.jupyter.widget-view+json": {
       "model_id": "0cf3fa4066f24154a9a2c547b0e15b09",
       "version_major": 2,
       "version_minor": 0
      },
      "text/plain": [
       "  0%|          | 0/1 [00:00<?, ?it/s]"
      ]
     },
     "metadata": {},
     "output_type": "display_data"
    },
    {
     "name": "stdout",
     "output_type": "stream",
     "text": [
      "1\n",
      "https://search.naver.com/search.naver?&query=디즈니플러스+베네딕트+비밀클럽&sm=tab_opt&nso=so%3Ar%2Cp%3A6m&where=post&start=1\n"
     ]
    },
    {
     "data": {
      "application/vnd.jupyter.widget-view+json": {
       "model_id": "1c7c3ab91d154d9c885476a318029027",
       "version_major": 2,
       "version_minor": 0
      },
      "text/plain": [
       "  0%|          | 0/1 [00:00<?, ?it/s]"
      ]
     },
     "metadata": {},
     "output_type": "display_data"
    },
    {
     "name": "stdout",
     "output_type": "stream",
     "text": [
      "1\n",
      "https://search.naver.com/search.naver?&query=디즈니플러스+천재소녀+두기&sm=tab_opt&nso=so%3Ar%2Cp%3A6m&where=post&start=1\n"
     ]
    },
    {
     "data": {
      "application/vnd.jupyter.widget-view+json": {
       "model_id": "c0374573d8bb4d02993cbd86189604f4",
       "version_major": 2,
       "version_minor": 0
      },
      "text/plain": [
       "  0%|          | 0/1 [00:00<?, ?it/s]"
      ]
     },
     "metadata": {},
     "output_type": "display_data"
    },
    {
     "name": "stdout",
     "output_type": "stream",
     "text": [
      "1\n",
      "https://search.naver.com/search.naver?&query=디즈니플러스+호크아이&sm=tab_opt&nso=so%3Ar%2Cp%3A6m&where=post&start=1\n"
     ]
    },
    {
     "data": {
      "application/vnd.jupyter.widget-view+json": {
       "model_id": "ca2ad4b6c3004287b300cb9bd7ad20c4",
       "version_major": 2,
       "version_minor": 0
      },
      "text/plain": [
       "  0%|          | 0/1 [00:00<?, ?it/s]"
      ]
     },
     "metadata": {},
     "output_type": "display_data"
    },
    {
     "name": "stdout",
     "output_type": "stream",
     "text": [
      "1\n",
      "https://search.naver.com/search.naver?&query=디즈니플러스+하이+스쿨+뮤지컬:+뮤지컬:+시리즈&sm=tab_opt&nso=so%3Ar%2Cp%3A6m&where=post&start=1\n"
     ]
    },
    {
     "data": {
      "application/vnd.jupyter.widget-view+json": {
       "model_id": "74ef358954b14ddea5293c446c33abbc",
       "version_major": 2,
       "version_minor": 0
      },
      "text/plain": [
       "  0%|          | 0/1 [00:00<?, ?it/s]"
      ]
     },
     "metadata": {},
     "output_type": "display_data"
    },
    {
     "name": "stdout",
     "output_type": "stream",
     "text": [
      "1\n",
      "https://search.naver.com/search.naver?&query=디즈니플러스+나의+대통령+일기&sm=tab_opt&nso=so%3Ar%2Cp%3A6m&where=post&start=1\n"
     ]
    },
    {
     "data": {
      "application/vnd.jupyter.widget-view+json": {
       "model_id": "98a0864b884e4c5c8380eb33a45bce5e",
       "version_major": 2,
       "version_minor": 0
      },
      "text/plain": [
       "  0%|          | 0/1 [00:00<?, ?it/s]"
      ]
     },
     "metadata": {},
     "output_type": "display_data"
    },
    {
     "name": "stdout",
     "output_type": "stream",
     "text": [
      "1\n",
      "https://search.naver.com/search.naver?&query=디즈니플러스+마이티+덕:+게임+체인저&sm=tab_opt&nso=so%3Ar%2Cp%3A6m&where=post&start=1\n"
     ]
    },
    {
     "data": {
      "application/vnd.jupyter.widget-view+json": {
       "model_id": "72c74bf08edc46449a3c308a731c7d97",
       "version_major": 2,
       "version_minor": 0
      },
      "text/plain": [
       "  0%|          | 0/1 [00:00<?, ?it/s]"
      ]
     },
     "metadata": {},
     "output_type": "display_data"
    },
    {
     "name": "stdout",
     "output_type": "stream",
     "text": [
      "1\n",
      "https://search.naver.com/search.naver?&query=디즈니플러스+빅샷&sm=tab_opt&nso=so%3Ar%2Cp%3A6m&where=post&start=1\n"
     ]
    },
    {
     "data": {
      "application/vnd.jupyter.widget-view+json": {
       "model_id": "840780917b224017a8e7cc0789efd16b",
       "version_major": 2,
       "version_minor": 0
      },
      "text/plain": [
       "  0%|          | 0/1 [00:00<?, ?it/s]"
      ]
     },
     "metadata": {},
     "output_type": "display_data"
    },
    {
     "name": "stdout",
     "output_type": "stream",
     "text": [
      "1\n",
      "https://search.naver.com/search.naver?&query=디즈니플러스+터너와+후치&sm=tab_opt&nso=so%3Ar%2Cp%3A6m&where=post&start=1\n"
     ]
    },
    {
     "data": {
      "application/vnd.jupyter.widget-view+json": {
       "model_id": "6cb5276b9de441108a5cd9415486ad8b",
       "version_major": 2,
       "version_minor": 0
      },
      "text/plain": [
       "  0%|          | 0/1 [00:00<?, ?it/s]"
      ]
     },
     "metadata": {},
     "output_type": "display_data"
    },
    {
     "name": "stdout",
     "output_type": "stream",
     "text": [
      "1\n",
      "https://search.naver.com/search.naver?&query=디즈니플러스+저스트+비욘드&sm=tab_opt&nso=so%3Ar%2Cp%3A6m&where=post&start=1\n"
     ]
    },
    {
     "data": {
      "application/vnd.jupyter.widget-view+json": {
       "model_id": "582275875c5948dab5b91884e4d0fc87",
       "version_major": 2,
       "version_minor": 0
      },
      "text/plain": [
       "  0%|          | 0/1 [00:00<?, ?it/s]"
      ]
     },
     "metadata": {},
     "output_type": "display_data"
    },
    {
     "name": "stdout",
     "output_type": "stream",
     "text": [
      "1\n",
      "https://search.naver.com/search.naver?&query=디즈니플러스+디즈니+얽히고+엮인+그녀들&sm=tab_opt&nso=so%3Ar%2Cp%3A6m&where=post&start=1\n"
     ]
    },
    {
     "data": {
      "application/vnd.jupyter.widget-view+json": {
       "model_id": "2dfce2dd4dc340f0bc0e7861489108bd",
       "version_major": 2,
       "version_minor": 0
      },
      "text/plain": [
       "  0%|          | 0/1 [00:00<?, ?it/s]"
      ]
     },
     "metadata": {},
     "output_type": "display_data"
    },
    {
     "name": "stdout",
     "output_type": "stream",
     "text": [
      "1\n",
      "https://search.naver.com/search.naver?&query=디즈니플러스+재미있는+디즈니+공작교실&sm=tab_opt&nso=so%3Ar%2Cp%3A6m&where=post&start=1\n"
     ]
    },
    {
     "data": {
      "application/vnd.jupyter.widget-view+json": {
       "model_id": "71cb9a1ca05749b4ae7c727d670c9c2e",
       "version_major": 2,
       "version_minor": 0
      },
      "text/plain": [
       "  0%|          | 0/1 [00:00<?, ?it/s]"
      ]
     },
     "metadata": {},
     "output_type": "display_data"
    },
    {
     "name": "stdout",
     "output_type": "stream",
     "text": [
      "1\n",
      "https://search.naver.com/search.naver?&query=디즈니플러스+앙코르!+다시+무대로&sm=tab_opt&nso=so%3Ar%2Cp%3A6m&where=post&start=1\n"
     ]
    },
    {
     "data": {
      "application/vnd.jupyter.widget-view+json": {
       "model_id": "c8887d3c01634c559d56ccebb87c6ad4",
       "version_major": 2,
       "version_minor": 0
      },
      "text/plain": [
       "  0%|          | 0/1 [00:00<?, ?it/s]"
      ]
     },
     "metadata": {},
     "output_type": "display_data"
    },
    {
     "name": "stdout",
     "output_type": "stream",
     "text": [
      "1\n",
      "https://search.naver.com/search.naver?&query=디즈니플러스+픽사&sm=tab_opt&nso=so%3Ar%2Cp%3A6m&where=post&start=1\n"
     ]
    },
    {
     "data": {
      "application/vnd.jupyter.widget-view+json": {
       "model_id": "3c4d0c4287a84a36b975bc557f532493",
       "version_major": 2,
       "version_minor": 0
      },
      "text/plain": [
       "  0%|          | 0/1 [00:00<?, ?it/s]"
      ]
     },
     "metadata": {},
     "output_type": "display_data"
    },
    {
     "name": "stdout",
     "output_type": "stream",
     "text": [
      "1\n",
      "https://search.naver.com/search.naver?&query=디즈니플러스+리얼+라이프,+픽사&sm=tab_opt&nso=so%3Ar%2Cp%3A6m&where=post&start=1\n"
     ]
    },
    {
     "data": {
      "application/vnd.jupyter.widget-view+json": {
       "model_id": "bd35c5ba5ab6443a8399250b45e53c11",
       "version_major": 2,
       "version_minor": 0
      },
      "text/plain": [
       "  0%|          | 0/1 [00:00<?, ?it/s]"
      ]
     },
     "metadata": {},
     "output_type": "display_data"
    },
    {
     "name": "stdout",
     "output_type": "stream",
     "text": [
      "1\n",
      "https://search.naver.com/search.naver?&query=디즈니플러스+샵+클래스:+어린+공학자&sm=tab_opt&nso=so%3Ar%2Cp%3A6m&where=post&start=1\n"
     ]
    },
    {
     "data": {
      "application/vnd.jupyter.widget-view+json": {
       "model_id": "e49e491010ef4274999ba92c2dcfeb20",
       "version_major": 2,
       "version_minor": 0
      },
      "text/plain": [
       "  0%|          | 0/1 [00:00<?, ?it/s]"
      ]
     },
     "metadata": {},
     "output_type": "display_data"
    },
    {
     "name": "stdout",
     "output_type": "stream",
     "text": [
      "1\n",
      "https://search.naver.com/search.naver?&query=디즈니플러스+도전!+디즈니+셰프&sm=tab_opt&nso=so%3Ar%2Cp%3A6m&where=post&start=1\n"
     ]
    },
    {
     "data": {
      "application/vnd.jupyter.widget-view+json": {
       "model_id": "487437b272394660b21f47282b452544",
       "version_major": 2,
       "version_minor": 0
      },
      "text/plain": [
       "  0%|          | 0/1 [00:00<?, ?it/s]"
      ]
     },
     "metadata": {},
     "output_type": "display_data"
    },
    {
     "name": "stdout",
     "output_type": "stream",
     "text": [
      "1\n",
      "https://search.naver.com/search.naver?&query=디즈니플러스+빅+핍:+누구의+거짓말?&sm=tab_opt&nso=so%3Ar%2Cp%3A6m&where=post&start=1\n"
     ]
    },
    {
     "data": {
      "application/vnd.jupyter.widget-view+json": {
       "model_id": "5458cf418be1403bba7b83f8fec11b9d",
       "version_major": 2,
       "version_minor": 0
      },
      "text/plain": [
       "  0%|          | 0/1 [00:00<?, ?it/s]"
      ]
     },
     "metadata": {},
     "output_type": "display_data"
    },
    {
     "name": "stdout",
     "output_type": "stream",
     "text": [
      "1\n",
      "https://search.naver.com/search.naver?&query=디즈니플러스+머펫+나우&sm=tab_opt&nso=so%3Ar%2Cp%3A6m&where=post&start=1\n"
     ]
    },
    {
     "data": {
      "application/vnd.jupyter.widget-view+json": {
       "model_id": "160ff14f8d264d4c9d5759e9ef9a3aff",
       "version_major": 2,
       "version_minor": 0
      },
      "text/plain": [
       "  0%|          | 0/1 [00:00<?, ?it/s]"
      ]
     },
     "metadata": {},
     "output_type": "display_data"
    },
    {
     "name": "stdout",
     "output_type": "stream",
     "text": [
      "1\n",
      "https://search.naver.com/search.naver?&query=디즈니플러스+지구에서+네드에게&sm=tab_opt&nso=so%3Ar%2Cp%3A6m&where=post&start=1\n"
     ]
    },
    {
     "data": {
      "application/vnd.jupyter.widget-view+json": {
       "model_id": "439a80574da14e0198c94f5cff6fb5f5",
       "version_major": 2,
       "version_minor": 0
      },
      "text/plain": [
       "  0%|          | 0/1 [00:00<?, ?it/s]"
      ]
     },
     "metadata": {},
     "output_type": "display_data"
    },
    {
     "name": "stdout",
     "output_type": "stream",
     "text": [
      "1\n",
      "https://search.naver.com/search.naver?&query=디즈니플러스+로빈+로버츠:+세상을+토론하다&sm=tab_opt&nso=so%3Ar%2Cp%3A6m&where=post&start=1\n"
     ]
    },
    {
     "data": {
      "application/vnd.jupyter.widget-view+json": {
       "model_id": "678dff38e58641c5a101bbfd2036c500",
       "version_major": 2,
       "version_minor": 0
      },
      "text/plain": [
       "  0%|          | 0/1 [00:00<?, ?it/s]"
      ]
     },
     "metadata": {},
     "output_type": "display_data"
    },
    {
     "name": "stdout",
     "output_type": "stream",
     "text": [
      "1\n",
      "https://search.naver.com/search.naver?&query=디즈니플러스+런닝맨:+뛰는+놈+위에+노는+놈&sm=tab_opt&nso=so%3Ar%2Cp%3A6m&where=post&start=1\n"
     ]
    },
    {
     "data": {
      "application/vnd.jupyter.widget-view+json": {
       "model_id": "86f17053a406494aa185e0b6ca51c98c",
       "version_major": 2,
       "version_minor": 0
      },
      "text/plain": [
       "  0%|          | 0/1 [00:00<?, ?it/s]"
      ]
     },
     "metadata": {},
     "output_type": "display_data"
    },
    {
     "name": "stdout",
     "output_type": "stream",
     "text": [
      "1\n",
      "https://search.naver.com/search.naver?&query=디즈니플러스+포키는+궁금한+게+많아요&sm=tab_opt&nso=so%3Ar%2Cp%3A6m&where=post&start=1\n"
     ]
    },
    {
     "data": {
      "application/vnd.jupyter.widget-view+json": {
       "model_id": "24d6f0684dc945f8bf62e19a25ce8002",
       "version_major": 2,
       "version_minor": 0
      },
      "text/plain": [
       "  0%|          | 0/1 [00:00<?, ?it/s]"
      ]
     },
     "metadata": {},
     "output_type": "display_data"
    },
    {
     "name": "stdout",
     "output_type": "stream",
     "text": [
      "1\n",
      "https://search.naver.com/search.naver?&query=디즈니플러스+스파크쇼츠&sm=tab_opt&nso=so%3Ar%2Cp%3A6m&where=post&start=1\n"
     ]
    },
    {
     "data": {
      "application/vnd.jupyter.widget-view+json": {
       "model_id": "fcc87b271bfe4e709d387b035589853d",
       "version_major": 2,
       "version_minor": 0
      },
      "text/plain": [
       "  0%|          | 0/1 [00:00<?, ?it/s]"
      ]
     },
     "metadata": {},
     "output_type": "display_data"
    },
    {
     "name": "stdout",
     "output_type": "stream",
     "text": [
      "1\n",
      "https://search.naver.com/search.naver?&query=디즈니플러스+디즈니+애니메이션+스튜디오+단편+모음&sm=tab_opt&nso=so%3Ar%2Cp%3A6m&where=post&start=1\n"
     ]
    },
    {
     "data": {
      "application/vnd.jupyter.widget-view+json": {
       "model_id": "d1acd551654c4cf397211d71d6b64b7a",
       "version_major": 2,
       "version_minor": 0
      },
      "text/plain": [
       "  0%|          | 0/1 [00:00<?, ?it/s]"
      ]
     },
     "metadata": {},
     "output_type": "display_data"
    },
    {
     "name": "stdout",
     "output_type": "stream",
     "text": [
      "1\n",
      "https://search.naver.com/search.naver?&query=디즈니플러스+제니메이션&sm=tab_opt&nso=so%3Ar%2Cp%3A6m&where=post&start=1\n"
     ]
    },
    {
     "data": {
      "application/vnd.jupyter.widget-view+json": {
       "model_id": "d8c073822c5a4c18a9e28f1ee47864d4",
       "version_major": 2,
       "version_minor": 0
      },
      "text/plain": [
       "  0%|          | 0/1 [00:00<?, ?it/s]"
      ]
     },
     "metadata": {},
     "output_type": "display_data"
    },
    {
     "name": "stdout",
     "output_type": "stream",
     "text": [
      "1\n",
      "https://search.naver.com/search.naver?&query=디즈니플러스+미키마우스의+즐거운+세상&sm=tab_opt&nso=so%3Ar%2Cp%3A6m&where=post&start=1\n"
     ]
    },
    {
     "data": {
      "application/vnd.jupyter.widget-view+json": {
       "model_id": "14d692758d664392b8b550f7b4a2b947",
       "version_major": 2,
       "version_minor": 0
      },
      "text/plain": [
       "  0%|          | 0/1 [00:00<?, ?it/s]"
      ]
     },
     "metadata": {},
     "output_type": "display_data"
    },
    {
     "name": "stdout",
     "output_type": "stream",
     "text": [
      "1\n",
      "https://search.naver.com/search.naver?&query=디즈니플러스+픽사+팝콘&sm=tab_opt&nso=so%3Ar%2Cp%3A6m&where=post&start=1\n"
     ]
    },
    {
     "data": {
      "application/vnd.jupyter.widget-view+json": {
       "model_id": "a0b26c7bf2874a269dca7885eb8b810a",
       "version_major": 2,
       "version_minor": 0
      },
      "text/plain": [
       "  0%|          | 0/1 [00:00<?, ?it/s]"
      ]
     },
     "metadata": {},
     "output_type": "display_data"
    },
    {
     "name": "stdout",
     "output_type": "stream",
     "text": [
      "1\n",
      "https://search.naver.com/search.naver?&query=디즈니플러스+스타워즈:+배드+배치&sm=tab_opt&nso=so%3Ar%2Cp%3A6m&where=post&start=1\n"
     ]
    },
    {
     "data": {
      "application/vnd.jupyter.widget-view+json": {
       "model_id": "bde6393f5a1b4c2480d20f7eeb9467a3",
       "version_major": 2,
       "version_minor": 0
      },
      "text/plain": [
       "  0%|          | 0/1 [00:00<?, ?it/s]"
      ]
     },
     "metadata": {},
     "output_type": "display_data"
    },
    {
     "name": "stdout",
     "output_type": "stream",
     "text": [
      "1\n",
      "https://search.naver.com/search.naver?&query=디즈니플러스+몬스터+근무일지&sm=tab_opt&nso=so%3Ar%2Cp%3A6m&where=post&start=1\n"
     ]
    },
    {
     "data": {
      "application/vnd.jupyter.widget-view+json": {
       "model_id": "84e4e94277974d5db089b62043430ee9",
       "version_major": 2,
       "version_minor": 0
      },
      "text/plain": [
       "  0%|          | 0/1 [00:00<?, ?it/s]"
      ]
     },
     "metadata": {},
     "output_type": "display_data"
    },
    {
     "name": "stdout",
     "output_type": "stream",
     "text": [
      "1\n",
      "https://search.naver.com/search.naver?&query=디즈니플러스+칩+앤+데일:+파크+라이프&sm=tab_opt&nso=so%3Ar%2Cp%3A6m&where=post&start=1\n"
     ]
    },
    {
     "data": {
      "application/vnd.jupyter.widget-view+json": {
       "model_id": "9142eff1ece749fa8c192404fc613a38",
       "version_major": 2,
       "version_minor": 0
      },
      "text/plain": [
       "  0%|          | 0/1 [00:00<?, ?it/s]"
      ]
     },
     "metadata": {},
     "output_type": "display_data"
    },
    {
     "name": "stdout",
     "output_type": "stream",
     "text": [
      "1\n",
      "https://search.naver.com/search.naver?&query=디즈니플러스+What+If...?&sm=tab_opt&nso=so%3Ar%2Cp%3A6m&where=post&start=1\n"
     ]
    },
    {
     "data": {
      "application/vnd.jupyter.widget-view+json": {
       "model_id": "ab2dc58d86bc40e6a0d905a6a7682c0c",
       "version_major": 2,
       "version_minor": 0
      },
      "text/plain": [
       "  0%|          | 0/1 [00:00<?, ?it/s]"
      ]
     },
     "metadata": {},
     "output_type": "display_data"
    },
    {
     "name": "stdout",
     "output_type": "stream",
     "text": [
      "1\n",
      "https://search.naver.com/search.naver?&query=디즈니플러스+구피가+집에서+잘+지내는+방법&sm=tab_opt&nso=so%3Ar%2Cp%3A6m&where=post&start=1\n"
     ]
    },
    {
     "data": {
      "application/vnd.jupyter.widget-view+json": {
       "model_id": "a664df1989ca47ea98c6a5944d5ce12b",
       "version_major": 2,
       "version_minor": 0
      },
      "text/plain": [
       "  0%|          | 0/1 [00:00<?, ?it/s]"
      ]
     },
     "metadata": {},
     "output_type": "display_data"
    },
    {
     "name": "stdout",
     "output_type": "stream",
     "text": [
      "1\n",
      "https://search.naver.com/search.naver?&query=디즈니플러스+더그의+일상&sm=tab_opt&nso=so%3Ar%2Cp%3A6m&where=post&start=1\n"
     ]
    },
    {
     "data": {
      "application/vnd.jupyter.widget-view+json": {
       "model_id": "b65e01d9a97f4a308eb3befd521e449f",
       "version_major": 2,
       "version_minor": 0
      },
      "text/plain": [
       "  0%|          | 0/1 [00:00<?, ?it/s]"
      ]
     },
     "metadata": {},
     "output_type": "display_data"
    },
    {
     "name": "stdout",
     "output_type": "stream",
     "text": [
      "1\n",
      "https://search.naver.com/search.naver?&query=디즈니플러스+스타워즈:+비전스&sm=tab_opt&nso=so%3Ar%2Cp%3A6m&where=post&start=1\n"
     ]
    },
    {
     "data": {
      "application/vnd.jupyter.widget-view+json": {
       "model_id": "79c8442c3ca84d13b111b1816dd7b49f",
       "version_major": 2,
       "version_minor": 0
      },
      "text/plain": [
       "  0%|          | 0/1 [00:00<?, ?it/s]"
      ]
     },
     "metadata": {},
     "output_type": "display_data"
    },
    {
     "name": "stdout",
     "output_type": "stream",
     "text": [
      "1\n",
      "https://search.naver.com/search.naver?&query=디즈니플러스+올라프가+전해요&sm=tab_opt&nso=so%3Ar%2Cp%3A6m&where=post&start=1\n"
     ]
    },
    {
     "data": {
      "application/vnd.jupyter.widget-view+json": {
       "model_id": "b835849f9cf1403ba9fb879a324fcedf",
       "version_major": 2,
       "version_minor": 0
      },
      "text/plain": [
       "  0%|          | 0/1 [00:00<?, ?it/s]"
      ]
     },
     "metadata": {},
     "output_type": "display_data"
    },
    {
     "name": "stdout",
     "output_type": "stream",
     "text": [
      "1\n",
      "https://search.naver.com/search.naver?&query=디즈니플러스+제프+골드블럼의+호기심+세계&sm=tab_opt&nso=so%3Ar%2Cp%3A6m&where=post&start=1\n"
     ]
    },
    {
     "data": {
      "application/vnd.jupyter.widget-view+json": {
       "model_id": "93ca355f2e9c4328b54d8efaf2a41c4b",
       "version_major": 2,
       "version_minor": 0
      },
      "text/plain": [
       "  0%|          | 0/1 [00:00<?, ?it/s]"
      ]
     },
     "metadata": {},
     "output_type": "display_data"
    },
    {
     "name": "stdout",
     "output_type": "stream",
     "text": [
      "1\n",
      "https://search.naver.com/search.naver?&query=디즈니플러스+이매지니어링+스토리&sm=tab_opt&nso=so%3Ar%2Cp%3A6m&where=post&start=1\n"
     ]
    },
    {
     "data": {
      "application/vnd.jupyter.widget-view+json": {
       "model_id": "d8611b867d2d471095ee949c1349c1eb",
       "version_major": 2,
       "version_minor": 0
      },
      "text/plain": [
       "  0%|          | 0/1 [00:00<?, ?it/s]"
      ]
     },
     "metadata": {},
     "output_type": "display_data"
    },
    {
     "name": "stdout",
     "output_type": "stream",
     "text": [
      "1\n",
      "https://search.naver.com/search.naver?&query=디즈니플러스+마블의+영웅+프로젝트&sm=tab_opt&nso=so%3Ar%2Cp%3A6m&where=post&start=1\n"
     ]
    },
    {
     "data": {
      "application/vnd.jupyter.widget-view+json": {
       "model_id": "271d9c905f7a433c81e1ac0d1b3d34a6",
       "version_major": 2,
       "version_minor": 0
      },
      "text/plain": [
       "  0%|          | 0/1 [00:00<?, ?it/s]"
      ]
     },
     "metadata": {},
     "output_type": "display_data"
    },
    {
     "name": "stdout",
     "output_type": "stream",
     "text": [
      "1\n",
      "https://search.naver.com/search.naver?&query=디즈니플러스+디즈니의+평범한+하루+(단편)&sm=tab_opt&nso=so%3Ar%2Cp%3A6m&where=post&start=1\n"
     ]
    },
    {
     "data": {
      "application/vnd.jupyter.widget-view+json": {
       "model_id": "412212d3c7934b6e92f130f2de034ed6",
       "version_major": 2,
       "version_minor": 0
      },
      "text/plain": [
       "  0%|          | 0/1 [00:00<?, ?it/s]"
      ]
     },
     "metadata": {},
     "output_type": "display_data"
    },
    {
     "name": "stdout",
     "output_type": "stream",
     "text": [
      "1\n",
      "https://search.naver.com/search.naver?&query=디즈니플러스+도전!+안내견&sm=tab_opt&nso=so%3Ar%2Cp%3A6m&where=post&start=1\n"
     ]
    },
    {
     "data": {
      "application/vnd.jupyter.widget-view+json": {
       "model_id": "6a23769198fe4b848cad89b9209364b7",
       "version_major": 2,
       "version_minor": 0
      },
      "text/plain": [
       "  0%|          | 0/1 [00:00<?, ?it/s]"
      ]
     },
     "metadata": {},
     "output_type": "display_data"
    },
    {
     "name": "stdout",
     "output_type": "stream",
     "text": [
      "1\n",
      "https://search.naver.com/search.naver?&query=디즈니플러스+디즈니+인사이더&sm=tab_opt&nso=so%3Ar%2Cp%3A6m&where=post&start=1\n"
     ]
    },
    {
     "data": {
      "application/vnd.jupyter.widget-view+json": {
       "model_id": "cc1c35d6ce724188bcb0353a0653a6e8",
       "version_major": 2,
       "version_minor": 0
      },
      "text/plain": [
       "  0%|          | 0/1 [00:00<?, ?it/s]"
      ]
     },
     "metadata": {},
     "output_type": "display_data"
    },
    {
     "name": "stdout",
     "output_type": "stream",
     "text": [
      "1\n",
      "https://search.naver.com/search.naver?&query=디즈니플러스+소품과+영화&sm=tab_opt&nso=so%3Ar%2Cp%3A6m&where=post&start=1\n"
     ]
    },
    {
     "data": {
      "application/vnd.jupyter.widget-view+json": {
       "model_id": "f36b38e9615f4c5d98b566ea8df42442",
       "version_major": 2,
       "version_minor": 0
      },
      "text/plain": [
       "  0%|          | 0/1 [00:00<?, ?it/s]"
      ]
     },
     "metadata": {},
     "output_type": "display_data"
    },
    {
     "name": "stdout",
     "output_type": "stream",
     "text": [
      "1\n",
      "https://search.naver.com/search.naver?&query=디즈니플러스+디즈니+갤러리+/+스타워즈:+만달로리안&sm=tab_opt&nso=so%3Ar%2Cp%3A6m&where=post&start=1\n"
     ]
    },
    {
     "data": {
      "application/vnd.jupyter.widget-view+json": {
       "model_id": "3de68b00a21448ecbe56ae9062e564c2",
       "version_major": 2,
       "version_minor": 0
      },
      "text/plain": [
       "  0%|          | 0/1 [00:00<?, ?it/s]"
      ]
     },
     "metadata": {},
     "output_type": "display_data"
    },
    {
     "name": "stdout",
     "output_type": "stream",
     "text": [
      "1\n",
      "https://search.naver.com/search.naver?&query=디즈니플러스+숨겨진+세상:+겨울왕국2+메이킹&sm=tab_opt&nso=so%3Ar%2Cp%3A6m&where=post&start=1\n"
     ]
    },
    {
     "data": {
      "application/vnd.jupyter.widget-view+json": {
       "model_id": "4fb386359ab44d69b19455a0c0a3b35b",
       "version_major": 2,
       "version_minor": 0
      },
      "text/plain": [
       "  0%|          | 0/1 [00:00<?, ?it/s]"
      ]
     },
     "metadata": {},
     "output_type": "display_data"
    },
    {
     "name": "stdout",
     "output_type": "stream",
     "text": [
      "1\n",
      "https://search.naver.com/search.naver?&query=디즈니플러스+별난+여행&sm=tab_opt&nso=so%3Ar%2Cp%3A6m&where=post&start=1\n",
      "url갯수:  1129\n",
      "url갯수:  1129\n",
      "url갯수:  1129\n"
     ]
    }
   ],
   "source": [
    "    # 저장하기\n",
    "df = find_blogPage(data_param)\n",
    "df.to_excel(r\"D:\\Python\\TM\\TeamProject/disney_6month.xlsx\")"
   ]
  },
  {
   "cell_type": "markdown",
   "metadata": {
    "id": "8txJjgMQxPdw"
   },
   "source": [
    "## 본문 크롤링 하기"
   ]
  },
  {
   "cell_type": "markdown",
   "metadata": {},
   "source": [
    "### step 3 대표프로그램 중 50개의 프로그램에 대해서 건별 블로그에 내용 GET(본문크롤링 => 자세한 분석은 code3)"
   ]
  },
  {
   "cell_type": "code",
   "execution_count": 11,
   "metadata": {
    "id": "BGWG5_fnxPd7",
    "outputId": "c22bebd6-2460-4a50-d70d-8f73f810234c"
   },
   "outputs": [
    {
     "name": "stdout",
     "output_type": "stream",
     "text": [
      "1129\n"
     ]
    }
   ],
   "source": [
    "# \"url_list.csv\" 불러오기\n",
    "url_load = pd.read_excel(r\"D:\\Python\\TM\\TeamProject/disney_6month.xlsx\")        # 기본 모델\n",
    "#url_load =df\n",
    "print(len(url_load))\n"
   ]
  },
  {
   "cell_type": "code",
   "execution_count": 123,
   "metadata": {},
   "outputs": [
    {
     "name": "stdout",
     "output_type": "stream",
     "text": [
      "['https://anilover.tistory.com/5835']\n"
     ]
    }
   ],
   "source": [
    "#340+48\n",
    "chk_url = url_load['url'][388]\n",
    "print(chk_url.split(\"logNo=\"))"
   ]
  },
  {
   "cell_type": "code",
   "execution_count": 13,
   "metadata": {},
   "outputs": [
    {
     "data": {
      "application/vnd.jupyter.widget-view+json": {
       "model_id": "411a1ef075d94eec850145395b985899",
       "version_major": 2,
       "version_minor": 0
      },
      "text/plain": [
       "  0%|          | 0/400 [00:00<?, ?it/s]"
      ]
     },
     "metadata": {},
     "output_type": "display_data"
    },
    {
     "name": "stderr",
     "output_type": "stream",
     "text": [
      "<ipython-input-13-69169609b946>:7: DeprecationWarning: executable_path has been deprecated, please pass in a Service object\n",
      "  driver = webdriver.Chrome(r\"D:\\Python\\TM\\drivers\\chromedriver.exe\")\n"
     ]
    },
    {
     "name": "stdout",
     "output_type": "stream",
     "text": [
      "<bound method WebDriver.get of <selenium.webdriver.chrome.webdriver.WebDriver (session=\"31d73875e08b2c05dd6fde2516f36f8f\")>>\n",
      "<bound method WebDriver.get of <selenium.webdriver.chrome.webdriver.WebDriver (session=\"e2c7b7d9fb5957428350f500a1338dad\")>>\n",
      "<bound method WebDriver.get of <selenium.webdriver.chrome.webdriver.WebDriver (session=\"76a8c3954c0c9a41011f517fa03ffc8d\")>>\n",
      "<bound method WebDriver.get of <selenium.webdriver.chrome.webdriver.WebDriver (session=\"124b19424449a836efb21e91d0c5b391\")>>\n",
      "<bound method WebDriver.get of <selenium.webdriver.chrome.webdriver.WebDriver (session=\"636488a375883b13185d2f566528fc82\")>>\n",
      "<bound method WebDriver.get of <selenium.webdriver.chrome.webdriver.WebDriver (session=\"af3180337cc0fb759a86e5b45a75dc20\")>>\n",
      "<bound method WebDriver.get of <selenium.webdriver.chrome.webdriver.WebDriver (session=\"64127134986dfc640f3c86009bb1bf98\")>>\n",
      "<bound method WebDriver.get of <selenium.webdriver.chrome.webdriver.WebDriver (session=\"04d95adf42d126b523a0ad939058aa59\")>>\n",
      "<bound method WebDriver.get of <selenium.webdriver.chrome.webdriver.WebDriver (session=\"4504c8adca327ca52ab7e7e46e4442fe\")>>\n",
      "<bound method WebDriver.get of <selenium.webdriver.chrome.webdriver.WebDriver (session=\"f4577d05dc0059d9d18bc7de83af2493\")>>\n",
      "<bound method WebDriver.get of <selenium.webdriver.chrome.webdriver.WebDriver (session=\"ed8415d79e350d94b9072ff7ae66e5fd\")>>\n",
      "<bound method WebDriver.get of <selenium.webdriver.chrome.webdriver.WebDriver (session=\"abc6913d7c86162c980824838d9d04f9\")>>\n",
      "<bound method WebDriver.get of <selenium.webdriver.chrome.webdriver.WebDriver (session=\"8f36073da16f4c6d9b8339a74ee06121\")>>\n",
      "<bound method WebDriver.get of <selenium.webdriver.chrome.webdriver.WebDriver (session=\"c7e2348c39144f349be6b77af74c73a2\")>>\n",
      "<bound method WebDriver.get of <selenium.webdriver.chrome.webdriver.WebDriver (session=\"48ae77985b2ed5701dcc533891a2f72f\")>>\n",
      "<bound method WebDriver.get of <selenium.webdriver.chrome.webdriver.WebDriver (session=\"b44ba8ba11b7fd73d254441f0577b2a4\")>>\n",
      "<bound method WebDriver.get of <selenium.webdriver.chrome.webdriver.WebDriver (session=\"13081d3e4bea67479d5f3d5971d07227\")>>\n",
      "<bound method WebDriver.get of <selenium.webdriver.chrome.webdriver.WebDriver (session=\"7f66afb64ae5c26319a4247815f9b2ad\")>>\n",
      "<bound method WebDriver.get of <selenium.webdriver.chrome.webdriver.WebDriver (session=\"6c32fbfc28aee832f48512e07943b261\")>>\n",
      "<bound method WebDriver.get of <selenium.webdriver.chrome.webdriver.WebDriver (session=\"b7c6fd161fe5862194f3379efa5dacba\")>>\n",
      "<bound method WebDriver.get of <selenium.webdriver.chrome.webdriver.WebDriver (session=\"e714704d4704467c9b647c348591f1d1\")>>\n",
      "<bound method WebDriver.get of <selenium.webdriver.chrome.webdriver.WebDriver (session=\"a05b349da76edac3b3bd60001b217c06\")>>\n",
      "<bound method WebDriver.get of <selenium.webdriver.chrome.webdriver.WebDriver (session=\"8a3ca0ce1e40bd1c2dada05fc677dd96\")>>\n",
      "<bound method WebDriver.get of <selenium.webdriver.chrome.webdriver.WebDriver (session=\"b66837731c4686c88fdca25d982fe17d\")>>\n",
      "<bound method WebDriver.get of <selenium.webdriver.chrome.webdriver.WebDriver (session=\"bf7df3dd9feb9f6587d5e65a2e1fb075\")>>\n",
      "<bound method WebDriver.get of <selenium.webdriver.chrome.webdriver.WebDriver (session=\"c45408fed51fc1366f9d0cf48c18a634\")>>\n",
      "<bound method WebDriver.get of <selenium.webdriver.chrome.webdriver.WebDriver (session=\"e38c65a1310dccc41a4cff6aa045298e\")>>\n",
      "<bound method WebDriver.get of <selenium.webdriver.chrome.webdriver.WebDriver (session=\"119ec18c867fee4d0157ee43794d74d6\")>>\n",
      "<bound method WebDriver.get of <selenium.webdriver.chrome.webdriver.WebDriver (session=\"88b3303543afca279b1f22fbeb0f13cc\")>>\n",
      "<bound method WebDriver.get of <selenium.webdriver.chrome.webdriver.WebDriver (session=\"cf87e660c4afd9da2c8fcdc069708b50\")>>\n",
      "<bound method WebDriver.get of <selenium.webdriver.chrome.webdriver.WebDriver (session=\"d97ba725656cb26e098c312affe1b6bf\")>>\n",
      "<bound method WebDriver.get of <selenium.webdriver.chrome.webdriver.WebDriver (session=\"77d195959f6b7446b07b61b776ae839b\")>>\n",
      "<bound method WebDriver.get of <selenium.webdriver.chrome.webdriver.WebDriver (session=\"12add564de11430d45e7fca9ab51d38f\")>>\n",
      "<bound method WebDriver.get of <selenium.webdriver.chrome.webdriver.WebDriver (session=\"399e95eec9890847d530e347e0a1d263\")>>\n",
      "<bound method WebDriver.get of <selenium.webdriver.chrome.webdriver.WebDriver (session=\"7c0f01455bb9338a46702c5c44a70ef4\")>>\n",
      "<bound method WebDriver.get of <selenium.webdriver.chrome.webdriver.WebDriver (session=\"489ede04afa8d019b2a4807f2d4a8bb9\")>>\n",
      "<bound method WebDriver.get of <selenium.webdriver.chrome.webdriver.WebDriver (session=\"f30cce2796eaf14b80a31ebf884eceeb\")>>\n",
      "<bound method WebDriver.get of <selenium.webdriver.chrome.webdriver.WebDriver (session=\"c4d92200fac3744a45771f6f17fcd6fd\")>>\n",
      "<bound method WebDriver.get of <selenium.webdriver.chrome.webdriver.WebDriver (session=\"683249f2f6614f6b8490881d7482ddb0\")>>\n",
      "<bound method WebDriver.get of <selenium.webdriver.chrome.webdriver.WebDriver (session=\"4f47b2d14f992c51a799180ae645014f\")>>\n",
      "<bound method WebDriver.get of <selenium.webdriver.chrome.webdriver.WebDriver (session=\"16f831b9870189d5dae2ebf0084a1f16\")>>\n",
      "<bound method WebDriver.get of <selenium.webdriver.chrome.webdriver.WebDriver (session=\"839dddcfd77b241cc38a7380701a72bf\")>>\n",
      "<bound method WebDriver.get of <selenium.webdriver.chrome.webdriver.WebDriver (session=\"302ffdf6044be36034075e4ee7e04c2f\")>>\n",
      "<bound method WebDriver.get of <selenium.webdriver.chrome.webdriver.WebDriver (session=\"755e01deab659719958aaf3f7e2bd346\")>>\n",
      "<bound method WebDriver.get of <selenium.webdriver.chrome.webdriver.WebDriver (session=\"6d1669615a758d3178ced0729037359b\")>>\n",
      "<bound method WebDriver.get of <selenium.webdriver.chrome.webdriver.WebDriver (session=\"f51a050af2001c112e75d73eb4d2d68e\")>>\n",
      "<bound method WebDriver.get of <selenium.webdriver.chrome.webdriver.WebDriver (session=\"98a716b5bd40f092281732eea3ba1a47\")>>\n",
      "<bound method WebDriver.get of <selenium.webdriver.chrome.webdriver.WebDriver (session=\"3537b4981413b1561e729792eb669bb5\")>>\n",
      "<bound method WebDriver.get of <selenium.webdriver.chrome.webdriver.WebDriver (session=\"07baa2f9dcc74ef84b5745d3aad6455c\")>>\n",
      "<bound method WebDriver.get of <selenium.webdriver.chrome.webdriver.WebDriver (session=\"278e499b10798add4c1188522be06962\")>>\n",
      "<bound method WebDriver.get of <selenium.webdriver.chrome.webdriver.WebDriver (session=\"1b99e44f432a92d0f204b0691f4a3860\")>>\n",
      "<bound method WebDriver.get of <selenium.webdriver.chrome.webdriver.WebDriver (session=\"8a9e2553b26c5110c3961d5b55ee2246\")>>\n",
      "<bound method WebDriver.get of <selenium.webdriver.chrome.webdriver.WebDriver (session=\"940c71fdb55c2c57aee24eb1b93c33fd\")>>\n",
      "<bound method WebDriver.get of <selenium.webdriver.chrome.webdriver.WebDriver (session=\"2011177f765ddbdf57341f9160c7cf1d\")>>\n",
      "<bound method WebDriver.get of <selenium.webdriver.chrome.webdriver.WebDriver (session=\"d8e5c45674488022166e4c4b58a6ce9a\")>>\n",
      "<bound method WebDriver.get of <selenium.webdriver.chrome.webdriver.WebDriver (session=\"d34d6df573aaaf9651190f686aa596d1\")>>\n",
      "<bound method WebDriver.get of <selenium.webdriver.chrome.webdriver.WebDriver (session=\"839a7da7a556a44358d2672d23d68e26\")>>\n",
      "<bound method WebDriver.get of <selenium.webdriver.chrome.webdriver.WebDriver (session=\"8e84b0cad48a294008f5e5bf000bca43\")>>\n",
      "<bound method WebDriver.get of <selenium.webdriver.chrome.webdriver.WebDriver (session=\"ce18fba409d1b81b1609aa557de8eb91\")>>\n",
      "<bound method WebDriver.get of <selenium.webdriver.chrome.webdriver.WebDriver (session=\"ef0d70d7e1661731dcf272eb812fcd81\")>>\n",
      "<bound method WebDriver.get of <selenium.webdriver.chrome.webdriver.WebDriver (session=\"7d6aa00bd14077535fcd8000a7db6108\")>>\n",
      "<bound method WebDriver.get of <selenium.webdriver.chrome.webdriver.WebDriver (session=\"004e2cb222b152116a8fe39818f8bb6a\")>>\n",
      "<bound method WebDriver.get of <selenium.webdriver.chrome.webdriver.WebDriver (session=\"4e3203535a0669d8a8c2f2944a4c0a93\")>>\n",
      "<bound method WebDriver.get of <selenium.webdriver.chrome.webdriver.WebDriver (session=\"e67c6fea3614df091410b70a0abec70f\")>>\n",
      "<bound method WebDriver.get of <selenium.webdriver.chrome.webdriver.WebDriver (session=\"2e7b651a99070aa2f4160fce199c01ca\")>>\n",
      "<bound method WebDriver.get of <selenium.webdriver.chrome.webdriver.WebDriver (session=\"ea2965d895d9a3d84486f9c1cbbff0de\")>>\n"
     ]
    },
    {
     "name": "stdout",
     "output_type": "stream",
     "text": [
      "<bound method WebDriver.get of <selenium.webdriver.chrome.webdriver.WebDriver (session=\"4be19e30efbcfc6d8febe6a2ad06e832\")>>\n",
      "<bound method WebDriver.get of <selenium.webdriver.chrome.webdriver.WebDriver (session=\"c7121d2bafa7cd8229a7a42edc056db4\")>>\n",
      "<bound method WebDriver.get of <selenium.webdriver.chrome.webdriver.WebDriver (session=\"6167525791f7d39af886a95fa68f8b99\")>>\n",
      "<bound method WebDriver.get of <selenium.webdriver.chrome.webdriver.WebDriver (session=\"2b0d1dd28b73ead36141e5c511d95676\")>>\n",
      "<bound method WebDriver.get of <selenium.webdriver.chrome.webdriver.WebDriver (session=\"2c3f7d519963e92eea56f58457219370\")>>\n",
      "<bound method WebDriver.get of <selenium.webdriver.chrome.webdriver.WebDriver (session=\"8813369ce8561d11fd3146ac5b703fc2\")>>\n",
      "<bound method WebDriver.get of <selenium.webdriver.chrome.webdriver.WebDriver (session=\"8d9845c55522ee017396457391a30d31\")>>\n",
      "<bound method WebDriver.get of <selenium.webdriver.chrome.webdriver.WebDriver (session=\"2d310827d62f8ff147d49e4afb528ed7\")>>\n",
      "<bound method WebDriver.get of <selenium.webdriver.chrome.webdriver.WebDriver (session=\"0d8867c3e0da05dabeb4a2f1fd73a275\")>>\n",
      "<bound method WebDriver.get of <selenium.webdriver.chrome.webdriver.WebDriver (session=\"f54b027457c48eab9cf8c971b51a6f28\")>>\n",
      "<bound method WebDriver.get of <selenium.webdriver.chrome.webdriver.WebDriver (session=\"22feddae2d01f2935267b63320c32b2b\")>>\n",
      "<bound method WebDriver.get of <selenium.webdriver.chrome.webdriver.WebDriver (session=\"9075539159355d630a20b738bf71b6fe\")>>\n",
      "<bound method WebDriver.get of <selenium.webdriver.chrome.webdriver.WebDriver (session=\"009e94186ea3fa25e6c02fffee7e469d\")>>\n",
      "<bound method WebDriver.get of <selenium.webdriver.chrome.webdriver.WebDriver (session=\"f639d083d42e449a38fc592bef1a2768\")>>\n",
      "<bound method WebDriver.get of <selenium.webdriver.chrome.webdriver.WebDriver (session=\"51232cda7b2be71deee9a0d55da0c518\")>>\n",
      "<bound method WebDriver.get of <selenium.webdriver.chrome.webdriver.WebDriver (session=\"154d2b0c4bb71714753a17108405ef46\")>>\n",
      "<bound method WebDriver.get of <selenium.webdriver.chrome.webdriver.WebDriver (session=\"5ac0cc8e39b89a475f2c0445cdcfcbef\")>>\n",
      "<bound method WebDriver.get of <selenium.webdriver.chrome.webdriver.WebDriver (session=\"68f73300b358ed43146661b9af9a28d0\")>>\n",
      "<bound method WebDriver.get of <selenium.webdriver.chrome.webdriver.WebDriver (session=\"d71aaff13fb96a26898d01e85e810fbc\")>>\n",
      "<bound method WebDriver.get of <selenium.webdriver.chrome.webdriver.WebDriver (session=\"8ee1fbfce0902cc66984b3f2e63b7e29\")>>\n",
      "<bound method WebDriver.get of <selenium.webdriver.chrome.webdriver.WebDriver (session=\"ac029495218f17cc9e3388740ef9265f\")>>\n",
      "<bound method WebDriver.get of <selenium.webdriver.chrome.webdriver.WebDriver (session=\"71910e19fbba04e991b8311819ade5df\")>>\n",
      "<bound method WebDriver.get of <selenium.webdriver.chrome.webdriver.WebDriver (session=\"13d4854d34739312bc937d637c8a38d3\")>>\n",
      "<bound method WebDriver.get of <selenium.webdriver.chrome.webdriver.WebDriver (session=\"12ec32e9c08f54d2ad16df1d7ef31cb2\")>>\n",
      "<bound method WebDriver.get of <selenium.webdriver.chrome.webdriver.WebDriver (session=\"5a5106e79df695d8a4451ff6f5fd21b8\")>>\n",
      "<bound method WebDriver.get of <selenium.webdriver.chrome.webdriver.WebDriver (session=\"bcf823cc25f727cb07f5b1f9fd46425f\")>>\n",
      "<bound method WebDriver.get of <selenium.webdriver.chrome.webdriver.WebDriver (session=\"68e77bed9878f2d3720e9fcaa1448c86\")>>\n",
      "<bound method WebDriver.get of <selenium.webdriver.chrome.webdriver.WebDriver (session=\"5de6cfe050cd7c08bfd4bdbcf0fdde1e\")>>\n",
      "<bound method WebDriver.get of <selenium.webdriver.chrome.webdriver.WebDriver (session=\"74805e1c3f71d804da609497007f188b\")>>\n",
      "<bound method WebDriver.get of <selenium.webdriver.chrome.webdriver.WebDriver (session=\"5cb7404d96ed049ff52d61ac367bbc2e\")>>\n",
      "<bound method WebDriver.get of <selenium.webdriver.chrome.webdriver.WebDriver (session=\"7cc49adbe21a236d21bb2ca6b9b34951\")>>\n",
      "<bound method WebDriver.get of <selenium.webdriver.chrome.webdriver.WebDriver (session=\"33c223f5b6e751c656e1a74ccd5960b8\")>>\n",
      "<bound method WebDriver.get of <selenium.webdriver.chrome.webdriver.WebDriver (session=\"0b659020ee78957e6f237c5818221e7b\")>>\n",
      "<bound method WebDriver.get of <selenium.webdriver.chrome.webdriver.WebDriver (session=\"10d98f309bf989d597931df5413b0731\")>>\n",
      "<bound method WebDriver.get of <selenium.webdriver.chrome.webdriver.WebDriver (session=\"d0dab9f3042773c8512947c757e33f42\")>>\n",
      "<bound method WebDriver.get of <selenium.webdriver.chrome.webdriver.WebDriver (session=\"6d812615d9195896693a8a324aaf93db\")>>\n",
      "<bound method WebDriver.get of <selenium.webdriver.chrome.webdriver.WebDriver (session=\"5278a515c7ff4402796bb0d5500d7ae8\")>>\n",
      "<bound method WebDriver.get of <selenium.webdriver.chrome.webdriver.WebDriver (session=\"e28c9777bf2e298aebf7be8c034cb5b9\")>>\n",
      "<bound method WebDriver.get of <selenium.webdriver.chrome.webdriver.WebDriver (session=\"9577b6099bb60769d7111a1134b6998b\")>>\n",
      "<bound method WebDriver.get of <selenium.webdriver.chrome.webdriver.WebDriver (session=\"ea9de793618ec9b098b37800fbd90245\")>>\n",
      "<bound method WebDriver.get of <selenium.webdriver.chrome.webdriver.WebDriver (session=\"ea7f413aface52245957d16c626dee78\")>>\n",
      "<bound method WebDriver.get of <selenium.webdriver.chrome.webdriver.WebDriver (session=\"358c7eed0f2c3dbd61684eeaddb8d394\")>>\n",
      "<bound method WebDriver.get of <selenium.webdriver.chrome.webdriver.WebDriver (session=\"db8ad9955a4eb917f00599e829d9a3ce\")>>\n",
      "<bound method WebDriver.get of <selenium.webdriver.chrome.webdriver.WebDriver (session=\"61d84f97de809f1c57d1386a7fd76635\")>>\n",
      "<bound method WebDriver.get of <selenium.webdriver.chrome.webdriver.WebDriver (session=\"2c07e0cd0a6565dbc31c2d92476382f0\")>>\n",
      "<bound method WebDriver.get of <selenium.webdriver.chrome.webdriver.WebDriver (session=\"2cf11562ba038243ce68bd8ffb1c72a8\")>>\n",
      "<bound method WebDriver.get of <selenium.webdriver.chrome.webdriver.WebDriver (session=\"b4859c916ff553354662b438fa5797c0\")>>\n",
      "<bound method WebDriver.get of <selenium.webdriver.chrome.webdriver.WebDriver (session=\"995ccdbe8813f0b1cdd8d805490bfe78\")>>\n",
      "<bound method WebDriver.get of <selenium.webdriver.chrome.webdriver.WebDriver (session=\"8ba269cb734fb40254fde4c6f25d90e1\")>>\n",
      "<bound method WebDriver.get of <selenium.webdriver.chrome.webdriver.WebDriver (session=\"0dd3e49560d2d375cdc983e8bb667157\")>>\n",
      "<bound method WebDriver.get of <selenium.webdriver.chrome.webdriver.WebDriver (session=\"5ceb12395cc16121ca737763af1ebdef\")>>\n",
      "<bound method WebDriver.get of <selenium.webdriver.chrome.webdriver.WebDriver (session=\"8eb26485f745da46ed9fc026f31ec7a7\")>>\n",
      "<bound method WebDriver.get of <selenium.webdriver.chrome.webdriver.WebDriver (session=\"a36792d1b0248917c5a252730353e736\")>>\n",
      "<bound method WebDriver.get of <selenium.webdriver.chrome.webdriver.WebDriver (session=\"696fcc91a508c6b60fda3e6f9073b0d7\")>>\n",
      "<bound method WebDriver.get of <selenium.webdriver.chrome.webdriver.WebDriver (session=\"6c36f3496a55249e786696fe4db905f1\")>>\n",
      "<bound method WebDriver.get of <selenium.webdriver.chrome.webdriver.WebDriver (session=\"143595c53865c1d99b9cedca95a60bba\")>>\n",
      "<bound method WebDriver.get of <selenium.webdriver.chrome.webdriver.WebDriver (session=\"3f0acff0d14751db7a308206fc9d25c1\")>>\n",
      "<bound method WebDriver.get of <selenium.webdriver.chrome.webdriver.WebDriver (session=\"acfad112e52ec9da7c902ef6e13863bc\")>>\n",
      "<bound method WebDriver.get of <selenium.webdriver.chrome.webdriver.WebDriver (session=\"484e72df1ca0198391c998574ec3638c\")>>\n",
      "<bound method WebDriver.get of <selenium.webdriver.chrome.webdriver.WebDriver (session=\"63e7d26853eeba9aca93cab386f5cd6c\")>>\n",
      "<bound method WebDriver.get of <selenium.webdriver.chrome.webdriver.WebDriver (session=\"5ba02f6fcc66b26d7490b88d27baaa06\")>>\n",
      "<bound method WebDriver.get of <selenium.webdriver.chrome.webdriver.WebDriver (session=\"0c68cdd67c9c7693813ae44fd9ff5a5f\")>>\n",
      "<bound method WebDriver.get of <selenium.webdriver.chrome.webdriver.WebDriver (session=\"31faf42a39be0994934a8ce2ef8b1c0f\")>>\n",
      "<bound method WebDriver.get of <selenium.webdriver.chrome.webdriver.WebDriver (session=\"6a637d19df6446a788390c536bc04268\")>>\n",
      "<bound method WebDriver.get of <selenium.webdriver.chrome.webdriver.WebDriver (session=\"254fa55f6e7f2098f57503fe3bfb13e9\")>>\n",
      "<bound method WebDriver.get of <selenium.webdriver.chrome.webdriver.WebDriver (session=\"c2e6d291036c55aaf65fe7643b08e1cd\")>>\n"
     ]
    },
    {
     "name": "stdout",
     "output_type": "stream",
     "text": [
      "<bound method WebDriver.get of <selenium.webdriver.chrome.webdriver.WebDriver (session=\"16c1d0bb01c7d0793b5d0ff88f404fc5\")>>\n",
      "<bound method WebDriver.get of <selenium.webdriver.chrome.webdriver.WebDriver (session=\"8cf483fb11e68a64f91ddaef9984d451\")>>\n",
      "<bound method WebDriver.get of <selenium.webdriver.chrome.webdriver.WebDriver (session=\"2049188f5b5be5095b07b4ea48990686\")>>\n",
      "<bound method WebDriver.get of <selenium.webdriver.chrome.webdriver.WebDriver (session=\"5fef23fa0810f1906bebc4c3dd719c01\")>>\n",
      "<bound method WebDriver.get of <selenium.webdriver.chrome.webdriver.WebDriver (session=\"2828aec4cfda53b809fe6a2797dad348\")>>\n",
      "<bound method WebDriver.get of <selenium.webdriver.chrome.webdriver.WebDriver (session=\"c421d603fbd8f30ed3bbbffa1c8f63f4\")>>\n",
      "<bound method WebDriver.get of <selenium.webdriver.chrome.webdriver.WebDriver (session=\"bbd98f4e3b9e66248367a02fb354cc15\")>>\n",
      "<bound method WebDriver.get of <selenium.webdriver.chrome.webdriver.WebDriver (session=\"a3e6eecc2c45070547a9d01508e87cf7\")>>\n",
      "<bound method WebDriver.get of <selenium.webdriver.chrome.webdriver.WebDriver (session=\"2511727a22c0b5da919a2166cda14277\")>>\n",
      "<bound method WebDriver.get of <selenium.webdriver.chrome.webdriver.WebDriver (session=\"1803f97ab92e7f115c0df07dd6ba8c67\")>>\n",
      "<bound method WebDriver.get of <selenium.webdriver.chrome.webdriver.WebDriver (session=\"ff8534a234ae88aad41d2bd7924b2463\")>>\n",
      "<bound method WebDriver.get of <selenium.webdriver.chrome.webdriver.WebDriver (session=\"8e7bc961907e6f9c22fa877f27e6b7cb\")>>\n",
      "<bound method WebDriver.get of <selenium.webdriver.chrome.webdriver.WebDriver (session=\"b0653d50fc50299a391109502ce69852\")>>\n",
      "<bound method WebDriver.get of <selenium.webdriver.chrome.webdriver.WebDriver (session=\"c6f84b0abff72e4c83b3443915b0d054\")>>\n",
      "<bound method WebDriver.get of <selenium.webdriver.chrome.webdriver.WebDriver (session=\"a4c04b72726bf5ecfdc4697b4cd8fbf9\")>>\n",
      "<bound method WebDriver.get of <selenium.webdriver.chrome.webdriver.WebDriver (session=\"8ac7a208ec183bc1d06c4c742c42c690\")>>\n",
      "<bound method WebDriver.get of <selenium.webdriver.chrome.webdriver.WebDriver (session=\"539ed206e20155bb19deeccd99f7c6ef\")>>\n",
      "<bound method WebDriver.get of <selenium.webdriver.chrome.webdriver.WebDriver (session=\"2fbde86ccde873ff4a5d8e829c1ec340\")>>\n",
      "<bound method WebDriver.get of <selenium.webdriver.chrome.webdriver.WebDriver (session=\"ed6fcb0c9be02331a6a8e040ba2adb13\")>>\n",
      "<bound method WebDriver.get of <selenium.webdriver.chrome.webdriver.WebDriver (session=\"fa56d635bf3aa27c306943415827a2d7\")>>\n",
      "<bound method WebDriver.get of <selenium.webdriver.chrome.webdriver.WebDriver (session=\"8d8718d91db3a2b491076acc35ac43da\")>>\n",
      "<bound method WebDriver.get of <selenium.webdriver.chrome.webdriver.WebDriver (session=\"c3a4731ed9e369cd54e700f53fb79f3d\")>>\n",
      "<bound method WebDriver.get of <selenium.webdriver.chrome.webdriver.WebDriver (session=\"3a8d353fba4811cffc026676efaefe86\")>>\n",
      "<bound method WebDriver.get of <selenium.webdriver.chrome.webdriver.WebDriver (session=\"34fa27a67d254587f09b788d7f897177\")>>\n",
      "<bound method WebDriver.get of <selenium.webdriver.chrome.webdriver.WebDriver (session=\"31e5e74039c0f07f088ccf0f4f56cb93\")>>\n",
      "<bound method WebDriver.get of <selenium.webdriver.chrome.webdriver.WebDriver (session=\"bb9877a2d48b722cd1b6b2d0d1e91b1e\")>>\n",
      "<bound method WebDriver.get of <selenium.webdriver.chrome.webdriver.WebDriver (session=\"f8e7dab8d5ed9c524c7be7c5da02ca7f\")>>\n",
      "<bound method WebDriver.get of <selenium.webdriver.chrome.webdriver.WebDriver (session=\"e8a5eb2d432532dc23bb223aec96593f\")>>\n",
      "<bound method WebDriver.get of <selenium.webdriver.chrome.webdriver.WebDriver (session=\"cfc01bdd674f9920b4c9b2e838028d4e\")>>\n",
      "<bound method WebDriver.get of <selenium.webdriver.chrome.webdriver.WebDriver (session=\"cd6c1cf9fbcc4298146094560100880f\")>>\n",
      "<bound method WebDriver.get of <selenium.webdriver.chrome.webdriver.WebDriver (session=\"c70adf4120672b9c6e7bf8512e8eac86\")>>\n",
      "<bound method WebDriver.get of <selenium.webdriver.chrome.webdriver.WebDriver (session=\"24c745abe1653c887118715e27598169\")>>\n",
      "<bound method WebDriver.get of <selenium.webdriver.chrome.webdriver.WebDriver (session=\"c0698d3af6a7b593b60f2b73c7bd0b5e\")>>\n",
      "<bound method WebDriver.get of <selenium.webdriver.chrome.webdriver.WebDriver (session=\"6204e760d059254d441995d2d1352b26\")>>\n",
      "<bound method WebDriver.get of <selenium.webdriver.chrome.webdriver.WebDriver (session=\"0d3fb91d2a5e7de1765d7a7bca74a5d1\")>>\n",
      "<bound method WebDriver.get of <selenium.webdriver.chrome.webdriver.WebDriver (session=\"c8fd327c7c5f8a5822a7b32f12430d16\")>>\n",
      "<bound method WebDriver.get of <selenium.webdriver.chrome.webdriver.WebDriver (session=\"e355021de20e5c2158d82d603ef3994f\")>>\n",
      "<bound method WebDriver.get of <selenium.webdriver.chrome.webdriver.WebDriver (session=\"8ffd45eb2d187120872eba2bed82cb67\")>>\n",
      "<bound method WebDriver.get of <selenium.webdriver.chrome.webdriver.WebDriver (session=\"2234b7f22469c6b09a7fe500bbcd64bf\")>>\n",
      "<bound method WebDriver.get of <selenium.webdriver.chrome.webdriver.WebDriver (session=\"6a44d30459dd7cf9b0871173a0d241fb\")>>\n",
      "<bound method WebDriver.get of <selenium.webdriver.chrome.webdriver.WebDriver (session=\"8bbdcd6a7bb497674b24d9b38aace3e1\")>>\n",
      "<bound method WebDriver.get of <selenium.webdriver.chrome.webdriver.WebDriver (session=\"6ed8df1735d907f47f8d8986bc751618\")>>\n",
      "<bound method WebDriver.get of <selenium.webdriver.chrome.webdriver.WebDriver (session=\"5380fa7c176bf535a488d3337dafdfd1\")>>\n",
      "<bound method WebDriver.get of <selenium.webdriver.chrome.webdriver.WebDriver (session=\"b10ca3238897dc98b03637aed4c1b5d7\")>>\n",
      "<bound method WebDriver.get of <selenium.webdriver.chrome.webdriver.WebDriver (session=\"ff795c5f9dcbfa8c4643fd1f4f1f337d\")>>\n",
      "<bound method WebDriver.get of <selenium.webdriver.chrome.webdriver.WebDriver (session=\"79dec0ff40c4b974112accb524374dab\")>>\n",
      "<bound method WebDriver.get of <selenium.webdriver.chrome.webdriver.WebDriver (session=\"5ab6fc8556cc4704548b1eb72bb37953\")>>\n",
      "<bound method WebDriver.get of <selenium.webdriver.chrome.webdriver.WebDriver (session=\"46c970a08a1ca786f40cd416622b41a9\")>>\n",
      "<bound method WebDriver.get of <selenium.webdriver.chrome.webdriver.WebDriver (session=\"f9b105147c83be04f7049e07cf75d217\")>>\n",
      "<bound method WebDriver.get of <selenium.webdriver.chrome.webdriver.WebDriver (session=\"15d890f08163099f30a594c6553a08e4\")>>\n",
      "<bound method WebDriver.get of <selenium.webdriver.chrome.webdriver.WebDriver (session=\"5188c1536c7dc2675060b9b6b6629068\")>>\n",
      "<bound method WebDriver.get of <selenium.webdriver.chrome.webdriver.WebDriver (session=\"644c39b3a16cc15cf3b7b2ee489f5ea1\")>>\n",
      "<bound method WebDriver.get of <selenium.webdriver.chrome.webdriver.WebDriver (session=\"9b070530de826b7cf10a4d30d3312d4e\")>>\n",
      "<bound method WebDriver.get of <selenium.webdriver.chrome.webdriver.WebDriver (session=\"b35da058bfd92d29e33dc7e7462cec17\")>>\n",
      "<bound method WebDriver.get of <selenium.webdriver.chrome.webdriver.WebDriver (session=\"338a702b869a6c9daad6aeb91bda34b4\")>>\n",
      "<bound method WebDriver.get of <selenium.webdriver.chrome.webdriver.WebDriver (session=\"8e55dc6cf946d08b9d8f4121688584a9\")>>\n",
      "<bound method WebDriver.get of <selenium.webdriver.chrome.webdriver.WebDriver (session=\"5a030447ff6d4712fb3a4dc3546fb0d2\")>>\n",
      "<bound method WebDriver.get of <selenium.webdriver.chrome.webdriver.WebDriver (session=\"0ab864030c4f1ebdf4b02ee204f9cbee\")>>\n",
      "<bound method WebDriver.get of <selenium.webdriver.chrome.webdriver.WebDriver (session=\"bade6017d18ddda18ce0d93af8537653\")>>\n",
      "<bound method WebDriver.get of <selenium.webdriver.chrome.webdriver.WebDriver (session=\"00235376095e20140e08a0499b3caf8d\")>>\n",
      "<bound method WebDriver.get of <selenium.webdriver.chrome.webdriver.WebDriver (session=\"481084e3fe73daefe9740f0513a1611c\")>>\n",
      "<bound method WebDriver.get of <selenium.webdriver.chrome.webdriver.WebDriver (session=\"cfe1555110e9135f03079d49b95c510b\")>>\n",
      "<bound method WebDriver.get of <selenium.webdriver.chrome.webdriver.WebDriver (session=\"9f252615a82002f6f318a1157ab48813\")>>\n",
      "<bound method WebDriver.get of <selenium.webdriver.chrome.webdriver.WebDriver (session=\"8a3d9981cbd1e59f91f589a8b22a1715\")>>\n",
      "<bound method WebDriver.get of <selenium.webdriver.chrome.webdriver.WebDriver (session=\"2459a62f5f61052f5ea57c0197afdfcb\")>>\n",
      "<bound method WebDriver.get of <selenium.webdriver.chrome.webdriver.WebDriver (session=\"3f93f08c313d83b7ec4364ca4f42f2a4\")>>\n"
     ]
    },
    {
     "name": "stdout",
     "output_type": "stream",
     "text": [
      "<bound method WebDriver.get of <selenium.webdriver.chrome.webdriver.WebDriver (session=\"73cf6b39895014bd9ce3e6fd75e91aa4\")>>\n",
      "<bound method WebDriver.get of <selenium.webdriver.chrome.webdriver.WebDriver (session=\"8e786e95a8a2da36676423408d9bffcb\")>>\n",
      "<bound method WebDriver.get of <selenium.webdriver.chrome.webdriver.WebDriver (session=\"dcf09139d1ff69f7eb355bc5d9423047\")>>\n",
      "<bound method WebDriver.get of <selenium.webdriver.chrome.webdriver.WebDriver (session=\"1c80deaa228e89c3a72d0aef7076cbb7\")>>\n",
      "<bound method WebDriver.get of <selenium.webdriver.chrome.webdriver.WebDriver (session=\"5102608c98021ccf9259b70352ad682c\")>>\n",
      "<bound method WebDriver.get of <selenium.webdriver.chrome.webdriver.WebDriver (session=\"39a11c0f885b720fc13f98f461561a8d\")>>\n",
      "<bound method WebDriver.get of <selenium.webdriver.chrome.webdriver.WebDriver (session=\"c72316fe9d0765affb400e48b527e810\")>>\n",
      "<bound method WebDriver.get of <selenium.webdriver.chrome.webdriver.WebDriver (session=\"85c2dbba11a3d686069f8919d2d52d65\")>>\n",
      "<bound method WebDriver.get of <selenium.webdriver.chrome.webdriver.WebDriver (session=\"92e66c28d91b938710a2082a3fab9629\")>>\n",
      "<bound method WebDriver.get of <selenium.webdriver.chrome.webdriver.WebDriver (session=\"b25ce09ec6fc74517fdac8cfaa3a1d49\")>>\n",
      "<bound method WebDriver.get of <selenium.webdriver.chrome.webdriver.WebDriver (session=\"0cf0054e009113e0d5b3b1f99c8945d0\")>>\n",
      "<bound method WebDriver.get of <selenium.webdriver.chrome.webdriver.WebDriver (session=\"635edb41f1339f49b084baff5fe11101\")>>\n",
      "<bound method WebDriver.get of <selenium.webdriver.chrome.webdriver.WebDriver (session=\"d8cd202ceedf123143c774f0706bb59a\")>>\n",
      "<bound method WebDriver.get of <selenium.webdriver.chrome.webdriver.WebDriver (session=\"4d8969147fa08f8300baa69876540ac6\")>>\n",
      "<bound method WebDriver.get of <selenium.webdriver.chrome.webdriver.WebDriver (session=\"d8e4b4b7c1451e5511caa65f7de23f55\")>>\n",
      "<bound method WebDriver.get of <selenium.webdriver.chrome.webdriver.WebDriver (session=\"40aa2757356fbb6d056da23bcf1a39e8\")>>\n",
      "<bound method WebDriver.get of <selenium.webdriver.chrome.webdriver.WebDriver (session=\"71ef9a415a300cb114274904a699aa34\")>>\n",
      "<bound method WebDriver.get of <selenium.webdriver.chrome.webdriver.WebDriver (session=\"b6d8de085cebf3925a85bde77751a355\")>>\n",
      "<bound method WebDriver.get of <selenium.webdriver.chrome.webdriver.WebDriver (session=\"58ae89feb938251f3119df82dfda3ca6\")>>\n",
      "<bound method WebDriver.get of <selenium.webdriver.chrome.webdriver.WebDriver (session=\"5de00d7249beab37212d4ba6cf6a9a11\")>>\n",
      "<bound method WebDriver.get of <selenium.webdriver.chrome.webdriver.WebDriver (session=\"43f3a6de59ff14261b07b92eead92887\")>>\n",
      "<bound method WebDriver.get of <selenium.webdriver.chrome.webdriver.WebDriver (session=\"db845519ef77651110a6a87f36bb5c6f\")>>\n",
      "<bound method WebDriver.get of <selenium.webdriver.chrome.webdriver.WebDriver (session=\"afd5e5efee71ccacb2ff8181544de024\")>>\n",
      "<bound method WebDriver.get of <selenium.webdriver.chrome.webdriver.WebDriver (session=\"e3084834aeec3814aaa829faf118d1d7\")>>\n",
      "<bound method WebDriver.get of <selenium.webdriver.chrome.webdriver.WebDriver (session=\"e836fb27efdd15e396718f990ee7ab5e\")>>\n",
      "<bound method WebDriver.get of <selenium.webdriver.chrome.webdriver.WebDriver (session=\"7d01ef660df498ce94c9af7b1f3761c9\")>>\n",
      "<bound method WebDriver.get of <selenium.webdriver.chrome.webdriver.WebDriver (session=\"46f4f496a916fb8d65abd0af8e8ef644\")>>\n",
      "<bound method WebDriver.get of <selenium.webdriver.chrome.webdriver.WebDriver (session=\"0eb3930a86d974b7a8fc2902215b7e99\")>>\n",
      "<bound method WebDriver.get of <selenium.webdriver.chrome.webdriver.WebDriver (session=\"88dea5a0f142d97d2004516b8c1046cc\")>>\n",
      "<bound method WebDriver.get of <selenium.webdriver.chrome.webdriver.WebDriver (session=\"b853d9efd181c9c297587a725b337cbf\")>>\n",
      "<bound method WebDriver.get of <selenium.webdriver.chrome.webdriver.WebDriver (session=\"8d469ecfb54ce7ef2ac64ba935520e6d\")>>\n",
      "<bound method WebDriver.get of <selenium.webdriver.chrome.webdriver.WebDriver (session=\"f8c8eafbded969c533351ab3df9e1dd2\")>>\n",
      "<bound method WebDriver.get of <selenium.webdriver.chrome.webdriver.WebDriver (session=\"7df94e7c0e6f66a98eacb3a138622734\")>>\n",
      "<bound method WebDriver.get of <selenium.webdriver.chrome.webdriver.WebDriver (session=\"6c1d017f0592a978065d49a307171d9d\")>>\n",
      "<bound method WebDriver.get of <selenium.webdriver.chrome.webdriver.WebDriver (session=\"0280fd9ba213c35b58ff6c3ce92c67bb\")>>\n",
      "<bound method WebDriver.get of <selenium.webdriver.chrome.webdriver.WebDriver (session=\"6daa8e629db5e671494a2ac1bffe2059\")>>\n",
      "<bound method WebDriver.get of <selenium.webdriver.chrome.webdriver.WebDriver (session=\"3a68a80a092a9cd8f97506ae15c6b352\")>>\n",
      "<bound method WebDriver.get of <selenium.webdriver.chrome.webdriver.WebDriver (session=\"8161b08e0470751d7a1b68cb94e470da\")>>\n",
      "<bound method WebDriver.get of <selenium.webdriver.chrome.webdriver.WebDriver (session=\"279bac1596b1b19d632c0a1917bf0f54\")>>\n",
      "<bound method WebDriver.get of <selenium.webdriver.chrome.webdriver.WebDriver (session=\"4cc2bb3997265467fc3367c8235cf53d\")>>\n",
      "<bound method WebDriver.get of <selenium.webdriver.chrome.webdriver.WebDriver (session=\"e3649f81511b07c78b04119b26f8a4db\")>>\n",
      "<bound method WebDriver.get of <selenium.webdriver.chrome.webdriver.WebDriver (session=\"7d08304a4b841020f61989ba954df1a3\")>>\n",
      "<bound method WebDriver.get of <selenium.webdriver.chrome.webdriver.WebDriver (session=\"be2194c7aac88f929d5772b168008e89\")>>\n",
      "<bound method WebDriver.get of <selenium.webdriver.chrome.webdriver.WebDriver (session=\"4c97b1cda18463befb8e4923c5d5d668\")>>\n",
      "<bound method WebDriver.get of <selenium.webdriver.chrome.webdriver.WebDriver (session=\"29c3f370e9ad9bed89b796e78244167d\")>>\n",
      "<bound method WebDriver.get of <selenium.webdriver.chrome.webdriver.WebDriver (session=\"f8d92984bf3adc5c6105cdecb2603423\")>>\n",
      "<bound method WebDriver.get of <selenium.webdriver.chrome.webdriver.WebDriver (session=\"5c537efebd2fe5a6138ca5cf12c7a8c4\")>>\n",
      "<bound method WebDriver.get of <selenium.webdriver.chrome.webdriver.WebDriver (session=\"0a65a5ba5ef289798c68f6ef65852849\")>>\n",
      "<bound method WebDriver.get of <selenium.webdriver.chrome.webdriver.WebDriver (session=\"0c4014563f1f4e7697b7ae52f59b1a84\")>>\n",
      "<bound method WebDriver.get of <selenium.webdriver.chrome.webdriver.WebDriver (session=\"3a07cb34519d9edaa48017308a9ac448\")>>\n",
      "<bound method WebDriver.get of <selenium.webdriver.chrome.webdriver.WebDriver (session=\"41ed0f2e3949878af916c097112b2d4f\")>>\n",
      "<bound method WebDriver.get of <selenium.webdriver.chrome.webdriver.WebDriver (session=\"acb8961fdf4788ca3ba36716c27d7380\")>>\n",
      "<bound method WebDriver.get of <selenium.webdriver.chrome.webdriver.WebDriver (session=\"9c4880194ea84f7cc3bb388d35655245\")>>\n",
      "<bound method WebDriver.get of <selenium.webdriver.chrome.webdriver.WebDriver (session=\"f76a2fb340678bc4bc40d9a7238881f1\")>>\n",
      "<bound method WebDriver.get of <selenium.webdriver.chrome.webdriver.WebDriver (session=\"a2bf7fa4104aa33f54c45229a1ca90ea\")>>\n",
      "<bound method WebDriver.get of <selenium.webdriver.chrome.webdriver.WebDriver (session=\"c4d311d2f27c52aa4a765813e9210a6e\")>>\n",
      "<bound method WebDriver.get of <selenium.webdriver.chrome.webdriver.WebDriver (session=\"40bdd07a3d93f0d911f6b082927b550c\")>>\n",
      "<bound method WebDriver.get of <selenium.webdriver.chrome.webdriver.WebDriver (session=\"aa296ad13aa607c4e4e8846d70f139cb\")>>\n",
      "<bound method WebDriver.get of <selenium.webdriver.chrome.webdriver.WebDriver (session=\"244e7b93a03b823d927d35c75a4b750a\")>>\n",
      "<bound method WebDriver.get of <selenium.webdriver.chrome.webdriver.WebDriver (session=\"c75a258481d21b282e658af6d932ec12\")>>\n",
      "<bound method WebDriver.get of <selenium.webdriver.chrome.webdriver.WebDriver (session=\"a49bfa4996014690ca77917e0d23c700\")>>\n",
      "<bound method WebDriver.get of <selenium.webdriver.chrome.webdriver.WebDriver (session=\"492fd2ff817cdb8d4bdaa407b07e1cd7\")>>\n",
      "<bound method WebDriver.get of <selenium.webdriver.chrome.webdriver.WebDriver (session=\"4de7c6144f0ede7933852e553bdae4bd\")>>\n",
      "<bound method WebDriver.get of <selenium.webdriver.chrome.webdriver.WebDriver (session=\"46ce9fa06c6a25e155f8817eaca7c9ca\")>>\n",
      "<bound method WebDriver.get of <selenium.webdriver.chrome.webdriver.WebDriver (session=\"344f4161db4ca2e2cb9488f0c5e71d39\")>>\n",
      "<bound method WebDriver.get of <selenium.webdriver.chrome.webdriver.WebDriver (session=\"2ce9e060a8078d33b5c964014b26edb9\")>>\n"
     ]
    },
    {
     "name": "stdout",
     "output_type": "stream",
     "text": [
      "<bound method WebDriver.get of <selenium.webdriver.chrome.webdriver.WebDriver (session=\"afc72232b8f6c99c51b19670c510451f\")>>\n",
      "<bound method WebDriver.get of <selenium.webdriver.chrome.webdriver.WebDriver (session=\"7aa5c46b81deba35f0a6ffb17d9a3fb4\")>>\n",
      "<bound method WebDriver.get of <selenium.webdriver.chrome.webdriver.WebDriver (session=\"f21fb9ef3c2bfa60f8420a30c1f5e558\")>>\n",
      "<bound method WebDriver.get of <selenium.webdriver.chrome.webdriver.WebDriver (session=\"b810dcd696c953ddbffe5ea7c3585454\")>>\n",
      "<bound method WebDriver.get of <selenium.webdriver.chrome.webdriver.WebDriver (session=\"3c47ed18cd3593c5a1b2138d4bef5f9a\")>>\n",
      "<bound method WebDriver.get of <selenium.webdriver.chrome.webdriver.WebDriver (session=\"4120dd713973ebf1f3e549f74cea9f91\")>>\n",
      "<bound method WebDriver.get of <selenium.webdriver.chrome.webdriver.WebDriver (session=\"7dfb669cbc9d917ffb5b379061a81482\")>>\n",
      "<bound method WebDriver.get of <selenium.webdriver.chrome.webdriver.WebDriver (session=\"9843eedf468f22bdfa68fda33271f8c1\")>>\n",
      "<bound method WebDriver.get of <selenium.webdriver.chrome.webdriver.WebDriver (session=\"7f9e3a957d1ed790dd33eef89eb60d40\")>>\n",
      "<bound method WebDriver.get of <selenium.webdriver.chrome.webdriver.WebDriver (session=\"8f67b9fda09f6a260a2bb05c345134b4\")>>\n",
      "<bound method WebDriver.get of <selenium.webdriver.chrome.webdriver.WebDriver (session=\"2c5dd428b0dacfa5dacf6eb2cfacb611\")>>\n",
      "<bound method WebDriver.get of <selenium.webdriver.chrome.webdriver.WebDriver (session=\"b50040f3a34f48a4f47f3f82d23a87d2\")>>\n",
      "<bound method WebDriver.get of <selenium.webdriver.chrome.webdriver.WebDriver (session=\"258d5c83ad9dac4d8d43f5087ec2b7f8\")>>\n",
      "<bound method WebDriver.get of <selenium.webdriver.chrome.webdriver.WebDriver (session=\"0664d991b9cec928084454ea2845fbf6\")>>\n",
      "<bound method WebDriver.get of <selenium.webdriver.chrome.webdriver.WebDriver (session=\"9c6f0a7bb31b21daa9498264226f141c\")>>\n",
      "<bound method WebDriver.get of <selenium.webdriver.chrome.webdriver.WebDriver (session=\"cffe48cf89d2c98dfc09749e121198bc\")>>\n",
      "<bound method WebDriver.get of <selenium.webdriver.chrome.webdriver.WebDriver (session=\"ee36362a6c50028306c2780f28c026d0\")>>\n",
      "<bound method WebDriver.get of <selenium.webdriver.chrome.webdriver.WebDriver (session=\"56501384b6495e4e5d1b57a4ad83d2ab\")>>\n",
      "<bound method WebDriver.get of <selenium.webdriver.chrome.webdriver.WebDriver (session=\"017798575f106969cae88855241b099d\")>>\n",
      "<bound method WebDriver.get of <selenium.webdriver.chrome.webdriver.WebDriver (session=\"7b7be4be270262089b8ba1cc065d9076\")>>\n",
      "<bound method WebDriver.get of <selenium.webdriver.chrome.webdriver.WebDriver (session=\"fea901ce934bd74cc0a1109c32372ce1\")>>\n",
      "<bound method WebDriver.get of <selenium.webdriver.chrome.webdriver.WebDriver (session=\"7a6a7842503af9bc727293076989a400\")>>\n",
      "<bound method WebDriver.get of <selenium.webdriver.chrome.webdriver.WebDriver (session=\"4445fb0ca4aec9074516466aacadde0e\")>>\n",
      "<bound method WebDriver.get of <selenium.webdriver.chrome.webdriver.WebDriver (session=\"c1e9ed224fa892069e9b72c24ceb0b32\")>>\n",
      "<bound method WebDriver.get of <selenium.webdriver.chrome.webdriver.WebDriver (session=\"f00c6ff7f685b93156904fa38634a152\")>>\n",
      "<bound method WebDriver.get of <selenium.webdriver.chrome.webdriver.WebDriver (session=\"a562cba20f47ed8ca1d1b4cee85b3fd4\")>>\n",
      "<bound method WebDriver.get of <selenium.webdriver.chrome.webdriver.WebDriver (session=\"c34ad4535055a7c56322d533f2282b99\")>>\n",
      "<bound method WebDriver.get of <selenium.webdriver.chrome.webdriver.WebDriver (session=\"359407560a87a30416abc51d7eb230c2\")>>\n",
      "<bound method WebDriver.get of <selenium.webdriver.chrome.webdriver.WebDriver (session=\"8cef38f66d2c5b74c40e20590baf7ffe\")>>\n",
      "<bound method WebDriver.get of <selenium.webdriver.chrome.webdriver.WebDriver (session=\"57d19f34bc5073431bb4e748c253beca\")>>\n",
      "<bound method WebDriver.get of <selenium.webdriver.chrome.webdriver.WebDriver (session=\"2007234b2867f35c6d4d6945aeb289e0\")>>\n",
      "<bound method WebDriver.get of <selenium.webdriver.chrome.webdriver.WebDriver (session=\"0ee7891459872f560cfcf7e66ba15b1d\")>>\n",
      "<bound method WebDriver.get of <selenium.webdriver.chrome.webdriver.WebDriver (session=\"c31dca49df2cd0c4df369e9c9a484bba\")>>\n",
      "<bound method WebDriver.get of <selenium.webdriver.chrome.webdriver.WebDriver (session=\"f2e00444b8b642987acd3682173ca250\")>>\n",
      "<bound method WebDriver.get of <selenium.webdriver.chrome.webdriver.WebDriver (session=\"86972bb4acb02ae8ba8a3ddb54377dc6\")>>\n",
      "<bound method WebDriver.get of <selenium.webdriver.chrome.webdriver.WebDriver (session=\"241adc5eceb0dba227723b9a13523b50\")>>\n",
      "<bound method WebDriver.get of <selenium.webdriver.chrome.webdriver.WebDriver (session=\"1f0c0b861d4528c278d1a81d224e3287\")>>\n",
      "<bound method WebDriver.get of <selenium.webdriver.chrome.webdriver.WebDriver (session=\"ca2618c4e70f955750f01e6fb528e2b9\")>>\n",
      "<bound method WebDriver.get of <selenium.webdriver.chrome.webdriver.WebDriver (session=\"d7020a88a3ba73d1ca7bb8fc68dbee67\")>>\n",
      "<bound method WebDriver.get of <selenium.webdriver.chrome.webdriver.WebDriver (session=\"b013892f1a60bdd418baf5968dcaeb93\")>>\n",
      "<bound method WebDriver.get of <selenium.webdriver.chrome.webdriver.WebDriver (session=\"8c0aac07346673d34d7776b2e117857c\")>>\n",
      "<bound method WebDriver.get of <selenium.webdriver.chrome.webdriver.WebDriver (session=\"55aa1b098eb23cc902004f147e3c9182\")>>\n",
      "<bound method WebDriver.get of <selenium.webdriver.chrome.webdriver.WebDriver (session=\"d37f9a5caefd9ba82fbb5cb02c6042e5\")>>\n",
      "<bound method WebDriver.get of <selenium.webdriver.chrome.webdriver.WebDriver (session=\"ea35d4b3897d3ae95efc1cae9a748e34\")>>\n",
      "<bound method WebDriver.get of <selenium.webdriver.chrome.webdriver.WebDriver (session=\"361149dc64f2350f4c0d6cff8868ce2a\")>>\n",
      "<bound method WebDriver.get of <selenium.webdriver.chrome.webdriver.WebDriver (session=\"968032c8f89760bf8f531153a1270955\")>>\n",
      "<bound method WebDriver.get of <selenium.webdriver.chrome.webdriver.WebDriver (session=\"0d7ed3901ae24598b17beba19fdc54d5\")>>\n",
      "<bound method WebDriver.get of <selenium.webdriver.chrome.webdriver.WebDriver (session=\"499d8d4d4edb6a9c66f3bd43f845a02d\")>>\n",
      "<bound method WebDriver.get of <selenium.webdriver.chrome.webdriver.WebDriver (session=\"458707b9c0f01ca8fec5e8ea93b19134\")>>\n",
      "<bound method WebDriver.get of <selenium.webdriver.chrome.webdriver.WebDriver (session=\"f60f082e94493cc21166ea97f7234c91\")>>\n",
      "<bound method WebDriver.get of <selenium.webdriver.chrome.webdriver.WebDriver (session=\"c8b964ea31aab840322d468b19175cf3\")>>\n",
      "<bound method WebDriver.get of <selenium.webdriver.chrome.webdriver.WebDriver (session=\"50036cff5916dc8308464be56163f777\")>>\n",
      "<bound method WebDriver.get of <selenium.webdriver.chrome.webdriver.WebDriver (session=\"ee48667cdbec3022bb3b3b2cacb6f22b\")>>\n",
      "<bound method WebDriver.get of <selenium.webdriver.chrome.webdriver.WebDriver (session=\"136ecbbc2396fea6f32c4e9c3204d643\")>>\n",
      "<bound method WebDriver.get of <selenium.webdriver.chrome.webdriver.WebDriver (session=\"64239376bd07aac3492f88d56ca46c91\")>>\n",
      "<bound method WebDriver.get of <selenium.webdriver.chrome.webdriver.WebDriver (session=\"83472fa7880952900524a5d0b107165c\")>>\n",
      "<bound method WebDriver.get of <selenium.webdriver.chrome.webdriver.WebDriver (session=\"12764166d14ce1bf6837d4a7561006c1\")>>\n",
      "<bound method WebDriver.get of <selenium.webdriver.chrome.webdriver.WebDriver (session=\"cc91ecc0dfc913dda95e0f83726f49c5\")>>\n",
      "<bound method WebDriver.get of <selenium.webdriver.chrome.webdriver.WebDriver (session=\"75d7b49411aeefce7c433cde3cb40001\")>>\n",
      "<bound method WebDriver.get of <selenium.webdriver.chrome.webdriver.WebDriver (session=\"99e9f88addf8800bf13144b261ec1019\")>>\n",
      "<bound method WebDriver.get of <selenium.webdriver.chrome.webdriver.WebDriver (session=\"462b1226526f320892d279f659ded78e\")>>\n",
      "<bound method WebDriver.get of <selenium.webdriver.chrome.webdriver.WebDriver (session=\"38fce66503987f5a58287a814f7e3ad8\")>>\n",
      "<bound method WebDriver.get of <selenium.webdriver.chrome.webdriver.WebDriver (session=\"80fcc6b52185492398e3b2f90578a688\")>>\n",
      "<bound method WebDriver.get of <selenium.webdriver.chrome.webdriver.WebDriver (session=\"cfd29e0db0384a52b067a87e29c15f9c\")>>\n",
      "<bound method WebDriver.get of <selenium.webdriver.chrome.webdriver.WebDriver (session=\"0552f4982beb2fd93a0dbdc40ddb5f3f\")>>\n",
      "<bound method WebDriver.get of <selenium.webdriver.chrome.webdriver.WebDriver (session=\"c57bb514bcbcdecd8ce02a45a06150ef\")>>\n"
     ]
    },
    {
     "name": "stdout",
     "output_type": "stream",
     "text": [
      "<bound method WebDriver.get of <selenium.webdriver.chrome.webdriver.WebDriver (session=\"d3a3f416d531154f4a673e7acdd5bcb7\")>>\n",
      "<bound method WebDriver.get of <selenium.webdriver.chrome.webdriver.WebDriver (session=\"87e2c82f7d9c6fdf8c5b0f8144b20477\")>>\n",
      "<bound method WebDriver.get of <selenium.webdriver.chrome.webdriver.WebDriver (session=\"16745537bf936a44760a6ffb08e1130d\")>>\n",
      "<bound method WebDriver.get of <selenium.webdriver.chrome.webdriver.WebDriver (session=\"e1f6ae134b13df613c838dd627768a84\")>>\n",
      "<bound method WebDriver.get of <selenium.webdriver.chrome.webdriver.WebDriver (session=\"11e4b80d8dff82ee8b2da2adb3815a27\")>>\n",
      "<bound method WebDriver.get of <selenium.webdriver.chrome.webdriver.WebDriver (session=\"d8851e950c8b9d561926d723315030a7\")>>\n",
      "<bound method WebDriver.get of <selenium.webdriver.chrome.webdriver.WebDriver (session=\"5db12da4e433872b768315454b9a4e32\")>>\n",
      "<bound method WebDriver.get of <selenium.webdriver.chrome.webdriver.WebDriver (session=\"50ac3ca3dc0d6fec109b3ed4a1b1620a\")>>\n",
      "<bound method WebDriver.get of <selenium.webdriver.chrome.webdriver.WebDriver (session=\"6baac4df9e269ac82c6e7df22efb1e21\")>>\n",
      "<bound method WebDriver.get of <selenium.webdriver.chrome.webdriver.WebDriver (session=\"bb3092cc901ac8d7b77ae5e5ef67e34c\")>>\n",
      "<bound method WebDriver.get of <selenium.webdriver.chrome.webdriver.WebDriver (session=\"326267fdf32f7dd123c5257cb3e2ba55\")>>\n",
      "<bound method WebDriver.get of <selenium.webdriver.chrome.webdriver.WebDriver (session=\"201b1940078b8e7617261d06bcb6c846\")>>\n",
      "<bound method WebDriver.get of <selenium.webdriver.chrome.webdriver.WebDriver (session=\"f6304d56789e78d311744eac94c1ca02\")>>\n",
      "<bound method WebDriver.get of <selenium.webdriver.chrome.webdriver.WebDriver (session=\"c90febb3fe7c31f68a71e6d876059e1e\")>>\n",
      "<bound method WebDriver.get of <selenium.webdriver.chrome.webdriver.WebDriver (session=\"5926aaeee4023be2b3bcf4916bc44f9e\")>>\n",
      "<bound method WebDriver.get of <selenium.webdriver.chrome.webdriver.WebDriver (session=\"f4b7c6824bb38bb561fb61592d62f1fd\")>>\n",
      "<bound method WebDriver.get of <selenium.webdriver.chrome.webdriver.WebDriver (session=\"24548bb2f6d8254bbc20368ed09ee79b\")>>\n",
      "<bound method WebDriver.get of <selenium.webdriver.chrome.webdriver.WebDriver (session=\"c533477ea61d40271f91086538f25525\")>>\n",
      "<bound method WebDriver.get of <selenium.webdriver.chrome.webdriver.WebDriver (session=\"53f85468bee4de68b9ceba91cd919e42\")>>\n",
      "<bound method WebDriver.get of <selenium.webdriver.chrome.webdriver.WebDriver (session=\"a96a6bf18431129010ca839e1cafc925\")>>\n",
      "<bound method WebDriver.get of <selenium.webdriver.chrome.webdriver.WebDriver (session=\"54898af6a4e39ffe001c12ecb8c2fd5b\")>>\n",
      "<bound method WebDriver.get of <selenium.webdriver.chrome.webdriver.WebDriver (session=\"386a8e7e6c6d9db321d8be590482e7b3\")>>\n",
      "<bound method WebDriver.get of <selenium.webdriver.chrome.webdriver.WebDriver (session=\"37a25d1ecd8a1d1a1b347dace5941204\")>>\n",
      "<bound method WebDriver.get of <selenium.webdriver.chrome.webdriver.WebDriver (session=\"27d4093df27e5056144526136c64b41a\")>>\n",
      "<bound method WebDriver.get of <selenium.webdriver.chrome.webdriver.WebDriver (session=\"5b0bfdce45fcf9c587e440f745cbe250\")>>\n",
      "<bound method WebDriver.get of <selenium.webdriver.chrome.webdriver.WebDriver (session=\"5c802cb6e33442ef8309d6a157110200\")>>\n",
      "<bound method WebDriver.get of <selenium.webdriver.chrome.webdriver.WebDriver (session=\"016427dd0f43867ca57fe521f130ae44\")>>\n",
      "<bound method WebDriver.get of <selenium.webdriver.chrome.webdriver.WebDriver (session=\"ac8b05f2534bea1b79994865b2068050\")>>\n",
      "<bound method WebDriver.get of <selenium.webdriver.chrome.webdriver.WebDriver (session=\"787ed5dfe8025aefeec5bd13071b5bbf\")>>\n",
      "<bound method WebDriver.get of <selenium.webdriver.chrome.webdriver.WebDriver (session=\"ddf47ee977fc5ff69202eaa180a77165\")>>\n",
      "<bound method WebDriver.get of <selenium.webdriver.chrome.webdriver.WebDriver (session=\"a7881f3b611383e91a22eeb4ca1c8057\")>>\n",
      "<bound method WebDriver.get of <selenium.webdriver.chrome.webdriver.WebDriver (session=\"8121492958cf4b06a70d360ce76a9343\")>>\n",
      "<bound method WebDriver.get of <selenium.webdriver.chrome.webdriver.WebDriver (session=\"16e3d01f90f17d47928e9e8fc92ec454\")>>\n",
      "<bound method WebDriver.get of <selenium.webdriver.chrome.webdriver.WebDriver (session=\"06f285e9e3985db65f3422a03ba5f469\")>>\n",
      "<bound method WebDriver.get of <selenium.webdriver.chrome.webdriver.WebDriver (session=\"e0ea83f66dd0e2d00e31f99f4959fcf2\")>>\n",
      "<bound method WebDriver.get of <selenium.webdriver.chrome.webdriver.WebDriver (session=\"50ec1c1640226d0392edf4cc29f7250c\")>>\n",
      "<bound method WebDriver.get of <selenium.webdriver.chrome.webdriver.WebDriver (session=\"234a76d71dc5657abcacd24d79ab4aa9\")>>\n",
      "<bound method WebDriver.get of <selenium.webdriver.chrome.webdriver.WebDriver (session=\"8c33f7259144ba7696ae45dfd3390c36\")>>\n",
      "<bound method WebDriver.get of <selenium.webdriver.chrome.webdriver.WebDriver (session=\"0f899c1f047deacce45cfdf5add32f1d\")>>\n",
      "<bound method WebDriver.get of <selenium.webdriver.chrome.webdriver.WebDriver (session=\"3c00afb3ebe26b5d7a36cf2e7e8336d6\")>>\n",
      "<bound method WebDriver.get of <selenium.webdriver.chrome.webdriver.WebDriver (session=\"37935ec96731f9ebc1d1d58fc0109b88\")>>\n",
      "<bound method WebDriver.get of <selenium.webdriver.chrome.webdriver.WebDriver (session=\"360c11b5e361896d6b7976908411d78d\")>>\n",
      "<bound method WebDriver.get of <selenium.webdriver.chrome.webdriver.WebDriver (session=\"e2f6309f107e68d9b6b62488f423e314\")>>\n",
      "<bound method WebDriver.get of <selenium.webdriver.chrome.webdriver.WebDriver (session=\"e1d47c5a575d686a4cdee0c12cd8252b\")>>\n",
      "<bound method WebDriver.get of <selenium.webdriver.chrome.webdriver.WebDriver (session=\"82fba209558282dfdf34ebda6e5fb9d7\")>>\n",
      "<bound method WebDriver.get of <selenium.webdriver.chrome.webdriver.WebDriver (session=\"af18aa330b2ad4decb8a8f691ebf2378\")>>\n",
      "<bound method WebDriver.get of <selenium.webdriver.chrome.webdriver.WebDriver (session=\"960357582f1a28f821b02be8ab73f640\")>>\n",
      "<bound method WebDriver.get of <selenium.webdriver.chrome.webdriver.WebDriver (session=\"d5ee4b824456503a94d1c28190a22f32\")>>\n",
      "<bound method WebDriver.get of <selenium.webdriver.chrome.webdriver.WebDriver (session=\"072008cee06591f1d2e6e52aebcfa05c\")>>\n",
      "<bound method WebDriver.get of <selenium.webdriver.chrome.webdriver.WebDriver (session=\"c451256a309616fda4212ad0a01afac2\")>>\n",
      "<bound method WebDriver.get of <selenium.webdriver.chrome.webdriver.WebDriver (session=\"1d3a2179ae6251717cbfe93836eca562\")>>\n",
      "<bound method WebDriver.get of <selenium.webdriver.chrome.webdriver.WebDriver (session=\"489d44187121b9691ad7593e486dcdbe\")>>\n",
      "<bound method WebDriver.get of <selenium.webdriver.chrome.webdriver.WebDriver (session=\"a98c97849265f26cae8d498c736bee27\")>>\n",
      "<bound method WebDriver.get of <selenium.webdriver.chrome.webdriver.WebDriver (session=\"02bce579e6de72f2759c0a8b05e848b1\")>>\n",
      "<bound method WebDriver.get of <selenium.webdriver.chrome.webdriver.WebDriver (session=\"16f6811cd033f5e804023620d358d0e9\")>>\n",
      "<bound method WebDriver.get of <selenium.webdriver.chrome.webdriver.WebDriver (session=\"7c9cdc8ac0bc995c5b3a6a3d23fbba82\")>>\n",
      "<bound method WebDriver.get of <selenium.webdriver.chrome.webdriver.WebDriver (session=\"1216c81bd9d350e562edce13aed97a58\")>>\n",
      "<bound method WebDriver.get of <selenium.webdriver.chrome.webdriver.WebDriver (session=\"3272e824ca135d7e60790db23058955f\")>>\n",
      "<bound method WebDriver.get of <selenium.webdriver.chrome.webdriver.WebDriver (session=\"7d59f3afafaa6b9d15482a86e762cb56\")>>\n",
      "<bound method WebDriver.get of <selenium.webdriver.chrome.webdriver.WebDriver (session=\"1fa18d7782d4fce1df193bbef7d07c09\")>>\n",
      "<bound method WebDriver.get of <selenium.webdriver.chrome.webdriver.WebDriver (session=\"54be623bfdf39b75dc728b16f9b7abd0\")>>\n",
      "<bound method WebDriver.get of <selenium.webdriver.chrome.webdriver.WebDriver (session=\"5e5dea54a8d7007aef043552067f1ed5\")>>\n",
      "<bound method WebDriver.get of <selenium.webdriver.chrome.webdriver.WebDriver (session=\"a4f9f79844a31b7ddc785650b0967264\")>>\n",
      "<bound method WebDriver.get of <selenium.webdriver.chrome.webdriver.WebDriver (session=\"000cb5e82ee0b78c65f77328b8a358c0\")>>\n",
      "<bound method WebDriver.get of <selenium.webdriver.chrome.webdriver.WebDriver (session=\"79d8f3a8c7f9f136a9b0e15bc96426e9\")>>\n",
      "<bound method WebDriver.get of <selenium.webdriver.chrome.webdriver.WebDriver (session=\"9b6be89ac3e4e189435ae3e8723edde5\")>>\n"
     ]
    },
    {
     "name": "stdout",
     "output_type": "stream",
     "text": [
      "<bound method WebDriver.get of <selenium.webdriver.chrome.webdriver.WebDriver (session=\"38d9403037da69ac5c067581ea6e8942\")>>\n",
      "<bound method WebDriver.get of <selenium.webdriver.chrome.webdriver.WebDriver (session=\"b6d59d44da3a85570436cdbdc3366c60\")>>\n",
      "<bound method WebDriver.get of <selenium.webdriver.chrome.webdriver.WebDriver (session=\"f1d475f928adf3908b6e4d4b72fee2c8\")>>\n",
      "<bound method WebDriver.get of <selenium.webdriver.chrome.webdriver.WebDriver (session=\"94dfdb35ee0c37de98a228d78026380c\")>>\n"
     ]
    }
   ],
   "source": [
    "dict={}\n",
    "number = 1100  #크롤링하고자하는 블로그 글의 갯수\n",
    "for i in tqdm(range(700, number)): \n",
    "    # 글 띄우기\n",
    "    url = url_load['url'][i]\n",
    "    #print(url.split(\"logNo=\")[1])\n",
    "    driver = webdriver.Chrome(r\"D:\\Python\\TM\\drivers\\chromedriver.exe\")\n",
    "    driver.get(url)   # 글 띄우기\n",
    "    print(driver.get)\n",
    "     # 크롤링\n",
    "    time.sleep(1)\n",
    "    \n",
    "    try : \n",
    "        driver. switch_to.frame('mainFrame')\n",
    "\n",
    "        target_info = {}\n",
    "        # 제목 크롤링 시작\n",
    "        #tit = driver.find_element_by_css_selector(overlays)         # title\n",
    "        tit=driver.find_element(By.XPATH,'//meta[@property=\"og:title\"]')\n",
    "        #title = tit.text .get_attribute(\"\")\n",
    "        title = driver.find_element(By.XPATH,'//meta[@property=\"og:title\"]').get_attribute(\"content\")\n",
    "        # 에러나면 현재 크롬창 닫고 다음 글(i+1)로 이동\n",
    "\n",
    "        # 글쓴이 크롤링 시작                                 \n",
    "        #nick = driver.find_element_by_css_selector(overlays)         # nick\n",
    "        nick=driver.find_element(By.XPATH,'//meta[@property=\"naverblog:nickname\"]')\n",
    "        #nickname = nick.text\n",
    "        nickname = driver.find_element(By.XPATH,'//meta[@property=\"naverblog:nickname\"]').get_attribute(\"content\")\n",
    "\n",
    "        # 날짜 크롤링\n",
    "        datetime =url_load['date'][i]                              \n",
    "\n",
    "        # 내용 크롤링\n",
    "        # 네이버 블로그 포스팅 버전 1. #postViewArea\n",
    "        # 네이버 블로그 포스팅 버전 2. #post-view222566374177 > div > div > div.se-main-container \n",
    "        soups = BeautifulSoup(driver.page_source, \"lxml\") \n",
    "\n",
    "        if soups.find(\"div\", attrs={\"class\":\"se-main-container\"}):\n",
    "            contents = soups.find(\"div\", attrs={\"class\":\"se-main-container\"}).get_text()\n",
    "            contents = contents.replace(\"\\n\",\"\") #공백 제거\n",
    "\n",
    "        elif soups.find(\"div\", attrs={\"id\":\"postViewArea\"}):\n",
    "            contents = soups.find(\"div\", attrs={\"id\":\"postViewArea\"}).get_text()\n",
    "            contents = contents.replace(\"\\n\",\"\") \n",
    "        else:\n",
    "            contents =  \"네이버 블로그는 맞지만, 확인불가\"\n",
    "            \n",
    "    # 에러나면 현재 크롬창 닫고 다음 글(i+1)로 이동\n",
    "    except:\n",
    "        driver.close()\n",
    "        time.sleep(1)\n",
    "        continue\n",
    "    \n",
    "    # 중간,중간에 파일로 저장하기\n",
    "    if i% 30 == 0  or i% 50 == 0 or i%80 == 0:\n",
    "        # 판다스로 만들기\n",
    "        import pandas as pd\n",
    "        result_df = pd.DataFrame.from_dict(dict, 'index')\n",
    "\n",
    "        # 저장하기\n",
    "        result_df.to_excel(r\"D:\\Python\\TM\\TeamProject/disney_6month_1.xlsx\")\n",
    "        time.sleep(3)\n",
    "    \n",
    "    \n",
    "    # 글 하나는 target_info라는 딕셔너리에 담기게 되고,\n",
    "    target_info['title'] = title\n",
    "    target_info['nickname'] = nickname\n",
    "    target_info['datetime'] = datetime\n",
    "    target_info['content'] = contents    \n",
    "\n",
    "    # 각각의 글은 dict라는 딕셔너리에 담기게 됩니다.\n",
    "    dict[i] = target_info\n",
    "    time.sleep(1)\n",
    "        \n",
    "driver.close()        \n",
    "result_df = pd.DataFrame.from_dict(dict, 'index')\n",
    "\n",
    "\n",
    "\n",
    "# 저장하기\n",
    "result_df.to_excel(r\"D:\\Python\\TM\\TeamProject/disney_6month_1.xlsx\")\n"
   ]
  },
  {
   "cell_type": "code",
   "execution_count": 2,
   "metadata": {},
   "outputs": [],
   "source": [
    "from glob import glob\n",
    "def grabFileName(filename) :\n",
    "    \n",
    "    filetext = r\"D:\\Python\\TM\\TeamProject/\" + filename +\"*.xlsx\"\n",
    "    file_names = glob(filetext) #폴더 내의 모든 csv파일 목록을 불러온다\n",
    "    total = pd.DataFrame() #빈 데이터프레임 하나를 생성한다\n",
    "\n",
    "    for file_name in file_names:\n",
    "        temp = pd.read_excel(file_name) \n",
    "        total = pd.concat([total, temp]) #전체 데이터프레임에 추가하여 넣는다\n",
    "\n",
    "    total.to_excel(r\"D:\\Python\\TM\\TeamProject/\" + filename+ \"all.xlsx\")"
   ]
  },
  {
   "cell_type": "code",
   "execution_count": 5,
   "metadata": {
    "colab": {
     "referenced_widgets": [
      "58838cef24194b70b6611da86a92c8e7"
     ]
    },
    "id": "xEMlzIBexPeA",
    "outputId": "26cd8ca1-58c4-47e2-939d-358024cabc8c"
   },
   "outputs": [],
   "source": [
    "grabFileName(\"disney_6month\")"
   ]
  }
 ],
 "metadata": {
  "colab": {
   "collapsed_sections": [],
   "include_colab_link": true,
   "name": "Code1_네이버블로그_크롤링.ipynb",
   "provenance": [],
   "toc_visible": true
  },
  "kernelspec": {
   "display_name": "Python 3",
   "language": "python",
   "name": "python3"
  },
  "language_info": {
   "codemirror_mode": {
    "name": "ipython",
    "version": 3
   },
   "file_extension": ".py",
   "mimetype": "text/x-python",
   "name": "python",
   "nbconvert_exporter": "python",
   "pygments_lexer": "ipython3",
   "version": "3.8.8"
  }
 },
 "nbformat": 4,
 "nbformat_minor": 1
}
