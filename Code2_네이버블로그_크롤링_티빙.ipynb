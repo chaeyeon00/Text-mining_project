{
 "cells": [
  {
   "cell_type": "code",
   "execution_count": 3,
   "metadata": {
    "id": "Z8qgriQVxPcy"
   },
   "outputs": [],
   "source": [
    "#Step 0. 필요한 모듈과 라이브러리를 로딩합니다.\n",
    "import sys\n",
    "import os\n",
    "import pandas as pd\n",
    "import numpy as np\n",
    "import openpyxl\n",
    "from datetime import datetime, timedelta\n",
    "\n",
    "\n",
    "from bs4 import BeautifulSoup\n",
    "from selenium import webdriver\n",
    "from selenium.webdriver.common.by import By\n",
    "import time\n",
    "import tqdm\n",
    "from tqdm.notebook import tqdm"
   ]
  },
  {
   "cell_type": "code",
   "execution_count": 2,
   "metadata": {
    "id": "XIuExYrExPc5"
   },
   "outputs": [],
   "source": []
  },
  {
   "cell_type": "code",
   "execution_count": 1,
   "metadata": {},
   "outputs": [],
   "source": [
    "query_txt='티빙 '"
   ]
  },
  {
   "cell_type": "markdown",
   "metadata": {},
   "source": [
    "## 대표프로그램 에 대한 사용자 컨텐츠 가져오기"
   ]
  },
  {
   "cell_type": "code",
   "execution_count": 3,
   "metadata": {},
   "outputs": [
    {
     "data": {
      "text/html": [
       "<div>\n",
       "<style scoped>\n",
       "    .dataframe tbody tr th:only-of-type {\n",
       "        vertical-align: middle;\n",
       "    }\n",
       "\n",
       "    .dataframe tbody tr th {\n",
       "        vertical-align: top;\n",
       "    }\n",
       "\n",
       "    .dataframe thead th {\n",
       "        text-align: right;\n",
       "    }\n",
       "</style>\n",
       "<table border=\"1\" class=\"dataframe\">\n",
       "  <thead>\n",
       "    <tr style=\"text-align: right;\">\n",
       "      <th></th>\n",
       "      <th>Unnamed: 0</th>\n",
       "      <th>TITLE</th>\n",
       "      <th>LINK</th>\n",
       "      <th>GENRES</th>\n",
       "    </tr>\n",
       "  </thead>\n",
       "  <tbody>\n",
       "    <tr>\n",
       "      <th>0</th>\n",
       "      <td>0</td>\n",
       "      <td>스트릿댄스 걸스 파이터</td>\n",
       "      <td>https://www.tving.com/vod/player/P001539425</td>\n",
       "      <td>예능</td>\n",
       "    </tr>\n",
       "    <tr>\n",
       "      <th>1</th>\n",
       "      <td>1</td>\n",
       "      <td>유 퀴즈 온 더 블럭</td>\n",
       "      <td>https://www.tving.com/vod/player/P000643144</td>\n",
       "      <td>예능</td>\n",
       "    </tr>\n",
       "    <tr>\n",
       "      <th>2</th>\n",
       "      <td>2</td>\n",
       "      <td>멜랑꼴리아</td>\n",
       "      <td>https://www.tving.com/vod/player/P001525969</td>\n",
       "      <td>드라마</td>\n",
       "    </tr>\n",
       "    <tr>\n",
       "      <th>3</th>\n",
       "      <td>3</td>\n",
       "      <td>술꾼도시여자들</td>\n",
       "      <td>https://www.tving.com/vod/player/P001518829</td>\n",
       "      <td>드라마</td>\n",
       "    </tr>\n",
       "    <tr>\n",
       "      <th>4</th>\n",
       "      <td>4</td>\n",
       "      <td>너를 닮은 사람</td>\n",
       "      <td>https://www.tving.com/vod/player/P001518011</td>\n",
       "      <td>드라마</td>\n",
       "    </tr>\n",
       "    <tr>\n",
       "      <th>...</th>\n",
       "      <td>...</td>\n",
       "      <td>...</td>\n",
       "      <td>...</td>\n",
       "      <td>...</td>\n",
       "    </tr>\n",
       "    <tr>\n",
       "      <th>95</th>\n",
       "      <td>95</td>\n",
       "      <td>간 떨어지는 동거</td>\n",
       "      <td>https://www.tving.com/vod/player/P001471948</td>\n",
       "      <td>드라마</td>\n",
       "    </tr>\n",
       "    <tr>\n",
       "      <th>96</th>\n",
       "      <td>96</td>\n",
       "      <td>사랑의 불시착</td>\n",
       "      <td>https://www.tving.com/vod/player/P001096961</td>\n",
       "      <td>드라마</td>\n",
       "    </tr>\n",
       "    <tr>\n",
       "      <th>97</th>\n",
       "      <td>97</td>\n",
       "      <td>38 사기동대</td>\n",
       "      <td>https://www.tving.com/vod/player/P000288116</td>\n",
       "      <td>드라마</td>\n",
       "    </tr>\n",
       "    <tr>\n",
       "      <th>98</th>\n",
       "      <td>98</td>\n",
       "      <td>헬로 트로트</td>\n",
       "      <td>https://www.tving.com/vod/player/P001531117</td>\n",
       "      <td>예능</td>\n",
       "    </tr>\n",
       "    <tr>\n",
       "      <th>99</th>\n",
       "      <td>99</td>\n",
       "      <td>스트릿 우먼 파이터 세번째 탈락팀 ′프라우드먼′ 비하인드</td>\n",
       "      <td>https://www.tving.com/vod/player/P001523144</td>\n",
       "      <td>예능</td>\n",
       "    </tr>\n",
       "  </tbody>\n",
       "</table>\n",
       "<p>100 rows × 4 columns</p>\n",
       "</div>"
      ],
      "text/plain": [
       "    Unnamed: 0                            TITLE  \\\n",
       "0            0                     스트릿댄스 걸스 파이터   \n",
       "1            1                      유 퀴즈 온 더 블럭   \n",
       "2            2                            멜랑꼴리아   \n",
       "3            3                          술꾼도시여자들   \n",
       "4            4                         너를 닮은 사람   \n",
       "..         ...                              ...   \n",
       "95          95                        간 떨어지는 동거   \n",
       "96          96                          사랑의 불시착   \n",
       "97          97                          38 사기동대   \n",
       "98          98                           헬로 트로트   \n",
       "99          99  스트릿 우먼 파이터 세번째 탈락팀 ′프라우드먼′ 비하인드   \n",
       "\n",
       "                                           LINK GENRES  \n",
       "0   https://www.tving.com/vod/player/P001539425     예능  \n",
       "1   https://www.tving.com/vod/player/P000643144     예능  \n",
       "2   https://www.tving.com/vod/player/P001525969    드라마  \n",
       "3   https://www.tving.com/vod/player/P001518829    드라마  \n",
       "4   https://www.tving.com/vod/player/P001518011    드라마  \n",
       "..                                          ...    ...  \n",
       "95  https://www.tving.com/vod/player/P001471948    드라마  \n",
       "96  https://www.tving.com/vod/player/P001096961    드라마  \n",
       "97  https://www.tving.com/vod/player/P000288116    드라마  \n",
       "98  https://www.tving.com/vod/player/P001531117     예능  \n",
       "99  https://www.tving.com/vod/player/P001523144     예능  \n",
       "\n",
       "[100 rows x 4 columns]"
      ]
     },
     "execution_count": 3,
     "metadata": {},
     "output_type": "execute_result"
    }
   ],
   "source": [
    "watcha_df=pd.read_excel(r\"D:\\Python\\TM\\TeamProject/tiving_contents.xlsx\")\n",
    "watcha_df"
   ]
  },
  {
   "cell_type": "code",
   "execution_count": 4,
   "metadata": {},
   "outputs": [
    {
     "name": "stdout",
     "output_type": "stream",
     "text": [
      "['티빙  스트릿댄스 걸스 파이터', '티빙  유 퀴즈 온 더 블럭', '티빙  멜랑꼴리아', '티빙  술꾼도시여자들', '티빙  너를 닮은 사람', '티빙  슬기로운 산촌생활', '티빙  해치지 않아', '티빙  [무삭제판] 해피니스', '티빙  내가 키운다', '티빙  러브캐처 인 서울', '티빙  지리산', '티빙  놀라운 토요일', '티빙  아는 형님', '티빙  어사와 조이', '티빙  Show Me The Money 10', '티빙  돌싱글즈2', '티빙  바퀴 달린 집 3', '티빙  뭉쳐야 찬다2', '티빙  키마이라', '티빙  해방타운', '티빙  풍류대장', '티빙  라켓보이즈', '티빙  [예고] 여고추리반2', '티빙  스트릿 우먼 파이터 갈라 토크쇼', '티빙  스트릿 우먼 파이터', '티빙  금쪽같은 내새끼', '티빙  유미의 세포들', '티빙  IDOL [아이돌 : The Coup]', '티빙  세리머니 클럽', '티빙  환승연애', '티빙  내 이름은 캐디', '티빙  어른연습생', '티빙  골프왕 시즌2', '티빙  대당여아행', '티빙  슬기로운 의사생활 시즌2', '티빙  삼생 초월 로맨스 우룡', '티빙  와카남', '티빙  여고추리반', '티빙  다수의 수다', '티빙  도시어부3', '티빙  해피니스', '티빙  신서유기 스페셜 스프링 캠프', '티빙  연애의 참견 시즌3', '티빙  러브캐처 2', '티빙  신서유기 5', '티빙  동굴캐슬', '티빙  명탐정 코난 19기 (더빙)', '티빙  프리한19', '티빙  짱구는못말려21', '티빙  맛있는 녀석들', '티빙  [예고]아이돌 받아쓰기 대회 2', '티빙  신서유기 6', '티빙  방구석1열', '티빙  신서유기 4 감독판', '티빙  골벤져스', '티빙  나는 SOLO', '티빙  신서유기 외전 강식당 3', '티빙  신서유기 7', '티빙  코미디빅리그', '티빙  애로부부', '티빙  신서유기 4', '티빙  신서유기 외전 강식당 2', '티빙  신서유기 8', '티빙  장안락', '티빙  명탐정 코난 2021', '티빙  대탈출4', '티빙  리더의 연애', '티빙  끝내주는 연애', '티빙  응답하라 1997', '티빙  천룡팔부 2021', '티빙  JTBC 뉴스룸', '티빙  갯마을 차차차', '티빙  슬기로운 의사생활', '티빙  신서유기 외전 강식당', '티빙  워룸: 위닝게임', '티빙  시고르 경양식', '티빙  쿡킹 : 요리왕의 탄생', '티빙  신서유기 외전: 아이슬란드 간 세끼 60분 특별판', '티빙  신서유기', '티빙  대탈출4 스페셜', '티빙  식스센스2', '티빙  나는 자연인이다', '티빙  무엇이든 물어보살', '티빙  신서유기 2', '티빙  영롱랑심: 늑대와 나', '티빙  이상한 과자가게 전천당', '티빙  토요일은 밥이 좋아', '티빙  러브캐처', '티빙  핑크퐁 동물동요', '티빙  스트릿 우먼 파이터 우승 크루 탄생 D-day', '티빙  응답하라 1988', '티빙  또 오해영', '티빙  운동천재 안재현', '티빙  명탐정 코난 미공개 X파일', '티빙  사건반장', '티빙  간 떨어지는 동거', '티빙  사랑의 불시착', '티빙  38 사기동대', '티빙  헬로 트로트', '티빙  스트릿 우먼 파이터 세번째 탈락팀 ′프라우드먼′ 비하인드']\n"
     ]
    }
   ],
   "source": [
    "query_list= watcha_df[\"TITLE\"].tolist()\n",
    "query_list = [query_txt + \" \" + i for i in query_list]\n",
    "print(query_list)"
   ]
  },
  {
   "cell_type": "markdown",
   "metadata": {},
   "source": [
    "### step 1. 대표프로그램 중 50개의 프로그램에 대해서 블로그 검색 URL  가져오기"
   ]
  },
  {
   "cell_type": "code",
   "execution_count": 5,
   "metadata": {},
   "outputs": [
    {
     "name": "stderr",
     "output_type": "stream",
     "text": [
      "<ipython-input-5-1f17cd855318>:7: DeprecationWarning: executable_path has been deprecated, please pass in a Service object\n",
      "  driver = webdriver.Chrome(r\"D:\\Python\\TM\\drivers\\chromedriver.exe\")\n",
      "<ipython-input-5-1f17cd855318>:15: DeprecationWarning: find_element_by_* commands are deprecated. Please use find_element() instead\n",
      "  element = driver.find_element_by_id(\"query\")\n",
      "<ipython-input-5-1f17cd855318>:21: DeprecationWarning: find_element_by_* commands are deprecated. Please use find_element() instead\n",
      "  driver.find_element_by_link_text(\"VIEW\").click( )\n",
      "<ipython-input-5-1f17cd855318>:24: DeprecationWarning: find_element_by_* commands are deprecated. Please use find_element() instead\n",
      "  driver.find_element_by_link_text(\"블로그\").click( )    # .click() 괄호 안을 눌러라는 뜻\n",
      "<ipython-input-5-1f17cd855318>:29: DeprecationWarning: find_element_by_* commands are deprecated. Please use find_element() instead\n",
      "  driver.find_element_by_xpath('//*[@id=\"snb\"]/div[1]/div/div[2]/a').click( )\n",
      "<ipython-input-5-1f17cd855318>:33: DeprecationWarning: find_element_by_* commands are deprecated. Please use find_element() instead\n",
      "  driver.find_element_by_xpath('//*[@id=\"snb\"]/div[2]/ul/li[2]/div/div/a[1]').click( )  # 정렬 버튼의 xpath 클릭\n",
      "<ipython-input-5-1f17cd855318>:38: DeprecationWarning: find_element_by_* commands are deprecated. Please use find_element() instead\n",
      "  driver.find_element_by_xpath('//*[@id=\"snb\"]/div[1]/div/div[2]/a').click( )\n"
     ]
    }
   ],
   "source": [
    "data_param={}\n",
    "\n",
    "for title in query_list[:50] :\n",
    "    #Step 1. 크롬 웹브라우저 실행\n",
    "    path = \"D:\\Python\\TM\\drivers\\chromedriver.exe\"\n",
    "\n",
    "    driver = webdriver.Chrome(r\"D:\\Python\\TM\\drivers\\chromedriver.exe\")\n",
    "    # 사이트 주소는 네이버\n",
    "    driver.get('http://www.naver.com')\n",
    "    time.sleep(2)\n",
    "    \n",
    "    try : \n",
    "    \n",
    "        #Step 2. 네이버 검색창에 \"검색어\" 검색\n",
    "        element = driver.find_element_by_id(\"query\")\n",
    "        element.send_keys(title)  \n",
    "        element.submit()\n",
    "\n",
    "        time.sleep(2)\n",
    "        #Step 3. \"VIEW\" 카테고리 선택\n",
    "        driver.find_element_by_link_text(\"VIEW\").click( )\n",
    "        time.sleep(2)\n",
    "        #Step 3-1. \"블로그\" 카테고리 선택\n",
    "        driver.find_element_by_link_text(\"블로그\").click( )    # .click() 괄호 안을 눌러라는 뜻\n",
    "\n",
    "        time.sleep(2)\n",
    "\n",
    "        #Step 4. 오른쪽의 검색 옵션 버튼 클릭\n",
    "        driver.find_element_by_xpath('//*[@id=\"snb\"]/div[1]/div/div[2]/a').click( )\n",
    "\n",
    "        #Step 5. 정렬 : \"관련도순\" \n",
    "        time.sleep(2)\n",
    "        driver.find_element_by_xpath('//*[@id=\"snb\"]/div[2]/ul/li[2]/div/div/a[1]').click( )  # 정렬 버튼의 xpath 클릭\n",
    "\n",
    "        time.sleep(2)\n",
    "\n",
    "        #Step 6. 날짜 입력을 위해서 옵션 재클릭 후 \" 기간 6개월 선택\"\n",
    "        driver.find_element_by_xpath('//*[@id=\"snb\"]/div[1]/div/div[2]/a').click( )\n",
    "        time.sleep(2)\n",
    "        #driver.find_element_by_xpath('//*[@id=\"snb\"]/div[2]/ul/li[3]/div/div[1]/a[7]').click()\n",
    "        driver.find_element(By.XPATH,'//*[contains(text(),\"6개월\") and @class=\"txt\"]').click()\n",
    "        data_param[title]=driver.find_element(By.XPATH,'//*[contains(text(),\"6개월\") and @class=\"txt\"]').get_attribute('data-param')\n",
    "        \n",
    "    except :\n",
    "        driver.close()\n",
    "        time.sleep(1)\n",
    "        continue\n",
    "        \n",
    "    driver.close()\n",
    "    "
   ]
  },
  {
   "cell_type": "markdown",
   "metadata": {},
   "source": [
    "### step 2 대표프로그램 중 50개의 프로그램에 대해서 블로그 검색 및 URL 정보에 들어가서 각 블로그 정보 크롤링"
   ]
  },
  {
   "cell_type": "code",
   "execution_count": 6,
   "metadata": {},
   "outputs": [],
   "source": [
    "def find_blogPage(movies_titles) :\n",
    "    url_list = []\n",
    "    title_list = []\n",
    "    date_list = []\n",
    "    driver = webdriver.Chrome(r\"D:\\Python\\TM\\drivers\\chromedriver.exe\")\n",
    "    \n",
    "    for k, v in movies_titles.items():\n",
    "        # ★몇개의 페이지를 크롤링할지 선택\n",
    "        total_page = 2 \n",
    "        for i in tqdm(range(1, total_page)):  # 페이지 번호\n",
    "            #i = i*10 + 1\n",
    "            print(i)\n",
    "            url = \"https://search.naver.com/search.naver?&query={0}&sm=tab_opt&{1}&where=post&start={2}\".format(\"+\".join(k.split()),v,i)\n",
    "            print(url)\n",
    "            driver.get(url)\n",
    "            time.sleep(2)\n",
    "\n",
    "            # URL 크롤링 시작\n",
    "            article_raw = driver.find_elements(By.XPATH, \"//a[@class= 'api_txt_lines total_tit']\")\n",
    "\n",
    "            # url 크롤링 시작    \n",
    "            for article in article_raw:\n",
    "                url = article.get_attribute('href')   \n",
    "                url_list.append(url)\n",
    "\n",
    "            # 제목 크롤링 시작    \n",
    "            for article in article_raw:\n",
    "                title = article.text\n",
    "                title_list.append(title)\n",
    "\n",
    "\n",
    "            # 업로드 날짜 크롤링 시작\n",
    "            article_date = driver.find_elements(By.XPATH,'//span[@class= \"sub_time sub_txt\"]')\n",
    "\n",
    "            for artice in article_date :\n",
    "                if \"전\" in artice.text  or artice.text in \"어제\" :\n",
    "                    if \"일\" in artice.text   :\n",
    "                        date = (datetime.today() - timedelta(int(artice.text[0]))).strftime(\"%Y.%m.%d.\")\n",
    "                    elif \"어제\" in artice.text :\n",
    "                        date=(( datetime.today() - timedelta(1)).strftime(\"%Y.%m.%d.\")) \n",
    "                    else :\n",
    "                        date=datetime.now().strftime(\"%Y.%m.%d\")\n",
    "\n",
    "                else :\n",
    "                    date  = artice.text\n",
    "                date_list.append(date)\n",
    "                \n",
    "                \n",
    "    print('url갯수: ', len(url_list))\n",
    "    print('url갯수: ', len(title_list))\n",
    "    print('url갯수: ', len(date_list))\n",
    "\n",
    "    df = pd.DataFrame({'url':url_list, 'title':title_list, 'date' : date_list })\n",
    "    \n",
    "    #driver.close()\n",
    "    return df"
   ]
  },
  {
   "cell_type": "code",
   "execution_count": 7,
   "metadata": {},
   "outputs": [
    {
     "name": "stderr",
     "output_type": "stream",
     "text": [
      "<ipython-input-6-443d4b312203>:5: DeprecationWarning: executable_path has been deprecated, please pass in a Service object\n",
      "  driver = webdriver.Chrome(r\"D:\\Python\\TM\\drivers\\chromedriver.exe\")\n"
     ]
    },
    {
     "data": {
      "application/vnd.jupyter.widget-view+json": {
       "model_id": "967961f3cb464b5da34425a7492bc083",
       "version_major": 2,
       "version_minor": 0
      },
      "text/plain": [
       "  0%|          | 0/1 [00:00<?, ?it/s]"
      ]
     },
     "metadata": {},
     "output_type": "display_data"
    },
    {
     "name": "stdout",
     "output_type": "stream",
     "text": [
      "1\n",
      "https://search.naver.com/search.naver?&query=티빙+스트릿댄스+걸스+파이터&sm=tab_opt&nso=so%3Ar%2Cp%3A6m&where=post&start=1\n"
     ]
    },
    {
     "data": {
      "application/vnd.jupyter.widget-view+json": {
       "model_id": "afde232705314775bb32ccb3126c63f3",
       "version_major": 2,
       "version_minor": 0
      },
      "text/plain": [
       "  0%|          | 0/1 [00:00<?, ?it/s]"
      ]
     },
     "metadata": {},
     "output_type": "display_data"
    },
    {
     "name": "stdout",
     "output_type": "stream",
     "text": [
      "1\n",
      "https://search.naver.com/search.naver?&query=티빙+유+퀴즈+온+더+블럭&sm=tab_opt&nso=so%3Ar%2Cp%3A6m&where=post&start=1\n"
     ]
    },
    {
     "data": {
      "application/vnd.jupyter.widget-view+json": {
       "model_id": "1b2b6a6dd4b04ae3b3c453b48363a92a",
       "version_major": 2,
       "version_minor": 0
      },
      "text/plain": [
       "  0%|          | 0/1 [00:00<?, ?it/s]"
      ]
     },
     "metadata": {},
     "output_type": "display_data"
    },
    {
     "name": "stdout",
     "output_type": "stream",
     "text": [
      "1\n",
      "https://search.naver.com/search.naver?&query=티빙+멜랑꼴리아&sm=tab_opt&nso=so%3Ar%2Cp%3A6m&where=post&start=1\n"
     ]
    },
    {
     "data": {
      "application/vnd.jupyter.widget-view+json": {
       "model_id": "0fbbb315cedc42d2b821cf4581199449",
       "version_major": 2,
       "version_minor": 0
      },
      "text/plain": [
       "  0%|          | 0/1 [00:00<?, ?it/s]"
      ]
     },
     "metadata": {},
     "output_type": "display_data"
    },
    {
     "name": "stdout",
     "output_type": "stream",
     "text": [
      "1\n",
      "https://search.naver.com/search.naver?&query=티빙+술꾼도시여자들&sm=tab_opt&nso=so%3Ar%2Cp%3A6m&where=post&start=1\n"
     ]
    },
    {
     "data": {
      "application/vnd.jupyter.widget-view+json": {
       "model_id": "36cd0e1fe6ea4b6ab663c7bc535b0afa",
       "version_major": 2,
       "version_minor": 0
      },
      "text/plain": [
       "  0%|          | 0/1 [00:00<?, ?it/s]"
      ]
     },
     "metadata": {},
     "output_type": "display_data"
    },
    {
     "name": "stdout",
     "output_type": "stream",
     "text": [
      "1\n",
      "https://search.naver.com/search.naver?&query=티빙+너를+닮은+사람&sm=tab_opt&nso=so%3Ar%2Cp%3A6m&where=post&start=1\n"
     ]
    },
    {
     "data": {
      "application/vnd.jupyter.widget-view+json": {
       "model_id": "924751184cc1404fb424d5936548f134",
       "version_major": 2,
       "version_minor": 0
      },
      "text/plain": [
       "  0%|          | 0/1 [00:00<?, ?it/s]"
      ]
     },
     "metadata": {},
     "output_type": "display_data"
    },
    {
     "name": "stdout",
     "output_type": "stream",
     "text": [
      "1\n",
      "https://search.naver.com/search.naver?&query=티빙+슬기로운+산촌생활&sm=tab_opt&nso=so%3Ar%2Cp%3A6m&where=post&start=1\n"
     ]
    },
    {
     "data": {
      "application/vnd.jupyter.widget-view+json": {
       "model_id": "a2dade21dfe740a3bff6b9726c57b1b3",
       "version_major": 2,
       "version_minor": 0
      },
      "text/plain": [
       "  0%|          | 0/1 [00:00<?, ?it/s]"
      ]
     },
     "metadata": {},
     "output_type": "display_data"
    },
    {
     "name": "stdout",
     "output_type": "stream",
     "text": [
      "1\n",
      "https://search.naver.com/search.naver?&query=티빙+해치지+않아&sm=tab_opt&nso=so%3Ar%2Cp%3A6m&where=post&start=1\n"
     ]
    },
    {
     "data": {
      "application/vnd.jupyter.widget-view+json": {
       "model_id": "9d048b2dddff4b5abc35d1825d6d2732",
       "version_major": 2,
       "version_minor": 0
      },
      "text/plain": [
       "  0%|          | 0/1 [00:00<?, ?it/s]"
      ]
     },
     "metadata": {},
     "output_type": "display_data"
    },
    {
     "name": "stdout",
     "output_type": "stream",
     "text": [
      "1\n",
      "https://search.naver.com/search.naver?&query=티빙+[무삭제판]+해피니스&sm=tab_opt&nso=so%3Ar%2Cp%3A6m&where=post&start=1\n"
     ]
    },
    {
     "data": {
      "application/vnd.jupyter.widget-view+json": {
       "model_id": "0274ec6d85e549dab210468d60cdeacc",
       "version_major": 2,
       "version_minor": 0
      },
      "text/plain": [
       "  0%|          | 0/1 [00:00<?, ?it/s]"
      ]
     },
     "metadata": {},
     "output_type": "display_data"
    },
    {
     "name": "stdout",
     "output_type": "stream",
     "text": [
      "1\n",
      "https://search.naver.com/search.naver?&query=티빙+내가+키운다&sm=tab_opt&nso=so%3Ar%2Cp%3A6m&where=post&start=1\n"
     ]
    },
    {
     "data": {
      "application/vnd.jupyter.widget-view+json": {
       "model_id": "4f36be97a4e94f5580c71077f1c5191d",
       "version_major": 2,
       "version_minor": 0
      },
      "text/plain": [
       "  0%|          | 0/1 [00:00<?, ?it/s]"
      ]
     },
     "metadata": {},
     "output_type": "display_data"
    },
    {
     "name": "stdout",
     "output_type": "stream",
     "text": [
      "1\n",
      "https://search.naver.com/search.naver?&query=티빙+러브캐처+인+서울&sm=tab_opt&nso=so%3Ar%2Cp%3A6m&where=post&start=1\n"
     ]
    },
    {
     "data": {
      "application/vnd.jupyter.widget-view+json": {
       "model_id": "6f8b39c21af34a7f940d8749b31d9e46",
       "version_major": 2,
       "version_minor": 0
      },
      "text/plain": [
       "  0%|          | 0/1 [00:00<?, ?it/s]"
      ]
     },
     "metadata": {},
     "output_type": "display_data"
    },
    {
     "name": "stdout",
     "output_type": "stream",
     "text": [
      "1\n",
      "https://search.naver.com/search.naver?&query=티빙+지리산&sm=tab_opt&nso=so%3Ar%2Cp%3A6m&where=post&start=1\n"
     ]
    },
    {
     "data": {
      "application/vnd.jupyter.widget-view+json": {
       "model_id": "0a125d7ab5734858b8bc6a6af191d7ed",
       "version_major": 2,
       "version_minor": 0
      },
      "text/plain": [
       "  0%|          | 0/1 [00:00<?, ?it/s]"
      ]
     },
     "metadata": {},
     "output_type": "display_data"
    },
    {
     "name": "stdout",
     "output_type": "stream",
     "text": [
      "1\n",
      "https://search.naver.com/search.naver?&query=티빙+놀라운+토요일&sm=tab_opt&nso=so%3Ar%2Cp%3A6m&where=post&start=1\n"
     ]
    },
    {
     "data": {
      "application/vnd.jupyter.widget-view+json": {
       "model_id": "42b6f8b350db4b6ba2321a351b2ef8ff",
       "version_major": 2,
       "version_minor": 0
      },
      "text/plain": [
       "  0%|          | 0/1 [00:00<?, ?it/s]"
      ]
     },
     "metadata": {},
     "output_type": "display_data"
    },
    {
     "name": "stdout",
     "output_type": "stream",
     "text": [
      "1\n",
      "https://search.naver.com/search.naver?&query=티빙+아는+형님&sm=tab_opt&nso=so%3Ar%2Cp%3A6m&where=post&start=1\n"
     ]
    },
    {
     "data": {
      "application/vnd.jupyter.widget-view+json": {
       "model_id": "93bdd1ad14574a79af98ae129c67c834",
       "version_major": 2,
       "version_minor": 0
      },
      "text/plain": [
       "  0%|          | 0/1 [00:00<?, ?it/s]"
      ]
     },
     "metadata": {},
     "output_type": "display_data"
    },
    {
     "name": "stdout",
     "output_type": "stream",
     "text": [
      "1\n",
      "https://search.naver.com/search.naver?&query=티빙+어사와+조이&sm=tab_opt&nso=so%3Ar%2Cp%3A6m&where=post&start=1\n"
     ]
    },
    {
     "data": {
      "application/vnd.jupyter.widget-view+json": {
       "model_id": "9b27da35ae6147c7992d81ba0d328b48",
       "version_major": 2,
       "version_minor": 0
      },
      "text/plain": [
       "  0%|          | 0/1 [00:00<?, ?it/s]"
      ]
     },
     "metadata": {},
     "output_type": "display_data"
    },
    {
     "name": "stdout",
     "output_type": "stream",
     "text": [
      "1\n",
      "https://search.naver.com/search.naver?&query=티빙+Show+Me+The+Money+10&sm=tab_opt&nso=so%3Ar%2Cp%3A6m&where=post&start=1\n"
     ]
    },
    {
     "data": {
      "application/vnd.jupyter.widget-view+json": {
       "model_id": "8c983200acb04a2d90a05b1c2bec9f06",
       "version_major": 2,
       "version_minor": 0
      },
      "text/plain": [
       "  0%|          | 0/1 [00:00<?, ?it/s]"
      ]
     },
     "metadata": {},
     "output_type": "display_data"
    },
    {
     "name": "stdout",
     "output_type": "stream",
     "text": [
      "1\n",
      "https://search.naver.com/search.naver?&query=티빙+돌싱글즈2&sm=tab_opt&nso=so%3Ar%2Cp%3A6m&where=post&start=1\n"
     ]
    },
    {
     "data": {
      "application/vnd.jupyter.widget-view+json": {
       "model_id": "85538ffa7357447bb984471da27ec4ad",
       "version_major": 2,
       "version_minor": 0
      },
      "text/plain": [
       "  0%|          | 0/1 [00:00<?, ?it/s]"
      ]
     },
     "metadata": {},
     "output_type": "display_data"
    },
    {
     "name": "stdout",
     "output_type": "stream",
     "text": [
      "1\n",
      "https://search.naver.com/search.naver?&query=티빙+바퀴+달린+집+3&sm=tab_opt&nso=so%3Ar%2Cp%3A6m&where=post&start=1\n"
     ]
    },
    {
     "data": {
      "application/vnd.jupyter.widget-view+json": {
       "model_id": "7a1fd70aca03464a8df1225dd845511a",
       "version_major": 2,
       "version_minor": 0
      },
      "text/plain": [
       "  0%|          | 0/1 [00:00<?, ?it/s]"
      ]
     },
     "metadata": {},
     "output_type": "display_data"
    },
    {
     "name": "stdout",
     "output_type": "stream",
     "text": [
      "1\n",
      "https://search.naver.com/search.naver?&query=티빙+뭉쳐야+찬다2&sm=tab_opt&nso=so%3Ar%2Cp%3A6m&where=post&start=1\n"
     ]
    },
    {
     "data": {
      "application/vnd.jupyter.widget-view+json": {
       "model_id": "4916b4dfa33c4c1fa7f3ecf46ed48ff4",
       "version_major": 2,
       "version_minor": 0
      },
      "text/plain": [
       "  0%|          | 0/1 [00:00<?, ?it/s]"
      ]
     },
     "metadata": {},
     "output_type": "display_data"
    },
    {
     "name": "stdout",
     "output_type": "stream",
     "text": [
      "1\n",
      "https://search.naver.com/search.naver?&query=티빙+키마이라&sm=tab_opt&nso=so%3Ar%2Cp%3A6m&where=post&start=1\n"
     ]
    },
    {
     "data": {
      "application/vnd.jupyter.widget-view+json": {
       "model_id": "8d0d32de81ac4629b5966902b1639d34",
       "version_major": 2,
       "version_minor": 0
      },
      "text/plain": [
       "  0%|          | 0/1 [00:00<?, ?it/s]"
      ]
     },
     "metadata": {},
     "output_type": "display_data"
    },
    {
     "name": "stdout",
     "output_type": "stream",
     "text": [
      "1\n",
      "https://search.naver.com/search.naver?&query=티빙+해방타운&sm=tab_opt&nso=so%3Ar%2Cp%3A6m&where=post&start=1\n"
     ]
    },
    {
     "data": {
      "application/vnd.jupyter.widget-view+json": {
       "model_id": "8096d75842d94ccaab84d9fa8c3cca55",
       "version_major": 2,
       "version_minor": 0
      },
      "text/plain": [
       "  0%|          | 0/1 [00:00<?, ?it/s]"
      ]
     },
     "metadata": {},
     "output_type": "display_data"
    },
    {
     "name": "stdout",
     "output_type": "stream",
     "text": [
      "1\n",
      "https://search.naver.com/search.naver?&query=티빙+풍류대장&sm=tab_opt&nso=so%3Ar%2Cp%3A6m&where=post&start=1\n"
     ]
    },
    {
     "data": {
      "application/vnd.jupyter.widget-view+json": {
       "model_id": "5ef543c2df0e4edab258aa21d4facf2a",
       "version_major": 2,
       "version_minor": 0
      },
      "text/plain": [
       "  0%|          | 0/1 [00:00<?, ?it/s]"
      ]
     },
     "metadata": {},
     "output_type": "display_data"
    },
    {
     "name": "stdout",
     "output_type": "stream",
     "text": [
      "1\n",
      "https://search.naver.com/search.naver?&query=티빙+라켓보이즈&sm=tab_opt&nso=so%3Ar%2Cp%3A6m&where=post&start=1\n"
     ]
    },
    {
     "data": {
      "application/vnd.jupyter.widget-view+json": {
       "model_id": "277e26ee767442ccb7bb90f0fff13118",
       "version_major": 2,
       "version_minor": 0
      },
      "text/plain": [
       "  0%|          | 0/1 [00:00<?, ?it/s]"
      ]
     },
     "metadata": {},
     "output_type": "display_data"
    },
    {
     "name": "stdout",
     "output_type": "stream",
     "text": [
      "1\n",
      "https://search.naver.com/search.naver?&query=티빙+[예고]+여고추리반2&sm=tab_opt&nso=so%3Ar%2Cp%3A6m&where=post&start=1\n"
     ]
    },
    {
     "data": {
      "application/vnd.jupyter.widget-view+json": {
       "model_id": "b1d6e55a9e704f49b792d1c4e80932e9",
       "version_major": 2,
       "version_minor": 0
      },
      "text/plain": [
       "  0%|          | 0/1 [00:00<?, ?it/s]"
      ]
     },
     "metadata": {},
     "output_type": "display_data"
    },
    {
     "name": "stdout",
     "output_type": "stream",
     "text": [
      "1\n",
      "https://search.naver.com/search.naver?&query=티빙+스트릿+우먼+파이터+갈라+토크쇼&sm=tab_opt&nso=so%3Ar%2Cp%3A6m&where=post&start=1\n"
     ]
    },
    {
     "data": {
      "application/vnd.jupyter.widget-view+json": {
       "model_id": "db5aa151ce0d4421be4319bfb45fbb82",
       "version_major": 2,
       "version_minor": 0
      },
      "text/plain": [
       "  0%|          | 0/1 [00:00<?, ?it/s]"
      ]
     },
     "metadata": {},
     "output_type": "display_data"
    },
    {
     "name": "stdout",
     "output_type": "stream",
     "text": [
      "1\n",
      "https://search.naver.com/search.naver?&query=티빙+스트릿+우먼+파이터&sm=tab_opt&nso=so%3Ar%2Cp%3A6m&where=post&start=1\n"
     ]
    },
    {
     "data": {
      "application/vnd.jupyter.widget-view+json": {
       "model_id": "e75f0a04e5844139be926b176560ee9d",
       "version_major": 2,
       "version_minor": 0
      },
      "text/plain": [
       "  0%|          | 0/1 [00:00<?, ?it/s]"
      ]
     },
     "metadata": {},
     "output_type": "display_data"
    },
    {
     "name": "stdout",
     "output_type": "stream",
     "text": [
      "1\n",
      "https://search.naver.com/search.naver?&query=티빙+금쪽같은+내새끼&sm=tab_opt&nso=so%3Ar%2Cp%3A6m&where=post&start=1\n"
     ]
    },
    {
     "data": {
      "application/vnd.jupyter.widget-view+json": {
       "model_id": "02265b4cad3d4d0eb8603166f4e6b89c",
       "version_major": 2,
       "version_minor": 0
      },
      "text/plain": [
       "  0%|          | 0/1 [00:00<?, ?it/s]"
      ]
     },
     "metadata": {},
     "output_type": "display_data"
    },
    {
     "name": "stdout",
     "output_type": "stream",
     "text": [
      "1\n",
      "https://search.naver.com/search.naver?&query=티빙+유미의+세포들&sm=tab_opt&nso=so%3Ar%2Cp%3A6m&where=post&start=1\n"
     ]
    },
    {
     "data": {
      "application/vnd.jupyter.widget-view+json": {
       "model_id": "924fecf52eb8485a974460eea7c6f523",
       "version_major": 2,
       "version_minor": 0
      },
      "text/plain": [
       "  0%|          | 0/1 [00:00<?, ?it/s]"
      ]
     },
     "metadata": {},
     "output_type": "display_data"
    },
    {
     "name": "stdout",
     "output_type": "stream",
     "text": [
      "1\n",
      "https://search.naver.com/search.naver?&query=티빙+IDOL+[아이돌+:+The+Coup]&sm=tab_opt&nso=so%3Ar%2Cp%3A6m&where=post&start=1\n"
     ]
    },
    {
     "data": {
      "application/vnd.jupyter.widget-view+json": {
       "model_id": "0fc88e6ad8bc4b72844f6ceec0487e86",
       "version_major": 2,
       "version_minor": 0
      },
      "text/plain": [
       "  0%|          | 0/1 [00:00<?, ?it/s]"
      ]
     },
     "metadata": {},
     "output_type": "display_data"
    },
    {
     "name": "stdout",
     "output_type": "stream",
     "text": [
      "1\n",
      "https://search.naver.com/search.naver?&query=티빙+세리머니+클럽&sm=tab_opt&nso=so%3Ar%2Cp%3A6m&where=post&start=1\n"
     ]
    },
    {
     "data": {
      "application/vnd.jupyter.widget-view+json": {
       "model_id": "5c8e6b9fb4b544a9a585ce5ac8968ede",
       "version_major": 2,
       "version_minor": 0
      },
      "text/plain": [
       "  0%|          | 0/1 [00:00<?, ?it/s]"
      ]
     },
     "metadata": {},
     "output_type": "display_data"
    },
    {
     "name": "stdout",
     "output_type": "stream",
     "text": [
      "1\n",
      "https://search.naver.com/search.naver?&query=티빙+환승연애&sm=tab_opt&nso=so%3Ar%2Cp%3A6m&where=post&start=1\n"
     ]
    },
    {
     "data": {
      "application/vnd.jupyter.widget-view+json": {
       "model_id": "3f2fddc0817e43918218950a797c376a",
       "version_major": 2,
       "version_minor": 0
      },
      "text/plain": [
       "  0%|          | 0/1 [00:00<?, ?it/s]"
      ]
     },
     "metadata": {},
     "output_type": "display_data"
    },
    {
     "name": "stdout",
     "output_type": "stream",
     "text": [
      "1\n",
      "https://search.naver.com/search.naver?&query=티빙+내+이름은+캐디&sm=tab_opt&nso=so%3Ar%2Cp%3A6m&where=post&start=1\n"
     ]
    },
    {
     "data": {
      "application/vnd.jupyter.widget-view+json": {
       "model_id": "772bb7cfa6174a8daaa5bf61eb9d510b",
       "version_major": 2,
       "version_minor": 0
      },
      "text/plain": [
       "  0%|          | 0/1 [00:00<?, ?it/s]"
      ]
     },
     "metadata": {},
     "output_type": "display_data"
    },
    {
     "name": "stdout",
     "output_type": "stream",
     "text": [
      "1\n",
      "https://search.naver.com/search.naver?&query=티빙+어른연습생&sm=tab_opt&nso=so%3Ar%2Cp%3A6m&where=post&start=1\n"
     ]
    },
    {
     "data": {
      "application/vnd.jupyter.widget-view+json": {
       "model_id": "000c02ac9d074b33acf3165692c39f46",
       "version_major": 2,
       "version_minor": 0
      },
      "text/plain": [
       "  0%|          | 0/1 [00:00<?, ?it/s]"
      ]
     },
     "metadata": {},
     "output_type": "display_data"
    },
    {
     "name": "stdout",
     "output_type": "stream",
     "text": [
      "1\n",
      "https://search.naver.com/search.naver?&query=티빙+골프왕+시즌2&sm=tab_opt&nso=so%3Ar%2Cp%3A6m&where=post&start=1\n"
     ]
    },
    {
     "data": {
      "application/vnd.jupyter.widget-view+json": {
       "model_id": "8e52ff3684954c989d0e70092674b3cb",
       "version_major": 2,
       "version_minor": 0
      },
      "text/plain": [
       "  0%|          | 0/1 [00:00<?, ?it/s]"
      ]
     },
     "metadata": {},
     "output_type": "display_data"
    },
    {
     "name": "stdout",
     "output_type": "stream",
     "text": [
      "1\n",
      "https://search.naver.com/search.naver?&query=티빙+대당여아행&sm=tab_opt&nso=so%3Ar%2Cp%3A6m&where=post&start=1\n"
     ]
    },
    {
     "data": {
      "application/vnd.jupyter.widget-view+json": {
       "model_id": "a47906c482f1459cac7dfa45eff1d4c1",
       "version_major": 2,
       "version_minor": 0
      },
      "text/plain": [
       "  0%|          | 0/1 [00:00<?, ?it/s]"
      ]
     },
     "metadata": {},
     "output_type": "display_data"
    },
    {
     "name": "stdout",
     "output_type": "stream",
     "text": [
      "1\n",
      "https://search.naver.com/search.naver?&query=티빙+슬기로운+의사생활+시즌2&sm=tab_opt&nso=so%3Ar%2Cp%3A6m&where=post&start=1\n"
     ]
    },
    {
     "data": {
      "application/vnd.jupyter.widget-view+json": {
       "model_id": "c498b7ee174c451d93fe5050e9b33c14",
       "version_major": 2,
       "version_minor": 0
      },
      "text/plain": [
       "  0%|          | 0/1 [00:00<?, ?it/s]"
      ]
     },
     "metadata": {},
     "output_type": "display_data"
    },
    {
     "name": "stdout",
     "output_type": "stream",
     "text": [
      "1\n",
      "https://search.naver.com/search.naver?&query=티빙+삼생+초월+로맨스+우룡&sm=tab_opt&nso=so%3Ar%2Cp%3A6m&where=post&start=1\n"
     ]
    },
    {
     "data": {
      "application/vnd.jupyter.widget-view+json": {
       "model_id": "80fd210530f64a5b9a7f55cb750b9393",
       "version_major": 2,
       "version_minor": 0
      },
      "text/plain": [
       "  0%|          | 0/1 [00:00<?, ?it/s]"
      ]
     },
     "metadata": {},
     "output_type": "display_data"
    },
    {
     "name": "stdout",
     "output_type": "stream",
     "text": [
      "1\n",
      "https://search.naver.com/search.naver?&query=티빙+와카남&sm=tab_opt&nso=so%3Ar%2Cp%3A6m&where=post&start=1\n"
     ]
    },
    {
     "data": {
      "application/vnd.jupyter.widget-view+json": {
       "model_id": "4baba1b0280d4a7db296653ad0ae27c0",
       "version_major": 2,
       "version_minor": 0
      },
      "text/plain": [
       "  0%|          | 0/1 [00:00<?, ?it/s]"
      ]
     },
     "metadata": {},
     "output_type": "display_data"
    },
    {
     "name": "stdout",
     "output_type": "stream",
     "text": [
      "1\n",
      "https://search.naver.com/search.naver?&query=티빙+여고추리반&sm=tab_opt&nso=so%3Ar%2Cp%3A6m&where=post&start=1\n"
     ]
    },
    {
     "data": {
      "application/vnd.jupyter.widget-view+json": {
       "model_id": "b313f5107e5646e8a0cc9f44dc720c39",
       "version_major": 2,
       "version_minor": 0
      },
      "text/plain": [
       "  0%|          | 0/1 [00:00<?, ?it/s]"
      ]
     },
     "metadata": {},
     "output_type": "display_data"
    },
    {
     "name": "stdout",
     "output_type": "stream",
     "text": [
      "1\n",
      "https://search.naver.com/search.naver?&query=티빙+다수의+수다&sm=tab_opt&nso=so%3Ar%2Cp%3A6m&where=post&start=1\n"
     ]
    },
    {
     "data": {
      "application/vnd.jupyter.widget-view+json": {
       "model_id": "35d2ed70c61a498499e559e02488d8f9",
       "version_major": 2,
       "version_minor": 0
      },
      "text/plain": [
       "  0%|          | 0/1 [00:00<?, ?it/s]"
      ]
     },
     "metadata": {},
     "output_type": "display_data"
    },
    {
     "name": "stdout",
     "output_type": "stream",
     "text": [
      "1\n",
      "https://search.naver.com/search.naver?&query=티빙+도시어부3&sm=tab_opt&nso=so%3Ar%2Cp%3A6m&where=post&start=1\n"
     ]
    },
    {
     "data": {
      "application/vnd.jupyter.widget-view+json": {
       "model_id": "f0576fcd815c407c92fe49bbbe5a8b47",
       "version_major": 2,
       "version_minor": 0
      },
      "text/plain": [
       "  0%|          | 0/1 [00:00<?, ?it/s]"
      ]
     },
     "metadata": {},
     "output_type": "display_data"
    },
    {
     "name": "stdout",
     "output_type": "stream",
     "text": [
      "1\n",
      "https://search.naver.com/search.naver?&query=티빙+해피니스&sm=tab_opt&nso=so%3Ar%2Cp%3A6m&where=post&start=1\n"
     ]
    },
    {
     "data": {
      "application/vnd.jupyter.widget-view+json": {
       "model_id": "c2602dc4176947b690f7902dca62816a",
       "version_major": 2,
       "version_minor": 0
      },
      "text/plain": [
       "  0%|          | 0/1 [00:00<?, ?it/s]"
      ]
     },
     "metadata": {},
     "output_type": "display_data"
    },
    {
     "name": "stdout",
     "output_type": "stream",
     "text": [
      "1\n",
      "https://search.naver.com/search.naver?&query=티빙+신서유기+스페셜+스프링+캠프&sm=tab_opt&nso=so%3Ar%2Cp%3A6m&where=post&start=1\n"
     ]
    },
    {
     "data": {
      "application/vnd.jupyter.widget-view+json": {
       "model_id": "129a540a2f5e4d9b89402dc57832c423",
       "version_major": 2,
       "version_minor": 0
      },
      "text/plain": [
       "  0%|          | 0/1 [00:00<?, ?it/s]"
      ]
     },
     "metadata": {},
     "output_type": "display_data"
    },
    {
     "name": "stdout",
     "output_type": "stream",
     "text": [
      "1\n",
      "https://search.naver.com/search.naver?&query=티빙+연애의+참견+시즌3&sm=tab_opt&nso=so%3Ar%2Cp%3A6m&where=post&start=1\n"
     ]
    },
    {
     "data": {
      "application/vnd.jupyter.widget-view+json": {
       "model_id": "d0faf68b8bf04fa5a26c470fbf647447",
       "version_major": 2,
       "version_minor": 0
      },
      "text/plain": [
       "  0%|          | 0/1 [00:00<?, ?it/s]"
      ]
     },
     "metadata": {},
     "output_type": "display_data"
    },
    {
     "name": "stdout",
     "output_type": "stream",
     "text": [
      "1\n",
      "https://search.naver.com/search.naver?&query=티빙+러브캐처+2&sm=tab_opt&nso=so%3Ar%2Cp%3A6m&where=post&start=1\n"
     ]
    },
    {
     "data": {
      "application/vnd.jupyter.widget-view+json": {
       "model_id": "8cf138e8ffe1442bba21a0536bc13a2a",
       "version_major": 2,
       "version_minor": 0
      },
      "text/plain": [
       "  0%|          | 0/1 [00:00<?, ?it/s]"
      ]
     },
     "metadata": {},
     "output_type": "display_data"
    },
    {
     "name": "stdout",
     "output_type": "stream",
     "text": [
      "1\n",
      "https://search.naver.com/search.naver?&query=티빙+신서유기+5&sm=tab_opt&nso=so%3Ar%2Cp%3A6m&where=post&start=1\n"
     ]
    },
    {
     "data": {
      "application/vnd.jupyter.widget-view+json": {
       "model_id": "12eea5c4f3c346ffb7b62cd50bab107e",
       "version_major": 2,
       "version_minor": 0
      },
      "text/plain": [
       "  0%|          | 0/1 [00:00<?, ?it/s]"
      ]
     },
     "metadata": {},
     "output_type": "display_data"
    },
    {
     "name": "stdout",
     "output_type": "stream",
     "text": [
      "1\n",
      "https://search.naver.com/search.naver?&query=티빙+동굴캐슬&sm=tab_opt&nso=so%3Ar%2Cp%3A6m&where=post&start=1\n"
     ]
    },
    {
     "data": {
      "application/vnd.jupyter.widget-view+json": {
       "model_id": "493140fe70044d7eb54969b2d3fb5393",
       "version_major": 2,
       "version_minor": 0
      },
      "text/plain": [
       "  0%|          | 0/1 [00:00<?, ?it/s]"
      ]
     },
     "metadata": {},
     "output_type": "display_data"
    },
    {
     "name": "stdout",
     "output_type": "stream",
     "text": [
      "1\n",
      "https://search.naver.com/search.naver?&query=티빙+명탐정+코난+19기+(더빙)&sm=tab_opt&nso=so%3Ar%2Cp%3A6m&where=post&start=1\n"
     ]
    },
    {
     "data": {
      "application/vnd.jupyter.widget-view+json": {
       "model_id": "ad841b179a9f4a74905cd29a5bb723c7",
       "version_major": 2,
       "version_minor": 0
      },
      "text/plain": [
       "  0%|          | 0/1 [00:00<?, ?it/s]"
      ]
     },
     "metadata": {},
     "output_type": "display_data"
    },
    {
     "name": "stdout",
     "output_type": "stream",
     "text": [
      "1\n",
      "https://search.naver.com/search.naver?&query=티빙+프리한19&sm=tab_opt&nso=so%3Ar%2Cp%3A6m&where=post&start=1\n"
     ]
    },
    {
     "data": {
      "application/vnd.jupyter.widget-view+json": {
       "model_id": "8db43c40c7bb4ef19a3bcca3648c6f6b",
       "version_major": 2,
       "version_minor": 0
      },
      "text/plain": [
       "  0%|          | 0/1 [00:00<?, ?it/s]"
      ]
     },
     "metadata": {},
     "output_type": "display_data"
    },
    {
     "name": "stdout",
     "output_type": "stream",
     "text": [
      "1\n",
      "https://search.naver.com/search.naver?&query=티빙+짱구는못말려21&sm=tab_opt&nso=so%3Ar%2Cp%3A6m&where=post&start=1\n"
     ]
    },
    {
     "data": {
      "application/vnd.jupyter.widget-view+json": {
       "model_id": "479281295bf140b5872bdfea0cdcb052",
       "version_major": 2,
       "version_minor": 0
      },
      "text/plain": [
       "  0%|          | 0/1 [00:00<?, ?it/s]"
      ]
     },
     "metadata": {},
     "output_type": "display_data"
    },
    {
     "name": "stdout",
     "output_type": "stream",
     "text": [
      "1\n",
      "https://search.naver.com/search.naver?&query=티빙+맛있는+녀석들&sm=tab_opt&nso=so%3Ar%2Cp%3A6m&where=post&start=1\n",
      "url갯수:  1343\n",
      "url갯수:  1343\n",
      "url갯수:  1343\n"
     ]
    }
   ],
   "source": [
    "    # 저장하기\n",
    "df = find_blogPage(data_param)\n",
    "df.to_excel(r\"D:\\Python\\TM\\TeamProject/tiving_6month.xlsx\")"
   ]
  },
  {
   "cell_type": "markdown",
   "metadata": {
    "id": "8txJjgMQxPdw"
   },
   "source": [
    "## 본문 크롤링 하기"
   ]
  },
  {
   "cell_type": "markdown",
   "metadata": {},
   "source": [
    "### step 3 대표프로그램 중 50개의 프로그램에 대해서 건별 블로그에 내용 GET(본문크롤링 => 자세한 분석은 code3)"
   ]
  },
  {
   "cell_type": "code",
   "execution_count": 5,
   "metadata": {
    "id": "BGWG5_fnxPd7",
    "outputId": "c22bebd6-2460-4a50-d70d-8f73f810234c",
    "scrolled": true
   },
   "outputs": [
    {
     "name": "stdout",
     "output_type": "stream",
     "text": [
      "1343\n"
     ]
    }
   ],
   "source": [
    "# \"url_list.csv\" 불러오기\n",
    "url_load = pd.read_excel(r\"D:\\Python\\TM\\TeamProject/tiving_6month.xlsx\")        # 기본 모델\n",
    "#url_load =df\n",
    "print(len(url_load))\n"
   ]
  },
  {
   "cell_type": "code",
   "execution_count": 123,
   "metadata": {},
   "outputs": [
    {
     "name": "stdout",
     "output_type": "stream",
     "text": [
      "['https://anilover.tistory.com/5835']\n"
     ]
    }
   ],
   "source": [
    "#340+48\n",
    "chk_url = url_load['url'][388]\n",
    "print(chk_url.split(\"logNo=\"))"
   ]
  },
  {
   "cell_type": "code",
   "execution_count": 6,
   "metadata": {},
   "outputs": [
    {
     "data": {
      "application/vnd.jupyter.widget-view+json": {
       "model_id": "f4ce0a0f5d174368b03bcc9ecb9151e0",
       "version_major": 2,
       "version_minor": 0
      },
      "text/plain": [
       "  0%|          | 0/730 [00:00<?, ?it/s]"
      ]
     },
     "metadata": {},
     "output_type": "display_data"
    },
    {
     "name": "stderr",
     "output_type": "stream",
     "text": [
      "<ipython-input-6-0abceff592dd>:7: DeprecationWarning: executable_path has been deprecated, please pass in a Service object\n",
      "  driver = webdriver.Chrome(r\"D:\\Python\\TM\\drivers\\chromedriver.exe\")\n"
     ]
    },
    {
     "name": "stdout",
     "output_type": "stream",
     "text": [
      "<bound method WebDriver.get of <selenium.webdriver.chrome.webdriver.WebDriver (session=\"98fc7c5218dd3e5a6a4f05b13fb2d701\")>>\n",
      "<bound method WebDriver.get of <selenium.webdriver.chrome.webdriver.WebDriver (session=\"dcb921c509d0ab4a158aca6444cb2337\")>>\n",
      "<bound method WebDriver.get of <selenium.webdriver.chrome.webdriver.WebDriver (session=\"a3307bd649cafb0c0c91ac0aa7b8d76e\")>>\n",
      "<bound method WebDriver.get of <selenium.webdriver.chrome.webdriver.WebDriver (session=\"15d07e6b73bba9cd441afb604edc0239\")>>\n",
      "<bound method WebDriver.get of <selenium.webdriver.chrome.webdriver.WebDriver (session=\"5ad9110c36d600d13d8ad8ed23dec594\")>>\n",
      "<bound method WebDriver.get of <selenium.webdriver.chrome.webdriver.WebDriver (session=\"9a6dcb45b49c49b7204549a537342889\")>>\n",
      "<bound method WebDriver.get of <selenium.webdriver.chrome.webdriver.WebDriver (session=\"f1525271960624ff1d7a3e2dfe902356\")>>\n",
      "<bound method WebDriver.get of <selenium.webdriver.chrome.webdriver.WebDriver (session=\"85f1b32a51bfa942d536ceca65e6c76e\")>>\n",
      "<bound method WebDriver.get of <selenium.webdriver.chrome.webdriver.WebDriver (session=\"2beb32bfe62d5c5d4dbc6ac8c7343d47\")>>\n",
      "<bound method WebDriver.get of <selenium.webdriver.chrome.webdriver.WebDriver (session=\"5634806e2d82cdf8f4ee2c7eb89caf17\")>>\n",
      "<bound method WebDriver.get of <selenium.webdriver.chrome.webdriver.WebDriver (session=\"d51e7b616432d7bb87be73462cb6a3b6\")>>\n",
      "<bound method WebDriver.get of <selenium.webdriver.chrome.webdriver.WebDriver (session=\"947fae341a87bd7eeb847845234a54e5\")>>\n",
      "<bound method WebDriver.get of <selenium.webdriver.chrome.webdriver.WebDriver (session=\"dc02a9cdaece29a7c686fc40c4150e7d\")>>\n",
      "<bound method WebDriver.get of <selenium.webdriver.chrome.webdriver.WebDriver (session=\"aa4c919610a28d7b8b7610ab3267e158\")>>\n",
      "<bound method WebDriver.get of <selenium.webdriver.chrome.webdriver.WebDriver (session=\"0b1545c66d0e6197a2bf658a91ff475b\")>>\n",
      "<bound method WebDriver.get of <selenium.webdriver.chrome.webdriver.WebDriver (session=\"4a41bb21d486a33b0e30657c955fd85a\")>>\n",
      "<bound method WebDriver.get of <selenium.webdriver.chrome.webdriver.WebDriver (session=\"4ae0706150abe024fac0a554d0a444d1\")>>\n",
      "<bound method WebDriver.get of <selenium.webdriver.chrome.webdriver.WebDriver (session=\"8c7a3b4e65b5caa95e34d5fb2375fde8\")>>\n",
      "<bound method WebDriver.get of <selenium.webdriver.chrome.webdriver.WebDriver (session=\"312d5d610ffb9dc8fd9faf75b7199e86\")>>\n",
      "<bound method WebDriver.get of <selenium.webdriver.chrome.webdriver.WebDriver (session=\"9ef4f77f5e9f88dcf163900d27b504ee\")>>\n",
      "<bound method WebDriver.get of <selenium.webdriver.chrome.webdriver.WebDriver (session=\"c8344e566ca31c07ce29d7b04b1dc20a\")>>\n",
      "<bound method WebDriver.get of <selenium.webdriver.chrome.webdriver.WebDriver (session=\"bf9e50a34b4cb7db9bf14593167b4994\")>>\n",
      "<bound method WebDriver.get of <selenium.webdriver.chrome.webdriver.WebDriver (session=\"ef894203129cc19f31672e5b17f166e7\")>>\n",
      "<bound method WebDriver.get of <selenium.webdriver.chrome.webdriver.WebDriver (session=\"8f43775e74cb1c93c4baa29004e5aadf\")>>\n",
      "<bound method WebDriver.get of <selenium.webdriver.chrome.webdriver.WebDriver (session=\"e5e8be70565ae1dfaf98195245fff4f4\")>>\n",
      "<bound method WebDriver.get of <selenium.webdriver.chrome.webdriver.WebDriver (session=\"127fef3c29b91f94efaaaf66e08bdf03\")>>\n",
      "<bound method WebDriver.get of <selenium.webdriver.chrome.webdriver.WebDriver (session=\"bcf7380c327857b69189cfed754b3c48\")>>\n",
      "<bound method WebDriver.get of <selenium.webdriver.chrome.webdriver.WebDriver (session=\"2234872f466884845261185ec3174ae5\")>>\n",
      "<bound method WebDriver.get of <selenium.webdriver.chrome.webdriver.WebDriver (session=\"5766edc979d2a805f66388442ef08fd2\")>>\n",
      "<bound method WebDriver.get of <selenium.webdriver.chrome.webdriver.WebDriver (session=\"4bf18d495ccaf1117abe5eb40eb3bade\")>>\n",
      "<bound method WebDriver.get of <selenium.webdriver.chrome.webdriver.WebDriver (session=\"ce376d0576262f3f0668043bbf8ed23c\")>>\n",
      "<bound method WebDriver.get of <selenium.webdriver.chrome.webdriver.WebDriver (session=\"fe353a1fa92ecbbf6180041dff458e10\")>>\n",
      "<bound method WebDriver.get of <selenium.webdriver.chrome.webdriver.WebDriver (session=\"3263aa267fe8cbc0747e220e9c574435\")>>\n",
      "<bound method WebDriver.get of <selenium.webdriver.chrome.webdriver.WebDriver (session=\"8ddc15bef60e23d3efc0e37cfcc063a6\")>>\n",
      "<bound method WebDriver.get of <selenium.webdriver.chrome.webdriver.WebDriver (session=\"eba6b8889ccfdc15804d80aa16607278\")>>\n",
      "<bound method WebDriver.get of <selenium.webdriver.chrome.webdriver.WebDriver (session=\"199fd223bbc31c03a3621f699df34f8f\")>>\n",
      "<bound method WebDriver.get of <selenium.webdriver.chrome.webdriver.WebDriver (session=\"4c775f9a76ca91d68314bfbab5ec4413\")>>\n",
      "<bound method WebDriver.get of <selenium.webdriver.chrome.webdriver.WebDriver (session=\"5244d0ae4c04656071c9e3163a0b7672\")>>\n",
      "<bound method WebDriver.get of <selenium.webdriver.chrome.webdriver.WebDriver (session=\"12e198cc8dea01ce8e015da575e72781\")>>\n",
      "<bound method WebDriver.get of <selenium.webdriver.chrome.webdriver.WebDriver (session=\"212b6013b0110a35839c63b55d00acc5\")>>\n",
      "<bound method WebDriver.get of <selenium.webdriver.chrome.webdriver.WebDriver (session=\"e917695d680d35c352310729309ffc99\")>>\n",
      "<bound method WebDriver.get of <selenium.webdriver.chrome.webdriver.WebDriver (session=\"fc54b6e7f25bff77c7c0b8ee1d568996\")>>\n",
      "<bound method WebDriver.get of <selenium.webdriver.chrome.webdriver.WebDriver (session=\"7a7861062c6c787b29d4cfcac9717718\")>>\n",
      "<bound method WebDriver.get of <selenium.webdriver.chrome.webdriver.WebDriver (session=\"7ea8e8e60fd89b394090e6a367abd212\")>>\n",
      "<bound method WebDriver.get of <selenium.webdriver.chrome.webdriver.WebDriver (session=\"aedef5c0b1b493181adc58f2a9ee2815\")>>\n",
      "<bound method WebDriver.get of <selenium.webdriver.chrome.webdriver.WebDriver (session=\"dfe36719c1585a0c0496d3d88b478ccb\")>>\n",
      "<bound method WebDriver.get of <selenium.webdriver.chrome.webdriver.WebDriver (session=\"c87428964b117349e3e7dab178dfb77a\")>>\n",
      "<bound method WebDriver.get of <selenium.webdriver.chrome.webdriver.WebDriver (session=\"592b3696bb779c7e0190bdf52f7b15e5\")>>\n",
      "<bound method WebDriver.get of <selenium.webdriver.chrome.webdriver.WebDriver (session=\"06ec9cebfc4b8db83dfa0e2fd540d3d2\")>>\n",
      "<bound method WebDriver.get of <selenium.webdriver.chrome.webdriver.WebDriver (session=\"a7fa583852d160a48cb648e125cc1bc4\")>>\n",
      "<bound method WebDriver.get of <selenium.webdriver.chrome.webdriver.WebDriver (session=\"3381bc8c055d6af8d2aff44c7a4da467\")>>\n",
      "<bound method WebDriver.get of <selenium.webdriver.chrome.webdriver.WebDriver (session=\"0bccea43d30c811fccf2843966261d64\")>>\n",
      "<bound method WebDriver.get of <selenium.webdriver.chrome.webdriver.WebDriver (session=\"297c5975bcb203d0ece93f068bd8216f\")>>\n",
      "<bound method WebDriver.get of <selenium.webdriver.chrome.webdriver.WebDriver (session=\"f23de95024b06510afd0494072793b37\")>>\n",
      "<bound method WebDriver.get of <selenium.webdriver.chrome.webdriver.WebDriver (session=\"7abb01694a891bfaadee5d2c97ce2dd3\")>>\n",
      "<bound method WebDriver.get of <selenium.webdriver.chrome.webdriver.WebDriver (session=\"34d03e171c21dd8385cf9d3e7ff3bc04\")>>\n",
      "<bound method WebDriver.get of <selenium.webdriver.chrome.webdriver.WebDriver (session=\"0a909602b0df0349d359707f8c5386a3\")>>\n",
      "<bound method WebDriver.get of <selenium.webdriver.chrome.webdriver.WebDriver (session=\"e6fd023c42b6e6a10800a0a38648e104\")>>\n",
      "<bound method WebDriver.get of <selenium.webdriver.chrome.webdriver.WebDriver (session=\"66754226b9f2e697a7d4199f940e8411\")>>\n",
      "<bound method WebDriver.get of <selenium.webdriver.chrome.webdriver.WebDriver (session=\"1b2196423174f16a5b94b53e5a057afb\")>>\n",
      "<bound method WebDriver.get of <selenium.webdriver.chrome.webdriver.WebDriver (session=\"48a290d0b87c4d6eb995b620c48a7a52\")>>\n",
      "<bound method WebDriver.get of <selenium.webdriver.chrome.webdriver.WebDriver (session=\"371566d106f72cc51ffe40aeea541075\")>>\n",
      "<bound method WebDriver.get of <selenium.webdriver.chrome.webdriver.WebDriver (session=\"6b6d582d57cabc8d49f4b0a5048b817d\")>>\n",
      "<bound method WebDriver.get of <selenium.webdriver.chrome.webdriver.WebDriver (session=\"7919ed1da95959cf9e686cab6861b319\")>>\n",
      "<bound method WebDriver.get of <selenium.webdriver.chrome.webdriver.WebDriver (session=\"4f70a4b17d085dccf6ee898f881e241d\")>>\n",
      "<bound method WebDriver.get of <selenium.webdriver.chrome.webdriver.WebDriver (session=\"4d69a64a7b4637635b2d953f0d326b5f\")>>\n"
     ]
    },
    {
     "name": "stdout",
     "output_type": "stream",
     "text": [
      "<bound method WebDriver.get of <selenium.webdriver.chrome.webdriver.WebDriver (session=\"a1bee401798c1a71b055dd947b798bf7\")>>\n",
      "<bound method WebDriver.get of <selenium.webdriver.chrome.webdriver.WebDriver (session=\"69354b7f5e21e405e7efec367442cb8b\")>>\n",
      "<bound method WebDriver.get of <selenium.webdriver.chrome.webdriver.WebDriver (session=\"68d265d815f31b67246d890ec45bfa88\")>>\n",
      "<bound method WebDriver.get of <selenium.webdriver.chrome.webdriver.WebDriver (session=\"41bfe772a0afb2eaee3860b7775a0c69\")>>\n",
      "<bound method WebDriver.get of <selenium.webdriver.chrome.webdriver.WebDriver (session=\"e7ef85c8c13b2a769da072c9528b9a8f\")>>\n",
      "<bound method WebDriver.get of <selenium.webdriver.chrome.webdriver.WebDriver (session=\"ffa83ec976a0315119d2728eead9c5cf\")>>\n",
      "<bound method WebDriver.get of <selenium.webdriver.chrome.webdriver.WebDriver (session=\"c10899539c229d76e1e9728aa6d390bf\")>>\n",
      "<bound method WebDriver.get of <selenium.webdriver.chrome.webdriver.WebDriver (session=\"a7b74bc6fe805fce95a24a9f633611db\")>>\n",
      "<bound method WebDriver.get of <selenium.webdriver.chrome.webdriver.WebDriver (session=\"1d2d4d4f8d839a1245fff7c5725ec62e\")>>\n",
      "<bound method WebDriver.get of <selenium.webdriver.chrome.webdriver.WebDriver (session=\"d938e05b45cf44d4dcaa01ec2db72929\")>>\n",
      "<bound method WebDriver.get of <selenium.webdriver.chrome.webdriver.WebDriver (session=\"77ad8670d1fc6aa0754b25fe7befe60b\")>>\n",
      "<bound method WebDriver.get of <selenium.webdriver.chrome.webdriver.WebDriver (session=\"445aa8dc7bf79fb06db6fc8f68975bdd\")>>\n",
      "<bound method WebDriver.get of <selenium.webdriver.chrome.webdriver.WebDriver (session=\"5e0d57711fe12fa43f45e509b73a4412\")>>\n",
      "<bound method WebDriver.get of <selenium.webdriver.chrome.webdriver.WebDriver (session=\"4e0cc1dd02ceb7a54341820b5bbaf145\")>>\n",
      "<bound method WebDriver.get of <selenium.webdriver.chrome.webdriver.WebDriver (session=\"154bf5c124591f7071c4925673928aaa\")>>\n",
      "<bound method WebDriver.get of <selenium.webdriver.chrome.webdriver.WebDriver (session=\"bfbbbf8918e9fb8acff9b421e6cd991a\")>>\n",
      "<bound method WebDriver.get of <selenium.webdriver.chrome.webdriver.WebDriver (session=\"60f067f0aabbf720260f6fa9937de369\")>>\n",
      "<bound method WebDriver.get of <selenium.webdriver.chrome.webdriver.WebDriver (session=\"090e49e1e9d5de59279eb5a0fc7faeec\")>>\n",
      "<bound method WebDriver.get of <selenium.webdriver.chrome.webdriver.WebDriver (session=\"0d89c452b97514e139da6c2e16bf1cc6\")>>\n",
      "<bound method WebDriver.get of <selenium.webdriver.chrome.webdriver.WebDriver (session=\"47366792f71ecd7a4ad00e0f3cfc5f97\")>>\n",
      "<bound method WebDriver.get of <selenium.webdriver.chrome.webdriver.WebDriver (session=\"5b8672c7e65ec673172d6c0ffcaf33e4\")>>\n",
      "<bound method WebDriver.get of <selenium.webdriver.chrome.webdriver.WebDriver (session=\"1295737bf56d090e8cec2bae841438d5\")>>\n",
      "<bound method WebDriver.get of <selenium.webdriver.chrome.webdriver.WebDriver (session=\"38a5360614ac0eb54d9ff3d7788e1034\")>>\n",
      "<bound method WebDriver.get of <selenium.webdriver.chrome.webdriver.WebDriver (session=\"15f385a312ed7d6ef1ab76505a47482f\")>>\n",
      "<bound method WebDriver.get of <selenium.webdriver.chrome.webdriver.WebDriver (session=\"226e730a85e084adf7865c71634106f8\")>>\n",
      "<bound method WebDriver.get of <selenium.webdriver.chrome.webdriver.WebDriver (session=\"4d7d1e7c58bc5a2aef03a4fa65cb8df8\")>>\n",
      "<bound method WebDriver.get of <selenium.webdriver.chrome.webdriver.WebDriver (session=\"23200a46fdf2ba1176070d031371fe06\")>>\n",
      "<bound method WebDriver.get of <selenium.webdriver.chrome.webdriver.WebDriver (session=\"74b17576b177214bc5bbfaea5ce70080\")>>\n",
      "<bound method WebDriver.get of <selenium.webdriver.chrome.webdriver.WebDriver (session=\"c9e7323a2b4d5a0a41129f0275c1d3a3\")>>\n",
      "<bound method WebDriver.get of <selenium.webdriver.chrome.webdriver.WebDriver (session=\"014bffd60f1707030bff2ebbd824db4f\")>>\n",
      "<bound method WebDriver.get of <selenium.webdriver.chrome.webdriver.WebDriver (session=\"00b90a62b25783a69c2f1a3ccb83b0cc\")>>\n",
      "<bound method WebDriver.get of <selenium.webdriver.chrome.webdriver.WebDriver (session=\"1e6e61da20d3f797d6b20f1a87c23cbd\")>>\n",
      "<bound method WebDriver.get of <selenium.webdriver.chrome.webdriver.WebDriver (session=\"305937b04907a587a8ad5c4f808288fa\")>>\n",
      "<bound method WebDriver.get of <selenium.webdriver.chrome.webdriver.WebDriver (session=\"81ea14f1b324539eed1fb07ddf77c738\")>>\n",
      "<bound method WebDriver.get of <selenium.webdriver.chrome.webdriver.WebDriver (session=\"cef5b3339ee293fd5532a4bccabe80a4\")>>\n",
      "<bound method WebDriver.get of <selenium.webdriver.chrome.webdriver.WebDriver (session=\"8f5d5a866ad40e1a6609026db0d2752f\")>>\n",
      "<bound method WebDriver.get of <selenium.webdriver.chrome.webdriver.WebDriver (session=\"b974e23f9e08ab05ce39f8c0bcef934f\")>>\n",
      "<bound method WebDriver.get of <selenium.webdriver.chrome.webdriver.WebDriver (session=\"d5afee28ffe5d12fe2cab401b8fc7b5a\")>>\n",
      "<bound method WebDriver.get of <selenium.webdriver.chrome.webdriver.WebDriver (session=\"5967ed24ca579742bce15abdc10326cb\")>>\n",
      "<bound method WebDriver.get of <selenium.webdriver.chrome.webdriver.WebDriver (session=\"23e5563488c5045ff5ece61ae00dfd82\")>>\n",
      "<bound method WebDriver.get of <selenium.webdriver.chrome.webdriver.WebDriver (session=\"2a0782752e39769c81687dd43d374594\")>>\n",
      "<bound method WebDriver.get of <selenium.webdriver.chrome.webdriver.WebDriver (session=\"f7932e96befcb83f3deb6ea3595ab61f\")>>\n",
      "<bound method WebDriver.get of <selenium.webdriver.chrome.webdriver.WebDriver (session=\"7945687af496357637cfcaaaf320922e\")>>\n",
      "<bound method WebDriver.get of <selenium.webdriver.chrome.webdriver.WebDriver (session=\"7146b647a8b185e392b3aeae82a08409\")>>\n",
      "<bound method WebDriver.get of <selenium.webdriver.chrome.webdriver.WebDriver (session=\"8ae843b51b7edbe653037b46cc16a57a\")>>\n",
      "<bound method WebDriver.get of <selenium.webdriver.chrome.webdriver.WebDriver (session=\"1d25becb17e48dfadd90229a59ddd0a0\")>>\n",
      "<bound method WebDriver.get of <selenium.webdriver.chrome.webdriver.WebDriver (session=\"9e6d58c63ed1a8ad9d121b7b9b937e87\")>>\n",
      "<bound method WebDriver.get of <selenium.webdriver.chrome.webdriver.WebDriver (session=\"b1633d39cda8bfca822a4966f9a356f4\")>>\n",
      "<bound method WebDriver.get of <selenium.webdriver.chrome.webdriver.WebDriver (session=\"a69579519ca605c56584bf63ce108f4b\")>>\n",
      "<bound method WebDriver.get of <selenium.webdriver.chrome.webdriver.WebDriver (session=\"3644ed332f45090c415d5673be9d6497\")>>\n",
      "<bound method WebDriver.get of <selenium.webdriver.chrome.webdriver.WebDriver (session=\"19edb58c805ef4bbbfe3e26c08736ae3\")>>\n",
      "<bound method WebDriver.get of <selenium.webdriver.chrome.webdriver.WebDriver (session=\"94bc956b3f9ef3fc8fb7af4b55b56fd7\")>>\n",
      "<bound method WebDriver.get of <selenium.webdriver.chrome.webdriver.WebDriver (session=\"f301a584151425f218e79b222c995bb7\")>>\n",
      "<bound method WebDriver.get of <selenium.webdriver.chrome.webdriver.WebDriver (session=\"16ddc412a5034ce1732520d3949664fd\")>>\n",
      "<bound method WebDriver.get of <selenium.webdriver.chrome.webdriver.WebDriver (session=\"2af99006511d7caa9e1d0ee0f6c0da8f\")>>\n",
      "<bound method WebDriver.get of <selenium.webdriver.chrome.webdriver.WebDriver (session=\"6df7c4dd8733748fae2fc02222de487f\")>>\n",
      "<bound method WebDriver.get of <selenium.webdriver.chrome.webdriver.WebDriver (session=\"b57c251c2b3c507c1396065fdfd99a64\")>>\n",
      "<bound method WebDriver.get of <selenium.webdriver.chrome.webdriver.WebDriver (session=\"5f05fd930613e29a4652037d1c3a5bbb\")>>\n",
      "<bound method WebDriver.get of <selenium.webdriver.chrome.webdriver.WebDriver (session=\"1ef489b7c19623f1526568abb31e0109\")>>\n",
      "<bound method WebDriver.get of <selenium.webdriver.chrome.webdriver.WebDriver (session=\"ec8cc88d554cde329c294b35f053e684\")>>\n",
      "<bound method WebDriver.get of <selenium.webdriver.chrome.webdriver.WebDriver (session=\"0ee3f322072f5d8fa0cc297a62668873\")>>\n",
      "<bound method WebDriver.get of <selenium.webdriver.chrome.webdriver.WebDriver (session=\"11903ba02a7fb16a346f2e6cc71095b4\")>>\n",
      "<bound method WebDriver.get of <selenium.webdriver.chrome.webdriver.WebDriver (session=\"7339f4f74028d360d6ef56d2457d0170\")>>\n",
      "<bound method WebDriver.get of <selenium.webdriver.chrome.webdriver.WebDriver (session=\"521d5739315ba3d4713b7a3d2f22f2cb\")>>\n",
      "<bound method WebDriver.get of <selenium.webdriver.chrome.webdriver.WebDriver (session=\"8f67df5531029cbd9c69f0ff421f18ec\")>>\n",
      "<bound method WebDriver.get of <selenium.webdriver.chrome.webdriver.WebDriver (session=\"532b08ba858906db2ee354b7fb17ba2f\")>>\n"
     ]
    },
    {
     "name": "stdout",
     "output_type": "stream",
     "text": [
      "<bound method WebDriver.get of <selenium.webdriver.chrome.webdriver.WebDriver (session=\"0e897069369d30cd977e64347d2cebd9\")>>\n",
      "<bound method WebDriver.get of <selenium.webdriver.chrome.webdriver.WebDriver (session=\"528c90ca2ded97b92c582b6c898bc1b0\")>>\n",
      "<bound method WebDriver.get of <selenium.webdriver.chrome.webdriver.WebDriver (session=\"103b81751d4e52753e562def72914ec0\")>>\n",
      "<bound method WebDriver.get of <selenium.webdriver.chrome.webdriver.WebDriver (session=\"6b0e670a371f9a54488790cb3356a8aa\")>>\n",
      "<bound method WebDriver.get of <selenium.webdriver.chrome.webdriver.WebDriver (session=\"5f96cc06f510d39a2aa341074a77e945\")>>\n",
      "<bound method WebDriver.get of <selenium.webdriver.chrome.webdriver.WebDriver (session=\"0045baf9c15ff3ae29f7e599812afc12\")>>\n",
      "<bound method WebDriver.get of <selenium.webdriver.chrome.webdriver.WebDriver (session=\"907510e84065fe21cfe784669ece2f62\")>>\n",
      "<bound method WebDriver.get of <selenium.webdriver.chrome.webdriver.WebDriver (session=\"fa536764da1c64b08c10bfa3fdc21f62\")>>\n",
      "<bound method WebDriver.get of <selenium.webdriver.chrome.webdriver.WebDriver (session=\"70693497fd1728072e0626e4ac32eaf9\")>>\n",
      "<bound method WebDriver.get of <selenium.webdriver.chrome.webdriver.WebDriver (session=\"0416ecd7ca52bc8c426f8e3c17beab9e\")>>\n",
      "<bound method WebDriver.get of <selenium.webdriver.chrome.webdriver.WebDriver (session=\"61c481adfd27587f42d3667b3fd6e9f1\")>>\n",
      "<bound method WebDriver.get of <selenium.webdriver.chrome.webdriver.WebDriver (session=\"b8d55d769fae298353c17a7c3bf3cda7\")>>\n",
      "<bound method WebDriver.get of <selenium.webdriver.chrome.webdriver.WebDriver (session=\"518d8a38da46600b0ff9fac299a9a043\")>>\n",
      "<bound method WebDriver.get of <selenium.webdriver.chrome.webdriver.WebDriver (session=\"4e449e5f0171069d0dd2a4c6c80469fa\")>>\n",
      "<bound method WebDriver.get of <selenium.webdriver.chrome.webdriver.WebDriver (session=\"20b84f56450a7ce8c0f0cd467c3feb89\")>>\n",
      "<bound method WebDriver.get of <selenium.webdriver.chrome.webdriver.WebDriver (session=\"0e9363ec2504f57fc82ce5b72323e342\")>>\n",
      "<bound method WebDriver.get of <selenium.webdriver.chrome.webdriver.WebDriver (session=\"271f59825f000fff1e1e596bc04304c0\")>>\n",
      "<bound method WebDriver.get of <selenium.webdriver.chrome.webdriver.WebDriver (session=\"53b16a4b88994abef73770146ed1b9cd\")>>\n",
      "<bound method WebDriver.get of <selenium.webdriver.chrome.webdriver.WebDriver (session=\"05055ec052f5a0beb31e683fd9ce75ed\")>>\n",
      "<bound method WebDriver.get of <selenium.webdriver.chrome.webdriver.WebDriver (session=\"f8cff2b4b3230f8c41ff68ad6c34bf22\")>>\n",
      "<bound method WebDriver.get of <selenium.webdriver.chrome.webdriver.WebDriver (session=\"34346bc25e4f5fa40944184c62c8df09\")>>\n",
      "<bound method WebDriver.get of <selenium.webdriver.chrome.webdriver.WebDriver (session=\"0ad51d538836a42ae4a0ca58375b57bd\")>>\n",
      "<bound method WebDriver.get of <selenium.webdriver.chrome.webdriver.WebDriver (session=\"fe6aff6b8c12b0c068373245e26f1876\")>>\n",
      "<bound method WebDriver.get of <selenium.webdriver.chrome.webdriver.WebDriver (session=\"b72e9f1eef10163e7edc5deceffd92c8\")>>\n",
      "<bound method WebDriver.get of <selenium.webdriver.chrome.webdriver.WebDriver (session=\"dfd96cb62fbb95847281f9fb4129a4ec\")>>\n",
      "<bound method WebDriver.get of <selenium.webdriver.chrome.webdriver.WebDriver (session=\"f95e74324f3627120b8453e1ed9672de\")>>\n",
      "<bound method WebDriver.get of <selenium.webdriver.chrome.webdriver.WebDriver (session=\"409a779bab20d305502ca88b2d26569b\")>>\n",
      "<bound method WebDriver.get of <selenium.webdriver.chrome.webdriver.WebDriver (session=\"2d9c3903279b6424a5614254312e9bde\")>>\n",
      "<bound method WebDriver.get of <selenium.webdriver.chrome.webdriver.WebDriver (session=\"a0384f90fec539c6673aeee9100980ad\")>>\n",
      "<bound method WebDriver.get of <selenium.webdriver.chrome.webdriver.WebDriver (session=\"0e30805f1c96db323a8b0770d5b9079d\")>>\n",
      "<bound method WebDriver.get of <selenium.webdriver.chrome.webdriver.WebDriver (session=\"b2b5621840549de6644f415a64f79100\")>>\n",
      "<bound method WebDriver.get of <selenium.webdriver.chrome.webdriver.WebDriver (session=\"ca62881f30bdc2024c023ebeba96a160\")>>\n",
      "<bound method WebDriver.get of <selenium.webdriver.chrome.webdriver.WebDriver (session=\"8aa19e9e97a40eec98ebeb71a534c8cf\")>>\n",
      "<bound method WebDriver.get of <selenium.webdriver.chrome.webdriver.WebDriver (session=\"cb7ddc31e14d9ff2f04692a6904fae5d\")>>\n",
      "<bound method WebDriver.get of <selenium.webdriver.chrome.webdriver.WebDriver (session=\"34efe7ed8cfbfb87586fcf1b192db211\")>>\n",
      "<bound method WebDriver.get of <selenium.webdriver.chrome.webdriver.WebDriver (session=\"7155d8b8c5078af6747198e416b5a7c4\")>>\n",
      "<bound method WebDriver.get of <selenium.webdriver.chrome.webdriver.WebDriver (session=\"113146be53a5300e6639c70e7588dcc1\")>>\n",
      "<bound method WebDriver.get of <selenium.webdriver.chrome.webdriver.WebDriver (session=\"6e681e44c17443f7e6d64ace396b8879\")>>\n",
      "<bound method WebDriver.get of <selenium.webdriver.chrome.webdriver.WebDriver (session=\"2ba16f52e2f597bfb7eccbfaf47655de\")>>\n",
      "<bound method WebDriver.get of <selenium.webdriver.chrome.webdriver.WebDriver (session=\"e54afd963ca75a08b1fdc58e08d4d736\")>>\n",
      "<bound method WebDriver.get of <selenium.webdriver.chrome.webdriver.WebDriver (session=\"c862db7189e553436853f7842618c5ca\")>>\n",
      "<bound method WebDriver.get of <selenium.webdriver.chrome.webdriver.WebDriver (session=\"eee00bcddc21003119beb99c02f329f5\")>>\n",
      "<bound method WebDriver.get of <selenium.webdriver.chrome.webdriver.WebDriver (session=\"ea0bdddc6f16744b50bdb348f92fa402\")>>\n",
      "<bound method WebDriver.get of <selenium.webdriver.chrome.webdriver.WebDriver (session=\"c25d70a5d679db1617a017cb52a29a8e\")>>\n",
      "<bound method WebDriver.get of <selenium.webdriver.chrome.webdriver.WebDriver (session=\"b31cf00cdfd1ab248d01e04396f89155\")>>\n",
      "<bound method WebDriver.get of <selenium.webdriver.chrome.webdriver.WebDriver (session=\"3d016c917d272d4a2b74264c4a518613\")>>\n",
      "<bound method WebDriver.get of <selenium.webdriver.chrome.webdriver.WebDriver (session=\"3aa7f1ec084b24f9cc80d25790400e84\")>>\n",
      "<bound method WebDriver.get of <selenium.webdriver.chrome.webdriver.WebDriver (session=\"3c065c25e5454f048b95f9779d16c92f\")>>\n",
      "<bound method WebDriver.get of <selenium.webdriver.chrome.webdriver.WebDriver (session=\"139d71525ee77788ab28ee95b50d8824\")>>\n",
      "<bound method WebDriver.get of <selenium.webdriver.chrome.webdriver.WebDriver (session=\"402c35dd0cd7d5804b29c805f02984b9\")>>\n",
      "<bound method WebDriver.get of <selenium.webdriver.chrome.webdriver.WebDriver (session=\"5fd3ca1e7c3c6da27bf4d63f5607ec69\")>>\n",
      "<bound method WebDriver.get of <selenium.webdriver.chrome.webdriver.WebDriver (session=\"c96dfd36ce19d2d67a7d7514d706b6c0\")>>\n",
      "<bound method WebDriver.get of <selenium.webdriver.chrome.webdriver.WebDriver (session=\"059a3c35474c2d501ccf0de465814228\")>>\n",
      "<bound method WebDriver.get of <selenium.webdriver.chrome.webdriver.WebDriver (session=\"84b6482144e6802566b8974383adc72d\")>>\n",
      "<bound method WebDriver.get of <selenium.webdriver.chrome.webdriver.WebDriver (session=\"44be198ecbafa6c983c6f9908e008982\")>>\n",
      "<bound method WebDriver.get of <selenium.webdriver.chrome.webdriver.WebDriver (session=\"4b983bee64a7e54e56053cbd2e803721\")>>\n",
      "<bound method WebDriver.get of <selenium.webdriver.chrome.webdriver.WebDriver (session=\"18e9140c701575c386aadfea516bf5e5\")>>\n",
      "<bound method WebDriver.get of <selenium.webdriver.chrome.webdriver.WebDriver (session=\"743ed4164093c9831b6ea7917db31a8c\")>>\n",
      "<bound method WebDriver.get of <selenium.webdriver.chrome.webdriver.WebDriver (session=\"b42e80d828b3e42b8b552fd1a19911de\")>>\n",
      "<bound method WebDriver.get of <selenium.webdriver.chrome.webdriver.WebDriver (session=\"57440744cc2358dca5269ba72e484c65\")>>\n",
      "<bound method WebDriver.get of <selenium.webdriver.chrome.webdriver.WebDriver (session=\"8af7076c8f061a39fca46668ad27a706\")>>\n",
      "<bound method WebDriver.get of <selenium.webdriver.chrome.webdriver.WebDriver (session=\"0205a19f1a6d36dc9c7889d41789e67a\")>>\n",
      "<bound method WebDriver.get of <selenium.webdriver.chrome.webdriver.WebDriver (session=\"e411c7686f0f3b6af8a9889b522290d0\")>>\n",
      "<bound method WebDriver.get of <selenium.webdriver.chrome.webdriver.WebDriver (session=\"5cd2e5ae757a56e1bc5846be897c88e8\")>>\n",
      "<bound method WebDriver.get of <selenium.webdriver.chrome.webdriver.WebDriver (session=\"3ffc1de43d4e8f77a5d15cd8a31939de\")>>\n",
      "<bound method WebDriver.get of <selenium.webdriver.chrome.webdriver.WebDriver (session=\"1a59932dd8ff7efe1ad528ce2aa5f77b\")>>\n"
     ]
    },
    {
     "name": "stdout",
     "output_type": "stream",
     "text": [
      "<bound method WebDriver.get of <selenium.webdriver.chrome.webdriver.WebDriver (session=\"6fa3d43ae191e932ed51787ec909a16c\")>>\n",
      "<bound method WebDriver.get of <selenium.webdriver.chrome.webdriver.WebDriver (session=\"15992c702d2ec10c2c5689d5055e1928\")>>\n",
      "<bound method WebDriver.get of <selenium.webdriver.chrome.webdriver.WebDriver (session=\"5c01609d01df7e560284c3e50b5b55c6\")>>\n",
      "<bound method WebDriver.get of <selenium.webdriver.chrome.webdriver.WebDriver (session=\"333edec6e7c83a889ab0eb592b1c00c6\")>>\n",
      "<bound method WebDriver.get of <selenium.webdriver.chrome.webdriver.WebDriver (session=\"59f311d0415962b383a688b04123645c\")>>\n",
      "<bound method WebDriver.get of <selenium.webdriver.chrome.webdriver.WebDriver (session=\"b35a2cd0a13dc774c53027930e7ee23f\")>>\n",
      "<bound method WebDriver.get of <selenium.webdriver.chrome.webdriver.WebDriver (session=\"3a5153bd1e6cc3e09173685f863ebd4c\")>>\n",
      "<bound method WebDriver.get of <selenium.webdriver.chrome.webdriver.WebDriver (session=\"3f9fecaf3d60fc74bde67dbebc97e8a9\")>>\n",
      "<bound method WebDriver.get of <selenium.webdriver.chrome.webdriver.WebDriver (session=\"382404c59972e08810e8bb37179b3066\")>>\n",
      "<bound method WebDriver.get of <selenium.webdriver.chrome.webdriver.WebDriver (session=\"2ba30ade9769973967d82f414676f5a2\")>>\n",
      "<bound method WebDriver.get of <selenium.webdriver.chrome.webdriver.WebDriver (session=\"4ebbfebb492e1b337f0b119d539e1d00\")>>\n",
      "<bound method WebDriver.get of <selenium.webdriver.chrome.webdriver.WebDriver (session=\"f447bcf802b4f7b6bee32f35a581ebd8\")>>\n",
      "<bound method WebDriver.get of <selenium.webdriver.chrome.webdriver.WebDriver (session=\"20755313ecf951950518746f6eea8bb3\")>>\n",
      "<bound method WebDriver.get of <selenium.webdriver.chrome.webdriver.WebDriver (session=\"ebcb970eebca8d7df26edb47ee8044cd\")>>\n",
      "<bound method WebDriver.get of <selenium.webdriver.chrome.webdriver.WebDriver (session=\"65b379dc556179fb3c83b85e5b2f44cf\")>>\n",
      "<bound method WebDriver.get of <selenium.webdriver.chrome.webdriver.WebDriver (session=\"79f6b85b9af3a1023a9f7fcd588aecb6\")>>\n",
      "<bound method WebDriver.get of <selenium.webdriver.chrome.webdriver.WebDriver (session=\"a5e54e0e7d3509263805e7694b9e2275\")>>\n",
      "<bound method WebDriver.get of <selenium.webdriver.chrome.webdriver.WebDriver (session=\"9be0f3daebcd1e391c792040ec07ee41\")>>\n",
      "<bound method WebDriver.get of <selenium.webdriver.chrome.webdriver.WebDriver (session=\"2e3c8852d809c68fe9b793ee1bfd9ac6\")>>\n",
      "<bound method WebDriver.get of <selenium.webdriver.chrome.webdriver.WebDriver (session=\"9feb904fbfd13911c9510df714c09a50\")>>\n",
      "<bound method WebDriver.get of <selenium.webdriver.chrome.webdriver.WebDriver (session=\"d6ffb09d62446ba65e9b53c270a608e9\")>>\n",
      "<bound method WebDriver.get of <selenium.webdriver.chrome.webdriver.WebDriver (session=\"51342fac1cc01b9d80091642e00c23d1\")>>\n",
      "<bound method WebDriver.get of <selenium.webdriver.chrome.webdriver.WebDriver (session=\"a31e5f90458b890c32965b46bd9ab49a\")>>\n",
      "<bound method WebDriver.get of <selenium.webdriver.chrome.webdriver.WebDriver (session=\"9e469e5bbaeada4d7054dc23b7b9339c\")>>\n",
      "<bound method WebDriver.get of <selenium.webdriver.chrome.webdriver.WebDriver (session=\"2a7fc55bfd407407e3bc51833e06a186\")>>\n",
      "<bound method WebDriver.get of <selenium.webdriver.chrome.webdriver.WebDriver (session=\"878de366440594587b230612a366f049\")>>\n",
      "<bound method WebDriver.get of <selenium.webdriver.chrome.webdriver.WebDriver (session=\"f91e1da3f287bf91c5d1970014bf72a2\")>>\n",
      "<bound method WebDriver.get of <selenium.webdriver.chrome.webdriver.WebDriver (session=\"4b7c3a0c7634c784aa8d2cc8d512b148\")>>\n",
      "<bound method WebDriver.get of <selenium.webdriver.chrome.webdriver.WebDriver (session=\"06caf88acaf83daaa41af1a9ceec94ca\")>>\n",
      "<bound method WebDriver.get of <selenium.webdriver.chrome.webdriver.WebDriver (session=\"75a84b0124aa023ca5499f03c4fec60b\")>>\n",
      "<bound method WebDriver.get of <selenium.webdriver.chrome.webdriver.WebDriver (session=\"2f26e4f1db312cf5476bd41bd7d996a3\")>>\n",
      "<bound method WebDriver.get of <selenium.webdriver.chrome.webdriver.WebDriver (session=\"659211d183455d8b9a34b5afe174ade9\")>>\n",
      "<bound method WebDriver.get of <selenium.webdriver.chrome.webdriver.WebDriver (session=\"ccdacbd1a3ab642afb924e089ba38a1c\")>>\n",
      "<bound method WebDriver.get of <selenium.webdriver.chrome.webdriver.WebDriver (session=\"70e259b80e9c7c4f57fb60352bbcf690\")>>\n",
      "<bound method WebDriver.get of <selenium.webdriver.chrome.webdriver.WebDriver (session=\"2fa611ec80c2817e68c6cd7c738820a7\")>>\n",
      "<bound method WebDriver.get of <selenium.webdriver.chrome.webdriver.WebDriver (session=\"e56e6aeb6b8aa9bd82d50ed55fc7a543\")>>\n",
      "<bound method WebDriver.get of <selenium.webdriver.chrome.webdriver.WebDriver (session=\"e2ce67ee132e19e48628a91906e13ec7\")>>\n",
      "<bound method WebDriver.get of <selenium.webdriver.chrome.webdriver.WebDriver (session=\"2607d31e543b7891c8080a542f9f85a8\")>>\n",
      "<bound method WebDriver.get of <selenium.webdriver.chrome.webdriver.WebDriver (session=\"5bb289eeb6f13cc26fde02d6c6373119\")>>\n",
      "<bound method WebDriver.get of <selenium.webdriver.chrome.webdriver.WebDriver (session=\"fd12e966ebeafcf0f3e2975446966b8c\")>>\n",
      "<bound method WebDriver.get of <selenium.webdriver.chrome.webdriver.WebDriver (session=\"f861f5702f5f07c8e41682dd78722edb\")>>\n",
      "<bound method WebDriver.get of <selenium.webdriver.chrome.webdriver.WebDriver (session=\"fabb83b19d7783b1f664f2d496b1c054\")>>\n",
      "<bound method WebDriver.get of <selenium.webdriver.chrome.webdriver.WebDriver (session=\"0b8105e9ffb205f51d72987d6de2907f\")>>\n",
      "<bound method WebDriver.get of <selenium.webdriver.chrome.webdriver.WebDriver (session=\"3507606a9173e07d79c1db4c3e202e1d\")>>\n",
      "<bound method WebDriver.get of <selenium.webdriver.chrome.webdriver.WebDriver (session=\"5bd908306a346eae80f385e28f092ddc\")>>\n",
      "<bound method WebDriver.get of <selenium.webdriver.chrome.webdriver.WebDriver (session=\"a9e839e2054d6effda05b6d269a99fbc\")>>\n",
      "<bound method WebDriver.get of <selenium.webdriver.chrome.webdriver.WebDriver (session=\"3192b7592525d4e99324900c50936a06\")>>\n",
      "<bound method WebDriver.get of <selenium.webdriver.chrome.webdriver.WebDriver (session=\"07a78cd95b5aa62d357abbc9f549fbdc\")>>\n",
      "<bound method WebDriver.get of <selenium.webdriver.chrome.webdriver.WebDriver (session=\"2f2f021258506297b0c61b79cb96f4d8\")>>\n",
      "<bound method WebDriver.get of <selenium.webdriver.chrome.webdriver.WebDriver (session=\"a1d5769f823f7a696044b5f90c4a68b5\")>>\n",
      "<bound method WebDriver.get of <selenium.webdriver.chrome.webdriver.WebDriver (session=\"8ff445c9aa932d4dda7d1d724075932e\")>>\n",
      "<bound method WebDriver.get of <selenium.webdriver.chrome.webdriver.WebDriver (session=\"d459537b9cc41b3ed4914e34169bd815\")>>\n",
      "<bound method WebDriver.get of <selenium.webdriver.chrome.webdriver.WebDriver (session=\"91b41253d04c5e16474ff5b1f43c077c\")>>\n",
      "<bound method WebDriver.get of <selenium.webdriver.chrome.webdriver.WebDriver (session=\"37c4ce52bf250381eee8a432b7cb46b9\")>>\n",
      "<bound method WebDriver.get of <selenium.webdriver.chrome.webdriver.WebDriver (session=\"5dd7df3c1ae700c6825a32102958ceba\")>>\n",
      "<bound method WebDriver.get of <selenium.webdriver.chrome.webdriver.WebDriver (session=\"dc0a186a34eae977eadadd276a554926\")>>\n",
      "<bound method WebDriver.get of <selenium.webdriver.chrome.webdriver.WebDriver (session=\"0d4833df1d5668cccf1e280562544c73\")>>\n",
      "<bound method WebDriver.get of <selenium.webdriver.chrome.webdriver.WebDriver (session=\"ef9a47b9bb6670363505923739d75677\")>>\n",
      "<bound method WebDriver.get of <selenium.webdriver.chrome.webdriver.WebDriver (session=\"0445d60f7e3a886a1a817bef2aecbd39\")>>\n",
      "<bound method WebDriver.get of <selenium.webdriver.chrome.webdriver.WebDriver (session=\"c4126b6f95732cd695224ea30f90095f\")>>\n",
      "<bound method WebDriver.get of <selenium.webdriver.chrome.webdriver.WebDriver (session=\"d00f3a294c9fc95ffd5519e643148bb7\")>>\n",
      "<bound method WebDriver.get of <selenium.webdriver.chrome.webdriver.WebDriver (session=\"e03117f08d72f3128edc6e3fe1c1c010\")>>\n",
      "<bound method WebDriver.get of <selenium.webdriver.chrome.webdriver.WebDriver (session=\"6b9a13be84ed61c67c08f049db5ed8d7\")>>\n",
      "<bound method WebDriver.get of <selenium.webdriver.chrome.webdriver.WebDriver (session=\"ad7ce9123ff27a6f61db55d02745842f\")>>\n",
      "<bound method WebDriver.get of <selenium.webdriver.chrome.webdriver.WebDriver (session=\"6978852acc13bb1a792acedd2d80014b\")>>\n",
      "<bound method WebDriver.get of <selenium.webdriver.chrome.webdriver.WebDriver (session=\"6b9bda45795ddb64bbbf091d31dfea9f\")>>\n"
     ]
    },
    {
     "name": "stdout",
     "output_type": "stream",
     "text": [
      "<bound method WebDriver.get of <selenium.webdriver.chrome.webdriver.WebDriver (session=\"19a61179af6e8d89f1413144c7081365\")>>\n",
      "<bound method WebDriver.get of <selenium.webdriver.chrome.webdriver.WebDriver (session=\"c4710ea5a4babc555f9328ed66edc329\")>>\n",
      "<bound method WebDriver.get of <selenium.webdriver.chrome.webdriver.WebDriver (session=\"79684a2007600835cd8718047554b540\")>>\n",
      "<bound method WebDriver.get of <selenium.webdriver.chrome.webdriver.WebDriver (session=\"b0bbd873b7196d1882899914c960dfef\")>>\n",
      "<bound method WebDriver.get of <selenium.webdriver.chrome.webdriver.WebDriver (session=\"df6edc6af5e6ae6e3054fd0ca28b76ff\")>>\n",
      "<bound method WebDriver.get of <selenium.webdriver.chrome.webdriver.WebDriver (session=\"4e51bb8c7067e44ac6a2c1c95de474ff\")>>\n",
      "<bound method WebDriver.get of <selenium.webdriver.chrome.webdriver.WebDriver (session=\"9540b29c583503d1b229f2f97dd1d282\")>>\n",
      "<bound method WebDriver.get of <selenium.webdriver.chrome.webdriver.WebDriver (session=\"c7603d20086c8fd01c6ee7ac45f8e1d9\")>>\n",
      "<bound method WebDriver.get of <selenium.webdriver.chrome.webdriver.WebDriver (session=\"33536cb31db80af62b93703d3affcd70\")>>\n",
      "<bound method WebDriver.get of <selenium.webdriver.chrome.webdriver.WebDriver (session=\"1d9edebde1e52ea329bb111d573adee1\")>>\n",
      "<bound method WebDriver.get of <selenium.webdriver.chrome.webdriver.WebDriver (session=\"42b1acb7ee54e889d3bee6df55810c45\")>>\n",
      "<bound method WebDriver.get of <selenium.webdriver.chrome.webdriver.WebDriver (session=\"b20fa35bea1961194d8cccf11b8c940c\")>>\n",
      "<bound method WebDriver.get of <selenium.webdriver.chrome.webdriver.WebDriver (session=\"3f5f5c211c7e24308cd7c63c40e021e9\")>>\n",
      "<bound method WebDriver.get of <selenium.webdriver.chrome.webdriver.WebDriver (session=\"9231b7341afdab280135507ec7405489\")>>\n",
      "<bound method WebDriver.get of <selenium.webdriver.chrome.webdriver.WebDriver (session=\"daf748076d746d0ce38da538406d6702\")>>\n",
      "<bound method WebDriver.get of <selenium.webdriver.chrome.webdriver.WebDriver (session=\"bb164a79f5383cf6d35f59d8b3b0d47e\")>>\n",
      "<bound method WebDriver.get of <selenium.webdriver.chrome.webdriver.WebDriver (session=\"728beaa1f6f87cf5980d7ca31051a955\")>>\n",
      "<bound method WebDriver.get of <selenium.webdriver.chrome.webdriver.WebDriver (session=\"caf403df35c636ebfc4761f4f3b4f944\")>>\n",
      "<bound method WebDriver.get of <selenium.webdriver.chrome.webdriver.WebDriver (session=\"2c54fa35c50a95fd93849b8135fc0356\")>>\n",
      "<bound method WebDriver.get of <selenium.webdriver.chrome.webdriver.WebDriver (session=\"9da9d4e9effbcdbdb83d93f43fb062ea\")>>\n",
      "<bound method WebDriver.get of <selenium.webdriver.chrome.webdriver.WebDriver (session=\"e9b35918252b443366bd891f379e2ff1\")>>\n",
      "<bound method WebDriver.get of <selenium.webdriver.chrome.webdriver.WebDriver (session=\"d383ac2adefe6bf47cd503435d55c64d\")>>\n",
      "<bound method WebDriver.get of <selenium.webdriver.chrome.webdriver.WebDriver (session=\"5f587261cfadfd374fbf0cce02a61004\")>>\n",
      "<bound method WebDriver.get of <selenium.webdriver.chrome.webdriver.WebDriver (session=\"093da9a4c5a127deb15e35662c61900a\")>>\n",
      "<bound method WebDriver.get of <selenium.webdriver.chrome.webdriver.WebDriver (session=\"70b07ef042b58a1ac78320e104c36a55\")>>\n",
      "<bound method WebDriver.get of <selenium.webdriver.chrome.webdriver.WebDriver (session=\"eacab001c7ee36aa9df1df85b6c52a53\")>>\n",
      "<bound method WebDriver.get of <selenium.webdriver.chrome.webdriver.WebDriver (session=\"15121f69b1e7e496f4d68a9be7805f40\")>>\n",
      "<bound method WebDriver.get of <selenium.webdriver.chrome.webdriver.WebDriver (session=\"62afbed05195b464a04e48c62475288d\")>>\n",
      "<bound method WebDriver.get of <selenium.webdriver.chrome.webdriver.WebDriver (session=\"6890c1c0bfaed2df923f52ff98c8c06f\")>>\n",
      "<bound method WebDriver.get of <selenium.webdriver.chrome.webdriver.WebDriver (session=\"efeedaa0140e33b05fe5aa4ea109aea4\")>>\n",
      "<bound method WebDriver.get of <selenium.webdriver.chrome.webdriver.WebDriver (session=\"7db30a9ab73a1701bb0914b2475feba8\")>>\n",
      "<bound method WebDriver.get of <selenium.webdriver.chrome.webdriver.WebDriver (session=\"a1a6b8deb4598349dfa30e9389aa2327\")>>\n",
      "<bound method WebDriver.get of <selenium.webdriver.chrome.webdriver.WebDriver (session=\"f359c4418a3be1adf886633d931a8eec\")>>\n",
      "<bound method WebDriver.get of <selenium.webdriver.chrome.webdriver.WebDriver (session=\"28da86465eb72538915745c28c4f2db5\")>>\n",
      "<bound method WebDriver.get of <selenium.webdriver.chrome.webdriver.WebDriver (session=\"0f5ddfe71a2c2ea04efad4ff2e83bf4b\")>>\n",
      "<bound method WebDriver.get of <selenium.webdriver.chrome.webdriver.WebDriver (session=\"e3fcd378e9e825f32588c30dbe64b72f\")>>\n",
      "<bound method WebDriver.get of <selenium.webdriver.chrome.webdriver.WebDriver (session=\"eab14d642795bdf3acd4d1f484174cff\")>>\n",
      "<bound method WebDriver.get of <selenium.webdriver.chrome.webdriver.WebDriver (session=\"6ec6f2f5baffe29b8c8effd9eece4896\")>>\n",
      "<bound method WebDriver.get of <selenium.webdriver.chrome.webdriver.WebDriver (session=\"7b053ad4952399097174fe784e3e0699\")>>\n",
      "<bound method WebDriver.get of <selenium.webdriver.chrome.webdriver.WebDriver (session=\"f545aef5e6b462b80ea0de5b860f4c30\")>>\n",
      "<bound method WebDriver.get of <selenium.webdriver.chrome.webdriver.WebDriver (session=\"dbdfd69887a2cb345a87db161ae0eb60\")>>\n",
      "<bound method WebDriver.get of <selenium.webdriver.chrome.webdriver.WebDriver (session=\"0761e7b0a6e04e70f487499655397766\")>>\n",
      "<bound method WebDriver.get of <selenium.webdriver.chrome.webdriver.WebDriver (session=\"6c0e0ce1b4545b95a62a21254fd4e9e7\")>>\n",
      "<bound method WebDriver.get of <selenium.webdriver.chrome.webdriver.WebDriver (session=\"b70df5062b4702be68c381353de54450\")>>\n",
      "<bound method WebDriver.get of <selenium.webdriver.chrome.webdriver.WebDriver (session=\"af61af1e30cdfa87b1e853868f47a80f\")>>\n",
      "<bound method WebDriver.get of <selenium.webdriver.chrome.webdriver.WebDriver (session=\"a3562d7a0131c7116edd2c5b9e4ecbc1\")>>\n",
      "<bound method WebDriver.get of <selenium.webdriver.chrome.webdriver.WebDriver (session=\"2fff63dc81ac6cf4de9bfeda14727877\")>>\n",
      "<bound method WebDriver.get of <selenium.webdriver.chrome.webdriver.WebDriver (session=\"eb74ab59e23f8fc6a5d9fd6fb67b1135\")>>\n",
      "<bound method WebDriver.get of <selenium.webdriver.chrome.webdriver.WebDriver (session=\"30edcc701055c656a82fd9cf1c911660\")>>\n",
      "<bound method WebDriver.get of <selenium.webdriver.chrome.webdriver.WebDriver (session=\"5699fdf059a20e99a1b8e8d4de155769\")>>\n",
      "<bound method WebDriver.get of <selenium.webdriver.chrome.webdriver.WebDriver (session=\"069c2563212a34490104d48a7ce2df3e\")>>\n",
      "<bound method WebDriver.get of <selenium.webdriver.chrome.webdriver.WebDriver (session=\"548873cc23e12e79214ab1a66e0956cd\")>>\n",
      "<bound method WebDriver.get of <selenium.webdriver.chrome.webdriver.WebDriver (session=\"81e98db764ab0265cb7b4eed5dc56c89\")>>\n",
      "<bound method WebDriver.get of <selenium.webdriver.chrome.webdriver.WebDriver (session=\"bad3351896a7405ad09db5d95479dd7f\")>>\n",
      "<bound method WebDriver.get of <selenium.webdriver.chrome.webdriver.WebDriver (session=\"15210c8a601ded6f8a09e3ca39b93f56\")>>\n",
      "<bound method WebDriver.get of <selenium.webdriver.chrome.webdriver.WebDriver (session=\"3223b9c2456f9fd477776bdf24a2389e\")>>\n",
      "<bound method WebDriver.get of <selenium.webdriver.chrome.webdriver.WebDriver (session=\"d8994d79ff1f2d042655c9a2310e6b41\")>>\n",
      "<bound method WebDriver.get of <selenium.webdriver.chrome.webdriver.WebDriver (session=\"ecd703a7464b11e74de6f397d68f4bcb\")>>\n",
      "<bound method WebDriver.get of <selenium.webdriver.chrome.webdriver.WebDriver (session=\"452fc3c26ac5803f7d095c3808dbdf24\")>>\n",
      "<bound method WebDriver.get of <selenium.webdriver.chrome.webdriver.WebDriver (session=\"6ce47620a0262c34526d2f9150dd2e6a\")>>\n",
      "<bound method WebDriver.get of <selenium.webdriver.chrome.webdriver.WebDriver (session=\"9bcc8863001f410926cebeeeab7827ac\")>>\n",
      "<bound method WebDriver.get of <selenium.webdriver.chrome.webdriver.WebDriver (session=\"1479c619c4b62db530876cad6d416bc3\")>>\n",
      "<bound method WebDriver.get of <selenium.webdriver.chrome.webdriver.WebDriver (session=\"05bfe7b960a39d8b13bf6e95e8c90a5a\")>>\n",
      "<bound method WebDriver.get of <selenium.webdriver.chrome.webdriver.WebDriver (session=\"be78ea239fbadf230a6c02ba864e4776\")>>\n",
      "<bound method WebDriver.get of <selenium.webdriver.chrome.webdriver.WebDriver (session=\"ab01ff099dd3b129c7a18fa0a0a16b3a\")>>\n",
      "<bound method WebDriver.get of <selenium.webdriver.chrome.webdriver.WebDriver (session=\"bbe2e9be496e2d9fb92a7ceb9d1b4e04\")>>\n"
     ]
    },
    {
     "name": "stdout",
     "output_type": "stream",
     "text": [
      "<bound method WebDriver.get of <selenium.webdriver.chrome.webdriver.WebDriver (session=\"ace9be49429b3e161c886f675ece86d9\")>>\n",
      "<bound method WebDriver.get of <selenium.webdriver.chrome.webdriver.WebDriver (session=\"9adcec56d789e67ef80268b990dd875b\")>>\n",
      "<bound method WebDriver.get of <selenium.webdriver.chrome.webdriver.WebDriver (session=\"6b8e1bec2e76f643323b0e2ff301e6fe\")>>\n",
      "<bound method WebDriver.get of <selenium.webdriver.chrome.webdriver.WebDriver (session=\"c0e26eafcc4551908dfbb733510b07f2\")>>\n",
      "<bound method WebDriver.get of <selenium.webdriver.chrome.webdriver.WebDriver (session=\"9965c4a2b994f3181b9a433cc32259c7\")>>\n",
      "<bound method WebDriver.get of <selenium.webdriver.chrome.webdriver.WebDriver (session=\"17de04634bd26d70b6ac80cc7a24e696\")>>\n",
      "<bound method WebDriver.get of <selenium.webdriver.chrome.webdriver.WebDriver (session=\"03f318217c39b0f132cf3e893c7b9f25\")>>\n",
      "<bound method WebDriver.get of <selenium.webdriver.chrome.webdriver.WebDriver (session=\"519841328d80a1e17ffe98cb4ab79bab\")>>\n",
      "<bound method WebDriver.get of <selenium.webdriver.chrome.webdriver.WebDriver (session=\"5216a28976ce70a4a76d98e8d05e79fd\")>>\n",
      "<bound method WebDriver.get of <selenium.webdriver.chrome.webdriver.WebDriver (session=\"355be7d53212c309e2dc99fe98447af0\")>>\n",
      "<bound method WebDriver.get of <selenium.webdriver.chrome.webdriver.WebDriver (session=\"aeaec10a329c050fe9c1845b97f9fda5\")>>\n",
      "<bound method WebDriver.get of <selenium.webdriver.chrome.webdriver.WebDriver (session=\"febd8759a6bf1181b7d34dabda7f0d8f\")>>\n",
      "<bound method WebDriver.get of <selenium.webdriver.chrome.webdriver.WebDriver (session=\"9a52e93f7acfb5c5c3885424d4275c7d\")>>\n",
      "<bound method WebDriver.get of <selenium.webdriver.chrome.webdriver.WebDriver (session=\"dca3d874b87174a883dbb1595a5e601a\")>>\n",
      "<bound method WebDriver.get of <selenium.webdriver.chrome.webdriver.WebDriver (session=\"926ad96c6a76be1102f3c0ebc0fdbe13\")>>\n",
      "<bound method WebDriver.get of <selenium.webdriver.chrome.webdriver.WebDriver (session=\"541c3698b2c879057a2a12fd71f63700\")>>\n",
      "<bound method WebDriver.get of <selenium.webdriver.chrome.webdriver.WebDriver (session=\"1b418dde2870b4b5055bff94763f1b7c\")>>\n",
      "<bound method WebDriver.get of <selenium.webdriver.chrome.webdriver.WebDriver (session=\"9a32c373eae07b8b560f2b4ee08f2dc4\")>>\n",
      "<bound method WebDriver.get of <selenium.webdriver.chrome.webdriver.WebDriver (session=\"88a38f9c0e13f1dd9ef589148ac3cc1b\")>>\n",
      "<bound method WebDriver.get of <selenium.webdriver.chrome.webdriver.WebDriver (session=\"75a5c1f9e5839a7b6b35e59804054057\")>>\n",
      "<bound method WebDriver.get of <selenium.webdriver.chrome.webdriver.WebDriver (session=\"b9661a8ce08a00a4bb4e2080a663a0f0\")>>\n",
      "<bound method WebDriver.get of <selenium.webdriver.chrome.webdriver.WebDriver (session=\"6eb8e094242bd77facf0226852ee5f12\")>>\n",
      "<bound method WebDriver.get of <selenium.webdriver.chrome.webdriver.WebDriver (session=\"97ab61b9c866c1597fc24caf7f11c934\")>>\n",
      "<bound method WebDriver.get of <selenium.webdriver.chrome.webdriver.WebDriver (session=\"18e5eee3ede15d3bc6d29184106b7eee\")>>\n",
      "<bound method WebDriver.get of <selenium.webdriver.chrome.webdriver.WebDriver (session=\"f6461ba9715e40a5d0bca7507d5db894\")>>\n",
      "<bound method WebDriver.get of <selenium.webdriver.chrome.webdriver.WebDriver (session=\"210d24035a87ce75041a1e348b5798b8\")>>\n",
      "<bound method WebDriver.get of <selenium.webdriver.chrome.webdriver.WebDriver (session=\"552cfacd04c880e71950c09e773c00e6\")>>\n",
      "<bound method WebDriver.get of <selenium.webdriver.chrome.webdriver.WebDriver (session=\"9b46c85ae5116fc212d26c728a683ecb\")>>\n",
      "<bound method WebDriver.get of <selenium.webdriver.chrome.webdriver.WebDriver (session=\"df6f8533acfbd93aaaa0ec1c5a56a71d\")>>\n",
      "<bound method WebDriver.get of <selenium.webdriver.chrome.webdriver.WebDriver (session=\"22a5db3b6ee41542e7c21b284dda6d50\")>>\n",
      "<bound method WebDriver.get of <selenium.webdriver.chrome.webdriver.WebDriver (session=\"6b4176275b40ee175fb8c73736bfc288\")>>\n",
      "<bound method WebDriver.get of <selenium.webdriver.chrome.webdriver.WebDriver (session=\"923b208961796baf3cb88e17f37becdc\")>>\n",
      "<bound method WebDriver.get of <selenium.webdriver.chrome.webdriver.WebDriver (session=\"5b3837e2889cc93fca33b97e25d9b5e5\")>>\n",
      "<bound method WebDriver.get of <selenium.webdriver.chrome.webdriver.WebDriver (session=\"cf94ac97fc41c4939cb64d3ee20ef4d6\")>>\n",
      "<bound method WebDriver.get of <selenium.webdriver.chrome.webdriver.WebDriver (session=\"f14c4c417ca47b9ccf9d7a890bf97800\")>>\n",
      "<bound method WebDriver.get of <selenium.webdriver.chrome.webdriver.WebDriver (session=\"db88fed69919fcf8c4af54d1508582b9\")>>\n",
      "<bound method WebDriver.get of <selenium.webdriver.chrome.webdriver.WebDriver (session=\"57e22d1177c515e22aada20fcbc34546\")>>\n",
      "<bound method WebDriver.get of <selenium.webdriver.chrome.webdriver.WebDriver (session=\"eb81bc68cce53e5719e2a5cdb93cbdad\")>>\n",
      "<bound method WebDriver.get of <selenium.webdriver.chrome.webdriver.WebDriver (session=\"46614ed3476cb71f124923d8255fded0\")>>\n",
      "<bound method WebDriver.get of <selenium.webdriver.chrome.webdriver.WebDriver (session=\"cb080522fe267d4f59ebed6e3fd47de7\")>>\n",
      "<bound method WebDriver.get of <selenium.webdriver.chrome.webdriver.WebDriver (session=\"2584235e96f84ace12377c98a1d37f2f\")>>\n",
      "<bound method WebDriver.get of <selenium.webdriver.chrome.webdriver.WebDriver (session=\"6cb32a79bb77e90e1bad9646f57781d4\")>>\n",
      "<bound method WebDriver.get of <selenium.webdriver.chrome.webdriver.WebDriver (session=\"2ce368878f8bd70c3d4dc13633acf2e4\")>>\n",
      "<bound method WebDriver.get of <selenium.webdriver.chrome.webdriver.WebDriver (session=\"439f5a84c6820089e03178cc4209fc34\")>>\n",
      "<bound method WebDriver.get of <selenium.webdriver.chrome.webdriver.WebDriver (session=\"4de3f958dafd0bd5bcde8c4025ecc79d\")>>\n",
      "<bound method WebDriver.get of <selenium.webdriver.chrome.webdriver.WebDriver (session=\"7b6cc0f3ead53967ad8f7a6a6e1bd69e\")>>\n",
      "<bound method WebDriver.get of <selenium.webdriver.chrome.webdriver.WebDriver (session=\"d50659f5b61d33ec0ce9f29ea7c9bc91\")>>\n",
      "<bound method WebDriver.get of <selenium.webdriver.chrome.webdriver.WebDriver (session=\"a7bf0217f79ad0bd254d60f15444ca37\")>>\n",
      "<bound method WebDriver.get of <selenium.webdriver.chrome.webdriver.WebDriver (session=\"d5914e837057ccd6125ad6b970e72b4d\")>>\n",
      "<bound method WebDriver.get of <selenium.webdriver.chrome.webdriver.WebDriver (session=\"46cb8952d36abbbfe1fdd2b0df77153a\")>>\n",
      "<bound method WebDriver.get of <selenium.webdriver.chrome.webdriver.WebDriver (session=\"3c2cfd17020455e5a026e8ec5f170f2c\")>>\n",
      "<bound method WebDriver.get of <selenium.webdriver.chrome.webdriver.WebDriver (session=\"aeb436c1ee2c2bc31ac0586e3faec2f8\")>>\n",
      "<bound method WebDriver.get of <selenium.webdriver.chrome.webdriver.WebDriver (session=\"c662a21b815c10f6a395a677bf681efb\")>>\n",
      "<bound method WebDriver.get of <selenium.webdriver.chrome.webdriver.WebDriver (session=\"525b9f49158097b4c9f9df259ca9260a\")>>\n",
      "<bound method WebDriver.get of <selenium.webdriver.chrome.webdriver.WebDriver (session=\"e53cf35dd6137abf5991f9e18b9c024a\")>>\n",
      "<bound method WebDriver.get of <selenium.webdriver.chrome.webdriver.WebDriver (session=\"060db8489b0f9589177d8515b3a60f7f\")>>\n",
      "<bound method WebDriver.get of <selenium.webdriver.chrome.webdriver.WebDriver (session=\"ee2b3dc3ef52f12e4c509fad644776cd\")>>\n",
      "<bound method WebDriver.get of <selenium.webdriver.chrome.webdriver.WebDriver (session=\"9fcef11419b82912e2af45e9e9667340\")>>\n",
      "<bound method WebDriver.get of <selenium.webdriver.chrome.webdriver.WebDriver (session=\"7170660a16c7ee42b2523324e6fda674\")>>\n",
      "<bound method WebDriver.get of <selenium.webdriver.chrome.webdriver.WebDriver (session=\"97bbb302e4323f931c350f8b0a522f40\")>>\n",
      "<bound method WebDriver.get of <selenium.webdriver.chrome.webdriver.WebDriver (session=\"afaa9ac5b21b18b10d1bbba0b7578122\")>>\n",
      "<bound method WebDriver.get of <selenium.webdriver.chrome.webdriver.WebDriver (session=\"9abd362dd4c9213455bb344ef0302d64\")>>\n",
      "<bound method WebDriver.get of <selenium.webdriver.chrome.webdriver.WebDriver (session=\"a64e4f43723693ad2768785bce6d14bd\")>>\n",
      "<bound method WebDriver.get of <selenium.webdriver.chrome.webdriver.WebDriver (session=\"3fcc577289c4b322ebab413ca3b9df26\")>>\n",
      "<bound method WebDriver.get of <selenium.webdriver.chrome.webdriver.WebDriver (session=\"93d4cdef25ab3e532cbeaf90a4f19dfa\")>>\n",
      "<bound method WebDriver.get of <selenium.webdriver.chrome.webdriver.WebDriver (session=\"52a50c6fbb319e4791ce34cef25ec4a8\")>>\n"
     ]
    },
    {
     "name": "stdout",
     "output_type": "stream",
     "text": [
      "<bound method WebDriver.get of <selenium.webdriver.chrome.webdriver.WebDriver (session=\"60a1a9591f76cdf2f958a8ac8956c36d\")>>\n",
      "<bound method WebDriver.get of <selenium.webdriver.chrome.webdriver.WebDriver (session=\"4938257e37b043d88d751f55e01a23df\")>>\n",
      "<bound method WebDriver.get of <selenium.webdriver.chrome.webdriver.WebDriver (session=\"1bf8ff437b2ccdab609fe1c7d3f49778\")>>\n",
      "<bound method WebDriver.get of <selenium.webdriver.chrome.webdriver.WebDriver (session=\"a065477ee41e62caa47d6e683bf99099\")>>\n",
      "<bound method WebDriver.get of <selenium.webdriver.chrome.webdriver.WebDriver (session=\"f7aafc4014d8592a76005a530c11face\")>>\n",
      "<bound method WebDriver.get of <selenium.webdriver.chrome.webdriver.WebDriver (session=\"e41f1f0e97fcf8493edcb931c99ce9a2\")>>\n",
      "<bound method WebDriver.get of <selenium.webdriver.chrome.webdriver.WebDriver (session=\"ad3d4b23fe06d216de3c729e534937ad\")>>\n",
      "<bound method WebDriver.get of <selenium.webdriver.chrome.webdriver.WebDriver (session=\"016f931606fc9869d6bca6f797e272a8\")>>\n",
      "<bound method WebDriver.get of <selenium.webdriver.chrome.webdriver.WebDriver (session=\"8fbf9e6a3099420c6f0b4bb8964a23db\")>>\n",
      "<bound method WebDriver.get of <selenium.webdriver.chrome.webdriver.WebDriver (session=\"211bb79e31cfe41ccc1a0f8a78a9dd5e\")>>\n",
      "<bound method WebDriver.get of <selenium.webdriver.chrome.webdriver.WebDriver (session=\"9e8b2f6652bf072c01eb797bcf6e4023\")>>\n",
      "<bound method WebDriver.get of <selenium.webdriver.chrome.webdriver.WebDriver (session=\"489dac28ff49bdf1840dee42157fa76d\")>>\n",
      "<bound method WebDriver.get of <selenium.webdriver.chrome.webdriver.WebDriver (session=\"f444518c2feb0e213212eaddc9f9a918\")>>\n",
      "<bound method WebDriver.get of <selenium.webdriver.chrome.webdriver.WebDriver (session=\"44a81b0bc07cb97acd8bfe1bb2fa686c\")>>\n",
      "<bound method WebDriver.get of <selenium.webdriver.chrome.webdriver.WebDriver (session=\"43aef8e24a1e63e85a2dd8c69fadddb7\")>>\n",
      "<bound method WebDriver.get of <selenium.webdriver.chrome.webdriver.WebDriver (session=\"9a818eaa38508740ff559c325fcfb597\")>>\n",
      "<bound method WebDriver.get of <selenium.webdriver.chrome.webdriver.WebDriver (session=\"f90ff66e29d7332724d198cf7dd389b5\")>>\n",
      "<bound method WebDriver.get of <selenium.webdriver.chrome.webdriver.WebDriver (session=\"f8efe4125b39a7ec52daad735d5cd3fb\")>>\n",
      "<bound method WebDriver.get of <selenium.webdriver.chrome.webdriver.WebDriver (session=\"e2207fb7c99991dd0cd297fdd18aa37a\")>>\n",
      "<bound method WebDriver.get of <selenium.webdriver.chrome.webdriver.WebDriver (session=\"13ecba9e1b3e3a74cb88770850426a11\")>>\n",
      "<bound method WebDriver.get of <selenium.webdriver.chrome.webdriver.WebDriver (session=\"bf2d1090dda640a383c55269d9a099a9\")>>\n",
      "<bound method WebDriver.get of <selenium.webdriver.chrome.webdriver.WebDriver (session=\"c0d7712a7068a069808fab85d1620710\")>>\n",
      "<bound method WebDriver.get of <selenium.webdriver.chrome.webdriver.WebDriver (session=\"f13d8e48c38ef081cad27fd4669ed0ff\")>>\n",
      "<bound method WebDriver.get of <selenium.webdriver.chrome.webdriver.WebDriver (session=\"4fcffce1dc0406f328462eac73962fad\")>>\n",
      "<bound method WebDriver.get of <selenium.webdriver.chrome.webdriver.WebDriver (session=\"b2bbb7b540c9df56728af4b82b0a5836\")>>\n",
      "<bound method WebDriver.get of <selenium.webdriver.chrome.webdriver.WebDriver (session=\"748aa9dd43cd731ecf05d5a4f73c02cc\")>>\n",
      "<bound method WebDriver.get of <selenium.webdriver.chrome.webdriver.WebDriver (session=\"818c69d0ce4dd44a61de943a79725b26\")>>\n",
      "<bound method WebDriver.get of <selenium.webdriver.chrome.webdriver.WebDriver (session=\"40ec9da55785cdeeda4d08c86ba13fbc\")>>\n",
      "<bound method WebDriver.get of <selenium.webdriver.chrome.webdriver.WebDriver (session=\"d422fb31e3ffd253e00e371e9731a209\")>>\n",
      "<bound method WebDriver.get of <selenium.webdriver.chrome.webdriver.WebDriver (session=\"b3d3d70e35fd11dd4a8fefe06d89c8c2\")>>\n",
      "<bound method WebDriver.get of <selenium.webdriver.chrome.webdriver.WebDriver (session=\"d2d53893092bed36738e7453bd14ba1f\")>>\n",
      "<bound method WebDriver.get of <selenium.webdriver.chrome.webdriver.WebDriver (session=\"d583e8c2eeed163e6684df6922119439\")>>\n",
      "<bound method WebDriver.get of <selenium.webdriver.chrome.webdriver.WebDriver (session=\"f15650336c4754d2c2fefc45e4d1c6e7\")>>\n",
      "<bound method WebDriver.get of <selenium.webdriver.chrome.webdriver.WebDriver (session=\"6e500a4f92a8064faa148329225fa9c8\")>>\n",
      "<bound method WebDriver.get of <selenium.webdriver.chrome.webdriver.WebDriver (session=\"0429a632aacecf9b2d6e95a971d338ba\")>>\n",
      "<bound method WebDriver.get of <selenium.webdriver.chrome.webdriver.WebDriver (session=\"bb3e166afaf83fa72cd017b7301a79d8\")>>\n",
      "<bound method WebDriver.get of <selenium.webdriver.chrome.webdriver.WebDriver (session=\"fe55df37e5980efcee13ea69618d4a61\")>>\n",
      "<bound method WebDriver.get of <selenium.webdriver.chrome.webdriver.WebDriver (session=\"d55e75f8b6c1e46168fef04ee540125d\")>>\n",
      "<bound method WebDriver.get of <selenium.webdriver.chrome.webdriver.WebDriver (session=\"b0b237079a14a21331d19f40f382de98\")>>\n",
      "<bound method WebDriver.get of <selenium.webdriver.chrome.webdriver.WebDriver (session=\"940b99d93e5e7f3d2821156106e33c9d\")>>\n",
      "<bound method WebDriver.get of <selenium.webdriver.chrome.webdriver.WebDriver (session=\"6a8f0fa9d645907392cf246ace4c9ff5\")>>\n",
      "<bound method WebDriver.get of <selenium.webdriver.chrome.webdriver.WebDriver (session=\"0518aa4a06ff9baf4d4561cd99afe7b7\")>>\n",
      "<bound method WebDriver.get of <selenium.webdriver.chrome.webdriver.WebDriver (session=\"5f3028bdbb1a143e9d2d3afb66154be0\")>>\n",
      "<bound method WebDriver.get of <selenium.webdriver.chrome.webdriver.WebDriver (session=\"c07f1fd5c8c86de9987bdcfd863de5db\")>>\n",
      "<bound method WebDriver.get of <selenium.webdriver.chrome.webdriver.WebDriver (session=\"78a06dfd41bee3699ce48ddbd066f9c5\")>>\n",
      "<bound method WebDriver.get of <selenium.webdriver.chrome.webdriver.WebDriver (session=\"d8ccd86cb85d67667788866393dce4e7\")>>\n",
      "<bound method WebDriver.get of <selenium.webdriver.chrome.webdriver.WebDriver (session=\"32034d91eb80be2bb75005efa9ff72e0\")>>\n",
      "<bound method WebDriver.get of <selenium.webdriver.chrome.webdriver.WebDriver (session=\"6dd8a62978e16a45c29665ca9f9e996c\")>>\n",
      "<bound method WebDriver.get of <selenium.webdriver.chrome.webdriver.WebDriver (session=\"4fb1b5d3ae211276b1e2c57e444292e2\")>>\n",
      "<bound method WebDriver.get of <selenium.webdriver.chrome.webdriver.WebDriver (session=\"38d03e7825c71ef8dd418cbcc5e38ee0\")>>\n",
      "<bound method WebDriver.get of <selenium.webdriver.chrome.webdriver.WebDriver (session=\"f05ef8043dae2391604583f166220b34\")>>\n",
      "<bound method WebDriver.get of <selenium.webdriver.chrome.webdriver.WebDriver (session=\"2faea01abafd956e265fc21b5c715d55\")>>\n",
      "<bound method WebDriver.get of <selenium.webdriver.chrome.webdriver.WebDriver (session=\"8b430c2444cb33a63e385b4d136364b5\")>>\n",
      "<bound method WebDriver.get of <selenium.webdriver.chrome.webdriver.WebDriver (session=\"740e5f863365100fe58028807eacb35c\")>>\n",
      "<bound method WebDriver.get of <selenium.webdriver.chrome.webdriver.WebDriver (session=\"d7c31afc08499030623ba8c227be9624\")>>\n",
      "<bound method WebDriver.get of <selenium.webdriver.chrome.webdriver.WebDriver (session=\"a3c8aed0dfae338d836159dc1d38d315\")>>\n",
      "<bound method WebDriver.get of <selenium.webdriver.chrome.webdriver.WebDriver (session=\"febea35737f6a9cf41ad330e8e4f4595\")>>\n",
      "<bound method WebDriver.get of <selenium.webdriver.chrome.webdriver.WebDriver (session=\"b718222d66bc7cc1a614e4c901c4e60d\")>>\n",
      "<bound method WebDriver.get of <selenium.webdriver.chrome.webdriver.WebDriver (session=\"e5655d779588d5671bd275f57908f427\")>>\n",
      "<bound method WebDriver.get of <selenium.webdriver.chrome.webdriver.WebDriver (session=\"f9f75805f2adbfbab9263beb7a10d3b5\")>>\n",
      "<bound method WebDriver.get of <selenium.webdriver.chrome.webdriver.WebDriver (session=\"1a063981ce6c188f6fe87a6c414db2ae\")>>\n",
      "<bound method WebDriver.get of <selenium.webdriver.chrome.webdriver.WebDriver (session=\"c8eed84276cb367470bea9811dcab8c7\")>>\n",
      "<bound method WebDriver.get of <selenium.webdriver.chrome.webdriver.WebDriver (session=\"84082f4439110512ace1eaae6c1f25cf\")>>\n",
      "<bound method WebDriver.get of <selenium.webdriver.chrome.webdriver.WebDriver (session=\"be8715919e2ff3092d2d5422fb72852f\")>>\n",
      "<bound method WebDriver.get of <selenium.webdriver.chrome.webdriver.WebDriver (session=\"2686b10d28311bbd6935f888202c3c28\")>>\n",
      "<bound method WebDriver.get of <selenium.webdriver.chrome.webdriver.WebDriver (session=\"20a336cdab285078d618fa1ac0130cc3\")>>\n"
     ]
    },
    {
     "name": "stdout",
     "output_type": "stream",
     "text": [
      "<bound method WebDriver.get of <selenium.webdriver.chrome.webdriver.WebDriver (session=\"1abc9a45851ea076e5841ff4d7523e9b\")>>\n",
      "<bound method WebDriver.get of <selenium.webdriver.chrome.webdriver.WebDriver (session=\"270b7e28c10082503743ab1270aaf20d\")>>\n",
      "<bound method WebDriver.get of <selenium.webdriver.chrome.webdriver.WebDriver (session=\"fe25eee33c14001cb4331c0052f606ef\")>>\n",
      "<bound method WebDriver.get of <selenium.webdriver.chrome.webdriver.WebDriver (session=\"8b3e4f71127eab6988c785ad8d9a949c\")>>\n",
      "<bound method WebDriver.get of <selenium.webdriver.chrome.webdriver.WebDriver (session=\"bd6633c88c24a17da32f675a8986f5a0\")>>\n",
      "<bound method WebDriver.get of <selenium.webdriver.chrome.webdriver.WebDriver (session=\"cf8b883edc7b6e9b456cd6d175831f8a\")>>\n",
      "<bound method WebDriver.get of <selenium.webdriver.chrome.webdriver.WebDriver (session=\"5cbb7a09a797a08f52860e7b71e6bbd9\")>>\n",
      "<bound method WebDriver.get of <selenium.webdriver.chrome.webdriver.WebDriver (session=\"d9c4a1c2bc323a123f964c09a48d7534\")>>\n",
      "<bound method WebDriver.get of <selenium.webdriver.chrome.webdriver.WebDriver (session=\"467914f4f556a0de969a2e9519292db3\")>>\n",
      "<bound method WebDriver.get of <selenium.webdriver.chrome.webdriver.WebDriver (session=\"a7406171c55d2edcb3521f66741dc41f\")>>\n",
      "<bound method WebDriver.get of <selenium.webdriver.chrome.webdriver.WebDriver (session=\"f12e09d47cfc5fb14069629d8947afb8\")>>\n",
      "<bound method WebDriver.get of <selenium.webdriver.chrome.webdriver.WebDriver (session=\"e67350d5b89843d415714c41261e2a82\")>>\n",
      "<bound method WebDriver.get of <selenium.webdriver.chrome.webdriver.WebDriver (session=\"31164ff8ea6d15c4bb713b5abe1cc750\")>>\n",
      "<bound method WebDriver.get of <selenium.webdriver.chrome.webdriver.WebDriver (session=\"ba98c4c04cd63037f5ce6bd2955ddd5d\")>>\n",
      "<bound method WebDriver.get of <selenium.webdriver.chrome.webdriver.WebDriver (session=\"3a26ef798b203e25a20cfe1ba71c0123\")>>\n",
      "<bound method WebDriver.get of <selenium.webdriver.chrome.webdriver.WebDriver (session=\"b5bd704d1259e9b8fabb5cb873d54f60\")>>\n",
      "<bound method WebDriver.get of <selenium.webdriver.chrome.webdriver.WebDriver (session=\"a51ebc0fc7f2199d4f31bf00e980bd1a\")>>\n",
      "<bound method WebDriver.get of <selenium.webdriver.chrome.webdriver.WebDriver (session=\"a12a52088ac423a91669885cb5c77ece\")>>\n",
      "<bound method WebDriver.get of <selenium.webdriver.chrome.webdriver.WebDriver (session=\"637795fa23c59c8d8779e5404ccbb2ca\")>>\n",
      "<bound method WebDriver.get of <selenium.webdriver.chrome.webdriver.WebDriver (session=\"b4393498e8a7f9891788529603ef83a4\")>>\n",
      "<bound method WebDriver.get of <selenium.webdriver.chrome.webdriver.WebDriver (session=\"0f59c7593f4469e4c4d31b3de5dfe59e\")>>\n",
      "<bound method WebDriver.get of <selenium.webdriver.chrome.webdriver.WebDriver (session=\"186076b5420a0be73ed7f88751149b99\")>>\n",
      "<bound method WebDriver.get of <selenium.webdriver.chrome.webdriver.WebDriver (session=\"166a99699ef041a8c1c81f10de5e82b4\")>>\n",
      "<bound method WebDriver.get of <selenium.webdriver.chrome.webdriver.WebDriver (session=\"ee13c11ea82cf0ffbcdd274ee200a559\")>>\n",
      "<bound method WebDriver.get of <selenium.webdriver.chrome.webdriver.WebDriver (session=\"e9735cc5bd45f4506a2a712dbde29545\")>>\n",
      "<bound method WebDriver.get of <selenium.webdriver.chrome.webdriver.WebDriver (session=\"3be4c20b1503428201eb7466d6558e21\")>>\n",
      "<bound method WebDriver.get of <selenium.webdriver.chrome.webdriver.WebDriver (session=\"57d0f3514885d9b377a407f4edc5b5b1\")>>\n",
      "<bound method WebDriver.get of <selenium.webdriver.chrome.webdriver.WebDriver (session=\"2c7a91e1c63c59236e8fe757d8e5578d\")>>\n",
      "<bound method WebDriver.get of <selenium.webdriver.chrome.webdriver.WebDriver (session=\"7898e10163db0566c0a4846815d7cfb6\")>>\n",
      "<bound method WebDriver.get of <selenium.webdriver.chrome.webdriver.WebDriver (session=\"04856f0285febb5770df78d2d70f657a\")>>\n",
      "<bound method WebDriver.get of <selenium.webdriver.chrome.webdriver.WebDriver (session=\"fc16fa40839385528b1718d3222846eb\")>>\n",
      "<bound method WebDriver.get of <selenium.webdriver.chrome.webdriver.WebDriver (session=\"5cdbc16c9263e28a726dbd9e178aa848\")>>\n",
      "<bound method WebDriver.get of <selenium.webdriver.chrome.webdriver.WebDriver (session=\"a452ee1054476fbc3f83f733124411a2\")>>\n",
      "<bound method WebDriver.get of <selenium.webdriver.chrome.webdriver.WebDriver (session=\"d0af35640c05153ac9063d9b51474995\")>>\n",
      "<bound method WebDriver.get of <selenium.webdriver.chrome.webdriver.WebDriver (session=\"8dc377e53cc51111554ec4c618da2d6b\")>>\n",
      "<bound method WebDriver.get of <selenium.webdriver.chrome.webdriver.WebDriver (session=\"650ea677a9f55518c53a5070537daff5\")>>\n",
      "<bound method WebDriver.get of <selenium.webdriver.chrome.webdriver.WebDriver (session=\"4d6cec5e5dbaa422fd197685abdfd43e\")>>\n",
      "<bound method WebDriver.get of <selenium.webdriver.chrome.webdriver.WebDriver (session=\"734878f4bc67247b169a0d38497bc047\")>>\n",
      "<bound method WebDriver.get of <selenium.webdriver.chrome.webdriver.WebDriver (session=\"a922afb3818efdb5a662230b9934159f\")>>\n",
      "<bound method WebDriver.get of <selenium.webdriver.chrome.webdriver.WebDriver (session=\"3f5066327351bc852c5ea0abd16f878b\")>>\n",
      "<bound method WebDriver.get of <selenium.webdriver.chrome.webdriver.WebDriver (session=\"22000a528d21ec93c653bf552deac337\")>>\n",
      "<bound method WebDriver.get of <selenium.webdriver.chrome.webdriver.WebDriver (session=\"c22ebf58010a853a1a495d29348eada0\")>>\n",
      "<bound method WebDriver.get of <selenium.webdriver.chrome.webdriver.WebDriver (session=\"c4756fbf65dc8938c3720eb3e969eaeb\")>>\n",
      "<bound method WebDriver.get of <selenium.webdriver.chrome.webdriver.WebDriver (session=\"b861cdde779c76aa09edc4f10588142b\")>>\n",
      "<bound method WebDriver.get of <selenium.webdriver.chrome.webdriver.WebDriver (session=\"81882cf62e877f05ec4a0c54cb9f490c\")>>\n",
      "<bound method WebDriver.get of <selenium.webdriver.chrome.webdriver.WebDriver (session=\"34f7d74b45511e8981ba6120d2673d7c\")>>\n",
      "<bound method WebDriver.get of <selenium.webdriver.chrome.webdriver.WebDriver (session=\"712b00ab02d8665c450e2b2280608ea8\")>>\n",
      "<bound method WebDriver.get of <selenium.webdriver.chrome.webdriver.WebDriver (session=\"c6b41c18883e7750babfad22f22de44d\")>>\n",
      "<bound method WebDriver.get of <selenium.webdriver.chrome.webdriver.WebDriver (session=\"880df276b6533326c1421746fee5a22a\")>>\n",
      "<bound method WebDriver.get of <selenium.webdriver.chrome.webdriver.WebDriver (session=\"289452c827036a140f9f44b4945ef87b\")>>\n",
      "<bound method WebDriver.get of <selenium.webdriver.chrome.webdriver.WebDriver (session=\"c06ff979937f35ac71f0912e0250e7a7\")>>\n",
      "<bound method WebDriver.get of <selenium.webdriver.chrome.webdriver.WebDriver (session=\"f45efa556adb2394754ac4753421c76e\")>>\n",
      "<bound method WebDriver.get of <selenium.webdriver.chrome.webdriver.WebDriver (session=\"67e2272f51f53fc75156d8ef58d44de7\")>>\n",
      "<bound method WebDriver.get of <selenium.webdriver.chrome.webdriver.WebDriver (session=\"ef5095b26a6221e70f88145475ae87ca\")>>\n",
      "<bound method WebDriver.get of <selenium.webdriver.chrome.webdriver.WebDriver (session=\"4e6503b4bf705140348abdf1cefa9e89\")>>\n",
      "<bound method WebDriver.get of <selenium.webdriver.chrome.webdriver.WebDriver (session=\"75996da8671d19d182290bce15a649cc\")>>\n",
      "<bound method WebDriver.get of <selenium.webdriver.chrome.webdriver.WebDriver (session=\"91c95430d94f65c928c218f0234c4453\")>>\n",
      "<bound method WebDriver.get of <selenium.webdriver.chrome.webdriver.WebDriver (session=\"47579dd0e6c956d67cd17c9339295ed8\")>>\n",
      "<bound method WebDriver.get of <selenium.webdriver.chrome.webdriver.WebDriver (session=\"ac1aa47a35c8055ee12c6840d109a12a\")>>\n",
      "<bound method WebDriver.get of <selenium.webdriver.chrome.webdriver.WebDriver (session=\"a13142f3d04a32e098f9ee3e610559f6\")>>\n",
      "<bound method WebDriver.get of <selenium.webdriver.chrome.webdriver.WebDriver (session=\"5c6735321f22d98596b7972a78bb3551\")>>\n",
      "<bound method WebDriver.get of <selenium.webdriver.chrome.webdriver.WebDriver (session=\"0b4a6693eff97fd78565b021cfee0f47\")>>\n",
      "<bound method WebDriver.get of <selenium.webdriver.chrome.webdriver.WebDriver (session=\"27c6da2280c8c1ec117cc06caea19e36\")>>\n",
      "<bound method WebDriver.get of <selenium.webdriver.chrome.webdriver.WebDriver (session=\"063bef4301466083e8b7d58e6615c541\")>>\n",
      "<bound method WebDriver.get of <selenium.webdriver.chrome.webdriver.WebDriver (session=\"7137acbbe94ec7031bbbd89590631618\")>>\n",
      "<bound method WebDriver.get of <selenium.webdriver.chrome.webdriver.WebDriver (session=\"a406a1f7767183e04e67f4e43804f736\")>>\n"
     ]
    },
    {
     "name": "stdout",
     "output_type": "stream",
     "text": [
      "<bound method WebDriver.get of <selenium.webdriver.chrome.webdriver.WebDriver (session=\"d3b296c59bc36edf7bd4fba183eef7bd\")>>\n",
      "<bound method WebDriver.get of <selenium.webdriver.chrome.webdriver.WebDriver (session=\"bad27920840169b61340a3519b0fd8af\")>>\n",
      "<bound method WebDriver.get of <selenium.webdriver.chrome.webdriver.WebDriver (session=\"6b2ed6e6171b318e33975dbf4b78f03d\")>>\n",
      "<bound method WebDriver.get of <selenium.webdriver.chrome.webdriver.WebDriver (session=\"18f0913bb6ff89a8360351bbbcba3f5d\")>>\n",
      "<bound method WebDriver.get of <selenium.webdriver.chrome.webdriver.WebDriver (session=\"f331e1eacd5a3223d5f672aeb8bc5a77\")>>\n",
      "<bound method WebDriver.get of <selenium.webdriver.chrome.webdriver.WebDriver (session=\"5edf0e70aa066a22161331f9c6ae70b8\")>>\n",
      "<bound method WebDriver.get of <selenium.webdriver.chrome.webdriver.WebDriver (session=\"70a107e959b9e7736d484d59232eea70\")>>\n",
      "<bound method WebDriver.get of <selenium.webdriver.chrome.webdriver.WebDriver (session=\"8ed657a7d1ddcf11b9e09e1183283edc\")>>\n",
      "<bound method WebDriver.get of <selenium.webdriver.chrome.webdriver.WebDriver (session=\"860b1948960748488abb8c6664626d63\")>>\n",
      "<bound method WebDriver.get of <selenium.webdriver.chrome.webdriver.WebDriver (session=\"a00b1946e4d5673d77fbc3e98c6a30f5\")>>\n",
      "<bound method WebDriver.get of <selenium.webdriver.chrome.webdriver.WebDriver (session=\"aafbb8b06afd9659c0c6592b4a729f26\")>>\n",
      "<bound method WebDriver.get of <selenium.webdriver.chrome.webdriver.WebDriver (session=\"ebf8151d0a54415e315c2179ef690b24\")>>\n",
      "<bound method WebDriver.get of <selenium.webdriver.chrome.webdriver.WebDriver (session=\"e0cbcb363314a72e4093a676c972eb6d\")>>\n",
      "<bound method WebDriver.get of <selenium.webdriver.chrome.webdriver.WebDriver (session=\"1f6739ae078fa2e8e6c28ec0c973d2c0\")>>\n",
      "<bound method WebDriver.get of <selenium.webdriver.chrome.webdriver.WebDriver (session=\"df42ff596daa33b8111bddea03db68ce\")>>\n",
      "<bound method WebDriver.get of <selenium.webdriver.chrome.webdriver.WebDriver (session=\"3812defb76e1bcf3ba369cf6e88493e9\")>>\n",
      "<bound method WebDriver.get of <selenium.webdriver.chrome.webdriver.WebDriver (session=\"7f28fdcbd44cfcefca3e0cee4098c707\")>>\n",
      "<bound method WebDriver.get of <selenium.webdriver.chrome.webdriver.WebDriver (session=\"20707db529d9451a0397f36d264ea92e\")>>\n",
      "<bound method WebDriver.get of <selenium.webdriver.chrome.webdriver.WebDriver (session=\"e0cce7ff80d151d148888cce90e2f2ef\")>>\n",
      "<bound method WebDriver.get of <selenium.webdriver.chrome.webdriver.WebDriver (session=\"1ec3d3fc846e7f626696c827c83240f5\")>>\n",
      "<bound method WebDriver.get of <selenium.webdriver.chrome.webdriver.WebDriver (session=\"fd1849286f5b93269b45baa65deddd71\")>>\n",
      "<bound method WebDriver.get of <selenium.webdriver.chrome.webdriver.WebDriver (session=\"0d1beadcaacb1fa5176e07ebcee917bb\")>>\n",
      "<bound method WebDriver.get of <selenium.webdriver.chrome.webdriver.WebDriver (session=\"3d26f9f3817e01ba7a88c478353f77a4\")>>\n",
      "<bound method WebDriver.get of <selenium.webdriver.chrome.webdriver.WebDriver (session=\"7e1c200b7a99acd4bab2e85aafb211b0\")>>\n",
      "<bound method WebDriver.get of <selenium.webdriver.chrome.webdriver.WebDriver (session=\"18cbbd3d1ab770d49a7a9b917f366cd2\")>>\n",
      "<bound method WebDriver.get of <selenium.webdriver.chrome.webdriver.WebDriver (session=\"008adbc30e421f1f60583748845e7bc8\")>>\n",
      "<bound method WebDriver.get of <selenium.webdriver.chrome.webdriver.WebDriver (session=\"33954391c0fa8be3e6d49aabb4d8cb92\")>>\n",
      "<bound method WebDriver.get of <selenium.webdriver.chrome.webdriver.WebDriver (session=\"0be09e5a035ad3858328971804c2ea32\")>>\n",
      "<bound method WebDriver.get of <selenium.webdriver.chrome.webdriver.WebDriver (session=\"1e23f05c8b88c070ecdfe83030dc34a7\")>>\n",
      "<bound method WebDriver.get of <selenium.webdriver.chrome.webdriver.WebDriver (session=\"c6c069f467522b64f32c2b791cb61a76\")>>\n",
      "<bound method WebDriver.get of <selenium.webdriver.chrome.webdriver.WebDriver (session=\"b567873bbae814522133cf979b2794f4\")>>\n",
      "<bound method WebDriver.get of <selenium.webdriver.chrome.webdriver.WebDriver (session=\"aa4828482e275dfb04be14f2d64d7f83\")>>\n",
      "<bound method WebDriver.get of <selenium.webdriver.chrome.webdriver.WebDriver (session=\"4a716e3ec276cd212e4659f174051eb9\")>>\n",
      "<bound method WebDriver.get of <selenium.webdriver.chrome.webdriver.WebDriver (session=\"554da925480876abe24ea06fbb69a9e6\")>>\n",
      "<bound method WebDriver.get of <selenium.webdriver.chrome.webdriver.WebDriver (session=\"9a438a41771e473f82da22b64ec9c8d2\")>>\n",
      "<bound method WebDriver.get of <selenium.webdriver.chrome.webdriver.WebDriver (session=\"745844668501ef9cda18128b57902d42\")>>\n",
      "<bound method WebDriver.get of <selenium.webdriver.chrome.webdriver.WebDriver (session=\"cb487816252670ce77693df13c25e1ba\")>>\n",
      "<bound method WebDriver.get of <selenium.webdriver.chrome.webdriver.WebDriver (session=\"0c8768c57a2795ba68e697b86b99f8aa\")>>\n",
      "<bound method WebDriver.get of <selenium.webdriver.chrome.webdriver.WebDriver (session=\"ab5f5114ad4cc72bf6ca9f7156f4ee78\")>>\n",
      "<bound method WebDriver.get of <selenium.webdriver.chrome.webdriver.WebDriver (session=\"21af17d255f1f127944cb4008639d1ed\")>>\n",
      "<bound method WebDriver.get of <selenium.webdriver.chrome.webdriver.WebDriver (session=\"00863b8d467127d7925614bb3cb869ce\")>>\n",
      "<bound method WebDriver.get of <selenium.webdriver.chrome.webdriver.WebDriver (session=\"5a6b4fe1df6546ac2a98ad8beb016570\")>>\n",
      "<bound method WebDriver.get of <selenium.webdriver.chrome.webdriver.WebDriver (session=\"085b202c6bd0c57122a89c7ca5b52198\")>>\n",
      "<bound method WebDriver.get of <selenium.webdriver.chrome.webdriver.WebDriver (session=\"4ad3802909143c56e3677d1ef6eb581d\")>>\n",
      "<bound method WebDriver.get of <selenium.webdriver.chrome.webdriver.WebDriver (session=\"8fc2ecbbd3d56eaa28d8d89b8fffa5ef\")>>\n",
      "<bound method WebDriver.get of <selenium.webdriver.chrome.webdriver.WebDriver (session=\"8bb44834dfbcf596ce8f0da03064c5aa\")>>\n",
      "<bound method WebDriver.get of <selenium.webdriver.chrome.webdriver.WebDriver (session=\"d70d5a1be3b5bda91de66e328e8772a4\")>>\n",
      "<bound method WebDriver.get of <selenium.webdriver.chrome.webdriver.WebDriver (session=\"35210424f9573a094e0c4dcbef6c6845\")>>\n",
      "<bound method WebDriver.get of <selenium.webdriver.chrome.webdriver.WebDriver (session=\"1cc1a3bae489e959cc26f3dcc8fa1b8c\")>>\n",
      "<bound method WebDriver.get of <selenium.webdriver.chrome.webdriver.WebDriver (session=\"3ad5ec81e1591b898e1a513d83a775fc\")>>\n",
      "<bound method WebDriver.get of <selenium.webdriver.chrome.webdriver.WebDriver (session=\"331facf7c6068887a2fd2a90ff54cf4b\")>>\n",
      "<bound method WebDriver.get of <selenium.webdriver.chrome.webdriver.WebDriver (session=\"f4a4e21fa29f0365575ae0b5b1e8c1fb\")>>\n",
      "<bound method WebDriver.get of <selenium.webdriver.chrome.webdriver.WebDriver (session=\"08e33aa20917213780ebf5dfb5ec7401\")>>\n",
      "<bound method WebDriver.get of <selenium.webdriver.chrome.webdriver.WebDriver (session=\"d63c3bd9298bcf1884831ff765b5bf48\")>>\n",
      "<bound method WebDriver.get of <selenium.webdriver.chrome.webdriver.WebDriver (session=\"efd2beeb0013c44c4556acf654773d85\")>>\n",
      "<bound method WebDriver.get of <selenium.webdriver.chrome.webdriver.WebDriver (session=\"6eb43c1f25ffe167183585f2e2c72f9c\")>>\n",
      "<bound method WebDriver.get of <selenium.webdriver.chrome.webdriver.WebDriver (session=\"4004e0371362c37f492675f378337b67\")>>\n",
      "<bound method WebDriver.get of <selenium.webdriver.chrome.webdriver.WebDriver (session=\"c529a937c8bce286db0a166fe83b9bf9\")>>\n",
      "<bound method WebDriver.get of <selenium.webdriver.chrome.webdriver.WebDriver (session=\"fd8dc63776ea2ce60e0d1740adb59808\")>>\n",
      "<bound method WebDriver.get of <selenium.webdriver.chrome.webdriver.WebDriver (session=\"9e8707b72d7cd5c2c79c18d2243dab02\")>>\n",
      "<bound method WebDriver.get of <selenium.webdriver.chrome.webdriver.WebDriver (session=\"fb1f1b671076e14825da588eb3ad82e5\")>>\n",
      "<bound method WebDriver.get of <selenium.webdriver.chrome.webdriver.WebDriver (session=\"f0c2ac65339a893c83185819c0cc81d9\")>>\n",
      "<bound method WebDriver.get of <selenium.webdriver.chrome.webdriver.WebDriver (session=\"8af884ef24790b3e93d4448ea2ac1103\")>>\n",
      "<bound method WebDriver.get of <selenium.webdriver.chrome.webdriver.WebDriver (session=\"c90ea588c0e534eee87cfb46b6fc4d56\")>>\n",
      "<bound method WebDriver.get of <selenium.webdriver.chrome.webdriver.WebDriver (session=\"476a7e7cebd3c9b82c205e3af074300a\")>>\n",
      "<bound method WebDriver.get of <selenium.webdriver.chrome.webdriver.WebDriver (session=\"7d68fd30b96c306bb1b006c8d400d5d0\")>>\n"
     ]
    },
    {
     "name": "stdout",
     "output_type": "stream",
     "text": [
      "<bound method WebDriver.get of <selenium.webdriver.chrome.webdriver.WebDriver (session=\"1d7467453c7830dac00f091e442122f9\")>>\n",
      "<bound method WebDriver.get of <selenium.webdriver.chrome.webdriver.WebDriver (session=\"eeecb0b300f3e2c04cd1827b0634b8e8\")>>\n",
      "<bound method WebDriver.get of <selenium.webdriver.chrome.webdriver.WebDriver (session=\"21d2755e0e59d74060922570aaaa7150\")>>\n",
      "<bound method WebDriver.get of <selenium.webdriver.chrome.webdriver.WebDriver (session=\"3befdb026dfe53ebdb5f0226dc93cb63\")>>\n",
      "<bound method WebDriver.get of <selenium.webdriver.chrome.webdriver.WebDriver (session=\"3b8154ea3a308581f7c94669536aa024\")>>\n",
      "<bound method WebDriver.get of <selenium.webdriver.chrome.webdriver.WebDriver (session=\"86e2fef6fadb279bee94816ec148c0f7\")>>\n",
      "<bound method WebDriver.get of <selenium.webdriver.chrome.webdriver.WebDriver (session=\"bc98781248ca3e1145a1fc11530052e6\")>>\n",
      "<bound method WebDriver.get of <selenium.webdriver.chrome.webdriver.WebDriver (session=\"9884aa71ad5905fb32cfc5759a2d7475\")>>\n",
      "<bound method WebDriver.get of <selenium.webdriver.chrome.webdriver.WebDriver (session=\"dc848416aa8a9d70711a35d5f75c1fcc\")>>\n",
      "<bound method WebDriver.get of <selenium.webdriver.chrome.webdriver.WebDriver (session=\"e510db498f298496c3dad5700eac0ded\")>>\n",
      "<bound method WebDriver.get of <selenium.webdriver.chrome.webdriver.WebDriver (session=\"39fe9cdc2e43029533add4651cd74f38\")>>\n",
      "<bound method WebDriver.get of <selenium.webdriver.chrome.webdriver.WebDriver (session=\"210822059992efd44fa7f39f358556c8\")>>\n",
      "<bound method WebDriver.get of <selenium.webdriver.chrome.webdriver.WebDriver (session=\"46a0a52c985ee87cfc8fca63fb51a541\")>>\n",
      "<bound method WebDriver.get of <selenium.webdriver.chrome.webdriver.WebDriver (session=\"ac0f3c71d4ec5ae529d60c9465fe31ad\")>>\n",
      "<bound method WebDriver.get of <selenium.webdriver.chrome.webdriver.WebDriver (session=\"5f9e629069ec8803860cb48e9879c9db\")>>\n",
      "<bound method WebDriver.get of <selenium.webdriver.chrome.webdriver.WebDriver (session=\"b98c6c28e622752df8ab27243b9bcc1b\")>>\n",
      "<bound method WebDriver.get of <selenium.webdriver.chrome.webdriver.WebDriver (session=\"084ded9befe6877e5a19f5dea7e77389\")>>\n",
      "<bound method WebDriver.get of <selenium.webdriver.chrome.webdriver.WebDriver (session=\"fb7347faaffcd2edfcb52147a774e08e\")>>\n",
      "<bound method WebDriver.get of <selenium.webdriver.chrome.webdriver.WebDriver (session=\"4dbd7506a9fdbc6ad31b6c1c32a8b321\")>>\n",
      "<bound method WebDriver.get of <selenium.webdriver.chrome.webdriver.WebDriver (session=\"fa3b17944a5967569cbc6c6e7446a279\")>>\n",
      "<bound method WebDriver.get of <selenium.webdriver.chrome.webdriver.WebDriver (session=\"d48d671493db20a83c3fd12d048d02ea\")>>\n",
      "<bound method WebDriver.get of <selenium.webdriver.chrome.webdriver.WebDriver (session=\"80973ed01d55bca8734ad42a612fbc78\")>>\n",
      "<bound method WebDriver.get of <selenium.webdriver.chrome.webdriver.WebDriver (session=\"050362bb3eb6787e4c242c5bbcbb0b2d\")>>\n",
      "<bound method WebDriver.get of <selenium.webdriver.chrome.webdriver.WebDriver (session=\"db6f7ec22e90f5a568ded2790302a64a\")>>\n",
      "<bound method WebDriver.get of <selenium.webdriver.chrome.webdriver.WebDriver (session=\"923b9d070ecdf2e2c18ec0b15b900b55\")>>\n",
      "<bound method WebDriver.get of <selenium.webdriver.chrome.webdriver.WebDriver (session=\"5ba4118cd71b5b25f4835b979784c4d7\")>>\n",
      "<bound method WebDriver.get of <selenium.webdriver.chrome.webdriver.WebDriver (session=\"f50604cfb2d5684d8eb84cd78dc9c3ea\")>>\n",
      "<bound method WebDriver.get of <selenium.webdriver.chrome.webdriver.WebDriver (session=\"4bc4a7c4428856dafbc1ef38203a0419\")>>\n",
      "<bound method WebDriver.get of <selenium.webdriver.chrome.webdriver.WebDriver (session=\"43bde22e28c76996c8b9f7b80eeb75b5\")>>\n",
      "<bound method WebDriver.get of <selenium.webdriver.chrome.webdriver.WebDriver (session=\"937efcea3d15c29c574d24bdc622f01b\")>>\n",
      "<bound method WebDriver.get of <selenium.webdriver.chrome.webdriver.WebDriver (session=\"8f53e36b634f2a00446b353aeae8c9ca\")>>\n",
      "<bound method WebDriver.get of <selenium.webdriver.chrome.webdriver.WebDriver (session=\"51ed40593f7a95447d971ef20709d381\")>>\n",
      "<bound method WebDriver.get of <selenium.webdriver.chrome.webdriver.WebDriver (session=\"3beec65b4d4922c3c54afa1fc245f989\")>>\n",
      "<bound method WebDriver.get of <selenium.webdriver.chrome.webdriver.WebDriver (session=\"97f7620a1445d644ab1f53abcb61b42b\")>>\n",
      "<bound method WebDriver.get of <selenium.webdriver.chrome.webdriver.WebDriver (session=\"9622da395175c6752ffce41196a0e7fd\")>>\n",
      "<bound method WebDriver.get of <selenium.webdriver.chrome.webdriver.WebDriver (session=\"b7839c74e1c28f73ac966b4b3cb0508c\")>>\n",
      "<bound method WebDriver.get of <selenium.webdriver.chrome.webdriver.WebDriver (session=\"dc635abcb6446894c78fefd4744e306b\")>>\n",
      "<bound method WebDriver.get of <selenium.webdriver.chrome.webdriver.WebDriver (session=\"ccbb03c9971665a4c62f41a4221fd42a\")>>\n",
      "<bound method WebDriver.get of <selenium.webdriver.chrome.webdriver.WebDriver (session=\"1ef699ef50fdf35b748806f6012ec677\")>>\n",
      "<bound method WebDriver.get of <selenium.webdriver.chrome.webdriver.WebDriver (session=\"544be06746eda3664011ef0456e199c8\")>>\n",
      "<bound method WebDriver.get of <selenium.webdriver.chrome.webdriver.WebDriver (session=\"901cc8c025baa213bcc5dacdaccdf3b5\")>>\n",
      "<bound method WebDriver.get of <selenium.webdriver.chrome.webdriver.WebDriver (session=\"1a58a9a56ea98d307f2360facaafee93\")>>\n",
      "<bound method WebDriver.get of <selenium.webdriver.chrome.webdriver.WebDriver (session=\"f10fca6ab6d3ecc0972c18db2c199fd3\")>>\n",
      "<bound method WebDriver.get of <selenium.webdriver.chrome.webdriver.WebDriver (session=\"056363c1539845420c794dd87d9aff40\")>>\n",
      "<bound method WebDriver.get of <selenium.webdriver.chrome.webdriver.WebDriver (session=\"7dfdc48a93b31ee7f3c4439111311457\")>>\n",
      "<bound method WebDriver.get of <selenium.webdriver.chrome.webdriver.WebDriver (session=\"163eca321a54d02be2769ad0cb50d757\")>>\n",
      "<bound method WebDriver.get of <selenium.webdriver.chrome.webdriver.WebDriver (session=\"e5ce70b5efd9b3e5a7c33c1c4a967bce\")>>\n",
      "<bound method WebDriver.get of <selenium.webdriver.chrome.webdriver.WebDriver (session=\"2b7d20b5f432b49baf3dd58ab2ec06bf\")>>\n",
      "<bound method WebDriver.get of <selenium.webdriver.chrome.webdriver.WebDriver (session=\"809a3cdd83882e81792b335dcb5a20b8\")>>\n",
      "<bound method WebDriver.get of <selenium.webdriver.chrome.webdriver.WebDriver (session=\"7391fd4b62d34507c8965fbc4cbf3df7\")>>\n",
      "<bound method WebDriver.get of <selenium.webdriver.chrome.webdriver.WebDriver (session=\"344536a0e48a94f6ac6e5ccf3501f36f\")>>\n",
      "<bound method WebDriver.get of <selenium.webdriver.chrome.webdriver.WebDriver (session=\"a2b604a3993dfab55901f652cc67c2b9\")>>\n",
      "<bound method WebDriver.get of <selenium.webdriver.chrome.webdriver.WebDriver (session=\"c67b69d186eea74c8ee74669b5a20cdc\")>>\n",
      "<bound method WebDriver.get of <selenium.webdriver.chrome.webdriver.WebDriver (session=\"51ab74da3cf711778c2af77deb6f1628\")>>\n",
      "<bound method WebDriver.get of <selenium.webdriver.chrome.webdriver.WebDriver (session=\"2de6a98695534c6d5d860ec246c96bdb\")>>\n",
      "<bound method WebDriver.get of <selenium.webdriver.chrome.webdriver.WebDriver (session=\"5144060f90e9747bbfdea6c6e580dcfa\")>>\n",
      "<bound method WebDriver.get of <selenium.webdriver.chrome.webdriver.WebDriver (session=\"faccc6a6c65352e3c7eab6dbd87a48da\")>>\n",
      "<bound method WebDriver.get of <selenium.webdriver.chrome.webdriver.WebDriver (session=\"78fd2379bb685c5df4c2e7bce97deef6\")>>\n",
      "<bound method WebDriver.get of <selenium.webdriver.chrome.webdriver.WebDriver (session=\"604d1a81b9b96086df5f8a4b031355fc\")>>\n",
      "<bound method WebDriver.get of <selenium.webdriver.chrome.webdriver.WebDriver (session=\"ecbe05275057bd43d59fe08e82024629\")>>\n",
      "<bound method WebDriver.get of <selenium.webdriver.chrome.webdriver.WebDriver (session=\"107ea5b13e3a122399bf1cca392b63e4\")>>\n",
      "<bound method WebDriver.get of <selenium.webdriver.chrome.webdriver.WebDriver (session=\"4788844a4024c54b73c6125e117c2fcd\")>>\n",
      "<bound method WebDriver.get of <selenium.webdriver.chrome.webdriver.WebDriver (session=\"2143a29523daa26a6a690a8130cbfe5b\")>>\n",
      "<bound method WebDriver.get of <selenium.webdriver.chrome.webdriver.WebDriver (session=\"fab3a09ca7bd62cc73590428b2785e9d\")>>\n",
      "<bound method WebDriver.get of <selenium.webdriver.chrome.webdriver.WebDriver (session=\"a74fcaed54466270159d866a0dca6fc6\")>>\n",
      "<bound method WebDriver.get of <selenium.webdriver.chrome.webdriver.WebDriver (session=\"f1dc8c7412aec68f4f169b85dbe0f4c8\")>>\n"
     ]
    },
    {
     "name": "stdout",
     "output_type": "stream",
     "text": [
      "<bound method WebDriver.get of <selenium.webdriver.chrome.webdriver.WebDriver (session=\"22554eff804473a2dcada05f0dc0d3ea\")>>\n",
      "<bound method WebDriver.get of <selenium.webdriver.chrome.webdriver.WebDriver (session=\"8fde3450bae19c9a0549fab3984626ab\")>>\n",
      "<bound method WebDriver.get of <selenium.webdriver.chrome.webdriver.WebDriver (session=\"040e0e17cbd08194e8d10a8e1364258a\")>>\n",
      "<bound method WebDriver.get of <selenium.webdriver.chrome.webdriver.WebDriver (session=\"24214c84644c0422cbe35c3a0b8c85cc\")>>\n",
      "<bound method WebDriver.get of <selenium.webdriver.chrome.webdriver.WebDriver (session=\"2f01c9ca974fed387b01e1d430ac472b\")>>\n",
      "<bound method WebDriver.get of <selenium.webdriver.chrome.webdriver.WebDriver (session=\"4bd867f09a870ca260279c523042319e\")>>\n",
      "<bound method WebDriver.get of <selenium.webdriver.chrome.webdriver.WebDriver (session=\"a234f48eea4e935709a1456f0ff0e7df\")>>\n",
      "<bound method WebDriver.get of <selenium.webdriver.chrome.webdriver.WebDriver (session=\"fe752f836d2f071f4a0164a6248b7b04\")>>\n",
      "<bound method WebDriver.get of <selenium.webdriver.chrome.webdriver.WebDriver (session=\"5ea85b5b8e17c47080f9a12f01d6436e\")>>\n",
      "<bound method WebDriver.get of <selenium.webdriver.chrome.webdriver.WebDriver (session=\"c9537effc0d73c23d1d642e4e74c9b2c\")>>\n",
      "<bound method WebDriver.get of <selenium.webdriver.chrome.webdriver.WebDriver (session=\"4022d3acd84ff08341ad03bb6320d643\")>>\n",
      "<bound method WebDriver.get of <selenium.webdriver.chrome.webdriver.WebDriver (session=\"5ddb3ebaadba62b49abef0e3a1f189cf\")>>\n",
      "<bound method WebDriver.get of <selenium.webdriver.chrome.webdriver.WebDriver (session=\"65390bbf1d43fc0f59b327d9e64d7e3e\")>>\n",
      "<bound method WebDriver.get of <selenium.webdriver.chrome.webdriver.WebDriver (session=\"df90f62c9e6bff6ca712f44616670b56\")>>\n",
      "<bound method WebDriver.get of <selenium.webdriver.chrome.webdriver.WebDriver (session=\"150019e1947c01d65897fb56c1f248f2\")>>\n",
      "<bound method WebDriver.get of <selenium.webdriver.chrome.webdriver.WebDriver (session=\"931dd0806b22990d533269c313350fb5\")>>\n",
      "<bound method WebDriver.get of <selenium.webdriver.chrome.webdriver.WebDriver (session=\"26553e91162214b3a1b0e9afa09998d2\")>>\n",
      "<bound method WebDriver.get of <selenium.webdriver.chrome.webdriver.WebDriver (session=\"85e00afc6c9ad1a70f8f1b20487b0f62\")>>\n",
      "<bound method WebDriver.get of <selenium.webdriver.chrome.webdriver.WebDriver (session=\"404a72dcde57ae8a06993592b53c5d3a\")>>\n",
      "<bound method WebDriver.get of <selenium.webdriver.chrome.webdriver.WebDriver (session=\"6c65ca85abeb5d50e07b93a10b21350e\")>>\n",
      "<bound method WebDriver.get of <selenium.webdriver.chrome.webdriver.WebDriver (session=\"b543436a8fe063819a9a1b8dbbc0217d\")>>\n",
      "<bound method WebDriver.get of <selenium.webdriver.chrome.webdriver.WebDriver (session=\"d613369633a1978d37d42e71c09f1cc4\")>>\n",
      "<bound method WebDriver.get of <selenium.webdriver.chrome.webdriver.WebDriver (session=\"59f55c28a7a10188fe0bf3fa9b869a1c\")>>\n",
      "<bound method WebDriver.get of <selenium.webdriver.chrome.webdriver.WebDriver (session=\"e78914e45fd2b8ac7db5f7b396aae1cf\")>>\n",
      "<bound method WebDriver.get of <selenium.webdriver.chrome.webdriver.WebDriver (session=\"8e4817a19d009d4bcc207dc5f96fc3ae\")>>\n",
      "<bound method WebDriver.get of <selenium.webdriver.chrome.webdriver.WebDriver (session=\"4f7a6d26a1f733317bf230ee63491a83\")>>\n",
      "<bound method WebDriver.get of <selenium.webdriver.chrome.webdriver.WebDriver (session=\"057f3edce23222e927a591bc35523e81\")>>\n",
      "<bound method WebDriver.get of <selenium.webdriver.chrome.webdriver.WebDriver (session=\"d47550b1ed477d03552b7ad960597d3c\")>>\n",
      "<bound method WebDriver.get of <selenium.webdriver.chrome.webdriver.WebDriver (session=\"b43808f718d7640f997c25466f7c4a55\")>>\n",
      "<bound method WebDriver.get of <selenium.webdriver.chrome.webdriver.WebDriver (session=\"b444e3f0ca47db3c034f65f5fc2e9cf9\")>>\n",
      "<bound method WebDriver.get of <selenium.webdriver.chrome.webdriver.WebDriver (session=\"384cd82871cd168e0a6968b8988477a7\")>>\n",
      "<bound method WebDriver.get of <selenium.webdriver.chrome.webdriver.WebDriver (session=\"dd43e836ad5e6bf3bf492d29121441a0\")>>\n",
      "<bound method WebDriver.get of <selenium.webdriver.chrome.webdriver.WebDriver (session=\"10f73b5c1ce86310b01a131f5fbbcf9e\")>>\n",
      "<bound method WebDriver.get of <selenium.webdriver.chrome.webdriver.WebDriver (session=\"17f82462ea702013f6c281b4f203d6c3\")>>\n",
      "<bound method WebDriver.get of <selenium.webdriver.chrome.webdriver.WebDriver (session=\"36d0d0516929b2c5d554431bc38e4fc8\")>>\n",
      "<bound method WebDriver.get of <selenium.webdriver.chrome.webdriver.WebDriver (session=\"88c6016bbb852f7c1364e6d2af2bdc94\")>>\n",
      "<bound method WebDriver.get of <selenium.webdriver.chrome.webdriver.WebDriver (session=\"518ccef8b4cc9d2a5b192e4a3d2114e1\")>>\n",
      "<bound method WebDriver.get of <selenium.webdriver.chrome.webdriver.WebDriver (session=\"cce52859b6cc9971fa855e367de7ac31\")>>\n",
      "<bound method WebDriver.get of <selenium.webdriver.chrome.webdriver.WebDriver (session=\"7148fb9837d56027345f6043eb5f426b\")>>\n",
      "<bound method WebDriver.get of <selenium.webdriver.chrome.webdriver.WebDriver (session=\"df5b5fd693df3e07a5a025e9a0637499\")>>\n",
      "<bound method WebDriver.get of <selenium.webdriver.chrome.webdriver.WebDriver (session=\"a9e2d9dbc0e9ec50a0e424961aff6841\")>>\n",
      "<bound method WebDriver.get of <selenium.webdriver.chrome.webdriver.WebDriver (session=\"e620c24889132749c8626f263c4432b1\")>>\n",
      "<bound method WebDriver.get of <selenium.webdriver.chrome.webdriver.WebDriver (session=\"2f6b8c6c4103e99304fb4fb60242d207\")>>\n",
      "<bound method WebDriver.get of <selenium.webdriver.chrome.webdriver.WebDriver (session=\"816e591de01d4f09c9302a35cc09218a\")>>\n",
      "<bound method WebDriver.get of <selenium.webdriver.chrome.webdriver.WebDriver (session=\"9d5ea9ec01dfc287c5e1ef6572bc04bc\")>>\n",
      "<bound method WebDriver.get of <selenium.webdriver.chrome.webdriver.WebDriver (session=\"136a45d9b1d39033b2221b6c22e0d9e0\")>>\n",
      "<bound method WebDriver.get of <selenium.webdriver.chrome.webdriver.WebDriver (session=\"b78d12edc5ebe8784f3dabdbd226520e\")>>\n",
      "<bound method WebDriver.get of <selenium.webdriver.chrome.webdriver.WebDriver (session=\"16029e65af30f3f94edea9e06e044b27\")>>\n",
      "<bound method WebDriver.get of <selenium.webdriver.chrome.webdriver.WebDriver (session=\"9d0139e270fd714477c3e54045c88d57\")>>\n",
      "<bound method WebDriver.get of <selenium.webdriver.chrome.webdriver.WebDriver (session=\"d86fd65f7a7d25eb36c07f212bb9ef3a\")>>\n",
      "<bound method WebDriver.get of <selenium.webdriver.chrome.webdriver.WebDriver (session=\"48f7bd987891dc74b04af624602c3f9a\")>>\n",
      "<bound method WebDriver.get of <selenium.webdriver.chrome.webdriver.WebDriver (session=\"07b2baefb42c0ed158ba8931bc49849d\")>>\n",
      "<bound method WebDriver.get of <selenium.webdriver.chrome.webdriver.WebDriver (session=\"a3ab561b0e64a26ac326642702450637\")>>\n",
      "<bound method WebDriver.get of <selenium.webdriver.chrome.webdriver.WebDriver (session=\"c2b81e1baa74fb783918ded5859dd325\")>>\n",
      "<bound method WebDriver.get of <selenium.webdriver.chrome.webdriver.WebDriver (session=\"442fce3472c908cecdae4316aba06936\")>>\n",
      "<bound method WebDriver.get of <selenium.webdriver.chrome.webdriver.WebDriver (session=\"6ba4fa01861b6e6f817e4fe1f990ccb7\")>>\n",
      "<bound method WebDriver.get of <selenium.webdriver.chrome.webdriver.WebDriver (session=\"f6d4a4774463d995a43ae2f0b26ca864\")>>\n",
      "<bound method WebDriver.get of <selenium.webdriver.chrome.webdriver.WebDriver (session=\"09b7b8c458e5c39d22f6efa7af68120c\")>>\n",
      "<bound method WebDriver.get of <selenium.webdriver.chrome.webdriver.WebDriver (session=\"0c817d27475ee68a0595edb7c659e3ec\")>>\n",
      "<bound method WebDriver.get of <selenium.webdriver.chrome.webdriver.WebDriver (session=\"3ea128a00b5acd987d70e5b2a5b98ed7\")>>\n",
      "<bound method WebDriver.get of <selenium.webdriver.chrome.webdriver.WebDriver (session=\"f61f13ca00ca1e6fcbc3ccb28d51d876\")>>\n",
      "<bound method WebDriver.get of <selenium.webdriver.chrome.webdriver.WebDriver (session=\"2b81dd73108aef96a9253dd4849aad69\")>>\n",
      "<bound method WebDriver.get of <selenium.webdriver.chrome.webdriver.WebDriver (session=\"bef9bb955c3d7ec6bceab6c7af71c946\")>>\n",
      "<bound method WebDriver.get of <selenium.webdriver.chrome.webdriver.WebDriver (session=\"702b1585f3f2263c0f972b9d27dd0c98\")>>\n",
      "<bound method WebDriver.get of <selenium.webdriver.chrome.webdriver.WebDriver (session=\"9a43ef403b06255884697de4c10b1153\")>>\n",
      "<bound method WebDriver.get of <selenium.webdriver.chrome.webdriver.WebDriver (session=\"3e0333ff329b83a68cc6adc683d026f3\")>>\n"
     ]
    },
    {
     "name": "stdout",
     "output_type": "stream",
     "text": [
      "<bound method WebDriver.get of <selenium.webdriver.chrome.webdriver.WebDriver (session=\"ed4cfd60a0a882c20026853c526ba5b5\")>>\n",
      "<bound method WebDriver.get of <selenium.webdriver.chrome.webdriver.WebDriver (session=\"c44be9e4d081e7d8165041deee8bf84e\")>>\n",
      "<bound method WebDriver.get of <selenium.webdriver.chrome.webdriver.WebDriver (session=\"b75f52e0fd2d9cb059f7317a119a9c58\")>>\n",
      "<bound method WebDriver.get of <selenium.webdriver.chrome.webdriver.WebDriver (session=\"86526aa935800c952fe04954cfd540b3\")>>\n"
     ]
    }
   ],
   "source": [
    "dict={}\n",
    "number = 1300  #크롤링하고자하는 블로그 글의 갯수\n",
    "for i in tqdm(range(570, number)): \n",
    "    # 글 띄우기\n",
    "    url = url_load['url'][i]\n",
    "    #print(url.split(\"logNo=\")[1])\n",
    "    driver = webdriver.Chrome(r\"D:\\Python\\TM\\drivers\\chromedriver.exe\")\n",
    "    driver.get(url)   # 글 띄우기\n",
    "    print(driver.get)\n",
    "     # 크롤링\n",
    "    time.sleep(1)\n",
    "    \n",
    "    try : \n",
    "        driver. switch_to.frame('mainFrame')\n",
    "\n",
    "        target_info = {}\n",
    "        # 제목 크롤링 시작\n",
    "        #tit = driver.find_element_by_css_selector(overlays)         # title\n",
    "        tit=driver.find_element(By.XPATH,'//meta[@property=\"og:title\"]')\n",
    "        #title = tit.text .get_attribute(\"\")\n",
    "        title = driver.find_element(By.XPATH,'//meta[@property=\"og:title\"]').get_attribute(\"content\")\n",
    "        # 에러나면 현재 크롬창 닫고 다음 글(i+1)로 이동\n",
    "\n",
    "        # 글쓴이 크롤링 시작                                 \n",
    "        #nick = driver.find_element_by_css_selector(overlays)         # nick\n",
    "        nick=driver.find_element(By.XPATH,'//meta[@property=\"naverblog:nickname\"]')\n",
    "        #nickname = nick.text\n",
    "        nickname = driver.find_element(By.XPATH,'//meta[@property=\"naverblog:nickname\"]').get_attribute(\"content\")\n",
    "\n",
    "        # 날짜 크롤링\n",
    "        datetime =url_load['date'][i]                              \n",
    "\n",
    "        # 내용 크롤링\n",
    "        # 네이버 블로그 포스팅 버전 1. #postViewArea\n",
    "        # 네이버 블로그 포스팅 버전 2. #post-view222566374177 > div > div > div.se-main-container \n",
    "        soups = BeautifulSoup(driver.page_source, \"lxml\") \n",
    "\n",
    "        if soups.find(\"div\", attrs={\"class\":\"se-main-container\"}):\n",
    "            contents = soups.find(\"div\", attrs={\"class\":\"se-main-container\"}).get_text()\n",
    "            contents = contents.replace(\"\\n\",\"\") #공백 제거\n",
    "\n",
    "        elif soups.find(\"div\", attrs={\"id\":\"postViewArea\"}):\n",
    "            contents = soups.find(\"div\", attrs={\"id\":\"postViewArea\"}).get_text()\n",
    "            contents = contents.replace(\"\\n\",\"\") \n",
    "        else:\n",
    "            contents =  \"네이버 블로그는 맞지만, 확인불가\"\n",
    "            \n",
    "    # 에러나면 현재 크롬창 닫고 다음 글(i+1)로 이동\n",
    "    except:\n",
    "        driver.close()\n",
    "        time.sleep(1)\n",
    "        continue\n",
    "    \n",
    "    # 중간,중간에 파일로 저장하기\n",
    "    if i% 30 == 0  or i% 50 == 0 or i%80 == 0:\n",
    "        # 판다스로 만들기\n",
    "        import pandas as pd\n",
    "        result_df = pd.DataFrame.from_dict(dict, 'index')\n",
    "\n",
    "        # 저장하기\n",
    "        result_df.to_excel(r\"D:\\Python\\TM\\TeamProject/tiving_6month_2.xlsx\")\n",
    "        time.sleep(3)\n",
    "    \n",
    "    \n",
    "    # 글 하나는 target_info라는 딕셔너리에 담기게 되고,\n",
    "    target_info['title'] = title\n",
    "    target_info['nickname'] = nickname\n",
    "    target_info['datetime'] = datetime\n",
    "    target_info['content'] = contents    \n",
    "\n",
    "    # 각각의 글은 dict라는 딕셔너리에 담기게 됩니다.\n",
    "    dict[i] = target_info\n",
    "    time.sleep(1)\n",
    "        \n",
    "driver.close()        \n",
    "result_df = pd.DataFrame.from_dict(dict, 'index')\n",
    "\n",
    "\n",
    "\n",
    "# 저장하기\n",
    "result_df.to_excel(r\"D:\\Python\\TM\\TeamProject/tiving_6month_2.xlsx\")\n"
   ]
  },
  {
   "cell_type": "code",
   "execution_count": 7,
   "metadata": {},
   "outputs": [],
   "source": [
    "from glob import glob\n",
    "def grabFileName(filename) :\n",
    "    \n",
    "    filetext = r\"D:\\Python\\TM\\TeamProject/\" + filename +\"*.xlsx\"\n",
    "    file_names = glob(filetext) #폴더 내의 모든 csv파일 목록을 불러온다\n",
    "    total = pd.DataFrame() #빈 데이터프레임 하나를 생성한다\n",
    "\n",
    "    for file_name in file_names:\n",
    "        temp = pd.read_excel(file_name) \n",
    "        total = pd.concat([total, temp]) #전체 데이터프레임에 추가하여 넣는다\n",
    "\n",
    "    total.to_excel(r\"D:\\Python\\TM\\TeamProject/\" + filename+ \"_all.xlsx\")"
   ]
  },
  {
   "cell_type": "code",
   "execution_count": 8,
   "metadata": {
    "colab": {
     "referenced_widgets": [
      "58838cef24194b70b6611da86a92c8e7"
     ]
    },
    "id": "xEMlzIBexPeA",
    "outputId": "26cd8ca1-58c4-47e2-939d-358024cabc8c"
   },
   "outputs": [],
   "source": [
    "grabFileName(\"tiving_6month_\")"
   ]
  }
 ],
 "metadata": {
  "colab": {
   "collapsed_sections": [],
   "include_colab_link": true,
   "name": "Code1_네이버블로그_크롤링.ipynb",
   "provenance": [],
   "toc_visible": true
  },
  "kernelspec": {
   "display_name": "Python 3",
   "language": "python",
   "name": "python3"
  },
  "language_info": {
   "codemirror_mode": {
    "name": "ipython",
    "version": 3
   },
   "file_extension": ".py",
   "mimetype": "text/x-python",
   "name": "python",
   "nbconvert_exporter": "python",
   "pygments_lexer": "ipython3",
   "version": "3.8.8"
  }
 },
 "nbformat": 4,
 "nbformat_minor": 1
}
