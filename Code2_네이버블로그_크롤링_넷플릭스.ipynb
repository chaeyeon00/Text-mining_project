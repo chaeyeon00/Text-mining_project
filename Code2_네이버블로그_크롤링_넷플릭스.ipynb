{
 "cells": [
  {
   "cell_type": "markdown",
   "metadata": {},
   "source": [
    "### 대표프로그램에 대한 네이버 블로그 크롤링"
   ]
  },
  {
   "cell_type": "code",
   "execution_count": 2,
   "metadata": {
    "id": "Z8qgriQVxPcy"
   },
   "outputs": [],
   "source": [
    "#Step 0. 필요한 모듈과 라이브러리를 로딩합니다.\n",
    "import sys\n",
    "import os\n",
    "import pandas as pd\n",
    "import numpy as np\n",
    "import openpyxl\n",
    "from datetime import datetime, timedelta\n",
    "\n",
    "\n",
    "from bs4 import BeautifulSoup\n",
    "from selenium import webdriver\n",
    "from selenium.webdriver.common.by import By\n",
    "import time\n",
    "import tqdm\n",
    "from tqdm.notebook import tqdm"
   ]
  },
  {
   "cell_type": "markdown",
   "metadata": {
    "id": "K5rYusXFxPc3"
   },
   "source": [
    "1. 네이버에서 검색어 입력받아 검색 한 후 블로그 메뉴를 선택\n",
    "2. 오른쪽에 있는 검색옵션 버튼 누르기\n",
    "3. 정렬 방식과 기간을 입력하기\n",
    "4. 기간 : 넷플릭스, 왓챠, 웨이브 = 2019-01-01 ~ 2020-09-24 / 씨즌,티빙 = 플랫폼 오픈일 ~ 2020-09-24"
   ]
  },
  {
   "cell_type": "code",
   "execution_count": 7,
   "metadata": {},
   "outputs": [],
   "source": [
    "query_txt='넷플릭스 '"
   ]
  },
  {
   "cell_type": "markdown",
   "metadata": {},
   "source": [
    "## 대표프로그램 에 대한 사용자 컨텐츠 가져오기"
   ]
  },
  {
   "cell_type": "code",
   "execution_count": 8,
   "metadata": {},
   "outputs": [
    {
     "data": {
      "text/html": [
       "<div>\n",
       "<style scoped>\n",
       "    .dataframe tbody tr th:only-of-type {\n",
       "        vertical-align: middle;\n",
       "    }\n",
       "\n",
       "    .dataframe tbody tr th {\n",
       "        vertical-align: top;\n",
       "    }\n",
       "\n",
       "    .dataframe thead th {\n",
       "        text-align: right;\n",
       "    }\n",
       "</style>\n",
       "<table border=\"1\" class=\"dataframe\">\n",
       "  <thead>\n",
       "    <tr style=\"text-align: right;\">\n",
       "      <th></th>\n",
       "      <th>Unnamed: 0</th>\n",
       "      <th>TITLE</th>\n",
       "      <th>LINK</th>\n",
       "      <th>GENRES</th>\n",
       "    </tr>\n",
       "  </thead>\n",
       "  <tbody>\n",
       "    <tr>\n",
       "      <th>0</th>\n",
       "      <td>0</td>\n",
       "      <td>지옥</td>\n",
       "      <td>https://www.netflix.com/kr/title/81256675</td>\n",
       "      <td>TV 프로그램·미스터리,TV 프로그램·범죄,한국 드라마,TV 프로그램·스릴러,TV ...</td>\n",
       "    </tr>\n",
       "    <tr>\n",
       "      <th>1</th>\n",
       "      <td>1</td>\n",
       "      <td>오징어 게임</td>\n",
       "      <td>https://www.netflix.com/kr/title/81040344</td>\n",
       "      <td>한국 드라마,TV 프로그램·스릴러,TV 드라마,</td>\n",
       "    </tr>\n",
       "    <tr>\n",
       "      <th>2</th>\n",
       "      <td>2</td>\n",
       "      <td>아케인</td>\n",
       "      <td>https://www.netflix.com/kr/title/81435684</td>\n",
       "      <td>TV 프로그램·판타지,미국 TV 프로그램,TV 프로그램·액션 &amp; 어드벤처,</td>\n",
       "    </tr>\n",
       "    <tr>\n",
       "      <th>3</th>\n",
       "      <td>3</td>\n",
       "      <td>D.P.</td>\n",
       "      <td>https://www.netflix.com/kr/title/81280917</td>\n",
       "      <td>한국 드라마,TV 드라마,</td>\n",
       "    </tr>\n",
       "    <tr>\n",
       "      <th>4</th>\n",
       "      <td>4</td>\n",
       "      <td>마이 네임</td>\n",
       "      <td>https://www.netflix.com/kr/title/81011211</td>\n",
       "      <td>TV 프로그램·범죄,한국 드라마,TV 프로그램·스릴러,TV 프로그램·액션 &amp; 어드벤처,</td>\n",
       "    </tr>\n",
       "    <tr>\n",
       "      <th>...</th>\n",
       "      <td>...</td>\n",
       "      <td>...</td>\n",
       "      <td>...</td>\n",
       "      <td>...</td>\n",
       "    </tr>\n",
       "    <tr>\n",
       "      <th>95</th>\n",
       "      <td>95</td>\n",
       "      <td>알렉사 &amp; 케이티</td>\n",
       "      <td>https://www.netflix.com/kr/title/80174285</td>\n",
       "      <td>TV 프로그램·키즈,시트콤,TV 프로그램·코미디,</td>\n",
       "    </tr>\n",
       "    <tr>\n",
       "      <th>96</th>\n",
       "      <td>96</td>\n",
       "      <td>스폰지밥 무비: 핑핑이 구출 대작전</td>\n",
       "      <td>https://www.netflix.com/kr/title/81312563</td>\n",
       "      <td>가족 영화,미국 영화,코미디,영화·어린이 &amp; 가족,</td>\n",
       "    </tr>\n",
       "    <tr>\n",
       "      <th>97</th>\n",
       "      <td>97</td>\n",
       "      <td>힐다</td>\n",
       "      <td>https://www.netflix.com/kr/title/80115346</td>\n",
       "      <td>TV 프로그램·키즈,TV 만화,</td>\n",
       "    </tr>\n",
       "    <tr>\n",
       "      <th>98</th>\n",
       "      <td>98</td>\n",
       "      <td>오싹한 이야기</td>\n",
       "      <td>https://www.netflix.com/kr/title/80214792</td>\n",
       "      <td>TV 프로그램·키즈,</td>\n",
       "    </tr>\n",
       "    <tr>\n",
       "      <th>99</th>\n",
       "      <td>99</td>\n",
       "      <td>멸종은 싫어!</td>\n",
       "      <td>https://www.netflix.com/kr/title/81159137</td>\n",
       "      <td>가족 영화,미국 영화,코미디,영화·어린이 &amp; 가족,</td>\n",
       "    </tr>\n",
       "  </tbody>\n",
       "</table>\n",
       "<p>100 rows × 4 columns</p>\n",
       "</div>"
      ],
      "text/plain": [
       "    Unnamed: 0                TITLE  \\\n",
       "0            0                   지옥   \n",
       "1            1               오징어 게임   \n",
       "2            2                  아케인   \n",
       "3            3                 D.P.   \n",
       "4            4                마이 네임   \n",
       "..         ...                  ...   \n",
       "95          95            알렉사 & 케이티   \n",
       "96          96  스폰지밥 무비: 핑핑이 구출 대작전   \n",
       "97          97                   힐다   \n",
       "98          98              오싹한 이야기   \n",
       "99          99              멸종은 싫어!   \n",
       "\n",
       "                                         LINK  \\\n",
       "0   https://www.netflix.com/kr/title/81256675   \n",
       "1   https://www.netflix.com/kr/title/81040344   \n",
       "2   https://www.netflix.com/kr/title/81435684   \n",
       "3   https://www.netflix.com/kr/title/81280917   \n",
       "4   https://www.netflix.com/kr/title/81011211   \n",
       "..                                        ...   \n",
       "95  https://www.netflix.com/kr/title/80174285   \n",
       "96  https://www.netflix.com/kr/title/81312563   \n",
       "97  https://www.netflix.com/kr/title/80115346   \n",
       "98  https://www.netflix.com/kr/title/80214792   \n",
       "99  https://www.netflix.com/kr/title/81159137   \n",
       "\n",
       "                                               GENRES  \n",
       "0   TV 프로그램·미스터리,TV 프로그램·범죄,한국 드라마,TV 프로그램·스릴러,TV ...  \n",
       "1                          한국 드라마,TV 프로그램·스릴러,TV 드라마,  \n",
       "2           TV 프로그램·판타지,미국 TV 프로그램,TV 프로그램·액션 & 어드벤처,  \n",
       "3                                      한국 드라마,TV 드라마,  \n",
       "4    TV 프로그램·범죄,한국 드라마,TV 프로그램·스릴러,TV 프로그램·액션 & 어드벤처,  \n",
       "..                                                ...  \n",
       "95                        TV 프로그램·키즈,시트콤,TV 프로그램·코미디,  \n",
       "96                       가족 영화,미국 영화,코미디,영화·어린이 & 가족,  \n",
       "97                                  TV 프로그램·키즈,TV 만화,  \n",
       "98                                        TV 프로그램·키즈,  \n",
       "99                       가족 영화,미국 영화,코미디,영화·어린이 & 가족,  \n",
       "\n",
       "[100 rows x 4 columns]"
      ]
     },
     "execution_count": 8,
     "metadata": {},
     "output_type": "execute_result"
    }
   ],
   "source": [
    "neflix_df=pd.read_excel(r\"D:\\Python\\TM\\TeamProject/netflix_contents.xlsx\")\n",
    "neflix_df"
   ]
  },
  {
   "cell_type": "code",
   "execution_count": 9,
   "metadata": {},
   "outputs": [
    {
     "name": "stdout",
     "output_type": "stream",
     "text": [
      "['넷플릭스  지옥', '넷플릭스  오징어 게임', '넷플릭스  아케인', '넷플릭스  D.P.', '넷플릭스  마이 네임', '넷플릭스  킹덤', '넷플릭스  브리저튼', '넷플릭스  스위트홈', '넷플릭스  무브 투 헤븐: 나는 유품정리사입니다', '넷플릭스  인간수업', '넷플릭스  섹스/라이프', '넷플릭스  에밀리, 파리에 가다', '넷플릭스  종말의 발키리', '넷플릭스  한마 바키', '넷플릭스  퀸스 갬빗', '넷플릭스  신세계로부터', '넷플릭스  뤼팽', '넷플릭스  카우보이 비밥', '넷플릭스  비하인드 허 아이즈', '넷플릭스  조용한 희망', '넷플릭스  지니 & 조지아', '넷플릭스  바바리안', '넷플릭스  마이클 조던: 더 라스트 댄스', '넷플릭스  러브, 데스 + 로봇', '넷플릭스  스위트 투스: 사슴뿔을 가진 소년', '넷플릭스  10대 사건으로 보는 제2차 세계대전', '넷플릭스  빌어먹을 세상 따위', '넷플릭스  에덴즈 제로', '넷플릭스  보디가드', '넷플릭스  메시아', '넷플릭스  더 크루: 갱랜드', '넷플릭스  어둠 속으로', '넷플릭스  심야식당: 도쿄 스토리', '넷플릭스  백스피릿', '넷플릭스  네버 해브 아이 에버', '넷플릭스  섀도우 앤 본', '넷플릭스  라그나로크', '넷플릭스  보건교사 안은영', '넷플릭스  죽어도 선덜랜드', '넷플릭스  애니멀', '넷플릭스  아리스 인 보더랜드', '넷플릭스  은밀한 회사원', '넷플릭스  오스만 제국의 꿈', '넷플릭스  미스트', '넷플릭스  슈퍼크룩스', '넷플릭스  맨헌트', '넷플릭스  영 로열스', '넷플릭스  트루 스토리', '넷플릭스  페이트: 윙스의 전설', '넷플릭스  알라와비 여고', '넷플릭스  내일 지구가 망해버렸으면 좋겠어', '넷플릭스  투 핫! 라틴아메리카', '넷플릭스  위험한 불장난', '넷플릭스  스쿨 오브 초콜릿', '넷플릭스  트로이: 왕국의 몰락', '넷플릭스  I-랜드', '넷플릭스  투 핫! 브라질', '넷플릭스  클릭베이트', '넷플릭스  자객 오육칠', '넷플릭스  풍미 원산지', '넷플릭스  연희공략: 금지옥엽', '넷플릭스  워리어 넌: 신의 뜻대로', '넷플릭스  넥스트 인 패션', '넷플릭스  힐 하우스의 유령', '넷플릭스  사랑의 진실게임', '넷플릭스  스트레인저', '넷플릭스  오행자객', '넷플릭스  타이거 킹', '넷플릭스  터닝 포인트: 9/11 그리고 테러와의 전쟁', '넷플릭스  래치드', '넷플릭스  주피터스 레거시', '넷플릭스  사무라이의 시대', '넷플릭스  국가 기밀 UFO 프로젝트: 극비 공개', '넷플릭스  풀리지 않은 미스터리', '넷플릭스  저주받은 소녀', '넷플릭스  빨간 머리 앤', '넷플릭스  로스트 인 스페이스', '넷플릭스  보스 베이비: 돌아온 보스', '넷플릭스  꼴찌 마녀 밀드레드', '넷플릭스  쥬라기 월드: 백악기 어드벤처', '넷플릭스  크리스마스로 불리는 소년', '넷플릭스  손오공: 새로운 전설', '넷플릭스  오늘부터 히어로', '넷플릭스  마야와 3인의 용사', '넷플릭스  어두운 그림 왕국의 무서운 그림 동화 이야기', '넷플릭스  크리스마스 연대기', '넷플릭스  베스트 탐정단', '넷플릭스  트롤헌터: 아카디아의 전설', '넷플릭스  크리스마스 연대기: 두 번째 이야기', '넷플릭스  베이비시터 클럽', '넷플릭스  블랙 프린스', '넷플릭스  우리의 지구', '넷플릭스  퍼피 아카데미', '넷플릭스  크리스마스 스위치', '넷플릭스  카르멘 산디에고', '넷플릭스  알렉사 & 케이티', '넷플릭스  스폰지밥 무비: 핑핑이 구출 대작전', '넷플릭스  힐다', '넷플릭스  오싹한 이야기', '넷플릭스  멸종은 싫어!']\n"
     ]
    }
   ],
   "source": [
    "query_list= neflix_df[\"TITLE\"].tolist()\n",
    "query_list = [query_txt + \" \" + i for i in query_list]\n",
    "print(query_list)"
   ]
  },
  {
   "cell_type": "markdown",
   "metadata": {},
   "source": [
    "### step 1. 대표프로그램 중 50개의 프로그램에 대해서 블로그 검색 URL  가져오기"
   ]
  },
  {
   "cell_type": "code",
   "execution_count": 10,
   "metadata": {},
   "outputs": [
    {
     "name": "stderr",
     "output_type": "stream",
     "text": [
      "<ipython-input-10-1f17cd855318>:7: DeprecationWarning: executable_path has been deprecated, please pass in a Service object\n",
      "  driver = webdriver.Chrome(r\"D:\\Python\\TM\\drivers\\chromedriver.exe\")\n",
      "<ipython-input-10-1f17cd855318>:15: DeprecationWarning: find_element_by_* commands are deprecated. Please use find_element() instead\n",
      "  element = driver.find_element_by_id(\"query\")\n",
      "<ipython-input-10-1f17cd855318>:21: DeprecationWarning: find_element_by_* commands are deprecated. Please use find_element() instead\n",
      "  driver.find_element_by_link_text(\"VIEW\").click( )\n",
      "<ipython-input-10-1f17cd855318>:24: DeprecationWarning: find_element_by_* commands are deprecated. Please use find_element() instead\n",
      "  driver.find_element_by_link_text(\"블로그\").click( )    # .click() 괄호 안을 눌러라는 뜻\n",
      "<ipython-input-10-1f17cd855318>:29: DeprecationWarning: find_element_by_* commands are deprecated. Please use find_element() instead\n",
      "  driver.find_element_by_xpath('//*[@id=\"snb\"]/div[1]/div/div[2]/a').click( )\n",
      "<ipython-input-10-1f17cd855318>:33: DeprecationWarning: find_element_by_* commands are deprecated. Please use find_element() instead\n",
      "  driver.find_element_by_xpath('//*[@id=\"snb\"]/div[2]/ul/li[2]/div/div/a[1]').click( )  # 정렬 버튼의 xpath 클릭\n",
      "<ipython-input-10-1f17cd855318>:38: DeprecationWarning: find_element_by_* commands are deprecated. Please use find_element() instead\n",
      "  driver.find_element_by_xpath('//*[@id=\"snb\"]/div[1]/div/div[2]/a').click( )\n"
     ]
    }
   ],
   "source": [
    "data_param={}\n",
    "\n",
    "for title in query_list[:50] :\n",
    "    #Step 1. 크롬 웹브라우저 실행\n",
    "    path = \"D:\\Python\\TM\\drivers\\chromedriver.exe\"\n",
    "\n",
    "    driver = webdriver.Chrome(r\"D:\\Python\\TM\\drivers\\chromedriver.exe\")\n",
    "    # 사이트 주소는 네이버\n",
    "    driver.get('http://www.naver.com')\n",
    "    time.sleep(2)\n",
    "    \n",
    "    try : \n",
    "    \n",
    "        #Step 2. 네이버 검색창에 \"검색어\" 검색\n",
    "        element = driver.find_element_by_id(\"query\")\n",
    "        element.send_keys(title)  \n",
    "        element.submit()\n",
    "\n",
    "        time.sleep(2)\n",
    "        #Step 3. \"VIEW\" 카테고리 선택\n",
    "        driver.find_element_by_link_text(\"VIEW\").click( )\n",
    "        time.sleep(2)\n",
    "        #Step 3-1. \"블로그\" 카테고리 선택\n",
    "        driver.find_element_by_link_text(\"블로그\").click( )    # .click() 괄호 안을 눌러라는 뜻\n",
    "\n",
    "        time.sleep(2)\n",
    "\n",
    "        #Step 4. 오른쪽의 검색 옵션 버튼 클릭\n",
    "        driver.find_element_by_xpath('//*[@id=\"snb\"]/div[1]/div/div[2]/a').click( )\n",
    "\n",
    "        #Step 5. 정렬 : \"관련도순\" \n",
    "        time.sleep(2)\n",
    "        driver.find_element_by_xpath('//*[@id=\"snb\"]/div[2]/ul/li[2]/div/div/a[1]').click( )  # 정렬 버튼의 xpath 클릭\n",
    "\n",
    "        time.sleep(2)\n",
    "\n",
    "        #Step 6. 날짜 입력을 위해서 옵션 재클릭 후 \" 기간 6개월 선택\"\n",
    "        driver.find_element_by_xpath('//*[@id=\"snb\"]/div[1]/div/div[2]/a').click( )\n",
    "        time.sleep(2)\n",
    "        #driver.find_element_by_xpath('//*[@id=\"snb\"]/div[2]/ul/li[3]/div/div[1]/a[7]').click()\n",
    "        driver.find_element(By.XPATH,'//*[contains(text(),\"6개월\") and @class=\"txt\"]').click()\n",
    "        data_param[title]=driver.find_element(By.XPATH,'//*[contains(text(),\"6개월\") and @class=\"txt\"]').get_attribute('data-param')\n",
    "        \n",
    "    except :\n",
    "        driver.close()\n",
    "        time.sleep(1)\n",
    "        continue\n",
    "        \n",
    "    driver.close()\n",
    "    "
   ]
  },
  {
   "cell_type": "markdown",
   "metadata": {},
   "source": [
    "### step 2 대표프로그램 중 50개의 프로그램에 대해서 블로그 검색 및 블로그 URL 정보 get"
   ]
  },
  {
   "cell_type": "code",
   "execution_count": 11,
   "metadata": {},
   "outputs": [],
   "source": [
    "def find_blogPage(movies_titles) :\n",
    "    url_list = []\n",
    "    title_list = []\n",
    "    date_list = []\n",
    "    driver = webdriver.Chrome(r\"D:\\Python\\TM\\drivers\\chromedriver.exe\")\n",
    "    \n",
    "    for k, v in movies_titles.items():\n",
    "        # ★몇개의 페이지를 크롤링할지 선택\n",
    "        total_page = 2 \n",
    "        for i in tqdm(range(1, total_page)):  # 페이지 번호\n",
    "            #i = i*10 + 1\n",
    "            print(i)\n",
    "            url = \"https://search.naver.com/search.naver?&query={0}&sm=tab_opt&{1}&where=post&start={2}\".format(\"+\".join(k.split()),v,i)\n",
    "            print(url)\n",
    "            driver.get(url)\n",
    "            time.sleep(2)\n",
    "\n",
    "            # URL 크롤링 시작\n",
    "            article_raw = driver.find_elements(By.XPATH, \"//a[@class= 'api_txt_lines total_tit']\")\n",
    "\n",
    "            # url 크롤링 시작    \n",
    "            for article in article_raw:\n",
    "                url = article.get_attribute('href')   \n",
    "                url_list.append(url)\n",
    "\n",
    "            # 제목 크롤링 시작    \n",
    "            for article in article_raw:\n",
    "                title = article.text\n",
    "                title_list.append(title)\n",
    "\n",
    "\n",
    "            # 업로드 날짜 크롤링 시작\n",
    "            article_date = driver.find_elements(By.XPATH,'//span[@class= \"sub_time sub_txt\"]')\n",
    "\n",
    "            for artice in article_date :\n",
    "                if \"전\" in artice.text  or artice.text in \"어제\" :\n",
    "                    if \"일\" in artice.text   :\n",
    "                        date = (datetime.today() - timedelta(int(artice.text[0]))).strftime(\"%Y.%m.%d.\")\n",
    "                    elif \"어제\" in artice.text :\n",
    "                        date=(( datetime.today() - timedelta(1)).strftime(\"%Y.%m.%d.\")) \n",
    "                    else :\n",
    "                        date=datetime.now().strftime(\"%Y.%m.%d\")\n",
    "\n",
    "                else :\n",
    "                    date  = artice.text\n",
    "                date_list.append(date)\n",
    "                \n",
    "                \n",
    "    print('url갯수: ', len(url_list))\n",
    "    print('url갯수: ', len(title_list))\n",
    "    print('url갯수: ', len(date_list))\n",
    "\n",
    "    df = pd.DataFrame({'url':url_list, 'title':title_list, 'date' : date_list })\n",
    "    \n",
    "    #driver.close()\n",
    "    return df"
   ]
  },
  {
   "cell_type": "code",
   "execution_count": 12,
   "metadata": {},
   "outputs": [
    {
     "name": "stderr",
     "output_type": "stream",
     "text": [
      "<ipython-input-11-443d4b312203>:5: DeprecationWarning: executable_path has been deprecated, please pass in a Service object\n",
      "  driver = webdriver.Chrome(r\"D:\\Python\\TM\\drivers\\chromedriver.exe\")\n"
     ]
    },
    {
     "data": {
      "application/vnd.jupyter.widget-view+json": {
       "model_id": "e496bde4a3b74d0da06717b236c63d17",
       "version_major": 2,
       "version_minor": 0
      },
      "text/plain": [
       "  0%|          | 0/1 [00:00<?, ?it/s]"
      ]
     },
     "metadata": {},
     "output_type": "display_data"
    },
    {
     "name": "stdout",
     "output_type": "stream",
     "text": [
      "1\n",
      "https://search.naver.com/search.naver?&query=넷플릭스+지옥&sm=tab_opt&nso=so%3Ar%2Cp%3A6m&where=post&start=1\n"
     ]
    },
    {
     "data": {
      "application/vnd.jupyter.widget-view+json": {
       "model_id": "7078fc32a7f24a358bcc73ccf46ac7c6",
       "version_major": 2,
       "version_minor": 0
      },
      "text/plain": [
       "  0%|          | 0/1 [00:00<?, ?it/s]"
      ]
     },
     "metadata": {},
     "output_type": "display_data"
    },
    {
     "name": "stdout",
     "output_type": "stream",
     "text": [
      "1\n",
      "https://search.naver.com/search.naver?&query=넷플릭스+오징어+게임&sm=tab_opt&nso=so%3Ar%2Cp%3A6m&where=post&start=1\n"
     ]
    },
    {
     "data": {
      "application/vnd.jupyter.widget-view+json": {
       "model_id": "f18c65b3eab842e697ad116373b7890e",
       "version_major": 2,
       "version_minor": 0
      },
      "text/plain": [
       "  0%|          | 0/1 [00:00<?, ?it/s]"
      ]
     },
     "metadata": {},
     "output_type": "display_data"
    },
    {
     "name": "stdout",
     "output_type": "stream",
     "text": [
      "1\n",
      "https://search.naver.com/search.naver?&query=넷플릭스+아케인&sm=tab_opt&nso=so%3Ar%2Cp%3A6m&where=post&start=1\n"
     ]
    },
    {
     "data": {
      "application/vnd.jupyter.widget-view+json": {
       "model_id": "27642219e05d4c70a68d73b5c741a70b",
       "version_major": 2,
       "version_minor": 0
      },
      "text/plain": [
       "  0%|          | 0/1 [00:00<?, ?it/s]"
      ]
     },
     "metadata": {},
     "output_type": "display_data"
    },
    {
     "name": "stdout",
     "output_type": "stream",
     "text": [
      "1\n",
      "https://search.naver.com/search.naver?&query=넷플릭스+D.P.&sm=tab_opt&nso=so%3Ar%2Cp%3A6m&where=post&start=1\n"
     ]
    },
    {
     "data": {
      "application/vnd.jupyter.widget-view+json": {
       "model_id": "6aecaac71f36465cba3266fd76e5f9b8",
       "version_major": 2,
       "version_minor": 0
      },
      "text/plain": [
       "  0%|          | 0/1 [00:00<?, ?it/s]"
      ]
     },
     "metadata": {},
     "output_type": "display_data"
    },
    {
     "name": "stdout",
     "output_type": "stream",
     "text": [
      "1\n",
      "https://search.naver.com/search.naver?&query=넷플릭스+마이+네임&sm=tab_opt&nso=so%3Ar%2Cp%3A6m&where=post&start=1\n"
     ]
    },
    {
     "data": {
      "application/vnd.jupyter.widget-view+json": {
       "model_id": "dacac7e077294f2f8d9d823a94863cd4",
       "version_major": 2,
       "version_minor": 0
      },
      "text/plain": [
       "  0%|          | 0/1 [00:00<?, ?it/s]"
      ]
     },
     "metadata": {},
     "output_type": "display_data"
    },
    {
     "name": "stdout",
     "output_type": "stream",
     "text": [
      "1\n",
      "https://search.naver.com/search.naver?&query=넷플릭스+킹덤&sm=tab_opt&nso=so%3Ar%2Cp%3A6m&where=post&start=1\n"
     ]
    },
    {
     "data": {
      "application/vnd.jupyter.widget-view+json": {
       "model_id": "6e0ebb92d0c54a53a79453b03d2933cf",
       "version_major": 2,
       "version_minor": 0
      },
      "text/plain": [
       "  0%|          | 0/1 [00:00<?, ?it/s]"
      ]
     },
     "metadata": {},
     "output_type": "display_data"
    },
    {
     "name": "stdout",
     "output_type": "stream",
     "text": [
      "1\n",
      "https://search.naver.com/search.naver?&query=넷플릭스+브리저튼&sm=tab_opt&nso=so%3Ar%2Cp%3A6m&where=post&start=1\n"
     ]
    },
    {
     "data": {
      "application/vnd.jupyter.widget-view+json": {
       "model_id": "1077525524454920b093cb1c9d159847",
       "version_major": 2,
       "version_minor": 0
      },
      "text/plain": [
       "  0%|          | 0/1 [00:00<?, ?it/s]"
      ]
     },
     "metadata": {},
     "output_type": "display_data"
    },
    {
     "name": "stdout",
     "output_type": "stream",
     "text": [
      "1\n",
      "https://search.naver.com/search.naver?&query=넷플릭스+스위트홈&sm=tab_opt&nso=so%3Ar%2Cp%3A6m&where=post&start=1\n"
     ]
    },
    {
     "data": {
      "application/vnd.jupyter.widget-view+json": {
       "model_id": "ed645299da884425bf6ec0bbf87ad735",
       "version_major": 2,
       "version_minor": 0
      },
      "text/plain": [
       "  0%|          | 0/1 [00:00<?, ?it/s]"
      ]
     },
     "metadata": {},
     "output_type": "display_data"
    },
    {
     "name": "stdout",
     "output_type": "stream",
     "text": [
      "1\n",
      "https://search.naver.com/search.naver?&query=넷플릭스+무브+투+헤븐:+나는+유품정리사입니다&sm=tab_opt&nso=so%3Ar%2Cp%3A6m&where=post&start=1\n"
     ]
    },
    {
     "data": {
      "application/vnd.jupyter.widget-view+json": {
       "model_id": "8c18153902cd4334921606daf24b179c",
       "version_major": 2,
       "version_minor": 0
      },
      "text/plain": [
       "  0%|          | 0/1 [00:00<?, ?it/s]"
      ]
     },
     "metadata": {},
     "output_type": "display_data"
    },
    {
     "name": "stdout",
     "output_type": "stream",
     "text": [
      "1\n",
      "https://search.naver.com/search.naver?&query=넷플릭스+인간수업&sm=tab_opt&nso=so%3Ar%2Cp%3A6m&where=post&start=1\n"
     ]
    },
    {
     "data": {
      "application/vnd.jupyter.widget-view+json": {
       "model_id": "a121d2d649eb469d925da4252ff1a825",
       "version_major": 2,
       "version_minor": 0
      },
      "text/plain": [
       "  0%|          | 0/1 [00:00<?, ?it/s]"
      ]
     },
     "metadata": {},
     "output_type": "display_data"
    },
    {
     "name": "stdout",
     "output_type": "stream",
     "text": [
      "1\n",
      "https://search.naver.com/search.naver?&query=넷플릭스+섹스/라이프&sm=tab_opt&nso=so%3Ar%2Cp%3A6m&where=post&start=1\n"
     ]
    },
    {
     "data": {
      "application/vnd.jupyter.widget-view+json": {
       "model_id": "ff8abd514c414d5ab083c9c64f3b6baa",
       "version_major": 2,
       "version_minor": 0
      },
      "text/plain": [
       "  0%|          | 0/1 [00:00<?, ?it/s]"
      ]
     },
     "metadata": {},
     "output_type": "display_data"
    },
    {
     "name": "stdout",
     "output_type": "stream",
     "text": [
      "1\n",
      "https://search.naver.com/search.naver?&query=넷플릭스+에밀리,+파리에+가다&sm=tab_opt&nso=so%3Ar%2Cp%3A6m&where=post&start=1\n"
     ]
    },
    {
     "data": {
      "application/vnd.jupyter.widget-view+json": {
       "model_id": "acca2656a6b44dad8a4c99c583ffe538",
       "version_major": 2,
       "version_minor": 0
      },
      "text/plain": [
       "  0%|          | 0/1 [00:00<?, ?it/s]"
      ]
     },
     "metadata": {},
     "output_type": "display_data"
    },
    {
     "name": "stdout",
     "output_type": "stream",
     "text": [
      "1\n",
      "https://search.naver.com/search.naver?&query=넷플릭스+종말의+발키리&sm=tab_opt&nso=so%3Ar%2Cp%3A6m&where=post&start=1\n"
     ]
    },
    {
     "data": {
      "application/vnd.jupyter.widget-view+json": {
       "model_id": "79f43c4fbb2940078d00eb0d19a2298b",
       "version_major": 2,
       "version_minor": 0
      },
      "text/plain": [
       "  0%|          | 0/1 [00:00<?, ?it/s]"
      ]
     },
     "metadata": {},
     "output_type": "display_data"
    },
    {
     "name": "stdout",
     "output_type": "stream",
     "text": [
      "1\n",
      "https://search.naver.com/search.naver?&query=넷플릭스+한마+바키&sm=tab_opt&nso=so%3Ar%2Cp%3A6m&where=post&start=1\n"
     ]
    },
    {
     "data": {
      "application/vnd.jupyter.widget-view+json": {
       "model_id": "0c94b02d375a47438d180477d3a2986c",
       "version_major": 2,
       "version_minor": 0
      },
      "text/plain": [
       "  0%|          | 0/1 [00:00<?, ?it/s]"
      ]
     },
     "metadata": {},
     "output_type": "display_data"
    },
    {
     "name": "stdout",
     "output_type": "stream",
     "text": [
      "1\n",
      "https://search.naver.com/search.naver?&query=넷플릭스+퀸스+갬빗&sm=tab_opt&nso=so%3Ar%2Cp%3A6m&where=post&start=1\n"
     ]
    },
    {
     "data": {
      "application/vnd.jupyter.widget-view+json": {
       "model_id": "2e353a7554a94d6db93e0b01719a76f3",
       "version_major": 2,
       "version_minor": 0
      },
      "text/plain": [
       "  0%|          | 0/1 [00:00<?, ?it/s]"
      ]
     },
     "metadata": {},
     "output_type": "display_data"
    },
    {
     "name": "stdout",
     "output_type": "stream",
     "text": [
      "1\n",
      "https://search.naver.com/search.naver?&query=넷플릭스+신세계로부터&sm=tab_opt&nso=so%3Ar%2Cp%3A6m&where=post&start=1\n"
     ]
    },
    {
     "data": {
      "application/vnd.jupyter.widget-view+json": {
       "model_id": "66e1874cb61d4487a40ced04b4c9cd42",
       "version_major": 2,
       "version_minor": 0
      },
      "text/plain": [
       "  0%|          | 0/1 [00:00<?, ?it/s]"
      ]
     },
     "metadata": {},
     "output_type": "display_data"
    },
    {
     "name": "stdout",
     "output_type": "stream",
     "text": [
      "1\n",
      "https://search.naver.com/search.naver?&query=넷플릭스+뤼팽&sm=tab_opt&nso=so%3Ar%2Cp%3A6m&where=post&start=1\n"
     ]
    },
    {
     "data": {
      "application/vnd.jupyter.widget-view+json": {
       "model_id": "be621ac1d454471d82ea23f8e6ed3e89",
       "version_major": 2,
       "version_minor": 0
      },
      "text/plain": [
       "  0%|          | 0/1 [00:00<?, ?it/s]"
      ]
     },
     "metadata": {},
     "output_type": "display_data"
    },
    {
     "name": "stdout",
     "output_type": "stream",
     "text": [
      "1\n",
      "https://search.naver.com/search.naver?&query=넷플릭스+카우보이+비밥&sm=tab_opt&nso=so%3Ar%2Cp%3A6m&where=post&start=1\n"
     ]
    },
    {
     "data": {
      "application/vnd.jupyter.widget-view+json": {
       "model_id": "35784d669a164b2cabe55ea12a6cea68",
       "version_major": 2,
       "version_minor": 0
      },
      "text/plain": [
       "  0%|          | 0/1 [00:00<?, ?it/s]"
      ]
     },
     "metadata": {},
     "output_type": "display_data"
    },
    {
     "name": "stdout",
     "output_type": "stream",
     "text": [
      "1\n",
      "https://search.naver.com/search.naver?&query=넷플릭스+비하인드+허+아이즈&sm=tab_opt&nso=so%3Ar%2Cp%3A6m&where=post&start=1\n"
     ]
    },
    {
     "data": {
      "application/vnd.jupyter.widget-view+json": {
       "model_id": "e9d0476e51f9463e834dab5de8b43f53",
       "version_major": 2,
       "version_minor": 0
      },
      "text/plain": [
       "  0%|          | 0/1 [00:00<?, ?it/s]"
      ]
     },
     "metadata": {},
     "output_type": "display_data"
    },
    {
     "name": "stdout",
     "output_type": "stream",
     "text": [
      "1\n",
      "https://search.naver.com/search.naver?&query=넷플릭스+조용한+희망&sm=tab_opt&nso=so%3Ar%2Cp%3A6m&where=post&start=1\n"
     ]
    },
    {
     "data": {
      "application/vnd.jupyter.widget-view+json": {
       "model_id": "bbc8a4b871414bc78e24d190ebc75924",
       "version_major": 2,
       "version_minor": 0
      },
      "text/plain": [
       "  0%|          | 0/1 [00:00<?, ?it/s]"
      ]
     },
     "metadata": {},
     "output_type": "display_data"
    },
    {
     "name": "stdout",
     "output_type": "stream",
     "text": [
      "1\n",
      "https://search.naver.com/search.naver?&query=넷플릭스+지니+&+조지아&sm=tab_opt&nso=so%3Ar%2Cp%3A6m&where=post&start=1\n"
     ]
    },
    {
     "data": {
      "application/vnd.jupyter.widget-view+json": {
       "model_id": "b10eadf74c2d472284a80837dbf796e1",
       "version_major": 2,
       "version_minor": 0
      },
      "text/plain": [
       "  0%|          | 0/1 [00:00<?, ?it/s]"
      ]
     },
     "metadata": {},
     "output_type": "display_data"
    },
    {
     "name": "stdout",
     "output_type": "stream",
     "text": [
      "1\n",
      "https://search.naver.com/search.naver?&query=넷플릭스+바바리안&sm=tab_opt&nso=so%3Ar%2Cp%3A6m&where=post&start=1\n"
     ]
    },
    {
     "data": {
      "application/vnd.jupyter.widget-view+json": {
       "model_id": "14222b94348f41a08f5fb84c7d68869d",
       "version_major": 2,
       "version_minor": 0
      },
      "text/plain": [
       "  0%|          | 0/1 [00:00<?, ?it/s]"
      ]
     },
     "metadata": {},
     "output_type": "display_data"
    },
    {
     "name": "stdout",
     "output_type": "stream",
     "text": [
      "1\n",
      "https://search.naver.com/search.naver?&query=넷플릭스+마이클+조던:+더+라스트+댄스&sm=tab_opt&nso=so%3Ar%2Cp%3A6m&where=post&start=1\n"
     ]
    },
    {
     "data": {
      "application/vnd.jupyter.widget-view+json": {
       "model_id": "bd8cc4c86f8445db836d2c207e0412f7",
       "version_major": 2,
       "version_minor": 0
      },
      "text/plain": [
       "  0%|          | 0/1 [00:00<?, ?it/s]"
      ]
     },
     "metadata": {},
     "output_type": "display_data"
    },
    {
     "name": "stdout",
     "output_type": "stream",
     "text": [
      "1\n",
      "https://search.naver.com/search.naver?&query=넷플릭스+러브,+데스+++로봇&sm=tab_opt&nso=so%3Ar%2Cp%3A6m&where=post&start=1\n"
     ]
    },
    {
     "data": {
      "application/vnd.jupyter.widget-view+json": {
       "model_id": "042a4bb938b64accbddb5198b1835379",
       "version_major": 2,
       "version_minor": 0
      },
      "text/plain": [
       "  0%|          | 0/1 [00:00<?, ?it/s]"
      ]
     },
     "metadata": {},
     "output_type": "display_data"
    },
    {
     "name": "stdout",
     "output_type": "stream",
     "text": [
      "1\n",
      "https://search.naver.com/search.naver?&query=넷플릭스+스위트+투스:+사슴뿔을+가진+소년&sm=tab_opt&nso=so%3Ar%2Cp%3A6m&where=post&start=1\n"
     ]
    },
    {
     "data": {
      "application/vnd.jupyter.widget-view+json": {
       "model_id": "7fabd0c2e0254e6e9ffbc53edf9dc279",
       "version_major": 2,
       "version_minor": 0
      },
      "text/plain": [
       "  0%|          | 0/1 [00:00<?, ?it/s]"
      ]
     },
     "metadata": {},
     "output_type": "display_data"
    },
    {
     "name": "stdout",
     "output_type": "stream",
     "text": [
      "1\n",
      "https://search.naver.com/search.naver?&query=넷플릭스+10대+사건으로+보는+제2차+세계대전&sm=tab_opt&nso=so%3Ar%2Cp%3A6m&where=post&start=1\n"
     ]
    },
    {
     "data": {
      "application/vnd.jupyter.widget-view+json": {
       "model_id": "2663e8f249dd419f9c339b03e073e2b9",
       "version_major": 2,
       "version_minor": 0
      },
      "text/plain": [
       "  0%|          | 0/1 [00:00<?, ?it/s]"
      ]
     },
     "metadata": {},
     "output_type": "display_data"
    },
    {
     "name": "stdout",
     "output_type": "stream",
     "text": [
      "1\n",
      "https://search.naver.com/search.naver?&query=넷플릭스+빌어먹을+세상+따위&sm=tab_opt&nso=so%3Ar%2Cp%3A6m&where=post&start=1\n"
     ]
    },
    {
     "data": {
      "application/vnd.jupyter.widget-view+json": {
       "model_id": "b04df67749e74a42a04bd82c821a637e",
       "version_major": 2,
       "version_minor": 0
      },
      "text/plain": [
       "  0%|          | 0/1 [00:00<?, ?it/s]"
      ]
     },
     "metadata": {},
     "output_type": "display_data"
    },
    {
     "name": "stdout",
     "output_type": "stream",
     "text": [
      "1\n",
      "https://search.naver.com/search.naver?&query=넷플릭스+에덴즈+제로&sm=tab_opt&nso=so%3Ar%2Cp%3A6m&where=post&start=1\n"
     ]
    },
    {
     "data": {
      "application/vnd.jupyter.widget-view+json": {
       "model_id": "32b4c4cbe7744124aabdd30da7a4ad90",
       "version_major": 2,
       "version_minor": 0
      },
      "text/plain": [
       "  0%|          | 0/1 [00:00<?, ?it/s]"
      ]
     },
     "metadata": {},
     "output_type": "display_data"
    },
    {
     "name": "stdout",
     "output_type": "stream",
     "text": [
      "1\n",
      "https://search.naver.com/search.naver?&query=넷플릭스+보디가드&sm=tab_opt&nso=so%3Ar%2Cp%3A6m&where=post&start=1\n"
     ]
    },
    {
     "data": {
      "application/vnd.jupyter.widget-view+json": {
       "model_id": "b96b2c20f2f541e0917f2790932e5087",
       "version_major": 2,
       "version_minor": 0
      },
      "text/plain": [
       "  0%|          | 0/1 [00:00<?, ?it/s]"
      ]
     },
     "metadata": {},
     "output_type": "display_data"
    },
    {
     "name": "stdout",
     "output_type": "stream",
     "text": [
      "1\n",
      "https://search.naver.com/search.naver?&query=넷플릭스+메시아&sm=tab_opt&nso=so%3Ar%2Cp%3A6m&where=post&start=1\n"
     ]
    },
    {
     "data": {
      "application/vnd.jupyter.widget-view+json": {
       "model_id": "61b0eafa8ddf4e94957c06e05a3b4c6c",
       "version_major": 2,
       "version_minor": 0
      },
      "text/plain": [
       "  0%|          | 0/1 [00:00<?, ?it/s]"
      ]
     },
     "metadata": {},
     "output_type": "display_data"
    },
    {
     "name": "stdout",
     "output_type": "stream",
     "text": [
      "1\n",
      "https://search.naver.com/search.naver?&query=넷플릭스+더+크루:+갱랜드&sm=tab_opt&nso=so%3Ar%2Cp%3A6m&where=post&start=1\n"
     ]
    },
    {
     "data": {
      "application/vnd.jupyter.widget-view+json": {
       "model_id": "36c1f2f710ad4cad805d1ad22b805524",
       "version_major": 2,
       "version_minor": 0
      },
      "text/plain": [
       "  0%|          | 0/1 [00:00<?, ?it/s]"
      ]
     },
     "metadata": {},
     "output_type": "display_data"
    },
    {
     "name": "stdout",
     "output_type": "stream",
     "text": [
      "1\n",
      "https://search.naver.com/search.naver?&query=넷플릭스+어둠+속으로&sm=tab_opt&nso=so%3Ar%2Cp%3A6m&where=post&start=1\n"
     ]
    },
    {
     "data": {
      "application/vnd.jupyter.widget-view+json": {
       "model_id": "ac8e45a613bf48029c93ea59c59412b0",
       "version_major": 2,
       "version_minor": 0
      },
      "text/plain": [
       "  0%|          | 0/1 [00:00<?, ?it/s]"
      ]
     },
     "metadata": {},
     "output_type": "display_data"
    },
    {
     "name": "stdout",
     "output_type": "stream",
     "text": [
      "1\n",
      "https://search.naver.com/search.naver?&query=넷플릭스+심야식당:+도쿄+스토리&sm=tab_opt&nso=so%3Ar%2Cp%3A6m&where=post&start=1\n"
     ]
    },
    {
     "data": {
      "application/vnd.jupyter.widget-view+json": {
       "model_id": "bc6faa89fd3645798ebd60b49f05c1fb",
       "version_major": 2,
       "version_minor": 0
      },
      "text/plain": [
       "  0%|          | 0/1 [00:00<?, ?it/s]"
      ]
     },
     "metadata": {},
     "output_type": "display_data"
    },
    {
     "name": "stdout",
     "output_type": "stream",
     "text": [
      "1\n",
      "https://search.naver.com/search.naver?&query=넷플릭스+백스피릿&sm=tab_opt&nso=so%3Ar%2Cp%3A6m&where=post&start=1\n"
     ]
    },
    {
     "data": {
      "application/vnd.jupyter.widget-view+json": {
       "model_id": "cf8f9c0287294b0f9043b5428bee8fab",
       "version_major": 2,
       "version_minor": 0
      },
      "text/plain": [
       "  0%|          | 0/1 [00:00<?, ?it/s]"
      ]
     },
     "metadata": {},
     "output_type": "display_data"
    },
    {
     "name": "stdout",
     "output_type": "stream",
     "text": [
      "1\n",
      "https://search.naver.com/search.naver?&query=넷플릭스+네버+해브+아이+에버&sm=tab_opt&nso=so%3Ar%2Cp%3A6m&where=post&start=1\n"
     ]
    },
    {
     "data": {
      "application/vnd.jupyter.widget-view+json": {
       "model_id": "cb4b248f1a4b4fd480e0cdc3c84d87a6",
       "version_major": 2,
       "version_minor": 0
      },
      "text/plain": [
       "  0%|          | 0/1 [00:00<?, ?it/s]"
      ]
     },
     "metadata": {},
     "output_type": "display_data"
    },
    {
     "name": "stdout",
     "output_type": "stream",
     "text": [
      "1\n",
      "https://search.naver.com/search.naver?&query=넷플릭스+섀도우+앤+본&sm=tab_opt&nso=so%3Ar%2Cp%3A6m&where=post&start=1\n"
     ]
    },
    {
     "data": {
      "application/vnd.jupyter.widget-view+json": {
       "model_id": "ddbfd4e6a5b949b394b46d33f20be8f1",
       "version_major": 2,
       "version_minor": 0
      },
      "text/plain": [
       "  0%|          | 0/1 [00:00<?, ?it/s]"
      ]
     },
     "metadata": {},
     "output_type": "display_data"
    },
    {
     "name": "stdout",
     "output_type": "stream",
     "text": [
      "1\n",
      "https://search.naver.com/search.naver?&query=넷플릭스+라그나로크&sm=tab_opt&nso=so%3Ar%2Cp%3A6m&where=post&start=1\n"
     ]
    },
    {
     "data": {
      "application/vnd.jupyter.widget-view+json": {
       "model_id": "76be2112725f45369cf9e22e5f037dcf",
       "version_major": 2,
       "version_minor": 0
      },
      "text/plain": [
       "  0%|          | 0/1 [00:00<?, ?it/s]"
      ]
     },
     "metadata": {},
     "output_type": "display_data"
    },
    {
     "name": "stdout",
     "output_type": "stream",
     "text": [
      "1\n",
      "https://search.naver.com/search.naver?&query=넷플릭스+보건교사+안은영&sm=tab_opt&nso=so%3Ar%2Cp%3A6m&where=post&start=1\n"
     ]
    },
    {
     "data": {
      "application/vnd.jupyter.widget-view+json": {
       "model_id": "339bdd9d356a450fbb69d7814f17764d",
       "version_major": 2,
       "version_minor": 0
      },
      "text/plain": [
       "  0%|          | 0/1 [00:00<?, ?it/s]"
      ]
     },
     "metadata": {},
     "output_type": "display_data"
    },
    {
     "name": "stdout",
     "output_type": "stream",
     "text": [
      "1\n",
      "https://search.naver.com/search.naver?&query=넷플릭스+죽어도+선덜랜드&sm=tab_opt&nso=so%3Ar%2Cp%3A6m&where=post&start=1\n"
     ]
    },
    {
     "data": {
      "application/vnd.jupyter.widget-view+json": {
       "model_id": "6838e0efa5034cd0bd03a5e0b5e4b9de",
       "version_major": 2,
       "version_minor": 0
      },
      "text/plain": [
       "  0%|          | 0/1 [00:00<?, ?it/s]"
      ]
     },
     "metadata": {},
     "output_type": "display_data"
    },
    {
     "name": "stdout",
     "output_type": "stream",
     "text": [
      "1\n",
      "https://search.naver.com/search.naver?&query=넷플릭스+애니멀&sm=tab_opt&nso=so%3Ar%2Cp%3A6m&where=post&start=1\n"
     ]
    },
    {
     "data": {
      "application/vnd.jupyter.widget-view+json": {
       "model_id": "594fd2b64b8c476ebc441a6d47799bd1",
       "version_major": 2,
       "version_minor": 0
      },
      "text/plain": [
       "  0%|          | 0/1 [00:00<?, ?it/s]"
      ]
     },
     "metadata": {},
     "output_type": "display_data"
    },
    {
     "name": "stdout",
     "output_type": "stream",
     "text": [
      "1\n",
      "https://search.naver.com/search.naver?&query=넷플릭스+아리스+인+보더랜드&sm=tab_opt&nso=so%3Ar%2Cp%3A6m&where=post&start=1\n"
     ]
    },
    {
     "data": {
      "application/vnd.jupyter.widget-view+json": {
       "model_id": "2acd912058284319b5852f266d9d82d3",
       "version_major": 2,
       "version_minor": 0
      },
      "text/plain": [
       "  0%|          | 0/1 [00:00<?, ?it/s]"
      ]
     },
     "metadata": {},
     "output_type": "display_data"
    },
    {
     "name": "stdout",
     "output_type": "stream",
     "text": [
      "1\n",
      "https://search.naver.com/search.naver?&query=넷플릭스+은밀한+회사원&sm=tab_opt&nso=so%3Ar%2Cp%3A6m&where=post&start=1\n"
     ]
    },
    {
     "data": {
      "application/vnd.jupyter.widget-view+json": {
       "model_id": "3bd4446a096a4550ac0916ed57afcd51",
       "version_major": 2,
       "version_minor": 0
      },
      "text/plain": [
       "  0%|          | 0/1 [00:00<?, ?it/s]"
      ]
     },
     "metadata": {},
     "output_type": "display_data"
    },
    {
     "name": "stdout",
     "output_type": "stream",
     "text": [
      "1\n",
      "https://search.naver.com/search.naver?&query=넷플릭스+오스만+제국의+꿈&sm=tab_opt&nso=so%3Ar%2Cp%3A6m&where=post&start=1\n"
     ]
    },
    {
     "data": {
      "application/vnd.jupyter.widget-view+json": {
       "model_id": "46da455ad30d443c8691ce30648f7bc5",
       "version_major": 2,
       "version_minor": 0
      },
      "text/plain": [
       "  0%|          | 0/1 [00:00<?, ?it/s]"
      ]
     },
     "metadata": {},
     "output_type": "display_data"
    },
    {
     "name": "stdout",
     "output_type": "stream",
     "text": [
      "1\n",
      "https://search.naver.com/search.naver?&query=넷플릭스+미스트&sm=tab_opt&nso=so%3Ar%2Cp%3A6m&where=post&start=1\n"
     ]
    },
    {
     "data": {
      "application/vnd.jupyter.widget-view+json": {
       "model_id": "a3ad0888d80645f59aa108ac1d4a7ae3",
       "version_major": 2,
       "version_minor": 0
      },
      "text/plain": [
       "  0%|          | 0/1 [00:00<?, ?it/s]"
      ]
     },
     "metadata": {},
     "output_type": "display_data"
    },
    {
     "name": "stdout",
     "output_type": "stream",
     "text": [
      "1\n",
      "https://search.naver.com/search.naver?&query=넷플릭스+슈퍼크룩스&sm=tab_opt&nso=so%3Ar%2Cp%3A6m&where=post&start=1\n"
     ]
    },
    {
     "data": {
      "application/vnd.jupyter.widget-view+json": {
       "model_id": "7ce2a5a02322438cbf9468ee4dc093f5",
       "version_major": 2,
       "version_minor": 0
      },
      "text/plain": [
       "  0%|          | 0/1 [00:00<?, ?it/s]"
      ]
     },
     "metadata": {},
     "output_type": "display_data"
    },
    {
     "name": "stdout",
     "output_type": "stream",
     "text": [
      "1\n",
      "https://search.naver.com/search.naver?&query=넷플릭스+맨헌트&sm=tab_opt&nso=so%3Ar%2Cp%3A6m&where=post&start=1\n"
     ]
    },
    {
     "data": {
      "application/vnd.jupyter.widget-view+json": {
       "model_id": "2b573fe817ad49b2b9fd7f4edfcba2c1",
       "version_major": 2,
       "version_minor": 0
      },
      "text/plain": [
       "  0%|          | 0/1 [00:00<?, ?it/s]"
      ]
     },
     "metadata": {},
     "output_type": "display_data"
    },
    {
     "name": "stdout",
     "output_type": "stream",
     "text": [
      "1\n",
      "https://search.naver.com/search.naver?&query=넷플릭스+영+로열스&sm=tab_opt&nso=so%3Ar%2Cp%3A6m&where=post&start=1\n"
     ]
    },
    {
     "data": {
      "application/vnd.jupyter.widget-view+json": {
       "model_id": "05e9dd9f26934fd9b8d004f10c2efeac",
       "version_major": 2,
       "version_minor": 0
      },
      "text/plain": [
       "  0%|          | 0/1 [00:00<?, ?it/s]"
      ]
     },
     "metadata": {},
     "output_type": "display_data"
    },
    {
     "name": "stdout",
     "output_type": "stream",
     "text": [
      "1\n",
      "https://search.naver.com/search.naver?&query=넷플릭스+트루+스토리&sm=tab_opt&nso=so%3Ar%2Cp%3A6m&where=post&start=1\n"
     ]
    },
    {
     "data": {
      "application/vnd.jupyter.widget-view+json": {
       "model_id": "4fe136d625c84f5285545df6b961b7fa",
       "version_major": 2,
       "version_minor": 0
      },
      "text/plain": [
       "  0%|          | 0/1 [00:00<?, ?it/s]"
      ]
     },
     "metadata": {},
     "output_type": "display_data"
    },
    {
     "name": "stdout",
     "output_type": "stream",
     "text": [
      "1\n",
      "https://search.naver.com/search.naver?&query=넷플릭스+페이트:+윙스의+전설&sm=tab_opt&nso=so%3Ar%2Cp%3A6m&where=post&start=1\n"
     ]
    },
    {
     "data": {
      "application/vnd.jupyter.widget-view+json": {
       "model_id": "4387832db25b47f0a4ffa43ce1e38ea7",
       "version_major": 2,
       "version_minor": 0
      },
      "text/plain": [
       "  0%|          | 0/1 [00:00<?, ?it/s]"
      ]
     },
     "metadata": {},
     "output_type": "display_data"
    },
    {
     "name": "stdout",
     "output_type": "stream",
     "text": [
      "1\n",
      "https://search.naver.com/search.naver?&query=넷플릭스+알라와비+여고&sm=tab_opt&nso=so%3Ar%2Cp%3A6m&where=post&start=1\n",
      "url갯수:  1462\n",
      "url갯수:  1462\n",
      "url갯수:  1462\n"
     ]
    }
   ],
   "source": [
    "    # 저장하기\n",
    "df = find_blogPage(data_param)\n",
    "df.to_excel(r\"D:\\Python\\TM\\TeamProject/netflix_6month.xlsx\")"
   ]
  },
  {
   "cell_type": "code",
   "execution_count": 13,
   "metadata": {},
   "outputs": [
    {
     "data": {
      "text/html": [
       "<div>\n",
       "<style scoped>\n",
       "    .dataframe tbody tr th:only-of-type {\n",
       "        vertical-align: middle;\n",
       "    }\n",
       "\n",
       "    .dataframe tbody tr th {\n",
       "        vertical-align: top;\n",
       "    }\n",
       "\n",
       "    .dataframe thead th {\n",
       "        text-align: right;\n",
       "    }\n",
       "</style>\n",
       "<table border=\"1\" class=\"dataframe\">\n",
       "  <thead>\n",
       "    <tr style=\"text-align: right;\">\n",
       "      <th></th>\n",
       "      <th>url</th>\n",
       "      <th>title</th>\n",
       "      <th>date</th>\n",
       "    </tr>\n",
       "  </thead>\n",
       "  <tbody>\n",
       "    <tr>\n",
       "      <th>0</th>\n",
       "      <td>https://blog.naver.com/dongi0508?Redirect=Log&amp;...</td>\n",
       "      <td>넷플릭스 지옥 시즌2 정보 후기 결말 제작사 CG!</td>\n",
       "      <td>2021.11.20.</td>\n",
       "    </tr>\n",
       "    <tr>\n",
       "      <th>1</th>\n",
       "      <td>https://blog.naver.com/wotjd379?Redirect=Log&amp;l...</td>\n",
       "      <td>넷플릭스 지옥 해석&amp;리뷰</td>\n",
       "      <td>2021.11.20.</td>\n",
       "    </tr>\n",
       "    <tr>\n",
       "      <th>2</th>\n",
       "      <td>https://blog.naver.com/cine_play?Redirect=Log&amp;...</td>\n",
       "      <td>해외에서도 난리 난 넷플릭스 신작, &lt;지옥&gt; 관전 포인트</td>\n",
       "      <td>2021.11.12.</td>\n",
       "    </tr>\n",
       "    <tr>\n",
       "      <th>3</th>\n",
       "      <td>https://blog.naver.com/pooh0512?Redirect=Log&amp;l...</td>\n",
       "      <td>[넷플릭스 오리지널] 지옥 : 사람이 만든 지옥, 신을 향한 맹신이...</td>\n",
       "      <td>2021.11.23.</td>\n",
       "    </tr>\n",
       "    <tr>\n",
       "      <th>4</th>\n",
       "      <td>https://blog.naver.com/dance8090?Redirect=Log&amp;...</td>\n",
       "      <td>넷플릭스 시리즈 : 지옥 (후기/정보)</td>\n",
       "      <td>2021.11.20.</td>\n",
       "    </tr>\n",
       "    <tr>\n",
       "      <th>...</th>\n",
       "      <td>...</td>\n",
       "      <td>...</td>\n",
       "      <td>...</td>\n",
       "    </tr>\n",
       "    <tr>\n",
       "      <th>1457</th>\n",
       "      <td>https://blog.naver.com/photo_o63?Redirect=Log&amp;...</td>\n",
       "      <td>[넷플릭스] 오랜만에 정주행한 드라마 - 알라와비 여고(새벽까지...</td>\n",
       "      <td>2021.08.15.</td>\n",
       "    </tr>\n",
       "    <tr>\n",
       "      <th>1458</th>\n",
       "      <td>https://blog.naver.com/bbom29?Redirect=Log&amp;log...</td>\n",
       "      <td>넷플릭스 '알라와비 여고'</td>\n",
       "      <td>2021.09.26.</td>\n",
       "    </tr>\n",
       "    <tr>\n",
       "      <th>1459</th>\n",
       "      <td>https://blog.naver.com/jjiewww95?Redirect=Log&amp;...</td>\n",
       "      <td>#21 알라와비 여고(넷플릭스)</td>\n",
       "      <td>2021.08.15.</td>\n",
       "    </tr>\n",
       "    <tr>\n",
       "      <th>1460</th>\n",
       "      <td>https://blog.naver.com/casper0106?Redirect=Log...</td>\n",
       "      <td>'알라와비 여고'를 보고(스포있음!)</td>\n",
       "      <td>2021.09.07.</td>\n",
       "    </tr>\n",
       "    <tr>\n",
       "      <th>1461</th>\n",
       "      <td>https://blog.naver.com/mapak0ju2?Redirect=Log&amp;...</td>\n",
       "      <td>[넷플릭스] 제발 시즌2 ㅠㅠ 알라와비 여고 후기 ♥ (+스포약간)</td>\n",
       "      <td>2021.08.15.</td>\n",
       "    </tr>\n",
       "  </tbody>\n",
       "</table>\n",
       "<p>1462 rows × 3 columns</p>\n",
       "</div>"
      ],
      "text/plain": [
       "                                                    url  \\\n",
       "0     https://blog.naver.com/dongi0508?Redirect=Log&...   \n",
       "1     https://blog.naver.com/wotjd379?Redirect=Log&l...   \n",
       "2     https://blog.naver.com/cine_play?Redirect=Log&...   \n",
       "3     https://blog.naver.com/pooh0512?Redirect=Log&l...   \n",
       "4     https://blog.naver.com/dance8090?Redirect=Log&...   \n",
       "...                                                 ...   \n",
       "1457  https://blog.naver.com/photo_o63?Redirect=Log&...   \n",
       "1458  https://blog.naver.com/bbom29?Redirect=Log&log...   \n",
       "1459  https://blog.naver.com/jjiewww95?Redirect=Log&...   \n",
       "1460  https://blog.naver.com/casper0106?Redirect=Log...   \n",
       "1461  https://blog.naver.com/mapak0ju2?Redirect=Log&...   \n",
       "\n",
       "                                         title         date  \n",
       "0                 넷플릭스 지옥 시즌2 정보 후기 결말 제작사 CG!  2021.11.20.  \n",
       "1                                넷플릭스 지옥 해석&리뷰  2021.11.20.  \n",
       "2              해외에서도 난리 난 넷플릭스 신작, <지옥> 관전 포인트  2021.11.12.  \n",
       "3     [넷플릭스 오리지널] 지옥 : 사람이 만든 지옥, 신을 향한 맹신이...  2021.11.23.  \n",
       "4                        넷플릭스 시리즈 : 지옥 (후기/정보)  2021.11.20.  \n",
       "...                                        ...          ...  \n",
       "1457    [넷플릭스] 오랜만에 정주행한 드라마 - 알라와비 여고(새벽까지...  2021.08.15.  \n",
       "1458                            넷플릭스 '알라와비 여고'  2021.09.26.  \n",
       "1459                         #21 알라와비 여고(넷플릭스)  2021.08.15.  \n",
       "1460                      '알라와비 여고'를 보고(스포있음!)  2021.09.07.  \n",
       "1461     [넷플릭스] 제발 시즌2 ㅠㅠ 알라와비 여고 후기 ♥ (+스포약간)  2021.08.15.  \n",
       "\n",
       "[1462 rows x 3 columns]"
      ]
     },
     "execution_count": 13,
     "metadata": {},
     "output_type": "execute_result"
    }
   ],
   "source": [
    "df"
   ]
  },
  {
   "cell_type": "markdown",
   "metadata": {
    "id": "8txJjgMQxPdw"
   },
   "source": [
    "## 본문 크롤링 하기"
   ]
  },
  {
   "cell_type": "markdown",
   "metadata": {},
   "source": [
    "### step 3 대표프로그램 중 50개의 프로그램에 대해서 건별 블로그에 내용 GET(본문크롤링 => 자세한 분석은 code3)"
   ]
  },
  {
   "cell_type": "code",
   "execution_count": 14,
   "metadata": {
    "id": "BGWG5_fnxPd7",
    "outputId": "c22bebd6-2460-4a50-d70d-8f73f810234c"
   },
   "outputs": [
    {
     "name": "stdout",
     "output_type": "stream",
     "text": [
      "1462\n"
     ]
    }
   ],
   "source": [
    "# \"url_list.csv\" 불러오기\n",
    "url_load = pd.read_excel(r\"D:\\Python\\TM\\TeamProject/netflix_6month.xlsx\")        # 기본 모델\n",
    "url_load =df\n",
    "print(len(url_load))\n"
   ]
  },
  {
   "cell_type": "code",
   "execution_count": 15,
   "metadata": {
    "scrolled": true
   },
   "outputs": [
    {
     "name": "stdout",
     "output_type": "stream",
     "text": [
      "['https://anilover.tistory.com/5835']\n"
     ]
    }
   ],
   "source": [
    "#340+48\n",
    "chk_url = url_load['url'][388]\n",
    "print(chk_url.split(\"logNo=\"))"
   ]
  },
  {
   "cell_type": "code",
   "execution_count": 17,
   "metadata": {},
   "outputs": [
    {
     "data": {
      "application/vnd.jupyter.widget-view+json": {
       "model_id": "9f24d632bf134aeeb3a8a86ee72de6aa",
       "version_major": 2,
       "version_minor": 0
      },
      "text/plain": [
       "  0%|          | 0/1130 [00:00<?, ?it/s]"
      ]
     },
     "metadata": {},
     "output_type": "display_data"
    },
    {
     "name": "stderr",
     "output_type": "stream",
     "text": [
      "<ipython-input-17-25d0e08330fb>:7: DeprecationWarning: executable_path has been deprecated, please pass in a Service object\n",
      "  driver = webdriver.Chrome(r\"D:\\Python\\TM\\drivers\\chromedriver.exe\")\n"
     ]
    },
    {
     "name": "stdout",
     "output_type": "stream",
     "text": [
      "<bound method WebDriver.get of <selenium.webdriver.chrome.webdriver.WebDriver (session=\"f654711d588fd51a33355c89faa6aca1\")>>\n",
      "<bound method WebDriver.get of <selenium.webdriver.chrome.webdriver.WebDriver (session=\"c2b333cab28ce6f1aa34f4e8c00a67ba\")>>\n",
      "<bound method WebDriver.get of <selenium.webdriver.chrome.webdriver.WebDriver (session=\"2c489a7b8fa9d0421bf1708473c306ad\")>>\n",
      "<bound method WebDriver.get of <selenium.webdriver.chrome.webdriver.WebDriver (session=\"26d870c6c16f3fef4bb2fa6d295e2254\")>>\n",
      "<bound method WebDriver.get of <selenium.webdriver.chrome.webdriver.WebDriver (session=\"0d7f2599079bdd8d2d0c14237bd0ba08\")>>\n",
      "<bound method WebDriver.get of <selenium.webdriver.chrome.webdriver.WebDriver (session=\"cbf5eec16fb12bce87de85aaf3f70497\")>>\n",
      "<bound method WebDriver.get of <selenium.webdriver.chrome.webdriver.WebDriver (session=\"5f94c5293dfacea4c530e70c66d96fdf\")>>\n",
      "<bound method WebDriver.get of <selenium.webdriver.chrome.webdriver.WebDriver (session=\"1c975e2dbd2589e67d69789822834bc5\")>>\n",
      "<bound method WebDriver.get of <selenium.webdriver.chrome.webdriver.WebDriver (session=\"adf73b676814c5d7317aebc35865f93b\")>>\n",
      "<bound method WebDriver.get of <selenium.webdriver.chrome.webdriver.WebDriver (session=\"6cd4683271165b5628fe2295d80f5c08\")>>\n",
      "<bound method WebDriver.get of <selenium.webdriver.chrome.webdriver.WebDriver (session=\"18658c169bf5b3b1a17b6667eb14639a\")>>\n",
      "<bound method WebDriver.get of <selenium.webdriver.chrome.webdriver.WebDriver (session=\"c085a46d4fa423e95ea771e39094f1fc\")>>\n",
      "<bound method WebDriver.get of <selenium.webdriver.chrome.webdriver.WebDriver (session=\"7b6aef8d16d3b1d4115639d896218b6e\")>>\n",
      "<bound method WebDriver.get of <selenium.webdriver.chrome.webdriver.WebDriver (session=\"2a936aa4519556fbae21fe9f8491cf0d\")>>\n",
      "<bound method WebDriver.get of <selenium.webdriver.chrome.webdriver.WebDriver (session=\"55783d26493cdc693864ce1981f20370\")>>\n",
      "<bound method WebDriver.get of <selenium.webdriver.chrome.webdriver.WebDriver (session=\"951e23ab2e0c4206476371f39fd929a6\")>>\n",
      "<bound method WebDriver.get of <selenium.webdriver.chrome.webdriver.WebDriver (session=\"d730bcad732c157994164c96ca51cf96\")>>\n",
      "<bound method WebDriver.get of <selenium.webdriver.chrome.webdriver.WebDriver (session=\"50cac7e7fac7a0ee9325976c6cb03160\")>>\n",
      "<bound method WebDriver.get of <selenium.webdriver.chrome.webdriver.WebDriver (session=\"2550d55ce5d3a416b0abcdc0bd5a8585\")>>\n",
      "<bound method WebDriver.get of <selenium.webdriver.chrome.webdriver.WebDriver (session=\"ea519db4a9805a7819187303a488877f\")>>\n",
      "<bound method WebDriver.get of <selenium.webdriver.chrome.webdriver.WebDriver (session=\"12b54a785c1abfd0ea7da25e53afa4fc\")>>\n",
      "<bound method WebDriver.get of <selenium.webdriver.chrome.webdriver.WebDriver (session=\"fe1da27b0b7e74f884bc45b61f00ac8f\")>>\n",
      "<bound method WebDriver.get of <selenium.webdriver.chrome.webdriver.WebDriver (session=\"3c171e4306f2216c7876e4aa389efd98\")>>\n",
      "<bound method WebDriver.get of <selenium.webdriver.chrome.webdriver.WebDriver (session=\"4b822cf4fa2bc4bcc5f5300058502007\")>>\n",
      "<bound method WebDriver.get of <selenium.webdriver.chrome.webdriver.WebDriver (session=\"fb5e2185044c6503318aaa4c1abfa65a\")>>\n",
      "<bound method WebDriver.get of <selenium.webdriver.chrome.webdriver.WebDriver (session=\"60d745a21083c95c0e21e51ce4325b4d\")>>\n",
      "<bound method WebDriver.get of <selenium.webdriver.chrome.webdriver.WebDriver (session=\"b69db7bbc14fb1d68fb77cbcfb1ef7d9\")>>\n",
      "<bound method WebDriver.get of <selenium.webdriver.chrome.webdriver.WebDriver (session=\"4a91c1fc8ce37e04381e28c15cba682c\")>>\n",
      "<bound method WebDriver.get of <selenium.webdriver.chrome.webdriver.WebDriver (session=\"0b4ffbb8bef3056294041d4a9aafb390\")>>\n",
      "<bound method WebDriver.get of <selenium.webdriver.chrome.webdriver.WebDriver (session=\"85b93a81875385cbf0bd2563cb1a81f0\")>>\n",
      "<bound method WebDriver.get of <selenium.webdriver.chrome.webdriver.WebDriver (session=\"42dccb43ac29b20db628204b114bc7dc\")>>\n",
      "<bound method WebDriver.get of <selenium.webdriver.chrome.webdriver.WebDriver (session=\"3a7e4a315118de1e67661d493a4dab66\")>>\n",
      "<bound method WebDriver.get of <selenium.webdriver.chrome.webdriver.WebDriver (session=\"838ccb63ffd56e2847c7ebc49898240a\")>>\n",
      "<bound method WebDriver.get of <selenium.webdriver.chrome.webdriver.WebDriver (session=\"c39312c30b3b051b72e0b3996052ec48\")>>\n",
      "<bound method WebDriver.get of <selenium.webdriver.chrome.webdriver.WebDriver (session=\"20d2eb1dec3cac71b3d960688e1d2698\")>>\n",
      "<bound method WebDriver.get of <selenium.webdriver.chrome.webdriver.WebDriver (session=\"c51322cc565b1d0e093b6a86d141e079\")>>\n",
      "<bound method WebDriver.get of <selenium.webdriver.chrome.webdriver.WebDriver (session=\"d2562f73058da0813fe29b4f37942fa4\")>>\n",
      "<bound method WebDriver.get of <selenium.webdriver.chrome.webdriver.WebDriver (session=\"f5013c1d5f9ad14d93dec58b791e0638\")>>\n",
      "<bound method WebDriver.get of <selenium.webdriver.chrome.webdriver.WebDriver (session=\"d439eed3d31d7816ee561e889e445681\")>>\n",
      "<bound method WebDriver.get of <selenium.webdriver.chrome.webdriver.WebDriver (session=\"8d2c47454a4b4f1917e10e607d8b052e\")>>\n",
      "<bound method WebDriver.get of <selenium.webdriver.chrome.webdriver.WebDriver (session=\"ad493e88499043a4bedb54eebfd6db04\")>>\n",
      "<bound method WebDriver.get of <selenium.webdriver.chrome.webdriver.WebDriver (session=\"242d232da0236c1310e3632d6d9b96a8\")>>\n",
      "<bound method WebDriver.get of <selenium.webdriver.chrome.webdriver.WebDriver (session=\"1ea13e8a4ff225b26b30e2667d7569ea\")>>\n",
      "<bound method WebDriver.get of <selenium.webdriver.chrome.webdriver.WebDriver (session=\"10ac743e4b2e83e95763918bed2b6c3a\")>>\n",
      "<bound method WebDriver.get of <selenium.webdriver.chrome.webdriver.WebDriver (session=\"044daab1b222d108c2d49de6db706a03\")>>\n",
      "<bound method WebDriver.get of <selenium.webdriver.chrome.webdriver.WebDriver (session=\"ce441b7dd0242447f09cdf7ba26fbda9\")>>\n",
      "<bound method WebDriver.get of <selenium.webdriver.chrome.webdriver.WebDriver (session=\"9b237034c630587de043bcd27797c7ea\")>>\n",
      "<bound method WebDriver.get of <selenium.webdriver.chrome.webdriver.WebDriver (session=\"d89f596a5b7e310bbf853a42d88f2fa0\")>>\n",
      "<bound method WebDriver.get of <selenium.webdriver.chrome.webdriver.WebDriver (session=\"bc8819a8e717f5eea04fe6485bf94cff\")>>\n",
      "<bound method WebDriver.get of <selenium.webdriver.chrome.webdriver.WebDriver (session=\"933fe187ef5b7e51015b756664ce491b\")>>\n",
      "<bound method WebDriver.get of <selenium.webdriver.chrome.webdriver.WebDriver (session=\"1998affc62f1144dff15115d8da53bc0\")>>\n",
      "<bound method WebDriver.get of <selenium.webdriver.chrome.webdriver.WebDriver (session=\"28a400faeac8c48f6c1ae7a806bd9559\")>>\n",
      "<bound method WebDriver.get of <selenium.webdriver.chrome.webdriver.WebDriver (session=\"9f6b948ea8c93c9d62920c24f00968bd\")>>\n",
      "<bound method WebDriver.get of <selenium.webdriver.chrome.webdriver.WebDriver (session=\"6fb0306bffce2361829d980071dc6abb\")>>\n",
      "<bound method WebDriver.get of <selenium.webdriver.chrome.webdriver.WebDriver (session=\"0771e26e88c58b16c804c3ce7ddd77fb\")>>\n",
      "<bound method WebDriver.get of <selenium.webdriver.chrome.webdriver.WebDriver (session=\"7cf963ddb4a27b318638f4593f182a66\")>>\n",
      "<bound method WebDriver.get of <selenium.webdriver.chrome.webdriver.WebDriver (session=\"e3fdb5a2a9d0ede61a1deca75550a479\")>>\n",
      "<bound method WebDriver.get of <selenium.webdriver.chrome.webdriver.WebDriver (session=\"9e2f7639ade4c418a618fe6cef76d303\")>>\n",
      "<bound method WebDriver.get of <selenium.webdriver.chrome.webdriver.WebDriver (session=\"0493589094dce57c0e2d33d6d907c3e6\")>>\n",
      "<bound method WebDriver.get of <selenium.webdriver.chrome.webdriver.WebDriver (session=\"753f8f46855bee311a77521dfc3d5a25\")>>\n",
      "<bound method WebDriver.get of <selenium.webdriver.chrome.webdriver.WebDriver (session=\"6fb86afaa8d5c9dbfc43139f9fb75641\")>>\n",
      "<bound method WebDriver.get of <selenium.webdriver.chrome.webdriver.WebDriver (session=\"9969f623d75f78cd8a8f838f07ea3929\")>>\n",
      "<bound method WebDriver.get of <selenium.webdriver.chrome.webdriver.WebDriver (session=\"af843c7c5a925c1c717c03079c8fd9e9\")>>\n",
      "<bound method WebDriver.get of <selenium.webdriver.chrome.webdriver.WebDriver (session=\"3469b8e44458f305573959e6a34423c7\")>>\n",
      "<bound method WebDriver.get of <selenium.webdriver.chrome.webdriver.WebDriver (session=\"88af8942823cef527c4710b39cc8b284\")>>\n",
      "<bound method WebDriver.get of <selenium.webdriver.chrome.webdriver.WebDriver (session=\"06120b0c66d0265bd32956c51392e501\")>>\n"
     ]
    },
    {
     "name": "stdout",
     "output_type": "stream",
     "text": [
      "<bound method WebDriver.get of <selenium.webdriver.chrome.webdriver.WebDriver (session=\"c71644c1b41a993193355f61bcfbc4a6\")>>\n",
      "<bound method WebDriver.get of <selenium.webdriver.chrome.webdriver.WebDriver (session=\"c2996ab5ea6b26175faa7e741d7e573d\")>>\n",
      "<bound method WebDriver.get of <selenium.webdriver.chrome.webdriver.WebDriver (session=\"2d3028aaf8b701f68968776f034b189e\")>>\n",
      "<bound method WebDriver.get of <selenium.webdriver.chrome.webdriver.WebDriver (session=\"936d5ef81a609c4c33552cfafdffa908\")>>\n",
      "<bound method WebDriver.get of <selenium.webdriver.chrome.webdriver.WebDriver (session=\"251cb429cb76d78eb4e840db77eab5e8\")>>\n",
      "<bound method WebDriver.get of <selenium.webdriver.chrome.webdriver.WebDriver (session=\"107dd935027a1e381fd22ad101f0a795\")>>\n",
      "<bound method WebDriver.get of <selenium.webdriver.chrome.webdriver.WebDriver (session=\"d5eca4e10d6c5738698c19f1fcae9c6f\")>>\n",
      "<bound method WebDriver.get of <selenium.webdriver.chrome.webdriver.WebDriver (session=\"cc9b8b4cc7dec264e3c59394ca2f1dee\")>>\n",
      "<bound method WebDriver.get of <selenium.webdriver.chrome.webdriver.WebDriver (session=\"3155f9001626081e950bb9ec74fe6480\")>>\n",
      "<bound method WebDriver.get of <selenium.webdriver.chrome.webdriver.WebDriver (session=\"dee204c586016c9f53b48c93df086597\")>>\n",
      "<bound method WebDriver.get of <selenium.webdriver.chrome.webdriver.WebDriver (session=\"415ac2d9efacd1f7a7b921ccaedfc34e\")>>\n",
      "<bound method WebDriver.get of <selenium.webdriver.chrome.webdriver.WebDriver (session=\"af497a9a73c2b4245d96d1fddb34e56f\")>>\n",
      "<bound method WebDriver.get of <selenium.webdriver.chrome.webdriver.WebDriver (session=\"852d15d197610152df72a3178de18e8c\")>>\n",
      "<bound method WebDriver.get of <selenium.webdriver.chrome.webdriver.WebDriver (session=\"8badd313176a1ad1be7207816767808d\")>>\n",
      "<bound method WebDriver.get of <selenium.webdriver.chrome.webdriver.WebDriver (session=\"ceacd1eebc864172aef2c3f4aba142f3\")>>\n",
      "<bound method WebDriver.get of <selenium.webdriver.chrome.webdriver.WebDriver (session=\"2d0777487b8b80c41788891c0301ee23\")>>\n",
      "<bound method WebDriver.get of <selenium.webdriver.chrome.webdriver.WebDriver (session=\"17df770e9ceb5ba761a5ed661c7b1fae\")>>\n",
      "<bound method WebDriver.get of <selenium.webdriver.chrome.webdriver.WebDriver (session=\"002348dd17f1021a47ee7515b84becb8\")>>\n",
      "<bound method WebDriver.get of <selenium.webdriver.chrome.webdriver.WebDriver (session=\"ab509ed95956158705f8a702daa2b8cc\")>>\n",
      "<bound method WebDriver.get of <selenium.webdriver.chrome.webdriver.WebDriver (session=\"032051393f570949a646c3d66002ef39\")>>\n",
      "<bound method WebDriver.get of <selenium.webdriver.chrome.webdriver.WebDriver (session=\"25d2f56a66c1fbfbac22a73823c56955\")>>\n",
      "<bound method WebDriver.get of <selenium.webdriver.chrome.webdriver.WebDriver (session=\"7cabc0e132762f70d218fc7d7e398fb4\")>>\n",
      "<bound method WebDriver.get of <selenium.webdriver.chrome.webdriver.WebDriver (session=\"982787d7be7430b2ad31b8da0a32ff55\")>>\n",
      "<bound method WebDriver.get of <selenium.webdriver.chrome.webdriver.WebDriver (session=\"57d1ecb6968d77fa8d0bce8c831cf1d0\")>>\n",
      "<bound method WebDriver.get of <selenium.webdriver.chrome.webdriver.WebDriver (session=\"40e2872cf9de97908b28053747e702d4\")>>\n",
      "<bound method WebDriver.get of <selenium.webdriver.chrome.webdriver.WebDriver (session=\"765603cc1e85c6de40daf56c84532bb9\")>>\n",
      "<bound method WebDriver.get of <selenium.webdriver.chrome.webdriver.WebDriver (session=\"c67e766ad6cbb64ea2321abf59bedf92\")>>\n",
      "<bound method WebDriver.get of <selenium.webdriver.chrome.webdriver.WebDriver (session=\"0ef75fcb1c6a1f6dfddadbcb3eae1f89\")>>\n",
      "<bound method WebDriver.get of <selenium.webdriver.chrome.webdriver.WebDriver (session=\"f1de8b93c7f82d87522f087cd3006816\")>>\n",
      "<bound method WebDriver.get of <selenium.webdriver.chrome.webdriver.WebDriver (session=\"c7b2953d000de79d36b1c9a67640aae4\")>>\n",
      "<bound method WebDriver.get of <selenium.webdriver.chrome.webdriver.WebDriver (session=\"1d153d92928db721acba74064a02bdd8\")>>\n",
      "<bound method WebDriver.get of <selenium.webdriver.chrome.webdriver.WebDriver (session=\"bf11735bd574b2523a92bc44bd1b7f58\")>>\n",
      "<bound method WebDriver.get of <selenium.webdriver.chrome.webdriver.WebDriver (session=\"cc176f5c0b47f38faab70e819d8bc435\")>>\n",
      "<bound method WebDriver.get of <selenium.webdriver.chrome.webdriver.WebDriver (session=\"7039b37fbc18e2007d2b237c6459b95d\")>>\n",
      "<bound method WebDriver.get of <selenium.webdriver.chrome.webdriver.WebDriver (session=\"954766582fdd2cda4b3ca9bb0242a4b0\")>>\n",
      "<bound method WebDriver.get of <selenium.webdriver.chrome.webdriver.WebDriver (session=\"51b2ce09ba3cbe7c5ea089d1bc126bd5\")>>\n",
      "<bound method WebDriver.get of <selenium.webdriver.chrome.webdriver.WebDriver (session=\"428111f14fdd105ebaf0097888ecfd42\")>>\n",
      "<bound method WebDriver.get of <selenium.webdriver.chrome.webdriver.WebDriver (session=\"44f49d3e367f854b3196fdd297cc613a\")>>\n",
      "<bound method WebDriver.get of <selenium.webdriver.chrome.webdriver.WebDriver (session=\"2b5ffa712fe1a3de16df48f0d7dd7a57\")>>\n",
      "<bound method WebDriver.get of <selenium.webdriver.chrome.webdriver.WebDriver (session=\"49b4deee6cd5a0656451236dada4da48\")>>\n",
      "<bound method WebDriver.get of <selenium.webdriver.chrome.webdriver.WebDriver (session=\"895cffe9935697e75f882c2a16432f4e\")>>\n",
      "<bound method WebDriver.get of <selenium.webdriver.chrome.webdriver.WebDriver (session=\"bb36cf101eb241331fda713f380fe970\")>>\n",
      "<bound method WebDriver.get of <selenium.webdriver.chrome.webdriver.WebDriver (session=\"42b31533d52ecb93dce678f6292fde47\")>>\n",
      "<bound method WebDriver.get of <selenium.webdriver.chrome.webdriver.WebDriver (session=\"2ea60b1ff1858a0005a57e6c94cf4cd2\")>>\n",
      "<bound method WebDriver.get of <selenium.webdriver.chrome.webdriver.WebDriver (session=\"83b2132fc2470028e12d955c6d0042fa\")>>\n",
      "<bound method WebDriver.get of <selenium.webdriver.chrome.webdriver.WebDriver (session=\"3bc9f945714fd362b2423b2a45bd299a\")>>\n",
      "<bound method WebDriver.get of <selenium.webdriver.chrome.webdriver.WebDriver (session=\"7afd83a35012cbb3dfc4cfea3a3ccdc1\")>>\n",
      "<bound method WebDriver.get of <selenium.webdriver.chrome.webdriver.WebDriver (session=\"7c4bcdc72c249ebf1beb205835c6c71c\")>>\n",
      "<bound method WebDriver.get of <selenium.webdriver.chrome.webdriver.WebDriver (session=\"6d42b4aaeb1d263480de9bc9f48d7c2d\")>>\n",
      "<bound method WebDriver.get of <selenium.webdriver.chrome.webdriver.WebDriver (session=\"341842a215aca6262f221e59776c6245\")>>\n",
      "<bound method WebDriver.get of <selenium.webdriver.chrome.webdriver.WebDriver (session=\"f19b9af6c60cb9af8436e6c46badbee4\")>>\n",
      "<bound method WebDriver.get of <selenium.webdriver.chrome.webdriver.WebDriver (session=\"96ab74a14741b763827a42c7af740de8\")>>\n",
      "<bound method WebDriver.get of <selenium.webdriver.chrome.webdriver.WebDriver (session=\"1ef1e6627ed292ff93411697e846a4a6\")>>\n",
      "<bound method WebDriver.get of <selenium.webdriver.chrome.webdriver.WebDriver (session=\"272bdf828f9b7cb45fe163552d535f70\")>>\n",
      "<bound method WebDriver.get of <selenium.webdriver.chrome.webdriver.WebDriver (session=\"baf95cf3d0e5cad7396592575dd89bab\")>>\n",
      "<bound method WebDriver.get of <selenium.webdriver.chrome.webdriver.WebDriver (session=\"749f723bc209aec0db487c28c201a0c2\")>>\n",
      "<bound method WebDriver.get of <selenium.webdriver.chrome.webdriver.WebDriver (session=\"78186541e7d577dc0efb014d7d5025c3\")>>\n",
      "<bound method WebDriver.get of <selenium.webdriver.chrome.webdriver.WebDriver (session=\"d7d2444495046d4ee9347c458543cb30\")>>\n",
      "<bound method WebDriver.get of <selenium.webdriver.chrome.webdriver.WebDriver (session=\"04d6103c4e594bbb4818dd33ea2077b2\")>>\n",
      "<bound method WebDriver.get of <selenium.webdriver.chrome.webdriver.WebDriver (session=\"b935bf1c68d2618d641493873898d783\")>>\n",
      "<bound method WebDriver.get of <selenium.webdriver.chrome.webdriver.WebDriver (session=\"1a0e0e49ddd709ab78bf691e565ca496\")>>\n",
      "<bound method WebDriver.get of <selenium.webdriver.chrome.webdriver.WebDriver (session=\"8a79845fa794d95065dd8d9db4f943b7\")>>\n",
      "<bound method WebDriver.get of <selenium.webdriver.chrome.webdriver.WebDriver (session=\"f630866bec666d069bdc2e5fa969f9b1\")>>\n",
      "<bound method WebDriver.get of <selenium.webdriver.chrome.webdriver.WebDriver (session=\"71351facd1e5275544d10a9119d7a85b\")>>\n",
      "<bound method WebDriver.get of <selenium.webdriver.chrome.webdriver.WebDriver (session=\"27792b002ac8ff428fe6d90b6de992cd\")>>\n",
      "<bound method WebDriver.get of <selenium.webdriver.chrome.webdriver.WebDriver (session=\"126b2e0208cf1f196a9a69c4f1acab3e\")>>\n"
     ]
    },
    {
     "name": "stdout",
     "output_type": "stream",
     "text": [
      "<bound method WebDriver.get of <selenium.webdriver.chrome.webdriver.WebDriver (session=\"c39949d25f3a178eed24324bee8cd9cd\")>>\n",
      "<bound method WebDriver.get of <selenium.webdriver.chrome.webdriver.WebDriver (session=\"cac3a1ee5f0dacad3ab725ca18dfa15e\")>>\n",
      "<bound method WebDriver.get of <selenium.webdriver.chrome.webdriver.WebDriver (session=\"93bfa74fabf69656f86dbfe80cd11546\")>>\n",
      "<bound method WebDriver.get of <selenium.webdriver.chrome.webdriver.WebDriver (session=\"c07b50612dc2bbda41c58ffcae55db57\")>>\n",
      "<bound method WebDriver.get of <selenium.webdriver.chrome.webdriver.WebDriver (session=\"6213309528dac857c68dcf7102a98b5a\")>>\n",
      "<bound method WebDriver.get of <selenium.webdriver.chrome.webdriver.WebDriver (session=\"dd30157778f9f0a089adcf1b22d16064\")>>\n",
      "<bound method WebDriver.get of <selenium.webdriver.chrome.webdriver.WebDriver (session=\"10774d784a475ea2919ee1c9344b0a4d\")>>\n",
      "<bound method WebDriver.get of <selenium.webdriver.chrome.webdriver.WebDriver (session=\"b2d6dc994c4eaf6a977365088dc39c0f\")>>\n",
      "<bound method WebDriver.get of <selenium.webdriver.chrome.webdriver.WebDriver (session=\"aa9cb79497b32d43a63bcce7f9990c58\")>>\n",
      "<bound method WebDriver.get of <selenium.webdriver.chrome.webdriver.WebDriver (session=\"5134661d1bf35b86a1cbb73af7cf4223\")>>\n",
      "<bound method WebDriver.get of <selenium.webdriver.chrome.webdriver.WebDriver (session=\"f998a14764d0f460bcf1233c1a1a6c42\")>>\n",
      "<bound method WebDriver.get of <selenium.webdriver.chrome.webdriver.WebDriver (session=\"1e457edab597dcc31e6387bffe1bd725\")>>\n",
      "<bound method WebDriver.get of <selenium.webdriver.chrome.webdriver.WebDriver (session=\"997eb89862da7e6a0d5a80b22ee06693\")>>\n",
      "<bound method WebDriver.get of <selenium.webdriver.chrome.webdriver.WebDriver (session=\"773f92bae8c9aca63dc697b8e20d7065\")>>\n",
      "<bound method WebDriver.get of <selenium.webdriver.chrome.webdriver.WebDriver (session=\"e6e87ee2f8e6a8f9bb9be909ee38ab06\")>>\n",
      "<bound method WebDriver.get of <selenium.webdriver.chrome.webdriver.WebDriver (session=\"fbb12ac5540ae15667b544f774f62fe5\")>>\n",
      "<bound method WebDriver.get of <selenium.webdriver.chrome.webdriver.WebDriver (session=\"1b5e09c0051a96d40fa06f76b2dcbc95\")>>\n",
      "<bound method WebDriver.get of <selenium.webdriver.chrome.webdriver.WebDriver (session=\"4ad01c1f9cdb6d8eac9c2a580b18ef38\")>>\n",
      "<bound method WebDriver.get of <selenium.webdriver.chrome.webdriver.WebDriver (session=\"a34094a1832d20f1b248a617c0630777\")>>\n",
      "<bound method WebDriver.get of <selenium.webdriver.chrome.webdriver.WebDriver (session=\"b533caec4ae3c611fe80eb4d2b390cf5\")>>\n",
      "<bound method WebDriver.get of <selenium.webdriver.chrome.webdriver.WebDriver (session=\"668da3d3d9442affec72ecd46fd7c26e\")>>\n",
      "<bound method WebDriver.get of <selenium.webdriver.chrome.webdriver.WebDriver (session=\"887461ea2ed154d5de0c632d94a9d3ce\")>>\n",
      "<bound method WebDriver.get of <selenium.webdriver.chrome.webdriver.WebDriver (session=\"2540b8ef3fb9f76456e875fdb303721d\")>>\n",
      "<bound method WebDriver.get of <selenium.webdriver.chrome.webdriver.WebDriver (session=\"0832c8d20ffa2ea5f72461b5b03352dc\")>>\n",
      "<bound method WebDriver.get of <selenium.webdriver.chrome.webdriver.WebDriver (session=\"b383f09ee1eb323fd4c778b0e76c5745\")>>\n",
      "<bound method WebDriver.get of <selenium.webdriver.chrome.webdriver.WebDriver (session=\"489f67bb3919c5f56225b8992adaa89b\")>>\n",
      "<bound method WebDriver.get of <selenium.webdriver.chrome.webdriver.WebDriver (session=\"72a3afcb6d54f5be668cfa56cca1325c\")>>\n",
      "<bound method WebDriver.get of <selenium.webdriver.chrome.webdriver.WebDriver (session=\"2a24183e6c12b218631a2321094fc7c5\")>>\n",
      "<bound method WebDriver.get of <selenium.webdriver.chrome.webdriver.WebDriver (session=\"98fa57e0fcc353e71b3a5a541ebda428\")>>\n",
      "<bound method WebDriver.get of <selenium.webdriver.chrome.webdriver.WebDriver (session=\"6e6ef154165441446851554eb95d846d\")>>\n",
      "<bound method WebDriver.get of <selenium.webdriver.chrome.webdriver.WebDriver (session=\"62c59475677b0be2537b49ae953128a1\")>>\n",
      "<bound method WebDriver.get of <selenium.webdriver.chrome.webdriver.WebDriver (session=\"5418a8156df2aa8a330e36ed71f87265\")>>\n",
      "<bound method WebDriver.get of <selenium.webdriver.chrome.webdriver.WebDriver (session=\"75e2671ea22efc7e94a53b9713c58832\")>>\n",
      "<bound method WebDriver.get of <selenium.webdriver.chrome.webdriver.WebDriver (session=\"c485982d9fe091d844057d3a51983558\")>>\n",
      "<bound method WebDriver.get of <selenium.webdriver.chrome.webdriver.WebDriver (session=\"c9852ad4fd170a50dfae25fdf1d4cfa2\")>>\n",
      "<bound method WebDriver.get of <selenium.webdriver.chrome.webdriver.WebDriver (session=\"e0ae06f2c2d6d4c8d04c6b97db2e5b7b\")>>\n",
      "<bound method WebDriver.get of <selenium.webdriver.chrome.webdriver.WebDriver (session=\"f27228951f88bf0dab3108dce6c675fa\")>>\n",
      "<bound method WebDriver.get of <selenium.webdriver.chrome.webdriver.WebDriver (session=\"1015ff9f05626d8bc593ef4dd11fe1df\")>>\n",
      "<bound method WebDriver.get of <selenium.webdriver.chrome.webdriver.WebDriver (session=\"d137056a8f54e10feb85099bead21454\")>>\n",
      "<bound method WebDriver.get of <selenium.webdriver.chrome.webdriver.WebDriver (session=\"1b07ec39e2358024ec734ac85e3314cd\")>>\n",
      "<bound method WebDriver.get of <selenium.webdriver.chrome.webdriver.WebDriver (session=\"3935452435cabe5e5e9327bd5b6b9231\")>>\n",
      "<bound method WebDriver.get of <selenium.webdriver.chrome.webdriver.WebDriver (session=\"1a422c2ac778fdf8fe5a33358809db54\")>>\n",
      "<bound method WebDriver.get of <selenium.webdriver.chrome.webdriver.WebDriver (session=\"de2d6725dc1f77eea755561c3f3ca300\")>>\n",
      "<bound method WebDriver.get of <selenium.webdriver.chrome.webdriver.WebDriver (session=\"1d3694f4ac7dfa6ad81643e451c333a4\")>>\n",
      "<bound method WebDriver.get of <selenium.webdriver.chrome.webdriver.WebDriver (session=\"869437be0498733a3ad8ef37ea54c565\")>>\n",
      "<bound method WebDriver.get of <selenium.webdriver.chrome.webdriver.WebDriver (session=\"5d12ea5a8e21dbf17a2ac610c217f49e\")>>\n",
      "<bound method WebDriver.get of <selenium.webdriver.chrome.webdriver.WebDriver (session=\"175c4240305b78222b5042d2e88febb4\")>>\n",
      "<bound method WebDriver.get of <selenium.webdriver.chrome.webdriver.WebDriver (session=\"7a1d0297ebdd7541a4d312c480b7b44d\")>>\n",
      "<bound method WebDriver.get of <selenium.webdriver.chrome.webdriver.WebDriver (session=\"ee7432d452dc49a3f688c7c8c5ead941\")>>\n",
      "<bound method WebDriver.get of <selenium.webdriver.chrome.webdriver.WebDriver (session=\"99d916f88dd0889eadc97f0827827581\")>>\n",
      "<bound method WebDriver.get of <selenium.webdriver.chrome.webdriver.WebDriver (session=\"d7fd2724cc956369dac4ad185b061c72\")>>\n",
      "<bound method WebDriver.get of <selenium.webdriver.chrome.webdriver.WebDriver (session=\"f9b15ed6291e0b5315184ec361d0e332\")>>\n",
      "<bound method WebDriver.get of <selenium.webdriver.chrome.webdriver.WebDriver (session=\"b96736d7705c8febf639b92362150efc\")>>\n",
      "<bound method WebDriver.get of <selenium.webdriver.chrome.webdriver.WebDriver (session=\"9c54f9251ea4a6272f3a5664bd3a337c\")>>\n",
      "<bound method WebDriver.get of <selenium.webdriver.chrome.webdriver.WebDriver (session=\"c351c0ddc28379deaf326f577f38799a\")>>\n",
      "<bound method WebDriver.get of <selenium.webdriver.chrome.webdriver.WebDriver (session=\"818c656b2b25e57379a4ede76cfaac96\")>>\n",
      "<bound method WebDriver.get of <selenium.webdriver.chrome.webdriver.WebDriver (session=\"a54afb6d7ed4269d635c2086a85e9454\")>>\n",
      "<bound method WebDriver.get of <selenium.webdriver.chrome.webdriver.WebDriver (session=\"5dd4f3ffb279b61b0f6d63cbb0d8fba5\")>>\n",
      "<bound method WebDriver.get of <selenium.webdriver.chrome.webdriver.WebDriver (session=\"cf6a8840ec4225760bc32f5b99fee9d1\")>>\n",
      "<bound method WebDriver.get of <selenium.webdriver.chrome.webdriver.WebDriver (session=\"46c6af2dfe1c37436c906a7f6bdc230e\")>>\n",
      "<bound method WebDriver.get of <selenium.webdriver.chrome.webdriver.WebDriver (session=\"998780a1f7afa7bdb9722df34da7ff94\")>>\n",
      "<bound method WebDriver.get of <selenium.webdriver.chrome.webdriver.WebDriver (session=\"c5086becab6b401f036cbdafdfbea23f\")>>\n",
      "<bound method WebDriver.get of <selenium.webdriver.chrome.webdriver.WebDriver (session=\"ed19c8fbcff1d4b2d0c9006dd6dc7c8c\")>>\n",
      "<bound method WebDriver.get of <selenium.webdriver.chrome.webdriver.WebDriver (session=\"1181a8c5090d3d38c242350e4bc66e72\")>>\n",
      "<bound method WebDriver.get of <selenium.webdriver.chrome.webdriver.WebDriver (session=\"1ac94b66d49781304f70bb3d2197d294\")>>\n",
      "<bound method WebDriver.get of <selenium.webdriver.chrome.webdriver.WebDriver (session=\"045df69991592413ffc217087cced6fc\")>>\n"
     ]
    },
    {
     "name": "stdout",
     "output_type": "stream",
     "text": [
      "<bound method WebDriver.get of <selenium.webdriver.chrome.webdriver.WebDriver (session=\"e5de5ccaf924c910817b306f3cd7ed56\")>>\n",
      "<bound method WebDriver.get of <selenium.webdriver.chrome.webdriver.WebDriver (session=\"d35111676f871f9f809f40a3f37364a6\")>>\n",
      "<bound method WebDriver.get of <selenium.webdriver.chrome.webdriver.WebDriver (session=\"cd70b2b09a67b506ccb6beda33d5a29e\")>>\n",
      "<bound method WebDriver.get of <selenium.webdriver.chrome.webdriver.WebDriver (session=\"dee4181e557055cc8d0a4d4b935487bd\")>>\n",
      "<bound method WebDriver.get of <selenium.webdriver.chrome.webdriver.WebDriver (session=\"71257d08f0c3d96907c7c71ccb8f95ae\")>>\n",
      "<bound method WebDriver.get of <selenium.webdriver.chrome.webdriver.WebDriver (session=\"4457a4a9a2dfcaf147ceffe46365aede\")>>\n",
      "<bound method WebDriver.get of <selenium.webdriver.chrome.webdriver.WebDriver (session=\"c75b7c50a7e2fd8930a8cb58f34a3979\")>>\n",
      "<bound method WebDriver.get of <selenium.webdriver.chrome.webdriver.WebDriver (session=\"483c64649286242677bec71fb3fc135a\")>>\n",
      "<bound method WebDriver.get of <selenium.webdriver.chrome.webdriver.WebDriver (session=\"b7a839a570c6ecd7012e41ed9d75b60d\")>>\n",
      "<bound method WebDriver.get of <selenium.webdriver.chrome.webdriver.WebDriver (session=\"bc5375217b6cf5b8da99ab6f4c66d22a\")>>\n",
      "<bound method WebDriver.get of <selenium.webdriver.chrome.webdriver.WebDriver (session=\"fae8451d5c8913292393c643b9d644c1\")>>\n",
      "<bound method WebDriver.get of <selenium.webdriver.chrome.webdriver.WebDriver (session=\"101046227b855e92baf404c5d8e61adf\")>>\n",
      "<bound method WebDriver.get of <selenium.webdriver.chrome.webdriver.WebDriver (session=\"82da627681b45f1d0b7ea279b087425f\")>>\n",
      "<bound method WebDriver.get of <selenium.webdriver.chrome.webdriver.WebDriver (session=\"ed3dc46ce0ebcf6c4c08ce4cee02f2fc\")>>\n",
      "<bound method WebDriver.get of <selenium.webdriver.chrome.webdriver.WebDriver (session=\"1bd71c7e95c1fc95c69627bd8d92d757\")>>\n",
      "<bound method WebDriver.get of <selenium.webdriver.chrome.webdriver.WebDriver (session=\"12e35701bab5bee98b828e9300478ebe\")>>\n",
      "<bound method WebDriver.get of <selenium.webdriver.chrome.webdriver.WebDriver (session=\"9b6dc6e2b173886da0db5c49637af962\")>>\n",
      "<bound method WebDriver.get of <selenium.webdriver.chrome.webdriver.WebDriver (session=\"48934fdda0389109f69542117c225193\")>>\n",
      "<bound method WebDriver.get of <selenium.webdriver.chrome.webdriver.WebDriver (session=\"a70cb3d06c1cf7130a37838c09d8f2c9\")>>\n",
      "<bound method WebDriver.get of <selenium.webdriver.chrome.webdriver.WebDriver (session=\"582f6af77f1b5d5756db9715765f8e98\")>>\n",
      "<bound method WebDriver.get of <selenium.webdriver.chrome.webdriver.WebDriver (session=\"ee52378d8aa856243fa1b74a1c680f9f\")>>\n",
      "<bound method WebDriver.get of <selenium.webdriver.chrome.webdriver.WebDriver (session=\"a30afbfc73b238438d6958ae3762dc02\")>>\n",
      "<bound method WebDriver.get of <selenium.webdriver.chrome.webdriver.WebDriver (session=\"73ac1ef54f82baaa38d6806a80ccf249\")>>\n",
      "<bound method WebDriver.get of <selenium.webdriver.chrome.webdriver.WebDriver (session=\"3b12481c506d0195cb930c00c50a5987\")>>\n",
      "<bound method WebDriver.get of <selenium.webdriver.chrome.webdriver.WebDriver (session=\"bacc9bcebe28a458ea510ba5249ce4a9\")>>\n",
      "<bound method WebDriver.get of <selenium.webdriver.chrome.webdriver.WebDriver (session=\"06f44825b0e272942100723d1274899e\")>>\n",
      "<bound method WebDriver.get of <selenium.webdriver.chrome.webdriver.WebDriver (session=\"ae8d3948873b8a3468a42b423ccb012f\")>>\n",
      "<bound method WebDriver.get of <selenium.webdriver.chrome.webdriver.WebDriver (session=\"b1fc5633506ae69b8f71bac2ccf4772c\")>>\n",
      "<bound method WebDriver.get of <selenium.webdriver.chrome.webdriver.WebDriver (session=\"a7296be32fa2c4ee8ea7591ded269331\")>>\n",
      "<bound method WebDriver.get of <selenium.webdriver.chrome.webdriver.WebDriver (session=\"bc4f05c4b18301b3e3054e7567f2ff41\")>>\n",
      "<bound method WebDriver.get of <selenium.webdriver.chrome.webdriver.WebDriver (session=\"f7c9940d52ce82742bd236a74cfca27d\")>>\n",
      "<bound method WebDriver.get of <selenium.webdriver.chrome.webdriver.WebDriver (session=\"18c99e613599bdb13cc0a0a228f4be53\")>>\n",
      "<bound method WebDriver.get of <selenium.webdriver.chrome.webdriver.WebDriver (session=\"d74b85d987a86ca97f4a63ed89a1413d\")>>\n",
      "<bound method WebDriver.get of <selenium.webdriver.chrome.webdriver.WebDriver (session=\"13f00a0f254de8ae2e787afbb8ba7a20\")>>\n",
      "<bound method WebDriver.get of <selenium.webdriver.chrome.webdriver.WebDriver (session=\"b601c04cb00622a7a563876764325fc7\")>>\n",
      "<bound method WebDriver.get of <selenium.webdriver.chrome.webdriver.WebDriver (session=\"0240c68cdc79e78dae4cd1a8f9c84138\")>>\n",
      "<bound method WebDriver.get of <selenium.webdriver.chrome.webdriver.WebDriver (session=\"dcdd055cd6e1db9a038face5ca0597a7\")>>\n",
      "<bound method WebDriver.get of <selenium.webdriver.chrome.webdriver.WebDriver (session=\"72ee24602e44ae54ac9f60e7f2e5441d\")>>\n",
      "<bound method WebDriver.get of <selenium.webdriver.chrome.webdriver.WebDriver (session=\"c297faece3f1ded56c9ed0bb6367b41c\")>>\n",
      "<bound method WebDriver.get of <selenium.webdriver.chrome.webdriver.WebDriver (session=\"397e172180d1c0af0865cfa98a53c116\")>>\n",
      "<bound method WebDriver.get of <selenium.webdriver.chrome.webdriver.WebDriver (session=\"5cbec629e9138876d1d1d06d853458c4\")>>\n",
      "<bound method WebDriver.get of <selenium.webdriver.chrome.webdriver.WebDriver (session=\"4d86d8bc421bf947e97cb2490de62335\")>>\n",
      "<bound method WebDriver.get of <selenium.webdriver.chrome.webdriver.WebDriver (session=\"2895608fd6a8cbcca1fb6315fabf009b\")>>\n",
      "<bound method WebDriver.get of <selenium.webdriver.chrome.webdriver.WebDriver (session=\"84e91688a07083d29e3fff00a6cc87ff\")>>\n",
      "<bound method WebDriver.get of <selenium.webdriver.chrome.webdriver.WebDriver (session=\"578faa3c87ab3135fdf5b2f2b5caf24c\")>>\n",
      "<bound method WebDriver.get of <selenium.webdriver.chrome.webdriver.WebDriver (session=\"4cc6aaa6095cb1239803641b345863ac\")>>\n",
      "<bound method WebDriver.get of <selenium.webdriver.chrome.webdriver.WebDriver (session=\"d30fca5ec81830984fc7138594077c79\")>>\n",
      "<bound method WebDriver.get of <selenium.webdriver.chrome.webdriver.WebDriver (session=\"cb6a2d87d4a0217cee49327e1faf4f0c\")>>\n",
      "<bound method WebDriver.get of <selenium.webdriver.chrome.webdriver.WebDriver (session=\"9ce96d04aa8ff917d5fc038454deb320\")>>\n",
      "<bound method WebDriver.get of <selenium.webdriver.chrome.webdriver.WebDriver (session=\"9b26af3e69ff96146e042e70b5811d75\")>>\n",
      "<bound method WebDriver.get of <selenium.webdriver.chrome.webdriver.WebDriver (session=\"5bac394aee15fb64483c359871a9b844\")>>\n",
      "<bound method WebDriver.get of <selenium.webdriver.chrome.webdriver.WebDriver (session=\"18c039706e42c3a62ff6ff63a4a0e22c\")>>\n",
      "<bound method WebDriver.get of <selenium.webdriver.chrome.webdriver.WebDriver (session=\"a8aea04dc9dcc6653486bc04970b33ad\")>>\n",
      "<bound method WebDriver.get of <selenium.webdriver.chrome.webdriver.WebDriver (session=\"dec193b24c629c9590744ed2d35d367b\")>>\n",
      "<bound method WebDriver.get of <selenium.webdriver.chrome.webdriver.WebDriver (session=\"6981cb3077d8241cd6c4ac67993e572e\")>>\n",
      "<bound method WebDriver.get of <selenium.webdriver.chrome.webdriver.WebDriver (session=\"e30ef68350b5bf70eae84cf776a7afd1\")>>\n",
      "<bound method WebDriver.get of <selenium.webdriver.chrome.webdriver.WebDriver (session=\"6abba019d7584bf7154a2b14d8aeecd6\")>>\n",
      "<bound method WebDriver.get of <selenium.webdriver.chrome.webdriver.WebDriver (session=\"baf1bbda08e7d64aa74e6f8fb633edf1\")>>\n",
      "<bound method WebDriver.get of <selenium.webdriver.chrome.webdriver.WebDriver (session=\"617add659272bc12153e090e7aeba481\")>>\n",
      "<bound method WebDriver.get of <selenium.webdriver.chrome.webdriver.WebDriver (session=\"de8f106143c5b52e02f7c95d71e6cbff\")>>\n",
      "<bound method WebDriver.get of <selenium.webdriver.chrome.webdriver.WebDriver (session=\"b532d1bdc9252c5c05efa3b90586c655\")>>\n",
      "<bound method WebDriver.get of <selenium.webdriver.chrome.webdriver.WebDriver (session=\"6f92ce4a6bea34fab2018c0347a27a96\")>>\n",
      "<bound method WebDriver.get of <selenium.webdriver.chrome.webdriver.WebDriver (session=\"18b2fe36f1c8e758bd458755c199756a\")>>\n",
      "<bound method WebDriver.get of <selenium.webdriver.chrome.webdriver.WebDriver (session=\"789bc1baf2016c2496c0bee0f041e11e\")>>\n",
      "<bound method WebDriver.get of <selenium.webdriver.chrome.webdriver.WebDriver (session=\"4609ac80068ca2057fce04e1f34780da\")>>\n",
      "<bound method WebDriver.get of <selenium.webdriver.chrome.webdriver.WebDriver (session=\"7f4235f9482529562f7a4e083cf25177\")>>\n"
     ]
    },
    {
     "name": "stdout",
     "output_type": "stream",
     "text": [
      "<bound method WebDriver.get of <selenium.webdriver.chrome.webdriver.WebDriver (session=\"779c40471b6223946ceaec50eb70ac5c\")>>\n",
      "<bound method WebDriver.get of <selenium.webdriver.chrome.webdriver.WebDriver (session=\"9058c87a31a63c12420f241085122f61\")>>\n",
      "<bound method WebDriver.get of <selenium.webdriver.chrome.webdriver.WebDriver (session=\"e6a922d07b2c7e360fbffbf55803d62d\")>>\n",
      "<bound method WebDriver.get of <selenium.webdriver.chrome.webdriver.WebDriver (session=\"ef9925c3e5d28e3b1e7a068def730559\")>>\n",
      "<bound method WebDriver.get of <selenium.webdriver.chrome.webdriver.WebDriver (session=\"b5cd46b3693af3e41d85a84719ae0447\")>>\n",
      "<bound method WebDriver.get of <selenium.webdriver.chrome.webdriver.WebDriver (session=\"ab636b560939ca2526e743fd75d0abb6\")>>\n",
      "<bound method WebDriver.get of <selenium.webdriver.chrome.webdriver.WebDriver (session=\"fb9ab8e01a90dd579ba78487f48ddd0d\")>>\n",
      "<bound method WebDriver.get of <selenium.webdriver.chrome.webdriver.WebDriver (session=\"5905a1a3373ae8aa765d5b59b69a30ba\")>>\n",
      "<bound method WebDriver.get of <selenium.webdriver.chrome.webdriver.WebDriver (session=\"16c7ff2873d939a9eb22b4bc6d6f1833\")>>\n",
      "<bound method WebDriver.get of <selenium.webdriver.chrome.webdriver.WebDriver (session=\"0c3e71220b3e29d3f6dbf41f1ef6ad50\")>>\n",
      "<bound method WebDriver.get of <selenium.webdriver.chrome.webdriver.WebDriver (session=\"010861c95692d84f2986ccb92f3f30f1\")>>\n",
      "<bound method WebDriver.get of <selenium.webdriver.chrome.webdriver.WebDriver (session=\"8e7e1be2822022dda52748fc8cf4c33f\")>>\n",
      "<bound method WebDriver.get of <selenium.webdriver.chrome.webdriver.WebDriver (session=\"26c295040793dbadb0f61298289a26b0\")>>\n",
      "<bound method WebDriver.get of <selenium.webdriver.chrome.webdriver.WebDriver (session=\"de965c730e8739c268d50ea100edc677\")>>\n",
      "<bound method WebDriver.get of <selenium.webdriver.chrome.webdriver.WebDriver (session=\"09b33ef30a7323d759b68a275e54b355\")>>\n",
      "<bound method WebDriver.get of <selenium.webdriver.chrome.webdriver.WebDriver (session=\"781832e243edb7c79480b995ba48bbcd\")>>\n",
      "<bound method WebDriver.get of <selenium.webdriver.chrome.webdriver.WebDriver (session=\"c98353b2cf64ec626317617973098006\")>>\n",
      "<bound method WebDriver.get of <selenium.webdriver.chrome.webdriver.WebDriver (session=\"96fd7b161f8092aa5dbabd3096b93820\")>>\n",
      "<bound method WebDriver.get of <selenium.webdriver.chrome.webdriver.WebDriver (session=\"9b73381499b97a0928a081040655d1ab\")>>\n",
      "<bound method WebDriver.get of <selenium.webdriver.chrome.webdriver.WebDriver (session=\"3998bb817a64f4d83d751548478e13f0\")>>\n",
      "<bound method WebDriver.get of <selenium.webdriver.chrome.webdriver.WebDriver (session=\"12236fd6403e91b26557544c183119b9\")>>\n",
      "<bound method WebDriver.get of <selenium.webdriver.chrome.webdriver.WebDriver (session=\"faa9fb2f5a285602c331d7354bd262d3\")>>\n",
      "<bound method WebDriver.get of <selenium.webdriver.chrome.webdriver.WebDriver (session=\"e5104b30c808c4160502ba1ce89633bd\")>>\n",
      "<bound method WebDriver.get of <selenium.webdriver.chrome.webdriver.WebDriver (session=\"3452e149a318267a20a553575bee711f\")>>\n",
      "<bound method WebDriver.get of <selenium.webdriver.chrome.webdriver.WebDriver (session=\"7c223ba9f9cfe93de784d6bab8089bcd\")>>\n",
      "<bound method WebDriver.get of <selenium.webdriver.chrome.webdriver.WebDriver (session=\"5ac63fb95c9d01f1cf13807592afaae2\")>>\n",
      "<bound method WebDriver.get of <selenium.webdriver.chrome.webdriver.WebDriver (session=\"3209bde6362cebdd953ce060ebaa37a1\")>>\n",
      "<bound method WebDriver.get of <selenium.webdriver.chrome.webdriver.WebDriver (session=\"f7bde1ba72ac102b0faf8c1e3bda99fd\")>>\n",
      "<bound method WebDriver.get of <selenium.webdriver.chrome.webdriver.WebDriver (session=\"21d0079886e94e96cfe3ee5857bdc015\")>>\n",
      "<bound method WebDriver.get of <selenium.webdriver.chrome.webdriver.WebDriver (session=\"85407db01ed037a6e1e41b7a001be605\")>>\n",
      "<bound method WebDriver.get of <selenium.webdriver.chrome.webdriver.WebDriver (session=\"734148b0e8698b5fd72f9dc59446aeaf\")>>\n",
      "<bound method WebDriver.get of <selenium.webdriver.chrome.webdriver.WebDriver (session=\"5b90d621914fa743cbc33ebaf96e26eb\")>>\n",
      "<bound method WebDriver.get of <selenium.webdriver.chrome.webdriver.WebDriver (session=\"4a7f881adfd2029c9020dc4f1e2fdbf7\")>>\n",
      "<bound method WebDriver.get of <selenium.webdriver.chrome.webdriver.WebDriver (session=\"a704218d060e737b101272d73985d7fc\")>>\n",
      "<bound method WebDriver.get of <selenium.webdriver.chrome.webdriver.WebDriver (session=\"aaeeb8a0e6225858ab91a5ae6e2d5a51\")>>\n",
      "<bound method WebDriver.get of <selenium.webdriver.chrome.webdriver.WebDriver (session=\"fa10ad8a2f691a020b86fecf1c887e67\")>>\n",
      "<bound method WebDriver.get of <selenium.webdriver.chrome.webdriver.WebDriver (session=\"adb775807e1a250b04e0b5824ff72e00\")>>\n",
      "<bound method WebDriver.get of <selenium.webdriver.chrome.webdriver.WebDriver (session=\"d1b1c4553cb4096cbadbaffb104f7401\")>>\n",
      "<bound method WebDriver.get of <selenium.webdriver.chrome.webdriver.WebDriver (session=\"4e98d1c3c4ffd4c8af5f224e46812028\")>>\n",
      "<bound method WebDriver.get of <selenium.webdriver.chrome.webdriver.WebDriver (session=\"af653033f1805809376480c77c7a4f0a\")>>\n",
      "<bound method WebDriver.get of <selenium.webdriver.chrome.webdriver.WebDriver (session=\"a7b01ca397d821057ca87a1da54a7702\")>>\n",
      "<bound method WebDriver.get of <selenium.webdriver.chrome.webdriver.WebDriver (session=\"9360f031db60bc4a63dc2b9c971bc916\")>>\n",
      "<bound method WebDriver.get of <selenium.webdriver.chrome.webdriver.WebDriver (session=\"6358278aa9c15912f6c9aed043898875\")>>\n",
      "<bound method WebDriver.get of <selenium.webdriver.chrome.webdriver.WebDriver (session=\"bb5b29d5a5b19b716cb5bf7425d3d90e\")>>\n",
      "<bound method WebDriver.get of <selenium.webdriver.chrome.webdriver.WebDriver (session=\"491c075c3e906de70cdc57ca23d24753\")>>\n",
      "<bound method WebDriver.get of <selenium.webdriver.chrome.webdriver.WebDriver (session=\"fad4066c965a067417538cc7bc369e0a\")>>\n",
      "<bound method WebDriver.get of <selenium.webdriver.chrome.webdriver.WebDriver (session=\"ace6cd6123a3a0e5bb1f8cdf8d160835\")>>\n",
      "<bound method WebDriver.get of <selenium.webdriver.chrome.webdriver.WebDriver (session=\"2ee6a0bc8a6231ea227a0ebb7712548f\")>>\n",
      "<bound method WebDriver.get of <selenium.webdriver.chrome.webdriver.WebDriver (session=\"161cf21f52f2029521bd27cccbda0c60\")>>\n",
      "<bound method WebDriver.get of <selenium.webdriver.chrome.webdriver.WebDriver (session=\"55bc4277c724b634797c779d47d7f4ae\")>>\n",
      "<bound method WebDriver.get of <selenium.webdriver.chrome.webdriver.WebDriver (session=\"c687c097183b6c5db9b8ddd25cf77a07\")>>\n",
      "<bound method WebDriver.get of <selenium.webdriver.chrome.webdriver.WebDriver (session=\"8e6520759e31b765059c781690cd3aa4\")>>\n",
      "<bound method WebDriver.get of <selenium.webdriver.chrome.webdriver.WebDriver (session=\"06dcf73f412ca4d324fee23204ee1e26\")>>\n",
      "<bound method WebDriver.get of <selenium.webdriver.chrome.webdriver.WebDriver (session=\"af18ec31484d522b512442e5de7ebacb\")>>\n",
      "<bound method WebDriver.get of <selenium.webdriver.chrome.webdriver.WebDriver (session=\"ad36559ca84d7d79c99747890f11cef4\")>>\n",
      "<bound method WebDriver.get of <selenium.webdriver.chrome.webdriver.WebDriver (session=\"176bbb0de335e2a43ea0ffcb15691d33\")>>\n",
      "<bound method WebDriver.get of <selenium.webdriver.chrome.webdriver.WebDriver (session=\"9aa3555e68b850f1e36b50b25ed84a42\")>>\n",
      "<bound method WebDriver.get of <selenium.webdriver.chrome.webdriver.WebDriver (session=\"8e6c7a05f7d53be1965c2c2e00565634\")>>\n",
      "<bound method WebDriver.get of <selenium.webdriver.chrome.webdriver.WebDriver (session=\"c8178c638694959e14a036993deeba3c\")>>\n",
      "<bound method WebDriver.get of <selenium.webdriver.chrome.webdriver.WebDriver (session=\"b5925d53b6b69738d9f0a342e22187bf\")>>\n",
      "<bound method WebDriver.get of <selenium.webdriver.chrome.webdriver.WebDriver (session=\"9bb483902573d5d4bb28ff2575a6d76c\")>>\n",
      "<bound method WebDriver.get of <selenium.webdriver.chrome.webdriver.WebDriver (session=\"4a4897e4c41ffac164d1593afea2af3d\")>>\n",
      "<bound method WebDriver.get of <selenium.webdriver.chrome.webdriver.WebDriver (session=\"54f6fd0e9ec9be9d0f495a8b3a9f4595\")>>\n",
      "<bound method WebDriver.get of <selenium.webdriver.chrome.webdriver.WebDriver (session=\"2385d0aaba8cbc5f78f8a37f29390437\")>>\n",
      "<bound method WebDriver.get of <selenium.webdriver.chrome.webdriver.WebDriver (session=\"4a4e4987274824e73daf957bf5e941c1\")>>\n",
      "<bound method WebDriver.get of <selenium.webdriver.chrome.webdriver.WebDriver (session=\"15419394a606113b774a11814f5fb5b8\")>>\n"
     ]
    },
    {
     "name": "stdout",
     "output_type": "stream",
     "text": [
      "<bound method WebDriver.get of <selenium.webdriver.chrome.webdriver.WebDriver (session=\"bf38c6209b8af8c7272418f189f09b50\")>>\n",
      "<bound method WebDriver.get of <selenium.webdriver.chrome.webdriver.WebDriver (session=\"d5bee0979c5c59bb3dcdee2badd3fbd2\")>>\n",
      "<bound method WebDriver.get of <selenium.webdriver.chrome.webdriver.WebDriver (session=\"1e0708a6d4210929ac5d76020580d30e\")>>\n",
      "<bound method WebDriver.get of <selenium.webdriver.chrome.webdriver.WebDriver (session=\"40ba00a03683f3fa937bfb9b56fd905d\")>>\n",
      "<bound method WebDriver.get of <selenium.webdriver.chrome.webdriver.WebDriver (session=\"e7973d0ea7edcad449b43693500dee6e\")>>\n",
      "<bound method WebDriver.get of <selenium.webdriver.chrome.webdriver.WebDriver (session=\"c5f703efb15bfcb96d682de8b0b202e7\")>>\n",
      "<bound method WebDriver.get of <selenium.webdriver.chrome.webdriver.WebDriver (session=\"12f0701e447da2ca1cdc0a22c534f2dc\")>>\n",
      "<bound method WebDriver.get of <selenium.webdriver.chrome.webdriver.WebDriver (session=\"319c9f0d38a0bd7ef1e1f0d4e1029e8e\")>>\n",
      "<bound method WebDriver.get of <selenium.webdriver.chrome.webdriver.WebDriver (session=\"f2ea73351030bd1e69bcd2399f051a09\")>>\n",
      "<bound method WebDriver.get of <selenium.webdriver.chrome.webdriver.WebDriver (session=\"6954ba385f94205d0fd82886bd241327\")>>\n",
      "<bound method WebDriver.get of <selenium.webdriver.chrome.webdriver.WebDriver (session=\"b943d882153d47c690371b8e19e00cb5\")>>\n",
      "<bound method WebDriver.get of <selenium.webdriver.chrome.webdriver.WebDriver (session=\"63c3b2ab82c8c23b23569a89a7d49e40\")>>\n",
      "<bound method WebDriver.get of <selenium.webdriver.chrome.webdriver.WebDriver (session=\"1e47735c0c3b94825164267e013a7c2e\")>>\n",
      "<bound method WebDriver.get of <selenium.webdriver.chrome.webdriver.WebDriver (session=\"15b39ecb073e67eef5fdc56ee2e9b78b\")>>\n",
      "<bound method WebDriver.get of <selenium.webdriver.chrome.webdriver.WebDriver (session=\"803db43e7655b63e4d473347beb2c289\")>>\n",
      "<bound method WebDriver.get of <selenium.webdriver.chrome.webdriver.WebDriver (session=\"83f500ef337079e3817a6c96a27e4cb7\")>>\n",
      "<bound method WebDriver.get of <selenium.webdriver.chrome.webdriver.WebDriver (session=\"499f1a63013eaf1b0507841c89572f77\")>>\n",
      "<bound method WebDriver.get of <selenium.webdriver.chrome.webdriver.WebDriver (session=\"194b22fced2ee821a5714c75c985e068\")>>\n",
      "<bound method WebDriver.get of <selenium.webdriver.chrome.webdriver.WebDriver (session=\"b5b103e3f246c9812f20e8819deaeb33\")>>\n",
      "<bound method WebDriver.get of <selenium.webdriver.chrome.webdriver.WebDriver (session=\"508764aea664dcd8d6667084319c55f1\")>>\n",
      "<bound method WebDriver.get of <selenium.webdriver.chrome.webdriver.WebDriver (session=\"21945a0fff7057fc15e27ae7654ce3ca\")>>\n",
      "<bound method WebDriver.get of <selenium.webdriver.chrome.webdriver.WebDriver (session=\"065aac31f03f12d7b1415d560c6ac3a0\")>>\n",
      "<bound method WebDriver.get of <selenium.webdriver.chrome.webdriver.WebDriver (session=\"b45ebba160cca610d6e9bb89b813f677\")>>\n",
      "<bound method WebDriver.get of <selenium.webdriver.chrome.webdriver.WebDriver (session=\"d79f432e1c9a6c1d5453380954ec5c6f\")>>\n",
      "<bound method WebDriver.get of <selenium.webdriver.chrome.webdriver.WebDriver (session=\"010bbf9c13f033b70e24dc2b9d610db0\")>>\n",
      "<bound method WebDriver.get of <selenium.webdriver.chrome.webdriver.WebDriver (session=\"fde681cad2aa7d86184e84dc6edb9e6f\")>>\n",
      "<bound method WebDriver.get of <selenium.webdriver.chrome.webdriver.WebDriver (session=\"4e94f1e3150ec21efe028f8c98bbb978\")>>\n",
      "<bound method WebDriver.get of <selenium.webdriver.chrome.webdriver.WebDriver (session=\"177efb49e5bb32ea883f7dbc7b5c0c20\")>>\n",
      "<bound method WebDriver.get of <selenium.webdriver.chrome.webdriver.WebDriver (session=\"7d2952b6a3e3c490a43540db47cb1203\")>>\n",
      "<bound method WebDriver.get of <selenium.webdriver.chrome.webdriver.WebDriver (session=\"1ff571b08e903a182e10912692e5272a\")>>\n",
      "<bound method WebDriver.get of <selenium.webdriver.chrome.webdriver.WebDriver (session=\"18ab08abd4d7e3eae2e67966781a0ea0\")>>\n",
      "<bound method WebDriver.get of <selenium.webdriver.chrome.webdriver.WebDriver (session=\"915708559f60138caee4718a0cf505d4\")>>\n",
      "<bound method WebDriver.get of <selenium.webdriver.chrome.webdriver.WebDriver (session=\"5518636f6b9a22559da053755fe25f27\")>>\n",
      "<bound method WebDriver.get of <selenium.webdriver.chrome.webdriver.WebDriver (session=\"9ef6f9da0bef5ea23446db9ff52c031e\")>>\n",
      "<bound method WebDriver.get of <selenium.webdriver.chrome.webdriver.WebDriver (session=\"400312d106de60cb4a1258f5407bc526\")>>\n",
      "<bound method WebDriver.get of <selenium.webdriver.chrome.webdriver.WebDriver (session=\"4201e3a341be9e12022002c53b8d6419\")>>\n",
      "<bound method WebDriver.get of <selenium.webdriver.chrome.webdriver.WebDriver (session=\"d7dbd4a70ba130aee0718607b117ac56\")>>\n",
      "<bound method WebDriver.get of <selenium.webdriver.chrome.webdriver.WebDriver (session=\"c781011cb7653b43e0e9b881c85cbf26\")>>\n",
      "<bound method WebDriver.get of <selenium.webdriver.chrome.webdriver.WebDriver (session=\"03cb05163d018af4437d9c48a76d655b\")>>\n",
      "<bound method WebDriver.get of <selenium.webdriver.chrome.webdriver.WebDriver (session=\"87fadeb0de4c096637e5bceddeb76c5f\")>>\n",
      "<bound method WebDriver.get of <selenium.webdriver.chrome.webdriver.WebDriver (session=\"f9473aed41b33f549e19910724e0f563\")>>\n",
      "<bound method WebDriver.get of <selenium.webdriver.chrome.webdriver.WebDriver (session=\"452dbae6c8d6566fe5cb6be123f751e3\")>>\n",
      "<bound method WebDriver.get of <selenium.webdriver.chrome.webdriver.WebDriver (session=\"c095e1d0e9930e0ed39515d7be8845b2\")>>\n",
      "<bound method WebDriver.get of <selenium.webdriver.chrome.webdriver.WebDriver (session=\"f3d51a071c3bae87841f25fd628c7a3d\")>>\n",
      "<bound method WebDriver.get of <selenium.webdriver.chrome.webdriver.WebDriver (session=\"75f1b59d6b24b90614668aed0e792a3f\")>>\n",
      "<bound method WebDriver.get of <selenium.webdriver.chrome.webdriver.WebDriver (session=\"a51d941bafdb1337d6dd24b1777e4d7f\")>>\n",
      "<bound method WebDriver.get of <selenium.webdriver.chrome.webdriver.WebDriver (session=\"fafcc1f46dd5285bf25eefee7eea5068\")>>\n",
      "<bound method WebDriver.get of <selenium.webdriver.chrome.webdriver.WebDriver (session=\"cb4a7e3a40c7397b5df0ee45832540d8\")>>\n",
      "<bound method WebDriver.get of <selenium.webdriver.chrome.webdriver.WebDriver (session=\"35c00450e7d8599044314b4cc85729a7\")>>\n",
      "<bound method WebDriver.get of <selenium.webdriver.chrome.webdriver.WebDriver (session=\"96d43b838b9e8740dad000dff7e6a7c8\")>>\n",
      "<bound method WebDriver.get of <selenium.webdriver.chrome.webdriver.WebDriver (session=\"235f79bad6cff12f6a198aa60dec5a90\")>>\n",
      "<bound method WebDriver.get of <selenium.webdriver.chrome.webdriver.WebDriver (session=\"c625ed5f73a94ea587c681bc96a1cf61\")>>\n",
      "<bound method WebDriver.get of <selenium.webdriver.chrome.webdriver.WebDriver (session=\"660a5f43625f46d616253b2a7a9a1733\")>>\n",
      "<bound method WebDriver.get of <selenium.webdriver.chrome.webdriver.WebDriver (session=\"eedc7f819495105174110e5b15453117\")>>\n",
      "<bound method WebDriver.get of <selenium.webdriver.chrome.webdriver.WebDriver (session=\"ea3ba2f5a9203ba880b888d8cebe9b66\")>>\n",
      "<bound method WebDriver.get of <selenium.webdriver.chrome.webdriver.WebDriver (session=\"3f075a805b47f8c7d02ad6971b68cf5c\")>>\n",
      "<bound method WebDriver.get of <selenium.webdriver.chrome.webdriver.WebDriver (session=\"90f28ca3957fb77f1ac75f21443042c9\")>>\n",
      "<bound method WebDriver.get of <selenium.webdriver.chrome.webdriver.WebDriver (session=\"dd772913f3e3ca96a58ac67f6bfcc5e7\")>>\n",
      "<bound method WebDriver.get of <selenium.webdriver.chrome.webdriver.WebDriver (session=\"4fbf5a44ee906150234e94e77f3518ac\")>>\n",
      "<bound method WebDriver.get of <selenium.webdriver.chrome.webdriver.WebDriver (session=\"25db3171e6028dfe1e03b649ad78d8cf\")>>\n",
      "<bound method WebDriver.get of <selenium.webdriver.chrome.webdriver.WebDriver (session=\"ef2ff7105d0d11bad26bf00ecd82dbfe\")>>\n",
      "<bound method WebDriver.get of <selenium.webdriver.chrome.webdriver.WebDriver (session=\"a2ef15ecde7c06155b1d7319818bf93c\")>>\n",
      "<bound method WebDriver.get of <selenium.webdriver.chrome.webdriver.WebDriver (session=\"76601addcdd30ce9e725d51329610c72\")>>\n",
      "<bound method WebDriver.get of <selenium.webdriver.chrome.webdriver.WebDriver (session=\"5330e5e9f13b4c81d689fdca5629dab9\")>>\n",
      "<bound method WebDriver.get of <selenium.webdriver.chrome.webdriver.WebDriver (session=\"9dd3c706f25a4902883e70a8f233c56d\")>>\n",
      "<bound method WebDriver.get of <selenium.webdriver.chrome.webdriver.WebDriver (session=\"d0a5c2c4e31d24fd5094657e54373f2b\")>>\n"
     ]
    },
    {
     "name": "stdout",
     "output_type": "stream",
     "text": [
      "<bound method WebDriver.get of <selenium.webdriver.chrome.webdriver.WebDriver (session=\"f82bfb3fc8ab6f5f59e169770cc30a6c\")>>\n",
      "<bound method WebDriver.get of <selenium.webdriver.chrome.webdriver.WebDriver (session=\"e23fd0e5bcbfc8bbf0c738763220d2b1\")>>\n",
      "<bound method WebDriver.get of <selenium.webdriver.chrome.webdriver.WebDriver (session=\"d5a65f8b61bf9e2a6d03284003e8724d\")>>\n",
      "<bound method WebDriver.get of <selenium.webdriver.chrome.webdriver.WebDriver (session=\"6b706f1c31367682913ff6dd8b33e273\")>>\n",
      "<bound method WebDriver.get of <selenium.webdriver.chrome.webdriver.WebDriver (session=\"9be5c6a47bf0158beb57fbed24a504aa\")>>\n",
      "<bound method WebDriver.get of <selenium.webdriver.chrome.webdriver.WebDriver (session=\"849b4f96ce83eb0c5e074ca02c972c01\")>>\n",
      "<bound method WebDriver.get of <selenium.webdriver.chrome.webdriver.WebDriver (session=\"df7ecc69e968c24e5fc08003277f7334\")>>\n",
      "<bound method WebDriver.get of <selenium.webdriver.chrome.webdriver.WebDriver (session=\"fa036663f7161dc0e19fd61d74d501ac\")>>\n",
      "<bound method WebDriver.get of <selenium.webdriver.chrome.webdriver.WebDriver (session=\"ee96c0bf63738bb9624d4e1362155326\")>>\n",
      "<bound method WebDriver.get of <selenium.webdriver.chrome.webdriver.WebDriver (session=\"15a2a67157802bbeb5b1e79be39c0ec3\")>>\n",
      "<bound method WebDriver.get of <selenium.webdriver.chrome.webdriver.WebDriver (session=\"f4ed2d8923b6f37d5e80acb572a9f687\")>>\n",
      "<bound method WebDriver.get of <selenium.webdriver.chrome.webdriver.WebDriver (session=\"099a50d665916f16b17e488d085c1dc0\")>>\n",
      "<bound method WebDriver.get of <selenium.webdriver.chrome.webdriver.WebDriver (session=\"4ee11a3874696eec2deee096f3ad4bb8\")>>\n",
      "<bound method WebDriver.get of <selenium.webdriver.chrome.webdriver.WebDriver (session=\"c5e526c1ce5bceafe8ff82aab44699ad\")>>\n",
      "<bound method WebDriver.get of <selenium.webdriver.chrome.webdriver.WebDriver (session=\"c9c1a78a7ce2e44e82cf14b4a0f4e2bc\")>>\n",
      "<bound method WebDriver.get of <selenium.webdriver.chrome.webdriver.WebDriver (session=\"eb1f42ffb1009bb94a1988f30fa1697d\")>>\n",
      "<bound method WebDriver.get of <selenium.webdriver.chrome.webdriver.WebDriver (session=\"4324748c5595915ba4c22ad701f9e7e9\")>>\n",
      "<bound method WebDriver.get of <selenium.webdriver.chrome.webdriver.WebDriver (session=\"3de830f6a01a9603135b1f9c7d9b76c3\")>>\n",
      "<bound method WebDriver.get of <selenium.webdriver.chrome.webdriver.WebDriver (session=\"c8906a1cad3698fa3c7af471141cbd27\")>>\n",
      "<bound method WebDriver.get of <selenium.webdriver.chrome.webdriver.WebDriver (session=\"a5fb7534baf349f1e80f3958af65c401\")>>\n",
      "<bound method WebDriver.get of <selenium.webdriver.chrome.webdriver.WebDriver (session=\"aa06d54323fa137439b2d7b31c34a175\")>>\n",
      "<bound method WebDriver.get of <selenium.webdriver.chrome.webdriver.WebDriver (session=\"9088d2efaead2ac2d6a6559fb1fad11c\")>>\n",
      "<bound method WebDriver.get of <selenium.webdriver.chrome.webdriver.WebDriver (session=\"7777c98b8e8f6c2b00753ba9216362cc\")>>\n",
      "<bound method WebDriver.get of <selenium.webdriver.chrome.webdriver.WebDriver (session=\"6362cddf3c9ba6366dafb139723ffa36\")>>\n",
      "<bound method WebDriver.get of <selenium.webdriver.chrome.webdriver.WebDriver (session=\"c9502752bd52598fc788c67f72bec8ae\")>>\n",
      "<bound method WebDriver.get of <selenium.webdriver.chrome.webdriver.WebDriver (session=\"681bc6cfcb425626f88fcb0409773497\")>>\n",
      "<bound method WebDriver.get of <selenium.webdriver.chrome.webdriver.WebDriver (session=\"b57ed36170aa576c8390d9a1befb6a43\")>>\n",
      "<bound method WebDriver.get of <selenium.webdriver.chrome.webdriver.WebDriver (session=\"dc060054b9035c53328f9ccde69af996\")>>\n",
      "<bound method WebDriver.get of <selenium.webdriver.chrome.webdriver.WebDriver (session=\"5ca11b5009c26904f3646d3785471c72\")>>\n",
      "<bound method WebDriver.get of <selenium.webdriver.chrome.webdriver.WebDriver (session=\"bee69af92330c8b1febee956cba93abe\")>>\n",
      "<bound method WebDriver.get of <selenium.webdriver.chrome.webdriver.WebDriver (session=\"c7b84d00d8cebb417b4e76f6a50911f4\")>>\n",
      "<bound method WebDriver.get of <selenium.webdriver.chrome.webdriver.WebDriver (session=\"37c3f04c1f54048d571fc5423e75c1a4\")>>\n",
      "<bound method WebDriver.get of <selenium.webdriver.chrome.webdriver.WebDriver (session=\"8a450ea2e202667e07174f6fd62da45f\")>>\n",
      "<bound method WebDriver.get of <selenium.webdriver.chrome.webdriver.WebDriver (session=\"b80e63e7543ffa75fb8eb0c8956de2ac\")>>\n",
      "<bound method WebDriver.get of <selenium.webdriver.chrome.webdriver.WebDriver (session=\"dbeeeee96ef3378fbb8ceebcaef84ff0\")>>\n",
      "<bound method WebDriver.get of <selenium.webdriver.chrome.webdriver.WebDriver (session=\"95e6b0f44a9850d5357d490f087b60d3\")>>\n",
      "<bound method WebDriver.get of <selenium.webdriver.chrome.webdriver.WebDriver (session=\"a4ec556e2bca5ec5e90c7ad60e23e419\")>>\n",
      "<bound method WebDriver.get of <selenium.webdriver.chrome.webdriver.WebDriver (session=\"f1dcb15150c321050031b46035a471bc\")>>\n",
      "<bound method WebDriver.get of <selenium.webdriver.chrome.webdriver.WebDriver (session=\"3f097807f8196b2e8daba1fbc61ff1a8\")>>\n",
      "<bound method WebDriver.get of <selenium.webdriver.chrome.webdriver.WebDriver (session=\"d780d4e1ace2b4c1c77f4e684659a82f\")>>\n",
      "<bound method WebDriver.get of <selenium.webdriver.chrome.webdriver.WebDriver (session=\"b9efd14431f40cf3b4d099c3de8ad361\")>>\n",
      "<bound method WebDriver.get of <selenium.webdriver.chrome.webdriver.WebDriver (session=\"269cb1e8e3b75c5f888089012b972dfa\")>>\n",
      "<bound method WebDriver.get of <selenium.webdriver.chrome.webdriver.WebDriver (session=\"304695cbfaf0ceda1e65f643fafda49a\")>>\n",
      "<bound method WebDriver.get of <selenium.webdriver.chrome.webdriver.WebDriver (session=\"175575572d92a5c24ec7cccf61282d6e\")>>\n",
      "<bound method WebDriver.get of <selenium.webdriver.chrome.webdriver.WebDriver (session=\"82e98f4e718ed35d85a4d7796ca5ef84\")>>\n",
      "<bound method WebDriver.get of <selenium.webdriver.chrome.webdriver.WebDriver (session=\"6a176058de669c2af33dd49aae01a565\")>>\n",
      "<bound method WebDriver.get of <selenium.webdriver.chrome.webdriver.WebDriver (session=\"63c70548ec086d6e128ee177a62e44b6\")>>\n",
      "<bound method WebDriver.get of <selenium.webdriver.chrome.webdriver.WebDriver (session=\"70fc9c4d5324d1bb68f73b503d39ad01\")>>\n",
      "<bound method WebDriver.get of <selenium.webdriver.chrome.webdriver.WebDriver (session=\"1ad01310eaea5e8ba51d0fa85c0ad6ce\")>>\n",
      "<bound method WebDriver.get of <selenium.webdriver.chrome.webdriver.WebDriver (session=\"36fdbec838063420d94197573e18ad48\")>>\n",
      "<bound method WebDriver.get of <selenium.webdriver.chrome.webdriver.WebDriver (session=\"c9393db0febddc7a73e3bcb292e5b5af\")>>\n",
      "<bound method WebDriver.get of <selenium.webdriver.chrome.webdriver.WebDriver (session=\"ad6d6cf849419ba8f38bc42587610a4b\")>>\n",
      "<bound method WebDriver.get of <selenium.webdriver.chrome.webdriver.WebDriver (session=\"cf3a51701aa62de36913ffc89f3363d0\")>>\n",
      "<bound method WebDriver.get of <selenium.webdriver.chrome.webdriver.WebDriver (session=\"91b47fd745fdebb7dc5c2a9529450a7d\")>>\n",
      "<bound method WebDriver.get of <selenium.webdriver.chrome.webdriver.WebDriver (session=\"03b4fc4ee8d8dca148ad5f8fb5a4d392\")>>\n",
      "<bound method WebDriver.get of <selenium.webdriver.chrome.webdriver.WebDriver (session=\"0b75b03ebf23428fbbc661420756d1d0\")>>\n",
      "<bound method WebDriver.get of <selenium.webdriver.chrome.webdriver.WebDriver (session=\"fead8dbed7ccbfe259f83a0ace635267\")>>\n",
      "<bound method WebDriver.get of <selenium.webdriver.chrome.webdriver.WebDriver (session=\"ac4ddb6292aec69871e3d9a5c6092e16\")>>\n",
      "<bound method WebDriver.get of <selenium.webdriver.chrome.webdriver.WebDriver (session=\"4ebb74e48b94530dfe8021f6f72e1717\")>>\n",
      "<bound method WebDriver.get of <selenium.webdriver.chrome.webdriver.WebDriver (session=\"71ee9d0ad2a3ea74bfc6fdae3870a728\")>>\n",
      "<bound method WebDriver.get of <selenium.webdriver.chrome.webdriver.WebDriver (session=\"7704eebfd5efe352fc38c7d11dc2011b\")>>\n",
      "<bound method WebDriver.get of <selenium.webdriver.chrome.webdriver.WebDriver (session=\"5f52144c78d19a58d9a6e6a1d5d2d026\")>>\n",
      "<bound method WebDriver.get of <selenium.webdriver.chrome.webdriver.WebDriver (session=\"28e5fb2f92ee5a32056a4fcd6cb2c794\")>>\n",
      "<bound method WebDriver.get of <selenium.webdriver.chrome.webdriver.WebDriver (session=\"1bfc1d66c35d78f687b0f5311adef26b\")>>\n",
      "<bound method WebDriver.get of <selenium.webdriver.chrome.webdriver.WebDriver (session=\"56497d503bb39cb9fc16587b72496316\")>>\n",
      "<bound method WebDriver.get of <selenium.webdriver.chrome.webdriver.WebDriver (session=\"05a6084370f897c23a22f4119b11acce\")>>\n"
     ]
    },
    {
     "name": "stdout",
     "output_type": "stream",
     "text": [
      "<bound method WebDriver.get of <selenium.webdriver.chrome.webdriver.WebDriver (session=\"f156c1c635a2a906cb160492cf286ed5\")>>\n",
      "<bound method WebDriver.get of <selenium.webdriver.chrome.webdriver.WebDriver (session=\"fee4479ae787001c3106254037c2406e\")>>\n",
      "<bound method WebDriver.get of <selenium.webdriver.chrome.webdriver.WebDriver (session=\"ecd7f8f707b1a462e5a4b2b782073ed9\")>>\n",
      "<bound method WebDriver.get of <selenium.webdriver.chrome.webdriver.WebDriver (session=\"798ac08efc71e963df04fcdd50f13084\")>>\n",
      "<bound method WebDriver.get of <selenium.webdriver.chrome.webdriver.WebDriver (session=\"0a0633c5acc15b7ef72345fdbe58d702\")>>\n",
      "<bound method WebDriver.get of <selenium.webdriver.chrome.webdriver.WebDriver (session=\"2ca69ef89e14098fe9313a6d668589d8\")>>\n",
      "<bound method WebDriver.get of <selenium.webdriver.chrome.webdriver.WebDriver (session=\"46fc17c81a4bdcf694ba2a50d70df6e9\")>>\n",
      "<bound method WebDriver.get of <selenium.webdriver.chrome.webdriver.WebDriver (session=\"c4aaf7c18dc8e2c84be964d2b51a3228\")>>\n",
      "<bound method WebDriver.get of <selenium.webdriver.chrome.webdriver.WebDriver (session=\"9eeac802f87ef8c862d099a61c87a5e9\")>>\n",
      "<bound method WebDriver.get of <selenium.webdriver.chrome.webdriver.WebDriver (session=\"7c34b31d405522d2973a0755ebb5efcb\")>>\n",
      "<bound method WebDriver.get of <selenium.webdriver.chrome.webdriver.WebDriver (session=\"8876ba5aaf76a241e1085f1d9f2676a5\")>>\n",
      "<bound method WebDriver.get of <selenium.webdriver.chrome.webdriver.WebDriver (session=\"b211cfcc6e93fe6be4a81d6cd5caea37\")>>\n",
      "<bound method WebDriver.get of <selenium.webdriver.chrome.webdriver.WebDriver (session=\"c456d7b0e2c96e207caa0d93f072d8b8\")>>\n",
      "<bound method WebDriver.get of <selenium.webdriver.chrome.webdriver.WebDriver (session=\"6a310708a0606f8ef03131cfffc91909\")>>\n",
      "<bound method WebDriver.get of <selenium.webdriver.chrome.webdriver.WebDriver (session=\"1bbdb1566b50ce12af450862e3bbf144\")>>\n",
      "<bound method WebDriver.get of <selenium.webdriver.chrome.webdriver.WebDriver (session=\"dc2ef184d1ed4bd7dbe1f558957c4086\")>>\n",
      "<bound method WebDriver.get of <selenium.webdriver.chrome.webdriver.WebDriver (session=\"24621ae2804a6a4728e30f3b4843ec0d\")>>\n",
      "<bound method WebDriver.get of <selenium.webdriver.chrome.webdriver.WebDriver (session=\"6eddf21c1709e70bc2503c1085f03391\")>>\n",
      "<bound method WebDriver.get of <selenium.webdriver.chrome.webdriver.WebDriver (session=\"c2ee222d8d67f0f49b0fd0f7a0a8452d\")>>\n",
      "<bound method WebDriver.get of <selenium.webdriver.chrome.webdriver.WebDriver (session=\"94f38bdae4f228de2f832ae8cd4606a3\")>>\n",
      "<bound method WebDriver.get of <selenium.webdriver.chrome.webdriver.WebDriver (session=\"da1aa59d9a11bc2da629b9bf5995f9de\")>>\n",
      "<bound method WebDriver.get of <selenium.webdriver.chrome.webdriver.WebDriver (session=\"732fe601e928a1d95a957ce7aacdc108\")>>\n",
      "<bound method WebDriver.get of <selenium.webdriver.chrome.webdriver.WebDriver (session=\"8409a0d6f2d580e27751fe3392e54fb0\")>>\n",
      "<bound method WebDriver.get of <selenium.webdriver.chrome.webdriver.WebDriver (session=\"537ee954ee767d2c42fb506479703660\")>>\n",
      "<bound method WebDriver.get of <selenium.webdriver.chrome.webdriver.WebDriver (session=\"d8b8a18ef4f125a8625c1047e93e95aa\")>>\n",
      "<bound method WebDriver.get of <selenium.webdriver.chrome.webdriver.WebDriver (session=\"a73abb64e8ed29c44c4b310c6e0891fd\")>>\n",
      "<bound method WebDriver.get of <selenium.webdriver.chrome.webdriver.WebDriver (session=\"7eec1f4db7e92a320c79f38136b8bf7b\")>>\n",
      "<bound method WebDriver.get of <selenium.webdriver.chrome.webdriver.WebDriver (session=\"2ac16de9eecf785b2791a06cdae5ace1\")>>\n",
      "<bound method WebDriver.get of <selenium.webdriver.chrome.webdriver.WebDriver (session=\"883db0bc2a3b897e8372a7a427a789e6\")>>\n",
      "<bound method WebDriver.get of <selenium.webdriver.chrome.webdriver.WebDriver (session=\"f606d95691afe10d897957c5ab713c9e\")>>\n",
      "<bound method WebDriver.get of <selenium.webdriver.chrome.webdriver.WebDriver (session=\"b4071ff99c0debb2babb2935953f5468\")>>\n",
      "<bound method WebDriver.get of <selenium.webdriver.chrome.webdriver.WebDriver (session=\"eea67d1b2c1c96502c70b594110ba168\")>>\n",
      "<bound method WebDriver.get of <selenium.webdriver.chrome.webdriver.WebDriver (session=\"7fb237816204ed200209e4c3682f3589\")>>\n",
      "<bound method WebDriver.get of <selenium.webdriver.chrome.webdriver.WebDriver (session=\"ab3af096c1b2162b5d56702ebfaa8968\")>>\n",
      "<bound method WebDriver.get of <selenium.webdriver.chrome.webdriver.WebDriver (session=\"a8a0e2e5576b93b0249583dbed3c4580\")>>\n",
      "<bound method WebDriver.get of <selenium.webdriver.chrome.webdriver.WebDriver (session=\"87e45ecc6df66f10df38b1bfb56b0ec7\")>>\n",
      "<bound method WebDriver.get of <selenium.webdriver.chrome.webdriver.WebDriver (session=\"a28be5c1e68c10fc2fd396e399f9539b\")>>\n",
      "<bound method WebDriver.get of <selenium.webdriver.chrome.webdriver.WebDriver (session=\"df405b655a4583da6570dab165e7fefb\")>>\n",
      "<bound method WebDriver.get of <selenium.webdriver.chrome.webdriver.WebDriver (session=\"d7555effba4d302adc73c3280c34e144\")>>\n",
      "<bound method WebDriver.get of <selenium.webdriver.chrome.webdriver.WebDriver (session=\"7cd78033bcd78263d840df488ef4c4cf\")>>\n",
      "<bound method WebDriver.get of <selenium.webdriver.chrome.webdriver.WebDriver (session=\"d3ff819a8f5d85815cd97f46b8f51be0\")>>\n",
      "<bound method WebDriver.get of <selenium.webdriver.chrome.webdriver.WebDriver (session=\"290bb876165d3bda192510531be6ad2b\")>>\n",
      "<bound method WebDriver.get of <selenium.webdriver.chrome.webdriver.WebDriver (session=\"83a99e68b8c21725586455b47b79b779\")>>\n",
      "<bound method WebDriver.get of <selenium.webdriver.chrome.webdriver.WebDriver (session=\"581a5d5d8d3c1aed0300ec12d7724c6a\")>>\n",
      "<bound method WebDriver.get of <selenium.webdriver.chrome.webdriver.WebDriver (session=\"ee58c9adca0095ac2345aa4503439780\")>>\n",
      "<bound method WebDriver.get of <selenium.webdriver.chrome.webdriver.WebDriver (session=\"77ec75cc24460e931f490708298d4407\")>>\n",
      "<bound method WebDriver.get of <selenium.webdriver.chrome.webdriver.WebDriver (session=\"320c10cf57e69c4dd8e78c7c33d20758\")>>\n",
      "<bound method WebDriver.get of <selenium.webdriver.chrome.webdriver.WebDriver (session=\"71d755dbff89712a5250bf39ad9dca32\")>>\n",
      "<bound method WebDriver.get of <selenium.webdriver.chrome.webdriver.WebDriver (session=\"f350acd3a005c1b7480c4b14f8b14175\")>>\n",
      "<bound method WebDriver.get of <selenium.webdriver.chrome.webdriver.WebDriver (session=\"f962945cad7500562c0adc43813c2c8c\")>>\n",
      "<bound method WebDriver.get of <selenium.webdriver.chrome.webdriver.WebDriver (session=\"3b197c90131dc865ddef1799d9e975f3\")>>\n",
      "<bound method WebDriver.get of <selenium.webdriver.chrome.webdriver.WebDriver (session=\"b657c853923d499c656b62f1a428c16b\")>>\n",
      "<bound method WebDriver.get of <selenium.webdriver.chrome.webdriver.WebDriver (session=\"c202876cd62ce7a23fcfcda02bc2c0cb\")>>\n",
      "<bound method WebDriver.get of <selenium.webdriver.chrome.webdriver.WebDriver (session=\"dc68d0ba63fb4269e925d3638de84c4e\")>>\n",
      "<bound method WebDriver.get of <selenium.webdriver.chrome.webdriver.WebDriver (session=\"523bd153ceb8854d4f15acf23b4a0b84\")>>\n",
      "<bound method WebDriver.get of <selenium.webdriver.chrome.webdriver.WebDriver (session=\"bacaae6b7670af75b89a5876eb9ac18a\")>>\n",
      "<bound method WebDriver.get of <selenium.webdriver.chrome.webdriver.WebDriver (session=\"664b948d3069090d02ca7776d9fafe3e\")>>\n",
      "<bound method WebDriver.get of <selenium.webdriver.chrome.webdriver.WebDriver (session=\"a6266dfe0c5a9cb7bd3e4a43bbd8591d\")>>\n",
      "<bound method WebDriver.get of <selenium.webdriver.chrome.webdriver.WebDriver (session=\"7b5811e40d3203d3618a98ce5f35f6a9\")>>\n",
      "<bound method WebDriver.get of <selenium.webdriver.chrome.webdriver.WebDriver (session=\"7fbbf843ff7a235367157ef2df020634\")>>\n",
      "<bound method WebDriver.get of <selenium.webdriver.chrome.webdriver.WebDriver (session=\"a20046a374d27b3e76f824af8975bc1c\")>>\n",
      "<bound method WebDriver.get of <selenium.webdriver.chrome.webdriver.WebDriver (session=\"34109d8f5e234edc19476ad6b6b3d7bc\")>>\n",
      "<bound method WebDriver.get of <selenium.webdriver.chrome.webdriver.WebDriver (session=\"7a5600148b7e56fa2c41b02ec3c87c89\")>>\n",
      "<bound method WebDriver.get of <selenium.webdriver.chrome.webdriver.WebDriver (session=\"a4ed0d17b118ab3c5aadcf8dc419d725\")>>\n",
      "<bound method WebDriver.get of <selenium.webdriver.chrome.webdriver.WebDriver (session=\"43a2d834e3db7feded0f5a378738c1cc\")>>\n",
      "<bound method WebDriver.get of <selenium.webdriver.chrome.webdriver.WebDriver (session=\"07763da4a929aebce3e2061ec37edcc6\")>>\n"
     ]
    },
    {
     "name": "stdout",
     "output_type": "stream",
     "text": [
      "<bound method WebDriver.get of <selenium.webdriver.chrome.webdriver.WebDriver (session=\"d06406c9c0232d6c5a8c2c5b90893801\")>>\n",
      "<bound method WebDriver.get of <selenium.webdriver.chrome.webdriver.WebDriver (session=\"82c85cedeedc177aa5ef8a522e503f63\")>>\n",
      "<bound method WebDriver.get of <selenium.webdriver.chrome.webdriver.WebDriver (session=\"930434077f4959f0292aaffdf4613a6f\")>>\n",
      "<bound method WebDriver.get of <selenium.webdriver.chrome.webdriver.WebDriver (session=\"9b28aa6065c8034d62db6b135524689c\")>>\n",
      "<bound method WebDriver.get of <selenium.webdriver.chrome.webdriver.WebDriver (session=\"01deda29941c6f0ec2d5b7d209232b95\")>>\n",
      "<bound method WebDriver.get of <selenium.webdriver.chrome.webdriver.WebDriver (session=\"fcfb752db58a2895c4f8e48cc4853aa4\")>>\n",
      "<bound method WebDriver.get of <selenium.webdriver.chrome.webdriver.WebDriver (session=\"204c54c481d6c1c621fc9074106b7d44\")>>\n",
      "<bound method WebDriver.get of <selenium.webdriver.chrome.webdriver.WebDriver (session=\"df4a0e2a4f292601aa29078be7264073\")>>\n",
      "<bound method WebDriver.get of <selenium.webdriver.chrome.webdriver.WebDriver (session=\"323b9d3b6f464abc069e3aa433b78354\")>>\n",
      "<bound method WebDriver.get of <selenium.webdriver.chrome.webdriver.WebDriver (session=\"b67b2c2e20e832c2963b50169b7121db\")>>\n",
      "<bound method WebDriver.get of <selenium.webdriver.chrome.webdriver.WebDriver (session=\"afb7986e62b66a69513f33acd4bd0b11\")>>\n",
      "<bound method WebDriver.get of <selenium.webdriver.chrome.webdriver.WebDriver (session=\"0fbb07d8cb68a79cdbb8bda7566f6747\")>>\n",
      "<bound method WebDriver.get of <selenium.webdriver.chrome.webdriver.WebDriver (session=\"b3f7d5378d59e4d9e35780e78b4934b3\")>>\n",
      "<bound method WebDriver.get of <selenium.webdriver.chrome.webdriver.WebDriver (session=\"1ed6ec3afa7530e0b48ed490a9bbdd06\")>>\n",
      "<bound method WebDriver.get of <selenium.webdriver.chrome.webdriver.WebDriver (session=\"4fc17e1caad8d03a79af4f52bd62973d\")>>\n",
      "<bound method WebDriver.get of <selenium.webdriver.chrome.webdriver.WebDriver (session=\"4251afca3f7ecd2a35decca818683db0\")>>\n",
      "<bound method WebDriver.get of <selenium.webdriver.chrome.webdriver.WebDriver (session=\"a094b4ddf45949a91610af6e44aa78ef\")>>\n",
      "<bound method WebDriver.get of <selenium.webdriver.chrome.webdriver.WebDriver (session=\"3d68eb7a103551e6fd2446bbb96ea486\")>>\n",
      "<bound method WebDriver.get of <selenium.webdriver.chrome.webdriver.WebDriver (session=\"546537f3763f1a9024e457ebb75eb5df\")>>\n",
      "<bound method WebDriver.get of <selenium.webdriver.chrome.webdriver.WebDriver (session=\"1b6aaaf5588146b67dd0c4374e5be205\")>>\n",
      "<bound method WebDriver.get of <selenium.webdriver.chrome.webdriver.WebDriver (session=\"80fd6fcd7d3efc0f30e6afaf05039edb\")>>\n",
      "<bound method WebDriver.get of <selenium.webdriver.chrome.webdriver.WebDriver (session=\"fcf215f0512b97fa87bcbf360bce3379\")>>\n",
      "<bound method WebDriver.get of <selenium.webdriver.chrome.webdriver.WebDriver (session=\"d7e6ac1ab64ce806572af151c146b89a\")>>\n",
      "<bound method WebDriver.get of <selenium.webdriver.chrome.webdriver.WebDriver (session=\"790d8dabc5ef3b8e4c7c394af63d87ad\")>>\n",
      "<bound method WebDriver.get of <selenium.webdriver.chrome.webdriver.WebDriver (session=\"5dcc61e204d645d7c8b51f6a19941eb4\")>>\n",
      "<bound method WebDriver.get of <selenium.webdriver.chrome.webdriver.WebDriver (session=\"1a11d32b48bf604491801028817dd0bf\")>>\n",
      "<bound method WebDriver.get of <selenium.webdriver.chrome.webdriver.WebDriver (session=\"72356700a5a0e6c4d5a9e8884d15cde6\")>>\n",
      "<bound method WebDriver.get of <selenium.webdriver.chrome.webdriver.WebDriver (session=\"7cce35d1198d7b1ea439bc17b62a16ad\")>>\n",
      "<bound method WebDriver.get of <selenium.webdriver.chrome.webdriver.WebDriver (session=\"cd146c6c429bfd028be55dbf1dbee13d\")>>\n",
      "<bound method WebDriver.get of <selenium.webdriver.chrome.webdriver.WebDriver (session=\"f09a010be72a6b4cc8b76f3c54197a7e\")>>\n",
      "<bound method WebDriver.get of <selenium.webdriver.chrome.webdriver.WebDriver (session=\"036dcb165463809ab537e33d7e93d715\")>>\n",
      "<bound method WebDriver.get of <selenium.webdriver.chrome.webdriver.WebDriver (session=\"506521a7a8164b38f2db98c2f4e269d9\")>>\n",
      "<bound method WebDriver.get of <selenium.webdriver.chrome.webdriver.WebDriver (session=\"bf671daac355ba709213d1a8f4c0bd1a\")>>\n",
      "<bound method WebDriver.get of <selenium.webdriver.chrome.webdriver.WebDriver (session=\"860df2f372ad7227cfe02d0c74e34eba\")>>\n",
      "<bound method WebDriver.get of <selenium.webdriver.chrome.webdriver.WebDriver (session=\"52c5ee06d14376996a08c0f62ebef2ec\")>>\n",
      "<bound method WebDriver.get of <selenium.webdriver.chrome.webdriver.WebDriver (session=\"8707841c9d6458bf76c11cd3179b0ce7\")>>\n",
      "<bound method WebDriver.get of <selenium.webdriver.chrome.webdriver.WebDriver (session=\"6932b75cf06502fbe6eea5c722d73089\")>>\n",
      "<bound method WebDriver.get of <selenium.webdriver.chrome.webdriver.WebDriver (session=\"465d4ef1e987a16978cc1b299dbd18de\")>>\n",
      "<bound method WebDriver.get of <selenium.webdriver.chrome.webdriver.WebDriver (session=\"a0c2ed1a4d438fb14949103f622c927f\")>>\n",
      "<bound method WebDriver.get of <selenium.webdriver.chrome.webdriver.WebDriver (session=\"ab4510f53a2dd192d78a99cd6232acf9\")>>\n",
      "<bound method WebDriver.get of <selenium.webdriver.chrome.webdriver.WebDriver (session=\"00a325622bed41d22f156d26120e86da\")>>\n",
      "<bound method WebDriver.get of <selenium.webdriver.chrome.webdriver.WebDriver (session=\"670e2e2078373f619e0af30c688e3b6d\")>>\n",
      "<bound method WebDriver.get of <selenium.webdriver.chrome.webdriver.WebDriver (session=\"8c10d7bff803728e8bf742bef9f2105f\")>>\n",
      "<bound method WebDriver.get of <selenium.webdriver.chrome.webdriver.WebDriver (session=\"ec733509af0ba6a0964a195fa41f361c\")>>\n",
      "<bound method WebDriver.get of <selenium.webdriver.chrome.webdriver.WebDriver (session=\"f23afcfd2dfdf3db2a35ab2cc3324c38\")>>\n",
      "<bound method WebDriver.get of <selenium.webdriver.chrome.webdriver.WebDriver (session=\"1fea7224cf04508fa3e280828c875f9d\")>>\n",
      "<bound method WebDriver.get of <selenium.webdriver.chrome.webdriver.WebDriver (session=\"bb8cf0be790145ac53b2a672630d0afa\")>>\n",
      "<bound method WebDriver.get of <selenium.webdriver.chrome.webdriver.WebDriver (session=\"c2f7c666e68cc8dcc19028883c6c44b6\")>>\n",
      "<bound method WebDriver.get of <selenium.webdriver.chrome.webdriver.WebDriver (session=\"184a5649753f8807e0374e3962d83dbc\")>>\n",
      "<bound method WebDriver.get of <selenium.webdriver.chrome.webdriver.WebDriver (session=\"8ddd52024538421f6f13879b714882a6\")>>\n",
      "<bound method WebDriver.get of <selenium.webdriver.chrome.webdriver.WebDriver (session=\"3b468cbb05de746267451b21c60dec26\")>>\n",
      "<bound method WebDriver.get of <selenium.webdriver.chrome.webdriver.WebDriver (session=\"7a0463715ba241360c4264e42a27b53e\")>>\n",
      "<bound method WebDriver.get of <selenium.webdriver.chrome.webdriver.WebDriver (session=\"902b6958df292edce2d3a3269e8cd49b\")>>\n",
      "<bound method WebDriver.get of <selenium.webdriver.chrome.webdriver.WebDriver (session=\"243b675a28ec5d2c49294bd1a2b45c5b\")>>\n",
      "<bound method WebDriver.get of <selenium.webdriver.chrome.webdriver.WebDriver (session=\"ef537d6f8153d6399969afe6677f8a77\")>>\n",
      "<bound method WebDriver.get of <selenium.webdriver.chrome.webdriver.WebDriver (session=\"b8c1697cd75384dedf34641a199b8b6c\")>>\n",
      "<bound method WebDriver.get of <selenium.webdriver.chrome.webdriver.WebDriver (session=\"bb17081b463cf576189e022fc907c6ed\")>>\n",
      "<bound method WebDriver.get of <selenium.webdriver.chrome.webdriver.WebDriver (session=\"293ca3c784bf5eb86e6b9cb1a19998e2\")>>\n",
      "<bound method WebDriver.get of <selenium.webdriver.chrome.webdriver.WebDriver (session=\"3c6034e16ffef6d2ca9904fda6f94c9f\")>>\n",
      "<bound method WebDriver.get of <selenium.webdriver.chrome.webdriver.WebDriver (session=\"f7381f3f948099093ee703ec172c683c\")>>\n",
      "<bound method WebDriver.get of <selenium.webdriver.chrome.webdriver.WebDriver (session=\"446f7315c19ff6f4473e73279e79238f\")>>\n",
      "<bound method WebDriver.get of <selenium.webdriver.chrome.webdriver.WebDriver (session=\"79939f9bc50d699c92a9956e2ddfb27e\")>>\n",
      "<bound method WebDriver.get of <selenium.webdriver.chrome.webdriver.WebDriver (session=\"3cf1e0b40aed9923fbec0c80e5a25733\")>>\n",
      "<bound method WebDriver.get of <selenium.webdriver.chrome.webdriver.WebDriver (session=\"d5d90ec8b34bb639ce603f92066e0876\")>>\n",
      "<bound method WebDriver.get of <selenium.webdriver.chrome.webdriver.WebDriver (session=\"1066a61a7a57cd3e68a9dbfbc05f84e0\")>>\n",
      "<bound method WebDriver.get of <selenium.webdriver.chrome.webdriver.WebDriver (session=\"1dce71c0581a349823f852e228d0e2d2\")>>\n"
     ]
    },
    {
     "name": "stdout",
     "output_type": "stream",
     "text": [
      "<bound method WebDriver.get of <selenium.webdriver.chrome.webdriver.WebDriver (session=\"549b26ffb872768cfe68009365ffb80b\")>>\n",
      "<bound method WebDriver.get of <selenium.webdriver.chrome.webdriver.WebDriver (session=\"c402cb1c467d20f73218b04fb01ca112\")>>\n",
      "<bound method WebDriver.get of <selenium.webdriver.chrome.webdriver.WebDriver (session=\"1d50d7133167b7f75d8bab6fa89c36a6\")>>\n",
      "<bound method WebDriver.get of <selenium.webdriver.chrome.webdriver.WebDriver (session=\"88daa75390342cc5fd800a9e24efd5b3\")>>\n",
      "<bound method WebDriver.get of <selenium.webdriver.chrome.webdriver.WebDriver (session=\"671c7df3383b1516e4a9ae919be76e56\")>>\n",
      "<bound method WebDriver.get of <selenium.webdriver.chrome.webdriver.WebDriver (session=\"7ef7aa7e803e4118bdc644e6078a3a17\")>>\n",
      "<bound method WebDriver.get of <selenium.webdriver.chrome.webdriver.WebDriver (session=\"c53025fb760750117382554ab1b7176c\")>>\n",
      "<bound method WebDriver.get of <selenium.webdriver.chrome.webdriver.WebDriver (session=\"c4fdfb7ffec270d33b5b236df675d760\")>>\n",
      "<bound method WebDriver.get of <selenium.webdriver.chrome.webdriver.WebDriver (session=\"b934453cd6903372db4306d42edfb457\")>>\n",
      "<bound method WebDriver.get of <selenium.webdriver.chrome.webdriver.WebDriver (session=\"19399e37000cfc41139f02aaa0aa40be\")>>\n",
      "<bound method WebDriver.get of <selenium.webdriver.chrome.webdriver.WebDriver (session=\"9d530074f1f094190b18723c47eae944\")>>\n",
      "<bound method WebDriver.get of <selenium.webdriver.chrome.webdriver.WebDriver (session=\"5ee740df64f3a3b4f18677ee6a1fd34a\")>>\n",
      "<bound method WebDriver.get of <selenium.webdriver.chrome.webdriver.WebDriver (session=\"e65fee8c57fe3b21f4fbac0f5f1ba544\")>>\n",
      "<bound method WebDriver.get of <selenium.webdriver.chrome.webdriver.WebDriver (session=\"a6e3a0bb958e3dbb6a605459393a44be\")>>\n",
      "<bound method WebDriver.get of <selenium.webdriver.chrome.webdriver.WebDriver (session=\"fa937106aee4e13e8ad7e4e04a1e61b9\")>>\n",
      "<bound method WebDriver.get of <selenium.webdriver.chrome.webdriver.WebDriver (session=\"ef80f7289c0e9dcd7c71e7366a48ef08\")>>\n",
      "<bound method WebDriver.get of <selenium.webdriver.chrome.webdriver.WebDriver (session=\"4fbc9d84ffccda3208e999702611942d\")>>\n",
      "<bound method WebDriver.get of <selenium.webdriver.chrome.webdriver.WebDriver (session=\"f08e3841c19c3518268e5c1fbd64b1b0\")>>\n",
      "<bound method WebDriver.get of <selenium.webdriver.chrome.webdriver.WebDriver (session=\"39aa728f575ee0e7bed75921361e911d\")>>\n",
      "<bound method WebDriver.get of <selenium.webdriver.chrome.webdriver.WebDriver (session=\"0ec0cfe97ea29dfd8dc6996e64921bc3\")>>\n",
      "<bound method WebDriver.get of <selenium.webdriver.chrome.webdriver.WebDriver (session=\"3397ac272f7f2b6791695b05e953d741\")>>\n",
      "<bound method WebDriver.get of <selenium.webdriver.chrome.webdriver.WebDriver (session=\"a17fda1671a21a46c348292d5e634c41\")>>\n",
      "<bound method WebDriver.get of <selenium.webdriver.chrome.webdriver.WebDriver (session=\"bd8c1421346e75f04d7aff798aa40de7\")>>\n",
      "<bound method WebDriver.get of <selenium.webdriver.chrome.webdriver.WebDriver (session=\"08b26036d1562e32a1dd790da63b58cc\")>>\n",
      "<bound method WebDriver.get of <selenium.webdriver.chrome.webdriver.WebDriver (session=\"e005c27d6243606f10f830c6e5a65b1b\")>>\n",
      "<bound method WebDriver.get of <selenium.webdriver.chrome.webdriver.WebDriver (session=\"59d895d10ad1f08389dbc82860681371\")>>\n",
      "<bound method WebDriver.get of <selenium.webdriver.chrome.webdriver.WebDriver (session=\"5f0d376bf4fbecccb4427657711f52b6\")>>\n",
      "<bound method WebDriver.get of <selenium.webdriver.chrome.webdriver.WebDriver (session=\"0bdecb15e179cf7ff070ea5ad2701ddd\")>>\n",
      "<bound method WebDriver.get of <selenium.webdriver.chrome.webdriver.WebDriver (session=\"19589df7ce5260d966615c613c1199ef\")>>\n",
      "<bound method WebDriver.get of <selenium.webdriver.chrome.webdriver.WebDriver (session=\"db6bf0b92335abe1d57103ec45e2b361\")>>\n",
      "<bound method WebDriver.get of <selenium.webdriver.chrome.webdriver.WebDriver (session=\"c7be05048261b07daa9423d80d1fcf11\")>>\n",
      "<bound method WebDriver.get of <selenium.webdriver.chrome.webdriver.WebDriver (session=\"e3b6f0c22af2cf96d0f80c1e12146e15\")>>\n",
      "<bound method WebDriver.get of <selenium.webdriver.chrome.webdriver.WebDriver (session=\"75e7fbdb08df38b500794ee4ea6a92d0\")>>\n",
      "<bound method WebDriver.get of <selenium.webdriver.chrome.webdriver.WebDriver (session=\"9d23fa61f7510cae14b94301d6bfbb19\")>>\n",
      "<bound method WebDriver.get of <selenium.webdriver.chrome.webdriver.WebDriver (session=\"fdc205b193f9c78d7d74d209a1b6177c\")>>\n",
      "<bound method WebDriver.get of <selenium.webdriver.chrome.webdriver.WebDriver (session=\"5dcd4c3b97943748881f88f1d1e7b5ad\")>>\n",
      "<bound method WebDriver.get of <selenium.webdriver.chrome.webdriver.WebDriver (session=\"09e4e58eb6144244ea082ba54a7115cb\")>>\n",
      "<bound method WebDriver.get of <selenium.webdriver.chrome.webdriver.WebDriver (session=\"3d61def86d411f6917b70b7e6f25c7b7\")>>\n",
      "<bound method WebDriver.get of <selenium.webdriver.chrome.webdriver.WebDriver (session=\"b721a8a3cf1094fc187f42d662db23d0\")>>\n",
      "<bound method WebDriver.get of <selenium.webdriver.chrome.webdriver.WebDriver (session=\"b2d5ffccc1b18afed1d76429ee38fd15\")>>\n",
      "<bound method WebDriver.get of <selenium.webdriver.chrome.webdriver.WebDriver (session=\"7178e8fb1ffdcc636c4981706ad9bd2c\")>>\n",
      "<bound method WebDriver.get of <selenium.webdriver.chrome.webdriver.WebDriver (session=\"cf8112e968a14b6df8be1e1ac544647d\")>>\n",
      "<bound method WebDriver.get of <selenium.webdriver.chrome.webdriver.WebDriver (session=\"7168bd8f16a0d1cd13af8108be7e389c\")>>\n",
      "<bound method WebDriver.get of <selenium.webdriver.chrome.webdriver.WebDriver (session=\"957b312f62d7003d2eec76b09b332233\")>>\n",
      "<bound method WebDriver.get of <selenium.webdriver.chrome.webdriver.WebDriver (session=\"40d46f903241658002b81af6a73e669c\")>>\n",
      "<bound method WebDriver.get of <selenium.webdriver.chrome.webdriver.WebDriver (session=\"63c29e97d1021d45570a40406e1cefd7\")>>\n",
      "<bound method WebDriver.get of <selenium.webdriver.chrome.webdriver.WebDriver (session=\"b2e5a556a299a84d63bdb2cb76bd853d\")>>\n",
      "<bound method WebDriver.get of <selenium.webdriver.chrome.webdriver.WebDriver (session=\"463e55197c91b5f85f827102cdbb475e\")>>\n",
      "<bound method WebDriver.get of <selenium.webdriver.chrome.webdriver.WebDriver (session=\"b1db87918ffb1b301a6ce236e1d3f879\")>>\n",
      "<bound method WebDriver.get of <selenium.webdriver.chrome.webdriver.WebDriver (session=\"b0c506f456ecb7948f38ba2f8e660440\")>>\n",
      "<bound method WebDriver.get of <selenium.webdriver.chrome.webdriver.WebDriver (session=\"a21a1364b51ba61a2373ff2159e77a5e\")>>\n",
      "<bound method WebDriver.get of <selenium.webdriver.chrome.webdriver.WebDriver (session=\"65ed61bb6f03cc39c3046fe3b9d0a860\")>>\n",
      "<bound method WebDriver.get of <selenium.webdriver.chrome.webdriver.WebDriver (session=\"18d5f262fb2fbfcc419010aab920df8e\")>>\n",
      "<bound method WebDriver.get of <selenium.webdriver.chrome.webdriver.WebDriver (session=\"ad2c577a04efa85d7f69e77055ec71c8\")>>\n",
      "<bound method WebDriver.get of <selenium.webdriver.chrome.webdriver.WebDriver (session=\"1cb140397ee1a5dbd8ad726828177240\")>>\n",
      "<bound method WebDriver.get of <selenium.webdriver.chrome.webdriver.WebDriver (session=\"2f90798e2a5c797860c9eaefe1778387\")>>\n",
      "<bound method WebDriver.get of <selenium.webdriver.chrome.webdriver.WebDriver (session=\"aa60047ede5345ac35b4be503cffbc3e\")>>\n",
      "<bound method WebDriver.get of <selenium.webdriver.chrome.webdriver.WebDriver (session=\"d020db7b534ec7ad7e0889df1fe2e6dc\")>>\n",
      "<bound method WebDriver.get of <selenium.webdriver.chrome.webdriver.WebDriver (session=\"5cec4a92cc509df06001d87ba235c84e\")>>\n",
      "<bound method WebDriver.get of <selenium.webdriver.chrome.webdriver.WebDriver (session=\"03d35d61d83f5a5ce0f60bf1ca504114\")>>\n",
      "<bound method WebDriver.get of <selenium.webdriver.chrome.webdriver.WebDriver (session=\"37f8c7965876d6c030fd90a379a3deae\")>>\n",
      "<bound method WebDriver.get of <selenium.webdriver.chrome.webdriver.WebDriver (session=\"712a6a5b214c0b872084c762f9364c94\")>>\n",
      "<bound method WebDriver.get of <selenium.webdriver.chrome.webdriver.WebDriver (session=\"e4cca6d74dd3714c1332186a4003adf1\")>>\n",
      "<bound method WebDriver.get of <selenium.webdriver.chrome.webdriver.WebDriver (session=\"6630f4a8dcf00039f450b46f8415ab2c\")>>\n",
      "<bound method WebDriver.get of <selenium.webdriver.chrome.webdriver.WebDriver (session=\"015d20b3f339ee544a631b3e592d25b2\")>>\n",
      "<bound method WebDriver.get of <selenium.webdriver.chrome.webdriver.WebDriver (session=\"ed5a461d5f347e9b4c8a1bd9462038a1\")>>\n"
     ]
    },
    {
     "name": "stdout",
     "output_type": "stream",
     "text": [
      "<bound method WebDriver.get of <selenium.webdriver.chrome.webdriver.WebDriver (session=\"11cf018eeb67346ba8c06ffb0fbb3add\")>>\n",
      "<bound method WebDriver.get of <selenium.webdriver.chrome.webdriver.WebDriver (session=\"9938c89e5e2e69749ed815288a7df679\")>>\n",
      "<bound method WebDriver.get of <selenium.webdriver.chrome.webdriver.WebDriver (session=\"ce70a148c1c23d927882d426b2ec0c91\")>>\n",
      "<bound method WebDriver.get of <selenium.webdriver.chrome.webdriver.WebDriver (session=\"2bb5c7f27478fc7be1a00b3e5611a313\")>>\n",
      "<bound method WebDriver.get of <selenium.webdriver.chrome.webdriver.WebDriver (session=\"d36e942abf41f9f37dfa6d55caedb4bd\")>>\n",
      "<bound method WebDriver.get of <selenium.webdriver.chrome.webdriver.WebDriver (session=\"f0a373658bfa50a2ca8324d48364fa54\")>>\n",
      "<bound method WebDriver.get of <selenium.webdriver.chrome.webdriver.WebDriver (session=\"68fb84fbcfd7ee6a634f45210f94af42\")>>\n",
      "<bound method WebDriver.get of <selenium.webdriver.chrome.webdriver.WebDriver (session=\"b2799ba2fdbb5fecb6b8ee48e0ebc9da\")>>\n",
      "<bound method WebDriver.get of <selenium.webdriver.chrome.webdriver.WebDriver (session=\"6d29524e0bb82702a8004b6ff28fb2ce\")>>\n",
      "<bound method WebDriver.get of <selenium.webdriver.chrome.webdriver.WebDriver (session=\"8c270142f9e70a0259716ecb2ee16c12\")>>\n",
      "<bound method WebDriver.get of <selenium.webdriver.chrome.webdriver.WebDriver (session=\"cdd100ae935078836fc8a52b1aec0d76\")>>\n",
      "<bound method WebDriver.get of <selenium.webdriver.chrome.webdriver.WebDriver (session=\"d0be072bcd02cbe4d0a0bea9a074db16\")>>\n",
      "<bound method WebDriver.get of <selenium.webdriver.chrome.webdriver.WebDriver (session=\"b305d1b4d538f5255f24179a7435b476\")>>\n",
      "<bound method WebDriver.get of <selenium.webdriver.chrome.webdriver.WebDriver (session=\"6a9d799fd2ab3eb9351019b81fe9d2e1\")>>\n",
      "<bound method WebDriver.get of <selenium.webdriver.chrome.webdriver.WebDriver (session=\"f92611e062cf10929127a8378db1a28d\")>>\n",
      "<bound method WebDriver.get of <selenium.webdriver.chrome.webdriver.WebDriver (session=\"099cd9bd160f465ba3ca9addbc66f4f2\")>>\n",
      "<bound method WebDriver.get of <selenium.webdriver.chrome.webdriver.WebDriver (session=\"cc97a320264b7f5ed04e78fc746b171a\")>>\n",
      "<bound method WebDriver.get of <selenium.webdriver.chrome.webdriver.WebDriver (session=\"a322d0ef306be78bc64aee1167eeac52\")>>\n",
      "<bound method WebDriver.get of <selenium.webdriver.chrome.webdriver.WebDriver (session=\"9aac7f0c45b8c3d141b05de4d708d7fa\")>>\n",
      "<bound method WebDriver.get of <selenium.webdriver.chrome.webdriver.WebDriver (session=\"67bb44be8c02f3fd8ccc31de5dcd7b53\")>>\n",
      "<bound method WebDriver.get of <selenium.webdriver.chrome.webdriver.WebDriver (session=\"c49d8a35b5311edec427cb82b6b41ed0\")>>\n",
      "<bound method WebDriver.get of <selenium.webdriver.chrome.webdriver.WebDriver (session=\"003479f9fe46cac4940f400b4d392551\")>>\n",
      "<bound method WebDriver.get of <selenium.webdriver.chrome.webdriver.WebDriver (session=\"e283fe385dec256018c1fd3d9234169a\")>>\n",
      "<bound method WebDriver.get of <selenium.webdriver.chrome.webdriver.WebDriver (session=\"e1f9559e34cdd7d682555a2b034ecc15\")>>\n",
      "<bound method WebDriver.get of <selenium.webdriver.chrome.webdriver.WebDriver (session=\"b93b70f50e3866377f7cc7c5799f5241\")>>\n",
      "<bound method WebDriver.get of <selenium.webdriver.chrome.webdriver.WebDriver (session=\"b57d87ae4cf2b2e69940cf0dfbb53a18\")>>\n",
      "<bound method WebDriver.get of <selenium.webdriver.chrome.webdriver.WebDriver (session=\"937d882999062eb489c00db1e393b2d6\")>>\n",
      "<bound method WebDriver.get of <selenium.webdriver.chrome.webdriver.WebDriver (session=\"d7cd0f261c717cf50c4da6140bc6359e\")>>\n",
      "<bound method WebDriver.get of <selenium.webdriver.chrome.webdriver.WebDriver (session=\"81c5e6a7e509476c01e5d62f2fe6ec5d\")>>\n",
      "<bound method WebDriver.get of <selenium.webdriver.chrome.webdriver.WebDriver (session=\"be36093096910e2572db3b1e4a5e70bf\")>>\n",
      "<bound method WebDriver.get of <selenium.webdriver.chrome.webdriver.WebDriver (session=\"1500b76c20e7b90551a4b91241cbae79\")>>\n",
      "<bound method WebDriver.get of <selenium.webdriver.chrome.webdriver.WebDriver (session=\"30e91ae9872bea39707702da99dd1561\")>>\n",
      "<bound method WebDriver.get of <selenium.webdriver.chrome.webdriver.WebDriver (session=\"c7ca6ebf27b161799b02646271110d7f\")>>\n",
      "<bound method WebDriver.get of <selenium.webdriver.chrome.webdriver.WebDriver (session=\"a09d757a36212181357f5baa4fbb49b6\")>>\n",
      "<bound method WebDriver.get of <selenium.webdriver.chrome.webdriver.WebDriver (session=\"3319306e309d138fbdab0c1e3f431f98\")>>\n",
      "<bound method WebDriver.get of <selenium.webdriver.chrome.webdriver.WebDriver (session=\"85a0b91529c7b4d978f0c6e1cd491f8f\")>>\n",
      "<bound method WebDriver.get of <selenium.webdriver.chrome.webdriver.WebDriver (session=\"daf80516e8f3c1613b9dc99bde407d90\")>>\n",
      "<bound method WebDriver.get of <selenium.webdriver.chrome.webdriver.WebDriver (session=\"3b244328d21fb7f754d4c7ce2a87e649\")>>\n",
      "<bound method WebDriver.get of <selenium.webdriver.chrome.webdriver.WebDriver (session=\"123bbb425a8cce945c2758376fcac8e9\")>>\n",
      "<bound method WebDriver.get of <selenium.webdriver.chrome.webdriver.WebDriver (session=\"b40c452985f026d66c4335462194118a\")>>\n",
      "<bound method WebDriver.get of <selenium.webdriver.chrome.webdriver.WebDriver (session=\"b26d196a584fd878ef4364fd1c915bb5\")>>\n",
      "<bound method WebDriver.get of <selenium.webdriver.chrome.webdriver.WebDriver (session=\"04cfaed9818a4d69c049ac53606712fa\")>>\n",
      "<bound method WebDriver.get of <selenium.webdriver.chrome.webdriver.WebDriver (session=\"5955a1ba50a9cf8f7983c82ca5146c3a\")>>\n",
      "<bound method WebDriver.get of <selenium.webdriver.chrome.webdriver.WebDriver (session=\"b2a9434f57f8c28f548cb9ab92575120\")>>\n",
      "<bound method WebDriver.get of <selenium.webdriver.chrome.webdriver.WebDriver (session=\"87463cfdfa14aa22cdabb443872c6708\")>>\n",
      "<bound method WebDriver.get of <selenium.webdriver.chrome.webdriver.WebDriver (session=\"482261fb0648074fc1cd0144f09d90a5\")>>\n",
      "<bound method WebDriver.get of <selenium.webdriver.chrome.webdriver.WebDriver (session=\"8621499a2e15544ace7f52e9d1460632\")>>\n",
      "<bound method WebDriver.get of <selenium.webdriver.chrome.webdriver.WebDriver (session=\"da6fd6f7317efc8bae4e22e0664348eb\")>>\n",
      "<bound method WebDriver.get of <selenium.webdriver.chrome.webdriver.WebDriver (session=\"1df1a0d0f25ccb9d2304111ccf7720ff\")>>\n",
      "<bound method WebDriver.get of <selenium.webdriver.chrome.webdriver.WebDriver (session=\"541244f51f22abde7f0adc8f216c3606\")>>\n",
      "<bound method WebDriver.get of <selenium.webdriver.chrome.webdriver.WebDriver (session=\"e0dda6b7239a1e2c4726d1decb452c27\")>>\n",
      "<bound method WebDriver.get of <selenium.webdriver.chrome.webdriver.WebDriver (session=\"d72f2bcc2ef611c56438aa103643b73a\")>>\n",
      "<bound method WebDriver.get of <selenium.webdriver.chrome.webdriver.WebDriver (session=\"9ef924283512957ca59447899e304720\")>>\n",
      "<bound method WebDriver.get of <selenium.webdriver.chrome.webdriver.WebDriver (session=\"06ed473e64a67a53bc60f4124ad77108\")>>\n",
      "<bound method WebDriver.get of <selenium.webdriver.chrome.webdriver.WebDriver (session=\"2b7f6ec4a0f02137f77d1021c5979f51\")>>\n",
      "<bound method WebDriver.get of <selenium.webdriver.chrome.webdriver.WebDriver (session=\"70a2957f6ce3a11a4c0fd54eca4bda97\")>>\n",
      "<bound method WebDriver.get of <selenium.webdriver.chrome.webdriver.WebDriver (session=\"b37e3abedc7fa0057bc2bc5c4ba137a3\")>>\n",
      "<bound method WebDriver.get of <selenium.webdriver.chrome.webdriver.WebDriver (session=\"326d03deb22d9149b09a398726a09533\")>>\n",
      "<bound method WebDriver.get of <selenium.webdriver.chrome.webdriver.WebDriver (session=\"b5698778bba4926abb0d7ecbc865900a\")>>\n",
      "<bound method WebDriver.get of <selenium.webdriver.chrome.webdriver.WebDriver (session=\"fe6d8a4dbf46f6d84c0f912573dcd436\")>>\n",
      "<bound method WebDriver.get of <selenium.webdriver.chrome.webdriver.WebDriver (session=\"792589823499ca49f5e0c20792c7f3db\")>>\n",
      "<bound method WebDriver.get of <selenium.webdriver.chrome.webdriver.WebDriver (session=\"37bf539f32b2b59ec0a8f6b6c0b9aa2f\")>>\n",
      "<bound method WebDriver.get of <selenium.webdriver.chrome.webdriver.WebDriver (session=\"4602874371d3ebe304f3a2fb73b20a0b\")>>\n",
      "<bound method WebDriver.get of <selenium.webdriver.chrome.webdriver.WebDriver (session=\"cd4085001bd56b928867eaf2bdc19c3f\")>>\n",
      "<bound method WebDriver.get of <selenium.webdriver.chrome.webdriver.WebDriver (session=\"a5f647afdcfd33e3d63dc3af7e759f07\")>>\n",
      "<bound method WebDriver.get of <selenium.webdriver.chrome.webdriver.WebDriver (session=\"a8c681d8aa064b72fb0549dbecff8c4e\")>>\n"
     ]
    },
    {
     "name": "stdout",
     "output_type": "stream",
     "text": [
      "<bound method WebDriver.get of <selenium.webdriver.chrome.webdriver.WebDriver (session=\"7046add7bfeaa5a0baac0297ac360a3f\")>>\n",
      "<bound method WebDriver.get of <selenium.webdriver.chrome.webdriver.WebDriver (session=\"436a117ce4e0d342afe1493d4932c922\")>>\n",
      "<bound method WebDriver.get of <selenium.webdriver.chrome.webdriver.WebDriver (session=\"a6f2a0144eeae1df2100551984968eb4\")>>\n",
      "<bound method WebDriver.get of <selenium.webdriver.chrome.webdriver.WebDriver (session=\"c3ee9741047548978f7fca70ae02f6ff\")>>\n",
      "<bound method WebDriver.get of <selenium.webdriver.chrome.webdriver.WebDriver (session=\"36881b458fb80643a0da28fb2d5ed703\")>>\n",
      "<bound method WebDriver.get of <selenium.webdriver.chrome.webdriver.WebDriver (session=\"1dd3d372744337fe5a8220d7a021cbbf\")>>\n",
      "<bound method WebDriver.get of <selenium.webdriver.chrome.webdriver.WebDriver (session=\"38ffd8072af963a1107b6cf76a8f662c\")>>\n",
      "<bound method WebDriver.get of <selenium.webdriver.chrome.webdriver.WebDriver (session=\"ffd7a8d70bd4dcf7ab7930d36b2ba8fa\")>>\n",
      "<bound method WebDriver.get of <selenium.webdriver.chrome.webdriver.WebDriver (session=\"b8df7897c2108c2db089f3d50d3d3312\")>>\n",
      "<bound method WebDriver.get of <selenium.webdriver.chrome.webdriver.WebDriver (session=\"dc193f55f4b9cb2fa26edbc606b85e22\")>>\n",
      "<bound method WebDriver.get of <selenium.webdriver.chrome.webdriver.WebDriver (session=\"090163965620c86f9a3dc02d65d94599\")>>\n",
      "<bound method WebDriver.get of <selenium.webdriver.chrome.webdriver.WebDriver (session=\"0814cec82f3dad217306a8496e2a8135\")>>\n",
      "<bound method WebDriver.get of <selenium.webdriver.chrome.webdriver.WebDriver (session=\"ab535ca1b91c0ef5a7ac11b79daeb630\")>>\n",
      "<bound method WebDriver.get of <selenium.webdriver.chrome.webdriver.WebDriver (session=\"83414c2f891b447d2da77234c5584101\")>>\n",
      "<bound method WebDriver.get of <selenium.webdriver.chrome.webdriver.WebDriver (session=\"86016c85f77e232c75d55abc5f9beb2d\")>>\n",
      "<bound method WebDriver.get of <selenium.webdriver.chrome.webdriver.WebDriver (session=\"87af858e1f2a83678138b113e0571c5e\")>>\n",
      "<bound method WebDriver.get of <selenium.webdriver.chrome.webdriver.WebDriver (session=\"6b9c7e743ad056a3560a23c4c47d8b29\")>>\n",
      "<bound method WebDriver.get of <selenium.webdriver.chrome.webdriver.WebDriver (session=\"99187ec1b2e215c053efcb4927a6c262\")>>\n",
      "<bound method WebDriver.get of <selenium.webdriver.chrome.webdriver.WebDriver (session=\"24443eb078ea3db62ac016e3a23052d4\")>>\n",
      "<bound method WebDriver.get of <selenium.webdriver.chrome.webdriver.WebDriver (session=\"4d4b7dd4ee420016b692822575fa6eda\")>>\n",
      "<bound method WebDriver.get of <selenium.webdriver.chrome.webdriver.WebDriver (session=\"e53a298f35458c8be9295a991c6e21db\")>>\n",
      "<bound method WebDriver.get of <selenium.webdriver.chrome.webdriver.WebDriver (session=\"5087a91e9d9102b5fe9203da616fd8d1\")>>\n",
      "<bound method WebDriver.get of <selenium.webdriver.chrome.webdriver.WebDriver (session=\"2b69b2f84da123d739c6c8a1a8bed107\")>>\n",
      "<bound method WebDriver.get of <selenium.webdriver.chrome.webdriver.WebDriver (session=\"1d79b575ffcc7cfe8c6c82e90a54dfcd\")>>\n",
      "<bound method WebDriver.get of <selenium.webdriver.chrome.webdriver.WebDriver (session=\"9bd499376498626ee9a0899b8f0948a5\")>>\n",
      "<bound method WebDriver.get of <selenium.webdriver.chrome.webdriver.WebDriver (session=\"6b303216f6969d31898a0543eac4f5ef\")>>\n",
      "<bound method WebDriver.get of <selenium.webdriver.chrome.webdriver.WebDriver (session=\"c20abd3a0463c53ffef00cdc86145a86\")>>\n",
      "<bound method WebDriver.get of <selenium.webdriver.chrome.webdriver.WebDriver (session=\"a87a94771a96594d3d0e9b52a45f7c92\")>>\n",
      "<bound method WebDriver.get of <selenium.webdriver.chrome.webdriver.WebDriver (session=\"5fee50174fdbe15df1e3c21566cbe4a6\")>>\n",
      "<bound method WebDriver.get of <selenium.webdriver.chrome.webdriver.WebDriver (session=\"f79c5f921989c11e720f4bdbbedf915d\")>>\n",
      "<bound method WebDriver.get of <selenium.webdriver.chrome.webdriver.WebDriver (session=\"244eb3b366092857e1079a82360ec123\")>>\n",
      "<bound method WebDriver.get of <selenium.webdriver.chrome.webdriver.WebDriver (session=\"4a1da8d59ad891b1a63b33fb82ccd642\")>>\n",
      "<bound method WebDriver.get of <selenium.webdriver.chrome.webdriver.WebDriver (session=\"49f679404895aab2f716a0b8206d7585\")>>\n",
      "<bound method WebDriver.get of <selenium.webdriver.chrome.webdriver.WebDriver (session=\"7f0acf45f1e1c032895b2975700f0385\")>>\n",
      "<bound method WebDriver.get of <selenium.webdriver.chrome.webdriver.WebDriver (session=\"d61f4815f95c040f6f455ec56d9f3efd\")>>\n",
      "<bound method WebDriver.get of <selenium.webdriver.chrome.webdriver.WebDriver (session=\"1ee74eca27ac98e75ea3642b1bfb86b0\")>>\n",
      "<bound method WebDriver.get of <selenium.webdriver.chrome.webdriver.WebDriver (session=\"c82c85f30aa6a0c66e131cb416eed2f5\")>>\n",
      "<bound method WebDriver.get of <selenium.webdriver.chrome.webdriver.WebDriver (session=\"e63fb0698d6769d41e8495567fe8b921\")>>\n",
      "<bound method WebDriver.get of <selenium.webdriver.chrome.webdriver.WebDriver (session=\"6760c7e9039f6d6ee027d865496a0d6d\")>>\n",
      "<bound method WebDriver.get of <selenium.webdriver.chrome.webdriver.WebDriver (session=\"b4ea35e297be510801ab8c25c8c173cc\")>>\n",
      "<bound method WebDriver.get of <selenium.webdriver.chrome.webdriver.WebDriver (session=\"273030f68af0013fa3e05303d922cff4\")>>\n",
      "<bound method WebDriver.get of <selenium.webdriver.chrome.webdriver.WebDriver (session=\"60b34f0d43d3119d6c008896531804b9\")>>\n",
      "<bound method WebDriver.get of <selenium.webdriver.chrome.webdriver.WebDriver (session=\"8d8c9482ea825c06da511e4699c5a1a9\")>>\n",
      "<bound method WebDriver.get of <selenium.webdriver.chrome.webdriver.WebDriver (session=\"0a886ff0363b851e3234663a9653fb3d\")>>\n",
      "<bound method WebDriver.get of <selenium.webdriver.chrome.webdriver.WebDriver (session=\"36f9e61fffce32bb490692a20a91e5f1\")>>\n",
      "<bound method WebDriver.get of <selenium.webdriver.chrome.webdriver.WebDriver (session=\"e9d6c8dad9a0130254f393fd43ed852b\")>>\n",
      "<bound method WebDriver.get of <selenium.webdriver.chrome.webdriver.WebDriver (session=\"1556e2acdbe890576ff391171818b8d6\")>>\n",
      "<bound method WebDriver.get of <selenium.webdriver.chrome.webdriver.WebDriver (session=\"a970c19ab7b408512f97fdc789d14028\")>>\n",
      "<bound method WebDriver.get of <selenium.webdriver.chrome.webdriver.WebDriver (session=\"ce6c1569212996d407c86beb7729359a\")>>\n",
      "<bound method WebDriver.get of <selenium.webdriver.chrome.webdriver.WebDriver (session=\"20cf2fea220fe9910e73c2169bd997d7\")>>\n",
      "<bound method WebDriver.get of <selenium.webdriver.chrome.webdriver.WebDriver (session=\"fb6de44a7a3ea59d877aa65a6678cad1\")>>\n",
      "<bound method WebDriver.get of <selenium.webdriver.chrome.webdriver.WebDriver (session=\"4805eb475c45873870ee33c64c932c1e\")>>\n",
      "<bound method WebDriver.get of <selenium.webdriver.chrome.webdriver.WebDriver (session=\"b7b9510ca56d2598c37d32e4838be5bb\")>>\n",
      "<bound method WebDriver.get of <selenium.webdriver.chrome.webdriver.WebDriver (session=\"6b4d3459d2adbe493af30075187b6e92\")>>\n",
      "<bound method WebDriver.get of <selenium.webdriver.chrome.webdriver.WebDriver (session=\"a0182485ac375fcdfdd4141f74da910e\")>>\n",
      "<bound method WebDriver.get of <selenium.webdriver.chrome.webdriver.WebDriver (session=\"12dd8b346570dcef252c3833d8504663\")>>\n",
      "<bound method WebDriver.get of <selenium.webdriver.chrome.webdriver.WebDriver (session=\"543e5d689ccd88ea8e2d6f7979d20879\")>>\n",
      "<bound method WebDriver.get of <selenium.webdriver.chrome.webdriver.WebDriver (session=\"121545357dc83a1f4048ee9ff32ece4b\")>>\n",
      "<bound method WebDriver.get of <selenium.webdriver.chrome.webdriver.WebDriver (session=\"7c6c7363d3285090e612b7703504e88a\")>>\n",
      "<bound method WebDriver.get of <selenium.webdriver.chrome.webdriver.WebDriver (session=\"c10172da0fc36e57992c7684835fae82\")>>\n",
      "<bound method WebDriver.get of <selenium.webdriver.chrome.webdriver.WebDriver (session=\"8266bdc814634bc746923dc84f3477e7\")>>\n",
      "<bound method WebDriver.get of <selenium.webdriver.chrome.webdriver.WebDriver (session=\"607308e6d9bd533160cd3a6b8896439d\")>>\n",
      "<bound method WebDriver.get of <selenium.webdriver.chrome.webdriver.WebDriver (session=\"0e1ec1f27bbac51feaa1f2e967cc9285\")>>\n",
      "<bound method WebDriver.get of <selenium.webdriver.chrome.webdriver.WebDriver (session=\"3922e002951f84d6b5341c44219421e4\")>>\n",
      "<bound method WebDriver.get of <selenium.webdriver.chrome.webdriver.WebDriver (session=\"8d062e46783d5060c9ce27884992c73e\")>>\n",
      "<bound method WebDriver.get of <selenium.webdriver.chrome.webdriver.WebDriver (session=\"af2c4a7a892ed64de7a674e3ec6db1db\")>>\n"
     ]
    },
    {
     "name": "stdout",
     "output_type": "stream",
     "text": [
      "<bound method WebDriver.get of <selenium.webdriver.chrome.webdriver.WebDriver (session=\"145428ac0d0b2946c8ae8e1846e47953\")>>\n",
      "<bound method WebDriver.get of <selenium.webdriver.chrome.webdriver.WebDriver (session=\"2ef3bd17357644bda9371091447a5114\")>>\n",
      "<bound method WebDriver.get of <selenium.webdriver.chrome.webdriver.WebDriver (session=\"939ab36bd96c2c5309d0d57ea729fc91\")>>\n",
      "<bound method WebDriver.get of <selenium.webdriver.chrome.webdriver.WebDriver (session=\"d7f56d57cecdd810c85f37a5f4e42fd9\")>>\n",
      "<bound method WebDriver.get of <selenium.webdriver.chrome.webdriver.WebDriver (session=\"1f11fa7604c6432d3ce79b792e277cb0\")>>\n",
      "<bound method WebDriver.get of <selenium.webdriver.chrome.webdriver.WebDriver (session=\"337ac31d302f98d9f35ae9b86b37641b\")>>\n",
      "<bound method WebDriver.get of <selenium.webdriver.chrome.webdriver.WebDriver (session=\"46d7fd52b937e7c3d327fca796a07d11\")>>\n",
      "<bound method WebDriver.get of <selenium.webdriver.chrome.webdriver.WebDriver (session=\"31ee33fe8b3398a75fe10db4a5bcd93a\")>>\n",
      "<bound method WebDriver.get of <selenium.webdriver.chrome.webdriver.WebDriver (session=\"ac1ab6f0ff64f5c24180224974ea5d9e\")>>\n",
      "<bound method WebDriver.get of <selenium.webdriver.chrome.webdriver.WebDriver (session=\"14c94a7e19c7a0eaf8949d99c7fa617e\")>>\n",
      "<bound method WebDriver.get of <selenium.webdriver.chrome.webdriver.WebDriver (session=\"84cb19f5a3f2432ce04ffcc5515c173c\")>>\n",
      "<bound method WebDriver.get of <selenium.webdriver.chrome.webdriver.WebDriver (session=\"5aff32d7f458ffd1e83a4b26471e62fa\")>>\n",
      "<bound method WebDriver.get of <selenium.webdriver.chrome.webdriver.WebDriver (session=\"7bb089a89637f8c76b228a0de6074c1c\")>>\n",
      "<bound method WebDriver.get of <selenium.webdriver.chrome.webdriver.WebDriver (session=\"d577fd6ab8fbb478ef0faa86c52574ed\")>>\n",
      "<bound method WebDriver.get of <selenium.webdriver.chrome.webdriver.WebDriver (session=\"c41099be6e8f3ec8a31bafb8213a06b8\")>>\n",
      "<bound method WebDriver.get of <selenium.webdriver.chrome.webdriver.WebDriver (session=\"85b636238c96fe09084ba350e39f4feb\")>>\n",
      "<bound method WebDriver.get of <selenium.webdriver.chrome.webdriver.WebDriver (session=\"b675f5e011c723dcb529fb7b6926effe\")>>\n",
      "<bound method WebDriver.get of <selenium.webdriver.chrome.webdriver.WebDriver (session=\"77ecf2180d6244d18da4468cf7b4a83b\")>>\n",
      "<bound method WebDriver.get of <selenium.webdriver.chrome.webdriver.WebDriver (session=\"4e897924faf40f9071fd353e3407c304\")>>\n",
      "<bound method WebDriver.get of <selenium.webdriver.chrome.webdriver.WebDriver (session=\"1915fb5017cebbe1c5fe1417ea722045\")>>\n",
      "<bound method WebDriver.get of <selenium.webdriver.chrome.webdriver.WebDriver (session=\"ed1c6d4360f10eadd8724aeb9ee98fd0\")>>\n",
      "<bound method WebDriver.get of <selenium.webdriver.chrome.webdriver.WebDriver (session=\"9aaaa03e631b00ca410b6c064001aed8\")>>\n",
      "<bound method WebDriver.get of <selenium.webdriver.chrome.webdriver.WebDriver (session=\"6e12ca22b01e1eb9c10014c594772f93\")>>\n",
      "<bound method WebDriver.get of <selenium.webdriver.chrome.webdriver.WebDriver (session=\"28155bfa6873a1e604c8ef0b5d95a65f\")>>\n",
      "<bound method WebDriver.get of <selenium.webdriver.chrome.webdriver.WebDriver (session=\"15f5a014cf5d21848e0fb63df8d2169c\")>>\n",
      "<bound method WebDriver.get of <selenium.webdriver.chrome.webdriver.WebDriver (session=\"2e41ddb1992fd2e2ba10ff4073deb2e9\")>>\n",
      "<bound method WebDriver.get of <selenium.webdriver.chrome.webdriver.WebDriver (session=\"f30b156d22a8b39e3666e0660ab50331\")>>\n",
      "<bound method WebDriver.get of <selenium.webdriver.chrome.webdriver.WebDriver (session=\"b06450af1bafea4ba2b014e9ebc6d640\")>>\n",
      "<bound method WebDriver.get of <selenium.webdriver.chrome.webdriver.WebDriver (session=\"193980b69321f2817dfd86341e19c23e\")>>\n",
      "<bound method WebDriver.get of <selenium.webdriver.chrome.webdriver.WebDriver (session=\"36bce95362691f4c1185ee91ab129ba7\")>>\n",
      "<bound method WebDriver.get of <selenium.webdriver.chrome.webdriver.WebDriver (session=\"e7f5dce6164d58bf96ade7a3ecd84ff1\")>>\n",
      "<bound method WebDriver.get of <selenium.webdriver.chrome.webdriver.WebDriver (session=\"0a295d7f7831a6deea2c5b7b5a337436\")>>\n",
      "<bound method WebDriver.get of <selenium.webdriver.chrome.webdriver.WebDriver (session=\"8301278501ebb2b6183758a8431073f5\")>>\n",
      "<bound method WebDriver.get of <selenium.webdriver.chrome.webdriver.WebDriver (session=\"b9970c2dc36e4ff43cf5f6d3bb9a17ce\")>>\n",
      "<bound method WebDriver.get of <selenium.webdriver.chrome.webdriver.WebDriver (session=\"092d9e9b190edac8d67b268b79acdbb7\")>>\n",
      "<bound method WebDriver.get of <selenium.webdriver.chrome.webdriver.WebDriver (session=\"f0421bc09ac740d3105ef61dd13b7fc1\")>>\n",
      "<bound method WebDriver.get of <selenium.webdriver.chrome.webdriver.WebDriver (session=\"82b578a915a64c53da9971f7613273ee\")>>\n",
      "<bound method WebDriver.get of <selenium.webdriver.chrome.webdriver.WebDriver (session=\"4bfc039d888898b6ded92fdee4b2a055\")>>\n",
      "<bound method WebDriver.get of <selenium.webdriver.chrome.webdriver.WebDriver (session=\"47e7bcf46a782a477ae6376a27ea716d\")>>\n",
      "<bound method WebDriver.get of <selenium.webdriver.chrome.webdriver.WebDriver (session=\"b3d33784a51ad14f6047b1a61d49207e\")>>\n",
      "<bound method WebDriver.get of <selenium.webdriver.chrome.webdriver.WebDriver (session=\"26f2fe3a8118e05ee41bba979e0fb7cf\")>>\n",
      "<bound method WebDriver.get of <selenium.webdriver.chrome.webdriver.WebDriver (session=\"186c16d99257c399d0dc4c025a9f36e5\")>>\n",
      "<bound method WebDriver.get of <selenium.webdriver.chrome.webdriver.WebDriver (session=\"c8dfc0d8571b10f220c6b33701f5a3ef\")>>\n",
      "<bound method WebDriver.get of <selenium.webdriver.chrome.webdriver.WebDriver (session=\"fb73e6636de86ac1271cf68ce6e2382b\")>>\n",
      "<bound method WebDriver.get of <selenium.webdriver.chrome.webdriver.WebDriver (session=\"139524dfecf09bb14dd0d3bb21d78508\")>>\n",
      "<bound method WebDriver.get of <selenium.webdriver.chrome.webdriver.WebDriver (session=\"bce66d49ae7235aec9e81dd0e7531d7e\")>>\n",
      "<bound method WebDriver.get of <selenium.webdriver.chrome.webdriver.WebDriver (session=\"4b3a2828bcffd61ca95da544be3f167e\")>>\n",
      "<bound method WebDriver.get of <selenium.webdriver.chrome.webdriver.WebDriver (session=\"63b79ddb9d98a10f3edd428fae050fd6\")>>\n",
      "<bound method WebDriver.get of <selenium.webdriver.chrome.webdriver.WebDriver (session=\"5d3141200d683fde926e591dbc06c12e\")>>\n",
      "<bound method WebDriver.get of <selenium.webdriver.chrome.webdriver.WebDriver (session=\"ef097d122316d927c6704b3865903e54\")>>\n",
      "<bound method WebDriver.get of <selenium.webdriver.chrome.webdriver.WebDriver (session=\"8081bfa8b3a4f1db47b07869d1cb7159\")>>\n",
      "<bound method WebDriver.get of <selenium.webdriver.chrome.webdriver.WebDriver (session=\"e7d2f5aa3233c9aca21b15a546492740\")>>\n",
      "<bound method WebDriver.get of <selenium.webdriver.chrome.webdriver.WebDriver (session=\"b4110fe01089b822337bac21184af0d0\")>>\n",
      "<bound method WebDriver.get of <selenium.webdriver.chrome.webdriver.WebDriver (session=\"ce80cea6bd6dfd67d43cd56533e3b5a0\")>>\n",
      "<bound method WebDriver.get of <selenium.webdriver.chrome.webdriver.WebDriver (session=\"4504697c97ff73b6e3de2a002db02a51\")>>\n",
      "<bound method WebDriver.get of <selenium.webdriver.chrome.webdriver.WebDriver (session=\"147cd725679eea5fa4b5a1c694df647d\")>>\n",
      "<bound method WebDriver.get of <selenium.webdriver.chrome.webdriver.WebDriver (session=\"e74fe893b906344e7f0682c54f072a91\")>>\n",
      "<bound method WebDriver.get of <selenium.webdriver.chrome.webdriver.WebDriver (session=\"f4fa6d3c05eaf7621982e71b69b2bf8f\")>>\n",
      "<bound method WebDriver.get of <selenium.webdriver.chrome.webdriver.WebDriver (session=\"8d03682b37b7ca73ab6310a900584591\")>>\n",
      "<bound method WebDriver.get of <selenium.webdriver.chrome.webdriver.WebDriver (session=\"c3d4854c55f1911f3650127770787acf\")>>\n",
      "<bound method WebDriver.get of <selenium.webdriver.chrome.webdriver.WebDriver (session=\"fe59e933842441b28b9e2c1d0741c80f\")>>\n",
      "<bound method WebDriver.get of <selenium.webdriver.chrome.webdriver.WebDriver (session=\"cad80c2e20a7804e35228b1b23a41cb2\")>>\n",
      "<bound method WebDriver.get of <selenium.webdriver.chrome.webdriver.WebDriver (session=\"6fd4f7398ac1c64dd1a666545689935c\")>>\n",
      "<bound method WebDriver.get of <selenium.webdriver.chrome.webdriver.WebDriver (session=\"8f02e22452e99a602cbc707ceccc30d3\")>>\n",
      "<bound method WebDriver.get of <selenium.webdriver.chrome.webdriver.WebDriver (session=\"27ea24a1d9fc011b05fe2eec78a8ffc4\")>>\n",
      "<bound method WebDriver.get of <selenium.webdriver.chrome.webdriver.WebDriver (session=\"3b5ef29f044eb4442fe317d0698c1705\")>>\n"
     ]
    },
    {
     "name": "stdout",
     "output_type": "stream",
     "text": [
      "<bound method WebDriver.get of <selenium.webdriver.chrome.webdriver.WebDriver (session=\"ffd1ae04a54668adedbb0a4b3424139b\")>>\n",
      "<bound method WebDriver.get of <selenium.webdriver.chrome.webdriver.WebDriver (session=\"00cf802a706006e3f4945fbc3f9d9fd9\")>>\n",
      "<bound method WebDriver.get of <selenium.webdriver.chrome.webdriver.WebDriver (session=\"8af003efe8bb4a5093ea2e67a4540a6a\")>>\n",
      "<bound method WebDriver.get of <selenium.webdriver.chrome.webdriver.WebDriver (session=\"8d85cb29b0d816945356a26317151a72\")>>\n",
      "<bound method WebDriver.get of <selenium.webdriver.chrome.webdriver.WebDriver (session=\"c3aaf9fafc388974a628184a6e2388f6\")>>\n",
      "<bound method WebDriver.get of <selenium.webdriver.chrome.webdriver.WebDriver (session=\"c8cb19657bfad1e9a1fd7c527f8736c7\")>>\n",
      "<bound method WebDriver.get of <selenium.webdriver.chrome.webdriver.WebDriver (session=\"1fe62cfe9882553c77edc53c557f3bbc\")>>\n",
      "<bound method WebDriver.get of <selenium.webdriver.chrome.webdriver.WebDriver (session=\"ccc4f09efb5b7ae53464fb75f3ec2219\")>>\n",
      "<bound method WebDriver.get of <selenium.webdriver.chrome.webdriver.WebDriver (session=\"c90e0bb975038d1e88b05de8637e753d\")>>\n",
      "<bound method WebDriver.get of <selenium.webdriver.chrome.webdriver.WebDriver (session=\"ac8572c92c86f8b9e7a9f51c13eb549c\")>>\n",
      "<bound method WebDriver.get of <selenium.webdriver.chrome.webdriver.WebDriver (session=\"77f177dbbbf9b51227de69446493678b\")>>\n",
      "<bound method WebDriver.get of <selenium.webdriver.chrome.webdriver.WebDriver (session=\"285bab166c14f547f794616d10c2ce98\")>>\n",
      "<bound method WebDriver.get of <selenium.webdriver.chrome.webdriver.WebDriver (session=\"8636e6cff5a2b196ebc7945c6e90486e\")>>\n",
      "<bound method WebDriver.get of <selenium.webdriver.chrome.webdriver.WebDriver (session=\"7b8b74f17c465a34e0eb501265bf1c22\")>>\n",
      "<bound method WebDriver.get of <selenium.webdriver.chrome.webdriver.WebDriver (session=\"7c0013446e5504aa2b321611d1491eba\")>>\n",
      "<bound method WebDriver.get of <selenium.webdriver.chrome.webdriver.WebDriver (session=\"7995d8c4b0c82039154999f007a40d2b\")>>\n",
      "<bound method WebDriver.get of <selenium.webdriver.chrome.webdriver.WebDriver (session=\"dbe0558648b050186ee96b7d761b532a\")>>\n",
      "<bound method WebDriver.get of <selenium.webdriver.chrome.webdriver.WebDriver (session=\"9229c7d3fee190d53d1423a96fa39192\")>>\n",
      "<bound method WebDriver.get of <selenium.webdriver.chrome.webdriver.WebDriver (session=\"34e27a9365e35f12d9b4b93e322bac08\")>>\n",
      "<bound method WebDriver.get of <selenium.webdriver.chrome.webdriver.WebDriver (session=\"501792a955270c59a781ee85fcc18b5a\")>>\n",
      "<bound method WebDriver.get of <selenium.webdriver.chrome.webdriver.WebDriver (session=\"03b8cac33924624d186386d0a714b4ba\")>>\n",
      "<bound method WebDriver.get of <selenium.webdriver.chrome.webdriver.WebDriver (session=\"f70bf580892edf9f72608310abf9923a\")>>\n",
      "<bound method WebDriver.get of <selenium.webdriver.chrome.webdriver.WebDriver (session=\"df85593db5079dffe5b4e1bcec8f5138\")>>\n",
      "<bound method WebDriver.get of <selenium.webdriver.chrome.webdriver.WebDriver (session=\"041f604c39fdeb1f39c7bdf86dbda067\")>>\n",
      "<bound method WebDriver.get of <selenium.webdriver.chrome.webdriver.WebDriver (session=\"c2a4cd114653c75a856942d112995b5a\")>>\n",
      "<bound method WebDriver.get of <selenium.webdriver.chrome.webdriver.WebDriver (session=\"2c8a830801a9a657ac87ad756cdfd497\")>>\n",
      "<bound method WebDriver.get of <selenium.webdriver.chrome.webdriver.WebDriver (session=\"196ccaff693a2a6895fce322628d8497\")>>\n",
      "<bound method WebDriver.get of <selenium.webdriver.chrome.webdriver.WebDriver (session=\"3e66b644e5fdf798c8f80eebca7bd7d5\")>>\n",
      "<bound method WebDriver.get of <selenium.webdriver.chrome.webdriver.WebDriver (session=\"8768a39c02e2ca92a186d025d7bd3496\")>>\n",
      "<bound method WebDriver.get of <selenium.webdriver.chrome.webdriver.WebDriver (session=\"fc4f995500529aa9dd864d3b2f75e980\")>>\n",
      "<bound method WebDriver.get of <selenium.webdriver.chrome.webdriver.WebDriver (session=\"7bcd6ead8f90e2097890a32450fb88dd\")>>\n",
      "<bound method WebDriver.get of <selenium.webdriver.chrome.webdriver.WebDriver (session=\"d51927db66db0fbc140bcb1a96a50bd6\")>>\n",
      "<bound method WebDriver.get of <selenium.webdriver.chrome.webdriver.WebDriver (session=\"23267fca383e4d5971cabb8a5d40ff47\")>>\n",
      "<bound method WebDriver.get of <selenium.webdriver.chrome.webdriver.WebDriver (session=\"631d8d022bf8add5383290426d80f931\")>>\n",
      "<bound method WebDriver.get of <selenium.webdriver.chrome.webdriver.WebDriver (session=\"6c3ad99fa01006f206863a6259e9a4a3\")>>\n",
      "<bound method WebDriver.get of <selenium.webdriver.chrome.webdriver.WebDriver (session=\"07777c30045e95aec2dda55cbbe2867c\")>>\n",
      "<bound method WebDriver.get of <selenium.webdriver.chrome.webdriver.WebDriver (session=\"aaf3b5032a0bb5d6b7b1c31b18aaf7f4\")>>\n",
      "<bound method WebDriver.get of <selenium.webdriver.chrome.webdriver.WebDriver (session=\"d3456973af1af8e3c438e2e4a7303a97\")>>\n",
      "<bound method WebDriver.get of <selenium.webdriver.chrome.webdriver.WebDriver (session=\"e455908aa69acafd4ec9eb6c15e7dd2c\")>>\n",
      "<bound method WebDriver.get of <selenium.webdriver.chrome.webdriver.WebDriver (session=\"e0747b5736ceef23fbffb25d49371a0d\")>>\n",
      "<bound method WebDriver.get of <selenium.webdriver.chrome.webdriver.WebDriver (session=\"6bf7e11fd896e65dab2c8946c4cab964\")>>\n",
      "<bound method WebDriver.get of <selenium.webdriver.chrome.webdriver.WebDriver (session=\"4ee8ffd057678793b023748662147645\")>>\n",
      "<bound method WebDriver.get of <selenium.webdriver.chrome.webdriver.WebDriver (session=\"ced35ee457ec7dc6462ed23555ea7e3b\")>>\n",
      "<bound method WebDriver.get of <selenium.webdriver.chrome.webdriver.WebDriver (session=\"fcafc2a41b927a0a05c7a6b57da05acd\")>>\n",
      "<bound method WebDriver.get of <selenium.webdriver.chrome.webdriver.WebDriver (session=\"a064ca008009ba74838f0fb9976cf053\")>>\n",
      "<bound method WebDriver.get of <selenium.webdriver.chrome.webdriver.WebDriver (session=\"a5f0c5cb350e5530309fc0367d51e740\")>>\n",
      "<bound method WebDriver.get of <selenium.webdriver.chrome.webdriver.WebDriver (session=\"3416fd54e49f0cd66f972d6e966eb60d\")>>\n",
      "<bound method WebDriver.get of <selenium.webdriver.chrome.webdriver.WebDriver (session=\"8f12b0985ea3d092360bdb158bf783ff\")>>\n",
      "<bound method WebDriver.get of <selenium.webdriver.chrome.webdriver.WebDriver (session=\"4ae93f87337f61be6744265538eea947\")>>\n",
      "<bound method WebDriver.get of <selenium.webdriver.chrome.webdriver.WebDriver (session=\"b19f911101d14670f095471514a00ebd\")>>\n",
      "<bound method WebDriver.get of <selenium.webdriver.chrome.webdriver.WebDriver (session=\"2e3fd44e01a59aabb3e4d5658ec4da71\")>>\n",
      "<bound method WebDriver.get of <selenium.webdriver.chrome.webdriver.WebDriver (session=\"463839d6f3fdf604d81379dcc97320eb\")>>\n",
      "<bound method WebDriver.get of <selenium.webdriver.chrome.webdriver.WebDriver (session=\"036586decc59f4006c98781805f1f0eb\")>>\n",
      "<bound method WebDriver.get of <selenium.webdriver.chrome.webdriver.WebDriver (session=\"5c690af5affb94238e1df2ae71d69de8\")>>\n",
      "<bound method WebDriver.get of <selenium.webdriver.chrome.webdriver.WebDriver (session=\"5f798005997d5028463d0cf0e5109e80\")>>\n",
      "<bound method WebDriver.get of <selenium.webdriver.chrome.webdriver.WebDriver (session=\"346d69af40f68edce991225a102434db\")>>\n",
      "<bound method WebDriver.get of <selenium.webdriver.chrome.webdriver.WebDriver (session=\"773cc638b024bfea8ded4c8129aa0659\")>>\n",
      "<bound method WebDriver.get of <selenium.webdriver.chrome.webdriver.WebDriver (session=\"352a7036d16e9f8cf51373f1eef5cd1c\")>>\n",
      "<bound method WebDriver.get of <selenium.webdriver.chrome.webdriver.WebDriver (session=\"f2a219a6c92dc9ef0412355bac1721df\")>>\n",
      "<bound method WebDriver.get of <selenium.webdriver.chrome.webdriver.WebDriver (session=\"be80b968afa8ddda7dc347aeec258abf\")>>\n",
      "<bound method WebDriver.get of <selenium.webdriver.chrome.webdriver.WebDriver (session=\"4a5c1d6418c0016c7bac510d5d6009ec\")>>\n",
      "<bound method WebDriver.get of <selenium.webdriver.chrome.webdriver.WebDriver (session=\"3914e7c65d4a6b00a97428a361c60ae0\")>>\n",
      "<bound method WebDriver.get of <selenium.webdriver.chrome.webdriver.WebDriver (session=\"7346d72869922109abe203a6c21d8016\")>>\n",
      "<bound method WebDriver.get of <selenium.webdriver.chrome.webdriver.WebDriver (session=\"c44d7a9f3fa2c39e3de3a76626061bb6\")>>\n",
      "<bound method WebDriver.get of <selenium.webdriver.chrome.webdriver.WebDriver (session=\"1100c6b186b721a9aedefa9dbe396b8e\")>>\n",
      "<bound method WebDriver.get of <selenium.webdriver.chrome.webdriver.WebDriver (session=\"e381e34458a15f0306e6749f026e03f0\")>>\n"
     ]
    },
    {
     "name": "stdout",
     "output_type": "stream",
     "text": [
      "<bound method WebDriver.get of <selenium.webdriver.chrome.webdriver.WebDriver (session=\"7531ef74dcf7489604172e57874a36b6\")>>\n",
      "<bound method WebDriver.get of <selenium.webdriver.chrome.webdriver.WebDriver (session=\"0bbda431f5240d515f5c446503a66fa3\")>>\n",
      "<bound method WebDriver.get of <selenium.webdriver.chrome.webdriver.WebDriver (session=\"07f5e0b8041994c33a1fd6e56891dd5a\")>>\n",
      "<bound method WebDriver.get of <selenium.webdriver.chrome.webdriver.WebDriver (session=\"1d1e19cde954836eebc1b278b1ffb3b3\")>>\n",
      "<bound method WebDriver.get of <selenium.webdriver.chrome.webdriver.WebDriver (session=\"0a93c416996ec4b32e832d1db23e4ccc\")>>\n",
      "<bound method WebDriver.get of <selenium.webdriver.chrome.webdriver.WebDriver (session=\"75da19c2cffa74b2e0913628e059827a\")>>\n",
      "<bound method WebDriver.get of <selenium.webdriver.chrome.webdriver.WebDriver (session=\"1dd21dcb8a4df7cbe36972d0e7256423\")>>\n",
      "<bound method WebDriver.get of <selenium.webdriver.chrome.webdriver.WebDriver (session=\"5ba478c00c12d32fe43a209bf376c7a5\")>>\n",
      "<bound method WebDriver.get of <selenium.webdriver.chrome.webdriver.WebDriver (session=\"4c1db008cfd6e8866f6eef2194fba610\")>>\n",
      "<bound method WebDriver.get of <selenium.webdriver.chrome.webdriver.WebDriver (session=\"9e45a0482453c8299b99868fe704e9b1\")>>\n",
      "<bound method WebDriver.get of <selenium.webdriver.chrome.webdriver.WebDriver (session=\"5181e0bc73f5f07dfe0c64e958405337\")>>\n",
      "<bound method WebDriver.get of <selenium.webdriver.chrome.webdriver.WebDriver (session=\"5bac5966651034b263f62ef7c4f18192\")>>\n",
      "<bound method WebDriver.get of <selenium.webdriver.chrome.webdriver.WebDriver (session=\"1dfaa60219a121255e8202af1a52aec0\")>>\n",
      "<bound method WebDriver.get of <selenium.webdriver.chrome.webdriver.WebDriver (session=\"01747286dd87477444a36fa2fa9b0b1a\")>>\n",
      "<bound method WebDriver.get of <selenium.webdriver.chrome.webdriver.WebDriver (session=\"ba7bb6f59e9aa8edcb78ea0cb2615715\")>>\n",
      "<bound method WebDriver.get of <selenium.webdriver.chrome.webdriver.WebDriver (session=\"559ab7b5f47487bff7ff9f1bdc9fd212\")>>\n",
      "<bound method WebDriver.get of <selenium.webdriver.chrome.webdriver.WebDriver (session=\"92d932c37e0ff88c3ded9345bf817ca8\")>>\n",
      "<bound method WebDriver.get of <selenium.webdriver.chrome.webdriver.WebDriver (session=\"6f6544da5d071f397f5a638b0e9c1d9b\")>>\n",
      "<bound method WebDriver.get of <selenium.webdriver.chrome.webdriver.WebDriver (session=\"5c86876bd8ac064eeaf9b95e94fe6355\")>>\n",
      "<bound method WebDriver.get of <selenium.webdriver.chrome.webdriver.WebDriver (session=\"d3d57a718629df0768abe923f96abf34\")>>\n",
      "<bound method WebDriver.get of <selenium.webdriver.chrome.webdriver.WebDriver (session=\"12d8bd7696618f2fed49b4d873fe27b2\")>>\n",
      "<bound method WebDriver.get of <selenium.webdriver.chrome.webdriver.WebDriver (session=\"361098ae83489b72df174da919d336e3\")>>\n",
      "<bound method WebDriver.get of <selenium.webdriver.chrome.webdriver.WebDriver (session=\"44bc2d69e40cce9b658d38251639587d\")>>\n",
      "<bound method WebDriver.get of <selenium.webdriver.chrome.webdriver.WebDriver (session=\"30f633e95f3c4bf4b0f0eaa1fc13b206\")>>\n",
      "<bound method WebDriver.get of <selenium.webdriver.chrome.webdriver.WebDriver (session=\"6369f111452273771ff2be208f4036a0\")>>\n",
      "<bound method WebDriver.get of <selenium.webdriver.chrome.webdriver.WebDriver (session=\"a354eee129e0693667c04e4ae9b84fa1\")>>\n",
      "<bound method WebDriver.get of <selenium.webdriver.chrome.webdriver.WebDriver (session=\"3f67f41416f611bb793ae4bddab1f978\")>>\n",
      "<bound method WebDriver.get of <selenium.webdriver.chrome.webdriver.WebDriver (session=\"81e908b3ac59ceb2f386bf55d207741c\")>>\n",
      "<bound method WebDriver.get of <selenium.webdriver.chrome.webdriver.WebDriver (session=\"848ed51eec1ff339d11117e828f7f835\")>>\n",
      "<bound method WebDriver.get of <selenium.webdriver.chrome.webdriver.WebDriver (session=\"fd4a251c40311d642bdd1def1f336849\")>>\n",
      "<bound method WebDriver.get of <selenium.webdriver.chrome.webdriver.WebDriver (session=\"6c93eddceaad7953b1f881d027cf47b2\")>>\n",
      "<bound method WebDriver.get of <selenium.webdriver.chrome.webdriver.WebDriver (session=\"af32ca25c059f17b57ac26e8f4fd58df\")>>\n",
      "<bound method WebDriver.get of <selenium.webdriver.chrome.webdriver.WebDriver (session=\"641ceb65b824e9892b72babb02ab2eb4\")>>\n",
      "<bound method WebDriver.get of <selenium.webdriver.chrome.webdriver.WebDriver (session=\"c26af8a01e2725f003d5f02473dae9b6\")>>\n",
      "<bound method WebDriver.get of <selenium.webdriver.chrome.webdriver.WebDriver (session=\"315384d626c457995922aab3ebcbce3d\")>>\n",
      "<bound method WebDriver.get of <selenium.webdriver.chrome.webdriver.WebDriver (session=\"06239ba9fe6d44e299a8246a48027724\")>>\n",
      "<bound method WebDriver.get of <selenium.webdriver.chrome.webdriver.WebDriver (session=\"9b1ae26694281e1a992d3db21ce1cd21\")>>\n",
      "<bound method WebDriver.get of <selenium.webdriver.chrome.webdriver.WebDriver (session=\"284276fc7456d387ef1fed28dc83628e\")>>\n",
      "<bound method WebDriver.get of <selenium.webdriver.chrome.webdriver.WebDriver (session=\"8af1d2a1ea8d9d2e7f5cfe5fb29b40c3\")>>\n",
      "<bound method WebDriver.get of <selenium.webdriver.chrome.webdriver.WebDriver (session=\"e1a2cd41133fb9a6026c0b85931ca38c\")>>\n",
      "<bound method WebDriver.get of <selenium.webdriver.chrome.webdriver.WebDriver (session=\"816cabddf2346d5871dad7572beaed9c\")>>\n",
      "<bound method WebDriver.get of <selenium.webdriver.chrome.webdriver.WebDriver (session=\"87f595f19110dcc864dc604efcecea9c\")>>\n",
      "<bound method WebDriver.get of <selenium.webdriver.chrome.webdriver.WebDriver (session=\"53e6c81bcc66f29de0e5ce6d4d34ca85\")>>\n",
      "<bound method WebDriver.get of <selenium.webdriver.chrome.webdriver.WebDriver (session=\"a8fac13d7cd994acc0f88b539952711b\")>>\n",
      "<bound method WebDriver.get of <selenium.webdriver.chrome.webdriver.WebDriver (session=\"3c634a1f9af874fb142afc5ec681e753\")>>\n",
      "<bound method WebDriver.get of <selenium.webdriver.chrome.webdriver.WebDriver (session=\"490604739d1338a6e7c2c2c73126cd6b\")>>\n",
      "<bound method WebDriver.get of <selenium.webdriver.chrome.webdriver.WebDriver (session=\"60e72700efa90e717c8613c81ef6a25b\")>>\n",
      "<bound method WebDriver.get of <selenium.webdriver.chrome.webdriver.WebDriver (session=\"f84ced8078a198060a2dbb3af640cc1a\")>>\n",
      "<bound method WebDriver.get of <selenium.webdriver.chrome.webdriver.WebDriver (session=\"8eab82cb5b7e03f51f938cf0400cebea\")>>\n",
      "<bound method WebDriver.get of <selenium.webdriver.chrome.webdriver.WebDriver (session=\"4a10719e864f41da21e5d4fea41041d5\")>>\n",
      "<bound method WebDriver.get of <selenium.webdriver.chrome.webdriver.WebDriver (session=\"d5205c4ae4f9dd6b0fd6f8593a33a32e\")>>\n",
      "<bound method WebDriver.get of <selenium.webdriver.chrome.webdriver.WebDriver (session=\"0174ca2009b91c1561516f5f2066268d\")>>\n",
      "<bound method WebDriver.get of <selenium.webdriver.chrome.webdriver.WebDriver (session=\"bbf66f368048b2f01633d1565db0ab5d\")>>\n",
      "<bound method WebDriver.get of <selenium.webdriver.chrome.webdriver.WebDriver (session=\"5cbcdefcfcc577c1ca40b5aafb7ed1c5\")>>\n",
      "<bound method WebDriver.get of <selenium.webdriver.chrome.webdriver.WebDriver (session=\"34a7ff1845871754c3f0f98931181ed2\")>>\n",
      "<bound method WebDriver.get of <selenium.webdriver.chrome.webdriver.WebDriver (session=\"bf2390b8eaa4d14f2f0091ee5905951d\")>>\n",
      "<bound method WebDriver.get of <selenium.webdriver.chrome.webdriver.WebDriver (session=\"01343fe752d6f2a7419bdd7d78d136c0\")>>\n",
      "<bound method WebDriver.get of <selenium.webdriver.chrome.webdriver.WebDriver (session=\"bf8e82b0bf0e27012b672ad3b7a8912b\")>>\n",
      "<bound method WebDriver.get of <selenium.webdriver.chrome.webdriver.WebDriver (session=\"54910570a3f574ce582a710c28a3f0b0\")>>\n",
      "<bound method WebDriver.get of <selenium.webdriver.chrome.webdriver.WebDriver (session=\"e605f56d558989b7516896825200902e\")>>\n",
      "<bound method WebDriver.get of <selenium.webdriver.chrome.webdriver.WebDriver (session=\"f99b9b76dd8a1489292f18dbac14b294\")>>\n",
      "<bound method WebDriver.get of <selenium.webdriver.chrome.webdriver.WebDriver (session=\"4597d579ecd6c3ae3c700441ec44c7e7\")>>\n",
      "<bound method WebDriver.get of <selenium.webdriver.chrome.webdriver.WebDriver (session=\"31eeb9b33a121fb934c38228b5740ea1\")>>\n",
      "<bound method WebDriver.get of <selenium.webdriver.chrome.webdriver.WebDriver (session=\"cee5d05e2fe0c4e2bc5702ca465898e5\")>>\n",
      "<bound method WebDriver.get of <selenium.webdriver.chrome.webdriver.WebDriver (session=\"9d37c7a3d1afbfa6c86cf388e9e7b66e\")>>\n",
      "<bound method WebDriver.get of <selenium.webdriver.chrome.webdriver.WebDriver (session=\"94e6ce8003251d12370987d458548a40\")>>\n"
     ]
    },
    {
     "name": "stdout",
     "output_type": "stream",
     "text": [
      "<bound method WebDriver.get of <selenium.webdriver.chrome.webdriver.WebDriver (session=\"e10e058cee1fdd5c6322608dd02ddbd5\")>>\n",
      "<bound method WebDriver.get of <selenium.webdriver.chrome.webdriver.WebDriver (session=\"d9961c26584351aa55e9a9dc0530ee6b\")>>\n",
      "<bound method WebDriver.get of <selenium.webdriver.chrome.webdriver.WebDriver (session=\"70568fe625062c878ca18c022db76433\")>>\n",
      "<bound method WebDriver.get of <selenium.webdriver.chrome.webdriver.WebDriver (session=\"3041fabb6daff0f5e89dcd57616fbd8c\")>>\n",
      "<bound method WebDriver.get of <selenium.webdriver.chrome.webdriver.WebDriver (session=\"34b034341f87ec66fca17e1267709b53\")>>\n",
      "<bound method WebDriver.get of <selenium.webdriver.chrome.webdriver.WebDriver (session=\"5e49772b0657e58b51506fca31f01d27\")>>\n",
      "<bound method WebDriver.get of <selenium.webdriver.chrome.webdriver.WebDriver (session=\"8042d6c3d6cd7e15cd25c5be14f6817e\")>>\n",
      "<bound method WebDriver.get of <selenium.webdriver.chrome.webdriver.WebDriver (session=\"801dab02a0cd49dde4cb046e8d4c802a\")>>\n",
      "<bound method WebDriver.get of <selenium.webdriver.chrome.webdriver.WebDriver (session=\"30dd4a8dfd6dc90527e2dce3c25d37a6\")>>\n",
      "<bound method WebDriver.get of <selenium.webdriver.chrome.webdriver.WebDriver (session=\"b438d46c6f507e653563b0e5308cb179\")>>\n",
      "<bound method WebDriver.get of <selenium.webdriver.chrome.webdriver.WebDriver (session=\"e9a0cda7fe07fc44914a7fa6273b9e29\")>>\n",
      "<bound method WebDriver.get of <selenium.webdriver.chrome.webdriver.WebDriver (session=\"d4ca8e9d450afc99828f7f71d661925e\")>>\n",
      "<bound method WebDriver.get of <selenium.webdriver.chrome.webdriver.WebDriver (session=\"98462424bf9074df5976361c82356951\")>>\n",
      "<bound method WebDriver.get of <selenium.webdriver.chrome.webdriver.WebDriver (session=\"a890a306e4a6cc6b9982f76351278232\")>>\n",
      "<bound method WebDriver.get of <selenium.webdriver.chrome.webdriver.WebDriver (session=\"1df9c547b7a7498251d8680280618606\")>>\n",
      "<bound method WebDriver.get of <selenium.webdriver.chrome.webdriver.WebDriver (session=\"01320db5259ffb7c938402b7ef69acd2\")>>\n",
      "<bound method WebDriver.get of <selenium.webdriver.chrome.webdriver.WebDriver (session=\"0bd2f96e1d3c779e95a2c3b852975bf0\")>>\n",
      "<bound method WebDriver.get of <selenium.webdriver.chrome.webdriver.WebDriver (session=\"d06aab7c5864f35320c61f59f30a5e56\")>>\n",
      "<bound method WebDriver.get of <selenium.webdriver.chrome.webdriver.WebDriver (session=\"76af8ac8170c728135f3f3bca54af28e\")>>\n",
      "<bound method WebDriver.get of <selenium.webdriver.chrome.webdriver.WebDriver (session=\"df86f9b13f18c298006efd631de1b58f\")>>\n",
      "<bound method WebDriver.get of <selenium.webdriver.chrome.webdriver.WebDriver (session=\"3602934d3648a282b07092cbef13f822\")>>\n",
      "<bound method WebDriver.get of <selenium.webdriver.chrome.webdriver.WebDriver (session=\"4b5fd194fe1b55d3b20d47b73d5eb5de\")>>\n",
      "<bound method WebDriver.get of <selenium.webdriver.chrome.webdriver.WebDriver (session=\"efc089519057ca35e9d3afacdf09581c\")>>\n",
      "<bound method WebDriver.get of <selenium.webdriver.chrome.webdriver.WebDriver (session=\"2222e90077ab2758a001dc44f88fd696\")>>\n",
      "<bound method WebDriver.get of <selenium.webdriver.chrome.webdriver.WebDriver (session=\"d5f33f2a1e439f5094c4ea1a2ce979a3\")>>\n",
      "<bound method WebDriver.get of <selenium.webdriver.chrome.webdriver.WebDriver (session=\"06791f071d0a7b4ee06a2f569e0f1b3c\")>>\n",
      "<bound method WebDriver.get of <selenium.webdriver.chrome.webdriver.WebDriver (session=\"f0790fbdb0973cd107147fef07e1543e\")>>\n",
      "<bound method WebDriver.get of <selenium.webdriver.chrome.webdriver.WebDriver (session=\"57c3c3678bf871f6a91faa852ffedc56\")>>\n",
      "<bound method WebDriver.get of <selenium.webdriver.chrome.webdriver.WebDriver (session=\"ed46e12ea2f8df0b9c5f0687d15b1f95\")>>\n",
      "<bound method WebDriver.get of <selenium.webdriver.chrome.webdriver.WebDriver (session=\"6ca44b1f52014e135df0eb38ab4024bb\")>>\n",
      "<bound method WebDriver.get of <selenium.webdriver.chrome.webdriver.WebDriver (session=\"8601ad99a58b9212e1308ec6ce4cb063\")>>\n",
      "<bound method WebDriver.get of <selenium.webdriver.chrome.webdriver.WebDriver (session=\"89aec2317b523e1749c6b49885672b30\")>>\n",
      "<bound method WebDriver.get of <selenium.webdriver.chrome.webdriver.WebDriver (session=\"1111ca1fe8c3a149d0cb126193d05194\")>>\n",
      "<bound method WebDriver.get of <selenium.webdriver.chrome.webdriver.WebDriver (session=\"7d5bd128fef7db421509110c217284fa\")>>\n",
      "<bound method WebDriver.get of <selenium.webdriver.chrome.webdriver.WebDriver (session=\"ea28d8bcdc97a544a3345f2f4ed4e647\")>>\n",
      "<bound method WebDriver.get of <selenium.webdriver.chrome.webdriver.WebDriver (session=\"82740ec31fd76c09be015be7c831d49a\")>>\n",
      "<bound method WebDriver.get of <selenium.webdriver.chrome.webdriver.WebDriver (session=\"0c329959e4cbf154d9ce82a84471143b\")>>\n",
      "<bound method WebDriver.get of <selenium.webdriver.chrome.webdriver.WebDriver (session=\"5ed744f4215d80d8fe72bec304350a14\")>>\n",
      "<bound method WebDriver.get of <selenium.webdriver.chrome.webdriver.WebDriver (session=\"d2cc2bad37025408709261517235cb88\")>>\n",
      "<bound method WebDriver.get of <selenium.webdriver.chrome.webdriver.WebDriver (session=\"8fe9beeecd4951dc4422aef02b9d7a52\")>>\n",
      "<bound method WebDriver.get of <selenium.webdriver.chrome.webdriver.WebDriver (session=\"665df6040f1ecf565e0ac38e8a092e61\")>>\n",
      "<bound method WebDriver.get of <selenium.webdriver.chrome.webdriver.WebDriver (session=\"f8b32e95fa33518e282fe6d1b8b69d1a\")>>\n",
      "<bound method WebDriver.get of <selenium.webdriver.chrome.webdriver.WebDriver (session=\"a7e720d6f49c7a7a35728a9a4deb4cf1\")>>\n",
      "<bound method WebDriver.get of <selenium.webdriver.chrome.webdriver.WebDriver (session=\"dc141b6c12ccd74e645e03017fc46eba\")>>\n",
      "<bound method WebDriver.get of <selenium.webdriver.chrome.webdriver.WebDriver (session=\"f02461aee592aa7197f4f88aeffe5386\")>>\n",
      "<bound method WebDriver.get of <selenium.webdriver.chrome.webdriver.WebDriver (session=\"c8fd4edbcdac6cd944df6cc31dfd0f2e\")>>\n",
      "<bound method WebDriver.get of <selenium.webdriver.chrome.webdriver.WebDriver (session=\"2bc8c97ca7634de2a7350652dea1284b\")>>\n",
      "<bound method WebDriver.get of <selenium.webdriver.chrome.webdriver.WebDriver (session=\"f2a795892587ee898bcfd0580fe6c8c6\")>>\n",
      "<bound method WebDriver.get of <selenium.webdriver.chrome.webdriver.WebDriver (session=\"c60fd0a36354122c2b6fa8af01bcf1e1\")>>\n",
      "<bound method WebDriver.get of <selenium.webdriver.chrome.webdriver.WebDriver (session=\"c09c04f5f1406b7b5ab30b6a02442bb8\")>>\n",
      "<bound method WebDriver.get of <selenium.webdriver.chrome.webdriver.WebDriver (session=\"7f55236f83716209f73698d2c781f035\")>>\n",
      "<bound method WebDriver.get of <selenium.webdriver.chrome.webdriver.WebDriver (session=\"7b753c9e6b4a06d29fb4c8e4ce6ccb14\")>>\n",
      "<bound method WebDriver.get of <selenium.webdriver.chrome.webdriver.WebDriver (session=\"f8571e5e815285b6512cdcda34a30500\")>>\n",
      "<bound method WebDriver.get of <selenium.webdriver.chrome.webdriver.WebDriver (session=\"fb8d42b05231b755b3c5f3496bfbe5d2\")>>\n",
      "<bound method WebDriver.get of <selenium.webdriver.chrome.webdriver.WebDriver (session=\"d398698f316555d8af3ea0661c3bc380\")>>\n",
      "<bound method WebDriver.get of <selenium.webdriver.chrome.webdriver.WebDriver (session=\"dc6fadf4830df569dc2227db15e77af0\")>>\n",
      "<bound method WebDriver.get of <selenium.webdriver.chrome.webdriver.WebDriver (session=\"804eaa4e5a67d4b43c24665d75d5502c\")>>\n",
      "<bound method WebDriver.get of <selenium.webdriver.chrome.webdriver.WebDriver (session=\"7e6ea755b3dfa4246624d2a8c3d8eccc\")>>\n",
      "<bound method WebDriver.get of <selenium.webdriver.chrome.webdriver.WebDriver (session=\"154d84eaa95095a280b77892eb56da98\")>>\n",
      "<bound method WebDriver.get of <selenium.webdriver.chrome.webdriver.WebDriver (session=\"32ed4c5bd0874d551c3562d86bff61ee\")>>\n",
      "<bound method WebDriver.get of <selenium.webdriver.chrome.webdriver.WebDriver (session=\"b174e791a3fb103720378b9e0d828b44\")>>\n",
      "<bound method WebDriver.get of <selenium.webdriver.chrome.webdriver.WebDriver (session=\"e66a82de67c3b2a80024ca5ad548b36d\")>>\n",
      "<bound method WebDriver.get of <selenium.webdriver.chrome.webdriver.WebDriver (session=\"e1cae35b8cb91b10bf12273cd250b8d2\")>>\n",
      "<bound method WebDriver.get of <selenium.webdriver.chrome.webdriver.WebDriver (session=\"8dc2c5cad9e6d5a7b69cd273bc1606e8\")>>\n",
      "<bound method WebDriver.get of <selenium.webdriver.chrome.webdriver.WebDriver (session=\"d18e8e3de28327e853a4be17b6a43541\")>>\n",
      "<bound method WebDriver.get of <selenium.webdriver.chrome.webdriver.WebDriver (session=\"63cdaf7d8aaa8d35ca85a0127ad4ab2c\")>>\n"
     ]
    },
    {
     "name": "stdout",
     "output_type": "stream",
     "text": [
      "<bound method WebDriver.get of <selenium.webdriver.chrome.webdriver.WebDriver (session=\"749a80f9c7af68b0e15cd99cd5f91b90\")>>\n",
      "<bound method WebDriver.get of <selenium.webdriver.chrome.webdriver.WebDriver (session=\"b82bc2edb92bec07bf532493ba4d2fd1\")>>\n",
      "<bound method WebDriver.get of <selenium.webdriver.chrome.webdriver.WebDriver (session=\"4cd4efde7f222a599bd66fa20967c2db\")>>\n",
      "<bound method WebDriver.get of <selenium.webdriver.chrome.webdriver.WebDriver (session=\"e26b7aa066f1c2713bc1ac8d9559d9cf\")>>\n",
      "<bound method WebDriver.get of <selenium.webdriver.chrome.webdriver.WebDriver (session=\"dbced390b7851494f7eedb5cabd43231\")>>\n",
      "<bound method WebDriver.get of <selenium.webdriver.chrome.webdriver.WebDriver (session=\"3723c17444bf8eaff6b6b4bc254ceeb9\")>>\n",
      "<bound method WebDriver.get of <selenium.webdriver.chrome.webdriver.WebDriver (session=\"c5c045e70b71ed4a834f062488289be6\")>>\n",
      "<bound method WebDriver.get of <selenium.webdriver.chrome.webdriver.WebDriver (session=\"5bf66e72df62bb172bab93b58d0a3579\")>>\n",
      "<bound method WebDriver.get of <selenium.webdriver.chrome.webdriver.WebDriver (session=\"d078c5065c02b45ace1e2130bae2fbea\")>>\n",
      "<bound method WebDriver.get of <selenium.webdriver.chrome.webdriver.WebDriver (session=\"39fe5c800722d920ba766fb5f5964f13\")>>\n",
      "<bound method WebDriver.get of <selenium.webdriver.chrome.webdriver.WebDriver (session=\"34f3636a6d8bc263b15cadbbd671b8d4\")>>\n",
      "<bound method WebDriver.get of <selenium.webdriver.chrome.webdriver.WebDriver (session=\"030d96d1e86993619d6cc7bb7e60358f\")>>\n",
      "<bound method WebDriver.get of <selenium.webdriver.chrome.webdriver.WebDriver (session=\"e26f1886f4b640422616fc31c97e1dec\")>>\n",
      "<bound method WebDriver.get of <selenium.webdriver.chrome.webdriver.WebDriver (session=\"6abcfd55ae3a1ec54aa39e58aed1dca0\")>>\n",
      "<bound method WebDriver.get of <selenium.webdriver.chrome.webdriver.WebDriver (session=\"07087305944598eacf2274df3da4e735\")>>\n",
      "<bound method WebDriver.get of <selenium.webdriver.chrome.webdriver.WebDriver (session=\"2848fad4f2b0129ee272c1344df24304\")>>\n",
      "<bound method WebDriver.get of <selenium.webdriver.chrome.webdriver.WebDriver (session=\"e10b51fd81df7038b728103e24fb8655\")>>\n",
      "<bound method WebDriver.get of <selenium.webdriver.chrome.webdriver.WebDriver (session=\"ea0ec0dab32f299044fbd691c9ab1ef5\")>>\n",
      "<bound method WebDriver.get of <selenium.webdriver.chrome.webdriver.WebDriver (session=\"7890a8a5ff9011358be8b4953e529a91\")>>\n",
      "<bound method WebDriver.get of <selenium.webdriver.chrome.webdriver.WebDriver (session=\"168217d1ec0fcaa8004dfc752b7a8595\")>>\n",
      "<bound method WebDriver.get of <selenium.webdriver.chrome.webdriver.WebDriver (session=\"6d200809f876d4f94b012e3c183deaeb\")>>\n",
      "<bound method WebDriver.get of <selenium.webdriver.chrome.webdriver.WebDriver (session=\"5b7e8063e9f17dea0b79e018ce3bca80\")>>\n",
      "<bound method WebDriver.get of <selenium.webdriver.chrome.webdriver.WebDriver (session=\"b8e2d2707d4c63a8e711ff018b0636eb\")>>\n",
      "<bound method WebDriver.get of <selenium.webdriver.chrome.webdriver.WebDriver (session=\"8bc5af2fcdbbee0e96135c85489410f8\")>>\n",
      "<bound method WebDriver.get of <selenium.webdriver.chrome.webdriver.WebDriver (session=\"e5f367357d2aece3c51f492d340f092f\")>>\n",
      "<bound method WebDriver.get of <selenium.webdriver.chrome.webdriver.WebDriver (session=\"d0177f8fbf46ce6ff36c169db4e798f5\")>>\n",
      "<bound method WebDriver.get of <selenium.webdriver.chrome.webdriver.WebDriver (session=\"694e0da52347504d3e79988e52e54540\")>>\n",
      "<bound method WebDriver.get of <selenium.webdriver.chrome.webdriver.WebDriver (session=\"a71be24dd5a722838f9f587f39ca1bb2\")>>\n",
      "<bound method WebDriver.get of <selenium.webdriver.chrome.webdriver.WebDriver (session=\"433a917644aae29f823d7b0348fac782\")>>\n",
      "<bound method WebDriver.get of <selenium.webdriver.chrome.webdriver.WebDriver (session=\"80505e15d3414c6d623269ad51aaa404\")>>\n",
      "<bound method WebDriver.get of <selenium.webdriver.chrome.webdriver.WebDriver (session=\"2eb19c901a4bcecbd72266a2e67c9cf0\")>>\n",
      "<bound method WebDriver.get of <selenium.webdriver.chrome.webdriver.WebDriver (session=\"21d5fbecd0748e0a5da38b154bc466cb\")>>\n",
      "<bound method WebDriver.get of <selenium.webdriver.chrome.webdriver.WebDriver (session=\"0ccd5e2deb6518fcc2e321ae71a280e5\")>>\n",
      "<bound method WebDriver.get of <selenium.webdriver.chrome.webdriver.WebDriver (session=\"05c7f9a415b7bdc1e64baccd6c6dd613\")>>\n",
      "<bound method WebDriver.get of <selenium.webdriver.chrome.webdriver.WebDriver (session=\"1f0d7a8d13aad14b3a3acdcf0ed917b2\")>>\n",
      "<bound method WebDriver.get of <selenium.webdriver.chrome.webdriver.WebDriver (session=\"f41c9e4803bd31ae556a0264ca4232b1\")>>\n",
      "<bound method WebDriver.get of <selenium.webdriver.chrome.webdriver.WebDriver (session=\"0b751efc11ee185847e0a3459bf5c22d\")>>\n",
      "<bound method WebDriver.get of <selenium.webdriver.chrome.webdriver.WebDriver (session=\"d3a025c8987c9ee87b99aefdfaeff893\")>>\n",
      "<bound method WebDriver.get of <selenium.webdriver.chrome.webdriver.WebDriver (session=\"b2aa14808d79a2cdbaf532e7bae6760e\")>>\n",
      "<bound method WebDriver.get of <selenium.webdriver.chrome.webdriver.WebDriver (session=\"ba12ec64ee39b107f27f02e065f194ec\")>>\n",
      "<bound method WebDriver.get of <selenium.webdriver.chrome.webdriver.WebDriver (session=\"a088b8ba35a5ec2ae799a83914d5d715\")>>\n",
      "<bound method WebDriver.get of <selenium.webdriver.chrome.webdriver.WebDriver (session=\"9f2d35773198c049cd9e7efcbfc215a8\")>>\n",
      "<bound method WebDriver.get of <selenium.webdriver.chrome.webdriver.WebDriver (session=\"279d3bdc82cade8e60565f94f01ef501\")>>\n",
      "<bound method WebDriver.get of <selenium.webdriver.chrome.webdriver.WebDriver (session=\"67b293d02cd3edb677e830fae77fe3b6\")>>\n",
      "<bound method WebDriver.get of <selenium.webdriver.chrome.webdriver.WebDriver (session=\"b7c6929fce9c01b7396315bed672a891\")>>\n",
      "<bound method WebDriver.get of <selenium.webdriver.chrome.webdriver.WebDriver (session=\"cab2688dcec3b9543e3e0a140b996ebc\")>>\n",
      "<bound method WebDriver.get of <selenium.webdriver.chrome.webdriver.WebDriver (session=\"84053be34536946e0506d1b049c5b91c\")>>\n",
      "<bound method WebDriver.get of <selenium.webdriver.chrome.webdriver.WebDriver (session=\"4663889689f91020a1caabf3c7b83ab3\")>>\n",
      "<bound method WebDriver.get of <selenium.webdriver.chrome.webdriver.WebDriver (session=\"05d6e5a0223f8206d211f8dd5f616232\")>>\n",
      "<bound method WebDriver.get of <selenium.webdriver.chrome.webdriver.WebDriver (session=\"b388eaf18c59659931567494f64497bd\")>>\n",
      "<bound method WebDriver.get of <selenium.webdriver.chrome.webdriver.WebDriver (session=\"ad884bdd760c390babc9b173fcc0b5cd\")>>\n",
      "<bound method WebDriver.get of <selenium.webdriver.chrome.webdriver.WebDriver (session=\"7974f9cfa7f8459860c23250d393adf4\")>>\n",
      "<bound method WebDriver.get of <selenium.webdriver.chrome.webdriver.WebDriver (session=\"5059f5f0d24517bc8e46f555d5ffaca3\")>>\n",
      "<bound method WebDriver.get of <selenium.webdriver.chrome.webdriver.WebDriver (session=\"d9c9fb26702cb79cbf2ee79a8ad07aa6\")>>\n",
      "<bound method WebDriver.get of <selenium.webdriver.chrome.webdriver.WebDriver (session=\"319f038faa21f97bc770fb3cd9770cd9\")>>\n",
      "<bound method WebDriver.get of <selenium.webdriver.chrome.webdriver.WebDriver (session=\"5a054489c09ce36fed2bba58f7ecb578\")>>\n",
      "<bound method WebDriver.get of <selenium.webdriver.chrome.webdriver.WebDriver (session=\"c07f531835da70b9ea5d2900ed8290e7\")>>\n",
      "<bound method WebDriver.get of <selenium.webdriver.chrome.webdriver.WebDriver (session=\"f5b5f5b11d29dfe8019e8596e0d84ed5\")>>\n",
      "<bound method WebDriver.get of <selenium.webdriver.chrome.webdriver.WebDriver (session=\"606129a9c038182cfda7cb114062b925\")>>\n",
      "<bound method WebDriver.get of <selenium.webdriver.chrome.webdriver.WebDriver (session=\"69ddf26914d82a8bd2914161c6496439\")>>\n",
      "<bound method WebDriver.get of <selenium.webdriver.chrome.webdriver.WebDriver (session=\"32ed3b9267902230fbf23919f2202983\")>>\n",
      "<bound method WebDriver.get of <selenium.webdriver.chrome.webdriver.WebDriver (session=\"17d2b07e6662a24617bcd207e373d0f1\")>>\n",
      "<bound method WebDriver.get of <selenium.webdriver.chrome.webdriver.WebDriver (session=\"082478e1cceac2fbdc62f49f50fe05a9\")>>\n",
      "<bound method WebDriver.get of <selenium.webdriver.chrome.webdriver.WebDriver (session=\"b70a22535e9c7923ff6b264dc6cb95cc\")>>\n",
      "<bound method WebDriver.get of <selenium.webdriver.chrome.webdriver.WebDriver (session=\"eff7890085fb2d76f1418daf16ba1159\")>>\n",
      "<bound method WebDriver.get of <selenium.webdriver.chrome.webdriver.WebDriver (session=\"1e7546a9bf4a7c4ed59fae5b6170e2dd\")>>\n"
     ]
    },
    {
     "name": "stdout",
     "output_type": "stream",
     "text": [
      "<bound method WebDriver.get of <selenium.webdriver.chrome.webdriver.WebDriver (session=\"26faa5754906d679fc98f6295bef3987\")>>\n",
      "<bound method WebDriver.get of <selenium.webdriver.chrome.webdriver.WebDriver (session=\"ba0549e45a60a38d6a90cdd6a3e1e80a\")>>\n",
      "<bound method WebDriver.get of <selenium.webdriver.chrome.webdriver.WebDriver (session=\"a42459120a3fb7a684af64b0595cb43c\")>>\n",
      "<bound method WebDriver.get of <selenium.webdriver.chrome.webdriver.WebDriver (session=\"1292cb80cb2aec98c4549876ff5343d4\")>>\n",
      "<bound method WebDriver.get of <selenium.webdriver.chrome.webdriver.WebDriver (session=\"c7b7fb3a21ff71f14ddf042b4963b847\")>>\n",
      "<bound method WebDriver.get of <selenium.webdriver.chrome.webdriver.WebDriver (session=\"6ce7d4e8dfa874377fc39629cbc8310a\")>>\n",
      "<bound method WebDriver.get of <selenium.webdriver.chrome.webdriver.WebDriver (session=\"c244bc1eebdbc96bbe967e8622f69209\")>>\n",
      "<bound method WebDriver.get of <selenium.webdriver.chrome.webdriver.WebDriver (session=\"a0adb15744f9edf08876726e81d06a7d\")>>\n"
     ]
    }
   ],
   "source": [
    "dict={}\n",
    "number = 1400  #크롤링하고자하는 블로그 글의 갯수\n",
    "for i in tqdm(range(270, number)): \n",
    "    # 글 띄우기\n",
    "    url = url_load['url'][i]\n",
    "    #print(url.split(\"logNo=\")[1])\n",
    "    driver = webdriver.Chrome(r\"D:\\Python\\TM\\drivers\\chromedriver.exe\")\n",
    "    driver.get(url)   # 글 띄우기\n",
    "    print(driver.get)\n",
    "     # 크롤링\n",
    "    time.sleep(1)\n",
    "    \n",
    "    try : \n",
    "        driver. switch_to.frame('mainFrame')\n",
    "\n",
    "        target_info = {}\n",
    "        # 제목 크롤링 시작\n",
    "        #tit = driver.find_element_by_css_selector(overlays)         # title\n",
    "        tit=driver.find_element(By.XPATH,'//meta[@property=\"og:title\"]')\n",
    "        #title = tit.text .get_attribute(\"\")\n",
    "        title = driver.find_element(By.XPATH,'//meta[@property=\"og:title\"]').get_attribute(\"content\")\n",
    "        # 에러나면 현재 크롬창 닫고 다음 글(i+1)로 이동\n",
    "\n",
    "        # 글쓴이 크롤링 시작                                 \n",
    "        #nick = driver.find_element_by_css_selector(overlays)         # nick\n",
    "        nick=driver.find_element(By.XPATH,'//meta[@property=\"naverblog:nickname\"]')\n",
    "        #nickname = nick.text\n",
    "        nickname = driver.find_element(By.XPATH,'//meta[@property=\"naverblog:nickname\"]').get_attribute(\"content\")\n",
    "\n",
    "        # 날짜 크롤링\n",
    "        datetime =url_load['date'][i]                              \n",
    "\n",
    "        # 내용 크롤링\n",
    "        # 네이버 블로그 포스팅 버전 1. #postViewArea\n",
    "        # 네이버 블로그 포스팅 버전 2. #post-view222566374177 > div > div > div.se-main-container \n",
    "        soups = BeautifulSoup(driver.page_source, \"lxml\") \n",
    "\n",
    "        if soups.find(\"div\", attrs={\"class\":\"se-main-container\"}):\n",
    "            contents = soups.find(\"div\", attrs={\"class\":\"se-main-container\"}).get_text()\n",
    "            contents = contents.replace(\"\\n\",\"\") #공백 제거\n",
    "\n",
    "        elif soups.find(\"div\", attrs={\"id\":\"postViewArea\"}):\n",
    "            contents = soups.find(\"div\", attrs={\"id\":\"postViewArea\"}).get_text()\n",
    "            contents = contents.replace(\"\\n\",\"\") \n",
    "        else:\n",
    "            contents =  \"네이버 블로그는 맞지만, 확인불가\"\n",
    "            \n",
    "    # 에러나면 현재 크롬창 닫고 다음 글(i+1)로 이동\n",
    "    except:\n",
    "        driver.close()\n",
    "        time.sleep(1)\n",
    "        continue\n",
    "    \n",
    "    # 중간,중간에 파일로 저장하기\n",
    "    if i% 30 == 0  or i% 50 == 0 or i%80 == 0:\n",
    "        # 판다스로 만들기\n",
    "        import pandas as pd\n",
    "        result_df = pd.DataFrame.from_dict(dict, 'index')\n",
    "\n",
    "        # 저장하기\n",
    "        result_df.to_excel(r\"D:\\Python\\TM\\TeamProject/netflix_6month_2.xlsx\")\n",
    "        time.sleep(3)\n",
    "    \n",
    "    \n",
    "    # 글 하나는 target_info라는 딕셔너리에 담기게 되고,\n",
    "    target_info['title'] = title\n",
    "    target_info['nickname'] = nickname\n",
    "    target_info['datetime'] = datetime\n",
    "    target_info['content'] = contents    \n",
    "\n",
    "    # 각각의 글은 dict라는 딕셔너리에 담기게 됩니다.\n",
    "    dict[i] = target_info\n",
    "    time.sleep(1)\n",
    "        \n",
    "driver.close()        \n",
    "result_df = pd.DataFrame.from_dict(dict, 'index')\n",
    "\n",
    "\n",
    "\n",
    "# 저장하기\n",
    "result_df.to_excel(r\"D:\\Python\\TM\\TeamProject/netflix_6month_2.xlsx\")\n"
   ]
  },
  {
   "cell_type": "code",
   "execution_count": 1,
   "metadata": {},
   "outputs": [],
   "source": [
    "from glob import glob\n",
    "def grabFileName(filename) :\n",
    "    \n",
    "    filetext = r\"D:\\Python\\TM\\TeamProject/\" + filename + \"*.xlsx\"\n",
    "    file_names = glob(filetext) #폴더 내의 모든 csv파일 목록을 불러온다\n",
    "    total = pd.DataFrame() #빈 데이터프레임 하나를 생성한다\n",
    "\n",
    "    for file_name in file_names:\n",
    "        temp = pd.read_excel(file_name) \n",
    "        total = pd.concat([total, temp]) #전체 데이터프레임에 추가하여 넣는다\n",
    "    \n",
    "    total=total.loc[:,['Unnamed: 0','title','nickname','datetime','content']]\n",
    "    total.to_excel(r\"D:\\Python\\TM\\TeamProject/\" + filename +\"all.xlsx\")\n",
    "    "
   ]
  },
  {
   "cell_type": "code",
   "execution_count": 3,
   "metadata": {
    "colab": {
     "referenced_widgets": [
      "58838cef24194b70b6611da86a92c8e7"
     ]
    },
    "id": "xEMlzIBexPeA",
    "outputId": "26cd8ca1-58c4-47e2-939d-358024cabc8c"
   },
   "outputs": [],
   "source": [
    "grabFileName(\"netflix_6month_\")"
   ]
  }
 ],
 "metadata": {
  "colab": {
   "collapsed_sections": [],
   "include_colab_link": true,
   "name": "Code1_네이버블로그_크롤링.ipynb",
   "provenance": [],
   "toc_visible": true
  },
  "kernelspec": {
   "display_name": "Python 3",
   "language": "python",
   "name": "python3"
  },
  "language_info": {
   "codemirror_mode": {
    "name": "ipython",
    "version": 3
   },
   "file_extension": ".py",
   "mimetype": "text/x-python",
   "name": "python",
   "nbconvert_exporter": "python",
   "pygments_lexer": "ipython3",
   "version": "3.8.8"
  }
 },
 "nbformat": 4,
 "nbformat_minor": 1
}
