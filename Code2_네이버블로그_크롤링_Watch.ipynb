{
 "cells": [
  {
   "cell_type": "code",
   "execution_count": 1,
   "metadata": {
    "id": "Z8qgriQVxPcy"
   },
   "outputs": [],
   "source": [
    "#Step 0. 필요한 모듈과 라이브러리를 로딩합니다.\n",
    "import sys\n",
    "import os\n",
    "import pandas as pd\n",
    "import numpy as np\n",
    "import openpyxl\n",
    "from datetime import datetime, timedelta\n",
    "\n",
    "\n",
    "from bs4 import BeautifulSoup\n",
    "from selenium import webdriver\n",
    "from selenium.webdriver.common.by import By\n",
    "import time\n",
    "import tqdm\n",
    "from tqdm.notebook import tqdm"
   ]
  },
  {
   "cell_type": "code",
   "execution_count": 2,
   "metadata": {},
   "outputs": [],
   "source": [
    "query_txt='왓챠 '"
   ]
  },
  {
   "cell_type": "markdown",
   "metadata": {},
   "source": [
    "## 대표프로그램 에 대한 사용자 컨텐츠 가져오기"
   ]
  },
  {
   "cell_type": "code",
   "execution_count": 3,
   "metadata": {},
   "outputs": [
    {
     "data": {
      "text/html": [
       "<div>\n",
       "<style scoped>\n",
       "    .dataframe tbody tr th:only-of-type {\n",
       "        vertical-align: middle;\n",
       "    }\n",
       "\n",
       "    .dataframe tbody tr th {\n",
       "        vertical-align: top;\n",
       "    }\n",
       "\n",
       "    .dataframe thead th {\n",
       "        text-align: right;\n",
       "    }\n",
       "</style>\n",
       "<table border=\"1\" class=\"dataframe\">\n",
       "  <thead>\n",
       "    <tr style=\"text-align: right;\">\n",
       "      <th></th>\n",
       "      <th>Unnamed: 0</th>\n",
       "      <th>TITLE</th>\n",
       "      <th>LINK</th>\n",
       "      <th>GENRES</th>\n",
       "    </tr>\n",
       "  </thead>\n",
       "  <tbody>\n",
       "    <tr>\n",
       "      <th>0</th>\n",
       "      <td>0</td>\n",
       "      <td>채플웨이트: 피의 저택</td>\n",
       "      <td>https://watcha.com/ko-KR/contents/tPDOdmo</td>\n",
       "      <td>드라마,공포,미스터리,TV드라마</td>\n",
       "    </tr>\n",
       "    <tr>\n",
       "      <th>1</th>\n",
       "      <td>1</td>\n",
       "      <td>도굴</td>\n",
       "      <td>https://watcha.com/ko-KR/contents/mO1jn9Q</td>\n",
       "      <td>범죄</td>\n",
       "    </tr>\n",
       "    <tr>\n",
       "      <th>2</th>\n",
       "      <td>2</td>\n",
       "      <td>더듬이TV: 우당탕탕 안테나</td>\n",
       "      <td>https://watcha.com/ko-KR/contents/tRp4MDe</td>\n",
       "      <td>예능</td>\n",
       "    </tr>\n",
       "    <tr>\n",
       "      <th>3</th>\n",
       "      <td>3</td>\n",
       "      <td>왕좌의 게임</td>\n",
       "      <td>https://watcha.com/ko-KR/contents/tRB0Xql</td>\n",
       "      <td>액션,모험,드라마,판타지,로맨스,TV드라마</td>\n",
       "    </tr>\n",
       "    <tr>\n",
       "      <th>4</th>\n",
       "      <td>4</td>\n",
       "      <td>거침없이 하이킥</td>\n",
       "      <td>https://watcha.com/ko-KR/contents/tlGmjZR</td>\n",
       "      <td>드라마,시트콤,코미디,TV드라마</td>\n",
       "    </tr>\n",
       "    <tr>\n",
       "      <th>...</th>\n",
       "      <td>...</td>\n",
       "      <td>...</td>\n",
       "      <td>...</td>\n",
       "      <td>...</td>\n",
       "    </tr>\n",
       "    <tr>\n",
       "      <th>95</th>\n",
       "      <td>95</td>\n",
       "      <td>제빵왕 김탁구</td>\n",
       "      <td>https://watcha.com/ko-KR/contents/t8E6Qql</td>\n",
       "      <td>드라마,TV드라마</td>\n",
       "    </tr>\n",
       "    <tr>\n",
       "      <th>96</th>\n",
       "      <td>96</td>\n",
       "      <td>백두산</td>\n",
       "      <td>https://watcha.com/ko-KR/contents/m5X2Mlz</td>\n",
       "      <td>드라마,액션,모험,재난</td>\n",
       "    </tr>\n",
       "    <tr>\n",
       "      <th>97</th>\n",
       "      <td>97</td>\n",
       "      <td>아머드 사우루스</td>\n",
       "      <td>https://watcha.com/ko-KR/contents/tlGNyg4</td>\n",
       "      <td>모험,액션,TV드라마,키즈</td>\n",
       "    </tr>\n",
       "    <tr>\n",
       "      <th>98</th>\n",
       "      <td>98</td>\n",
       "      <td>달의 연인 - 보보경심 려</td>\n",
       "      <td>https://watcha.com/ko-KR/contents/tR48YwR</td>\n",
       "      <td>판타지,로맨스,시대극,드라마,TV드라마</td>\n",
       "    </tr>\n",
       "    <tr>\n",
       "      <th>99</th>\n",
       "      <td>99</td>\n",
       "      <td>극장판 짱구는 못말려 9기: 어른 제국의 역습</td>\n",
       "      <td>https://watcha.com/ko-KR/contents/m5rQ8bd</td>\n",
       "      <td>애니메이션,코미디,가족</td>\n",
       "    </tr>\n",
       "  </tbody>\n",
       "</table>\n",
       "<p>100 rows × 4 columns</p>\n",
       "</div>"
      ],
      "text/plain": [
       "    Unnamed: 0                      TITLE  \\\n",
       "0            0               채플웨이트: 피의 저택   \n",
       "1            1                         도굴   \n",
       "2            2            더듬이TV: 우당탕탕 안테나   \n",
       "3            3                     왕좌의 게임   \n",
       "4            4                   거침없이 하이킥   \n",
       "..         ...                        ...   \n",
       "95          95                    제빵왕 김탁구   \n",
       "96          96                        백두산   \n",
       "97          97                   아머드 사우루스   \n",
       "98          98             달의 연인 - 보보경심 려   \n",
       "99          99  극장판 짱구는 못말려 9기: 어른 제국의 역습   \n",
       "\n",
       "                                         LINK                   GENRES  \n",
       "0   https://watcha.com/ko-KR/contents/tPDOdmo        드라마,공포,미스터리,TV드라마  \n",
       "1   https://watcha.com/ko-KR/contents/mO1jn9Q                       범죄  \n",
       "2   https://watcha.com/ko-KR/contents/tRp4MDe                       예능  \n",
       "3   https://watcha.com/ko-KR/contents/tRB0Xql  액션,모험,드라마,판타지,로맨스,TV드라마  \n",
       "4   https://watcha.com/ko-KR/contents/tlGmjZR        드라마,시트콤,코미디,TV드라마  \n",
       "..                                        ...                      ...  \n",
       "95  https://watcha.com/ko-KR/contents/t8E6Qql                드라마,TV드라마  \n",
       "96  https://watcha.com/ko-KR/contents/m5X2Mlz             드라마,액션,모험,재난  \n",
       "97  https://watcha.com/ko-KR/contents/tlGNyg4           모험,액션,TV드라마,키즈  \n",
       "98  https://watcha.com/ko-KR/contents/tR48YwR    판타지,로맨스,시대극,드라마,TV드라마  \n",
       "99  https://watcha.com/ko-KR/contents/m5rQ8bd             애니메이션,코미디,가족  \n",
       "\n",
       "[100 rows x 4 columns]"
      ]
     },
     "execution_count": 3,
     "metadata": {},
     "output_type": "execute_result"
    }
   ],
   "source": [
    "watcha_df=pd.read_excel(r\"D:\\Python\\TM\\TeamProject/watcha_contents.xlsx\")\n",
    "watcha_df"
   ]
  },
  {
   "cell_type": "code",
   "execution_count": 4,
   "metadata": {},
   "outputs": [
    {
     "name": "stdout",
     "output_type": "stream",
     "text": [
      "['왓챠  채플웨이트: 피의 저택', '왓챠  도굴', '왓챠  더듬이TV: 우당탕탕 안테나', '왓챠  왕좌의 게임', '왓챠  거침없이 하이킥', '왓챠  팽', '왓챠  귀멸의 칼날', '왓챠  해리포터와 마법사의 돌', '왓챠  해리포터와 비밀의 방', '왓챠  해리포터와 아즈카반의 죄수', '왓챠  해리포터와 불의 잔', '왓챠  해리포터와 불사조 기사단', '왓챠  해리포터와 혼혈왕자', '왓챠  해리포터와 죽음의 성물 1', '왓챠  해리포터와 죽음의 성물 2', '왓챠  체르노빌', '왓챠  하이큐!!', '왓챠  무한도전', '왓챠  와이 우먼 킬', '왓챠  주술회전', '왓챠  런닝맨', '왓챠  스토브리그', '왓챠  베놈', '왓챠  덱스터', '왓챠  태양의 후예', '왓챠  새빛남고 학생회', '왓챠  이누야샤', '왓챠  진격의 거인', '왓챠  커피 한잔 할까요?', '왓챠  도쿄 리벤저스', '왓챠  언내추럴', '왓챠  어쩌다 발견한 하루', '왓챠  리버풀 FC: 엔드 오브 스톰', '왓챠  징크스', '왓챠  킬링 이브', \"왓챠  2021 스페셜 토크쇼 'Let’s BTS'\", '왓챠  명탐정 코난', '왓챠  전생했더니 슬라임이었던 건에 대하여', '왓챠  신인왕 방탄소년단 - 채널방탄', '왓챠  클라리스', '왓챠  그린 나이트', '왓챠  나는 SOLO', '왓챠  30살까지 동정이면 마법사가 될 수 있대', '왓챠  오피스', '왓챠  극장판 귀멸의 칼날: 무한열차편', '왓챠  다만 악에서 구하소서', '왓챠  지붕 뚫고 하이킥', '왓챠  원피스', '왓챠  닥터스', '왓챠  섹스 앤 더 시티', '왓챠  아희환니', '왓챠  진정령', '왓챠  학원 베이비시터즈', '왓챠  우수무당 가두심', '왓챠  연애혁명', '왓챠  낭만닥터 김사부', '왓챠  반지의 제왕 : 반지 원정대', '왓챠  한자와 나오키', '왓챠  도망치는 건 부끄럽지만 도움이 된다', '왓챠  중경삼림 리마스터링', '왓챠  가장 따뜻한 색, 블루', '왓챠  최애', '왓챠  1박 2일', '왓챠  궁', '왓챠  웨스트월드', '왓챠  하코즈메 ~싸워라! 파출소 여자들~', '왓챠  심야 괴담회', '왓챠  쌈 마이웨이', '왓챠  안녕, 프란체스카', '왓챠  나의 히어로 아카데미아', '왓챠  역도 요정 김복주', '왓챠  님포매니악 볼륨1', '왓챠  그레이의 50가지 그림자', '왓챠  밴드 오브 브라더스', '왓챠  W', '왓챠  콜 미 바이 유어 네임', '왓챠  네모바지 스폰지밥', '왓챠  브람스를 좋아하세요', '왓챠  기생충', '왓챠  극주부도', '왓챠  육룡이 나르샤', '왓챠  닥터 후', '왓챠  담보', '왓챠  퐁당퐁당 LOVE', '왓챠  그림자 미녀', '왓챠  상속자들', '왓챠  MIU404', '왓챠  앙상블 스타즈!', '왓챠  천고결진', '왓챠  라라랜드', '왓챠  고백부부', '왓챠  명탐정 코난: 진홍의 수학여행', '왓챠  일부소심렴도애', '왓챠  아가씨', '왓챠  색, 계', '왓챠  제빵왕 김탁구', '왓챠  백두산', '왓챠  아머드 사우루스', '왓챠  달의 연인 - 보보경심 려', '왓챠  극장판 짱구는 못말려 9기: 어른 제국의 역습']\n"
     ]
    }
   ],
   "source": [
    "query_list= watcha_df[\"TITLE\"].tolist()\n",
    "query_list = [query_txt + \" \" + i for i in query_list]\n",
    "print(query_list)"
   ]
  },
  {
   "cell_type": "markdown",
   "metadata": {},
   "source": [
    "### step 1. 대표프로그램 중 50개의 프로그램에 대해서 블로그 검색 URL  가져오기"
   ]
  },
  {
   "cell_type": "code",
   "execution_count": 5,
   "metadata": {},
   "outputs": [
    {
     "name": "stderr",
     "output_type": "stream",
     "text": [
      "<ipython-input-5-1f17cd855318>:7: DeprecationWarning: executable_path has been deprecated, please pass in a Service object\n",
      "  driver = webdriver.Chrome(r\"D:\\Python\\TM\\drivers\\chromedriver.exe\")\n",
      "<ipython-input-5-1f17cd855318>:15: DeprecationWarning: find_element_by_* commands are deprecated. Please use find_element() instead\n",
      "  element = driver.find_element_by_id(\"query\")\n",
      "<ipython-input-5-1f17cd855318>:21: DeprecationWarning: find_element_by_* commands are deprecated. Please use find_element() instead\n",
      "  driver.find_element_by_link_text(\"VIEW\").click( )\n",
      "<ipython-input-5-1f17cd855318>:24: DeprecationWarning: find_element_by_* commands are deprecated. Please use find_element() instead\n",
      "  driver.find_element_by_link_text(\"블로그\").click( )    # .click() 괄호 안을 눌러라는 뜻\n",
      "<ipython-input-5-1f17cd855318>:29: DeprecationWarning: find_element_by_* commands are deprecated. Please use find_element() instead\n",
      "  driver.find_element_by_xpath('//*[@id=\"snb\"]/div[1]/div/div[2]/a').click( )\n",
      "<ipython-input-5-1f17cd855318>:33: DeprecationWarning: find_element_by_* commands are deprecated. Please use find_element() instead\n",
      "  driver.find_element_by_xpath('//*[@id=\"snb\"]/div[2]/ul/li[2]/div/div/a[1]').click( )  # 정렬 버튼의 xpath 클릭\n",
      "<ipython-input-5-1f17cd855318>:38: DeprecationWarning: find_element_by_* commands are deprecated. Please use find_element() instead\n",
      "  driver.find_element_by_xpath('//*[@id=\"snb\"]/div[1]/div/div[2]/a').click( )\n"
     ]
    }
   ],
   "source": [
    "data_param={}\n",
    "\n",
    "for title in query_list[:50] :\n",
    "    #Step 1. 크롬 웹브라우저 실행\n",
    "    path = \"D:\\Python\\TM\\drivers\\chromedriver.exe\"\n",
    "\n",
    "    driver = webdriver.Chrome(r\"D:\\Python\\TM\\drivers\\chromedriver.exe\")\n",
    "    # 사이트 주소는 네이버\n",
    "    driver.get('http://www.naver.com')\n",
    "    time.sleep(2)\n",
    "    \n",
    "    try : \n",
    "    \n",
    "        #Step 2. 네이버 검색창에 \"검색어\" 검색\n",
    "        element = driver.find_element_by_id(\"query\")\n",
    "        element.send_keys(title)  \n",
    "        element.submit()\n",
    "\n",
    "        time.sleep(2)\n",
    "        #Step 3. \"VIEW\" 카테고리 선택\n",
    "        driver.find_element_by_link_text(\"VIEW\").click( )\n",
    "        time.sleep(2)\n",
    "        #Step 3-1. \"블로그\" 카테고리 선택\n",
    "        driver.find_element_by_link_text(\"블로그\").click( )    # .click() 괄호 안을 눌러라는 뜻\n",
    "\n",
    "        time.sleep(2)\n",
    "\n",
    "        #Step 4. 오른쪽의 검색 옵션 버튼 클릭\n",
    "        driver.find_element_by_xpath('//*[@id=\"snb\"]/div[1]/div/div[2]/a').click( )\n",
    "\n",
    "        #Step 5. 정렬 : \"관련도순\" \n",
    "        time.sleep(2)\n",
    "        driver.find_element_by_xpath('//*[@id=\"snb\"]/div[2]/ul/li[2]/div/div/a[1]').click( )  # 정렬 버튼의 xpath 클릭\n",
    "\n",
    "        time.sleep(2)\n",
    "\n",
    "        #Step 6. 날짜 입력을 위해서 옵션 재클릭 후 \" 기간 6개월 선택\"\n",
    "        driver.find_element_by_xpath('//*[@id=\"snb\"]/div[1]/div/div[2]/a').click( )\n",
    "        time.sleep(2)\n",
    "        #driver.find_element_by_xpath('//*[@id=\"snb\"]/div[2]/ul/li[3]/div/div[1]/a[7]').click()\n",
    "        driver.find_element(By.XPATH,'//*[contains(text(),\"6개월\") and @class=\"txt\"]').click()\n",
    "        data_param[title]=driver.find_element(By.XPATH,'//*[contains(text(),\"6개월\") and @class=\"txt\"]').get_attribute('data-param')\n",
    "        \n",
    "    except :\n",
    "        driver.close()\n",
    "        time.sleep(1)\n",
    "        continue\n",
    "        \n",
    "    driver.close()\n",
    "    "
   ]
  },
  {
   "cell_type": "markdown",
   "metadata": {},
   "source": [
    "### step 2 대표프로그램 중 50개의 프로그램에 대해서 블로그 검색 및 URL 정보에 들어가서 각 블로그 정보 크롤링"
   ]
  },
  {
   "cell_type": "code",
   "execution_count": 6,
   "metadata": {},
   "outputs": [],
   "source": [
    "def find_blogPage(movies_titles) :\n",
    "    url_list = []\n",
    "    title_list = []\n",
    "    date_list = []\n",
    "    driver = webdriver.Chrome(r\"D:\\Python\\TM\\drivers\\chromedriver.exe\")\n",
    "    \n",
    "    for k, v in movies_titles.items():\n",
    "        # ★몇개의 페이지를 크롤링할지 선택\n",
    "        total_page = 2 \n",
    "        for i in tqdm(range(1, total_page)):  # 페이지 번호\n",
    "            #i = i*10 + 1\n",
    "            print(i)\n",
    "            url = \"https://search.naver.com/search.naver?&query={0}&sm=tab_opt&{1}&where=post&start={2}\".format(\"+\".join(k.split()),v,i)\n",
    "            print(url)\n",
    "            driver.get(url)\n",
    "            time.sleep(2)\n",
    "\n",
    "            # URL 크롤링 시작\n",
    "            article_raw = driver.find_elements(By.XPATH, \"//a[@class= 'api_txt_lines total_tit']\")\n",
    "\n",
    "            # url 크롤링 시작    \n",
    "            for article in article_raw:\n",
    "                url = article.get_attribute('href')   \n",
    "                url_list.append(url)\n",
    "\n",
    "            # 제목 크롤링 시작    \n",
    "            for article in article_raw:\n",
    "                title = article.text\n",
    "                title_list.append(title)\n",
    "\n",
    "\n",
    "            # 업로드 날짜 크롤링 시작\n",
    "            article_date = driver.find_elements(By.XPATH,'//span[@class= \"sub_time sub_txt\"]')\n",
    "\n",
    "            for artice in article_date :\n",
    "                if \"전\" in artice.text  or artice.text in \"어제\" :\n",
    "                    if \"일\" in artice.text   :\n",
    "                        date = (datetime.today() - timedelta(int(artice.text[0]))).strftime(\"%Y.%m.%d.\")\n",
    "                    elif \"어제\" in artice.text :\n",
    "                        date=(( datetime.today() - timedelta(1)).strftime(\"%Y.%m.%d.\")) \n",
    "                    else :\n",
    "                        date=datetime.now().strftime(\"%Y.%m.%d\")\n",
    "\n",
    "                else :\n",
    "                    date  = artice.text\n",
    "                date_list.append(date)\n",
    "                \n",
    "                \n",
    "    print('url갯수: ', len(url_list))\n",
    "    print('url갯수: ', len(title_list))\n",
    "    print('url갯수: ', len(date_list))\n",
    "\n",
    "    df = pd.DataFrame({'url':url_list, 'title':title_list, 'date' : date_list })\n",
    "    \n",
    "    #driver.close()\n",
    "    return df"
   ]
  },
  {
   "cell_type": "code",
   "execution_count": 7,
   "metadata": {},
   "outputs": [
    {
     "name": "stderr",
     "output_type": "stream",
     "text": [
      "<ipython-input-6-443d4b312203>:5: DeprecationWarning: executable_path has been deprecated, please pass in a Service object\n",
      "  driver = webdriver.Chrome(r\"D:\\Python\\TM\\drivers\\chromedriver.exe\")\n"
     ]
    },
    {
     "data": {
      "application/vnd.jupyter.widget-view+json": {
       "model_id": "646c04ac72e24cc9af420c30d2322b21",
       "version_major": 2,
       "version_minor": 0
      },
      "text/plain": [
       "  0%|          | 0/1 [00:00<?, ?it/s]"
      ]
     },
     "metadata": {},
     "output_type": "display_data"
    },
    {
     "name": "stdout",
     "output_type": "stream",
     "text": [
      "1\n",
      "https://search.naver.com/search.naver?&query=왓챠+채플웨이트:+피의+저택&sm=tab_opt&nso=so%3Ar%2Cp%3A6m&where=post&start=1\n"
     ]
    },
    {
     "data": {
      "application/vnd.jupyter.widget-view+json": {
       "model_id": "2998c36d8e2046d0aca36e199e6e0128",
       "version_major": 2,
       "version_minor": 0
      },
      "text/plain": [
       "  0%|          | 0/1 [00:00<?, ?it/s]"
      ]
     },
     "metadata": {},
     "output_type": "display_data"
    },
    {
     "name": "stdout",
     "output_type": "stream",
     "text": [
      "1\n",
      "https://search.naver.com/search.naver?&query=왓챠+도굴&sm=tab_opt&nso=so%3Ar%2Cp%3A6m&where=post&start=1\n"
     ]
    },
    {
     "data": {
      "application/vnd.jupyter.widget-view+json": {
       "model_id": "76d5dd91896d4ae0a347903f0bbb0d64",
       "version_major": 2,
       "version_minor": 0
      },
      "text/plain": [
       "  0%|          | 0/1 [00:00<?, ?it/s]"
      ]
     },
     "metadata": {},
     "output_type": "display_data"
    },
    {
     "name": "stdout",
     "output_type": "stream",
     "text": [
      "1\n",
      "https://search.naver.com/search.naver?&query=왓챠+더듬이TV:+우당탕탕+안테나&sm=tab_opt&nso=so%3Ar%2Cp%3A6m&where=post&start=1\n"
     ]
    },
    {
     "data": {
      "application/vnd.jupyter.widget-view+json": {
       "model_id": "45d092149c6b464582ac8df55aab0d06",
       "version_major": 2,
       "version_minor": 0
      },
      "text/plain": [
       "  0%|          | 0/1 [00:00<?, ?it/s]"
      ]
     },
     "metadata": {},
     "output_type": "display_data"
    },
    {
     "name": "stdout",
     "output_type": "stream",
     "text": [
      "1\n",
      "https://search.naver.com/search.naver?&query=왓챠+왕좌의+게임&sm=tab_opt&nso=so%3Ar%2Cp%3A6m&where=post&start=1\n"
     ]
    },
    {
     "data": {
      "application/vnd.jupyter.widget-view+json": {
       "model_id": "3bebe21c42654d9791ba0f69109335cd",
       "version_major": 2,
       "version_minor": 0
      },
      "text/plain": [
       "  0%|          | 0/1 [00:00<?, ?it/s]"
      ]
     },
     "metadata": {},
     "output_type": "display_data"
    },
    {
     "name": "stdout",
     "output_type": "stream",
     "text": [
      "1\n",
      "https://search.naver.com/search.naver?&query=왓챠+거침없이+하이킥&sm=tab_opt&nso=so%3Ar%2Cp%3A6m&where=post&start=1\n"
     ]
    },
    {
     "data": {
      "application/vnd.jupyter.widget-view+json": {
       "model_id": "50c93740d6ac4231bcb322571daa8a9f",
       "version_major": 2,
       "version_minor": 0
      },
      "text/plain": [
       "  0%|          | 0/1 [00:00<?, ?it/s]"
      ]
     },
     "metadata": {},
     "output_type": "display_data"
    },
    {
     "name": "stdout",
     "output_type": "stream",
     "text": [
      "1\n",
      "https://search.naver.com/search.naver?&query=왓챠+팽&sm=tab_opt&nso=so%3Ar%2Cp%3A6m&where=post&start=1\n"
     ]
    },
    {
     "data": {
      "application/vnd.jupyter.widget-view+json": {
       "model_id": "063441abf23f40768beb84408027d087",
       "version_major": 2,
       "version_minor": 0
      },
      "text/plain": [
       "  0%|          | 0/1 [00:00<?, ?it/s]"
      ]
     },
     "metadata": {},
     "output_type": "display_data"
    },
    {
     "name": "stdout",
     "output_type": "stream",
     "text": [
      "1\n",
      "https://search.naver.com/search.naver?&query=왓챠+귀멸의+칼날&sm=tab_opt&nso=so%3Ar%2Cp%3A6m&where=post&start=1\n"
     ]
    },
    {
     "data": {
      "application/vnd.jupyter.widget-view+json": {
       "model_id": "589bc90f612c4de994253846abb9259a",
       "version_major": 2,
       "version_minor": 0
      },
      "text/plain": [
       "  0%|          | 0/1 [00:00<?, ?it/s]"
      ]
     },
     "metadata": {},
     "output_type": "display_data"
    },
    {
     "name": "stdout",
     "output_type": "stream",
     "text": [
      "1\n",
      "https://search.naver.com/search.naver?&query=왓챠+해리포터와+마법사의+돌&sm=tab_opt&nso=so%3Ar%2Cp%3A6m&where=post&start=1\n"
     ]
    },
    {
     "data": {
      "application/vnd.jupyter.widget-view+json": {
       "model_id": "bb5ccd5603af4f76bf91c11a418f83a6",
       "version_major": 2,
       "version_minor": 0
      },
      "text/plain": [
       "  0%|          | 0/1 [00:00<?, ?it/s]"
      ]
     },
     "metadata": {},
     "output_type": "display_data"
    },
    {
     "name": "stdout",
     "output_type": "stream",
     "text": [
      "1\n",
      "https://search.naver.com/search.naver?&query=왓챠+해리포터와+비밀의+방&sm=tab_opt&nso=so%3Ar%2Cp%3A6m&where=post&start=1\n"
     ]
    },
    {
     "data": {
      "application/vnd.jupyter.widget-view+json": {
       "model_id": "6d79d0e4122b447d86f38fd4c69dff83",
       "version_major": 2,
       "version_minor": 0
      },
      "text/plain": [
       "  0%|          | 0/1 [00:00<?, ?it/s]"
      ]
     },
     "metadata": {},
     "output_type": "display_data"
    },
    {
     "name": "stdout",
     "output_type": "stream",
     "text": [
      "1\n",
      "https://search.naver.com/search.naver?&query=왓챠+해리포터와+아즈카반의+죄수&sm=tab_opt&nso=so%3Ar%2Cp%3A6m&where=post&start=1\n"
     ]
    },
    {
     "data": {
      "application/vnd.jupyter.widget-view+json": {
       "model_id": "86a97beb5c0446daaeedeee50330af63",
       "version_major": 2,
       "version_minor": 0
      },
      "text/plain": [
       "  0%|          | 0/1 [00:00<?, ?it/s]"
      ]
     },
     "metadata": {},
     "output_type": "display_data"
    },
    {
     "name": "stdout",
     "output_type": "stream",
     "text": [
      "1\n",
      "https://search.naver.com/search.naver?&query=왓챠+해리포터와+불의+잔&sm=tab_opt&nso=so%3Ar%2Cp%3A6m&where=post&start=1\n"
     ]
    },
    {
     "data": {
      "application/vnd.jupyter.widget-view+json": {
       "model_id": "39bb8539c7134cf49957f4c7b87898ef",
       "version_major": 2,
       "version_minor": 0
      },
      "text/plain": [
       "  0%|          | 0/1 [00:00<?, ?it/s]"
      ]
     },
     "metadata": {},
     "output_type": "display_data"
    },
    {
     "name": "stdout",
     "output_type": "stream",
     "text": [
      "1\n",
      "https://search.naver.com/search.naver?&query=왓챠+해리포터와+불사조+기사단&sm=tab_opt&nso=so%3Ar%2Cp%3A6m&where=post&start=1\n"
     ]
    },
    {
     "data": {
      "application/vnd.jupyter.widget-view+json": {
       "model_id": "b0b738dac0a644ab893faa32818f9e6e",
       "version_major": 2,
       "version_minor": 0
      },
      "text/plain": [
       "  0%|          | 0/1 [00:00<?, ?it/s]"
      ]
     },
     "metadata": {},
     "output_type": "display_data"
    },
    {
     "name": "stdout",
     "output_type": "stream",
     "text": [
      "1\n",
      "https://search.naver.com/search.naver?&query=왓챠+해리포터와+혼혈왕자&sm=tab_opt&nso=so%3Ar%2Cp%3A6m&where=post&start=1\n"
     ]
    },
    {
     "data": {
      "application/vnd.jupyter.widget-view+json": {
       "model_id": "9def23b002e643698aacb1aea3b91310",
       "version_major": 2,
       "version_minor": 0
      },
      "text/plain": [
       "  0%|          | 0/1 [00:00<?, ?it/s]"
      ]
     },
     "metadata": {},
     "output_type": "display_data"
    },
    {
     "name": "stdout",
     "output_type": "stream",
     "text": [
      "1\n",
      "https://search.naver.com/search.naver?&query=왓챠+해리포터와+죽음의+성물+1&sm=tab_opt&nso=so%3Ar%2Cp%3A6m&where=post&start=1\n"
     ]
    },
    {
     "data": {
      "application/vnd.jupyter.widget-view+json": {
       "model_id": "9c5a0cb84b9944a9b2b8a8d6a861dae5",
       "version_major": 2,
       "version_minor": 0
      },
      "text/plain": [
       "  0%|          | 0/1 [00:00<?, ?it/s]"
      ]
     },
     "metadata": {},
     "output_type": "display_data"
    },
    {
     "name": "stdout",
     "output_type": "stream",
     "text": [
      "1\n",
      "https://search.naver.com/search.naver?&query=왓챠+해리포터와+죽음의+성물+2&sm=tab_opt&nso=so%3Ar%2Cp%3A6m&where=post&start=1\n"
     ]
    },
    {
     "data": {
      "application/vnd.jupyter.widget-view+json": {
       "model_id": "d1bafa70997246548d7bbac90c94b25f",
       "version_major": 2,
       "version_minor": 0
      },
      "text/plain": [
       "  0%|          | 0/1 [00:00<?, ?it/s]"
      ]
     },
     "metadata": {},
     "output_type": "display_data"
    },
    {
     "name": "stdout",
     "output_type": "stream",
     "text": [
      "1\n",
      "https://search.naver.com/search.naver?&query=왓챠+체르노빌&sm=tab_opt&nso=so%3Ar%2Cp%3A6m&where=post&start=1\n"
     ]
    },
    {
     "data": {
      "application/vnd.jupyter.widget-view+json": {
       "model_id": "2276ac9e8e7442e1b70c0b9e7a12f5c7",
       "version_major": 2,
       "version_minor": 0
      },
      "text/plain": [
       "  0%|          | 0/1 [00:00<?, ?it/s]"
      ]
     },
     "metadata": {},
     "output_type": "display_data"
    },
    {
     "name": "stdout",
     "output_type": "stream",
     "text": [
      "1\n",
      "https://search.naver.com/search.naver?&query=왓챠+하이큐!!&sm=tab_opt&nso=so%3Ar%2Cp%3A6m&where=post&start=1\n"
     ]
    },
    {
     "data": {
      "application/vnd.jupyter.widget-view+json": {
       "model_id": "23a8841451af40cf95cf46b594952edb",
       "version_major": 2,
       "version_minor": 0
      },
      "text/plain": [
       "  0%|          | 0/1 [00:00<?, ?it/s]"
      ]
     },
     "metadata": {},
     "output_type": "display_data"
    },
    {
     "name": "stdout",
     "output_type": "stream",
     "text": [
      "1\n",
      "https://search.naver.com/search.naver?&query=왓챠+무한도전&sm=tab_opt&nso=so%3Ar%2Cp%3A6m&where=post&start=1\n"
     ]
    },
    {
     "data": {
      "application/vnd.jupyter.widget-view+json": {
       "model_id": "120ffa83da974cda974d82a0464b599f",
       "version_major": 2,
       "version_minor": 0
      },
      "text/plain": [
       "  0%|          | 0/1 [00:00<?, ?it/s]"
      ]
     },
     "metadata": {},
     "output_type": "display_data"
    },
    {
     "name": "stdout",
     "output_type": "stream",
     "text": [
      "1\n",
      "https://search.naver.com/search.naver?&query=왓챠+와이+우먼+킬&sm=tab_opt&nso=so%3Ar%2Cp%3A6m&where=post&start=1\n"
     ]
    },
    {
     "data": {
      "application/vnd.jupyter.widget-view+json": {
       "model_id": "236fb6ceb17a4294954a07a4ab1c98c0",
       "version_major": 2,
       "version_minor": 0
      },
      "text/plain": [
       "  0%|          | 0/1 [00:00<?, ?it/s]"
      ]
     },
     "metadata": {},
     "output_type": "display_data"
    },
    {
     "name": "stdout",
     "output_type": "stream",
     "text": [
      "1\n",
      "https://search.naver.com/search.naver?&query=왓챠+주술회전&sm=tab_opt&nso=so%3Ar%2Cp%3A6m&where=post&start=1\n"
     ]
    },
    {
     "data": {
      "application/vnd.jupyter.widget-view+json": {
       "model_id": "5c9775e84d7b407794d5b388578b57c8",
       "version_major": 2,
       "version_minor": 0
      },
      "text/plain": [
       "  0%|          | 0/1 [00:00<?, ?it/s]"
      ]
     },
     "metadata": {},
     "output_type": "display_data"
    },
    {
     "name": "stdout",
     "output_type": "stream",
     "text": [
      "1\n",
      "https://search.naver.com/search.naver?&query=왓챠+런닝맨&sm=tab_opt&nso=so%3Ar%2Cp%3A6m&where=post&start=1\n"
     ]
    },
    {
     "data": {
      "application/vnd.jupyter.widget-view+json": {
       "model_id": "9a64625659bd4045a48215e69e2be566",
       "version_major": 2,
       "version_minor": 0
      },
      "text/plain": [
       "  0%|          | 0/1 [00:00<?, ?it/s]"
      ]
     },
     "metadata": {},
     "output_type": "display_data"
    },
    {
     "name": "stdout",
     "output_type": "stream",
     "text": [
      "1\n",
      "https://search.naver.com/search.naver?&query=왓챠+스토브리그&sm=tab_opt&nso=so%3Ar%2Cp%3A6m&where=post&start=1\n"
     ]
    },
    {
     "data": {
      "application/vnd.jupyter.widget-view+json": {
       "model_id": "a166b68ee92744f2ae8da34703205276",
       "version_major": 2,
       "version_minor": 0
      },
      "text/plain": [
       "  0%|          | 0/1 [00:00<?, ?it/s]"
      ]
     },
     "metadata": {},
     "output_type": "display_data"
    },
    {
     "name": "stdout",
     "output_type": "stream",
     "text": [
      "1\n",
      "https://search.naver.com/search.naver?&query=왓챠+베놈&sm=tab_opt&nso=so%3Ar%2Cp%3A6m&where=post&start=1\n"
     ]
    },
    {
     "data": {
      "application/vnd.jupyter.widget-view+json": {
       "model_id": "ef9adbc82fd641a89a6746279b9789c6",
       "version_major": 2,
       "version_minor": 0
      },
      "text/plain": [
       "  0%|          | 0/1 [00:00<?, ?it/s]"
      ]
     },
     "metadata": {},
     "output_type": "display_data"
    },
    {
     "name": "stdout",
     "output_type": "stream",
     "text": [
      "1\n",
      "https://search.naver.com/search.naver?&query=왓챠+덱스터&sm=tab_opt&nso=so%3Ar%2Cp%3A6m&where=post&start=1\n"
     ]
    },
    {
     "data": {
      "application/vnd.jupyter.widget-view+json": {
       "model_id": "40abf7aac0ff4af589d841a23feb2789",
       "version_major": 2,
       "version_minor": 0
      },
      "text/plain": [
       "  0%|          | 0/1 [00:00<?, ?it/s]"
      ]
     },
     "metadata": {},
     "output_type": "display_data"
    },
    {
     "name": "stdout",
     "output_type": "stream",
     "text": [
      "1\n",
      "https://search.naver.com/search.naver?&query=왓챠+태양의+후예&sm=tab_opt&nso=so%3Ar%2Cp%3A6m&where=post&start=1\n"
     ]
    },
    {
     "data": {
      "application/vnd.jupyter.widget-view+json": {
       "model_id": "41064c75f56946ae91cecbb48b889e30",
       "version_major": 2,
       "version_minor": 0
      },
      "text/plain": [
       "  0%|          | 0/1 [00:00<?, ?it/s]"
      ]
     },
     "metadata": {},
     "output_type": "display_data"
    },
    {
     "name": "stdout",
     "output_type": "stream",
     "text": [
      "1\n",
      "https://search.naver.com/search.naver?&query=왓챠+새빛남고+학생회&sm=tab_opt&nso=so%3Ar%2Cp%3A6m&where=post&start=1\n"
     ]
    },
    {
     "data": {
      "application/vnd.jupyter.widget-view+json": {
       "model_id": "839cc9a3bd4c411c832585f77b555b3d",
       "version_major": 2,
       "version_minor": 0
      },
      "text/plain": [
       "  0%|          | 0/1 [00:00<?, ?it/s]"
      ]
     },
     "metadata": {},
     "output_type": "display_data"
    },
    {
     "name": "stdout",
     "output_type": "stream",
     "text": [
      "1\n",
      "https://search.naver.com/search.naver?&query=왓챠+이누야샤&sm=tab_opt&nso=so%3Ar%2Cp%3A6m&where=post&start=1\n"
     ]
    },
    {
     "data": {
      "application/vnd.jupyter.widget-view+json": {
       "model_id": "29cdc879a7704d34865ff43f2cbdb572",
       "version_major": 2,
       "version_minor": 0
      },
      "text/plain": [
       "  0%|          | 0/1 [00:00<?, ?it/s]"
      ]
     },
     "metadata": {},
     "output_type": "display_data"
    },
    {
     "name": "stdout",
     "output_type": "stream",
     "text": [
      "1\n",
      "https://search.naver.com/search.naver?&query=왓챠+진격의+거인&sm=tab_opt&nso=so%3Ar%2Cp%3A6m&where=post&start=1\n"
     ]
    },
    {
     "data": {
      "application/vnd.jupyter.widget-view+json": {
       "model_id": "0843b742bd1c439ab230e52f52069e2e",
       "version_major": 2,
       "version_minor": 0
      },
      "text/plain": [
       "  0%|          | 0/1 [00:00<?, ?it/s]"
      ]
     },
     "metadata": {},
     "output_type": "display_data"
    },
    {
     "name": "stdout",
     "output_type": "stream",
     "text": [
      "1\n",
      "https://search.naver.com/search.naver?&query=왓챠+커피+한잔+할까요?&sm=tab_opt&nso=so%3Ar%2Cp%3A6m&where=post&start=1\n"
     ]
    },
    {
     "data": {
      "application/vnd.jupyter.widget-view+json": {
       "model_id": "f9f6e77d9ddd4909a44a4025d2084c9c",
       "version_major": 2,
       "version_minor": 0
      },
      "text/plain": [
       "  0%|          | 0/1 [00:00<?, ?it/s]"
      ]
     },
     "metadata": {},
     "output_type": "display_data"
    },
    {
     "name": "stdout",
     "output_type": "stream",
     "text": [
      "1\n",
      "https://search.naver.com/search.naver?&query=왓챠+도쿄+리벤저스&sm=tab_opt&nso=so%3Ar%2Cp%3A6m&where=post&start=1\n"
     ]
    },
    {
     "data": {
      "application/vnd.jupyter.widget-view+json": {
       "model_id": "fdea0d9076714e9a9ef664fff490049a",
       "version_major": 2,
       "version_minor": 0
      },
      "text/plain": [
       "  0%|          | 0/1 [00:00<?, ?it/s]"
      ]
     },
     "metadata": {},
     "output_type": "display_data"
    },
    {
     "name": "stdout",
     "output_type": "stream",
     "text": [
      "1\n",
      "https://search.naver.com/search.naver?&query=왓챠+언내추럴&sm=tab_opt&nso=so%3Ar%2Cp%3A6m&where=post&start=1\n"
     ]
    },
    {
     "data": {
      "application/vnd.jupyter.widget-view+json": {
       "model_id": "c0c45ef6afe44dde9eb4888df9129e57",
       "version_major": 2,
       "version_minor": 0
      },
      "text/plain": [
       "  0%|          | 0/1 [00:00<?, ?it/s]"
      ]
     },
     "metadata": {},
     "output_type": "display_data"
    },
    {
     "name": "stdout",
     "output_type": "stream",
     "text": [
      "1\n",
      "https://search.naver.com/search.naver?&query=왓챠+어쩌다+발견한+하루&sm=tab_opt&nso=so%3Ar%2Cp%3A6m&where=post&start=1\n"
     ]
    },
    {
     "data": {
      "application/vnd.jupyter.widget-view+json": {
       "model_id": "da79ce14e3ae4c9a8be877c7a8903b6c",
       "version_major": 2,
       "version_minor": 0
      },
      "text/plain": [
       "  0%|          | 0/1 [00:00<?, ?it/s]"
      ]
     },
     "metadata": {},
     "output_type": "display_data"
    },
    {
     "name": "stdout",
     "output_type": "stream",
     "text": [
      "1\n",
      "https://search.naver.com/search.naver?&query=왓챠+리버풀+FC:+엔드+오브+스톰&sm=tab_opt&nso=so%3Ar%2Cp%3A6m&where=post&start=1\n"
     ]
    },
    {
     "data": {
      "application/vnd.jupyter.widget-view+json": {
       "model_id": "7f5ffdddc53440d89cab877c158893c9",
       "version_major": 2,
       "version_minor": 0
      },
      "text/plain": [
       "  0%|          | 0/1 [00:00<?, ?it/s]"
      ]
     },
     "metadata": {},
     "output_type": "display_data"
    },
    {
     "name": "stdout",
     "output_type": "stream",
     "text": [
      "1\n",
      "https://search.naver.com/search.naver?&query=왓챠+징크스&sm=tab_opt&nso=so%3Ar%2Cp%3A6m&where=post&start=1\n"
     ]
    },
    {
     "data": {
      "application/vnd.jupyter.widget-view+json": {
       "model_id": "cdc0e723eac14bfcb348c206fe191b56",
       "version_major": 2,
       "version_minor": 0
      },
      "text/plain": [
       "  0%|          | 0/1 [00:00<?, ?it/s]"
      ]
     },
     "metadata": {},
     "output_type": "display_data"
    },
    {
     "name": "stdout",
     "output_type": "stream",
     "text": [
      "1\n",
      "https://search.naver.com/search.naver?&query=왓챠+킬링+이브&sm=tab_opt&nso=so%3Ar%2Cp%3A6m&where=post&start=1\n"
     ]
    },
    {
     "data": {
      "application/vnd.jupyter.widget-view+json": {
       "model_id": "eef4de362190461991a9135390e1d2d3",
       "version_major": 2,
       "version_minor": 0
      },
      "text/plain": [
       "  0%|          | 0/1 [00:00<?, ?it/s]"
      ]
     },
     "metadata": {},
     "output_type": "display_data"
    },
    {
     "name": "stdout",
     "output_type": "stream",
     "text": [
      "1\n",
      "https://search.naver.com/search.naver?&query=왓챠+2021+스페셜+토크쇼+'Let’s+BTS'&sm=tab_opt&nso=so%3Ar%2Cp%3A6m&where=post&start=1\n"
     ]
    },
    {
     "data": {
      "application/vnd.jupyter.widget-view+json": {
       "model_id": "7c7d747a9e914052b70879f159427f9a",
       "version_major": 2,
       "version_minor": 0
      },
      "text/plain": [
       "  0%|          | 0/1 [00:00<?, ?it/s]"
      ]
     },
     "metadata": {},
     "output_type": "display_data"
    },
    {
     "name": "stdout",
     "output_type": "stream",
     "text": [
      "1\n",
      "https://search.naver.com/search.naver?&query=왓챠+명탐정+코난&sm=tab_opt&nso=so%3Ar%2Cp%3A6m&where=post&start=1\n"
     ]
    },
    {
     "data": {
      "application/vnd.jupyter.widget-view+json": {
       "model_id": "8a9ec2c65c9d4e7fb9e054df77540e86",
       "version_major": 2,
       "version_minor": 0
      },
      "text/plain": [
       "  0%|          | 0/1 [00:00<?, ?it/s]"
      ]
     },
     "metadata": {},
     "output_type": "display_data"
    },
    {
     "name": "stdout",
     "output_type": "stream",
     "text": [
      "1\n",
      "https://search.naver.com/search.naver?&query=왓챠+전생했더니+슬라임이었던+건에+대하여&sm=tab_opt&nso=so%3Ar%2Cp%3A6m&where=post&start=1\n"
     ]
    },
    {
     "data": {
      "application/vnd.jupyter.widget-view+json": {
       "model_id": "8fd62a7c3cb44569a2d18c5f23d2a218",
       "version_major": 2,
       "version_minor": 0
      },
      "text/plain": [
       "  0%|          | 0/1 [00:00<?, ?it/s]"
      ]
     },
     "metadata": {},
     "output_type": "display_data"
    },
    {
     "name": "stdout",
     "output_type": "stream",
     "text": [
      "1\n",
      "https://search.naver.com/search.naver?&query=왓챠+신인왕+방탄소년단+-+채널방탄&sm=tab_opt&nso=so%3Ar%2Cp%3A6m&where=post&start=1\n"
     ]
    },
    {
     "data": {
      "application/vnd.jupyter.widget-view+json": {
       "model_id": "ccdaa740311546819759f85bd8368fd2",
       "version_major": 2,
       "version_minor": 0
      },
      "text/plain": [
       "  0%|          | 0/1 [00:00<?, ?it/s]"
      ]
     },
     "metadata": {},
     "output_type": "display_data"
    },
    {
     "name": "stdout",
     "output_type": "stream",
     "text": [
      "1\n",
      "https://search.naver.com/search.naver?&query=왓챠+클라리스&sm=tab_opt&nso=so%3Ar%2Cp%3A6m&where=post&start=1\n"
     ]
    },
    {
     "data": {
      "application/vnd.jupyter.widget-view+json": {
       "model_id": "bda9fb77012943af829fb560b6514162",
       "version_major": 2,
       "version_minor": 0
      },
      "text/plain": [
       "  0%|          | 0/1 [00:00<?, ?it/s]"
      ]
     },
     "metadata": {},
     "output_type": "display_data"
    },
    {
     "name": "stdout",
     "output_type": "stream",
     "text": [
      "1\n",
      "https://search.naver.com/search.naver?&query=왓챠+그린+나이트&sm=tab_opt&nso=so%3Ar%2Cp%3A6m&where=post&start=1\n"
     ]
    },
    {
     "data": {
      "application/vnd.jupyter.widget-view+json": {
       "model_id": "39a000ee86c3405a996dd27cf90e2d2e",
       "version_major": 2,
       "version_minor": 0
      },
      "text/plain": [
       "  0%|          | 0/1 [00:00<?, ?it/s]"
      ]
     },
     "metadata": {},
     "output_type": "display_data"
    },
    {
     "name": "stdout",
     "output_type": "stream",
     "text": [
      "1\n",
      "https://search.naver.com/search.naver?&query=왓챠+나는+SOLO&sm=tab_opt&nso=so%3Ar%2Cp%3A6m&where=post&start=1\n"
     ]
    },
    {
     "data": {
      "application/vnd.jupyter.widget-view+json": {
       "model_id": "da86e1cd1cdf415db3ea36260079c9d5",
       "version_major": 2,
       "version_minor": 0
      },
      "text/plain": [
       "  0%|          | 0/1 [00:00<?, ?it/s]"
      ]
     },
     "metadata": {},
     "output_type": "display_data"
    },
    {
     "name": "stdout",
     "output_type": "stream",
     "text": [
      "1\n",
      "https://search.naver.com/search.naver?&query=왓챠+30살까지+동정이면+마법사가+될+수+있대&sm=tab_opt&nso=so%3Ar%2Cp%3A6m&where=post&start=1\n"
     ]
    },
    {
     "data": {
      "application/vnd.jupyter.widget-view+json": {
       "model_id": "2c613fee2a81433abfed7f8cac5e9a7c",
       "version_major": 2,
       "version_minor": 0
      },
      "text/plain": [
       "  0%|          | 0/1 [00:00<?, ?it/s]"
      ]
     },
     "metadata": {},
     "output_type": "display_data"
    },
    {
     "name": "stdout",
     "output_type": "stream",
     "text": [
      "1\n",
      "https://search.naver.com/search.naver?&query=왓챠+오피스&sm=tab_opt&nso=so%3Ar%2Cp%3A6m&where=post&start=1\n"
     ]
    },
    {
     "data": {
      "application/vnd.jupyter.widget-view+json": {
       "model_id": "459d2b9b21184e44be6ec0112f1a078a",
       "version_major": 2,
       "version_minor": 0
      },
      "text/plain": [
       "  0%|          | 0/1 [00:00<?, ?it/s]"
      ]
     },
     "metadata": {},
     "output_type": "display_data"
    },
    {
     "name": "stdout",
     "output_type": "stream",
     "text": [
      "1\n",
      "https://search.naver.com/search.naver?&query=왓챠+극장판+귀멸의+칼날:+무한열차편&sm=tab_opt&nso=so%3Ar%2Cp%3A6m&where=post&start=1\n"
     ]
    },
    {
     "data": {
      "application/vnd.jupyter.widget-view+json": {
       "model_id": "08378ac0f58a41989b5ca22f10487fc5",
       "version_major": 2,
       "version_minor": 0
      },
      "text/plain": [
       "  0%|          | 0/1 [00:00<?, ?it/s]"
      ]
     },
     "metadata": {},
     "output_type": "display_data"
    },
    {
     "name": "stdout",
     "output_type": "stream",
     "text": [
      "1\n",
      "https://search.naver.com/search.naver?&query=왓챠+다만+악에서+구하소서&sm=tab_opt&nso=so%3Ar%2Cp%3A6m&where=post&start=1\n"
     ]
    },
    {
     "data": {
      "application/vnd.jupyter.widget-view+json": {
       "model_id": "b26afc648fb64820ab94ccd24c0247e8",
       "version_major": 2,
       "version_minor": 0
      },
      "text/plain": [
       "  0%|          | 0/1 [00:00<?, ?it/s]"
      ]
     },
     "metadata": {},
     "output_type": "display_data"
    },
    {
     "name": "stdout",
     "output_type": "stream",
     "text": [
      "1\n",
      "https://search.naver.com/search.naver?&query=왓챠+지붕+뚫고+하이킥&sm=tab_opt&nso=so%3Ar%2Cp%3A6m&where=post&start=1\n"
     ]
    },
    {
     "data": {
      "application/vnd.jupyter.widget-view+json": {
       "model_id": "c7d6ddd7d0bf4e4fb4f21858857f118b",
       "version_major": 2,
       "version_minor": 0
      },
      "text/plain": [
       "  0%|          | 0/1 [00:00<?, ?it/s]"
      ]
     },
     "metadata": {},
     "output_type": "display_data"
    },
    {
     "name": "stdout",
     "output_type": "stream",
     "text": [
      "1\n",
      "https://search.naver.com/search.naver?&query=왓챠+원피스&sm=tab_opt&nso=so%3Ar%2Cp%3A6m&where=post&start=1\n"
     ]
    },
    {
     "data": {
      "application/vnd.jupyter.widget-view+json": {
       "model_id": "983bc7dcdf6e4d1f9e696259ced4656b",
       "version_major": 2,
       "version_minor": 0
      },
      "text/plain": [
       "  0%|          | 0/1 [00:00<?, ?it/s]"
      ]
     },
     "metadata": {},
     "output_type": "display_data"
    },
    {
     "name": "stdout",
     "output_type": "stream",
     "text": [
      "1\n",
      "https://search.naver.com/search.naver?&query=왓챠+닥터스&sm=tab_opt&nso=so%3Ar%2Cp%3A6m&where=post&start=1\n"
     ]
    },
    {
     "data": {
      "application/vnd.jupyter.widget-view+json": {
       "model_id": "a86d876287d844faa685baafd4c029ba",
       "version_major": 2,
       "version_minor": 0
      },
      "text/plain": [
       "  0%|          | 0/1 [00:00<?, ?it/s]"
      ]
     },
     "metadata": {},
     "output_type": "display_data"
    },
    {
     "name": "stdout",
     "output_type": "stream",
     "text": [
      "1\n",
      "https://search.naver.com/search.naver?&query=왓챠+섹스+앤+더+시티&sm=tab_opt&nso=so%3Ar%2Cp%3A6m&where=post&start=1\n",
      "url갯수:  1446\n",
      "url갯수:  1446\n",
      "url갯수:  1446\n"
     ]
    }
   ],
   "source": [
    "    # 저장하기\n",
    "df = find_blogPage(data_param)\n",
    "df.to_excel(r\"D:\\Python\\TM\\TeamProject/watcha_6month.xlsx\")"
   ]
  },
  {
   "cell_type": "markdown",
   "metadata": {
    "id": "8txJjgMQxPdw"
   },
   "source": [
    "## 본문 크롤링 하기"
   ]
  },
  {
   "cell_type": "markdown",
   "metadata": {},
   "source": [
    "### step 3 대표프로그램 중 50개의 프로그램에 대해서 건별 블로그에 내용 GET(본문크롤링 => 자세한 분석은 code3)"
   ]
  },
  {
   "cell_type": "code",
   "execution_count": 8,
   "metadata": {
    "id": "BGWG5_fnxPd7",
    "outputId": "c22bebd6-2460-4a50-d70d-8f73f810234c"
   },
   "outputs": [
    {
     "name": "stdout",
     "output_type": "stream",
     "text": [
      "1446\n"
     ]
    }
   ],
   "source": [
    "# \"url_list.csv\" 불러오기\n",
    "url_load = pd.read_excel(r\"D:\\Python\\TM\\TeamProject/watcha_6month.xlsx\")        # 기본 모델\n",
    "url_load =df\n",
    "print(len(url_load))\n"
   ]
  },
  {
   "cell_type": "code",
   "execution_count": 123,
   "metadata": {},
   "outputs": [
    {
     "name": "stdout",
     "output_type": "stream",
     "text": [
      "['https://anilover.tistory.com/5835']\n"
     ]
    }
   ],
   "source": [
    "#340+48\n",
    "chk_url = url_load['url'][388]\n",
    "print(chk_url.split(\"logNo=\"))"
   ]
  },
  {
   "cell_type": "code",
   "execution_count": 10,
   "metadata": {},
   "outputs": [
    {
     "data": {
      "application/vnd.jupyter.widget-view+json": {
       "model_id": "7226a074bf084cb9bdda20522541f486",
       "version_major": 2,
       "version_minor": 0
      },
      "text/plain": [
       "  0%|          | 0/1100 [00:00<?, ?it/s]"
      ]
     },
     "metadata": {},
     "output_type": "display_data"
    },
    {
     "name": "stderr",
     "output_type": "stream",
     "text": [
      "<ipython-input-10-5f3dd175c405>:7: DeprecationWarning: executable_path has been deprecated, please pass in a Service object\n",
      "  driver = webdriver.Chrome(r\"D:\\Python\\TM\\drivers\\chromedriver.exe\")\n"
     ]
    },
    {
     "name": "stdout",
     "output_type": "stream",
     "text": [
      "<bound method WebDriver.get of <selenium.webdriver.chrome.webdriver.WebDriver (session=\"94d2c3d37f75f160d252f0f5ee7841f1\")>>\n",
      "<bound method WebDriver.get of <selenium.webdriver.chrome.webdriver.WebDriver (session=\"8b9ba6381ad3ed46f87f24d5aba94d2a\")>>\n",
      "<bound method WebDriver.get of <selenium.webdriver.chrome.webdriver.WebDriver (session=\"24458ff5754bfe2aae491d82dd8f94d3\")>>\n",
      "<bound method WebDriver.get of <selenium.webdriver.chrome.webdriver.WebDriver (session=\"1f3167b06a2dd6df7043df5856f1fa19\")>>\n",
      "<bound method WebDriver.get of <selenium.webdriver.chrome.webdriver.WebDriver (session=\"fddc51b72a169be48de225652edfba29\")>>\n",
      "<bound method WebDriver.get of <selenium.webdriver.chrome.webdriver.WebDriver (session=\"3235c1e02b9c1c96b9f8bab22a8d336e\")>>\n",
      "<bound method WebDriver.get of <selenium.webdriver.chrome.webdriver.WebDriver (session=\"fe98dc0addeb1093dfd574f04512e581\")>>\n",
      "<bound method WebDriver.get of <selenium.webdriver.chrome.webdriver.WebDriver (session=\"4d403205fdab170938a345ba0518a2ad\")>>\n",
      "<bound method WebDriver.get of <selenium.webdriver.chrome.webdriver.WebDriver (session=\"85460de479ac5b70708ca9e57eae0f0d\")>>\n",
      "<bound method WebDriver.get of <selenium.webdriver.chrome.webdriver.WebDriver (session=\"a119ecc1fc7de45b792afeea5fa7102d\")>>\n",
      "<bound method WebDriver.get of <selenium.webdriver.chrome.webdriver.WebDriver (session=\"7594d7ccbe725e8a8ebedddb83cbb96c\")>>\n",
      "<bound method WebDriver.get of <selenium.webdriver.chrome.webdriver.WebDriver (session=\"dbb411100b6260862186f98edac1d0ff\")>>\n",
      "<bound method WebDriver.get of <selenium.webdriver.chrome.webdriver.WebDriver (session=\"d2c2aedac47973cb0e874974bb3802a3\")>>\n",
      "<bound method WebDriver.get of <selenium.webdriver.chrome.webdriver.WebDriver (session=\"df9b5aed882396d7f7543db854e5d563\")>>\n",
      "<bound method WebDriver.get of <selenium.webdriver.chrome.webdriver.WebDriver (session=\"fde95b6c595d5ff3110aada5e0cdc9c9\")>>\n",
      "<bound method WebDriver.get of <selenium.webdriver.chrome.webdriver.WebDriver (session=\"348d87c1df131c06934a80d19da50360\")>>\n",
      "<bound method WebDriver.get of <selenium.webdriver.chrome.webdriver.WebDriver (session=\"c1e50e7f898bdab7755b2ef762b8a6b8\")>>\n",
      "<bound method WebDriver.get of <selenium.webdriver.chrome.webdriver.WebDriver (session=\"fedb4509e2175881fb62ca6ef876f86f\")>>\n",
      "<bound method WebDriver.get of <selenium.webdriver.chrome.webdriver.WebDriver (session=\"143bd225d92cec5646b83af85bd975ec\")>>\n",
      "<bound method WebDriver.get of <selenium.webdriver.chrome.webdriver.WebDriver (session=\"adf17c2533e53dc25c37937a40a56da3\")>>\n",
      "<bound method WebDriver.get of <selenium.webdriver.chrome.webdriver.WebDriver (session=\"08c48b7f3a519688615264deec82e17c\")>>\n",
      "<bound method WebDriver.get of <selenium.webdriver.chrome.webdriver.WebDriver (session=\"a9ec41a32ebc84a825195336c1e84547\")>>\n",
      "<bound method WebDriver.get of <selenium.webdriver.chrome.webdriver.WebDriver (session=\"7c5b72a47f10478746eb380d2286a49f\")>>\n",
      "<bound method WebDriver.get of <selenium.webdriver.chrome.webdriver.WebDriver (session=\"6d9a73c7c370305418ce22ffbc445c1d\")>>\n",
      "<bound method WebDriver.get of <selenium.webdriver.chrome.webdriver.WebDriver (session=\"e3fc44925033fa259577c2367bbe2131\")>>\n",
      "<bound method WebDriver.get of <selenium.webdriver.chrome.webdriver.WebDriver (session=\"1e6c73eef811bb60e2bc1ea82365326b\")>>\n",
      "<bound method WebDriver.get of <selenium.webdriver.chrome.webdriver.WebDriver (session=\"cbbca7a1050764f2469e36b71934f4c3\")>>\n",
      "<bound method WebDriver.get of <selenium.webdriver.chrome.webdriver.WebDriver (session=\"d3380492a7fcf2a3dc4b70b7ffd9fb55\")>>\n",
      "<bound method WebDriver.get of <selenium.webdriver.chrome.webdriver.WebDriver (session=\"a97ce010e26cc83e9ff98f9ece18ae19\")>>\n",
      "<bound method WebDriver.get of <selenium.webdriver.chrome.webdriver.WebDriver (session=\"d4540224e3765582adfb0176c03b6c61\")>>\n",
      "<bound method WebDriver.get of <selenium.webdriver.chrome.webdriver.WebDriver (session=\"98ff6db43846b9b47f9d3a7d0f330261\")>>\n",
      "<bound method WebDriver.get of <selenium.webdriver.chrome.webdriver.WebDriver (session=\"50346b5f76f74c87482e6cab915475bf\")>>\n",
      "<bound method WebDriver.get of <selenium.webdriver.chrome.webdriver.WebDriver (session=\"0474315fc620975db47703acb7f8eb27\")>>\n",
      "<bound method WebDriver.get of <selenium.webdriver.chrome.webdriver.WebDriver (session=\"5f5828312d71d28d562f6f202710310e\")>>\n",
      "<bound method WebDriver.get of <selenium.webdriver.chrome.webdriver.WebDriver (session=\"b6967a1775e506a607fcc9110a6842b5\")>>\n",
      "<bound method WebDriver.get of <selenium.webdriver.chrome.webdriver.WebDriver (session=\"4126967c9cb7cb22d545504b7882b902\")>>\n",
      "<bound method WebDriver.get of <selenium.webdriver.chrome.webdriver.WebDriver (session=\"ae1a935f8d86cd45ae14f7d64b7c23d3\")>>\n",
      "<bound method WebDriver.get of <selenium.webdriver.chrome.webdriver.WebDriver (session=\"eeafd6bec667afd989bdaed8466d6cb4\")>>\n",
      "<bound method WebDriver.get of <selenium.webdriver.chrome.webdriver.WebDriver (session=\"7b069a03c22a32603399431dc4fbef75\")>>\n",
      "<bound method WebDriver.get of <selenium.webdriver.chrome.webdriver.WebDriver (session=\"3a3c950c6dce4f1f54eb77c7a89c54a8\")>>\n",
      "<bound method WebDriver.get of <selenium.webdriver.chrome.webdriver.WebDriver (session=\"6f87439f0dab6dff3b53060a4f365025\")>>\n",
      "<bound method WebDriver.get of <selenium.webdriver.chrome.webdriver.WebDriver (session=\"a383786cba79cc423d3d29f481793087\")>>\n",
      "<bound method WebDriver.get of <selenium.webdriver.chrome.webdriver.WebDriver (session=\"483e1a04157d7d54b60f8929caf01ad6\")>>\n",
      "<bound method WebDriver.get of <selenium.webdriver.chrome.webdriver.WebDriver (session=\"99601ac8cd54dc1dbcf70467e4840d3f\")>>\n",
      "<bound method WebDriver.get of <selenium.webdriver.chrome.webdriver.WebDriver (session=\"f38486bfcbd9fb5dffb5631b41e386e1\")>>\n",
      "<bound method WebDriver.get of <selenium.webdriver.chrome.webdriver.WebDriver (session=\"4da961407f33fdd2852e421488e28dcb\")>>\n",
      "<bound method WebDriver.get of <selenium.webdriver.chrome.webdriver.WebDriver (session=\"8acef05723b401448fb2dc145aa1c998\")>>\n",
      "<bound method WebDriver.get of <selenium.webdriver.chrome.webdriver.WebDriver (session=\"1fd01e528452a86ec9aef8732f114fa6\")>>\n",
      "<bound method WebDriver.get of <selenium.webdriver.chrome.webdriver.WebDriver (session=\"abb4faba51f32ea08193a5f7b5e62d7c\")>>\n",
      "<bound method WebDriver.get of <selenium.webdriver.chrome.webdriver.WebDriver (session=\"360eb289b8147c8a5867e27df8a9d779\")>>\n",
      "<bound method WebDriver.get of <selenium.webdriver.chrome.webdriver.WebDriver (session=\"60d0a2239556a92eff5a4bb67ca0fab9\")>>\n",
      "<bound method WebDriver.get of <selenium.webdriver.chrome.webdriver.WebDriver (session=\"ba27d8255d5b7902e673179fd5c9351c\")>>\n",
      "<bound method WebDriver.get of <selenium.webdriver.chrome.webdriver.WebDriver (session=\"fd86365dabd681dc0d915fd0e00dc8c7\")>>\n",
      "<bound method WebDriver.get of <selenium.webdriver.chrome.webdriver.WebDriver (session=\"ee07fd4a220d72adb3c7fe8301446833\")>>\n",
      "<bound method WebDriver.get of <selenium.webdriver.chrome.webdriver.WebDriver (session=\"46be26cbdb53cb3b26d3005a86ce7549\")>>\n",
      "<bound method WebDriver.get of <selenium.webdriver.chrome.webdriver.WebDriver (session=\"6976a4fe06b44110a1bfa16b03895db6\")>>\n",
      "<bound method WebDriver.get of <selenium.webdriver.chrome.webdriver.WebDriver (session=\"650228042488b018e053e600f2f9f6e9\")>>\n",
      "<bound method WebDriver.get of <selenium.webdriver.chrome.webdriver.WebDriver (session=\"782ced6f9f007e8a8b0297b50b694e86\")>>\n",
      "<bound method WebDriver.get of <selenium.webdriver.chrome.webdriver.WebDriver (session=\"5eed4f70ceb19f77b6a9ce10781ecaac\")>>\n",
      "<bound method WebDriver.get of <selenium.webdriver.chrome.webdriver.WebDriver (session=\"30a444d24cd005234c72ee743dc66a90\")>>\n",
      "<bound method WebDriver.get of <selenium.webdriver.chrome.webdriver.WebDriver (session=\"4410f1cb74da3377a5c8e477ce7b3ab2\")>>\n",
      "<bound method WebDriver.get of <selenium.webdriver.chrome.webdriver.WebDriver (session=\"000c2f6dddfa9cbd35dfca8615958713\")>>\n",
      "<bound method WebDriver.get of <selenium.webdriver.chrome.webdriver.WebDriver (session=\"b954f421d32353cb504c19a66186cc95\")>>\n",
      "<bound method WebDriver.get of <selenium.webdriver.chrome.webdriver.WebDriver (session=\"2bc5d226309467335d9a970556052d86\")>>\n",
      "<bound method WebDriver.get of <selenium.webdriver.chrome.webdriver.WebDriver (session=\"06a33718db6df37a6c7dadfe5245107b\")>>\n",
      "<bound method WebDriver.get of <selenium.webdriver.chrome.webdriver.WebDriver (session=\"33342fdba8e7310ba7eda20af3fe5626\")>>\n"
     ]
    },
    {
     "name": "stdout",
     "output_type": "stream",
     "text": [
      "<bound method WebDriver.get of <selenium.webdriver.chrome.webdriver.WebDriver (session=\"941444f37e838e54ec4a0666ee65edf4\")>>\n",
      "<bound method WebDriver.get of <selenium.webdriver.chrome.webdriver.WebDriver (session=\"04481662cf5429dbe8fe6e710ceae93f\")>>\n",
      "<bound method WebDriver.get of <selenium.webdriver.chrome.webdriver.WebDriver (session=\"c4497b6ca22ec8d48870682b07352219\")>>\n",
      "<bound method WebDriver.get of <selenium.webdriver.chrome.webdriver.WebDriver (session=\"8017917bac525956f4678a2106f64325\")>>\n",
      "<bound method WebDriver.get of <selenium.webdriver.chrome.webdriver.WebDriver (session=\"2c44aa7260c5566a49fbe61c64d50710\")>>\n",
      "<bound method WebDriver.get of <selenium.webdriver.chrome.webdriver.WebDriver (session=\"ec6502e9ea6665078ac59bcf3f9a9da9\")>>\n",
      "<bound method WebDriver.get of <selenium.webdriver.chrome.webdriver.WebDriver (session=\"eac2567d18adb5a1c3e56827c25ea62d\")>>\n",
      "<bound method WebDriver.get of <selenium.webdriver.chrome.webdriver.WebDriver (session=\"be7172fbcf455bbf16bd3a1c27be1698\")>>\n",
      "<bound method WebDriver.get of <selenium.webdriver.chrome.webdriver.WebDriver (session=\"94bcc9819ce654a7974c36032ca7af51\")>>\n",
      "<bound method WebDriver.get of <selenium.webdriver.chrome.webdriver.WebDriver (session=\"252daddccb02ccb87e37736bc3dc7b9c\")>>\n",
      "<bound method WebDriver.get of <selenium.webdriver.chrome.webdriver.WebDriver (session=\"7edeab5d1ac4e3064039b0035a70f863\")>>\n",
      "<bound method WebDriver.get of <selenium.webdriver.chrome.webdriver.WebDriver (session=\"d659b6947261123354ec85278b1682aa\")>>\n",
      "<bound method WebDriver.get of <selenium.webdriver.chrome.webdriver.WebDriver (session=\"4eaca4b9d0cf71254599a502ab72b6a8\")>>\n",
      "<bound method WebDriver.get of <selenium.webdriver.chrome.webdriver.WebDriver (session=\"5fda20f6be5ec24be2ac37cb56e8374d\")>>\n",
      "<bound method WebDriver.get of <selenium.webdriver.chrome.webdriver.WebDriver (session=\"3a93bffeba3cd80b95df84c42dff02f6\")>>\n",
      "<bound method WebDriver.get of <selenium.webdriver.chrome.webdriver.WebDriver (session=\"ef2e10b824c9f70760091e8f1533b959\")>>\n",
      "<bound method WebDriver.get of <selenium.webdriver.chrome.webdriver.WebDriver (session=\"db9a6926642c2496851e00fe0b5e653a\")>>\n",
      "<bound method WebDriver.get of <selenium.webdriver.chrome.webdriver.WebDriver (session=\"0a0216649fb37a4f19f9995ebaf66b21\")>>\n",
      "<bound method WebDriver.get of <selenium.webdriver.chrome.webdriver.WebDriver (session=\"a723ff9504ec948c9cd81fb02eb64134\")>>\n",
      "<bound method WebDriver.get of <selenium.webdriver.chrome.webdriver.WebDriver (session=\"13fb4ce3b29b2b1a69523be46483de30\")>>\n",
      "<bound method WebDriver.get of <selenium.webdriver.chrome.webdriver.WebDriver (session=\"6fafe4ca120405566cd5ebe70ed152b8\")>>\n",
      "<bound method WebDriver.get of <selenium.webdriver.chrome.webdriver.WebDriver (session=\"327f46334cd200a7f5f5b130dd73c5c6\")>>\n",
      "<bound method WebDriver.get of <selenium.webdriver.chrome.webdriver.WebDriver (session=\"05d0576ebed860b69f3c26422261e0a3\")>>\n",
      "<bound method WebDriver.get of <selenium.webdriver.chrome.webdriver.WebDriver (session=\"6eb048db7e6043896b3f5111759a3a1f\")>>\n",
      "<bound method WebDriver.get of <selenium.webdriver.chrome.webdriver.WebDriver (session=\"883f69bcab117370ad7582575a13a6aa\")>>\n",
      "<bound method WebDriver.get of <selenium.webdriver.chrome.webdriver.WebDriver (session=\"e102db3476262e12fc75bb27bfb5a8e9\")>>\n",
      "<bound method WebDriver.get of <selenium.webdriver.chrome.webdriver.WebDriver (session=\"71ede4bd384b1ad71e58ccbf77841067\")>>\n",
      "<bound method WebDriver.get of <selenium.webdriver.chrome.webdriver.WebDriver (session=\"8027395845bdc0241327d1831cf76b58\")>>\n",
      "<bound method WebDriver.get of <selenium.webdriver.chrome.webdriver.WebDriver (session=\"56b72f2919e8c772264bb5e7daeadea3\")>>\n",
      "<bound method WebDriver.get of <selenium.webdriver.chrome.webdriver.WebDriver (session=\"4fe04b0febbb014c5ced68c7d558630d\")>>\n",
      "<bound method WebDriver.get of <selenium.webdriver.chrome.webdriver.WebDriver (session=\"6ca848bf97668994147417e90412df04\")>>\n",
      "<bound method WebDriver.get of <selenium.webdriver.chrome.webdriver.WebDriver (session=\"38d253ffa85d45499446fcae4bd110c6\")>>\n",
      "<bound method WebDriver.get of <selenium.webdriver.chrome.webdriver.WebDriver (session=\"40834f81cb27533b6eba32fb0f08ce72\")>>\n",
      "<bound method WebDriver.get of <selenium.webdriver.chrome.webdriver.WebDriver (session=\"e074b6cd98b75fdaf8435af1ce383bad\")>>\n",
      "<bound method WebDriver.get of <selenium.webdriver.chrome.webdriver.WebDriver (session=\"dda6308a998fa779e5dbd1a72b4048e9\")>>\n",
      "<bound method WebDriver.get of <selenium.webdriver.chrome.webdriver.WebDriver (session=\"ba85ca9d7af1dcbc31956b142ada2c2d\")>>\n",
      "<bound method WebDriver.get of <selenium.webdriver.chrome.webdriver.WebDriver (session=\"25c9ec65e2043947d057c11b8dc1c5f7\")>>\n",
      "<bound method WebDriver.get of <selenium.webdriver.chrome.webdriver.WebDriver (session=\"dd8dfe1187f87ff5a7b87163d4e64ba3\")>>\n",
      "<bound method WebDriver.get of <selenium.webdriver.chrome.webdriver.WebDriver (session=\"d2386303d1e2ae58972fd3cd756734fa\")>>\n",
      "<bound method WebDriver.get of <selenium.webdriver.chrome.webdriver.WebDriver (session=\"2c5bf480007dc506ea33505f2438ec6f\")>>\n",
      "<bound method WebDriver.get of <selenium.webdriver.chrome.webdriver.WebDriver (session=\"401bccb59578398f07f8cf603d81010e\")>>\n",
      "<bound method WebDriver.get of <selenium.webdriver.chrome.webdriver.WebDriver (session=\"1e185a857b91e6be7893e1ca43fe6a20\")>>\n",
      "<bound method WebDriver.get of <selenium.webdriver.chrome.webdriver.WebDriver (session=\"4defb098453c16050b18b12a8cac1abc\")>>\n",
      "<bound method WebDriver.get of <selenium.webdriver.chrome.webdriver.WebDriver (session=\"9601f8bca57d58ba2d0f5afdc1728820\")>>\n",
      "<bound method WebDriver.get of <selenium.webdriver.chrome.webdriver.WebDriver (session=\"8429098935395e079b11d1b2ad63b76e\")>>\n",
      "<bound method WebDriver.get of <selenium.webdriver.chrome.webdriver.WebDriver (session=\"b7b51defd5337ac30f551a580ecc00b1\")>>\n",
      "<bound method WebDriver.get of <selenium.webdriver.chrome.webdriver.WebDriver (session=\"d42b73cd321bdaf5705b3d947d2b1816\")>>\n",
      "<bound method WebDriver.get of <selenium.webdriver.chrome.webdriver.WebDriver (session=\"49b9479fa3325623c0e07b0d6f8913fc\")>>\n",
      "<bound method WebDriver.get of <selenium.webdriver.chrome.webdriver.WebDriver (session=\"f91453b6159bc22a72c474a788c59c00\")>>\n",
      "<bound method WebDriver.get of <selenium.webdriver.chrome.webdriver.WebDriver (session=\"864a73a1a08b112e3c4a5ac6feb3b506\")>>\n",
      "<bound method WebDriver.get of <selenium.webdriver.chrome.webdriver.WebDriver (session=\"188653873f23c40f4311371e10e8a903\")>>\n",
      "<bound method WebDriver.get of <selenium.webdriver.chrome.webdriver.WebDriver (session=\"a5524bce9bc91fd854011abd6a594387\")>>\n",
      "<bound method WebDriver.get of <selenium.webdriver.chrome.webdriver.WebDriver (session=\"ea29c729241e7d7e3fa8e1558f187dfa\")>>\n",
      "<bound method WebDriver.get of <selenium.webdriver.chrome.webdriver.WebDriver (session=\"8dc50790c889cbc04763926bf1247206\")>>\n",
      "<bound method WebDriver.get of <selenium.webdriver.chrome.webdriver.WebDriver (session=\"7f5e670c20182fd63c6a76ed7a2e2c45\")>>\n",
      "<bound method WebDriver.get of <selenium.webdriver.chrome.webdriver.WebDriver (session=\"b668333311498b360c480013df7860fb\")>>\n",
      "<bound method WebDriver.get of <selenium.webdriver.chrome.webdriver.WebDriver (session=\"f3f1f34220524ff54d771361e5fdb83d\")>>\n",
      "<bound method WebDriver.get of <selenium.webdriver.chrome.webdriver.WebDriver (session=\"875210b6367d2f950ca00e4fcdaf0d60\")>>\n",
      "<bound method WebDriver.get of <selenium.webdriver.chrome.webdriver.WebDriver (session=\"3dfe70506bd620d225eb58b39eeb8d9c\")>>\n",
      "<bound method WebDriver.get of <selenium.webdriver.chrome.webdriver.WebDriver (session=\"a715327709ed5ca0ef76977a48a6b33b\")>>\n",
      "<bound method WebDriver.get of <selenium.webdriver.chrome.webdriver.WebDriver (session=\"01f00f59af32aa39d2059acbda5e7c2f\")>>\n",
      "<bound method WebDriver.get of <selenium.webdriver.chrome.webdriver.WebDriver (session=\"5aa4062e6adaa64ba2a8701a812612b8\")>>\n",
      "<bound method WebDriver.get of <selenium.webdriver.chrome.webdriver.WebDriver (session=\"66612af02bf6b9c2753fb387feadbc47\")>>\n",
      "<bound method WebDriver.get of <selenium.webdriver.chrome.webdriver.WebDriver (session=\"f2d61764cf20bc428092d0465a3d9d01\")>>\n",
      "<bound method WebDriver.get of <selenium.webdriver.chrome.webdriver.WebDriver (session=\"7beca59903f516cfaa3d4a33ec1f3e0f\")>>\n",
      "<bound method WebDriver.get of <selenium.webdriver.chrome.webdriver.WebDriver (session=\"b3230fc7cdeab953866f1c975f05bbde\")>>\n"
     ]
    },
    {
     "name": "stdout",
     "output_type": "stream",
     "text": [
      "<bound method WebDriver.get of <selenium.webdriver.chrome.webdriver.WebDriver (session=\"45ff9888149035a8888825a27838ea70\")>>\n",
      "<bound method WebDriver.get of <selenium.webdriver.chrome.webdriver.WebDriver (session=\"8b24cb475bc3444c0209b06f26fe36c9\")>>\n",
      "<bound method WebDriver.get of <selenium.webdriver.chrome.webdriver.WebDriver (session=\"8655cd7e3e4ad9f34b67ef020521f982\")>>\n",
      "<bound method WebDriver.get of <selenium.webdriver.chrome.webdriver.WebDriver (session=\"2c08258f98364b07e8a24b0d6217b289\")>>\n",
      "<bound method WebDriver.get of <selenium.webdriver.chrome.webdriver.WebDriver (session=\"5329be499458100dc18b9c9fee2a890a\")>>\n",
      "<bound method WebDriver.get of <selenium.webdriver.chrome.webdriver.WebDriver (session=\"357e2839cdac5523bee167a0a315e75c\")>>\n",
      "<bound method WebDriver.get of <selenium.webdriver.chrome.webdriver.WebDriver (session=\"7617324618ba53aa3c9a53e9a68fdc6f\")>>\n",
      "<bound method WebDriver.get of <selenium.webdriver.chrome.webdriver.WebDriver (session=\"b4b4fd25edf3f761bcaa75f0c248ca22\")>>\n",
      "<bound method WebDriver.get of <selenium.webdriver.chrome.webdriver.WebDriver (session=\"392d2fd8af6b5a70be1748ab423e55ac\")>>\n",
      "<bound method WebDriver.get of <selenium.webdriver.chrome.webdriver.WebDriver (session=\"ac39977babd08d0f4fbc5ccc18fa135c\")>>\n",
      "<bound method WebDriver.get of <selenium.webdriver.chrome.webdriver.WebDriver (session=\"e957c9d2205f8403485abc617419b902\")>>\n",
      "<bound method WebDriver.get of <selenium.webdriver.chrome.webdriver.WebDriver (session=\"b06becff9aee61f64697b12fa1ca6013\")>>\n",
      "<bound method WebDriver.get of <selenium.webdriver.chrome.webdriver.WebDriver (session=\"c0d0ab4520f59aab9731620b43f57e26\")>>\n",
      "<bound method WebDriver.get of <selenium.webdriver.chrome.webdriver.WebDriver (session=\"3ae8f35d3eca3a510a7ed9b3f92b0154\")>>\n",
      "<bound method WebDriver.get of <selenium.webdriver.chrome.webdriver.WebDriver (session=\"25bb831e212fd6748dcc42221e55e147\")>>\n",
      "<bound method WebDriver.get of <selenium.webdriver.chrome.webdriver.WebDriver (session=\"da6c8889b92d48af5947eb622299dba9\")>>\n",
      "<bound method WebDriver.get of <selenium.webdriver.chrome.webdriver.WebDriver (session=\"70bdd507a0ba615e1e94d8144f4cc406\")>>\n",
      "<bound method WebDriver.get of <selenium.webdriver.chrome.webdriver.WebDriver (session=\"624337f57a8be6e27e08d6c095eec6b3\")>>\n",
      "<bound method WebDriver.get of <selenium.webdriver.chrome.webdriver.WebDriver (session=\"6ae62d3c9693426a9d45abcd6457e4fe\")>>\n",
      "<bound method WebDriver.get of <selenium.webdriver.chrome.webdriver.WebDriver (session=\"f7b216a7d4003acaf1fcc7669e6defb2\")>>\n",
      "<bound method WebDriver.get of <selenium.webdriver.chrome.webdriver.WebDriver (session=\"e4260760e97e6d13407d58dd03beea64\")>>\n",
      "<bound method WebDriver.get of <selenium.webdriver.chrome.webdriver.WebDriver (session=\"3499abe3025bfb4845f554d2ed5251ca\")>>\n",
      "<bound method WebDriver.get of <selenium.webdriver.chrome.webdriver.WebDriver (session=\"dfb4b37440a66e26d6585bd153e3bd01\")>>\n",
      "<bound method WebDriver.get of <selenium.webdriver.chrome.webdriver.WebDriver (session=\"d76124026665fc5a968373f7324157a8\")>>\n",
      "<bound method WebDriver.get of <selenium.webdriver.chrome.webdriver.WebDriver (session=\"bd3d5ebd70fad0362552e3ca00c52ca0\")>>\n",
      "<bound method WebDriver.get of <selenium.webdriver.chrome.webdriver.WebDriver (session=\"0cc168c54c6e3675fc063fbc1c64a705\")>>\n",
      "<bound method WebDriver.get of <selenium.webdriver.chrome.webdriver.WebDriver (session=\"1f37912e0bbe14dc5df35875e01a1a25\")>>\n",
      "<bound method WebDriver.get of <selenium.webdriver.chrome.webdriver.WebDriver (session=\"ef36ef775ab8eaf0f57c2c7217c1622d\")>>\n",
      "<bound method WebDriver.get of <selenium.webdriver.chrome.webdriver.WebDriver (session=\"bbaa8e352fd3aa803036d4913d564a1e\")>>\n",
      "<bound method WebDriver.get of <selenium.webdriver.chrome.webdriver.WebDriver (session=\"305fb2aaba020a115fc601cb64193292\")>>\n",
      "<bound method WebDriver.get of <selenium.webdriver.chrome.webdriver.WebDriver (session=\"41a256182b4c28629b1422ec69de5d0b\")>>\n",
      "<bound method WebDriver.get of <selenium.webdriver.chrome.webdriver.WebDriver (session=\"6ae248631e35da8abb50794ff9ed63c8\")>>\n",
      "<bound method WebDriver.get of <selenium.webdriver.chrome.webdriver.WebDriver (session=\"d539d45f7e9eedfb16027da378c630bd\")>>\n",
      "<bound method WebDriver.get of <selenium.webdriver.chrome.webdriver.WebDriver (session=\"9a6e83f194503bdcdd4edfab4abc6926\")>>\n",
      "<bound method WebDriver.get of <selenium.webdriver.chrome.webdriver.WebDriver (session=\"d89d914b3c0f7f1cbc9ff012ee663379\")>>\n",
      "<bound method WebDriver.get of <selenium.webdriver.chrome.webdriver.WebDriver (session=\"5e5efbef1390555fafbf26d441fdc920\")>>\n",
      "<bound method WebDriver.get of <selenium.webdriver.chrome.webdriver.WebDriver (session=\"5e0f6afcf2b27d84d84d46658d11dfb1\")>>\n",
      "<bound method WebDriver.get of <selenium.webdriver.chrome.webdriver.WebDriver (session=\"71a462f3a6b7c3e9ad91ada732152147\")>>\n",
      "<bound method WebDriver.get of <selenium.webdriver.chrome.webdriver.WebDriver (session=\"f31254f9066a5bb544d9c918c47345d2\")>>\n",
      "<bound method WebDriver.get of <selenium.webdriver.chrome.webdriver.WebDriver (session=\"193421bca050d2fe0efeeb54da794bcc\")>>\n",
      "<bound method WebDriver.get of <selenium.webdriver.chrome.webdriver.WebDriver (session=\"576481af1b25a0adca44d120db87c46f\")>>\n",
      "<bound method WebDriver.get of <selenium.webdriver.chrome.webdriver.WebDriver (session=\"76006b22278eee9d046a8277560098b0\")>>\n",
      "<bound method WebDriver.get of <selenium.webdriver.chrome.webdriver.WebDriver (session=\"a2c56c23497fe94a5320776725b0896d\")>>\n",
      "<bound method WebDriver.get of <selenium.webdriver.chrome.webdriver.WebDriver (session=\"82d673f1a7df0dedc08526ea5d110125\")>>\n",
      "<bound method WebDriver.get of <selenium.webdriver.chrome.webdriver.WebDriver (session=\"5575807fd8336fee9fa5e4eb427efd01\")>>\n",
      "<bound method WebDriver.get of <selenium.webdriver.chrome.webdriver.WebDriver (session=\"aaee6046978bf619a93d172f597af303\")>>\n",
      "<bound method WebDriver.get of <selenium.webdriver.chrome.webdriver.WebDriver (session=\"ffdac7491e76f443c255b99dabf5411b\")>>\n",
      "<bound method WebDriver.get of <selenium.webdriver.chrome.webdriver.WebDriver (session=\"6124e1213500d8126fcaa616aeec4547\")>>\n",
      "<bound method WebDriver.get of <selenium.webdriver.chrome.webdriver.WebDriver (session=\"086455de1d6e7c8b19757016711fa6ed\")>>\n",
      "<bound method WebDriver.get of <selenium.webdriver.chrome.webdriver.WebDriver (session=\"fa7a8d8d60bd2f21f1b89ae94c8de593\")>>\n",
      "<bound method WebDriver.get of <selenium.webdriver.chrome.webdriver.WebDriver (session=\"1fa057f24b3278703eabab46dcebb0fb\")>>\n",
      "<bound method WebDriver.get of <selenium.webdriver.chrome.webdriver.WebDriver (session=\"a3b27e5319c34e0940517a5b6e12761e\")>>\n",
      "<bound method WebDriver.get of <selenium.webdriver.chrome.webdriver.WebDriver (session=\"56770a300dd359d0c9879d04e5acc570\")>>\n",
      "<bound method WebDriver.get of <selenium.webdriver.chrome.webdriver.WebDriver (session=\"daf21f29d009f8908ed837742f1d0fe3\")>>\n",
      "<bound method WebDriver.get of <selenium.webdriver.chrome.webdriver.WebDriver (session=\"a6106b14c734b803bddb3149a1889bf5\")>>\n",
      "<bound method WebDriver.get of <selenium.webdriver.chrome.webdriver.WebDriver (session=\"f00612224a316985f1de08d99af148c6\")>>\n",
      "<bound method WebDriver.get of <selenium.webdriver.chrome.webdriver.WebDriver (session=\"86dc211816e867deef96b7a6c57708df\")>>\n",
      "<bound method WebDriver.get of <selenium.webdriver.chrome.webdriver.WebDriver (session=\"d0240c35f9de7b7ac0474f0999827ba1\")>>\n",
      "<bound method WebDriver.get of <selenium.webdriver.chrome.webdriver.WebDriver (session=\"15f5522610c2bcaf29a279fd7b7bf349\")>>\n",
      "<bound method WebDriver.get of <selenium.webdriver.chrome.webdriver.WebDriver (session=\"8d5fc56744e25cac84b61ded39b7fedf\")>>\n",
      "<bound method WebDriver.get of <selenium.webdriver.chrome.webdriver.WebDriver (session=\"f9ed0ee9a403ca305399c00cd76a539a\")>>\n",
      "<bound method WebDriver.get of <selenium.webdriver.chrome.webdriver.WebDriver (session=\"fe80a9cd6f89c5cfbf84d999ae6dbceb\")>>\n",
      "<bound method WebDriver.get of <selenium.webdriver.chrome.webdriver.WebDriver (session=\"93697c9ef4cde7ed6ff1e294506ea2de\")>>\n",
      "<bound method WebDriver.get of <selenium.webdriver.chrome.webdriver.WebDriver (session=\"aa44f58cc2addb51099bc90d0ab61e2a\")>>\n",
      "<bound method WebDriver.get of <selenium.webdriver.chrome.webdriver.WebDriver (session=\"a00de720637ae36ebc49b859b56bcab7\")>>\n",
      "<bound method WebDriver.get of <selenium.webdriver.chrome.webdriver.WebDriver (session=\"689a9811115365989749ee9f89518cdc\")>>\n"
     ]
    },
    {
     "name": "stdout",
     "output_type": "stream",
     "text": [
      "<bound method WebDriver.get of <selenium.webdriver.chrome.webdriver.WebDriver (session=\"f20538c478431b96d7d61c704f5c4017\")>>\n",
      "<bound method WebDriver.get of <selenium.webdriver.chrome.webdriver.WebDriver (session=\"4637c4b0abf33e1fad52670dc4107197\")>>\n",
      "<bound method WebDriver.get of <selenium.webdriver.chrome.webdriver.WebDriver (session=\"89fb93a3373b3e5995e663e4f5c4798e\")>>\n",
      "<bound method WebDriver.get of <selenium.webdriver.chrome.webdriver.WebDriver (session=\"8f99144cedc99861d89c644ef59d29b5\")>>\n",
      "<bound method WebDriver.get of <selenium.webdriver.chrome.webdriver.WebDriver (session=\"1a326b4436d8fb66e6f56740bcedc52d\")>>\n",
      "<bound method WebDriver.get of <selenium.webdriver.chrome.webdriver.WebDriver (session=\"d1ed6ab242154211a48b048084ae8784\")>>\n",
      "<bound method WebDriver.get of <selenium.webdriver.chrome.webdriver.WebDriver (session=\"dbb2087f235c91cf8b485bfea5287247\")>>\n",
      "<bound method WebDriver.get of <selenium.webdriver.chrome.webdriver.WebDriver (session=\"1b1e921193f1751010a751047c83f05a\")>>\n",
      "<bound method WebDriver.get of <selenium.webdriver.chrome.webdriver.WebDriver (session=\"216b0dc16ee5782ada87cdb93d01b8ec\")>>\n",
      "<bound method WebDriver.get of <selenium.webdriver.chrome.webdriver.WebDriver (session=\"6b05844df2ed4231f8d7e4c6cede076b\")>>\n",
      "<bound method WebDriver.get of <selenium.webdriver.chrome.webdriver.WebDriver (session=\"6989d26dc13b8fe65093701584b190cc\")>>\n",
      "<bound method WebDriver.get of <selenium.webdriver.chrome.webdriver.WebDriver (session=\"cc6c7fa08ce51dfeef9fea397b6e8829\")>>\n",
      "<bound method WebDriver.get of <selenium.webdriver.chrome.webdriver.WebDriver (session=\"5b5a6a05d63a4a27c316aa635387c575\")>>\n",
      "<bound method WebDriver.get of <selenium.webdriver.chrome.webdriver.WebDriver (session=\"8d01542c8cc6e2313aa46128887e0bfb\")>>\n",
      "<bound method WebDriver.get of <selenium.webdriver.chrome.webdriver.WebDriver (session=\"3efa6a4c08b2f3941c0efac5466c6998\")>>\n",
      "<bound method WebDriver.get of <selenium.webdriver.chrome.webdriver.WebDriver (session=\"23c57da25f36285e9e3c28df7036c62d\")>>\n",
      "<bound method WebDriver.get of <selenium.webdriver.chrome.webdriver.WebDriver (session=\"45074a9e99ab2a1bf66a11babf4d8da5\")>>\n",
      "<bound method WebDriver.get of <selenium.webdriver.chrome.webdriver.WebDriver (session=\"09e3106c1dff4ff49507d9bfc7092924\")>>\n",
      "<bound method WebDriver.get of <selenium.webdriver.chrome.webdriver.WebDriver (session=\"d29ca14d638944fee70e3f39c51373f7\")>>\n",
      "<bound method WebDriver.get of <selenium.webdriver.chrome.webdriver.WebDriver (session=\"5de699420a3f0323ded729018de0d564\")>>\n",
      "<bound method WebDriver.get of <selenium.webdriver.chrome.webdriver.WebDriver (session=\"8d837ff0ddd7831e23ddb378af8907d3\")>>\n",
      "<bound method WebDriver.get of <selenium.webdriver.chrome.webdriver.WebDriver (session=\"ecf7f5eb2fa83f332d9c5e7af2e508fd\")>>\n",
      "<bound method WebDriver.get of <selenium.webdriver.chrome.webdriver.WebDriver (session=\"9f0a20f91aca57f37dd4e61b0931603e\")>>\n",
      "<bound method WebDriver.get of <selenium.webdriver.chrome.webdriver.WebDriver (session=\"49a975e2a7d5d2a8cda767626a12262c\")>>\n",
      "<bound method WebDriver.get of <selenium.webdriver.chrome.webdriver.WebDriver (session=\"089b2699ce5a47472332c142cf63547c\")>>\n",
      "<bound method WebDriver.get of <selenium.webdriver.chrome.webdriver.WebDriver (session=\"51f9a6e92599331cf9ac11ac3948e90c\")>>\n",
      "<bound method WebDriver.get of <selenium.webdriver.chrome.webdriver.WebDriver (session=\"d91fe09d21c3c5897c0239843fb340fc\")>>\n",
      "<bound method WebDriver.get of <selenium.webdriver.chrome.webdriver.WebDriver (session=\"70e1b895fb8203d429b49c6cf5d0acca\")>>\n",
      "<bound method WebDriver.get of <selenium.webdriver.chrome.webdriver.WebDriver (session=\"59bf616f8c330e8bf1c36e47abfb2dee\")>>\n",
      "<bound method WebDriver.get of <selenium.webdriver.chrome.webdriver.WebDriver (session=\"22458cfa7a7dd3ca218c868a7c0a551b\")>>\n",
      "<bound method WebDriver.get of <selenium.webdriver.chrome.webdriver.WebDriver (session=\"2205436d8105c556e0e6af92517de2af\")>>\n",
      "<bound method WebDriver.get of <selenium.webdriver.chrome.webdriver.WebDriver (session=\"3fdede75318d1e8397d5d6e6cc3f66e6\")>>\n",
      "<bound method WebDriver.get of <selenium.webdriver.chrome.webdriver.WebDriver (session=\"0a1f468ce3766404fd3d8e137fa9ec5b\")>>\n",
      "<bound method WebDriver.get of <selenium.webdriver.chrome.webdriver.WebDriver (session=\"c3e6bc9379b0b7cd3d0efa0f15400b15\")>>\n",
      "<bound method WebDriver.get of <selenium.webdriver.chrome.webdriver.WebDriver (session=\"8db30a91c1fcbb9446d98621363b6465\")>>\n",
      "<bound method WebDriver.get of <selenium.webdriver.chrome.webdriver.WebDriver (session=\"6351871a2502898656f8771ab39d0abe\")>>\n",
      "<bound method WebDriver.get of <selenium.webdriver.chrome.webdriver.WebDriver (session=\"bd61c46f06e02965a08220844bd7e4f8\")>>\n",
      "<bound method WebDriver.get of <selenium.webdriver.chrome.webdriver.WebDriver (session=\"426521742f5ebf7be83ac9f9c9e6a5b8\")>>\n",
      "<bound method WebDriver.get of <selenium.webdriver.chrome.webdriver.WebDriver (session=\"6e1fd11e123c39025c9d5ea0af4b5e6b\")>>\n",
      "<bound method WebDriver.get of <selenium.webdriver.chrome.webdriver.WebDriver (session=\"6402470b7b46fdfed85eeeabdb71540a\")>>\n",
      "<bound method WebDriver.get of <selenium.webdriver.chrome.webdriver.WebDriver (session=\"9af4a2fa8c57a9fbc4fa65365d625fd7\")>>\n",
      "<bound method WebDriver.get of <selenium.webdriver.chrome.webdriver.WebDriver (session=\"7d39e39f8ae7f56549006049030d5a6a\")>>\n",
      "<bound method WebDriver.get of <selenium.webdriver.chrome.webdriver.WebDriver (session=\"6efe80ccc0f7a66d6a5a9de8b1288c5b\")>>\n",
      "<bound method WebDriver.get of <selenium.webdriver.chrome.webdriver.WebDriver (session=\"2db4a9c8a394ee17e534f30c25ee70bd\")>>\n",
      "<bound method WebDriver.get of <selenium.webdriver.chrome.webdriver.WebDriver (session=\"e965b71c6da490e433a4cb36817135a8\")>>\n",
      "<bound method WebDriver.get of <selenium.webdriver.chrome.webdriver.WebDriver (session=\"3f3b70f2539b25bf5485f3c3575072ed\")>>\n",
      "<bound method WebDriver.get of <selenium.webdriver.chrome.webdriver.WebDriver (session=\"3e760095872b3aca147c137624cb1d37\")>>\n",
      "<bound method WebDriver.get of <selenium.webdriver.chrome.webdriver.WebDriver (session=\"bb5e1ceea81c537494b515582a21ce0b\")>>\n",
      "<bound method WebDriver.get of <selenium.webdriver.chrome.webdriver.WebDriver (session=\"d8f613af4798e8d8b1ca66fa2bec7992\")>>\n",
      "<bound method WebDriver.get of <selenium.webdriver.chrome.webdriver.WebDriver (session=\"e62a4ca5452512fe592cb1c2ba2a716d\")>>\n",
      "<bound method WebDriver.get of <selenium.webdriver.chrome.webdriver.WebDriver (session=\"97e444ba9f5ba2efce89f6839e2f50d3\")>>\n",
      "<bound method WebDriver.get of <selenium.webdriver.chrome.webdriver.WebDriver (session=\"a09144b5b7b23b7f6aa0820a6a168c94\")>>\n",
      "<bound method WebDriver.get of <selenium.webdriver.chrome.webdriver.WebDriver (session=\"c0ab83d8feaf297f0d679b9fd3656de0\")>>\n",
      "<bound method WebDriver.get of <selenium.webdriver.chrome.webdriver.WebDriver (session=\"e18d95d6597f988d80ce2d1c85f19e78\")>>\n",
      "<bound method WebDriver.get of <selenium.webdriver.chrome.webdriver.WebDriver (session=\"7acf9b0b72b8375c2e7eebcc55dc0aa8\")>>\n",
      "<bound method WebDriver.get of <selenium.webdriver.chrome.webdriver.WebDriver (session=\"ab75968c31b57195da026d86c52845a3\")>>\n",
      "<bound method WebDriver.get of <selenium.webdriver.chrome.webdriver.WebDriver (session=\"1555379d4653b9558c1cddae977116fb\")>>\n",
      "<bound method WebDriver.get of <selenium.webdriver.chrome.webdriver.WebDriver (session=\"5af28d1e9a2a230d18a776cd99bebde9\")>>\n",
      "<bound method WebDriver.get of <selenium.webdriver.chrome.webdriver.WebDriver (session=\"a5e1b85ce54a37689dcde8562e7409e3\")>>\n",
      "<bound method WebDriver.get of <selenium.webdriver.chrome.webdriver.WebDriver (session=\"d927e57ae4ce8e532310650a135f66dd\")>>\n",
      "<bound method WebDriver.get of <selenium.webdriver.chrome.webdriver.WebDriver (session=\"5f2da9ae5046e88e2b16943530792ac7\")>>\n",
      "<bound method WebDriver.get of <selenium.webdriver.chrome.webdriver.WebDriver (session=\"40b5567226c9bfeb7a03400dac2f7621\")>>\n",
      "<bound method WebDriver.get of <selenium.webdriver.chrome.webdriver.WebDriver (session=\"34f6c10bcfa3e800c74b685a16419e92\")>>\n",
      "<bound method WebDriver.get of <selenium.webdriver.chrome.webdriver.WebDriver (session=\"d9c525c1d7df004b098cbb226ac38483\")>>\n",
      "<bound method WebDriver.get of <selenium.webdriver.chrome.webdriver.WebDriver (session=\"470df2f22a3ddcdd3111f34ed502a85a\")>>\n",
      "<bound method WebDriver.get of <selenium.webdriver.chrome.webdriver.WebDriver (session=\"00048db70b5492d1cfecc90b844c92a0\")>>\n"
     ]
    },
    {
     "name": "stdout",
     "output_type": "stream",
     "text": [
      "<bound method WebDriver.get of <selenium.webdriver.chrome.webdriver.WebDriver (session=\"3bf6f7ee8c83116bfaf12b7749f608c7\")>>\n",
      "<bound method WebDriver.get of <selenium.webdriver.chrome.webdriver.WebDriver (session=\"a51699d35c137958aae6196385c35410\")>>\n",
      "<bound method WebDriver.get of <selenium.webdriver.chrome.webdriver.WebDriver (session=\"ed76bbc5cbecee508fac23c447dcf0f6\")>>\n",
      "<bound method WebDriver.get of <selenium.webdriver.chrome.webdriver.WebDriver (session=\"0b929e002d63f07cb4317e23a29b1f4e\")>>\n",
      "<bound method WebDriver.get of <selenium.webdriver.chrome.webdriver.WebDriver (session=\"5d3b7cf20bb01b76502f7581e364ff89\")>>\n",
      "<bound method WebDriver.get of <selenium.webdriver.chrome.webdriver.WebDriver (session=\"c13c74efbf8fa6e72c5ca880d3633325\")>>\n",
      "<bound method WebDriver.get of <selenium.webdriver.chrome.webdriver.WebDriver (session=\"1318fac35adfbd8c991c8ff9e4ab48e0\")>>\n",
      "<bound method WebDriver.get of <selenium.webdriver.chrome.webdriver.WebDriver (session=\"2814ef19efd1b8b80cba04c57e279030\")>>\n",
      "<bound method WebDriver.get of <selenium.webdriver.chrome.webdriver.WebDriver (session=\"26273683167fcc8f43be432829ec782a\")>>\n",
      "<bound method WebDriver.get of <selenium.webdriver.chrome.webdriver.WebDriver (session=\"b01e740d44061a6359885681156639f7\")>>\n",
      "<bound method WebDriver.get of <selenium.webdriver.chrome.webdriver.WebDriver (session=\"2e7b745f240b7c24d41210badeed69b5\")>>\n",
      "<bound method WebDriver.get of <selenium.webdriver.chrome.webdriver.WebDriver (session=\"5551bf1dfc82ef3301eff825501bf067\")>>\n",
      "<bound method WebDriver.get of <selenium.webdriver.chrome.webdriver.WebDriver (session=\"8be4cbc8e9c60e3dacd65a348ee17e5e\")>>\n",
      "<bound method WebDriver.get of <selenium.webdriver.chrome.webdriver.WebDriver (session=\"a589d96f678f84f2f87f4193c7f12d0b\")>>\n",
      "<bound method WebDriver.get of <selenium.webdriver.chrome.webdriver.WebDriver (session=\"34ab91b7418a8c81a783b309b999be43\")>>\n",
      "<bound method WebDriver.get of <selenium.webdriver.chrome.webdriver.WebDriver (session=\"458fd9221fc875d7874e7a4e3998e5bf\")>>\n",
      "<bound method WebDriver.get of <selenium.webdriver.chrome.webdriver.WebDriver (session=\"197ba296328a9d675793438d9eaa0358\")>>\n",
      "<bound method WebDriver.get of <selenium.webdriver.chrome.webdriver.WebDriver (session=\"4884d486f0615aefcb9cc1438d91b400\")>>\n",
      "<bound method WebDriver.get of <selenium.webdriver.chrome.webdriver.WebDriver (session=\"a08a729988a579c6e0341a80219042e7\")>>\n",
      "<bound method WebDriver.get of <selenium.webdriver.chrome.webdriver.WebDriver (session=\"122c084d7f8f63cac5646a71c8f018b3\")>>\n",
      "<bound method WebDriver.get of <selenium.webdriver.chrome.webdriver.WebDriver (session=\"f4df4429407bacfdb7e79e98fcfeeb26\")>>\n",
      "<bound method WebDriver.get of <selenium.webdriver.chrome.webdriver.WebDriver (session=\"62a232c468309e4f894a7af1352714c2\")>>\n",
      "<bound method WebDriver.get of <selenium.webdriver.chrome.webdriver.WebDriver (session=\"d7647231adf131f68827863b3bc2eaca\")>>\n",
      "<bound method WebDriver.get of <selenium.webdriver.chrome.webdriver.WebDriver (session=\"f0dce2ec59931edd663f4c09ae1f5cbd\")>>\n",
      "<bound method WebDriver.get of <selenium.webdriver.chrome.webdriver.WebDriver (session=\"5567ef46d702d7e40b2e7a12cf3fcf4b\")>>\n",
      "<bound method WebDriver.get of <selenium.webdriver.chrome.webdriver.WebDriver (session=\"e27df1279963a9a0506101e6890247a7\")>>\n",
      "<bound method WebDriver.get of <selenium.webdriver.chrome.webdriver.WebDriver (session=\"37e4978e2f0c7e21002f47ecb0fd83eb\")>>\n",
      "<bound method WebDriver.get of <selenium.webdriver.chrome.webdriver.WebDriver (session=\"277b701fda12c9d7c0cdb2e4e77dc252\")>>\n",
      "<bound method WebDriver.get of <selenium.webdriver.chrome.webdriver.WebDriver (session=\"c246ebd03d303ad76f1d13a03ba3c623\")>>\n",
      "<bound method WebDriver.get of <selenium.webdriver.chrome.webdriver.WebDriver (session=\"36732d92f75d412c98b8c454d4fa8120\")>>\n",
      "<bound method WebDriver.get of <selenium.webdriver.chrome.webdriver.WebDriver (session=\"b8c1190e4acefedfcccfefbdf21a9143\")>>\n",
      "<bound method WebDriver.get of <selenium.webdriver.chrome.webdriver.WebDriver (session=\"20d2dc28e288185d246a8d437310f1c0\")>>\n",
      "<bound method WebDriver.get of <selenium.webdriver.chrome.webdriver.WebDriver (session=\"ab1957715c9fdcc7650a3cb5820b88e2\")>>\n",
      "<bound method WebDriver.get of <selenium.webdriver.chrome.webdriver.WebDriver (session=\"d8bd3fa1dfb29ae2f9f2adb89dce6c1c\")>>\n",
      "<bound method WebDriver.get of <selenium.webdriver.chrome.webdriver.WebDriver (session=\"1f218e79d44fbd9e62abc2c031d17f8a\")>>\n",
      "<bound method WebDriver.get of <selenium.webdriver.chrome.webdriver.WebDriver (session=\"b9f80d7eab1adc5326a921091ae6e73e\")>>\n",
      "<bound method WebDriver.get of <selenium.webdriver.chrome.webdriver.WebDriver (session=\"fb15c2da767f357f0b5fbf4596612076\")>>\n",
      "<bound method WebDriver.get of <selenium.webdriver.chrome.webdriver.WebDriver (session=\"e5b1f801855c45628a965b36a700e221\")>>\n",
      "<bound method WebDriver.get of <selenium.webdriver.chrome.webdriver.WebDriver (session=\"7d50985c68a4b14e583048f502a96209\")>>\n",
      "<bound method WebDriver.get of <selenium.webdriver.chrome.webdriver.WebDriver (session=\"0888c158ee947b2f1153047b35af8c27\")>>\n",
      "<bound method WebDriver.get of <selenium.webdriver.chrome.webdriver.WebDriver (session=\"7815d7b21ff26efb3ec21101295e2517\")>>\n",
      "<bound method WebDriver.get of <selenium.webdriver.chrome.webdriver.WebDriver (session=\"8b8d4b8561b27114ad6a02f709f6808c\")>>\n",
      "<bound method WebDriver.get of <selenium.webdriver.chrome.webdriver.WebDriver (session=\"0ae440f75f7ef91dcf7588a487c42719\")>>\n",
      "<bound method WebDriver.get of <selenium.webdriver.chrome.webdriver.WebDriver (session=\"9972819d629c949ea39bd8d7c5477aa8\")>>\n",
      "<bound method WebDriver.get of <selenium.webdriver.chrome.webdriver.WebDriver (session=\"a0fdbabacffb3efd4140deb43bae6a77\")>>\n",
      "<bound method WebDriver.get of <selenium.webdriver.chrome.webdriver.WebDriver (session=\"cea4a5058fea911475ed303bcf34ecfd\")>>\n",
      "<bound method WebDriver.get of <selenium.webdriver.chrome.webdriver.WebDriver (session=\"4bd906d6d13c9d6f4f3e67421d56e42c\")>>\n",
      "<bound method WebDriver.get of <selenium.webdriver.chrome.webdriver.WebDriver (session=\"75bc830a831a2e92350dd803396b8ee5\")>>\n",
      "<bound method WebDriver.get of <selenium.webdriver.chrome.webdriver.WebDriver (session=\"3a4001a112de610509fd2e983f3ab775\")>>\n",
      "<bound method WebDriver.get of <selenium.webdriver.chrome.webdriver.WebDriver (session=\"8f248bd35649ecd974e6995bbea753f0\")>>\n",
      "<bound method WebDriver.get of <selenium.webdriver.chrome.webdriver.WebDriver (session=\"e8a6e482cba39b4995f21cd0c40182c7\")>>\n",
      "<bound method WebDriver.get of <selenium.webdriver.chrome.webdriver.WebDriver (session=\"e7df9cc42f35ddde01985424e6e2285c\")>>\n",
      "<bound method WebDriver.get of <selenium.webdriver.chrome.webdriver.WebDriver (session=\"3cbcfb3c4ee8561f43f0c20df62293f3\")>>\n",
      "<bound method WebDriver.get of <selenium.webdriver.chrome.webdriver.WebDriver (session=\"ca6b8170bc4f378ee04996b4d7b5c367\")>>\n",
      "<bound method WebDriver.get of <selenium.webdriver.chrome.webdriver.WebDriver (session=\"bcb1e6746f987a634b7562090556ee4a\")>>\n",
      "<bound method WebDriver.get of <selenium.webdriver.chrome.webdriver.WebDriver (session=\"646d89fa5395bb79bc5ada0b06ae7f52\")>>\n",
      "<bound method WebDriver.get of <selenium.webdriver.chrome.webdriver.WebDriver (session=\"005f95196953717d81dac29178a2154c\")>>\n",
      "<bound method WebDriver.get of <selenium.webdriver.chrome.webdriver.WebDriver (session=\"752515b911da1c0f670149b9279b989f\")>>\n",
      "<bound method WebDriver.get of <selenium.webdriver.chrome.webdriver.WebDriver (session=\"6b9dc321f739aa44b1162a725f580066\")>>\n",
      "<bound method WebDriver.get of <selenium.webdriver.chrome.webdriver.WebDriver (session=\"35187e65357b6a73203080b7f2202b40\")>>\n",
      "<bound method WebDriver.get of <selenium.webdriver.chrome.webdriver.WebDriver (session=\"ae8fb8df202d9bec720bb0271595516d\")>>\n",
      "<bound method WebDriver.get of <selenium.webdriver.chrome.webdriver.WebDriver (session=\"b7d7dfcf89a501ed27718f5c32304e9c\")>>\n",
      "<bound method WebDriver.get of <selenium.webdriver.chrome.webdriver.WebDriver (session=\"cc5b935b259f4569b20b133098800ba5\")>>\n",
      "<bound method WebDriver.get of <selenium.webdriver.chrome.webdriver.WebDriver (session=\"fdb9d3bd6bd18e7ddb0bc80770ac3ff2\")>>\n",
      "<bound method WebDriver.get of <selenium.webdriver.chrome.webdriver.WebDriver (session=\"184f21a8e155a04d57724c24f73ea9b1\")>>\n",
      "<bound method WebDriver.get of <selenium.webdriver.chrome.webdriver.WebDriver (session=\"0c48f4b398e4b84076c20e37f901655a\")>>\n"
     ]
    },
    {
     "name": "stdout",
     "output_type": "stream",
     "text": [
      "<bound method WebDriver.get of <selenium.webdriver.chrome.webdriver.WebDriver (session=\"20348e7fb6a8f27d7365f8c8a00a8af5\")>>\n",
      "<bound method WebDriver.get of <selenium.webdriver.chrome.webdriver.WebDriver (session=\"ed7aa227669eb5c8b53c9cd771ea69fa\")>>\n",
      "<bound method WebDriver.get of <selenium.webdriver.chrome.webdriver.WebDriver (session=\"00b0de3dade51eed0f41b898b46107d4\")>>\n",
      "<bound method WebDriver.get of <selenium.webdriver.chrome.webdriver.WebDriver (session=\"7c11e66e4e559293174671539152ef6f\")>>\n",
      "<bound method WebDriver.get of <selenium.webdriver.chrome.webdriver.WebDriver (session=\"172ebd4fc395252c824b667d651de1c4\")>>\n",
      "<bound method WebDriver.get of <selenium.webdriver.chrome.webdriver.WebDriver (session=\"4a493c6befbaeacad1d278fd8eea15ec\")>>\n",
      "<bound method WebDriver.get of <selenium.webdriver.chrome.webdriver.WebDriver (session=\"b84ff5c2079d4d83a2adfa23d2b4f044\")>>\n",
      "<bound method WebDriver.get of <selenium.webdriver.chrome.webdriver.WebDriver (session=\"0ca6ba5885b965a0534c2ae8219f7fcf\")>>\n",
      "<bound method WebDriver.get of <selenium.webdriver.chrome.webdriver.WebDriver (session=\"638f0a4cce42a6c10e2296f1871eddbc\")>>\n",
      "<bound method WebDriver.get of <selenium.webdriver.chrome.webdriver.WebDriver (session=\"f15cd6686aefa08e6a3d9a1f1d78952e\")>>\n",
      "<bound method WebDriver.get of <selenium.webdriver.chrome.webdriver.WebDriver (session=\"24dbd2f6f5b6011be4692f48447fb1ca\")>>\n",
      "<bound method WebDriver.get of <selenium.webdriver.chrome.webdriver.WebDriver (session=\"1e61eb4d2a6b66f141e9a53456427e79\")>>\n",
      "<bound method WebDriver.get of <selenium.webdriver.chrome.webdriver.WebDriver (session=\"c9ada0e4576de6f29dda23b8b5aa4785\")>>\n",
      "<bound method WebDriver.get of <selenium.webdriver.chrome.webdriver.WebDriver (session=\"ab205644045fc508c0e316830583f228\")>>\n",
      "<bound method WebDriver.get of <selenium.webdriver.chrome.webdriver.WebDriver (session=\"ab0c05acc04e502a4d27cfd8a371dd77\")>>\n",
      "<bound method WebDriver.get of <selenium.webdriver.chrome.webdriver.WebDriver (session=\"0e6bd843bfca364a7ec972dc70a3cd04\")>>\n",
      "<bound method WebDriver.get of <selenium.webdriver.chrome.webdriver.WebDriver (session=\"7a6c48f32e2394b16a44319e164a67f8\")>>\n",
      "<bound method WebDriver.get of <selenium.webdriver.chrome.webdriver.WebDriver (session=\"b6255df39af1fa4d8d1fd9e2d665fc21\")>>\n",
      "<bound method WebDriver.get of <selenium.webdriver.chrome.webdriver.WebDriver (session=\"9ec16ac57659f42ef47949c4ddc680d0\")>>\n",
      "<bound method WebDriver.get of <selenium.webdriver.chrome.webdriver.WebDriver (session=\"2c449d587a8e7ba4d43549e22c8f5830\")>>\n",
      "<bound method WebDriver.get of <selenium.webdriver.chrome.webdriver.WebDriver (session=\"75d88a369c637a0a1639a72d8b60b45b\")>>\n",
      "<bound method WebDriver.get of <selenium.webdriver.chrome.webdriver.WebDriver (session=\"5648642c0cc9781b8c56b7ddf352c3b5\")>>\n",
      "<bound method WebDriver.get of <selenium.webdriver.chrome.webdriver.WebDriver (session=\"274cbde49bc7f10dffe15c905de8c373\")>>\n",
      "<bound method WebDriver.get of <selenium.webdriver.chrome.webdriver.WebDriver (session=\"7472e9a5a9ed2866df4e6aee177a8a99\")>>\n",
      "<bound method WebDriver.get of <selenium.webdriver.chrome.webdriver.WebDriver (session=\"2c177c2a83255a54264d51e9d38f124f\")>>\n",
      "<bound method WebDriver.get of <selenium.webdriver.chrome.webdriver.WebDriver (session=\"74973edf1fafa71655116f72d55fc5f2\")>>\n",
      "<bound method WebDriver.get of <selenium.webdriver.chrome.webdriver.WebDriver (session=\"c59709c2bf765bcf149a285c8285e886\")>>\n",
      "<bound method WebDriver.get of <selenium.webdriver.chrome.webdriver.WebDriver (session=\"f1b5c9b0e5366bc696ff5cda6ebe93c0\")>>\n",
      "<bound method WebDriver.get of <selenium.webdriver.chrome.webdriver.WebDriver (session=\"42bb0918d28f29619bfa81c932744e0f\")>>\n",
      "<bound method WebDriver.get of <selenium.webdriver.chrome.webdriver.WebDriver (session=\"f6650bbb6dde9405af5dab4e2cdcbf55\")>>\n",
      "<bound method WebDriver.get of <selenium.webdriver.chrome.webdriver.WebDriver (session=\"f0881704b280ce7063a5f9d923eb612a\")>>\n",
      "<bound method WebDriver.get of <selenium.webdriver.chrome.webdriver.WebDriver (session=\"450e43e7db27d425df15fe9dbca7ff82\")>>\n",
      "<bound method WebDriver.get of <selenium.webdriver.chrome.webdriver.WebDriver (session=\"c46d0d212553f58bbd4ae728552fca7a\")>>\n",
      "<bound method WebDriver.get of <selenium.webdriver.chrome.webdriver.WebDriver (session=\"0993ee32f722158d20cc7ee9bf375813\")>>\n",
      "<bound method WebDriver.get of <selenium.webdriver.chrome.webdriver.WebDriver (session=\"5b7e61fd1953b374ba5f3f8631297bde\")>>\n",
      "<bound method WebDriver.get of <selenium.webdriver.chrome.webdriver.WebDriver (session=\"d447888112950688d2cc0fea1e46b3e0\")>>\n",
      "<bound method WebDriver.get of <selenium.webdriver.chrome.webdriver.WebDriver (session=\"d776f6f12b1fcf1c408ec25256ca0d69\")>>\n",
      "<bound method WebDriver.get of <selenium.webdriver.chrome.webdriver.WebDriver (session=\"648ad0f6ac9e467c7bf3067fc5a3b3d5\")>>\n",
      "<bound method WebDriver.get of <selenium.webdriver.chrome.webdriver.WebDriver (session=\"c21d7ce1efd7c98021ec5202e3be3d88\")>>\n",
      "<bound method WebDriver.get of <selenium.webdriver.chrome.webdriver.WebDriver (session=\"de9de2727db8f9e73a732d0554c5cb87\")>>\n",
      "<bound method WebDriver.get of <selenium.webdriver.chrome.webdriver.WebDriver (session=\"73cc01671f4e5af7a4b1811e4dcc0b2c\")>>\n",
      "<bound method WebDriver.get of <selenium.webdriver.chrome.webdriver.WebDriver (session=\"bfb58aa9ddd39a545bf5826613c51e6f\")>>\n",
      "<bound method WebDriver.get of <selenium.webdriver.chrome.webdriver.WebDriver (session=\"b1a6576fcbbc22b343e17fd820b30f24\")>>\n",
      "<bound method WebDriver.get of <selenium.webdriver.chrome.webdriver.WebDriver (session=\"6480a310295b993010333e9ca57026d5\")>>\n",
      "<bound method WebDriver.get of <selenium.webdriver.chrome.webdriver.WebDriver (session=\"aebed2b67b74c037054312d221cb6517\")>>\n",
      "<bound method WebDriver.get of <selenium.webdriver.chrome.webdriver.WebDriver (session=\"1aa5648e7be4de1418367c78f43ca178\")>>\n",
      "<bound method WebDriver.get of <selenium.webdriver.chrome.webdriver.WebDriver (session=\"123788b18569d21528ee9ce31c09cacf\")>>\n",
      "<bound method WebDriver.get of <selenium.webdriver.chrome.webdriver.WebDriver (session=\"eae7c9da27eb8fc807b893a8e29915b4\")>>\n",
      "<bound method WebDriver.get of <selenium.webdriver.chrome.webdriver.WebDriver (session=\"acbafc7c04121c2475c8e89801be7d31\")>>\n",
      "<bound method WebDriver.get of <selenium.webdriver.chrome.webdriver.WebDriver (session=\"7a7908907029fb6563431b515747948c\")>>\n",
      "<bound method WebDriver.get of <selenium.webdriver.chrome.webdriver.WebDriver (session=\"24b0c1d4b369764a44b43ca4238bec15\")>>\n",
      "<bound method WebDriver.get of <selenium.webdriver.chrome.webdriver.WebDriver (session=\"c7eddc3c32f8f9a4a28874dc44a49d19\")>>\n",
      "<bound method WebDriver.get of <selenium.webdriver.chrome.webdriver.WebDriver (session=\"50359c31eaa20a73666b1f8b22d85262\")>>\n",
      "<bound method WebDriver.get of <selenium.webdriver.chrome.webdriver.WebDriver (session=\"682d2b2d9e95dae3775405e678636d54\")>>\n",
      "<bound method WebDriver.get of <selenium.webdriver.chrome.webdriver.WebDriver (session=\"fb0565668b94e4718b8acd1c14c3dd07\")>>\n",
      "<bound method WebDriver.get of <selenium.webdriver.chrome.webdriver.WebDriver (session=\"fa9814ebf7ae38f3c837f5118c07ca9b\")>>\n",
      "<bound method WebDriver.get of <selenium.webdriver.chrome.webdriver.WebDriver (session=\"980545d5a4b34b886f8b88832a70e7ed\")>>\n",
      "<bound method WebDriver.get of <selenium.webdriver.chrome.webdriver.WebDriver (session=\"6c638b1ea9d701c77ca820afb698677d\")>>\n",
      "<bound method WebDriver.get of <selenium.webdriver.chrome.webdriver.WebDriver (session=\"29226a7aaa344d89fc0bc9c0d71257fe\")>>\n",
      "<bound method WebDriver.get of <selenium.webdriver.chrome.webdriver.WebDriver (session=\"ffca4b5d94a8f1d7c735bfbf8e2a8fcd\")>>\n",
      "<bound method WebDriver.get of <selenium.webdriver.chrome.webdriver.WebDriver (session=\"584c2db99220d93d471880f99b2a4e22\")>>\n",
      "<bound method WebDriver.get of <selenium.webdriver.chrome.webdriver.WebDriver (session=\"6774a11b7a918097ba81269c7f2fe44e\")>>\n",
      "<bound method WebDriver.get of <selenium.webdriver.chrome.webdriver.WebDriver (session=\"02bedb0150541739c222b59bee4bde35\")>>\n",
      "<bound method WebDriver.get of <selenium.webdriver.chrome.webdriver.WebDriver (session=\"5274a96340de0dd2b190d155dffad6ca\")>>\n",
      "<bound method WebDriver.get of <selenium.webdriver.chrome.webdriver.WebDriver (session=\"c181562d8a670009fa39d5aed5bc259a\")>>\n",
      "<bound method WebDriver.get of <selenium.webdriver.chrome.webdriver.WebDriver (session=\"488a042da6a2ec5b2f128ef7570d3d88\")>>\n"
     ]
    },
    {
     "name": "stdout",
     "output_type": "stream",
     "text": [
      "<bound method WebDriver.get of <selenium.webdriver.chrome.webdriver.WebDriver (session=\"a9b6d7cd2341023a11a38dba5e256d72\")>>\n",
      "<bound method WebDriver.get of <selenium.webdriver.chrome.webdriver.WebDriver (session=\"60f4918e3519351efc4a961098f82f15\")>>\n",
      "<bound method WebDriver.get of <selenium.webdriver.chrome.webdriver.WebDriver (session=\"56b17f56259e2b9c3b72c0ab0e73842f\")>>\n",
      "<bound method WebDriver.get of <selenium.webdriver.chrome.webdriver.WebDriver (session=\"b940027f422585c24eb00a22e5058ab6\")>>\n",
      "<bound method WebDriver.get of <selenium.webdriver.chrome.webdriver.WebDriver (session=\"66002a2a6edadf8e036b5e5b7e8e1cdb\")>>\n",
      "<bound method WebDriver.get of <selenium.webdriver.chrome.webdriver.WebDriver (session=\"62a820787c56ab344daf12b57c32625b\")>>\n",
      "<bound method WebDriver.get of <selenium.webdriver.chrome.webdriver.WebDriver (session=\"ae0cde3edd1bcaced62aefd1b3204e52\")>>\n",
      "<bound method WebDriver.get of <selenium.webdriver.chrome.webdriver.WebDriver (session=\"dba5520016fe8bf1e481d220a16a2d52\")>>\n",
      "<bound method WebDriver.get of <selenium.webdriver.chrome.webdriver.WebDriver (session=\"548c380dc31ff103170c158177b20ee6\")>>\n",
      "<bound method WebDriver.get of <selenium.webdriver.chrome.webdriver.WebDriver (session=\"86cbc2e477fe7ee2a735ffc98969bfcb\")>>\n",
      "<bound method WebDriver.get of <selenium.webdriver.chrome.webdriver.WebDriver (session=\"3a4b43d4b821a285571fa8f1c883b536\")>>\n",
      "<bound method WebDriver.get of <selenium.webdriver.chrome.webdriver.WebDriver (session=\"7110ecd81916d5815e13a1ee591a580d\")>>\n",
      "<bound method WebDriver.get of <selenium.webdriver.chrome.webdriver.WebDriver (session=\"9e4685f9ea5f25da07f11b2ddec53aa8\")>>\n",
      "<bound method WebDriver.get of <selenium.webdriver.chrome.webdriver.WebDriver (session=\"4cec052131d202582595dc9506730bf9\")>>\n",
      "<bound method WebDriver.get of <selenium.webdriver.chrome.webdriver.WebDriver (session=\"343557434fa8a23e7f6aba9b98a3e783\")>>\n",
      "<bound method WebDriver.get of <selenium.webdriver.chrome.webdriver.WebDriver (session=\"3dccee9c2f63ef3627908727b77cc809\")>>\n",
      "<bound method WebDriver.get of <selenium.webdriver.chrome.webdriver.WebDriver (session=\"7fc9962d7ffcef69079d4b814846cb7f\")>>\n",
      "<bound method WebDriver.get of <selenium.webdriver.chrome.webdriver.WebDriver (session=\"06d2fd2476547d1f371b7117941164b0\")>>\n",
      "<bound method WebDriver.get of <selenium.webdriver.chrome.webdriver.WebDriver (session=\"2ad026273999aabf00de7d1447fe9dbc\")>>\n",
      "<bound method WebDriver.get of <selenium.webdriver.chrome.webdriver.WebDriver (session=\"3bfaca4a292eafafc8c08965f8eb1a5a\")>>\n",
      "<bound method WebDriver.get of <selenium.webdriver.chrome.webdriver.WebDriver (session=\"a95fefc31915bd6421cdf9e4b2ad0e09\")>>\n",
      "<bound method WebDriver.get of <selenium.webdriver.chrome.webdriver.WebDriver (session=\"47f610811203375cb04c8cd8347e16a9\")>>\n",
      "<bound method WebDriver.get of <selenium.webdriver.chrome.webdriver.WebDriver (session=\"bb1361b7de70253d9fead6b52fa11949\")>>\n",
      "<bound method WebDriver.get of <selenium.webdriver.chrome.webdriver.WebDriver (session=\"dae73780e4d246b32b2ca86e01ea8072\")>>\n",
      "<bound method WebDriver.get of <selenium.webdriver.chrome.webdriver.WebDriver (session=\"edc291d2c30d18a30aa238a887a2241b\")>>\n",
      "<bound method WebDriver.get of <selenium.webdriver.chrome.webdriver.WebDriver (session=\"099aceb04140bb0d9734d8d51ba51f60\")>>\n",
      "<bound method WebDriver.get of <selenium.webdriver.chrome.webdriver.WebDriver (session=\"ea533b7b834ee0902057f911eaf017b2\")>>\n",
      "<bound method WebDriver.get of <selenium.webdriver.chrome.webdriver.WebDriver (session=\"9a10f17c3be0b988f25a3073e1933532\")>>\n",
      "<bound method WebDriver.get of <selenium.webdriver.chrome.webdriver.WebDriver (session=\"b5dff06d90db07c21430b4c63660e494\")>>\n",
      "<bound method WebDriver.get of <selenium.webdriver.chrome.webdriver.WebDriver (session=\"bf512a06be5fd11950363b76f20f63c9\")>>\n",
      "<bound method WebDriver.get of <selenium.webdriver.chrome.webdriver.WebDriver (session=\"7fbbbab1a472eaa113683d5a34c0150b\")>>\n",
      "<bound method WebDriver.get of <selenium.webdriver.chrome.webdriver.WebDriver (session=\"a4ac46d9ec424c6541ec97782689aaa3\")>>\n",
      "<bound method WebDriver.get of <selenium.webdriver.chrome.webdriver.WebDriver (session=\"5a5499606c7b96c913673b09feebfc5b\")>>\n",
      "<bound method WebDriver.get of <selenium.webdriver.chrome.webdriver.WebDriver (session=\"e0ff9e74e5aea6995bea8e7a1ad3f19d\")>>\n",
      "<bound method WebDriver.get of <selenium.webdriver.chrome.webdriver.WebDriver (session=\"42c2cf7f0d8eddc0fbdb1020e9eb46cd\")>>\n",
      "<bound method WebDriver.get of <selenium.webdriver.chrome.webdriver.WebDriver (session=\"960dfd4fdaaa841a98096c80f668f833\")>>\n",
      "<bound method WebDriver.get of <selenium.webdriver.chrome.webdriver.WebDriver (session=\"f3d3ad483ecf7cd56fdd819886e3595e\")>>\n",
      "<bound method WebDriver.get of <selenium.webdriver.chrome.webdriver.WebDriver (session=\"627b8158069719fef0b9add3a84923dc\")>>\n",
      "<bound method WebDriver.get of <selenium.webdriver.chrome.webdriver.WebDriver (session=\"4560a9e3099e6fa7312c59428b446072\")>>\n",
      "<bound method WebDriver.get of <selenium.webdriver.chrome.webdriver.WebDriver (session=\"5257d61b6c01faac6b6219bd919e8bff\")>>\n",
      "<bound method WebDriver.get of <selenium.webdriver.chrome.webdriver.WebDriver (session=\"bf7c78f76e1ea33dd8a1cc896620e43f\")>>\n",
      "<bound method WebDriver.get of <selenium.webdriver.chrome.webdriver.WebDriver (session=\"0cd54e7ffb7f7a178caf037545cb60b6\")>>\n",
      "<bound method WebDriver.get of <selenium.webdriver.chrome.webdriver.WebDriver (session=\"0488a3cbb54270fe31bd2492a8100033\")>>\n",
      "<bound method WebDriver.get of <selenium.webdriver.chrome.webdriver.WebDriver (session=\"bb7134721e624029bbba27365091a33d\")>>\n",
      "<bound method WebDriver.get of <selenium.webdriver.chrome.webdriver.WebDriver (session=\"a372efbcc3a8595e8386a9b955327f67\")>>\n",
      "<bound method WebDriver.get of <selenium.webdriver.chrome.webdriver.WebDriver (session=\"cb50c75b2010bd1cb07331ea2c27ba7a\")>>\n",
      "<bound method WebDriver.get of <selenium.webdriver.chrome.webdriver.WebDriver (session=\"0e46778fa7ae1f43fdd0ecab85d68bf9\")>>\n",
      "<bound method WebDriver.get of <selenium.webdriver.chrome.webdriver.WebDriver (session=\"d2eb9faa9d1f24b1c151e0bafe5629dc\")>>\n",
      "<bound method WebDriver.get of <selenium.webdriver.chrome.webdriver.WebDriver (session=\"271449c8385547f4880a8b6b9527c815\")>>\n",
      "<bound method WebDriver.get of <selenium.webdriver.chrome.webdriver.WebDriver (session=\"71408ed7ee5b82953e4ddafa72e2917d\")>>\n",
      "<bound method WebDriver.get of <selenium.webdriver.chrome.webdriver.WebDriver (session=\"af34ca16009f5651d73ae90365895182\")>>\n",
      "<bound method WebDriver.get of <selenium.webdriver.chrome.webdriver.WebDriver (session=\"e1d6220b9628df5eda14154c72b171f2\")>>\n",
      "<bound method WebDriver.get of <selenium.webdriver.chrome.webdriver.WebDriver (session=\"b5486ea1fe715f449d7c980a0e38e926\")>>\n",
      "<bound method WebDriver.get of <selenium.webdriver.chrome.webdriver.WebDriver (session=\"e52dd0ce07a3046a14260b2ab2b8d88d\")>>\n",
      "<bound method WebDriver.get of <selenium.webdriver.chrome.webdriver.WebDriver (session=\"b76ef7d8ac9450ec8861f85aa4af5556\")>>\n",
      "<bound method WebDriver.get of <selenium.webdriver.chrome.webdriver.WebDriver (session=\"fa6db6017009980c44b311d68a2c51c4\")>>\n",
      "<bound method WebDriver.get of <selenium.webdriver.chrome.webdriver.WebDriver (session=\"0263218caceaa3654106ceff40357d14\")>>\n",
      "<bound method WebDriver.get of <selenium.webdriver.chrome.webdriver.WebDriver (session=\"29f12fa197ef52d92fc384910793b5b2\")>>\n",
      "<bound method WebDriver.get of <selenium.webdriver.chrome.webdriver.WebDriver (session=\"a67a9aee4511e56ef229abcba301cf1f\")>>\n",
      "<bound method WebDriver.get of <selenium.webdriver.chrome.webdriver.WebDriver (session=\"c6a798e0332d93ae3ed33f3214d133d2\")>>\n",
      "<bound method WebDriver.get of <selenium.webdriver.chrome.webdriver.WebDriver (session=\"7d940b742117ee9f54ac593da38182d7\")>>\n",
      "<bound method WebDriver.get of <selenium.webdriver.chrome.webdriver.WebDriver (session=\"425f0a1b664ad624816bb29635e4ec0d\")>>\n",
      "<bound method WebDriver.get of <selenium.webdriver.chrome.webdriver.WebDriver (session=\"7a5ce0253e0c7499215e96fcfefe7d88\")>>\n",
      "<bound method WebDriver.get of <selenium.webdriver.chrome.webdriver.WebDriver (session=\"33b0bd461c8d165c5b9e49ddaa7cd656\")>>\n",
      "<bound method WebDriver.get of <selenium.webdriver.chrome.webdriver.WebDriver (session=\"ebb13adcb50ef1fb73696835e49cfbe7\")>>\n",
      "<bound method WebDriver.get of <selenium.webdriver.chrome.webdriver.WebDriver (session=\"42afa3acbfd0c8ac53edc94803e776cc\")>>\n"
     ]
    },
    {
     "name": "stdout",
     "output_type": "stream",
     "text": [
      "<bound method WebDriver.get of <selenium.webdriver.chrome.webdriver.WebDriver (session=\"bd9e692212e084ef7c1f1b28f1c6fd55\")>>\n",
      "<bound method WebDriver.get of <selenium.webdriver.chrome.webdriver.WebDriver (session=\"761abdcd80fa477c379781d35441bc8b\")>>\n",
      "<bound method WebDriver.get of <selenium.webdriver.chrome.webdriver.WebDriver (session=\"c38e75ea3e6b3eee067a3791c8621478\")>>\n",
      "<bound method WebDriver.get of <selenium.webdriver.chrome.webdriver.WebDriver (session=\"120ceaf9dcddaabf7f73e271bf581eea\")>>\n",
      "<bound method WebDriver.get of <selenium.webdriver.chrome.webdriver.WebDriver (session=\"929a767dd12dd9cb7ec8795cc088486f\")>>\n",
      "<bound method WebDriver.get of <selenium.webdriver.chrome.webdriver.WebDriver (session=\"0e05eefeb96d92e5135803cbb95903a3\")>>\n",
      "<bound method WebDriver.get of <selenium.webdriver.chrome.webdriver.WebDriver (session=\"55da06886a079889d429fc5d9eec1af7\")>>\n",
      "<bound method WebDriver.get of <selenium.webdriver.chrome.webdriver.WebDriver (session=\"46331434680ef89582dedb481c1047ee\")>>\n",
      "<bound method WebDriver.get of <selenium.webdriver.chrome.webdriver.WebDriver (session=\"4e7267f94bda3e3ce5da0bc93b8028ba\")>>\n",
      "<bound method WebDriver.get of <selenium.webdriver.chrome.webdriver.WebDriver (session=\"18b20f94fc39ccfc666301f1856921c1\")>>\n",
      "<bound method WebDriver.get of <selenium.webdriver.chrome.webdriver.WebDriver (session=\"fea8da4b7022ff671b2daa2bb74dd249\")>>\n",
      "<bound method WebDriver.get of <selenium.webdriver.chrome.webdriver.WebDriver (session=\"068bda6db0c98a5bdd98e741aa245c10\")>>\n",
      "<bound method WebDriver.get of <selenium.webdriver.chrome.webdriver.WebDriver (session=\"a91cb9345587c61c221b380f2c9f8bfe\")>>\n",
      "<bound method WebDriver.get of <selenium.webdriver.chrome.webdriver.WebDriver (session=\"815e4b2da6b93caa3d33e4f151dfe09a\")>>\n",
      "<bound method WebDriver.get of <selenium.webdriver.chrome.webdriver.WebDriver (session=\"1038873cb1169710ca2fc76d405a7f6b\")>>\n",
      "<bound method WebDriver.get of <selenium.webdriver.chrome.webdriver.WebDriver (session=\"69e2e4f863aa3727a7a0b0825e1cd20e\")>>\n",
      "<bound method WebDriver.get of <selenium.webdriver.chrome.webdriver.WebDriver (session=\"1ab8b26ade0930776215780664bdcef7\")>>\n",
      "<bound method WebDriver.get of <selenium.webdriver.chrome.webdriver.WebDriver (session=\"0c3e1019fac6796b9d49f582da323d31\")>>\n",
      "<bound method WebDriver.get of <selenium.webdriver.chrome.webdriver.WebDriver (session=\"66def121fa648a7ad9409b43433cc285\")>>\n",
      "<bound method WebDriver.get of <selenium.webdriver.chrome.webdriver.WebDriver (session=\"fc544ec2ce609143c67917a58b440cef\")>>\n",
      "<bound method WebDriver.get of <selenium.webdriver.chrome.webdriver.WebDriver (session=\"bd554258f2ed461df7add9e59918025d\")>>\n",
      "<bound method WebDriver.get of <selenium.webdriver.chrome.webdriver.WebDriver (session=\"1f4323a5b5aec71152991556c8471415\")>>\n",
      "<bound method WebDriver.get of <selenium.webdriver.chrome.webdriver.WebDriver (session=\"97b6c41e40c5aa43c21448db9566a6b7\")>>\n",
      "<bound method WebDriver.get of <selenium.webdriver.chrome.webdriver.WebDriver (session=\"4d0c2acf6163fb5046bd2083157fc646\")>>\n",
      "<bound method WebDriver.get of <selenium.webdriver.chrome.webdriver.WebDriver (session=\"38bc8b15a93c908831324b46ac9c8954\")>>\n",
      "<bound method WebDriver.get of <selenium.webdriver.chrome.webdriver.WebDriver (session=\"2d0e6dc0f199c4ce702fa4815cf2f32b\")>>\n",
      "<bound method WebDriver.get of <selenium.webdriver.chrome.webdriver.WebDriver (session=\"2e2d63cb57a15b4bd5ce8c2e798b5702\")>>\n",
      "<bound method WebDriver.get of <selenium.webdriver.chrome.webdriver.WebDriver (session=\"70d7c8b1f5b79c4ed5999c5dfd05bc12\")>>\n",
      "<bound method WebDriver.get of <selenium.webdriver.chrome.webdriver.WebDriver (session=\"bf2730baa3a5cc7a1c16dc039edd922f\")>>\n",
      "<bound method WebDriver.get of <selenium.webdriver.chrome.webdriver.WebDriver (session=\"560d7fc79143c1b820c8a48220b2219f\")>>\n",
      "<bound method WebDriver.get of <selenium.webdriver.chrome.webdriver.WebDriver (session=\"6b1ed3aa95fd4b9a6f788f3bf4ea4a7e\")>>\n",
      "<bound method WebDriver.get of <selenium.webdriver.chrome.webdriver.WebDriver (session=\"7d0e63612df0f692b136522abad836f3\")>>\n",
      "<bound method WebDriver.get of <selenium.webdriver.chrome.webdriver.WebDriver (session=\"25574da8767c3930fe890f9704790641\")>>\n",
      "<bound method WebDriver.get of <selenium.webdriver.chrome.webdriver.WebDriver (session=\"ca6902d8297e87f98605b8ec76e64071\")>>\n",
      "<bound method WebDriver.get of <selenium.webdriver.chrome.webdriver.WebDriver (session=\"a4249ba106cfe8bc4edbbebb93a75290\")>>\n",
      "<bound method WebDriver.get of <selenium.webdriver.chrome.webdriver.WebDriver (session=\"8d59b7e7cef5a3939b72867f694291d2\")>>\n",
      "<bound method WebDriver.get of <selenium.webdriver.chrome.webdriver.WebDriver (session=\"7ced47b8ae178c9bd0bfe924da9c7236\")>>\n",
      "<bound method WebDriver.get of <selenium.webdriver.chrome.webdriver.WebDriver (session=\"af761cd255a7e37190d1e0b870c4c5e0\")>>\n",
      "<bound method WebDriver.get of <selenium.webdriver.chrome.webdriver.WebDriver (session=\"06880e1668d64691cefa848c4d0e561e\")>>\n",
      "<bound method WebDriver.get of <selenium.webdriver.chrome.webdriver.WebDriver (session=\"ee1902fd2c68c818bc88646c4a84223e\")>>\n",
      "<bound method WebDriver.get of <selenium.webdriver.chrome.webdriver.WebDriver (session=\"0bfc655bbaf689b2b58efd0636e824c6\")>>\n",
      "<bound method WebDriver.get of <selenium.webdriver.chrome.webdriver.WebDriver (session=\"72ee203627499494b0324bc1c99fce39\")>>\n",
      "<bound method WebDriver.get of <selenium.webdriver.chrome.webdriver.WebDriver (session=\"5171792b313f10b38b6da65d7b079cdd\")>>\n",
      "<bound method WebDriver.get of <selenium.webdriver.chrome.webdriver.WebDriver (session=\"cff92123d50e069129cafa06cf42a370\")>>\n",
      "<bound method WebDriver.get of <selenium.webdriver.chrome.webdriver.WebDriver (session=\"6e1573f60b426df2daef642ddc9eba7f\")>>\n",
      "<bound method WebDriver.get of <selenium.webdriver.chrome.webdriver.WebDriver (session=\"480535e472a9dfa3a5db5d5e26b16338\")>>\n",
      "<bound method WebDriver.get of <selenium.webdriver.chrome.webdriver.WebDriver (session=\"512081677ba3216dcf830914b6b41b53\")>>\n",
      "<bound method WebDriver.get of <selenium.webdriver.chrome.webdriver.WebDriver (session=\"ccacfffdae12f9e7a139066084702367\")>>\n",
      "<bound method WebDriver.get of <selenium.webdriver.chrome.webdriver.WebDriver (session=\"b53f805f8327384145d118dbb1909ad7\")>>\n",
      "<bound method WebDriver.get of <selenium.webdriver.chrome.webdriver.WebDriver (session=\"051e4776ec3faf6c7b084727571fa6f8\")>>\n",
      "<bound method WebDriver.get of <selenium.webdriver.chrome.webdriver.WebDriver (session=\"b8985fcb775b6a4bfe3112c40d51beb9\")>>\n",
      "<bound method WebDriver.get of <selenium.webdriver.chrome.webdriver.WebDriver (session=\"2c309428502272faa536cdca18045ff1\")>>\n",
      "<bound method WebDriver.get of <selenium.webdriver.chrome.webdriver.WebDriver (session=\"69df1998fc78c204c352afc40157b695\")>>\n",
      "<bound method WebDriver.get of <selenium.webdriver.chrome.webdriver.WebDriver (session=\"f72669f2f3afa77e410baa6505c2f41a\")>>\n",
      "<bound method WebDriver.get of <selenium.webdriver.chrome.webdriver.WebDriver (session=\"74f483f2186e165b7fb0be1dd4f2d948\")>>\n",
      "<bound method WebDriver.get of <selenium.webdriver.chrome.webdriver.WebDriver (session=\"96652a1495abbf457f6fcb9b3a51840b\")>>\n",
      "<bound method WebDriver.get of <selenium.webdriver.chrome.webdriver.WebDriver (session=\"456068a4ba3952ab62cdc110f02fa969\")>>\n",
      "<bound method WebDriver.get of <selenium.webdriver.chrome.webdriver.WebDriver (session=\"12b9843d39dfd75f15282beeb54d044a\")>>\n",
      "<bound method WebDriver.get of <selenium.webdriver.chrome.webdriver.WebDriver (session=\"51a6eb5ed6b6b86b8a09b8c43d1ee49f\")>>\n",
      "<bound method WebDriver.get of <selenium.webdriver.chrome.webdriver.WebDriver (session=\"cc5bc750377a86ad062eecb3e4ac6b88\")>>\n",
      "<bound method WebDriver.get of <selenium.webdriver.chrome.webdriver.WebDriver (session=\"8cc8c2a356a4cf475459f2cc44804962\")>>\n",
      "<bound method WebDriver.get of <selenium.webdriver.chrome.webdriver.WebDriver (session=\"a05379998034cd64a10864c5f6bdc3d1\")>>\n",
      "<bound method WebDriver.get of <selenium.webdriver.chrome.webdriver.WebDriver (session=\"7c9429ba0a9917a12e60d838cc927f84\")>>\n",
      "<bound method WebDriver.get of <selenium.webdriver.chrome.webdriver.WebDriver (session=\"df10c8164529a682375ff3e318cfa31a\")>>\n",
      "<bound method WebDriver.get of <selenium.webdriver.chrome.webdriver.WebDriver (session=\"9a51bd52a8a3058be35faf1903022972\")>>\n",
      "<bound method WebDriver.get of <selenium.webdriver.chrome.webdriver.WebDriver (session=\"782836482fc9d3791fb8d2b0152f094b\")>>\n"
     ]
    },
    {
     "name": "stdout",
     "output_type": "stream",
     "text": [
      "<bound method WebDriver.get of <selenium.webdriver.chrome.webdriver.WebDriver (session=\"9b3cc4acf5ca971f2550839673e8c8d4\")>>\n",
      "<bound method WebDriver.get of <selenium.webdriver.chrome.webdriver.WebDriver (session=\"29a7f7de4ed137d3c4e78f977875f8a1\")>>\n",
      "<bound method WebDriver.get of <selenium.webdriver.chrome.webdriver.WebDriver (session=\"8175717b98610c82fbd8ff4248a0d204\")>>\n",
      "<bound method WebDriver.get of <selenium.webdriver.chrome.webdriver.WebDriver (session=\"1e193280ab757b70f52a0b8760c3c2d8\")>>\n",
      "<bound method WebDriver.get of <selenium.webdriver.chrome.webdriver.WebDriver (session=\"6e8ddfebf443fc1f9cf29fcf27dc785e\")>>\n",
      "<bound method WebDriver.get of <selenium.webdriver.chrome.webdriver.WebDriver (session=\"198290fd3a7360a9c6acfd4678516b0f\")>>\n",
      "<bound method WebDriver.get of <selenium.webdriver.chrome.webdriver.WebDriver (session=\"48badfc6652133bd2d3d8e7d522bb617\")>>\n",
      "<bound method WebDriver.get of <selenium.webdriver.chrome.webdriver.WebDriver (session=\"af9d90470c5bcf08ad2506d433e5b29e\")>>\n",
      "<bound method WebDriver.get of <selenium.webdriver.chrome.webdriver.WebDriver (session=\"231c6fac7142c257034c0c330797c551\")>>\n",
      "<bound method WebDriver.get of <selenium.webdriver.chrome.webdriver.WebDriver (session=\"a8c4689725c722a7a46f2310889e536e\")>>\n",
      "<bound method WebDriver.get of <selenium.webdriver.chrome.webdriver.WebDriver (session=\"a278963fa47ee9098bea105060e418ae\")>>\n",
      "<bound method WebDriver.get of <selenium.webdriver.chrome.webdriver.WebDriver (session=\"95a25585cd74f16f93657a43965d31c6\")>>\n",
      "<bound method WebDriver.get of <selenium.webdriver.chrome.webdriver.WebDriver (session=\"470741656f40b7682e3b954d06ff3d30\")>>\n",
      "<bound method WebDriver.get of <selenium.webdriver.chrome.webdriver.WebDriver (session=\"83f73cf064731f61da7982f6b0a8407c\")>>\n",
      "<bound method WebDriver.get of <selenium.webdriver.chrome.webdriver.WebDriver (session=\"7465eb4e944184f6110cc25851285755\")>>\n",
      "<bound method WebDriver.get of <selenium.webdriver.chrome.webdriver.WebDriver (session=\"ee1d7e5132125d56d845d2e8c978646e\")>>\n",
      "<bound method WebDriver.get of <selenium.webdriver.chrome.webdriver.WebDriver (session=\"d8194c1c3b394520c040e1106d394823\")>>\n",
      "<bound method WebDriver.get of <selenium.webdriver.chrome.webdriver.WebDriver (session=\"ec5d501c3a674225ad9c24a1566baadc\")>>\n",
      "<bound method WebDriver.get of <selenium.webdriver.chrome.webdriver.WebDriver (session=\"c25dd132c1597db3e952a8ae5e0b1bd4\")>>\n",
      "<bound method WebDriver.get of <selenium.webdriver.chrome.webdriver.WebDriver (session=\"f374a4a44f6cb82be9d299fca49e624c\")>>\n",
      "<bound method WebDriver.get of <selenium.webdriver.chrome.webdriver.WebDriver (session=\"ad956b98582bf4748648fe76dbe64f2f\")>>\n",
      "<bound method WebDriver.get of <selenium.webdriver.chrome.webdriver.WebDriver (session=\"813e100382ea3c829320215d1bba507d\")>>\n",
      "<bound method WebDriver.get of <selenium.webdriver.chrome.webdriver.WebDriver (session=\"240f3d5971c18e6692ec5d9c65e6b092\")>>\n",
      "<bound method WebDriver.get of <selenium.webdriver.chrome.webdriver.WebDriver (session=\"6fe3c4b945fc5eeec2abdc72a91a3e49\")>>\n",
      "<bound method WebDriver.get of <selenium.webdriver.chrome.webdriver.WebDriver (session=\"64aa3b9ef0fa31761f82e5753f5804b0\")>>\n",
      "<bound method WebDriver.get of <selenium.webdriver.chrome.webdriver.WebDriver (session=\"c25176a480bbbe24042e652402d8b56f\")>>\n",
      "<bound method WebDriver.get of <selenium.webdriver.chrome.webdriver.WebDriver (session=\"abd7ea3121378c0c5db696b453243522\")>>\n",
      "<bound method WebDriver.get of <selenium.webdriver.chrome.webdriver.WebDriver (session=\"c18a2cb56e8eaabee42f595d9d44cfe3\")>>\n",
      "<bound method WebDriver.get of <selenium.webdriver.chrome.webdriver.WebDriver (session=\"1cbe6407f2336e0361b56e57d5970060\")>>\n",
      "<bound method WebDriver.get of <selenium.webdriver.chrome.webdriver.WebDriver (session=\"2e19c3b3bdc51cfebe661af33632392e\")>>\n",
      "<bound method WebDriver.get of <selenium.webdriver.chrome.webdriver.WebDriver (session=\"c440486528bb320e47bd4aee520f58f1\")>>\n",
      "<bound method WebDriver.get of <selenium.webdriver.chrome.webdriver.WebDriver (session=\"784dc4269a2a1a7310afd3c5344857bd\")>>\n",
      "<bound method WebDriver.get of <selenium.webdriver.chrome.webdriver.WebDriver (session=\"9185c7937fa636d12f6dbcfe2c49bba3\")>>\n",
      "<bound method WebDriver.get of <selenium.webdriver.chrome.webdriver.WebDriver (session=\"2a72a04d7f5678dbf8eb543a1f371cf8\")>>\n",
      "<bound method WebDriver.get of <selenium.webdriver.chrome.webdriver.WebDriver (session=\"7e29fed20e05fe72ad5f61bf24b34afd\")>>\n",
      "<bound method WebDriver.get of <selenium.webdriver.chrome.webdriver.WebDriver (session=\"ddefd92e6a03046c01abe9938d9c98e1\")>>\n",
      "<bound method WebDriver.get of <selenium.webdriver.chrome.webdriver.WebDriver (session=\"abe8981e5a76800806ff06b76e36b9de\")>>\n",
      "<bound method WebDriver.get of <selenium.webdriver.chrome.webdriver.WebDriver (session=\"0591e55b7e9bde1f8d0717bfd3f908f9\")>>\n",
      "<bound method WebDriver.get of <selenium.webdriver.chrome.webdriver.WebDriver (session=\"051e10def4ed384f6f78fe6e1c49ccd7\")>>\n",
      "<bound method WebDriver.get of <selenium.webdriver.chrome.webdriver.WebDriver (session=\"8f5e6a08bda72191b6f139be525a2727\")>>\n",
      "<bound method WebDriver.get of <selenium.webdriver.chrome.webdriver.WebDriver (session=\"64e6a59a3aa123e34586dce48b8b3f07\")>>\n",
      "<bound method WebDriver.get of <selenium.webdriver.chrome.webdriver.WebDriver (session=\"a3b83f685a8e5adca764690cd07e87a9\")>>\n",
      "<bound method WebDriver.get of <selenium.webdriver.chrome.webdriver.WebDriver (session=\"6f940e95f09a63ebc2b26c06935c23f7\")>>\n",
      "<bound method WebDriver.get of <selenium.webdriver.chrome.webdriver.WebDriver (session=\"f6bbd4158fce7a0dbb96f3567d2f1f3f\")>>\n",
      "<bound method WebDriver.get of <selenium.webdriver.chrome.webdriver.WebDriver (session=\"f5d452fcb68de1cfe1ce8c0efb0a9f8f\")>>\n",
      "<bound method WebDriver.get of <selenium.webdriver.chrome.webdriver.WebDriver (session=\"1078d07e74efad6996514c53794a98c6\")>>\n",
      "<bound method WebDriver.get of <selenium.webdriver.chrome.webdriver.WebDriver (session=\"6886106f295ebda39860e779c1de2ef6\")>>\n",
      "<bound method WebDriver.get of <selenium.webdriver.chrome.webdriver.WebDriver (session=\"4cc53fd1e132e50660112e30c9a5a6bb\")>>\n",
      "<bound method WebDriver.get of <selenium.webdriver.chrome.webdriver.WebDriver (session=\"ca64801c6d3a3c3d1ed12c58780f66fa\")>>\n",
      "<bound method WebDriver.get of <selenium.webdriver.chrome.webdriver.WebDriver (session=\"6f7313251be520ac68c7988353ca8c51\")>>\n",
      "<bound method WebDriver.get of <selenium.webdriver.chrome.webdriver.WebDriver (session=\"64ab4b970bd47e518631f88f005950ad\")>>\n",
      "<bound method WebDriver.get of <selenium.webdriver.chrome.webdriver.WebDriver (session=\"cadf1331b879c240556598d5cd8646f9\")>>\n",
      "<bound method WebDriver.get of <selenium.webdriver.chrome.webdriver.WebDriver (session=\"84c40a01bbc40550aeed3f85bfa9da0c\")>>\n",
      "<bound method WebDriver.get of <selenium.webdriver.chrome.webdriver.WebDriver (session=\"0fa8d38a6a5244c1cd83f4849f29f5c9\")>>\n",
      "<bound method WebDriver.get of <selenium.webdriver.chrome.webdriver.WebDriver (session=\"57cdfb681ba5f30100f517db60ea1c7f\")>>\n",
      "<bound method WebDriver.get of <selenium.webdriver.chrome.webdriver.WebDriver (session=\"427ccea2807b197e7141071a25f05df8\")>>\n",
      "<bound method WebDriver.get of <selenium.webdriver.chrome.webdriver.WebDriver (session=\"37f18871bbba1e7b2185a7c62ecd0cbe\")>>\n",
      "<bound method WebDriver.get of <selenium.webdriver.chrome.webdriver.WebDriver (session=\"3d35761f8b2d90668cd673fedaffc065\")>>\n",
      "<bound method WebDriver.get of <selenium.webdriver.chrome.webdriver.WebDriver (session=\"907bf3028538e23c033c0aea9d7cd960\")>>\n",
      "<bound method WebDriver.get of <selenium.webdriver.chrome.webdriver.WebDriver (session=\"ae9a36774ab24055fcae0d72833a13ed\")>>\n",
      "<bound method WebDriver.get of <selenium.webdriver.chrome.webdriver.WebDriver (session=\"b98688072df1d3c805c6c09e9d09d8a0\")>>\n",
      "<bound method WebDriver.get of <selenium.webdriver.chrome.webdriver.WebDriver (session=\"2075cc66abb43f63617b56701e9df990\")>>\n",
      "<bound method WebDriver.get of <selenium.webdriver.chrome.webdriver.WebDriver (session=\"12621c7d3441cdcc8cb1bcec9dbb04bc\")>>\n",
      "<bound method WebDriver.get of <selenium.webdriver.chrome.webdriver.WebDriver (session=\"6a5f52660dd6d4625dd02fd627a0b6c9\")>>\n",
      "<bound method WebDriver.get of <selenium.webdriver.chrome.webdriver.WebDriver (session=\"4f0efb16020ca244d418f99ed3e88089\")>>\n",
      "<bound method WebDriver.get of <selenium.webdriver.chrome.webdriver.WebDriver (session=\"4015e24453d77349458cbafc157fb66c\")>>\n"
     ]
    },
    {
     "name": "stdout",
     "output_type": "stream",
     "text": [
      "<bound method WebDriver.get of <selenium.webdriver.chrome.webdriver.WebDriver (session=\"0b6710705d3eb1dd07f38e303798aa16\")>>\n",
      "<bound method WebDriver.get of <selenium.webdriver.chrome.webdriver.WebDriver (session=\"28735717dafab891f6c4284428c7dd55\")>>\n",
      "<bound method WebDriver.get of <selenium.webdriver.chrome.webdriver.WebDriver (session=\"851fe08a92a06ac46b142d8f2ce71cfd\")>>\n",
      "<bound method WebDriver.get of <selenium.webdriver.chrome.webdriver.WebDriver (session=\"e576240614221a7f35c89ce6de772284\")>>\n",
      "<bound method WebDriver.get of <selenium.webdriver.chrome.webdriver.WebDriver (session=\"ff74bf4c59c03e5c15599457d7dee71b\")>>\n",
      "<bound method WebDriver.get of <selenium.webdriver.chrome.webdriver.WebDriver (session=\"656c5a479a7381555d8bf0236d2de804\")>>\n",
      "<bound method WebDriver.get of <selenium.webdriver.chrome.webdriver.WebDriver (session=\"656c18f9c107b0dae78bf841bd71f5ee\")>>\n",
      "<bound method WebDriver.get of <selenium.webdriver.chrome.webdriver.WebDriver (session=\"afe7466b84d45a7e120773c86c038748\")>>\n",
      "<bound method WebDriver.get of <selenium.webdriver.chrome.webdriver.WebDriver (session=\"cf55a1e3c1ad5967b6d78418e607d677\")>>\n",
      "<bound method WebDriver.get of <selenium.webdriver.chrome.webdriver.WebDriver (session=\"edb4a43592f2391f7a899dd7f193412b\")>>\n",
      "<bound method WebDriver.get of <selenium.webdriver.chrome.webdriver.WebDriver (session=\"3467a57a369cd41486db56cebfd52a53\")>>\n",
      "<bound method WebDriver.get of <selenium.webdriver.chrome.webdriver.WebDriver (session=\"bba5f0a1d450b27ccaba20cd8626ba80\")>>\n",
      "<bound method WebDriver.get of <selenium.webdriver.chrome.webdriver.WebDriver (session=\"c8e6d271a0d4d71b06203cb18c7d9912\")>>\n",
      "<bound method WebDriver.get of <selenium.webdriver.chrome.webdriver.WebDriver (session=\"600fd66e9d50948ea186d3bf590b0e11\")>>\n",
      "<bound method WebDriver.get of <selenium.webdriver.chrome.webdriver.WebDriver (session=\"84569609ef8a352fc3d6ed8797d45237\")>>\n",
      "<bound method WebDriver.get of <selenium.webdriver.chrome.webdriver.WebDriver (session=\"788faca97f072841dacaaa2e65cdacb5\")>>\n",
      "<bound method WebDriver.get of <selenium.webdriver.chrome.webdriver.WebDriver (session=\"54473bda1b81822f844494c7f8004b7c\")>>\n",
      "<bound method WebDriver.get of <selenium.webdriver.chrome.webdriver.WebDriver (session=\"ac1994c15c511d19c24320c7caa95224\")>>\n",
      "<bound method WebDriver.get of <selenium.webdriver.chrome.webdriver.WebDriver (session=\"08cf0b31dc1bac0c9d407160fca38ea2\")>>\n",
      "<bound method WebDriver.get of <selenium.webdriver.chrome.webdriver.WebDriver (session=\"7d075a2a62e2eae1863145b88620fbc1\")>>\n",
      "<bound method WebDriver.get of <selenium.webdriver.chrome.webdriver.WebDriver (session=\"87c50641fffa5f60f10a313ad3078d4e\")>>\n",
      "<bound method WebDriver.get of <selenium.webdriver.chrome.webdriver.WebDriver (session=\"a8e3c7f48c2c851e4c699671f7e2cd36\")>>\n",
      "<bound method WebDriver.get of <selenium.webdriver.chrome.webdriver.WebDriver (session=\"2b6deea30e937916e3c1af0cdb9e3d49\")>>\n",
      "<bound method WebDriver.get of <selenium.webdriver.chrome.webdriver.WebDriver (session=\"fc0defbe61f34beecff7be3b0dbd68d4\")>>\n",
      "<bound method WebDriver.get of <selenium.webdriver.chrome.webdriver.WebDriver (session=\"71576690b65db8ea6f070b295ff2f0ba\")>>\n",
      "<bound method WebDriver.get of <selenium.webdriver.chrome.webdriver.WebDriver (session=\"70a91eeb834cba1a7c4503de5b8cf49a\")>>\n",
      "<bound method WebDriver.get of <selenium.webdriver.chrome.webdriver.WebDriver (session=\"a98989ad0ac6a7df3bed33bae9846268\")>>\n",
      "<bound method WebDriver.get of <selenium.webdriver.chrome.webdriver.WebDriver (session=\"832fa1e3f5c57802ad6cf16b91777c8d\")>>\n",
      "<bound method WebDriver.get of <selenium.webdriver.chrome.webdriver.WebDriver (session=\"6210dd3363d6461bdb29310e3d1103f1\")>>\n",
      "<bound method WebDriver.get of <selenium.webdriver.chrome.webdriver.WebDriver (session=\"2ee99dfcf902448e4e00281997bc5043\")>>\n",
      "<bound method WebDriver.get of <selenium.webdriver.chrome.webdriver.WebDriver (session=\"4a7040317b45a50f96a0b9c54860c608\")>>\n",
      "<bound method WebDriver.get of <selenium.webdriver.chrome.webdriver.WebDriver (session=\"bdcc70f934eabf3e03b4740712efe499\")>>\n",
      "<bound method WebDriver.get of <selenium.webdriver.chrome.webdriver.WebDriver (session=\"40f0113d620a4a463727c4072313b37d\")>>\n",
      "<bound method WebDriver.get of <selenium.webdriver.chrome.webdriver.WebDriver (session=\"43723f21a0f24acfb675fd215a4b2d77\")>>\n",
      "<bound method WebDriver.get of <selenium.webdriver.chrome.webdriver.WebDriver (session=\"6335457a25225f9d6a843d3f7307bc70\")>>\n",
      "<bound method WebDriver.get of <selenium.webdriver.chrome.webdriver.WebDriver (session=\"ee3aa1d9e93735e5b2ee9bff496c11dd\")>>\n",
      "<bound method WebDriver.get of <selenium.webdriver.chrome.webdriver.WebDriver (session=\"5291889b3b14b8e5da9ab071b952d413\")>>\n",
      "<bound method WebDriver.get of <selenium.webdriver.chrome.webdriver.WebDriver (session=\"82c902723040963734995e62865ac843\")>>\n",
      "<bound method WebDriver.get of <selenium.webdriver.chrome.webdriver.WebDriver (session=\"fc634f1659216fae48a9b6e872b76e71\")>>\n",
      "<bound method WebDriver.get of <selenium.webdriver.chrome.webdriver.WebDriver (session=\"c02afd9faaa99c9b3fde67d8ca50a11f\")>>\n",
      "<bound method WebDriver.get of <selenium.webdriver.chrome.webdriver.WebDriver (session=\"8b7194d2579fd9a78e5a02b0d9d61cbf\")>>\n",
      "<bound method WebDriver.get of <selenium.webdriver.chrome.webdriver.WebDriver (session=\"a6aa938083fec9cc843d474a19fcc091\")>>\n",
      "<bound method WebDriver.get of <selenium.webdriver.chrome.webdriver.WebDriver (session=\"7dd6bcf1b5e626ce3cba201fbe0b775b\")>>\n",
      "<bound method WebDriver.get of <selenium.webdriver.chrome.webdriver.WebDriver (session=\"533578afdef256764f9c271faf574c1e\")>>\n",
      "<bound method WebDriver.get of <selenium.webdriver.chrome.webdriver.WebDriver (session=\"f4ee132ea036ce937cd6bec50021e1f3\")>>\n",
      "<bound method WebDriver.get of <selenium.webdriver.chrome.webdriver.WebDriver (session=\"78503f2fb7fdb2bbc48625ac01ca2cde\")>>\n",
      "<bound method WebDriver.get of <selenium.webdriver.chrome.webdriver.WebDriver (session=\"cd3ee38e02c1eacbb8fa760c97cf3b90\")>>\n",
      "<bound method WebDriver.get of <selenium.webdriver.chrome.webdriver.WebDriver (session=\"b3746475eee132169c65fb159de9df9b\")>>\n",
      "<bound method WebDriver.get of <selenium.webdriver.chrome.webdriver.WebDriver (session=\"74de85ef820c3f8c4a57bdddc6fec7f9\")>>\n",
      "<bound method WebDriver.get of <selenium.webdriver.chrome.webdriver.WebDriver (session=\"94cb029ca5ecb405de55821d9f638d92\")>>\n",
      "<bound method WebDriver.get of <selenium.webdriver.chrome.webdriver.WebDriver (session=\"404308d28b65557c86e88e0f8b01e9b0\")>>\n",
      "<bound method WebDriver.get of <selenium.webdriver.chrome.webdriver.WebDriver (session=\"0028f8aa6ae00b7dd2e8a305ebdd9a20\")>>\n",
      "<bound method WebDriver.get of <selenium.webdriver.chrome.webdriver.WebDriver (session=\"e02c1b76bc8843fec60e88b8088c7236\")>>\n",
      "<bound method WebDriver.get of <selenium.webdriver.chrome.webdriver.WebDriver (session=\"7d6d8ce001c5b8c07add5cba854eaa60\")>>\n",
      "<bound method WebDriver.get of <selenium.webdriver.chrome.webdriver.WebDriver (session=\"560ab6974572dcdc9d8978e8ac94a3e1\")>>\n",
      "<bound method WebDriver.get of <selenium.webdriver.chrome.webdriver.WebDriver (session=\"72356fa011b00b4af6f6d5e17aba5c22\")>>\n",
      "<bound method WebDriver.get of <selenium.webdriver.chrome.webdriver.WebDriver (session=\"e7114fdde39f9d26b8b3073f9b801dbd\")>>\n",
      "<bound method WebDriver.get of <selenium.webdriver.chrome.webdriver.WebDriver (session=\"040f2dff10a6ada1a996b3d25ea8caf8\")>>\n",
      "<bound method WebDriver.get of <selenium.webdriver.chrome.webdriver.WebDriver (session=\"cd69da501235d2edfdcee9d1e5e709c8\")>>\n",
      "<bound method WebDriver.get of <selenium.webdriver.chrome.webdriver.WebDriver (session=\"1097e64ddc14595e01a3a20d34e68327\")>>\n",
      "<bound method WebDriver.get of <selenium.webdriver.chrome.webdriver.WebDriver (session=\"9197cb449363a5357be1d38eafd0cdae\")>>\n",
      "<bound method WebDriver.get of <selenium.webdriver.chrome.webdriver.WebDriver (session=\"f71b78971438b84aa162887bc97b6891\")>>\n",
      "<bound method WebDriver.get of <selenium.webdriver.chrome.webdriver.WebDriver (session=\"1b6766819bd37dc478e2b548f6cef1ff\")>>\n",
      "<bound method WebDriver.get of <selenium.webdriver.chrome.webdriver.WebDriver (session=\"1ed96d156399029e5583a785f71281b5\")>>\n",
      "<bound method WebDriver.get of <selenium.webdriver.chrome.webdriver.WebDriver (session=\"ca6c801d97b56f6be3681fbbc765aab1\")>>\n",
      "<bound method WebDriver.get of <selenium.webdriver.chrome.webdriver.WebDriver (session=\"8daf30d73c1268364378fa6e337712c3\")>>\n"
     ]
    },
    {
     "name": "stdout",
     "output_type": "stream",
     "text": [
      "<bound method WebDriver.get of <selenium.webdriver.chrome.webdriver.WebDriver (session=\"ae6f7500e536dcb1224dd089aa65dd6e\")>>\n",
      "<bound method WebDriver.get of <selenium.webdriver.chrome.webdriver.WebDriver (session=\"1402bc956a456ea9d1874bfd1cd5515d\")>>\n",
      "<bound method WebDriver.get of <selenium.webdriver.chrome.webdriver.WebDriver (session=\"7c530f05687251633cb1eef833131e4d\")>>\n",
      "<bound method WebDriver.get of <selenium.webdriver.chrome.webdriver.WebDriver (session=\"d0e60eeaa02e5df4d784a3254a9ff9f7\")>>\n",
      "<bound method WebDriver.get of <selenium.webdriver.chrome.webdriver.WebDriver (session=\"c48de1fb5c0ef441279a16689836b9d2\")>>\n",
      "<bound method WebDriver.get of <selenium.webdriver.chrome.webdriver.WebDriver (session=\"6db85e9452144d5c2caa65e99f41ae2e\")>>\n",
      "<bound method WebDriver.get of <selenium.webdriver.chrome.webdriver.WebDriver (session=\"03e379a45515cabc99f1a9fcb7f47f55\")>>\n",
      "<bound method WebDriver.get of <selenium.webdriver.chrome.webdriver.WebDriver (session=\"cc05cd94332c586831cea6036b304cd8\")>>\n",
      "<bound method WebDriver.get of <selenium.webdriver.chrome.webdriver.WebDriver (session=\"f65a1ff29f3001f26223ce30034883c0\")>>\n",
      "<bound method WebDriver.get of <selenium.webdriver.chrome.webdriver.WebDriver (session=\"d5a49be2a30c52af332b5374a6491a55\")>>\n",
      "<bound method WebDriver.get of <selenium.webdriver.chrome.webdriver.WebDriver (session=\"904a3c6e049468915e96c4e6f48ef4c9\")>>\n",
      "<bound method WebDriver.get of <selenium.webdriver.chrome.webdriver.WebDriver (session=\"9fe392f3d253c533de412e577482d03c\")>>\n",
      "<bound method WebDriver.get of <selenium.webdriver.chrome.webdriver.WebDriver (session=\"94e64958c1425047dd7cc6f1e23f0d52\")>>\n",
      "<bound method WebDriver.get of <selenium.webdriver.chrome.webdriver.WebDriver (session=\"6a9a77b660de49a95d87dbdc2c3674d2\")>>\n",
      "<bound method WebDriver.get of <selenium.webdriver.chrome.webdriver.WebDriver (session=\"535192e5b81d9fd365ff5a2393770b3b\")>>\n",
      "<bound method WebDriver.get of <selenium.webdriver.chrome.webdriver.WebDriver (session=\"33ee2b4cdf67f11cde766e2f4c774dd7\")>>\n",
      "<bound method WebDriver.get of <selenium.webdriver.chrome.webdriver.WebDriver (session=\"b312baaea91be0949876c4b38a6b4209\")>>\n",
      "<bound method WebDriver.get of <selenium.webdriver.chrome.webdriver.WebDriver (session=\"d1516b40b828991f0a682f94ab2fc5bd\")>>\n",
      "<bound method WebDriver.get of <selenium.webdriver.chrome.webdriver.WebDriver (session=\"bab68c2f0f01be47ea44a065caca8995\")>>\n",
      "<bound method WebDriver.get of <selenium.webdriver.chrome.webdriver.WebDriver (session=\"68620c074174a883f9cc3d5834325ce3\")>>\n",
      "<bound method WebDriver.get of <selenium.webdriver.chrome.webdriver.WebDriver (session=\"6333297c0487fcdda5a1b93d7f5071e3\")>>\n",
      "<bound method WebDriver.get of <selenium.webdriver.chrome.webdriver.WebDriver (session=\"c9544164107d74786455d7942190130d\")>>\n",
      "<bound method WebDriver.get of <selenium.webdriver.chrome.webdriver.WebDriver (session=\"fc9ec4981588de2f6c5d5523f964256c\")>>\n",
      "<bound method WebDriver.get of <selenium.webdriver.chrome.webdriver.WebDriver (session=\"3f0633d273be1f1541ea7213945f24f0\")>>\n",
      "<bound method WebDriver.get of <selenium.webdriver.chrome.webdriver.WebDriver (session=\"5424213ad5e981dc33bf07d1f5193e5f\")>>\n",
      "<bound method WebDriver.get of <selenium.webdriver.chrome.webdriver.WebDriver (session=\"c0ecc95e3a4136346093679d6d1d807f\")>>\n",
      "<bound method WebDriver.get of <selenium.webdriver.chrome.webdriver.WebDriver (session=\"41df75403d034238cd6e2e727a2f5aa1\")>>\n",
      "<bound method WebDriver.get of <selenium.webdriver.chrome.webdriver.WebDriver (session=\"9271e6c128a8c8254037cbcde1bcd744\")>>\n",
      "<bound method WebDriver.get of <selenium.webdriver.chrome.webdriver.WebDriver (session=\"f4f1ed0d73aeb1684e5ff15394dc1fd8\")>>\n",
      "<bound method WebDriver.get of <selenium.webdriver.chrome.webdriver.WebDriver (session=\"85eea9a8f85a6a9c2476bae54a85fcc2\")>>\n",
      "<bound method WebDriver.get of <selenium.webdriver.chrome.webdriver.WebDriver (session=\"e68f7bf4ee5ae34eb0b5cbd702b6f885\")>>\n",
      "<bound method WebDriver.get of <selenium.webdriver.chrome.webdriver.WebDriver (session=\"7edf5341a9f119e2c81599ae6a7b9ec5\")>>\n",
      "<bound method WebDriver.get of <selenium.webdriver.chrome.webdriver.WebDriver (session=\"3c7ce3a7f77eb07633663d27f370af05\")>>\n",
      "<bound method WebDriver.get of <selenium.webdriver.chrome.webdriver.WebDriver (session=\"39c0044bf24ca813e8b33f312c6e7d9a\")>>\n",
      "<bound method WebDriver.get of <selenium.webdriver.chrome.webdriver.WebDriver (session=\"c5e568de55c3f15837c0c9d68c0b3164\")>>\n",
      "<bound method WebDriver.get of <selenium.webdriver.chrome.webdriver.WebDriver (session=\"4522a5cc10d43d80c2f2112d66322cc7\")>>\n",
      "<bound method WebDriver.get of <selenium.webdriver.chrome.webdriver.WebDriver (session=\"3c3a60326641b7b5a71a19d3ec2c569f\")>>\n",
      "<bound method WebDriver.get of <selenium.webdriver.chrome.webdriver.WebDriver (session=\"063fbf237fc0a195f193f5be40d63a3b\")>>\n",
      "<bound method WebDriver.get of <selenium.webdriver.chrome.webdriver.WebDriver (session=\"06021dcd333acbacf5f991ec1b2377e1\")>>\n",
      "<bound method WebDriver.get of <selenium.webdriver.chrome.webdriver.WebDriver (session=\"45938211ebd264336283091a2ceadce4\")>>\n",
      "<bound method WebDriver.get of <selenium.webdriver.chrome.webdriver.WebDriver (session=\"e32d67f92618c1a2385552f9ecfd152b\")>>\n",
      "<bound method WebDriver.get of <selenium.webdriver.chrome.webdriver.WebDriver (session=\"e7e961f5c9c24270b319131263690f67\")>>\n",
      "<bound method WebDriver.get of <selenium.webdriver.chrome.webdriver.WebDriver (session=\"a462a259d93567600741543d75b724d8\")>>\n",
      "<bound method WebDriver.get of <selenium.webdriver.chrome.webdriver.WebDriver (session=\"16ac51409a27640641c2a02f91a218af\")>>\n",
      "<bound method WebDriver.get of <selenium.webdriver.chrome.webdriver.WebDriver (session=\"14af3fa92443b743b0a95990e508631e\")>>\n",
      "<bound method WebDriver.get of <selenium.webdriver.chrome.webdriver.WebDriver (session=\"9bee8d6ba7c8f41c5b68ef5b6fa1219e\")>>\n",
      "<bound method WebDriver.get of <selenium.webdriver.chrome.webdriver.WebDriver (session=\"b6a5a92a5b3a17a624c9dbc418b53d38\")>>\n",
      "<bound method WebDriver.get of <selenium.webdriver.chrome.webdriver.WebDriver (session=\"2330fb3fdd1408835df8fcccb37871a1\")>>\n",
      "<bound method WebDriver.get of <selenium.webdriver.chrome.webdriver.WebDriver (session=\"6daf246d01efb2b5671478d771b98ab7\")>>\n",
      "<bound method WebDriver.get of <selenium.webdriver.chrome.webdriver.WebDriver (session=\"8ebcc5ab317a4ea90ab6ef2f625a5c62\")>>\n",
      "<bound method WebDriver.get of <selenium.webdriver.chrome.webdriver.WebDriver (session=\"0f73002c3cb3d838dab491d388547f65\")>>\n",
      "<bound method WebDriver.get of <selenium.webdriver.chrome.webdriver.WebDriver (session=\"651299b5d06afd7f80b2004acdb55aba\")>>\n",
      "<bound method WebDriver.get of <selenium.webdriver.chrome.webdriver.WebDriver (session=\"867fe36c9ef016d87fbd08a4a007470d\")>>\n",
      "<bound method WebDriver.get of <selenium.webdriver.chrome.webdriver.WebDriver (session=\"a9f17c25347a154a1c042745b88adf96\")>>\n",
      "<bound method WebDriver.get of <selenium.webdriver.chrome.webdriver.WebDriver (session=\"9804aac51a8c1149504290b1429fa231\")>>\n",
      "<bound method WebDriver.get of <selenium.webdriver.chrome.webdriver.WebDriver (session=\"9dfe1bdb2d47d595ad7e88919769c925\")>>\n",
      "<bound method WebDriver.get of <selenium.webdriver.chrome.webdriver.WebDriver (session=\"4edcd77e1b2abea55d205f29e8393fae\")>>\n",
      "<bound method WebDriver.get of <selenium.webdriver.chrome.webdriver.WebDriver (session=\"d01194b30cbc40671781c23f53d7a886\")>>\n",
      "<bound method WebDriver.get of <selenium.webdriver.chrome.webdriver.WebDriver (session=\"827d63d29311706897f6070e894d9749\")>>\n",
      "<bound method WebDriver.get of <selenium.webdriver.chrome.webdriver.WebDriver (session=\"e7864cd1a9ec79ad22956c8e533bda7d\")>>\n",
      "<bound method WebDriver.get of <selenium.webdriver.chrome.webdriver.WebDriver (session=\"e3bb037adb4221012d71f86fb769fcea\")>>\n",
      "<bound method WebDriver.get of <selenium.webdriver.chrome.webdriver.WebDriver (session=\"328c4c0b5de9a1e23bd154e21c4473f8\")>>\n",
      "<bound method WebDriver.get of <selenium.webdriver.chrome.webdriver.WebDriver (session=\"119eea3db8784b4d2536d7bf71955e5c\")>>\n",
      "<bound method WebDriver.get of <selenium.webdriver.chrome.webdriver.WebDriver (session=\"b8a4404db27c6111a9430ef02d3e645b\")>>\n",
      "<bound method WebDriver.get of <selenium.webdriver.chrome.webdriver.WebDriver (session=\"94f91d706ee6004d21424c1f4aceec0f\")>>\n",
      "<bound method WebDriver.get of <selenium.webdriver.chrome.webdriver.WebDriver (session=\"4887d630b0de4e485335b94b3c687ad4\")>>\n"
     ]
    },
    {
     "name": "stdout",
     "output_type": "stream",
     "text": [
      "<bound method WebDriver.get of <selenium.webdriver.chrome.webdriver.WebDriver (session=\"42c9b9ad899e305b6cd13119bbd5e50e\")>>\n",
      "<bound method WebDriver.get of <selenium.webdriver.chrome.webdriver.WebDriver (session=\"8090c1b962214b8f8c2867038f9df3d3\")>>\n",
      "<bound method WebDriver.get of <selenium.webdriver.chrome.webdriver.WebDriver (session=\"21f1a97f60480b6b80a29df0144b6473\")>>\n",
      "<bound method WebDriver.get of <selenium.webdriver.chrome.webdriver.WebDriver (session=\"d6134194f9c00fe478bc1c5d56afb477\")>>\n",
      "<bound method WebDriver.get of <selenium.webdriver.chrome.webdriver.WebDriver (session=\"0c2ae91d7fdb763da03a4faae3a807d8\")>>\n",
      "<bound method WebDriver.get of <selenium.webdriver.chrome.webdriver.WebDriver (session=\"7132a344c802ee756bfa1bce74705473\")>>\n",
      "<bound method WebDriver.get of <selenium.webdriver.chrome.webdriver.WebDriver (session=\"f0374d60a9e8b9cfbf7fdd30592c1538\")>>\n",
      "<bound method WebDriver.get of <selenium.webdriver.chrome.webdriver.WebDriver (session=\"2cc326e2efe1a129c4e0cbfb4491a1ae\")>>\n",
      "<bound method WebDriver.get of <selenium.webdriver.chrome.webdriver.WebDriver (session=\"d366cf459d11e14178953a560f97512a\")>>\n",
      "<bound method WebDriver.get of <selenium.webdriver.chrome.webdriver.WebDriver (session=\"35a009f7d9b43351bb274ef367372748\")>>\n",
      "<bound method WebDriver.get of <selenium.webdriver.chrome.webdriver.WebDriver (session=\"9233df325322a0a2c5509b3cb3ba3172\")>>\n",
      "<bound method WebDriver.get of <selenium.webdriver.chrome.webdriver.WebDriver (session=\"2bfd5443a38556ee349c012c09d97713\")>>\n",
      "<bound method WebDriver.get of <selenium.webdriver.chrome.webdriver.WebDriver (session=\"a5ea3727ff77d3064e2a2a600040bf5a\")>>\n",
      "<bound method WebDriver.get of <selenium.webdriver.chrome.webdriver.WebDriver (session=\"f88fb50c8e5f235cda851972ab361b47\")>>\n",
      "<bound method WebDriver.get of <selenium.webdriver.chrome.webdriver.WebDriver (session=\"f71deb8e0fb1bf8db77fe9cf2bc8b0c9\")>>\n",
      "<bound method WebDriver.get of <selenium.webdriver.chrome.webdriver.WebDriver (session=\"cbde5b51f6e9f0d3f29f9fc3105d024a\")>>\n",
      "<bound method WebDriver.get of <selenium.webdriver.chrome.webdriver.WebDriver (session=\"ab2a7ec47d6cbca7969ca7c1baff0fd5\")>>\n",
      "<bound method WebDriver.get of <selenium.webdriver.chrome.webdriver.WebDriver (session=\"feb8c75385eff8e2472ba5f268fe0288\")>>\n",
      "<bound method WebDriver.get of <selenium.webdriver.chrome.webdriver.WebDriver (session=\"f31b34a4f7cf42b24f860e415005f825\")>>\n",
      "<bound method WebDriver.get of <selenium.webdriver.chrome.webdriver.WebDriver (session=\"4e21e7569e21967a7775513d54fd59f5\")>>\n",
      "<bound method WebDriver.get of <selenium.webdriver.chrome.webdriver.WebDriver (session=\"37c84b5a61139867bfda649d712a92fb\")>>\n",
      "<bound method WebDriver.get of <selenium.webdriver.chrome.webdriver.WebDriver (session=\"627a6ec1145c57bc73a812ba8d5a0cc6\")>>\n",
      "<bound method WebDriver.get of <selenium.webdriver.chrome.webdriver.WebDriver (session=\"1ca64934d710f755c86edd738fa7898a\")>>\n",
      "<bound method WebDriver.get of <selenium.webdriver.chrome.webdriver.WebDriver (session=\"ec971e05f38fd49dbe5735e482511153\")>>\n",
      "<bound method WebDriver.get of <selenium.webdriver.chrome.webdriver.WebDriver (session=\"caa794d0ec2b428d952ec17a5a98f3aa\")>>\n",
      "<bound method WebDriver.get of <selenium.webdriver.chrome.webdriver.WebDriver (session=\"c94fda220794a6950121cd3c9dfeb9cf\")>>\n",
      "<bound method WebDriver.get of <selenium.webdriver.chrome.webdriver.WebDriver (session=\"e44b1a6069a379d1394ecde800693601\")>>\n",
      "<bound method WebDriver.get of <selenium.webdriver.chrome.webdriver.WebDriver (session=\"64b61f6bf22803ee2e1c4e3237dbd42f\")>>\n",
      "<bound method WebDriver.get of <selenium.webdriver.chrome.webdriver.WebDriver (session=\"092122ef3e77ad25ecc6bc02b13a0171\")>>\n",
      "<bound method WebDriver.get of <selenium.webdriver.chrome.webdriver.WebDriver (session=\"dbb59068e1575468b0eff943cb8227c8\")>>\n",
      "<bound method WebDriver.get of <selenium.webdriver.chrome.webdriver.WebDriver (session=\"97f854f340293a536551e29bdef8fdbb\")>>\n",
      "<bound method WebDriver.get of <selenium.webdriver.chrome.webdriver.WebDriver (session=\"ffaa78d9a7b3ca5eafc8258eb7347f5f\")>>\n",
      "<bound method WebDriver.get of <selenium.webdriver.chrome.webdriver.WebDriver (session=\"689ca666b6be258dabdbcef30067903c\")>>\n",
      "<bound method WebDriver.get of <selenium.webdriver.chrome.webdriver.WebDriver (session=\"d568f88ac46b78f0cd8054eaab953dbe\")>>\n",
      "<bound method WebDriver.get of <selenium.webdriver.chrome.webdriver.WebDriver (session=\"9df79da4f7a7ebefce361b323e8c002b\")>>\n",
      "<bound method WebDriver.get of <selenium.webdriver.chrome.webdriver.WebDriver (session=\"ccd3796e86ed8ca639b6a15cfb6246e9\")>>\n",
      "<bound method WebDriver.get of <selenium.webdriver.chrome.webdriver.WebDriver (session=\"df7da9982571c49b4bd76e567c3638fe\")>>\n",
      "<bound method WebDriver.get of <selenium.webdriver.chrome.webdriver.WebDriver (session=\"0e003cf559efc8d8aca7bba6a2671ff8\")>>\n",
      "<bound method WebDriver.get of <selenium.webdriver.chrome.webdriver.WebDriver (session=\"618b257f811931ac02a8995620631a51\")>>\n",
      "<bound method WebDriver.get of <selenium.webdriver.chrome.webdriver.WebDriver (session=\"bd1dcf08c9cf86d902cac492ea1ef46e\")>>\n",
      "<bound method WebDriver.get of <selenium.webdriver.chrome.webdriver.WebDriver (session=\"856fb4b286dd50539d9565645a84aabb\")>>\n",
      "<bound method WebDriver.get of <selenium.webdriver.chrome.webdriver.WebDriver (session=\"55f7ddbd1b1ac566a474674a71df27f1\")>>\n",
      "<bound method WebDriver.get of <selenium.webdriver.chrome.webdriver.WebDriver (session=\"117ec2f80e47456ebf77bff345704a53\")>>\n",
      "<bound method WebDriver.get of <selenium.webdriver.chrome.webdriver.WebDriver (session=\"7b5c8bea8a353e820fea3c4aa274153e\")>>\n",
      "<bound method WebDriver.get of <selenium.webdriver.chrome.webdriver.WebDriver (session=\"4c7248a6ff435e45828f86a4e1b89840\")>>\n",
      "<bound method WebDriver.get of <selenium.webdriver.chrome.webdriver.WebDriver (session=\"17276c5682896ec169619c402f808306\")>>\n",
      "<bound method WebDriver.get of <selenium.webdriver.chrome.webdriver.WebDriver (session=\"02d0a3d54d4d6786a8e2093f5f604006\")>>\n",
      "<bound method WebDriver.get of <selenium.webdriver.chrome.webdriver.WebDriver (session=\"f78ab045be1986e9acca0233376ea357\")>>\n",
      "<bound method WebDriver.get of <selenium.webdriver.chrome.webdriver.WebDriver (session=\"0e16c5b63ad0a8ec278656b4c6cc8f5d\")>>\n",
      "<bound method WebDriver.get of <selenium.webdriver.chrome.webdriver.WebDriver (session=\"fd87f5e76bf58b03468da5ae50387206\")>>\n",
      "<bound method WebDriver.get of <selenium.webdriver.chrome.webdriver.WebDriver (session=\"2ab5f048762f0e8ce8f66e8509a5b989\")>>\n",
      "<bound method WebDriver.get of <selenium.webdriver.chrome.webdriver.WebDriver (session=\"460c9da8f70a1e5253e2f722b54fd230\")>>\n",
      "<bound method WebDriver.get of <selenium.webdriver.chrome.webdriver.WebDriver (session=\"6238fc167a6237dd3aa3d7b330a03c9a\")>>\n",
      "<bound method WebDriver.get of <selenium.webdriver.chrome.webdriver.WebDriver (session=\"3729b94ccd3f0c0537f55056b367ad87\")>>\n",
      "<bound method WebDriver.get of <selenium.webdriver.chrome.webdriver.WebDriver (session=\"74c906b2dc4c44b309707324be714253\")>>\n",
      "<bound method WebDriver.get of <selenium.webdriver.chrome.webdriver.WebDriver (session=\"ed80fe6b38228dcaa6b5e105d7fab37b\")>>\n",
      "<bound method WebDriver.get of <selenium.webdriver.chrome.webdriver.WebDriver (session=\"6486f656dd86077390653f1b210e8cef\")>>\n",
      "<bound method WebDriver.get of <selenium.webdriver.chrome.webdriver.WebDriver (session=\"a95f60acf9df01f508c20d0f09da91dc\")>>\n",
      "<bound method WebDriver.get of <selenium.webdriver.chrome.webdriver.WebDriver (session=\"9282017bb0928f945cd5190fb0625463\")>>\n",
      "<bound method WebDriver.get of <selenium.webdriver.chrome.webdriver.WebDriver (session=\"3da7ef0778fa71314703961e0c2813bc\")>>\n",
      "<bound method WebDriver.get of <selenium.webdriver.chrome.webdriver.WebDriver (session=\"239e466d7ef835b1e5b57c71d7979802\")>>\n",
      "<bound method WebDriver.get of <selenium.webdriver.chrome.webdriver.WebDriver (session=\"3eff2f78fa6a2d41e6686fc139be82db\")>>\n",
      "<bound method WebDriver.get of <selenium.webdriver.chrome.webdriver.WebDriver (session=\"b8b2494d9e76d14a7305703c99fd6e2e\")>>\n",
      "<bound method WebDriver.get of <selenium.webdriver.chrome.webdriver.WebDriver (session=\"a8f712e6c6f41caa6a29ff8f8055a163\")>>\n",
      "<bound method WebDriver.get of <selenium.webdriver.chrome.webdriver.WebDriver (session=\"bb800a40196fcc3673cf1ab1a80e2a54\")>>\n",
      "<bound method WebDriver.get of <selenium.webdriver.chrome.webdriver.WebDriver (session=\"0fde0f6c4240c4625019ec962daba7fd\")>>\n"
     ]
    },
    {
     "name": "stdout",
     "output_type": "stream",
     "text": [
      "<bound method WebDriver.get of <selenium.webdriver.chrome.webdriver.WebDriver (session=\"a17c87ff9d75debaade73aaed6c051f8\")>>\n",
      "<bound method WebDriver.get of <selenium.webdriver.chrome.webdriver.WebDriver (session=\"c9aed87f4ff44853a9a15aa709d22fde\")>>\n",
      "<bound method WebDriver.get of <selenium.webdriver.chrome.webdriver.WebDriver (session=\"bb2eaf379f9919b7405f908a3b2b58ee\")>>\n",
      "<bound method WebDriver.get of <selenium.webdriver.chrome.webdriver.WebDriver (session=\"9f476f4129cb38b01b22a335c59831c2\")>>\n",
      "<bound method WebDriver.get of <selenium.webdriver.chrome.webdriver.WebDriver (session=\"cc7e5a26048d1e46ec2f22f8417c42e4\")>>\n",
      "<bound method WebDriver.get of <selenium.webdriver.chrome.webdriver.WebDriver (session=\"1fc6562918c7213b27e4c2101fbbb7f6\")>>\n",
      "<bound method WebDriver.get of <selenium.webdriver.chrome.webdriver.WebDriver (session=\"5be539f11109d7d167863b7b962b7aab\")>>\n",
      "<bound method WebDriver.get of <selenium.webdriver.chrome.webdriver.WebDriver (session=\"d3187b0919ba8410638bfeb188149687\")>>\n",
      "<bound method WebDriver.get of <selenium.webdriver.chrome.webdriver.WebDriver (session=\"b1312343edc2d0c2b2c4bcf146a9882c\")>>\n",
      "<bound method WebDriver.get of <selenium.webdriver.chrome.webdriver.WebDriver (session=\"e32a66b35d767ca98fb65071db0d2850\")>>\n",
      "<bound method WebDriver.get of <selenium.webdriver.chrome.webdriver.WebDriver (session=\"1aba60355bfe24957b30f2dc055a4c4e\")>>\n",
      "<bound method WebDriver.get of <selenium.webdriver.chrome.webdriver.WebDriver (session=\"2a8c5233320eb59e40bffa0d4b4eed10\")>>\n",
      "<bound method WebDriver.get of <selenium.webdriver.chrome.webdriver.WebDriver (session=\"4bcf591dff86298a8e712920de426ad0\")>>\n",
      "<bound method WebDriver.get of <selenium.webdriver.chrome.webdriver.WebDriver (session=\"27af0835ece3c9947b3b9e77282397d5\")>>\n",
      "<bound method WebDriver.get of <selenium.webdriver.chrome.webdriver.WebDriver (session=\"691c53613c343410d0d2fd987ae1b64d\")>>\n",
      "<bound method WebDriver.get of <selenium.webdriver.chrome.webdriver.WebDriver (session=\"4289c5c2ad8930d1348e00465709d6a2\")>>\n",
      "<bound method WebDriver.get of <selenium.webdriver.chrome.webdriver.WebDriver (session=\"d8a2adbcdcda92f4e3f24819aa310fb6\")>>\n",
      "<bound method WebDriver.get of <selenium.webdriver.chrome.webdriver.WebDriver (session=\"04c2f873f9825b7933ff24cd5d235733\")>>\n",
      "<bound method WebDriver.get of <selenium.webdriver.chrome.webdriver.WebDriver (session=\"b6e6dca2d53fccaed1f2c18655a5ede1\")>>\n",
      "<bound method WebDriver.get of <selenium.webdriver.chrome.webdriver.WebDriver (session=\"372150d80091678fb20f2179e9efc1b1\")>>\n",
      "<bound method WebDriver.get of <selenium.webdriver.chrome.webdriver.WebDriver (session=\"0d4431755ec73fe78aaa1ee90b2c76e9\")>>\n",
      "<bound method WebDriver.get of <selenium.webdriver.chrome.webdriver.WebDriver (session=\"da82a99b15e469ac3f435ca904f3d480\")>>\n",
      "<bound method WebDriver.get of <selenium.webdriver.chrome.webdriver.WebDriver (session=\"2022c3755f6a3354ae04ccbd946f6f9f\")>>\n",
      "<bound method WebDriver.get of <selenium.webdriver.chrome.webdriver.WebDriver (session=\"b80592a14ae1c960797e86d4d75bd949\")>>\n",
      "<bound method WebDriver.get of <selenium.webdriver.chrome.webdriver.WebDriver (session=\"f01d17babee2d580900e81b52742a234\")>>\n",
      "<bound method WebDriver.get of <selenium.webdriver.chrome.webdriver.WebDriver (session=\"e5e5e0bc910a206d846ff0241dbea3c6\")>>\n",
      "<bound method WebDriver.get of <selenium.webdriver.chrome.webdriver.WebDriver (session=\"abdf1a023f7db767bb9726bcf25215c8\")>>\n",
      "<bound method WebDriver.get of <selenium.webdriver.chrome.webdriver.WebDriver (session=\"5abaf482408556e5d7a27b47bf208de0\")>>\n",
      "<bound method WebDriver.get of <selenium.webdriver.chrome.webdriver.WebDriver (session=\"1bdf9b83f539548d54b607af89aa7df1\")>>\n",
      "<bound method WebDriver.get of <selenium.webdriver.chrome.webdriver.WebDriver (session=\"7d8db6028f774d381756de30c275fc46\")>>\n",
      "<bound method WebDriver.get of <selenium.webdriver.chrome.webdriver.WebDriver (session=\"70989246ba3e42a3fdf233c22559c6a5\")>>\n",
      "<bound method WebDriver.get of <selenium.webdriver.chrome.webdriver.WebDriver (session=\"29af63c6d63b1b8b202436d009bb38f2\")>>\n",
      "<bound method WebDriver.get of <selenium.webdriver.chrome.webdriver.WebDriver (session=\"08e17f58c7f16fc6bb33ff5fbb0c5e3e\")>>\n",
      "<bound method WebDriver.get of <selenium.webdriver.chrome.webdriver.WebDriver (session=\"10258aad78f191bdfbbb7277a1724930\")>>\n",
      "<bound method WebDriver.get of <selenium.webdriver.chrome.webdriver.WebDriver (session=\"ffbdeb0fe7314b194ea9beee2803c900\")>>\n",
      "<bound method WebDriver.get of <selenium.webdriver.chrome.webdriver.WebDriver (session=\"9e63f7816db799986cd728ac3b830c31\")>>\n",
      "<bound method WebDriver.get of <selenium.webdriver.chrome.webdriver.WebDriver (session=\"461991ce173af12819d23f08be04ffe2\")>>\n",
      "<bound method WebDriver.get of <selenium.webdriver.chrome.webdriver.WebDriver (session=\"7f907b72cbc6ac69839ddc166a5d8a9f\")>>\n",
      "<bound method WebDriver.get of <selenium.webdriver.chrome.webdriver.WebDriver (session=\"873c63f7ea2629b14f48ba6b93f4abc9\")>>\n",
      "<bound method WebDriver.get of <selenium.webdriver.chrome.webdriver.WebDriver (session=\"0d6a0c3472c64be0015f44d75e28a045\")>>\n",
      "<bound method WebDriver.get of <selenium.webdriver.chrome.webdriver.WebDriver (session=\"e56f24fbeb41d5b2b3920eda7c697453\")>>\n",
      "<bound method WebDriver.get of <selenium.webdriver.chrome.webdriver.WebDriver (session=\"7bc79102b102594a1609636d912c17cb\")>>\n",
      "<bound method WebDriver.get of <selenium.webdriver.chrome.webdriver.WebDriver (session=\"c8a49213e17396022ecf24eb9ab0bc13\")>>\n",
      "<bound method WebDriver.get of <selenium.webdriver.chrome.webdriver.WebDriver (session=\"ec20fb7c4bc6c126ddefd37cc450bff6\")>>\n",
      "<bound method WebDriver.get of <selenium.webdriver.chrome.webdriver.WebDriver (session=\"8db2aee941f26887491218e79d494af3\")>>\n",
      "<bound method WebDriver.get of <selenium.webdriver.chrome.webdriver.WebDriver (session=\"b21bef1285ba2a4a297262e3e40f9c43\")>>\n",
      "<bound method WebDriver.get of <selenium.webdriver.chrome.webdriver.WebDriver (session=\"634d3e5a8f884a5c794d40457c4d91ad\")>>\n",
      "<bound method WebDriver.get of <selenium.webdriver.chrome.webdriver.WebDriver (session=\"abbd23bfddbb9d1b6666984a55e06a74\")>>\n",
      "<bound method WebDriver.get of <selenium.webdriver.chrome.webdriver.WebDriver (session=\"18f6d1316f60c3744c38561d81ff5d14\")>>\n",
      "<bound method WebDriver.get of <selenium.webdriver.chrome.webdriver.WebDriver (session=\"4eb11f67644173e21d3e7b527d91480d\")>>\n",
      "<bound method WebDriver.get of <selenium.webdriver.chrome.webdriver.WebDriver (session=\"1a7b03a306b253c341eb4976ab712871\")>>\n",
      "<bound method WebDriver.get of <selenium.webdriver.chrome.webdriver.WebDriver (session=\"3ea8635b79075b218ae32d8c04400a74\")>>\n",
      "<bound method WebDriver.get of <selenium.webdriver.chrome.webdriver.WebDriver (session=\"b55c77d662da18565e283aff85284972\")>>\n",
      "<bound method WebDriver.get of <selenium.webdriver.chrome.webdriver.WebDriver (session=\"710ef9f18064dcbf844b6a4f5a8bd164\")>>\n",
      "<bound method WebDriver.get of <selenium.webdriver.chrome.webdriver.WebDriver (session=\"e1a4589109f8934cf73244fd6dd6c88f\")>>\n",
      "<bound method WebDriver.get of <selenium.webdriver.chrome.webdriver.WebDriver (session=\"cc40f77eb83bc7979dc80ac3b2345242\")>>\n",
      "<bound method WebDriver.get of <selenium.webdriver.chrome.webdriver.WebDriver (session=\"c0e22a6925903ce291dd200b6eee7edd\")>>\n",
      "<bound method WebDriver.get of <selenium.webdriver.chrome.webdriver.WebDriver (session=\"f1ccf27a789bfefcbafe9adfd50b05ae\")>>\n",
      "<bound method WebDriver.get of <selenium.webdriver.chrome.webdriver.WebDriver (session=\"c49b578865f9a068d9d438e7da19edd3\")>>\n",
      "<bound method WebDriver.get of <selenium.webdriver.chrome.webdriver.WebDriver (session=\"901a7c698c804418237c378b78f05fdb\")>>\n",
      "<bound method WebDriver.get of <selenium.webdriver.chrome.webdriver.WebDriver (session=\"ee0f9a349b8ac45c5711d1b4c2dbf464\")>>\n",
      "<bound method WebDriver.get of <selenium.webdriver.chrome.webdriver.WebDriver (session=\"7e04591f60b0b4c7ed961abb596ad0d1\")>>\n",
      "<bound method WebDriver.get of <selenium.webdriver.chrome.webdriver.WebDriver (session=\"0657045e60f4077ce385bdd1cf79da91\")>>\n",
      "<bound method WebDriver.get of <selenium.webdriver.chrome.webdriver.WebDriver (session=\"1df809bd390f09c12cc3db94ae045511\")>>\n",
      "<bound method WebDriver.get of <selenium.webdriver.chrome.webdriver.WebDriver (session=\"58c600495f0bb2b9cd74dafb171fa14e\")>>\n",
      "<bound method WebDriver.get of <selenium.webdriver.chrome.webdriver.WebDriver (session=\"87111535e33be5e5ebd09b1f7aa0c6c7\")>>\n"
     ]
    },
    {
     "name": "stdout",
     "output_type": "stream",
     "text": [
      "<bound method WebDriver.get of <selenium.webdriver.chrome.webdriver.WebDriver (session=\"6fb602b5ea03a0b1ea707a7d64a1882e\")>>\n",
      "<bound method WebDriver.get of <selenium.webdriver.chrome.webdriver.WebDriver (session=\"9e40a21d58e1141cd1f140d57a8ea834\")>>\n",
      "<bound method WebDriver.get of <selenium.webdriver.chrome.webdriver.WebDriver (session=\"c78290557db01ecf5c02457d1d55ffd5\")>>\n",
      "<bound method WebDriver.get of <selenium.webdriver.chrome.webdriver.WebDriver (session=\"108e05e1af118f3561d83a76eb75a875\")>>\n",
      "<bound method WebDriver.get of <selenium.webdriver.chrome.webdriver.WebDriver (session=\"70dd0a0a66769ceb6bc0e7b174466356\")>>\n",
      "<bound method WebDriver.get of <selenium.webdriver.chrome.webdriver.WebDriver (session=\"f55aa59f9aba32cd41de76c2e9c9e4c9\")>>\n",
      "<bound method WebDriver.get of <selenium.webdriver.chrome.webdriver.WebDriver (session=\"a79e9ca7795641f76e660a31976d373d\")>>\n",
      "<bound method WebDriver.get of <selenium.webdriver.chrome.webdriver.WebDriver (session=\"087f51cef37995bc3be5511de7834af6\")>>\n",
      "<bound method WebDriver.get of <selenium.webdriver.chrome.webdriver.WebDriver (session=\"2a4d86b871c7f5cec5f9f8928e9942d2\")>>\n",
      "<bound method WebDriver.get of <selenium.webdriver.chrome.webdriver.WebDriver (session=\"2f21ade2f0b3a9176377fb6ce249efe3\")>>\n",
      "<bound method WebDriver.get of <selenium.webdriver.chrome.webdriver.WebDriver (session=\"25d7bf8347bf80ee2694b230cbf538fd\")>>\n",
      "<bound method WebDriver.get of <selenium.webdriver.chrome.webdriver.WebDriver (session=\"74d9d3cac7965c182c09da019c5acb03\")>>\n",
      "<bound method WebDriver.get of <selenium.webdriver.chrome.webdriver.WebDriver (session=\"fc07a4076b430675f73291f28112d0a4\")>>\n",
      "<bound method WebDriver.get of <selenium.webdriver.chrome.webdriver.WebDriver (session=\"47bb84e776e0a00edf2a78ca82e9fc77\")>>\n",
      "<bound method WebDriver.get of <selenium.webdriver.chrome.webdriver.WebDriver (session=\"e2f53d80679d1a3442c5f6adea61540f\")>>\n",
      "<bound method WebDriver.get of <selenium.webdriver.chrome.webdriver.WebDriver (session=\"f4d7ce749f4de39e66600f9974454cea\")>>\n",
      "<bound method WebDriver.get of <selenium.webdriver.chrome.webdriver.WebDriver (session=\"9475d9dfc7d2f16885ae2f20d4df40fa\")>>\n",
      "<bound method WebDriver.get of <selenium.webdriver.chrome.webdriver.WebDriver (session=\"0ebcad92da84aac1bb7b674196412cb7\")>>\n",
      "<bound method WebDriver.get of <selenium.webdriver.chrome.webdriver.WebDriver (session=\"92a515b56454866c179b8dd24e893273\")>>\n",
      "<bound method WebDriver.get of <selenium.webdriver.chrome.webdriver.WebDriver (session=\"7070febbd574080be91a6cf3191b2974\")>>\n",
      "<bound method WebDriver.get of <selenium.webdriver.chrome.webdriver.WebDriver (session=\"12c42e984f81ff06f777f8d79c5bbe5d\")>>\n",
      "<bound method WebDriver.get of <selenium.webdriver.chrome.webdriver.WebDriver (session=\"4445b6830d02c2d098cea05be88f5f4e\")>>\n",
      "<bound method WebDriver.get of <selenium.webdriver.chrome.webdriver.WebDriver (session=\"4120ecb45ac196785bd7492d4d1a1072\")>>\n",
      "<bound method WebDriver.get of <selenium.webdriver.chrome.webdriver.WebDriver (session=\"dc4f5be3e1f23936bff2deb64a8d48ff\")>>\n",
      "<bound method WebDriver.get of <selenium.webdriver.chrome.webdriver.WebDriver (session=\"30f9c0568e80d7d4a8a522edac4eacea\")>>\n",
      "<bound method WebDriver.get of <selenium.webdriver.chrome.webdriver.WebDriver (session=\"332fdb03d65afe6904a1c88a325ce1f5\")>>\n",
      "<bound method WebDriver.get of <selenium.webdriver.chrome.webdriver.WebDriver (session=\"9db639f40736dce247e3b28c1bb26749\")>>\n",
      "<bound method WebDriver.get of <selenium.webdriver.chrome.webdriver.WebDriver (session=\"a80c346d9f62f88a62f86bfa01c4db93\")>>\n",
      "<bound method WebDriver.get of <selenium.webdriver.chrome.webdriver.WebDriver (session=\"c262a851099a24488b30c472ed11ebbd\")>>\n",
      "<bound method WebDriver.get of <selenium.webdriver.chrome.webdriver.WebDriver (session=\"c63668cf36e0ebba3df196f46a010a85\")>>\n",
      "<bound method WebDriver.get of <selenium.webdriver.chrome.webdriver.WebDriver (session=\"9d2eda01ce226986b2dfcc3a3fedcc4c\")>>\n",
      "<bound method WebDriver.get of <selenium.webdriver.chrome.webdriver.WebDriver (session=\"6c9db62ee6f056025065f405a0e0bc28\")>>\n",
      "<bound method WebDriver.get of <selenium.webdriver.chrome.webdriver.WebDriver (session=\"4cc899cf2bc9c3c8f66e193c71d48a2c\")>>\n",
      "<bound method WebDriver.get of <selenium.webdriver.chrome.webdriver.WebDriver (session=\"6c2a2d7417c5070f85a896551c8ae581\")>>\n",
      "<bound method WebDriver.get of <selenium.webdriver.chrome.webdriver.WebDriver (session=\"52a550a1eb32efea397d3c6867f3bf2b\")>>\n",
      "<bound method WebDriver.get of <selenium.webdriver.chrome.webdriver.WebDriver (session=\"f33069f97d7c8ba93556eb6c131372bf\")>>\n",
      "<bound method WebDriver.get of <selenium.webdriver.chrome.webdriver.WebDriver (session=\"fa7e83608660e42c1b4fbbbce435d0b6\")>>\n",
      "<bound method WebDriver.get of <selenium.webdriver.chrome.webdriver.WebDriver (session=\"6db9d68fa9e2787b0b07ff5d08f10357\")>>\n",
      "<bound method WebDriver.get of <selenium.webdriver.chrome.webdriver.WebDriver (session=\"0d4d9c0945a24d0fceed920807345586\")>>\n",
      "<bound method WebDriver.get of <selenium.webdriver.chrome.webdriver.WebDriver (session=\"69c7659eb2a3429f9a3928a4f774e03f\")>>\n",
      "<bound method WebDriver.get of <selenium.webdriver.chrome.webdriver.WebDriver (session=\"b4f3759b2f151f5f002fba702f3ea61f\")>>\n",
      "<bound method WebDriver.get of <selenium.webdriver.chrome.webdriver.WebDriver (session=\"c26f9c4eb5dd32ae230aa86e05d6dfe2\")>>\n",
      "<bound method WebDriver.get of <selenium.webdriver.chrome.webdriver.WebDriver (session=\"65fb8c5ac75d0f430fefed8950f2fc5b\")>>\n",
      "<bound method WebDriver.get of <selenium.webdriver.chrome.webdriver.WebDriver (session=\"47ca7674c46013913858ae35b7f9af3d\")>>\n",
      "<bound method WebDriver.get of <selenium.webdriver.chrome.webdriver.WebDriver (session=\"a41c901329a255a42b00f286b39f63f7\")>>\n",
      "<bound method WebDriver.get of <selenium.webdriver.chrome.webdriver.WebDriver (session=\"f33c371a31d107c3550445ceba82712e\")>>\n",
      "<bound method WebDriver.get of <selenium.webdriver.chrome.webdriver.WebDriver (session=\"c29728056ef70ebeb84380707c9ef568\")>>\n",
      "<bound method WebDriver.get of <selenium.webdriver.chrome.webdriver.WebDriver (session=\"bd160652f2b8f9e69cba10e4091fbbc3\")>>\n",
      "<bound method WebDriver.get of <selenium.webdriver.chrome.webdriver.WebDriver (session=\"63afb33815240be541d9329e12f9136b\")>>\n",
      "<bound method WebDriver.get of <selenium.webdriver.chrome.webdriver.WebDriver (session=\"912fd644b6a654f7b6959b5b886d5214\")>>\n",
      "<bound method WebDriver.get of <selenium.webdriver.chrome.webdriver.WebDriver (session=\"d77cbb6a131e8bbe957aad473b262969\")>>\n",
      "<bound method WebDriver.get of <selenium.webdriver.chrome.webdriver.WebDriver (session=\"0cce681ec0014b86d2f3d9d075f3af98\")>>\n",
      "<bound method WebDriver.get of <selenium.webdriver.chrome.webdriver.WebDriver (session=\"53491fbc22c9910ee2325b541faa946e\")>>\n",
      "<bound method WebDriver.get of <selenium.webdriver.chrome.webdriver.WebDriver (session=\"fa72f5ef818f595fe764e63922bc2fc2\")>>\n",
      "<bound method WebDriver.get of <selenium.webdriver.chrome.webdriver.WebDriver (session=\"47b40068b2722a15510f2bb5bc0c2ab6\")>>\n",
      "<bound method WebDriver.get of <selenium.webdriver.chrome.webdriver.WebDriver (session=\"2d58a5ea310a00272071c54f3b34b004\")>>\n",
      "<bound method WebDriver.get of <selenium.webdriver.chrome.webdriver.WebDriver (session=\"fd92c0d01bf94b263d075ad93384c772\")>>\n",
      "<bound method WebDriver.get of <selenium.webdriver.chrome.webdriver.WebDriver (session=\"ef3a94ecb6b2f4dc6c6728d90c20ab24\")>>\n",
      "<bound method WebDriver.get of <selenium.webdriver.chrome.webdriver.WebDriver (session=\"0808b68467f69739fbf84230c8d02269\")>>\n",
      "<bound method WebDriver.get of <selenium.webdriver.chrome.webdriver.WebDriver (session=\"2c286eeafa47d218568dd34f3c646dba\")>>\n",
      "<bound method WebDriver.get of <selenium.webdriver.chrome.webdriver.WebDriver (session=\"2aa122b893ece896f4c7d3b5a4078be6\")>>\n",
      "<bound method WebDriver.get of <selenium.webdriver.chrome.webdriver.WebDriver (session=\"4e354b64c7317c5820dfe5c474236b5b\")>>\n",
      "<bound method WebDriver.get of <selenium.webdriver.chrome.webdriver.WebDriver (session=\"ebd7a90ecfdbcc27f8fa5e9fda333268\")>>\n",
      "<bound method WebDriver.get of <selenium.webdriver.chrome.webdriver.WebDriver (session=\"0d80f889941b0bd99e22a38d87c47ab1\")>>\n",
      "<bound method WebDriver.get of <selenium.webdriver.chrome.webdriver.WebDriver (session=\"3ed4f1f78e12b6fb445c8d8865f890d9\")>>\n",
      "<bound method WebDriver.get of <selenium.webdriver.chrome.webdriver.WebDriver (session=\"b29692a581b951f564d9f65bc9b1bc9f\")>>\n"
     ]
    },
    {
     "name": "stdout",
     "output_type": "stream",
     "text": [
      "<bound method WebDriver.get of <selenium.webdriver.chrome.webdriver.WebDriver (session=\"e401b6ef413db061a8c094cbd080acb1\")>>\n",
      "<bound method WebDriver.get of <selenium.webdriver.chrome.webdriver.WebDriver (session=\"6a6606334f9b4dd97bb9493e454ae917\")>>\n",
      "<bound method WebDriver.get of <selenium.webdriver.chrome.webdriver.WebDriver (session=\"d8e51e7cfcd35b8a4b0240ca4a393ac4\")>>\n",
      "<bound method WebDriver.get of <selenium.webdriver.chrome.webdriver.WebDriver (session=\"2b414f6a74ebc9be20d821b008962c7f\")>>\n",
      "<bound method WebDriver.get of <selenium.webdriver.chrome.webdriver.WebDriver (session=\"f82510661b568d8ed29199fc7f262a50\")>>\n",
      "<bound method WebDriver.get of <selenium.webdriver.chrome.webdriver.WebDriver (session=\"a684b55e2b87a805f5d3fecf61d5cd4f\")>>\n",
      "<bound method WebDriver.get of <selenium.webdriver.chrome.webdriver.WebDriver (session=\"20770615e66855cf1459b2c596ae5f19\")>>\n",
      "<bound method WebDriver.get of <selenium.webdriver.chrome.webdriver.WebDriver (session=\"0595515ef3ada5ac7678c1f4c9c7e507\")>>\n",
      "<bound method WebDriver.get of <selenium.webdriver.chrome.webdriver.WebDriver (session=\"82a46f4b0098f9118024f81faace72b5\")>>\n",
      "<bound method WebDriver.get of <selenium.webdriver.chrome.webdriver.WebDriver (session=\"fc6fe57d9699e602a61d5b9f3ead4432\")>>\n",
      "<bound method WebDriver.get of <selenium.webdriver.chrome.webdriver.WebDriver (session=\"0f0655650f31b70064a79c312f2933ef\")>>\n",
      "<bound method WebDriver.get of <selenium.webdriver.chrome.webdriver.WebDriver (session=\"ebe30f9bd1e4b6fa69b3ed16c6112ef5\")>>\n",
      "<bound method WebDriver.get of <selenium.webdriver.chrome.webdriver.WebDriver (session=\"4ddb3d0b308ddefa98264f757ed23d4e\")>>\n",
      "<bound method WebDriver.get of <selenium.webdriver.chrome.webdriver.WebDriver (session=\"cc5177c7fdbc1296ad596df5655b57e3\")>>\n",
      "<bound method WebDriver.get of <selenium.webdriver.chrome.webdriver.WebDriver (session=\"f9cbfede49d87bf342eea6d11c49011e\")>>\n",
      "<bound method WebDriver.get of <selenium.webdriver.chrome.webdriver.WebDriver (session=\"b746a9adfe60987de67b6beaf24a3a8d\")>>\n",
      "<bound method WebDriver.get of <selenium.webdriver.chrome.webdriver.WebDriver (session=\"a7eafa85c5a6c002bfb60e33d3071002\")>>\n",
      "<bound method WebDriver.get of <selenium.webdriver.chrome.webdriver.WebDriver (session=\"0531250debc201c4861acc3686a6ae62\")>>\n",
      "<bound method WebDriver.get of <selenium.webdriver.chrome.webdriver.WebDriver (session=\"06cc05c4f6b6e36a9c3866ce07a2c617\")>>\n",
      "<bound method WebDriver.get of <selenium.webdriver.chrome.webdriver.WebDriver (session=\"7f5a60fca7d58071cb9ba5a7e9c62393\")>>\n",
      "<bound method WebDriver.get of <selenium.webdriver.chrome.webdriver.WebDriver (session=\"cd863f89412f774a9431b23a98413ee8\")>>\n",
      "<bound method WebDriver.get of <selenium.webdriver.chrome.webdriver.WebDriver (session=\"e230edbad6033814bb36bac022f7dce5\")>>\n",
      "<bound method WebDriver.get of <selenium.webdriver.chrome.webdriver.WebDriver (session=\"073fb9acb809d84187aad2ddaecf9855\")>>\n",
      "<bound method WebDriver.get of <selenium.webdriver.chrome.webdriver.WebDriver (session=\"81957c75917e282cdd878e0320a55d9e\")>>\n",
      "<bound method WebDriver.get of <selenium.webdriver.chrome.webdriver.WebDriver (session=\"1be8b896b3cefc839890496ed63cd459\")>>\n",
      "<bound method WebDriver.get of <selenium.webdriver.chrome.webdriver.WebDriver (session=\"0ff8c8777372f470aee53d8986e49352\")>>\n",
      "<bound method WebDriver.get of <selenium.webdriver.chrome.webdriver.WebDriver (session=\"4a62f1e402b97a804b8f12e1bbc22751\")>>\n",
      "<bound method WebDriver.get of <selenium.webdriver.chrome.webdriver.WebDriver (session=\"04d8cc25088b5a51df945498287f5199\")>>\n",
      "<bound method WebDriver.get of <selenium.webdriver.chrome.webdriver.WebDriver (session=\"dc1def2027c2fa2f8d5631057aabc317\")>>\n",
      "<bound method WebDriver.get of <selenium.webdriver.chrome.webdriver.WebDriver (session=\"ffcf3faa3cb1e7fd9aef0c47d982949e\")>>\n",
      "<bound method WebDriver.get of <selenium.webdriver.chrome.webdriver.WebDriver (session=\"719baa4749ee4a95948fda08c1a3b94d\")>>\n",
      "<bound method WebDriver.get of <selenium.webdriver.chrome.webdriver.WebDriver (session=\"231197fcb9fc1f19e4c8357f3c0d8466\")>>\n",
      "<bound method WebDriver.get of <selenium.webdriver.chrome.webdriver.WebDriver (session=\"edf16b01fabcf9274fd079b0274c9995\")>>\n",
      "<bound method WebDriver.get of <selenium.webdriver.chrome.webdriver.WebDriver (session=\"86e3e63ac837fd1855b7999a268c39a8\")>>\n",
      "<bound method WebDriver.get of <selenium.webdriver.chrome.webdriver.WebDriver (session=\"40106592b5bbaf5635fbc6d794cd11d5\")>>\n",
      "<bound method WebDriver.get of <selenium.webdriver.chrome.webdriver.WebDriver (session=\"abd4f2b4d4e720c95628c1461a69368c\")>>\n",
      "<bound method WebDriver.get of <selenium.webdriver.chrome.webdriver.WebDriver (session=\"73293dd84e5d0b1550fe1ad7237bed92\")>>\n",
      "<bound method WebDriver.get of <selenium.webdriver.chrome.webdriver.WebDriver (session=\"a421725f8280092cb648ffb35e340a85\")>>\n",
      "<bound method WebDriver.get of <selenium.webdriver.chrome.webdriver.WebDriver (session=\"7b4de925dab92324bb80da47ebda15c4\")>>\n",
      "<bound method WebDriver.get of <selenium.webdriver.chrome.webdriver.WebDriver (session=\"3f639ee4b6d9308a750a77d4c9a364d9\")>>\n",
      "<bound method WebDriver.get of <selenium.webdriver.chrome.webdriver.WebDriver (session=\"73c649c71b89eb5044f52c2e1d66e1c6\")>>\n",
      "<bound method WebDriver.get of <selenium.webdriver.chrome.webdriver.WebDriver (session=\"7fc6c5643383235a9c28b4f35b4ccb59\")>>\n",
      "<bound method WebDriver.get of <selenium.webdriver.chrome.webdriver.WebDriver (session=\"1dd67da83efda63987d6e3ed9450b720\")>>\n",
      "<bound method WebDriver.get of <selenium.webdriver.chrome.webdriver.WebDriver (session=\"a9a9a1b11eff0d66ba9f7b042aa570f9\")>>\n",
      "<bound method WebDriver.get of <selenium.webdriver.chrome.webdriver.WebDriver (session=\"ec75e1697b11d80a6269b61701902357\")>>\n",
      "<bound method WebDriver.get of <selenium.webdriver.chrome.webdriver.WebDriver (session=\"b69562266a975c27a8f1871ffdb71da4\")>>\n",
      "<bound method WebDriver.get of <selenium.webdriver.chrome.webdriver.WebDriver (session=\"61fbc8b997d3681c1769a320e95d4868\")>>\n",
      "<bound method WebDriver.get of <selenium.webdriver.chrome.webdriver.WebDriver (session=\"32b558f2c9931d9ccba18fbd1201f660\")>>\n",
      "<bound method WebDriver.get of <selenium.webdriver.chrome.webdriver.WebDriver (session=\"9fb9a5314901b3db2b071f59950f1778\")>>\n",
      "<bound method WebDriver.get of <selenium.webdriver.chrome.webdriver.WebDriver (session=\"9a6c748b68b07c9b9c49ee3c6cb450c7\")>>\n",
      "<bound method WebDriver.get of <selenium.webdriver.chrome.webdriver.WebDriver (session=\"911b56d6b7c98df2d339759a34121736\")>>\n",
      "<bound method WebDriver.get of <selenium.webdriver.chrome.webdriver.WebDriver (session=\"b38ad234b9452d007acab58a393320d7\")>>\n",
      "<bound method WebDriver.get of <selenium.webdriver.chrome.webdriver.WebDriver (session=\"06a04fd5b4ce28ba9e3e2a88c809164b\")>>\n",
      "<bound method WebDriver.get of <selenium.webdriver.chrome.webdriver.WebDriver (session=\"2b29adf71e1d9ef563a83df010f81e42\")>>\n",
      "<bound method WebDriver.get of <selenium.webdriver.chrome.webdriver.WebDriver (session=\"6310f44d88eb9af23a976905194fd261\")>>\n",
      "<bound method WebDriver.get of <selenium.webdriver.chrome.webdriver.WebDriver (session=\"86ce769c19c68a31351e6c011a797902\")>>\n",
      "<bound method WebDriver.get of <selenium.webdriver.chrome.webdriver.WebDriver (session=\"1679a460722975db65c66e8ebfe3a186\")>>\n",
      "<bound method WebDriver.get of <selenium.webdriver.chrome.webdriver.WebDriver (session=\"3ab751d4b78f4c4a051290ff39de9837\")>>\n",
      "<bound method WebDriver.get of <selenium.webdriver.chrome.webdriver.WebDriver (session=\"46036eb6651d54d84b82020cb3776b9b\")>>\n",
      "<bound method WebDriver.get of <selenium.webdriver.chrome.webdriver.WebDriver (session=\"651da28f7fe1e002bcceb22e6bed037e\")>>\n",
      "<bound method WebDriver.get of <selenium.webdriver.chrome.webdriver.WebDriver (session=\"29c9d7615c81acfc9a5058a4d6ee7c12\")>>\n",
      "<bound method WebDriver.get of <selenium.webdriver.chrome.webdriver.WebDriver (session=\"726f593c0180ee5eb357d4bc2fe3c8c3\")>>\n",
      "<bound method WebDriver.get of <selenium.webdriver.chrome.webdriver.WebDriver (session=\"081d23daf58f5fd7f31fe68de547abbe\")>>\n",
      "<bound method WebDriver.get of <selenium.webdriver.chrome.webdriver.WebDriver (session=\"237d5106d7e2c28c47747fda73622337\")>>\n",
      "<bound method WebDriver.get of <selenium.webdriver.chrome.webdriver.WebDriver (session=\"33c8da7974fc9a698cd88a5e0d616dc8\")>>\n",
      "<bound method WebDriver.get of <selenium.webdriver.chrome.webdriver.WebDriver (session=\"7fa58b50089a2cf3ea9e5a3cf6c0760c\")>>\n"
     ]
    },
    {
     "name": "stdout",
     "output_type": "stream",
     "text": [
      "<bound method WebDriver.get of <selenium.webdriver.chrome.webdriver.WebDriver (session=\"2aa6a129e31da4e308be678f5ff634f5\")>>\n",
      "<bound method WebDriver.get of <selenium.webdriver.chrome.webdriver.WebDriver (session=\"23fd969b8a0b14dbe4250612ffb267aa\")>>\n",
      "<bound method WebDriver.get of <selenium.webdriver.chrome.webdriver.WebDriver (session=\"987763b175bcf2e2483e68909b1ed82c\")>>\n",
      "<bound method WebDriver.get of <selenium.webdriver.chrome.webdriver.WebDriver (session=\"58a1ec32b88b3e0a8f392602f368f8b1\")>>\n",
      "<bound method WebDriver.get of <selenium.webdriver.chrome.webdriver.WebDriver (session=\"c150d73e5c2538cb238b58ddeb0277d9\")>>\n",
      "<bound method WebDriver.get of <selenium.webdriver.chrome.webdriver.WebDriver (session=\"cccfea4421c3d74eba32e1ecfd92641a\")>>\n",
      "<bound method WebDriver.get of <selenium.webdriver.chrome.webdriver.WebDriver (session=\"01605a4c9ee56b6ed5366bd0003f1b80\")>>\n",
      "<bound method WebDriver.get of <selenium.webdriver.chrome.webdriver.WebDriver (session=\"0c3660ce2522a98706112e14e775e1c2\")>>\n",
      "<bound method WebDriver.get of <selenium.webdriver.chrome.webdriver.WebDriver (session=\"d46c97b974593d934366709784f9ac78\")>>\n",
      "<bound method WebDriver.get of <selenium.webdriver.chrome.webdriver.WebDriver (session=\"dc2fbbfdd99864ac1923890eef844c5c\")>>\n",
      "<bound method WebDriver.get of <selenium.webdriver.chrome.webdriver.WebDriver (session=\"4e6b836d48b4a89b678ec81409e06229\")>>\n",
      "<bound method WebDriver.get of <selenium.webdriver.chrome.webdriver.WebDriver (session=\"e5818bd29d97d0b3fa6ef76c01ea9ed9\")>>\n",
      "<bound method WebDriver.get of <selenium.webdriver.chrome.webdriver.WebDriver (session=\"5b645158a45b63525922644d05c9b60b\")>>\n",
      "<bound method WebDriver.get of <selenium.webdriver.chrome.webdriver.WebDriver (session=\"2315f5e25b7e2ec216ba41c2746a2601\")>>\n",
      "<bound method WebDriver.get of <selenium.webdriver.chrome.webdriver.WebDriver (session=\"3561b8aec61f280c47fe70f13a09ac0a\")>>\n",
      "<bound method WebDriver.get of <selenium.webdriver.chrome.webdriver.WebDriver (session=\"c34c603939c33af4c9806d3b2d2b5810\")>>\n",
      "<bound method WebDriver.get of <selenium.webdriver.chrome.webdriver.WebDriver (session=\"242497ac62fe43b660abcc9e0b670301\")>>\n",
      "<bound method WebDriver.get of <selenium.webdriver.chrome.webdriver.WebDriver (session=\"ed2549e6f4ab6752199782abc4163839\")>>\n",
      "<bound method WebDriver.get of <selenium.webdriver.chrome.webdriver.WebDriver (session=\"ce76fe256cbd2b6ffbffbcf801ffc371\")>>\n",
      "<bound method WebDriver.get of <selenium.webdriver.chrome.webdriver.WebDriver (session=\"88d55c1d542268ea8fc07897e25590ef\")>>\n",
      "<bound method WebDriver.get of <selenium.webdriver.chrome.webdriver.WebDriver (session=\"4d1d36c75ffaad853c150e02b7e0294e\")>>\n",
      "<bound method WebDriver.get of <selenium.webdriver.chrome.webdriver.WebDriver (session=\"3c9cab309757e2ccd9b3c7eaa8e4b5f8\")>>\n",
      "<bound method WebDriver.get of <selenium.webdriver.chrome.webdriver.WebDriver (session=\"04f3c4ab69fdfb4d364b80bac57795f1\")>>\n",
      "<bound method WebDriver.get of <selenium.webdriver.chrome.webdriver.WebDriver (session=\"ded9d2db9135013c9968a2b51a1f9c91\")>>\n",
      "<bound method WebDriver.get of <selenium.webdriver.chrome.webdriver.WebDriver (session=\"09cc54ddbd6b7c82c4faaff968db023a\")>>\n",
      "<bound method WebDriver.get of <selenium.webdriver.chrome.webdriver.WebDriver (session=\"340a68c291d6cba6e7cb3fbe8b7f397a\")>>\n",
      "<bound method WebDriver.get of <selenium.webdriver.chrome.webdriver.WebDriver (session=\"1fad86c4ba543d6fb724be71b31829e1\")>>\n",
      "<bound method WebDriver.get of <selenium.webdriver.chrome.webdriver.WebDriver (session=\"78456f56fb1fecf8b8990436af684330\")>>\n",
      "<bound method WebDriver.get of <selenium.webdriver.chrome.webdriver.WebDriver (session=\"7ee53c1502aea9e5872cfea6c48d2643\")>>\n",
      "<bound method WebDriver.get of <selenium.webdriver.chrome.webdriver.WebDriver (session=\"60e1d388c5cee26c56c109d6347ebb90\")>>\n",
      "<bound method WebDriver.get of <selenium.webdriver.chrome.webdriver.WebDriver (session=\"d1c05bc764dc91bcafe0cffef5b3861c\")>>\n",
      "<bound method WebDriver.get of <selenium.webdriver.chrome.webdriver.WebDriver (session=\"c38915ec7da626e6b2377145356b8f9f\")>>\n",
      "<bound method WebDriver.get of <selenium.webdriver.chrome.webdriver.WebDriver (session=\"80895f3fc1debcb7f77c0eb557065b95\")>>\n",
      "<bound method WebDriver.get of <selenium.webdriver.chrome.webdriver.WebDriver (session=\"e21b56b55f1a5d3959db4dc86deabea9\")>>\n",
      "<bound method WebDriver.get of <selenium.webdriver.chrome.webdriver.WebDriver (session=\"e38f34b6b1d8a7ead91be0fb25eb12fe\")>>\n",
      "<bound method WebDriver.get of <selenium.webdriver.chrome.webdriver.WebDriver (session=\"50949d53b72624cff1621c8cd61a79b2\")>>\n",
      "<bound method WebDriver.get of <selenium.webdriver.chrome.webdriver.WebDriver (session=\"32dfdd769a4847ea2900774096f56114\")>>\n",
      "<bound method WebDriver.get of <selenium.webdriver.chrome.webdriver.WebDriver (session=\"04b17d220affe80cdbb2775bfa9b7e3f\")>>\n",
      "<bound method WebDriver.get of <selenium.webdriver.chrome.webdriver.WebDriver (session=\"72f7bc6392366fb47d3f6a751602658b\")>>\n",
      "<bound method WebDriver.get of <selenium.webdriver.chrome.webdriver.WebDriver (session=\"672b47788ab3cb38ac45829e5fc6fc71\")>>\n",
      "<bound method WebDriver.get of <selenium.webdriver.chrome.webdriver.WebDriver (session=\"16671396837b4ff2774a280cb276a22f\")>>\n",
      "<bound method WebDriver.get of <selenium.webdriver.chrome.webdriver.WebDriver (session=\"d6816213cac3f951791081ea303972ac\")>>\n",
      "<bound method WebDriver.get of <selenium.webdriver.chrome.webdriver.WebDriver (session=\"a59a54e31a679e5f8f1a1e552dccd18b\")>>\n",
      "<bound method WebDriver.get of <selenium.webdriver.chrome.webdriver.WebDriver (session=\"288bd0f69d476b448392b9659d5c479a\")>>\n",
      "<bound method WebDriver.get of <selenium.webdriver.chrome.webdriver.WebDriver (session=\"6e0908ac49fd9a802bb29763626aeffb\")>>\n",
      "<bound method WebDriver.get of <selenium.webdriver.chrome.webdriver.WebDriver (session=\"c8f3eeef1c7eb201d4162103fc2aed63\")>>\n",
      "<bound method WebDriver.get of <selenium.webdriver.chrome.webdriver.WebDriver (session=\"18a032a3868193f325ba438f39e4f9b6\")>>\n",
      "<bound method WebDriver.get of <selenium.webdriver.chrome.webdriver.WebDriver (session=\"a72456ddcef1960a082343ec07f74792\")>>\n",
      "<bound method WebDriver.get of <selenium.webdriver.chrome.webdriver.WebDriver (session=\"cb080a2e7db3f8b05287fefea5672ace\")>>\n",
      "<bound method WebDriver.get of <selenium.webdriver.chrome.webdriver.WebDriver (session=\"c5b32736f07ea309fee994456a452b34\")>>\n",
      "<bound method WebDriver.get of <selenium.webdriver.chrome.webdriver.WebDriver (session=\"76a4f92e7a4db8b1bb3a163835871521\")>>\n",
      "<bound method WebDriver.get of <selenium.webdriver.chrome.webdriver.WebDriver (session=\"2e6ed6f27dddf66bb959af4c8e88685f\")>>\n",
      "<bound method WebDriver.get of <selenium.webdriver.chrome.webdriver.WebDriver (session=\"0b13d7904562802ffddcdfe298e19545\")>>\n",
      "<bound method WebDriver.get of <selenium.webdriver.chrome.webdriver.WebDriver (session=\"412272e66c73897b935d8ca9c8170c1d\")>>\n",
      "<bound method WebDriver.get of <selenium.webdriver.chrome.webdriver.WebDriver (session=\"89118278e84d12803d82ac841581c017\")>>\n",
      "<bound method WebDriver.get of <selenium.webdriver.chrome.webdriver.WebDriver (session=\"ef92bfe804e8306bf060b50e88dc21c1\")>>\n",
      "<bound method WebDriver.get of <selenium.webdriver.chrome.webdriver.WebDriver (session=\"c3cd545ea486e09fe44cb7323907558f\")>>\n",
      "<bound method WebDriver.get of <selenium.webdriver.chrome.webdriver.WebDriver (session=\"32b28a46683e21cf18ea6f1ac87f3e4c\")>>\n",
      "<bound method WebDriver.get of <selenium.webdriver.chrome.webdriver.WebDriver (session=\"483e539dc5cde4cddcf0fb2b31127e2c\")>>\n",
      "<bound method WebDriver.get of <selenium.webdriver.chrome.webdriver.WebDriver (session=\"411ab11e4936c225aa4778bd6c94a073\")>>\n",
      "<bound method WebDriver.get of <selenium.webdriver.chrome.webdriver.WebDriver (session=\"966571c2f56ccf33a8b6b8e6d65e81f4\")>>\n",
      "<bound method WebDriver.get of <selenium.webdriver.chrome.webdriver.WebDriver (session=\"985d164787cf52b88c7e2a9d2a0f0ba3\")>>\n",
      "<bound method WebDriver.get of <selenium.webdriver.chrome.webdriver.WebDriver (session=\"cee533a4538e1b0517e600b1b3044186\")>>\n",
      "<bound method WebDriver.get of <selenium.webdriver.chrome.webdriver.WebDriver (session=\"32a9bec91b63a4815e3cb8a635230b9f\")>>\n",
      "<bound method WebDriver.get of <selenium.webdriver.chrome.webdriver.WebDriver (session=\"f63669680605ffa5f4045c64d3117dbf\")>>\n",
      "<bound method WebDriver.get of <selenium.webdriver.chrome.webdriver.WebDriver (session=\"9f5500fab2364524daac9e554d9965b4\")>>\n"
     ]
    },
    {
     "name": "stdout",
     "output_type": "stream",
     "text": [
      "<bound method WebDriver.get of <selenium.webdriver.chrome.webdriver.WebDriver (session=\"6ca5146b745f48c751c6f8d28e86a4b6\")>>\n",
      "<bound method WebDriver.get of <selenium.webdriver.chrome.webdriver.WebDriver (session=\"b625fdcbc48b284609279e73f8f6e32b\")>>\n",
      "<bound method WebDriver.get of <selenium.webdriver.chrome.webdriver.WebDriver (session=\"6858111109ab3c45ac920975247696cc\")>>\n",
      "<bound method WebDriver.get of <selenium.webdriver.chrome.webdriver.WebDriver (session=\"b91ff8a01809b5549144b57ec2f028cc\")>>\n",
      "<bound method WebDriver.get of <selenium.webdriver.chrome.webdriver.WebDriver (session=\"6a52754a622acaa2c22b1ba9a2317350\")>>\n",
      "<bound method WebDriver.get of <selenium.webdriver.chrome.webdriver.WebDriver (session=\"ac4a1e633f308a1095549c41bf7f2d7d\")>>\n",
      "<bound method WebDriver.get of <selenium.webdriver.chrome.webdriver.WebDriver (session=\"1dc78b3b1fbf54458bc4f199e171ec89\")>>\n",
      "<bound method WebDriver.get of <selenium.webdriver.chrome.webdriver.WebDriver (session=\"1e9f603c384a98d41ab5a5dbdc14961f\")>>\n",
      "<bound method WebDriver.get of <selenium.webdriver.chrome.webdriver.WebDriver (session=\"37c6a1871db6df4de0bea3c9ee7ee552\")>>\n",
      "<bound method WebDriver.get of <selenium.webdriver.chrome.webdriver.WebDriver (session=\"6aefa57a86373a67d0fbf2a75a027a96\")>>\n",
      "<bound method WebDriver.get of <selenium.webdriver.chrome.webdriver.WebDriver (session=\"1b20113bc03746ddf1111419e508f652\")>>\n",
      "<bound method WebDriver.get of <selenium.webdriver.chrome.webdriver.WebDriver (session=\"01a8dbe4ad85658692a79a4cbdf4c2af\")>>\n",
      "<bound method WebDriver.get of <selenium.webdriver.chrome.webdriver.WebDriver (session=\"3098126abb6fca0737cf46d9fddfcdb1\")>>\n",
      "<bound method WebDriver.get of <selenium.webdriver.chrome.webdriver.WebDriver (session=\"4a3b8a7f172d75cf82a00d164894a785\")>>\n",
      "<bound method WebDriver.get of <selenium.webdriver.chrome.webdriver.WebDriver (session=\"0a07725fde7db97edf10f948cc5a133a\")>>\n",
      "<bound method WebDriver.get of <selenium.webdriver.chrome.webdriver.WebDriver (session=\"9a8ed7f18ebad7143d8f96f0aaeec155\")>>\n",
      "<bound method WebDriver.get of <selenium.webdriver.chrome.webdriver.WebDriver (session=\"43f7ae141a46aa235f70592fa8e88231\")>>\n",
      "<bound method WebDriver.get of <selenium.webdriver.chrome.webdriver.WebDriver (session=\"0ad800e11c8941a3911f909b2c00d017\")>>\n",
      "<bound method WebDriver.get of <selenium.webdriver.chrome.webdriver.WebDriver (session=\"7f229103bd6b79ddda1f1d64e1e90108\")>>\n",
      "<bound method WebDriver.get of <selenium.webdriver.chrome.webdriver.WebDriver (session=\"fdd8992a00419d2b82e75c7bee07bd8c\")>>\n",
      "<bound method WebDriver.get of <selenium.webdriver.chrome.webdriver.WebDriver (session=\"e568155cfad5c5a49882302d2c62cb32\")>>\n",
      "<bound method WebDriver.get of <selenium.webdriver.chrome.webdriver.WebDriver (session=\"7a7b3f32c735bfcc1ab3a78b99eb3316\")>>\n",
      "<bound method WebDriver.get of <selenium.webdriver.chrome.webdriver.WebDriver (session=\"90fbb670adb2a827caa0afb1d31ef51d\")>>\n",
      "<bound method WebDriver.get of <selenium.webdriver.chrome.webdriver.WebDriver (session=\"62fe99f00fa3281a77cc8097e7230888\")>>\n",
      "<bound method WebDriver.get of <selenium.webdriver.chrome.webdriver.WebDriver (session=\"1d8a3add78288c1be55838b44c37a7a2\")>>\n",
      "<bound method WebDriver.get of <selenium.webdriver.chrome.webdriver.WebDriver (session=\"e4ef18720e06a0dbea86c994801afb0d\")>>\n",
      "<bound method WebDriver.get of <selenium.webdriver.chrome.webdriver.WebDriver (session=\"901919a1cdc638677734dbcc34dba457\")>>\n",
      "<bound method WebDriver.get of <selenium.webdriver.chrome.webdriver.WebDriver (session=\"baf64f9711983a264337aa0235456998\")>>\n",
      "<bound method WebDriver.get of <selenium.webdriver.chrome.webdriver.WebDriver (session=\"72d94f848357d90d3d99cd520d8c762e\")>>\n",
      "<bound method WebDriver.get of <selenium.webdriver.chrome.webdriver.WebDriver (session=\"29ca9e28c27fd246a0e8b773d7bb8579\")>>\n",
      "<bound method WebDriver.get of <selenium.webdriver.chrome.webdriver.WebDriver (session=\"c40d1b5847c00cd0f0e9a736ef3f481f\")>>\n",
      "<bound method WebDriver.get of <selenium.webdriver.chrome.webdriver.WebDriver (session=\"c0d1405224110f590c2744dd5b227105\")>>\n",
      "<bound method WebDriver.get of <selenium.webdriver.chrome.webdriver.WebDriver (session=\"7f9f8cc09953485704b0e9021ca93f6b\")>>\n",
      "<bound method WebDriver.get of <selenium.webdriver.chrome.webdriver.WebDriver (session=\"1579504b076a5f1220f25270a2cc8b9c\")>>\n",
      "<bound method WebDriver.get of <selenium.webdriver.chrome.webdriver.WebDriver (session=\"0f3fe5777ed1562b97b427365af31244\")>>\n",
      "<bound method WebDriver.get of <selenium.webdriver.chrome.webdriver.WebDriver (session=\"2576a634a7641cb00e79f2f2fb4ed509\")>>\n",
      "<bound method WebDriver.get of <selenium.webdriver.chrome.webdriver.WebDriver (session=\"3f28e4f03393d169d25be1479eadc9db\")>>\n",
      "<bound method WebDriver.get of <selenium.webdriver.chrome.webdriver.WebDriver (session=\"bd48dde4cb138d89086bc039e115ab5b\")>>\n",
      "<bound method WebDriver.get of <selenium.webdriver.chrome.webdriver.WebDriver (session=\"459558b2a61fa5292e8bdf9fcd051d7a\")>>\n",
      "<bound method WebDriver.get of <selenium.webdriver.chrome.webdriver.WebDriver (session=\"9c213d8502e7596fb595302845fc53af\")>>\n",
      "<bound method WebDriver.get of <selenium.webdriver.chrome.webdriver.WebDriver (session=\"d69beaf3b316e002ef66b11a70629c60\")>>\n",
      "<bound method WebDriver.get of <selenium.webdriver.chrome.webdriver.WebDriver (session=\"c36f57db241d5a06fbce27103699bc58\")>>\n",
      "<bound method WebDriver.get of <selenium.webdriver.chrome.webdriver.WebDriver (session=\"78c949f004b04e7782e7446ddcaa6344\")>>\n",
      "<bound method WebDriver.get of <selenium.webdriver.chrome.webdriver.WebDriver (session=\"64c51794f490ea7097be73d578d390f0\")>>\n"
     ]
    }
   ],
   "source": [
    "dict={}\n",
    "number = 1400  #크롤링하고자하는 블로그 글의 갯수\n",
    "for i in tqdm(range(300, number)): \n",
    "    # 글 띄우기\n",
    "    url = url_load['url'][i]\n",
    "    #print(url.split(\"logNo=\")[1])\n",
    "    driver = webdriver.Chrome(r\"D:\\Python\\TM\\drivers\\chromedriver.exe\")\n",
    "    driver.get(url)   # 글 띄우기\n",
    "    print(driver.get)\n",
    "     # 크롤링\n",
    "    time.sleep(1)\n",
    "    \n",
    "    try : \n",
    "        driver. switch_to.frame('mainFrame')\n",
    "\n",
    "        target_info = {}\n",
    "        # 제목 크롤링 시작\n",
    "        #tit = driver.find_element_by_css_selector(overlays)         # title\n",
    "        tit=driver.find_element(By.XPATH,'//meta[@property=\"og:title\"]')\n",
    "        #title = tit.text .get_attribute(\"\")\n",
    "        title = driver.find_element(By.XPATH,'//meta[@property=\"og:title\"]').get_attribute(\"content\")\n",
    "        # 에러나면 현재 크롬창 닫고 다음 글(i+1)로 이동\n",
    "\n",
    "        # 글쓴이 크롤링 시작                                 \n",
    "        #nick = driver.find_element_by_css_selector(overlays)         # nick\n",
    "        nick=driver.find_element(By.XPATH,'//meta[@property=\"naverblog:nickname\"]')\n",
    "        #nickname = nick.text\n",
    "        nickname = driver.find_element(By.XPATH,'//meta[@property=\"naverblog:nickname\"]').get_attribute(\"content\")\n",
    "\n",
    "        # 날짜 크롤링\n",
    "        datetime =url_load['date'][i]                              \n",
    "\n",
    "        # 내용 크롤링\n",
    "        # 네이버 블로그 포스팅 버전 1. #postViewArea\n",
    "        # 네이버 블로그 포스팅 버전 2. #post-view222566374177 > div > div > div.se-main-container \n",
    "        soups = BeautifulSoup(driver.page_source, \"lxml\") \n",
    "\n",
    "        if soups.find(\"div\", attrs={\"class\":\"se-main-container\"}):\n",
    "            contents = soups.find(\"div\", attrs={\"class\":\"se-main-container\"}).get_text()\n",
    "            contents = contents.replace(\"\\n\",\"\") #공백 제거\n",
    "\n",
    "        elif soups.find(\"div\", attrs={\"id\":\"postViewArea\"}):\n",
    "            contents = soups.find(\"div\", attrs={\"id\":\"postViewArea\"}).get_text()\n",
    "            contents = contents.replace(\"\\n\",\"\") \n",
    "        else:\n",
    "            contents =  \"네이버 블로그는 맞지만, 확인불가\"\n",
    "            \n",
    "    # 에러나면 현재 크롬창 닫고 다음 글(i+1)로 이동\n",
    "    except:\n",
    "        driver.close()\n",
    "        time.sleep(1)\n",
    "        continue\n",
    "    \n",
    "    # 중간,중간에 파일로 저장하기\n",
    "    if i% 30 == 0  or i% 50 == 0 or i%80 == 0:\n",
    "        # 판다스로 만들기\n",
    "        import pandas as pd\n",
    "        result_df = pd.DataFrame.from_dict(dict, 'index')\n",
    "\n",
    "        # 저장하기\n",
    "        result_df.to_excel(r\"D:\\Python\\TM\\TeamProject/watcha_6month1.xlsx\")\n",
    "        time.sleep(3)\n",
    "    \n",
    "    \n",
    "    # 글 하나는 target_info라는 딕셔너리에 담기게 되고,\n",
    "    target_info['title'] = title\n",
    "    target_info['nickname'] = nickname\n",
    "    target_info['datetime'] = datetime\n",
    "    target_info['content'] = contents    \n",
    "\n",
    "    # 각각의 글은 dict라는 딕셔너리에 담기게 됩니다.\n",
    "    dict[i] = target_info\n",
    "    time.sleep(1)\n",
    "        \n",
    "driver.close()        \n",
    "result_df = pd.DataFrame.from_dict(dict, 'index')\n",
    "\n",
    "\n",
    "\n",
    "# 저장하기\n",
    "result_df.to_excel(r\"D:\\Python\\TM\\TeamProject/watcha_6month1.xlsx\")\n"
   ]
  },
  {
   "cell_type": "code",
   "execution_count": 2,
   "metadata": {},
   "outputs": [],
   "source": [
    "from glob import glob\n",
    "def grabFileName(filename) :\n",
    "    \n",
    "    filetext = r\"D:\\Python\\TM\\TeamProject/\" + filename +\"*.xlsx\"\n",
    "    file_names = glob(filetext) #폴더 내의 모든 csv파일 목록을 불러온다\n",
    "    total = pd.DataFrame() #빈 데이터프레임 하나를 생성한다\n",
    "\n",
    "    for file_name in file_names:\n",
    "        temp = pd.read_excel(file_name) \n",
    "        total = pd.concat([total, temp]) #전체 데이터프레임에 추가하여 넣는다\n",
    "        \n",
    "    total=total.loc[:,['Unnamed: 0','title','nickname','datetime','content']]\n",
    "    total.to_excel(r\"D:\\Python\\TM\\TeamProject/\" + filename+ \"_all.xlsx\")"
   ]
  },
  {
   "cell_type": "code",
   "execution_count": 3,
   "metadata": {
    "colab": {
     "referenced_widgets": [
      "58838cef24194b70b6611da86a92c8e7"
     ]
    },
    "id": "xEMlzIBexPeA",
    "outputId": "26cd8ca1-58c4-47e2-939d-358024cabc8c"
   },
   "outputs": [],
   "source": [
    "grabFileName(\"watcha_6month\")"
   ]
  }
 ],
 "metadata": {
  "colab": {
   "collapsed_sections": [],
   "include_colab_link": true,
   "name": "Code1_네이버블로그_크롤링.ipynb",
   "provenance": [],
   "toc_visible": true
  },
  "kernelspec": {
   "display_name": "Python 3",
   "language": "python",
   "name": "python3"
  },
  "language_info": {
   "codemirror_mode": {
    "name": "ipython",
    "version": 3
   },
   "file_extension": ".py",
   "mimetype": "text/x-python",
   "name": "python",
   "nbconvert_exporter": "python",
   "pygments_lexer": "ipython3",
   "version": "3.8.8"
  }
 },
 "nbformat": 4,
 "nbformat_minor": 1
}
